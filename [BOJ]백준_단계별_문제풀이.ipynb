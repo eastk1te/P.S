{
  "nbformat": 4,
  "nbformat_minor": 0,
  "metadata": {
    "colab": {
      "name": "[BOJ]백준 단계별 문제풀이.ipynb",
      "provenance": [],
      "collapsed_sections": [
        "POAYGCfMe_0s",
        "SwNOozo2J2Qk",
        "4KG0dQ5_J5k_",
        "MFvDSJ8eJ5oh",
        "5PRfloDZHGiN",
        "RJEPK4fAmy0g",
        "OO5wyMwim069",
        "geO9_B3Nxcv-",
        "z4u_ewTjxc6g",
        "hd-9cFVbd81N",
        "Cdc6oGAHJ5wv",
        "jnw0s22-J5zm",
        "hHXqsq9RJ52V",
        "-WEujQslfvPc",
        "vrq2C5VCfz68",
        "p603LkoAf0Ys",
        "pUWGDTTDf0ed",
        "n12SANb4ewi1",
        "Sn6GYlulJ5rI",
        "zvtcqUZyJ5uA",
        "RVUMmYudeX57",
        "L635P9aDR41L",
        "d5l3XgZ3R41L",
        "KrC88VwzOnqU",
        "RU2opUjqOnym",
        "EwqY3vd9OoDo",
        "KkBtDD2GOoHJ",
        "sew12iTLOoKx",
        "ZZX1EwaLOoXw",
        "uwtGS2Q4Ooaz",
        "L2bGuKUUOoeb",
        "wBFPqXNuR8ne",
        "JjxDErpjR8ne",
        "AZNtoqizpQ2e",
        "u-5xqnR1pRSf",
        "mKjNyy4epRXc",
        "6twKfAmqpRnI",
        "ZDuE1-OipRq_",
        "-nM0HEDopRvK",
        "Z1B6hu9r5tXu",
        "iPOcMnv25tf1",
        "-muS8KkPIVzI",
        "PJXK_rZ8IVza",
        "Rq10se6eIfZD",
        "UaFH5L6zTDVu",
        "zu0qQkqvTDVz",
        "L3mEbN4iMdEM",
        "fGK6XiQ4MdHJ",
        "3LicNHImMdKU",
        "9zMkFXkfMdOm",
        "NTQ_ay5yTJtQ",
        "_GihlXpZv_jE",
        "2qYuBrbJv_px",
        "c1eqrUsLv_uC",
        "x8_IWrHDv_xZ",
        "G15IkQ6tv_1K",
        "PO8bT17Yv_4W",
        "cNNCoZ9jv_74",
        "WsfSoeVGv__n",
        "lwfJcPujwADW",
        "c8PuR2bJTJy-",
        "jpgz7y6-TJ2u",
        "0X43_siuI-1X",
        "ZY4ylPCUI_Dq",
        "Duha6a9WI_HA",
        "dWdByFb4I_M4",
        "RN4IB3xOI_QP",
        "X70TgeGFI_UZ",
        "oQWV6kNSTJ6F",
        "BJL-EjWYTJ6G",
        "LoeeUEld-pdv",
        "fejTVL9O-qAq",
        "ShBZYes9-qaR",
        "-SpkWNLb-qfk",
        "6x3o9khr-qju",
        "6j3SVCye-qnm",
        "lyIsmhkY-qrN",
        "UVqfa0yg-qu8",
        "5DWMXnz5-qyx",
        "jGmg1eS6-q7X",
        "FmRliO_U-rAZ",
        "DCZoYNiO-rRT",
        "9imIcdBH-rev",
        "hsMNobW4-gJP",
        "Np0R9kLF-gJi",
        "wfcJmLEqpU6T",
        "Hc6V32u4pVUa",
        "pNoCqLvepVX5",
        "PPg8gdeSpVbw",
        "meZqnuly1Ns1",
        "xKIhI97D1Ns-",
        "JLA5o1_kG4_y",
        "CO66sh-WEVOS",
        "pRqth93HG5Fp",
        "QD5eQtFaEU3c",
        "cYhC8xLCEU6x",
        "9oUY6nyKG5Cy",
        "yx3yQcgXEU9t",
        "gPapbiVAbmMj",
        "O-ZSdkmYbmRa",
        "ixkMO17DbmWw",
        "u9tipfTwbmbn",
        "XK9REonP1NwI",
        "ZPZhedpd1NwI",
        "HEGePEEYxsNm",
        "Zs31oUZxxsg7",
        "jXYx1DRXxsog",
        "2SovrMekxsrx",
        "8I05magqxsvh",
        "71RWUsr01OEe",
        "0IyI2TgT1OEf",
        "LTKckHu0U5FP",
        "mSQdGSmzU5J8",
        "14T3PZXwU5PO",
        "6XU-HwBjU5UD",
        "lh6uv54_bdBm",
        "F4l7j-IMbdBn",
        "qzTRR-kForE2",
        "tWj1_3nHorH0",
        "VvMq1AL7orKj",
        "C8-hqFACoskw",
        "bSoeQuPDosn7",
        "35U4FrTeosqy",
        "rKOdiegqolxT",
        "Jc_IjbKpL6wm",
        "vUcr9l-QBV2m",
        "rh9vFZIYBfGW",
        "mojqkuQlBfMe",
        "PkFTWJFFBZxw",
        "Xc2rVYZ1DWAq",
        "_jfJBLzSDWEK",
        "oPD8cNOfDWHz",
        "z02YtuKLBZ4I",
        "9htQLovxP2yg",
        "lZKH_zYO8WIc",
        "_YraW6oaPx0y",
        "eWsnwFm3PyO6",
        "YmNhCb79bUUH",
        "xkIriFz6cHx4",
        "x7YAB5ujcHx5",
        "kArAHccTng62",
        "nNO6sdMynhHy",
        "j-N-s25MnhQ7",
        "G3BQimBInbs_",
        "RU-6_5TfnbtA",
        "vBoQtJDu-l5f",
        "0FbEMSMz-mjc",
        "9uEH1xMj-mm9",
        "SVWsWXeW85B9",
        "XvFzDpYwA3KJ",
        "-WWSnBrXA39V",
        "D8oqXAX5A4VI",
        "0l8CJACU8_ZX",
        "994fZwS78_ZX",
        "J08dtKYX30yU",
        "BjBgQ5WJ302e",
        "YMKx3SBSevNQ",
        "Cm1OSu2SevNR",
        "-lMNyxheevNS",
        "W1bsY1TGewVw",
        "jz9aOmpkewVw",
        "sYf1TsbxnTUM",
        "YTYcjpPmy4pj",
        "Juei-roPnbMe",
        "WzwUHBI4pjsC",
        "n-jLje1Epjv5",
        "kg3C85P2pkCh",
        "sDfe3I8SCSLS",
        "LWZV-DNlCUci",
        "JzrdqUwXCVly",
        "9IktNkNQGUUH",
        "VOaWDLwIWXJf",
        "Zfx8md_duDzl",
        "BBOyONnAphxq",
        "cwLrxQzg0oRG",
        "NOcjjp8g0oUZ",
        "YoZ4CWbgRtfa",
        "uPXzp27pRtie",
        "NmN8u0qcRtlf",
        "rJALFDucRtoU",
        "PF-e7T96nF2u",
        "cAltWVGrnF7J",
        "rx4yoDQdzb1M",
        "GeLDsmu6zb5D",
        "QtKXQ-B6zb8r",
        "vzceFGcDmtrw",
        "0NWgir__mwGD",
        "7RWTIiPXmwI2",
        "RsNw0SxrmwLi",
        "R8LKjl8NmwON",
        "P3xQwj6O0mzQ",
        "h2Bv5m130m2M",
        "FfeyDe_X0m5D",
        "Zj_G1Z_AOL0y",
        "bD1i4z1uOL4t",
        "CIsbivR4a9HU",
        "InPGru7oa9K7",
        "MkeGXGAL5ohl",
        "LQpsIxCK5onk",
        "0Zh2q1xWVzVM",
        "TICrTIpL_P5U",
        "T_nb-VWA3SjZ",
        "Y04N26dj6gAG",
        "sF6wQ5h86hZQ",
        "zuHYlmO16hc1",
        "FYTv7wqZ6hgB",
        "gdYfXoAM6hi9",
        "fl_uNvW_3BaE",
        "INUAzGUwEfNW",
        "0Jhnh4oREfQ4",
        "yomX-o9S3CIf",
        "UB0weMHW3CsX",
        "bs9X4C093C2h",
        "BTEyIckftAC1",
        "2tJtkLAztAHb",
        "foaHOJVEUBDm",
        "nvyv1g8XQU4w",
        "Q_Mt6QbqQVLs",
        "CWT4iS2ert0S",
        "jyPXRy8ZyCvz",
        "ALUnbbrdfgjl",
        "6kR76xLjXJBq",
        "bdvgnEAYTsOp",
        "Hh1tMP58_R_P"
      ],
      "authorship_tag": "ABX9TyPRYP+5C/raEIA+HGH3fBo1",
      "include_colab_link": true
    },
    "kernelspec": {
      "name": "python3",
      "display_name": "Python 3"
    },
    "language_info": {
      "name": "python"
    }
  },
  "cells": [
    {
      "cell_type": "markdown",
      "metadata": {
        "id": "view-in-github",
        "colab_type": "text"
      },
      "source": [
        "<a href=\"https://colab.research.google.com/github/tjy2202/Problem_Solving/blob/master/%5BBOJ%5D%EB%B0%B1%EC%A4%80_%EB%8B%A8%EA%B3%84%EB%B3%84_%EB%AC%B8%EC%A0%9C%ED%92%80%EC%9D%B4.ipynb\" target=\"_parent\"><img src=\"https://colab.research.google.com/assets/colab-badge.svg\" alt=\"Open In Colab\"/></a>"
      ]
    },
    {
      "cell_type": "markdown",
      "metadata": {
        "id": "omsqU4scfCpl"
      },
      "source": [
        "## I.단계별 풀이"
      ]
    },
    {
      "cell_type": "code",
      "source": [
        "if __name__ == '__main__':  # 스크립트 파일을 메인프로그램과 모듈로 사용 할 때를 구분하기 위한 용도\n",
        "    main()                  # 파이썬은 시작점이 지정되어있지 않아서\n",
        "\n",
        "ctrl + z => enter 입력 종료\n",
        "\n",
        "# 문제의 정답이 여러가지인 경우에는 스페셜 저지로 채점 => 2.00 의 값이 2.0 으로 출력되면 틀림.\n",
        "# https://colorscripter.com/ : 코드 공유 사이트, url 형으로 변환 가능."
      ],
      "metadata": {
        "id": "6V1opzHxN2aU"
      },
      "execution_count": null,
      "outputs": []
    },
    {
      "cell_type": "markdown",
      "metadata": {
        "id": "POAYGCfMe_0s"
      },
      "source": [
        "### 1단계 ~ 4단계==========="
      ]
    },
    {
      "cell_type": "markdown",
      "metadata": {
        "id": "g9MBGW5fOxEr"
      },
      "source": [
        "#### 2439번 : rjust()"
      ]
    },
    {
      "cell_type": "code",
      "metadata": {
        "id": "xRcoxP3QOxEx"
      },
      "source": [
        "print(\n",
        "'''         ,r'\"7\n",
        "r`-_   ,'  ,/\n",
        " \\. \". L_r'\n",
        "   `~\\/\n",
        "      |\n",
        "      |'''\n",
        ")"
      ],
      "execution_count": null,
      "outputs": []
    },
    {
      "cell_type": "markdown",
      "metadata": {
        "id": "SwNOozo2J2Qk"
      },
      "source": [
        "#### 2439번 : rjust()"
      ]
    },
    {
      "cell_type": "code",
      "metadata": {
        "id": "sfhuqZKSJ2Qw"
      },
      "source": [
        "a = int(input())\n",
        "\n",
        "for i in range(a):\n",
        "    print(('*' * (i+1)).rjust(a))"
      ],
      "execution_count": null,
      "outputs": []
    },
    {
      "cell_type": "markdown",
      "metadata": {
        "id": "4KG0dQ5_J5k_"
      },
      "source": [
        "#### 1110번 : 무한 루프로 에러 찾느라 오래걸림"
      ]
    },
    {
      "cell_type": "code",
      "metadata": {
        "colab": {
          "base_uri": "https://localhost:8080/"
        },
        "id": "gM4kcvbMJ5k_",
        "outputId": "eb8eb20f-f2fa-43f2-dc4d-eba22a9a845a"
      },
      "source": [
        "a = input()\n",
        "n = 0\n",
        "d = int(a)\n",
        "c = 100\n",
        "\n",
        "while d != int(c):\n",
        "\n",
        "    if int(a) < 10:\n",
        "        a = '0' + str(int(a))\n",
        "    b = int(a[0]) + int(a[1])\n",
        "    c = a[1] + str(b)[-1]\n",
        "    a = c\n",
        "\n",
        "    n += 1\n",
        "\n",
        "print(n)\n",
        "\n",
        "''' ##오류코드##\n",
        "a = input()\n",
        "n = 0\n",
        "d = int(a)\n",
        "c = 100\n",
        "\n",
        "while d != int(c):\n",
        "    if int(a) < 10:\n",
        "        a = '0' + a\n",
        "    else:\n",
        "        pass\n",
        "\n",
        "    b = int(a[0]) + int(a[1]) #만약 a가 '05'였으면 b가 005로 들어가는 오류로 나왔었음.\n",
        "    c = a[1] + str(b)[-1]\n",
        "    a = c\n",
        "\n",
        "    n += 1\n",
        "\n",
        "print(n)\n",
        "'''\n"
      ],
      "execution_count": null,
      "outputs": [
        {
          "output_type": "stream",
          "text": [
            "55\n",
            "3\n"
          ],
          "name": "stdout"
        }
      ]
    },
    {
      "cell_type": "markdown",
      "metadata": {
        "id": "MFvDSJ8eJ5oh"
      },
      "source": [
        "#### 10951번 : EOF, End of File의 예"
      ]
    },
    {
      "cell_type": "markdown",
      "metadata": {
        "id": "5PRfloDZHGiN"
      },
      "source": [
        "#### 15552번 : sys.stdin.readline()"
      ]
    },
    {
      "cell_type": "code",
      "metadata": {
        "id": "-ox9IOLpHDgH"
      },
      "source": [
        "import sys\n",
        "\n",
        "a = int(sys.stdin.readline())\n",
        "\n",
        "for _ in range(a):\n",
        "    b, c = list(map(int, sys.stdin.readline().split()))\n",
        "    print(b + c)"
      ],
      "execution_count": null,
      "outputs": []
    },
    {
      "cell_type": "code",
      "metadata": {
        "colab": {
          "base_uri": "https://localhost:8080/"
        },
        "id": "RIffYiXUJ5oi",
        "outputId": "3e11cc8e-d58e-4faf-b72e-4766f71d9e6b"
      },
      "source": [
        "while True:\n",
        "    try:\n",
        "        print(sum(map(int, input().split())))\n",
        "    except:\n",
        "        break\n"
      ],
      "execution_count": null,
      "outputs": [
        {
          "output_type": "stream",
          "text": [
            "\n",
            "True\n"
          ],
          "name": "stdout"
        }
      ]
    },
    {
      "cell_type": "markdown",
      "source": [
        "####  10926번"
      ],
      "metadata": {
        "id": "RJEPK4fAmy0g"
      }
    },
    {
      "cell_type": "code",
      "source": [
        "def main():\n",
        "    t = input()\n",
        "    print(t + '??!')        # 뒤에 필요 문자 추가하여 출력\n",
        "\n",
        "if __name__ == '__main__':\n",
        "    main()"
      ],
      "metadata": {
        "id": "fAKNCv6am0MP"
      },
      "execution_count": null,
      "outputs": []
    },
    {
      "cell_type": "markdown",
      "source": [
        "####  18108번"
      ],
      "metadata": {
        "id": "OO5wyMwim069"
      }
    },
    {
      "cell_type": "code",
      "source": [
        "import sys\n",
        "def main():\n",
        "    t = int(sys.stdin.readline())   # 입력 받은 값 정수로 치환\n",
        "    print(t - 543)                  # 입력 받은 값 - 543 출력\n",
        "\n",
        "if __name__ == '__main__':\n",
        "    main()"
      ],
      "metadata": {
        "id": "D918BX5Wm069"
      },
      "execution_count": null,
      "outputs": []
    },
    {
      "cell_type": "markdown",
      "source": [
        "####  2525번"
      ],
      "metadata": {
        "id": "geO9_B3Nxcv-"
      }
    },
    {
      "cell_type": "code",
      "source": [
        "import sys\n",
        "input = sys.stdin.readline\n",
        "\n",
        "def main():\n",
        "    a, b = map(int, input().split()) # 기존 시간\n",
        "    c = int(input())    # 추가 시간\n",
        "\n",
        "    if b + c >= 60:     # 분 단위가 60이 넘어가면\n",
        "        a += (b+c)//60  # 분 단위 시간으로 치환 후 더함\n",
        "        b =(b+c)%60     # 남은 분 단위\n",
        "    else:               # 60보다 아래면\n",
        "        b += c          # 추가 시간 더함\n",
        "        \n",
        "    if a > 23:          # 시간 단위 치환\n",
        "        a %= 24         # 24로 나눈 나머지\n",
        "        \n",
        "    print(a, b)         # 시간, 분 출력\n",
        "\n",
        "if __name__ == '__main__':\n",
        "    main()"
      ],
      "metadata": {
        "id": "d8egGl0xxcv-"
      },
      "execution_count": null,
      "outputs": []
    },
    {
      "cell_type": "markdown",
      "source": [
        "####  2480번"
      ],
      "metadata": {
        "id": "z4u_ewTjxc6g"
      }
    },
    {
      "cell_type": "code",
      "source": [
        "import sys\n",
        "input = sys.stdin.readline\n",
        "\n",
        "def main():\n",
        "    t = list(map(int, input().split())) # 3개의 눈 리스트 입력\n",
        "    setted_t = list(set(t))         # 중복 값 제거\n",
        "\n",
        "    if len(setted_t) == 1:          # 3개가 모두 같은 숫자면\n",
        "        print(10000 + t[0]*1000)    # 해당 숫자 * 1000 + 10000\n",
        "\n",
        "    elif len(setted_t) == 2:        # 2개가 같은 숫자면\n",
        "        for i in setted_t:          # 중복 값이 제거된 리스트 setted_t에서\n",
        "            t.remove(i)             # 하나씩 제거\n",
        "        print(1000+t[0]*100)        # 같은숫자 * 100 + 1000\n",
        "\n",
        "    else:                           # 모두 다른 숫자면\n",
        "        print(max(t)*100)           # 가장 큰 값 * 100\n",
        "\n",
        "if __name__ == '__main__':\n",
        "    main()"
      ],
      "metadata": {
        "id": "HKy8rcu9xc6g"
      },
      "execution_count": null,
      "outputs": []
    },
    {
      "cell_type": "markdown",
      "metadata": {
        "id": "hd-9cFVbd81N"
      },
      "source": [
        "### **4단계 : 1차원 배열===========**"
      ]
    },
    {
      "cell_type": "markdown",
      "metadata": {
        "id": "Cdc6oGAHJ5wv"
      },
      "source": [
        "#### 10818번 최대 최소 값 : 들여쓰기 잘 못되어서 컴파일오류 많이 나옴"
      ]
    },
    {
      "cell_type": "code",
      "metadata": {
        "id": "lJSTQW74J5wv",
        "colab": {
          "base_uri": "https://localhost:8080/"
        },
        "outputId": "91dab5ae-365d-4b83-ea9c-5333573e25db"
      },
      "source": [
        "n = int(input())\n",
        "x = list(map(int, input().split()))\n",
        "\n",
        "min = x[0]\n",
        "max = x[0]\n",
        "\n",
        "for i in x:\n",
        "  if min <= i:\n",
        "    pass\n",
        "  else:\n",
        "    min = i\n",
        "\n",
        "  if max >= i:\n",
        "    pass\n",
        "  else:\n",
        "    max = i\n",
        "\n",
        "print(min,end=' ')\n",
        "print(max)"
      ],
      "execution_count": null,
      "outputs": [
        {
          "output_type": "stream",
          "text": [
            "5\n",
            "10\n",
            "10 10\n"
          ],
          "name": "stdout"
        }
      ]
    },
    {
      "cell_type": "markdown",
      "metadata": {
        "id": "jnw0s22-J5zm"
      },
      "source": [
        "#### 2562번"
      ]
    },
    {
      "cell_type": "code",
      "metadata": {
        "id": "nMYSIl_gJ5zn",
        "colab": {
          "base_uri": "https://localhost:8080/"
        },
        "outputId": "05a18082-ff4f-44f6-8fe8-c2497162049a"
      },
      "source": [
        "x = []\n",
        "for _ in range(9):\n",
        "  x.append(int(input()))\n",
        "\n",
        "res = x[0]\n",
        "for i in x:\n",
        "  if res >= i:\n",
        "    pass\n",
        "  else:\n",
        "    res = i\n",
        "\n",
        "print(res)\n",
        "print(x.index(res) + 1)"
      ],
      "execution_count": null,
      "outputs": [
        {
          "output_type": "stream",
          "text": [
            "3 29 38 12 57 74 40 85 61\n",
            "85\n",
            "8\n"
          ],
          "name": "stdout"
        }
      ]
    },
    {
      "cell_type": "markdown",
      "metadata": {
        "id": "hHXqsq9RJ52V"
      },
      "source": [
        "#### 2577번 숫자의 갯수"
      ]
    },
    {
      "cell_type": "code",
      "metadata": {
        "id": "Xj-w_lzkJ52V"
      },
      "source": [
        "a = int(input())\n",
        "b = int(input())\n",
        "c = int(input())\n",
        "\n",
        "res = a * b * c\n",
        "res = str(res)\n",
        "\n",
        "for i in range(10):\n",
        "  n = 0 \n",
        "\n",
        "  for j in res:\n",
        "    if str(i) == j:\n",
        "      n += 1\n",
        "    else:\n",
        "      pass\n",
        "\n",
        "  print(n)"
      ],
      "execution_count": null,
      "outputs": []
    },
    {
      "cell_type": "markdown",
      "metadata": {
        "id": "-WEujQslfvPc"
      },
      "source": [
        "#### 3052번 나머지"
      ]
    },
    {
      "cell_type": "code",
      "metadata": {
        "id": "pW-HhcFqfwET"
      },
      "source": [
        "x = []\n",
        "for _ in range(10):\n",
        "  y = int(input())\n",
        "  x.append(y % 42)\n",
        "\n",
        "print(len(set(x)))"
      ],
      "execution_count": null,
      "outputs": []
    },
    {
      "cell_type": "markdown",
      "metadata": {
        "id": "vrq2C5VCfz68"
      },
      "source": [
        "#### 1546번"
      ]
    },
    {
      "cell_type": "code",
      "metadata": {
        "id": "JPeDRlp-fz69"
      },
      "source": [
        "n = int(input())\n",
        "x = list(map(int, input().split()))\n",
        "\n",
        "m = x[0]\n",
        "for i in x:\n",
        "  if m >= i:\n",
        "    pass\n",
        "  else:\n",
        "    m = i\n",
        "\n",
        "res = 0\n",
        "for j in x:\n",
        "  res += (j / m * 100)\n",
        "\n",
        "print(res / n)\n",
        "\n"
      ],
      "execution_count": null,
      "outputs": []
    },
    {
      "cell_type": "markdown",
      "metadata": {
        "id": "p603LkoAf0Ys"
      },
      "source": [
        "#### 8958번 OX퀴즈"
      ]
    },
    {
      "cell_type": "code",
      "metadata": {
        "id": "-EoMlO7gf0Ys"
      },
      "source": [
        "n = int(input())\n",
        "for _ in range(n):\n",
        "  x = input()\n",
        "  res = 0\n",
        "  res_1 = 1\n",
        "\n",
        "  for i in range(len(x)):\n",
        "    if x[i] == 'X':\n",
        "      res += 0\n",
        "      res_1 = 1\n",
        "    else:\n",
        "      res += 1\n",
        "\n",
        "      if i == 0:\n",
        "        pass\n",
        "      else:\n",
        "        if x[i] == x[i-1]:\n",
        "          res += res_1\n",
        "          res_1 += 1\n",
        "        else:\n",
        "          res_1 = 1\n",
        "\n",
        "  print(res)\n",
        "\n",
        "\n",
        "      \n"
      ],
      "execution_count": null,
      "outputs": []
    },
    {
      "cell_type": "markdown",
      "metadata": {
        "id": "pUWGDTTDf0ed"
      },
      "source": [
        "#### 4344번"
      ]
    },
    {
      "cell_type": "code",
      "metadata": {
        "id": "MsUmY2-Af0ee"
      },
      "source": [
        "cn = int(input())\n",
        "for _ in range(cn):\n",
        "  x = list(map(int, input().split()))\n",
        "  res = 0\n",
        "  for i in range(len(x) - 1):\n",
        "    res += x[i+1]\n",
        "  \n",
        "  y = 0\n",
        "  for i in range(len(x) - 1):\n",
        "    if x[i+1] > (res / x[0]):\n",
        "      y += 1\n",
        "    else:\n",
        "      pass\n",
        "  \n",
        "  print('{0:.3f}%'.format( round((y / x[0])*100,3 )))"
      ],
      "execution_count": null,
      "outputs": []
    },
    {
      "cell_type": "markdown",
      "metadata": {
        "id": "n12SANb4ewi1"
      },
      "source": [
        "### **5단계 : 함수===========**"
      ]
    },
    {
      "cell_type": "markdown",
      "metadata": {
        "id": "Sn6GYlulJ5rI"
      },
      "source": [
        "#### 4673번 셀프넘버 : numpy 모듈 사용 불가"
      ]
    },
    {
      "cell_type": "code",
      "metadata": {
        "id": "BlHNRWV1J5rI"
      },
      "source": [
        "def self_num(n):\n",
        "  x = 0\n",
        "  for i in range(len(str(n))):\n",
        "    x += int(str(n)[i])\n",
        "  x += n\n",
        "  return x\n",
        "\n",
        "def self_num_list(n):\n",
        "  x = []\n",
        "  while True:\n",
        "    if self_num(n) > 10001:\n",
        "      break\n",
        "    x.append(self_num(n))\n",
        "    n = self_num(n)    \n",
        "  return x\n",
        "\n",
        "c = 0\n",
        "b = []\n",
        "\n",
        "for i in range(1,10001):\n",
        "  b.append(i)\n",
        "\n",
        "while True:\n",
        "  \n",
        "  b = list(set(b) - set(self_num_list(b[c])))\n",
        "  b.sort()\n",
        "  c += 1\n",
        "  if c > len(b)-1:\n",
        "    break\n",
        "\n",
        "for i in b:\n",
        "  print(i)"
      ],
      "execution_count": null,
      "outputs": []
    },
    {
      "cell_type": "markdown",
      "metadata": {
        "id": "zvtcqUZyJ5uA"
      },
      "source": [
        "#### 1065번 한수 "
      ]
    },
    {
      "cell_type": "code",
      "metadata": {
        "id": "AwkEubp8J5uA"
      },
      "source": [
        "def han(n):\n",
        "  res = 0\n",
        "  if n < 100:\n",
        "    res = 1\n",
        "  elif n >= 100:\n",
        "    n = str(n)\n",
        "    if int(n[2]) + int(n[0]) == 2 * int(n[1]):\n",
        "      res = 1\n",
        "    else:\n",
        "      res = 0\n",
        "\n",
        "  elif n >= 1000:\n",
        "    if (int(n[2]) + int(n[0]) == 2 * int(n[1])) & (int(n[3]) + int(n[1]) == 2 * int(n[2])):\n",
        "      res = 1\n",
        "    else:\n",
        "      res = 0\n",
        "\n",
        "  else:\n",
        "    pass\n",
        "\n",
        "  return res\n",
        "\n",
        "def count_han(n):\n",
        "  cnt = 0\n",
        "  for i in range(n):\n",
        "    cnt += han(i+1)\n",
        "  \n",
        "  return cnt\n",
        "\n",
        "a = int(input())\n",
        "print(count_han(a))"
      ],
      "execution_count": null,
      "outputs": []
    },
    {
      "cell_type": "markdown",
      "metadata": {
        "id": "RVUMmYudeX57"
      },
      "source": [
        "### **6단계 : 문자열===========**"
      ]
    },
    {
      "cell_type": "markdown",
      "metadata": {
        "id": "2H2UiCRZJ55E"
      },
      "source": [
        "#### 11654번 : 아스키 코드"
      ]
    },
    {
      "cell_type": "code",
      "metadata": {
        "id": "ncXONLViJ55F",
        "colab": {
          "base_uri": "https://localhost:8080/"
        },
        "outputId": "8dd5c575-edf8-4164-bd36-df7f53f4ba1c"
      },
      "source": [
        "a = input()\n",
        "\n",
        "print(ord(a))"
      ],
      "execution_count": null,
      "outputs": [
        {
          "output_type": "stream",
          "text": [
            "0\n",
            "48\n"
          ],
          "name": "stdout"
        }
      ]
    },
    {
      "cell_type": "markdown",
      "metadata": {
        "id": "8aEgFHzQTU-M"
      },
      "source": [
        "#### 11720번"
      ]
    },
    {
      "cell_type": "code",
      "metadata": {
        "colab": {
          "base_uri": "https://localhost:8080/"
        },
        "id": "SzIpF42sTU-V",
        "outputId": "2095ae16-6c19-4713-e768-677261ba9094"
      },
      "source": [
        "n = int(input())\n",
        "x = input()\n",
        "sum = 0\n",
        "for i in range(n):\n",
        "  sum += int(x[i])\n",
        "print(sum)"
      ],
      "execution_count": null,
      "outputs": [
        {
          "output_type": "stream",
          "text": [
            "5\n",
            "54321\n",
            "15\n"
          ],
          "name": "stdout"
        }
      ]
    },
    {
      "cell_type": "markdown",
      "metadata": {
        "id": "x3MW5qqtTZAn"
      },
      "source": [
        "#### 10809번"
      ]
    },
    {
      "cell_type": "code",
      "metadata": {
        "id": "H-wdIfagTZAo"
      },
      "source": [
        "s = input()\n",
        "x = 'abcdefghijklmnopqrstuvwxyz'\n",
        "\n",
        "for i in range(len(x)):\n",
        "  a = 0\n",
        "  for j in range(len(s)):\n",
        "    if s[j] == x[i]:\n",
        "      a = j\n",
        "      break\n",
        "    else:\n",
        "      a = -1\n",
        "\n",
        "  print(a, end=' ')"
      ],
      "execution_count": null,
      "outputs": []
    },
    {
      "cell_type": "markdown",
      "metadata": {
        "id": "NZwKoUdcTbp-"
      },
      "source": [
        "#### 2675번"
      ]
    },
    {
      "cell_type": "code",
      "metadata": {
        "id": "DLdAQuq-Tbp_"
      },
      "source": [
        "n = int(input())\n",
        "for _ in range(n):\n",
        "  a, b = input().split()\n",
        "  a = int(a)\n",
        "  b = str(b)\n",
        "  res = ''\n",
        "  for i in range(len(b)):\n",
        "    res += b[i] * a\n",
        "  print(res)\n"
      ],
      "execution_count": null,
      "outputs": []
    },
    {
      "cell_type": "markdown",
      "metadata": {
        "id": "ZGJGxU4LTcWc"
      },
      "source": [
        "#### 1157번"
      ]
    },
    {
      "cell_type": "code",
      "metadata": {
        "id": "XH-yq9CxTcWc"
      },
      "source": [
        "s = input().lower()\n",
        "\n",
        "c = ' '.join(s)\n",
        "a = set(c.split())\n",
        "a = list(a)\n",
        "b = []\n",
        "for i in a:\n",
        "  b.append(s.count(i))\n",
        "\n",
        "b.sort()\n",
        "\n",
        "if len(b) == 1:\n",
        "  print(a[0].upper())\n",
        "else:\n",
        "  if b[-1] == b[-2]:\n",
        "    print('?')\n",
        "  else:  \n",
        "    x = b[-1]\n",
        "    for i in a:\n",
        "      if s.count(i) == x:\n",
        "        print(i.upper())\n"
      ],
      "execution_count": null,
      "outputs": []
    },
    {
      "cell_type": "markdown",
      "metadata": {
        "id": "_bivMt1sTchd"
      },
      "source": [
        "#### 1152번"
      ]
    },
    {
      "cell_type": "code",
      "metadata": {
        "id": "UjteJxLoTchd"
      },
      "source": [
        "s = input().strip().lower().split(' ')\n",
        "\n",
        "if (len(s) == 1) & (s[0] == ''):\n",
        "  print(0)\n",
        "else:\n",
        "  print(len(s))"
      ],
      "execution_count": null,
      "outputs": []
    },
    {
      "cell_type": "markdown",
      "metadata": {
        "id": "UlRjxI8VTcoB"
      },
      "source": [
        "#### 2908번"
      ]
    },
    {
      "cell_type": "code",
      "metadata": {
        "id": "gVtfJkBNTcoB"
      },
      "source": [
        "s = list(map(str, input().split()))\n",
        "t = []\n",
        "x = 0\n",
        "for i in s:\n",
        "  x = i[-1] + i[-2] + i[-3]\n",
        "  t.append(int(x))\n",
        "\n",
        "if t[0] > t[1]:\n",
        "  print(t[0])\n",
        "else:\n",
        "  print(t[1])"
      ],
      "execution_count": null,
      "outputs": []
    },
    {
      "cell_type": "markdown",
      "metadata": {
        "id": "FCPITXGwTcsi"
      },
      "source": [
        "#### 5622번"
      ]
    },
    {
      "cell_type": "code",
      "metadata": {
        "id": "XfvDdcKzTcsi"
      },
      "source": [
        "s = input().lower()\n",
        "t = 0\n",
        "\n",
        "for i in range(len(s)):\n",
        "  if ord(s[i]) <= ord('c'):\n",
        "    t += 3\n",
        "  elif ord(s[i]) <= ord('f'):\n",
        "    t += 4\n",
        "  elif ord(s[i]) <= ord('i'):\n",
        "    t += 5\n",
        "  elif ord(s[i]) <= ord('l'):\n",
        "    t += 6\n",
        "  elif ord(s[i]) <= ord('o'):\n",
        "    t += 7\n",
        "  elif ord(s[i]) <= ord('s'):\n",
        "    t += 8\n",
        "  elif ord(s[i]) <= ord('v'):\n",
        "    t += 9\n",
        "  elif ord(s[i]) <= ord('z'):\n",
        "    t += 10\n",
        "\n",
        "print(t)"
      ],
      "execution_count": null,
      "outputs": []
    },
    {
      "cell_type": "markdown",
      "metadata": {
        "id": "M75SACDgTcxe"
      },
      "source": [
        "#### 2941번"
      ]
    },
    {
      "cell_type": "code",
      "metadata": {
        "id": "SIUj9OKiTcxf"
      },
      "source": [
        "c = input()\n",
        "s = ['c=','c-','d-','lj','nj','s=','z=']\n",
        "res = len(c)\n",
        "\n",
        "for i in range(len(c) - 1):\n",
        "  if (c[i] + c[i+1]) in s:\n",
        "    res -= 1\n",
        "  else:\n",
        "    pass\n",
        "\n",
        "for i in range(len(c) - 2):\n",
        "  if (c[i] + c[i+1] + c[i+2]) == 'dz=':\n",
        "    res -= 1\n",
        "  else:\n",
        "    pass\n",
        "\n",
        "print(res)"
      ],
      "execution_count": null,
      "outputs": []
    },
    {
      "cell_type": "markdown",
      "metadata": {
        "id": "aE-p8rLrTc2U"
      },
      "source": [
        "#### 1316번"
      ]
    },
    {
      "cell_type": "code",
      "metadata": {
        "id": "L5687equTc2U"
      },
      "source": [
        "n = int(input())\n",
        "res= 0\n",
        "for _ in range(n):\n",
        "  s = input()\n",
        "  s = ' '.join(s)\n",
        "  s = s.split()\n",
        "  s.append(' ')\n",
        "  x = []\n",
        "  for i in range(len(s) - 1):\n",
        "    if s[i] != s[i+1]:\n",
        "      x.append(s[i])\n",
        "    else:\n",
        "      continue\n",
        "  if len(x) != len(set(x)):\n",
        "    pass\n",
        "  else:\n",
        "    res += 1\n",
        "\n",
        "print(res)"
      ],
      "execution_count": null,
      "outputs": []
    },
    {
      "cell_type": "markdown",
      "metadata": {
        "id": "L635P9aDR41L"
      },
      "source": [
        "### **7단계 : 기본수학1===========**"
      ]
    },
    {
      "cell_type": "markdown",
      "metadata": {
        "id": "d5l3XgZ3R41L"
      },
      "source": [
        "#### 1712번"
      ]
    },
    {
      "cell_type": "code",
      "metadata": {
        "id": "IbvFoejTR41L"
      },
      "source": [
        "x = input().split()\n",
        "a, b, c = int(x[0]), int(x[1]), int(x[2])\n",
        "n = 0\n",
        "\n",
        "if (c - b) > 0:\n",
        "\n",
        "  n = int(a / (c-b)) + 1\n",
        "  print(n)\n",
        "  \n",
        "else:\n",
        "  print(-1)"
      ],
      "execution_count": null,
      "outputs": []
    },
    {
      "cell_type": "markdown",
      "metadata": {
        "id": "KrC88VwzOnqU"
      },
      "source": [
        "#### 2292번"
      ]
    },
    {
      "cell_type": "code",
      "metadata": {
        "id": "vcKt0_t_Onqa"
      },
      "source": [
        "n = int(input())\n",
        "x = 1\n",
        "y = 6\n",
        "res = 1\n",
        "while True:\n",
        "  if n == 1:\n",
        "    break\n",
        "  elif n > x:\n",
        "    res += 1  \n",
        "  else:\n",
        "    break\n",
        "  x += 6 * (res - 1)\n",
        "\n",
        "print(res)"
      ],
      "execution_count": null,
      "outputs": []
    },
    {
      "cell_type": "markdown",
      "metadata": {
        "id": "RU2opUjqOnym"
      },
      "source": [
        "#### 1193번"
      ]
    },
    {
      "cell_type": "code",
      "metadata": {
        "id": "TGsLqwQmOnyn"
      },
      "source": [
        "n = int(input())\n",
        "a = 0\n",
        "sum = 0\n",
        "while True:\n",
        "  if n > sum:\n",
        "    a += 1\n",
        "    sum += a\n",
        "  else:\n",
        "    break\n",
        "\n",
        "x = n - sum + a #16 - 21 + 6 1\n",
        "\n",
        "if a % 2 == 0:\n",
        "  print('{0}/{1}'.format( x, a +1 - x))\n",
        "else:\n",
        "  print('{0}/{1}'.format( a +1 - x, x))"
      ],
      "execution_count": null,
      "outputs": []
    },
    {
      "cell_type": "markdown",
      "metadata": {
        "id": "EwqY3vd9OoDo"
      },
      "source": [
        "#### 2869번 : 달팽이는 올라가고 싶다(수학 계산 어렵..)"
      ]
    },
    {
      "cell_type": "code",
      "metadata": {
        "id": "1l2hxETQOoDo"
      },
      "source": [
        "s = input().split()\n",
        "a, b, v = int(s[0]), int(s[1]), int(s[2])\n",
        "\n",
        "n = 0\n",
        "x = v - a\n",
        "y = (a - b)\n",
        "\n",
        "if a >= v:\n",
        "  n = 1\n",
        "else:\n",
        "  if y * (x // y) >= x: \n",
        "    n = (x // y) + 1\n",
        "  else:\n",
        "    n = (x // y) + 2\n",
        "    \n",
        "\n",
        "print(n)\n"
      ],
      "execution_count": null,
      "outputs": []
    },
    {
      "cell_type": "markdown",
      "metadata": {
        "id": "KkBtDD2GOoHJ"
      },
      "source": [
        "#### 10250번 : ACM호텔"
      ]
    },
    {
      "cell_type": "code",
      "metadata": {
        "id": "c_ZZ_GnROoHJ"
      },
      "source": [
        "n = int(input())\n",
        "for _ in range(n):\n",
        "  h, w, n = map(int, input().split())\n",
        "  x = (n // h) + 1 #n_w\n",
        "  y = n % h #n_h\n",
        "  if y == 0:\n",
        "    y = str(h)\n",
        "    x = x - 1\n",
        "  else:\n",
        "    y = str(y)\n",
        "  \n",
        "  if x < 10:\n",
        "    x = '0' + str(x)\n",
        "  else:\n",
        "    x = str(x)\n",
        "\n",
        "  print(y + x)"
      ],
      "execution_count": null,
      "outputs": []
    },
    {
      "cell_type": "markdown",
      "metadata": {
        "id": "sew12iTLOoKx"
      },
      "source": [
        "#### 2775번 : copy() 사용 안하면 x가 안변함 ?? 왜??"
      ]
    },
    {
      "cell_type": "code",
      "metadata": {
        "id": "YtBUbt3VOoKy"
      },
      "source": [
        "r = int(input())\n",
        "y = [1,2,3,4,5,6,7,8,9,10,11,12,13,14]\n",
        "\n",
        "for _ in range(r):\n",
        "  k = int(input())\n",
        "  n = int(input())\n",
        "  x = y.copy() #copy() 사용 안하면 x가 안변함 ?? 왜??\n",
        "\n",
        "  for z in range(k):\n",
        "    sum = 0\n",
        "    \n",
        "    for i in range(n):\n",
        "      sum += x[i]\n",
        "      x[i] = sum\n",
        "\n",
        "  print(x[n-1])\n"
      ],
      "execution_count": null,
      "outputs": []
    },
    {
      "cell_type": "markdown",
      "metadata": {
        "id": "ZZX1EwaLOoXw"
      },
      "source": [
        "#### 2839번"
      ]
    },
    {
      "cell_type": "code",
      "metadata": {
        "id": "aT1j9piIOoXx"
      },
      "source": [
        "n = int(input())\n",
        "a = n // 5\n",
        "\n",
        "while True:\n",
        "  x = n - a * 5\n",
        "\n",
        "  if x % 3 == 0:\n",
        "    print(a + (x // 3))\n",
        "    break\n",
        "  else:\n",
        "    if a == 0:\n",
        "      print(-1)\n",
        "      break\n",
        "    else:\n",
        "      a -= 1\n",
        "  \n",
        "  if x <= 0:\n",
        "    print(-1)\n",
        "    break"
      ],
      "execution_count": null,
      "outputs": []
    },
    {
      "cell_type": "markdown",
      "metadata": {
        "id": "uwtGS2Q4Ooaz"
      },
      "source": [
        "#### 10757번"
      ]
    },
    {
      "cell_type": "code",
      "metadata": {
        "id": "2LTSi1r1Ooaz"
      },
      "source": [
        "a, b = map(int, input().split())\n",
        "print(a + b)"
      ],
      "execution_count": null,
      "outputs": []
    },
    {
      "cell_type": "markdown",
      "metadata": {
        "id": "L2bGuKUUOoeb"
      },
      "source": [
        "#### 1011 : Fly me to the Alpha Centauri(문제 이해가 어렵)"
      ]
    },
    {
      "cell_type": "code",
      "metadata": {
        "id": "clQ9lSGiOoeb"
      },
      "source": [
        "n = int(input())\n",
        "\n",
        "for _ in range(n):\n",
        "  x, y = map(int, input().split())\n",
        "\n",
        "  z = y - x\n",
        "  n = 1\n",
        "  while True:\n",
        "    a = n * n\n",
        "    if a < z:\n",
        "      n += 1\n",
        "    elif a == z:\n",
        "      print((n-1) * 2 + 1)\n",
        "      break\n",
        "    else: \n",
        "      if (a - n) < z:\n",
        "        print(((n-1) * 2) + 1)\n",
        "        break\n",
        "      else:\n",
        "        print((n-1) * 2)\n",
        "        break\n",
        "\n",
        "\n",
        "\n",
        "'''\n",
        "def fun(n): ### -> fun(n) = n *n\n",
        "  if n == 1:\n",
        "    sum = 1\n",
        "  else:\n",
        "    sum = 0\n",
        "    c = n\n",
        "    while True:\n",
        "      if n > 0:\n",
        "        sum += n * 2\n",
        "        n -= 1\n",
        "      else:\n",
        "        break\n",
        "\n",
        "    sum = sum - c\n",
        "  return sum\n",
        "\n",
        "1\n",
        "1 2 1\n",
        "1 2 3 2 1\n",
        "1 2 3 4 3 2 1\n",
        "=> 이부분을 기준으로 먼저 나누고\n",
        "\n",
        "\n",
        "1  1              1\n",
        "2  1 1            2\n",
        "3  1 1 1          3#\n",
        "4  1 2 1          3\n",
        "5  1 2 1 1        4#\n",
        "6  1 2 2 1        4\n",
        "7  1 2 2 1 1      5#\n",
        "8  1 2 2 2 1      5\n",
        "9  1 2 3 2 1      5\n",
        "10 1 2 3 2 1 1    6#\n",
        "11 1 2 3 2 2 1    6\n",
        "12 1 2 3 3 2 1    6\n",
        "13 1 2 3 3 2 1 1  7#\n",
        "14 1 2 3 2 2 2 1  7\n",
        "=> #표시한 부분을 기준으로 나눈다.\n",
        "'''"
      ],
      "execution_count": null,
      "outputs": []
    },
    {
      "cell_type": "markdown",
      "metadata": {
        "id": "wBFPqXNuR8ne"
      },
      "source": [
        "### **8단계 : 기본수학2===========**"
      ]
    },
    {
      "cell_type": "markdown",
      "metadata": {
        "id": "JjxDErpjR8ne"
      },
      "source": [
        "#### 1978번"
      ]
    },
    {
      "cell_type": "code",
      "metadata": {
        "id": "85Nt6C8WR8ne"
      },
      "source": [
        "n = int(input())\n",
        "s = list(map(int, input().split()))\n",
        "\n",
        "res = 0\n",
        "\n",
        "for i in range(n):\n",
        "  z = s[i]\n",
        "  \n",
        "  if z == 1:\n",
        "    continue\n",
        "  elif z == 2: #2도 소수\n",
        "    res += 1\n",
        "  else:\n",
        "    h = 0\n",
        "    for x in range(z - 2): # 1과 자기 자신 제거\n",
        "      if z % (x + 2) == 0:  \n",
        "        h = 1\n",
        "        break\n",
        "      else:\n",
        "        continue\n",
        "        \n",
        "    if h == 0:\n",
        "      res += 1\n",
        "\n",
        "    else:\n",
        "      continue\n",
        "  \n",
        "\n",
        "print(res)"
      ],
      "execution_count": null,
      "outputs": []
    },
    {
      "cell_type": "markdown",
      "metadata": {
        "id": "AZNtoqizpQ2e"
      },
      "source": [
        "#### 2581"
      ]
    },
    {
      "cell_type": "code",
      "metadata": {
        "id": "9BtNEN0WpQ2p"
      },
      "source": [
        "a = int(input())\n",
        "b = int(input())\n",
        "\n",
        "s = []\n",
        "for i in range(b-a + 1):\n",
        "  s.append(a + i)\n",
        "\n",
        "res = []\n",
        "\n",
        "for i in range(len(s)):\n",
        "  z = s[i]\n",
        "  \n",
        "  if z == 1:\n",
        "    continue\n",
        "  elif z == 2: #2도 소수\n",
        "    res.append(z)\n",
        "  else:\n",
        "    h = 0\n",
        "    for x in range(z - 2): # 1과 자기 자신 제거\n",
        "      if z % (x + 2) == 0:  \n",
        "        h = 1\n",
        "        break\n",
        "      else:\n",
        "        continue\n",
        "        \n",
        "    if h == 0:\n",
        "      res.append(z)\n",
        "\n",
        "    else:\n",
        "      continue\n",
        "  \n",
        "if res == []:\n",
        "  print(-1)\n",
        "else:\n",
        "  max = res[0]\n",
        "  sum = 0\n",
        "  for i in res:\n",
        "    if max >= i:\n",
        "      max = i\n",
        "      sum += i\n",
        "    else:\n",
        "      sum += i\n",
        "\n",
        "  print(sum)\n",
        "  print(max)"
      ],
      "execution_count": null,
      "outputs": []
    },
    {
      "cell_type": "markdown",
      "metadata": {
        "id": "u-5xqnR1pRSf"
      },
      "source": [
        "#### 11653"
      ]
    },
    {
      "cell_type": "code",
      "metadata": {
        "id": "_qif-0AepRSg"
      },
      "source": [
        "# 소인수 분해\n",
        "n = int(input()) # 변수 입력\n",
        "\n",
        "while True:\n",
        "\n",
        "  if n == 1: # 만약 1이면 break\n",
        "    break\n",
        "\n",
        "  can = 0 # 인수분해 가능 변수 지정\n",
        "  for i in range(n-2): # 1과 변수 자기 자신을 제외한 값이기에 n-2 진행\n",
        "    if n % (i + 2) == 0: # 나누어진다면\n",
        "\n",
        "      n = int(n / (i + 2)) # 변수 업데이트\n",
        "      print(i+2) # 소인수 출력\n",
        "      can = 1 # 인수분해 가능\n",
        "      break\n",
        "    else: # 나누어 지지 않으면\n",
        "      pass\n",
        "\n",
        "  if can == 0: # 변수가 더이상 나누어 지지 않으면\n",
        "    print(n) # 해당 변수 출력\n",
        "    break"
      ],
      "execution_count": null,
      "outputs": []
    },
    {
      "cell_type": "markdown",
      "metadata": {
        "id": "mKjNyy4epRXc"
      },
      "source": [
        "#### 1929번"
      ]
    },
    {
      "cell_type": "code",
      "metadata": {
        "id": "00_x5pco8UqK"
      },
      "source": [
        "a, b = list(map(int, input().split()))\n",
        "\n",
        "#에라토스테네스 체\n",
        "for i in range(a, b+1):\n",
        "  \n",
        "  if i == 1:\n",
        "    continue\n",
        "  elif i == 2: #2도 소수\n",
        "    print(i)\n",
        "  else:\n",
        "\n",
        "    h = 0\n",
        "    for x in range(2,int(i ** (1/2)) + 1) :\n",
        "      if i % x == 0:  \n",
        "        h = 1\n",
        "        break\n",
        "      else:\n",
        "        continue\n",
        "        \n",
        "    if h == 0:\n",
        "      print(i)\n",
        "    else:\n",
        "      continue\n",
        "\n",
        "''' ### 시간 초과\n",
        "a, b = list(map(int, input().split()))\n",
        "\n",
        "s = []\n",
        "for i in range(b):\n",
        "  s.append(i+1)\n",
        "\n",
        "s.remove(1)\n",
        "i = 0\n",
        "res = []\n",
        "while True:\n",
        "  c = s[i]\n",
        "  list(map(f(,i),s))\n",
        "  for j in s:\n",
        "    if j % c == 0:\n",
        "      if j == c:\n",
        "        pass\n",
        "      else:\n",
        "        s.remove(j)\n",
        "    else:\n",
        "      pass\n",
        "  \n",
        "  i += 1 \n",
        "  if s[i+1] > b ** (1/2):\n",
        "    break\n",
        "  \n",
        "for i in range(len(s)):\n",
        "  if s[i] < a:\n",
        "    pass\n",
        "  else:\n",
        "    s = s[i:]\n",
        "    break\n",
        "    \n",
        "for k in s:\n",
        "  print(k) \n",
        "'''"
      ],
      "execution_count": null,
      "outputs": []
    },
    {
      "cell_type": "markdown",
      "metadata": {
        "id": "bTQh46KspRbf"
      },
      "source": [
        "#### (*)4948번 : 시간초과 문제"
      ]
    },
    {
      "cell_type": "code",
      "metadata": {
        "id": "BgGEoVYWpRbg"
      },
      "source": [
        "n = 123456 * 2 +1\n",
        "l = [True] * n\n",
        "\n",
        "for i in range(2, int(n**0.5)+1):\n",
        "    if l[i]:\n",
        "        for j in range(2*i, n, i):\n",
        "            l[j] = False\n",
        "\n",
        "s = 1\n",
        "\n",
        "while s != 0:\n",
        "  s = int(input())\n",
        "  if s == 0:\n",
        "    break\n",
        "  sum = 0\n",
        "  for i in range(s + 1, s * 2 + 1):\n",
        "      if l[i]:\n",
        "          sum += 1\n",
        "  print(sum)\n",
        "\n",
        "''' ####시간 초과\n",
        "while True:\n",
        "  n = int(input())\n",
        "  if n == 0:\n",
        "    break\n",
        "\n",
        "  sum = 0\n",
        "  for i in range(n+1, 2*n+1):\n",
        "    if i == 1:\n",
        "      continue\n",
        "    elif i == 2: #2도 소수\n",
        "      sum += 1\n",
        "    else:\n",
        "      h = False\n",
        "      for x in range(2,int(i ** (1/2)) + 1) :\n",
        "        if i % x == 0:  \n",
        "          h = True\n",
        "          break\n",
        "        else:\n",
        "          continue\n",
        "          \n",
        "    if h == False:\n",
        "      sum += True\n",
        "    else:\n",
        "      continue\n",
        "\n",
        "  print(sum)\n",
        "'''"
      ],
      "execution_count": null,
      "outputs": []
    },
    {
      "cell_type": "markdown",
      "metadata": {
        "id": "gZGgBEu5pRfc"
      },
      "source": [
        "#### (*)9020번"
      ]
    },
    {
      "cell_type": "code",
      "metadata": {
        "id": "fr2LnPbspRfc"
      },
      "source": [
        "for _ in range(int(input())):\n",
        "  n = int(input())+1 # n = 짝수, 4 <= n <= 10000 #0~n 까지\n",
        "  l = [True] * n\n",
        "\n",
        "  for i in range(2, int(n**0.5)+1):\n",
        "      if l[i]:\n",
        "          for j in range(2*i, n, i):\n",
        "              l[j] = False\n",
        "  l[0], l[1] = False, False #1은 소수가 아니다\n",
        "\n",
        "  s = []\n",
        "  for i in range(2,n):\n",
        "    if l[i]:\n",
        "      s.append(i)\n",
        "  \n",
        "  m = 0\n",
        "  for i in range(len(s)):\n",
        "    if s[i] <= (n-1)/2:\n",
        "      m = i\n",
        "    else:\n",
        "      break\n",
        "  a = 0\n",
        "  for i in range(m, -1, -1): # 3 2 1 0\n",
        "    for j in range(i,len(s)): # 3 4 5 #2 3 4 5\n",
        "      if s[i] + s[j] == n - 1:\n",
        "        a = [s[i],s[j]]\n",
        "        break\n",
        "    \n",
        "    if type(a) == list:\n",
        "      break\n",
        "\n",
        "\n",
        "  print('{0} {1}'.format(a[0],a[1]))\n",
        " \n",
        "''' ##시간초과\n",
        "for _ in range(int(input())):\n",
        "  n = int(input())+1 # n = 짝수, 4 <= n <= 10000 #0~n 까지\n",
        "  l = [True] * n\n",
        "\n",
        "  for i in range(2, int(n**0.5)+1):\n",
        "      if l[i]:\n",
        "          for j in range(2*i, n, i):\n",
        "              l[j] = False\n",
        "  l[0], l[1] = False, False #1은 소수가 아니다\n",
        "\n",
        "  s = []\n",
        "  for i in range(2,n):\n",
        "    if l[i]:\n",
        "      s.append(i)\n",
        "  \n",
        "  k = 0\n",
        "  min = 10000\n",
        "  for i in range(len(s)): #0 1 2 3\n",
        "    for j in range(len(s)-1,k-1,-1): # 3 2 1 0\n",
        "      if s[i] + s[j] >= n - 1:\n",
        "        if s[i] + s[j] == n - 1:\n",
        "          if min >= s[j] - s[i]:\n",
        "            min = s[j] - s[i]\n",
        "            t = [s[i], s[j]]\n",
        "      else:\n",
        "        break\n",
        "    k += 1\n",
        "\n",
        "  print('{0} {1}'.format(t[0],t[1]))\n",
        "'''"
      ],
      "execution_count": null,
      "outputs": []
    },
    {
      "cell_type": "markdown",
      "metadata": {
        "id": "6twKfAmqpRnI"
      },
      "source": [
        "#### 1085번"
      ]
    },
    {
      "cell_type": "code",
      "metadata": {
        "id": "Vu8gjpS3pRnI"
      },
      "source": [
        "#import sys #반복문으로 여러 줄을 받는 경우\n",
        "#sys.stdin.readline()\n",
        "\n",
        "x,y,w,h = map(int,input().split()) #y축과의 거리 = x, x축과의 거리 = y, w-x, h-y\n",
        "\n",
        "l = [x, y, w-x, h-y]\n",
        "\n",
        "min = l[0]\n",
        "for i in l:\n",
        "  if min >= i:\n",
        "    min = i\n",
        "\n",
        "print(min)"
      ],
      "execution_count": null,
      "outputs": []
    },
    {
      "cell_type": "markdown",
      "metadata": {
        "id": "ZDuE1-OipRq_"
      },
      "source": [
        "#### 3009번"
      ]
    },
    {
      "cell_type": "code",
      "metadata": {
        "id": "mc2GmSTUpRq_"
      },
      "source": [
        "a = list(map(int, input().split()))\n",
        "b = list(map(int, input().split()))\n",
        "c = list(map(int, input().split()))\n",
        "\n",
        "d = [a[0], b[0], c[0]]\n",
        "e = [a[1], b[1], c[1]]\n",
        "\n",
        "res = []\n",
        "for i in range(len(d)):\n",
        "  if d.count(d[i]) == 1:\n",
        "    res.append(d[i])\n",
        "\n",
        "for i in range(len(e)):\n",
        "  if e.count(e[i]) == 1:\n",
        "    res.append(e[i])\n",
        "\n",
        "print(res[0],res[1],end=' ')\n"
      ],
      "execution_count": null,
      "outputs": []
    },
    {
      "cell_type": "markdown",
      "metadata": {
        "id": "-nM0HEDopRvK"
      },
      "source": [
        "#### 4153번"
      ]
    },
    {
      "cell_type": "code",
      "metadata": {
        "id": "SPiX-2p3pRvK"
      },
      "source": [
        "while True:\n",
        "  a, b, c = map(int, input().split())\n",
        "\n",
        "  if (a == 0) & (b == 0) & (c == 0):\n",
        "    break\n",
        "\n",
        "  a = a**2\n",
        "  b = b**2\n",
        "  c = c**2\n",
        "\n",
        "  if a == b+c:\n",
        "    print('right')\n",
        "  elif b == a + c:\n",
        "    print('right')\n",
        "  elif c == a + b:\n",
        "    print('right')\n",
        "  else:\n",
        "    print('wrong')"
      ],
      "execution_count": null,
      "outputs": []
    },
    {
      "cell_type": "markdown",
      "metadata": {
        "id": "Z1B6hu9r5tXu"
      },
      "source": [
        "#### 3053번"
      ]
    },
    {
      "cell_type": "code",
      "metadata": {
        "id": "GSIgSRsT5tX5"
      },
      "source": [
        "import math\n",
        "\n",
        "n = int(input())\n",
        "\n",
        "\n",
        "print('{0:.6f}'.format(math.pi * (n ** 2)))\n",
        "print('{0:.6f}'.format((n ** 2) * 2))"
      ],
      "execution_count": null,
      "outputs": []
    },
    {
      "cell_type": "markdown",
      "metadata": {
        "id": "iPOcMnv25tf1"
      },
      "source": [
        "#### 1002번"
      ]
    },
    {
      "cell_type": "code",
      "metadata": {
        "id": "5i5bBkYg5tf2"
      },
      "source": [
        "import math\n",
        "\n",
        "for _ in range(int(input())):\n",
        "  x1, y1, r1, x2, y2, r2 = map(int,input().split())\n",
        "  d1 = math.sqrt(abs(x1 - x2) ** 2 + abs(y1- y2) ** 2)\n",
        "  \n",
        "  if (x1 == x2) & (y1 == y2) & (r1 != r2):\n",
        "    print(0)\n",
        "  elif (x1 == x2) & (y1 == y2) & (r1 == r2): #있을 수 있는 위치가 무한대\n",
        "    print(-1)\n",
        "\n",
        "  elif r2 >= d1 + r1:\n",
        "    if r2 == d1 + r1:\n",
        "      print(1)\n",
        "    else:\n",
        "      print(0)\n",
        "\n",
        "  elif r1 >= d1 + r2:\n",
        "    if r1 == d1 + r2:\n",
        "      print(1)\n",
        "    else:\n",
        "      print(0)\n",
        "\n",
        "  elif d1 > r1 + r2:\n",
        "    print(0)\n",
        "  elif d1 == r1 + r2:\n",
        "    print(1)\n",
        "  elif d1 < r1 + r2:\n",
        "    print(2)\n",
        "  else:\n",
        "    pass"
      ],
      "execution_count": null,
      "outputs": []
    },
    {
      "cell_type": "markdown",
      "metadata": {
        "id": "-muS8KkPIVzI"
      },
      "source": [
        "### **9단계 : 재귀===========**"
      ]
    },
    {
      "cell_type": "markdown",
      "metadata": {
        "id": "PJXK_rZ8IVza"
      },
      "source": [
        "#### 10872번"
      ]
    },
    {
      "cell_type": "code",
      "metadata": {
        "id": "m-aVskciIVzb"
      },
      "source": [
        "n = int(input())\n",
        "\n",
        "def fac(n):\n",
        "  if n == 0:\n",
        "    fact = 1\n",
        "  else:\n",
        "    fact = n * fac(n-1)\n",
        "\n",
        "  return fact\n",
        "\n",
        "print(fac(n))"
      ],
      "execution_count": null,
      "outputs": []
    },
    {
      "cell_type": "markdown",
      "metadata": {
        "id": "Rq10se6eIfZD"
      },
      "source": [
        "#### 10870번"
      ]
    },
    {
      "cell_type": "code",
      "metadata": {
        "id": "V_6et8TqIfZF"
      },
      "source": [
        "def pv(n):\n",
        "  if n == 0:\n",
        "    res = 0\n",
        "  elif n == 1:\n",
        "    res = 1\n",
        "  else:\n",
        "    res = pv(n-1) + pv(n-2)\n",
        "  return res\n",
        "\n",
        "n = int(input())\n",
        "print(pv(n))"
      ],
      "execution_count": null,
      "outputs": []
    },
    {
      "cell_type": "markdown",
      "metadata": {
        "id": "YynwjphPPrGr"
      },
      "source": [
        "####  17478번"
      ]
    },
    {
      "cell_type": "code",
      "metadata": {
        "id": "D8mLobDbPrGs"
      },
      "source": [
        "def recursion(n,x):\n",
        "    if n == x:\n",
        "        print('____' * x + '\"재귀함수가 뭔가요?\"')\n",
        "        print('____' * x + '\"재귀함수는 자기 자신을 호출하는 함수라네\"')\n",
        "        print('____' * x + '라고 답변하였지.')\n",
        "        return\n",
        "\n",
        "    print('____' * x + '\"재귀함수가 뭔가요?\"')\n",
        "    print('____' * x + '\"잘 들어보게. 옛날옛날 한 산 꼭대기에 이세상 모든 지식을 통달한 선인이 있었어.')\n",
        "    print('____' * x + '마을 사람들은 모두 그 선인에게 수많은 질문을 했고, 모두 지혜롭게 대답해 주었지.')\n",
        "    print('____' * x + '그의 답은 대부분 옳았다고 하네. 그런데 어느 날, 그 선인에게 한 선비가 찾아와서 물었어.\"')\n",
        "    recursion(n,x+1)\n",
        "    print('____' * x + '라고 답변하였지.')\n",
        "\n",
        "def main():\n",
        "    n = int(input())\n",
        "    print('어느 한 컴퓨터공학과 학생이 유명한 교수님을 찾아가 물었다.')\n",
        "\n",
        "    recursion(n, 0)\n",
        "\n",
        "if __name__ == '__main__':\n",
        "    main()"
      ],
      "execution_count": null,
      "outputs": []
    },
    {
      "cell_type": "markdown",
      "metadata": {
        "id": "4_uTqdNmIjzA"
      },
      "source": [
        "#### (*)2447번"
      ]
    },
    {
      "cell_type": "code",
      "metadata": {
        "id": "kzHeTQnap-nc"
      },
      "source": [
        "def star(k_):\n",
        "    global l \n",
        "    idx = [i for i in range(n) if (i // 3 ** k_) % 3 == 1]\n",
        "    for i in idx:\n",
        "        for j in idx:\n",
        "            l[i][j] = \" \"\n",
        "\n",
        "n=int(input())\n",
        "#l = [[['*'] * n] * n] # l[0] => n개가 나옴\n",
        "\n",
        "l = [[\"*\"]*n for _ in range(n)] # l[0] => 한개 나옴\n",
        "\n",
        "for i in range(1,8):\n",
        "  if 3 ** i == n:\n",
        "    k = i\n",
        "\n",
        "for k_ in range(k):\n",
        "    star(k_)\n",
        "    \n",
        "print('\\n'.join([''.join([str(i) for i in row]) for row in l]))\n",
        "\n",
        "'''\n",
        "t = ['***','* *','***']\n",
        "res = []\n",
        "\n",
        "def a(n):\n",
        "  if n == 3:\n",
        "    return t\n",
        "  else:\n",
        "    for _ in range(3):\n",
        "      res.append(a(int(n/3)))\n",
        "\n",
        "    res.append(a(int(n/3)))\n",
        "    res.append(['   ']*len(a(int(n/3))))\n",
        "\n",
        "    res.append(a(int(n/3)))\n",
        "\n",
        "    for _ in range(3):\n",
        "      res.append(a(int(n/3)))\n",
        "    return res\n",
        "\n",
        "\n",
        "l = [['***', '* *', '***'], ['***', '* *', '***']]\n",
        "l[0][0] + l[1][0]\n",
        "\n",
        "'''"
      ],
      "execution_count": null,
      "outputs": []
    },
    {
      "cell_type": "markdown",
      "metadata": {
        "id": "_bKHA0lrIj6l"
      },
      "source": [
        "#### (*)11729번"
      ]
    },
    {
      "cell_type": "code",
      "metadata": {
        "id": "iDrMX_tyIj6m"
      },
      "source": [
        "n = int(input())\n",
        "\n",
        "def hanoi(n, a, b):\n",
        "    if n > 1:\n",
        "        hanoi(n-1, a, 6-a-b)              # 기둥이 1개 이상이면 그룹으로 묶인 n-1개 원판을 \n",
        "                                          # 중간으로 먼저 다 옮긴다\n",
        "    print(a, b)\n",
        "\n",
        "    if n > 1:\n",
        "        hanoi(n-1, 6-a-b, b)\n",
        "\n",
        "print(2**n -1)\n",
        "hanoi(n, 1, 3) "
      ],
      "execution_count": null,
      "outputs": []
    },
    {
      "cell_type": "markdown",
      "metadata": {
        "id": "UaFH5L6zTDVu"
      },
      "source": [
        "### **11단계 : 브루트 포스===========**"
      ]
    },
    {
      "cell_type": "markdown",
      "metadata": {
        "id": "zu0qQkqvTDVz"
      },
      "source": [
        "#### 2798번"
      ]
    },
    {
      "cell_type": "code",
      "metadata": {
        "id": "UZap_O1ITDV0"
      },
      "source": [
        "n, m = map(int, input().split())\n",
        "l = list(map(int, input().split()))\n",
        "l.sort()\n",
        "max = 0\n",
        "h = 0\n",
        "for k in range(len(l)-2):\n",
        "  for i in range(len(l)-1,k+1,-1):\n",
        "    if l[k] + l[i] >= m:\n",
        "      continue\n",
        "    else:\n",
        "      for j in range(i-1,k,-1):\n",
        "        if l[k] + l[i] + l[j] > m:\n",
        "          continue\n",
        "        elif l[k] + l[i] + l[j] == m:\n",
        "          max = l[k] + l[i] + l[j]\n",
        "          h = 1\n",
        "          break\n",
        "        else:\n",
        "          if l[k] + l[i] + l[j] >= max:\n",
        "            max = l[k] + l[i] + l[j]\n",
        "          else:\n",
        "            continue\n",
        "        continue\n",
        "    if h == 1:\n",
        "      break\n",
        "\n",
        "  continue\n",
        "  if h == 1:\n",
        "    break\n",
        "\n",
        "print(max)"
      ],
      "execution_count": null,
      "outputs": []
    },
    {
      "cell_type": "markdown",
      "metadata": {
        "id": "L3mEbN4iMdEM"
      },
      "source": [
        "#### 2231번"
      ]
    },
    {
      "cell_type": "code",
      "metadata": {
        "id": "xlmtQoT9MdEa"
      },
      "source": [
        "def fun(n):\n",
        "  l = []\n",
        "  if n < 20:\n",
        "\n",
        "    for i in range(1,n+1):\n",
        "      a = str(i)\n",
        "      b = 0\n",
        "      for j in range(len(a)):\n",
        "        b += int(a[j])\n",
        "      if b + i == n:\n",
        "        l.append(i)\n",
        "      else:\n",
        "        continue\n",
        "\n",
        "    l.sort()\n",
        "\n",
        "    if l == []:\n",
        "      return 0\n",
        "    else:\n",
        "      return l[0]\n",
        "\n",
        "  else:\n",
        "    for i in range(n-int(len(str(n)))*10,n+1):\n",
        "      \n",
        "      a = str(i)\n",
        "      b = 0\n",
        "      for j in range(len(a)):\n",
        "        b += int(a[j])\n",
        "      \n",
        "      if b+i == n:\n",
        "        l.append(i)\n",
        "      else:\n",
        "        continue\n",
        "    \n",
        "    l.sort()\n",
        "\n",
        "    if l == []:\n",
        "      return 0\n",
        "    else:\n",
        "      return l[0]\n",
        "  \n",
        "\n",
        "n = int(input())\n",
        "\n",
        "print(fun(n))\n"
      ],
      "execution_count": null,
      "outputs": []
    },
    {
      "cell_type": "markdown",
      "metadata": {
        "id": "fGK6XiQ4MdHJ"
      },
      "source": [
        "#### 7568번"
      ]
    },
    {
      "cell_type": "code",
      "metadata": {
        "id": "AaJV1D25eq8x"
      },
      "source": [
        "a = []\n",
        "res = []\n",
        "for _ in range(int(input())):\n",
        "  a.append(list(map(int,input().split())))\n",
        "\n",
        "for i in range(len(a)):\n",
        "  cnt = 1\n",
        "  for j in range(len(a)):\n",
        "    if a[i][0] < a[j][0]:\n",
        "      if a[i][1] < a[j][1]:\n",
        "        cnt += 1\n",
        "  \n",
        "  res.append(cnt)\n",
        "\n",
        "for i in res:\n",
        "  print(i,end=' ')\n",
        "\n",
        "'''\n",
        "w = [], h = [], rank_w = [], rank_h = [], res = [], mm = []\n",
        "\n",
        "for _ in range(int(input())):\n",
        "  a = list(map(int,input().split()))\n",
        "  w.append(a[0])\n",
        "  h.append(a[1])\n",
        "\n",
        "sort_w = w.copy()\n",
        "sort_h = h.copy()\n",
        "sort_w.sort(reverse=True)\n",
        "sort_h.sort(reverse=True)\n",
        "\n",
        "for i in range(len(w)):\n",
        "  rank_w.append(sort_w.index(w[i]) + 1)\n",
        "  rank_h.append(sort_h.index(h[i]) + 1)\n",
        "\n",
        "for i in range(len(rank_w)):\n",
        "  if rank_w[i] == rank_h[i]:\n",
        "    res.append(rank_w[i])\n",
        "  else:\n",
        "    x = [rank_w[i], rank_h[i]]\n",
        "    x.sort()\n",
        "    if x in mm:\n",
        "      pass\n",
        "    else:\n",
        "      mm.append(x)\n",
        "\n",
        "    res.append((rank_w[i] + rank_h[i]) / 2)\n",
        "\n",
        "for i in range(len(res)):\n",
        "  for j in mm:\n",
        "    if (j[0] <= res[i]) & ( res[i] <= j[1]):\n",
        "      res[i] = j[0]\n",
        "\n",
        "for i in res:\n",
        "  print(i,end=' ')\n",
        "'''"
      ],
      "execution_count": null,
      "outputs": []
    },
    {
      "cell_type": "markdown",
      "metadata": {
        "id": "3LicNHImMdKU"
      },
      "source": [
        "#### 1018번"
      ]
    },
    {
      "cell_type": "code",
      "metadata": {
        "id": "SRibJTpB1KeB"
      },
      "source": [
        "import sys\n",
        "\n",
        "def BW(x):\n",
        "  if x == 'W':\n",
        "    return True\n",
        "  else:\n",
        "    return False\n",
        "\n",
        "def count_box(a, list_x):\n",
        "    cnt = 0\n",
        "    if a ==1: #W\n",
        "        for i in range(0, 8, 2):\n",
        "            if list_x[i] == True:\n",
        "                pass\n",
        "            else:\n",
        "                cnt += 1\n",
        "\n",
        "            if list_x[i+1] == False:\n",
        "                pass\n",
        "            else:\n",
        "                cnt += 1\n",
        "        return cnt\n",
        "\n",
        "    else:\n",
        "        for i in range(0, 8, 2):\n",
        "            if list_x[i] == False:\n",
        "                pass\n",
        "            else:\n",
        "                cnt += 1\n",
        "\n",
        "            if list_x[i + 1] == True:\n",
        "                pass\n",
        "            else:\n",
        "                cnt += 1\n",
        "        return cnt\n",
        "\n",
        "\n",
        "m, n = map(int, input().split())\n",
        "ch = []\n",
        "\n",
        "for _ in range(m):\n",
        "    ch.append(list(map(BW, list(str(sys.stdin.readline())))))\n",
        "    #ch.append(list(sys.stdin.readline()))\n",
        "\n",
        "res_list = []\n",
        "for i in range(m - 7):\n",
        "    for j in range(n - 7):\n",
        "        res_0 = 0\n",
        "        res_1 = 0\n",
        "        for k in range(0,8,2):\n",
        "            res_1 += count_box(1, ch[i + k][j:j + 8]) #처음이 W\n",
        "            res_1 += count_box(0, ch[i + k + 1][j:j + 8])\n",
        "            res_0 += count_box(0, ch[i + k][j:j + 8])\n",
        "            res_0 += count_box(1, ch[i + k + 1][j:j + 8])\n",
        "\n",
        "        if res_0 >= res_1:\n",
        "            res_list.append(res_1)\n",
        "        else:\n",
        "            res_list.append(res_0)\n",
        "\n",
        "min = res_list[0]\n",
        "for i in res_list:\n",
        "    if i <= min:\n",
        "        min = i\n",
        "    else:\n",
        "        pass\n",
        "\n",
        "\n",
        "print(min)"
      ],
      "execution_count": null,
      "outputs": []
    },
    {
      "cell_type": "markdown",
      "metadata": {
        "id": "9zMkFXkfMdOm"
      },
      "source": [
        "#### 1436번"
      ]
    },
    {
      "cell_type": "code",
      "metadata": {
        "id": "zBja6jSIMdOn"
      },
      "source": [
        "n = int(input())    # n번째 영화\n",
        "\n",
        "a = 1               # 영화 제목에 들어 갈 숫자\n",
        "t = 2               # t번째 영화(2부터 시작)\n",
        "\n",
        "if n == 1:          # 첫번째 영화면\n",
        "  print(666)        # 종말의 666 출력\n",
        "\n",
        "else:               # 그 이외의 영화이면\n",
        "  h = 1             # 무한 반복 종료 조건\n",
        "  while h != 0:     # 조건이 만족할 때 까지 반복\n",
        "    \n",
        "    b = list(str(a))    # 영화에 들어갈 수 리스트 변환\n",
        "    if b[-1] == '6':    # 마지막 문자열이 '6'이면\n",
        "\n",
        "      cnt = 0           # '6' 문자 카운트 변수 생성\n",
        "      for i in range(len(b)-1,-1,-1):   # 리스트 뒤에서 부터 진행\n",
        "        if b[i] == '6': # '6'이면\n",
        "          cnt += 1      # 카운트 변수 + 1\n",
        "        else:           # '6'이 아니면 \n",
        "          break         # for문 종료\n",
        "      \n",
        "      for i in range(10 ** cnt):    # cnt 자리수 반복\n",
        "        if t == n:                  # t와 n이 같으면\n",
        "          j = str(i).rjust(cnt).replace(' ','0')    # cnt만큼 오른쪽에 '0' 추가 \n",
        "          print(int(str(a)+'6'*(3-cnt)+j))          # \n",
        "          h = 0         # 무한 반복 종료\n",
        "          break         # for문 종료\n",
        "\n",
        "        t += 1          # t와 n이 같지 않으면 1 증가\n",
        "\n",
        "      a += 1            # 영화에 들어갈 수 1증가\n",
        "\n",
        "    else:               # 문자열이 '6'이 아니면\n",
        "      if t == n:        # t와 n이 같으면\n",
        "        h = 0           # 무한 반복 종료\n",
        "        print(int(str(a)+'666'))    # 영화에 들어갈 숫자 출력\n",
        "        \n",
        "      t += 1            # t + 1\n",
        "      a += 1            # 영화에 들어갈 수 1증가"
      ],
      "execution_count": null,
      "outputs": []
    },
    {
      "cell_type": "markdown",
      "metadata": {
        "id": "NTQ_ay5yTJtQ"
      },
      "source": [
        "### **12단계 : 정렬===========**"
      ]
    },
    {
      "cell_type": "markdown",
      "metadata": {
        "id": "Rv4kaoPHTJtR"
      },
      "source": [
        "#### 2750번"
      ]
    },
    {
      "cell_type": "code",
      "metadata": {
        "id": "0YtTiSfnTJtR"
      },
      "source": [
        "# sort() 원형 변환, sorted(list) = 원형 변환 x\n",
        "\n",
        "import sys\n",
        "\n",
        "l = []\n",
        "\n",
        "for _ in range(int(input())):\n",
        "  l.append(int(sys.stdin.readline()))\n",
        "\n",
        "l.sort()\n",
        "for i in l:\n",
        "  print(i)"
      ],
      "execution_count": null,
      "outputs": []
    },
    {
      "cell_type": "markdown",
      "metadata": {
        "id": "_GihlXpZv_jE"
      },
      "source": [
        "#### 2751번(2750 이랑 같은 풀이)"
      ]
    },
    {
      "cell_type": "code",
      "metadata": {
        "id": "esS4nx-gxHLn"
      },
      "source": [
        "import sys\n",
        "\n",
        "l = []\n",
        "\n",
        "for _ in range(int(input())):\n",
        "  l.append(int(sys.stdin.readline()))\n",
        "\n",
        "l.sort()\n",
        "for i in l:\n",
        "  print(i)"
      ],
      "execution_count": null,
      "outputs": []
    },
    {
      "cell_type": "markdown",
      "metadata": {
        "id": "2qYuBrbJv_px"
      },
      "source": [
        "#### 10989번(counting 정렬 : 계수정렬)\n"
      ]
    },
    {
      "cell_type": "code",
      "metadata": {
        "id": "GAKnVNAhv_py"
      },
      "source": [
        "# sort도 Counting Sort 와 Quick Sort 가 있으며 시간 복잡도가 다름 ((n) 과 (nlogn))\n",
        "\n",
        "import sys\n",
        "\n",
        "l =[0] * 10000\n",
        "\n",
        "for _ in range(int(input())):\n",
        "  a = int(sys.stdin.readline())-1\n",
        "  l[a] = l[a] + 1\n",
        "\n",
        "for i in range(len(l)):\n",
        "  if l[i] != 0:\n",
        "    for _ in range(l[i]):\n",
        "      print(i+1)\n",
        "  else:\n",
        "    pass"
      ],
      "execution_count": null,
      "outputs": []
    },
    {
      "cell_type": "markdown",
      "metadata": {
        "id": "c1eqrUsLv_uC"
      },
      "source": [
        "#### 2108번"
      ]
    },
    {
      "cell_type": "code",
      "metadata": {
        "id": "Eyjh8BOjv_uD"
      },
      "source": [
        "import sys\n",
        "# -4000 ~ 0 ~ 4000 8001\n",
        "l = [0] * 8001\n",
        "sum = 0\n",
        "\n",
        "n = int(input())\n",
        "for _ in range(n):\n",
        "  a = int(sys.stdin.readline())\n",
        "  l[a + 4000] += 1\n",
        "  sum += a\n",
        "\n",
        "print(int(round(sum / n,0)))\n",
        "\n",
        "median = 0\n",
        "\n",
        "for i in range(8001):\n",
        "  if l[i] == 0:\n",
        "    pass\n",
        "  else:\n",
        "    median += l[i]\n",
        "    if median >= int(n / 2 + 0.5):\n",
        "      print(-4000 + i)\n",
        "      break\n",
        "\n",
        "max = 0\n",
        "for i in range(8001):\n",
        "  if l[i] == 0:\n",
        "    pass\n",
        "  else:\n",
        "    if l[i] >= max:\n",
        "      max = l[i]\n",
        "\n",
        "t = []\n",
        "for i in range(8001):\n",
        "  if l[i] == max:\n",
        "    t.append(-4000 + i)\n",
        "\n",
        "t.sort()\n",
        "if len(t) == 1:\n",
        "  print(t[0])\n",
        "else:\n",
        "  print(t[1])\n",
        "\n",
        "for i in range(8001):\n",
        "  if l[i] != 0:\n",
        "    x = -4000 + i\n",
        "    break\n",
        "\n",
        "for i in range(-1,-8002,-1):\n",
        "  if l[i] != 0:\n",
        "    y = 4001 + i\n",
        "    break\n",
        "\n",
        "print(abs(y - x))"
      ],
      "execution_count": null,
      "outputs": []
    },
    {
      "cell_type": "markdown",
      "metadata": {
        "id": "x8_IWrHDv_xZ"
      },
      "source": [
        "#### 1427번"
      ]
    },
    {
      "cell_type": "code",
      "metadata": {
        "id": "7Z4z6GDAv_xa"
      },
      "source": [
        "l = list(map(int,list(str(input()))))\n",
        "\n",
        "l.sort(reverse=True)\n",
        "\n",
        "l = list(map(str,l))\n",
        "a = ''\n",
        "for i in l:\n",
        "  a += i\n",
        "\n",
        "print(a)\n"
      ],
      "execution_count": null,
      "outputs": []
    },
    {
      "cell_type": "markdown",
      "metadata": {
        "id": "G15IkQ6tv_1K"
      },
      "source": [
        "#### 11650번"
      ]
    },
    {
      "cell_type": "code",
      "metadata": {
        "id": "52S_B8xwv_1K"
      },
      "source": [
        "import sys\n",
        "\n",
        "l = []\n",
        "for _ in range(int(input())):\n",
        "  l.append(list(map(int,sys.stdin.readline().split(' '))))\n",
        "\n",
        "l.sort()\n",
        "for i in l:\n",
        "  print('{0} {1}'.format(i[0],i[1]))"
      ],
      "execution_count": null,
      "outputs": []
    },
    {
      "cell_type": "markdown",
      "metadata": {
        "id": "PO8bT17Yv_4W"
      },
      "source": [
        "#### 11651번"
      ]
    },
    {
      "cell_type": "code",
      "metadata": {
        "id": "f4D7wuNLv_4W"
      },
      "source": [
        "#key 파라미터 = 정렬을 목적으로 하는 함수를 값으로 넣는다, 여러개일 경우 (x[0], x[1]) 튜플 형태 가능\n",
        "import sys\n",
        "\n",
        "l = []\n",
        "for _ in range(int(input())):\n",
        "  l.append(list(map(int,sys.stdin.readline().split(' '))))\n",
        "\n",
        "l.sort(key= lambda x : (x[1], x[0]))\n",
        "for i in l:\n",
        "  print('{0} {1}'.format(i[0],i[1]))"
      ],
      "execution_count": null,
      "outputs": []
    },
    {
      "cell_type": "markdown",
      "metadata": {
        "id": "cNNCoZ9jv_74"
      },
      "source": [
        "#### 1181번"
      ]
    },
    {
      "cell_type": "code",
      "metadata": {
        "id": "z-jfBVbjv_75"
      },
      "source": [
        "import sys\n",
        "\n",
        "l = []\n",
        "for _ in range(int(input())):\n",
        "  l.append(sys.stdin.readline().split()[0])\n",
        "\n",
        "l = list(set(l))\n",
        "l.sort(key= lambda x : (len(x), x))\n",
        "\n",
        "for i in l:\n",
        "  print(i)"
      ],
      "execution_count": null,
      "outputs": []
    },
    {
      "cell_type": "markdown",
      "metadata": {
        "id": "WsfSoeVGv__n"
      },
      "source": [
        "#### 10814번"
      ]
    },
    {
      "cell_type": "code",
      "metadata": {
        "id": "dS7LOir6v__n"
      },
      "source": [
        "import sys\n",
        "\n",
        "def up(x):\n",
        "  return int(x[0]), x[1]\n",
        "\n",
        "l = []\n",
        "for _ in range(int(input())):\n",
        "  l.append(list( up(sys.stdin.readline().rstrip('\\n').split(' ')) ))\n",
        "\n",
        "l.sort(key= lambda x : x[0])\n",
        "\n",
        "for i in l:\n",
        "  print('{0} {1}'.format(i[0],i[1]))"
      ],
      "execution_count": null,
      "outputs": []
    },
    {
      "cell_type": "markdown",
      "metadata": {
        "id": "lwfJcPujwADW"
      },
      "source": [
        "#### 18870번"
      ]
    },
    {
      "cell_type": "code",
      "metadata": {
        "id": "w76ZrblpwADW"
      },
      "source": [
        "import sys\n",
        "\n",
        "n = int(input())\n",
        "l = list(map(int, sys.stdin.readline().rstrip('\\n').split(' ')))\n",
        "\n",
        "t = sorted(set(l))\n",
        "\n",
        "a = {t[i] : i for i in range(len(t))} #dic 형태의 key: value로 값 불러오기 \n",
        "\n",
        "for i in l:\n",
        "  print(a[i],end=' ')\n",
        "  #print(t.index(i), end=' ') #인덱스 형태로 불러오니 시간초과가 계속 떴음."
      ],
      "execution_count": null,
      "outputs": []
    },
    {
      "cell_type": "markdown",
      "metadata": {
        "id": "c8PuR2bJTJy-"
      },
      "source": [
        "### **13단계 : 집합과 맵(수정예정 0문제)===========**"
      ]
    },
    {
      "cell_type": "markdown",
      "metadata": {
        "id": "JHHpUh5sTJy-"
      },
      "source": [
        "#### 1"
      ]
    },
    {
      "cell_type": "code",
      "metadata": {
        "id": "vnQgsF6ATJy-"
      },
      "source": [
        ""
      ],
      "execution_count": null,
      "outputs": []
    },
    {
      "cell_type": "markdown",
      "metadata": {
        "id": "jpgz7y6-TJ2u"
      },
      "source": [
        "### **14단계 : 백트래킹===========**"
      ]
    },
    {
      "cell_type": "markdown",
      "metadata": {
        "id": "Id8suWMLTJ2u"
      },
      "source": [
        "#### (*)15649번"
      ]
    },
    {
      "cell_type": "code",
      "metadata": {
        "id": "Avn1V7iuTJ2u"
      },
      "source": [
        "#백트래킹 : 완탐 + 가지치기\n",
        "# import itertools 사용\n",
        "#https://chanhuiseok.github.io/posts/algo-23/\n",
        "\n",
        "n, m = map(int, input().split())\n",
        "\n",
        "def solve(l):\n",
        "  if len(l) == m:\n",
        "    print(' '.join(map(str, l)))\n",
        "    return\n",
        "  \n",
        "  for i in range(1, n +1):\n",
        "    if i in l:\n",
        "      continue\n",
        "    solve(l+[i])\n",
        "\n",
        "solve([])"
      ],
      "execution_count": null,
      "outputs": []
    },
    {
      "cell_type": "markdown",
      "metadata": {
        "id": "0X43_siuI-1X"
      },
      "source": [
        "#### 15650번"
      ]
    },
    {
      "cell_type": "code",
      "metadata": {
        "id": "yTjTIevMI-1i"
      },
      "source": [
        "n, m = map(int, input().split())\n",
        "\n",
        "def solve(l, x):\n",
        "  if len(l) == m:\n",
        "    print(' '.join(map(str, l)))\n",
        "    return\n",
        "  \n",
        "  for i in range(x, n +1):\n",
        "    if i in l:\n",
        "      continue\n",
        "    solve(l+[i], i + 1)\n",
        "    \n",
        "\n",
        "solve([],1)\n"
      ],
      "execution_count": null,
      "outputs": []
    },
    {
      "cell_type": "markdown",
      "metadata": {
        "id": "ZY4ylPCUI_Dq"
      },
      "source": [
        "#### 15651번"
      ]
    },
    {
      "cell_type": "code",
      "metadata": {
        "id": "2X1cj_LuI_Dr"
      },
      "source": [
        "n, m = map(int, input().split())\n",
        "\n",
        "def solve(l):\n",
        "  if len(l) == m:\n",
        "    print(' '.join(map(str, l)))\n",
        "    return\n",
        "  \n",
        "  for i in range(1, n +1):\n",
        "\n",
        "    solve(l+[i])\n",
        "    \n",
        "solve([])"
      ],
      "execution_count": null,
      "outputs": []
    },
    {
      "cell_type": "markdown",
      "metadata": {
        "id": "Duha6a9WI_HA"
      },
      "source": [
        "#### 15652번"
      ]
    },
    {
      "cell_type": "code",
      "metadata": {
        "id": "6eZuJqPlI_HB"
      },
      "source": [
        "n, m = map(int, input().split())\n",
        "\n",
        "def solve(l):\n",
        "  if len(l) == m:\n",
        "    print(' '.join(map(str, l)))\n",
        "    return\n",
        "  \n",
        "  for i in range(1, n +1):\n",
        "    if not l:\n",
        "      solve(l+[i])\n",
        "    elif i < l[-1]:\n",
        "      continue\n",
        "    else:\n",
        "      solve(l+[i])\n",
        "\n",
        "solve([])"
      ],
      "execution_count": null,
      "outputs": []
    },
    {
      "cell_type": "markdown",
      "metadata": {
        "id": "iqYb65BVI_J6"
      },
      "source": [
        "#### (*)9663번 : N-queen 문제 못풀음"
      ]
    },
    {
      "cell_type": "code",
      "metadata": {
        "id": "6acerEu2lAbO"
      },
      "source": [
        "# 각 행과 열마다 퀸이 들어가있어야함\n",
        "import copy\n",
        "\n",
        "n = int(input())\n",
        "\n",
        "chess = []\n",
        "T = []\n",
        "cnt = 0\n",
        "\n",
        "for _ in range(n):\n",
        "    chess.append([False] * n)\n",
        "    T.append([True] * n)\n",
        "\n",
        "def n_queen(chess, x):\n",
        "  global cnt\n",
        "  \n",
        "  if chess == T:\n",
        "    return\n",
        "\n",
        "  if x == n:\n",
        "    num = 0\n",
        "    for i in range(n):\n",
        "      for j in range(n):\n",
        "        if chess[i][j] == False:\n",
        "          cnt += 1\n",
        "    return \n",
        "\n",
        "\n",
        "  for i in range(n):\n",
        "    t = copy.deepcopy(chess)\n",
        "\n",
        "    if chess[x-1][i] == True: #x-1 행, i열\n",
        "      continue\n",
        "\n",
        "    for k in range(n):\n",
        "      t[k][i] = True\n",
        "      t[x-1][k] = True\n",
        "\n",
        "    for k in range(x, n):\n",
        "      if (0 <= i + (k - x + 1)) & (i + (k - x + 1) < n):\n",
        "        t[k][i + (k - x + 1)] = True\n",
        "      if (0 <= i - (k - x + 1)) & (i - (k - x + 1)  < n):\n",
        "        t[k][i - (k - x + 1)] = True\n",
        "\n",
        "    n_queen(t, x + 1)\n",
        "\n",
        "n_queen(chess, 1)\n",
        "print(cnt)\n"
      ],
      "execution_count": null,
      "outputs": []
    },
    {
      "cell_type": "code",
      "metadata": {
        "id": "D5cZRwZ7D9Mq"
      },
      "source": [
        "# 정답 코드\n",
        "\n",
        "def adjacent(x):\n",
        "    for i in range(x):\n",
        "        if row[x] == row[i] or abs(row[x] - row[i]) == x - i:\n",
        "            return False\n",
        "    return True\n",
        "        \n",
        "def dfs(x):\n",
        "    global result\n",
        "    \n",
        "    if x == N:\n",
        "        result += 1\n",
        "\n",
        "    else:\n",
        "        for i in range(N):\n",
        "            row[x] = i\n",
        "            if adjacent(x):\n",
        "                dfs(x + 1)\n",
        "\n",
        "N = int(input())\n",
        "row = [0] * N\n",
        "result = 0\n",
        "dfs(0)\n",
        "print(result)"
      ],
      "execution_count": null,
      "outputs": []
    },
    {
      "cell_type": "markdown",
      "metadata": {
        "id": "dWdByFb4I_M4"
      },
      "source": [
        "#### 2580번"
      ]
    },
    {
      "cell_type": "code",
      "metadata": {
        "id": "vUd5vO2mstA5"
      },
      "source": [
        "#Pypy3 제출\n",
        "#마지막 가지에서의  append는 적용 안됨 그래서 deepcopy로 해결\n",
        "import sys\n",
        "import copy\n",
        "s = []\n",
        "h = []\n",
        "for _ in range(9):\n",
        "  s.append(list(map(int,sys.stdin.readline().rstrip('\\n').split(' '))))\n",
        "\n",
        "zeros = [(i,j) for i in range(9) for j in range(9) if s[i][j] == 0]\n",
        "\n",
        "def sudoku(x):\n",
        "\n",
        "\n",
        "  if x == len(zeros):\n",
        "    global h\n",
        "    v = copy.deepcopy(s) #그냥 apend(s) 하면 원래 s값으로 돌아가서 deepcopy로 해결\n",
        "    h.append(v)\n",
        "    return\n",
        "\n",
        "  i = zeros[x][0]\n",
        "  j = zeros[x][1]\n",
        "\n",
        "  l = []\n",
        "  for k in range(1,10):\n",
        "    y = 0\n",
        " \n",
        "    for q in range(9):\n",
        "      if s[i][q] == k: # k in s[i] 보다 빠름\n",
        "        y = 1\n",
        "        break\n",
        "\n",
        "      if s[q][j] == k:\n",
        "        y = 1\n",
        "        break\n",
        "    \n",
        "    if y == 1:\n",
        "      continue\n",
        "    \n",
        "    for m in range((j // 3) * 3, ((j // 3) + 1) * 3):\n",
        "      for n in range((i // 3) * 3, ((i // 3) + 1) * 3):\n",
        "        if s[n][m] == k:\n",
        "          y = 1\n",
        "          break\n",
        "      if y == 1:\n",
        "        break \n",
        "\n",
        "    if y == 1:\n",
        "      continue\n",
        "\n",
        "    l.append(k)\n",
        "\n",
        "  for k in l:\n",
        "    s[i][j] = k\n",
        "    sudoku(x + 1)\n",
        "    s[i][j] = 0\n",
        "\n",
        "sudoku(0)\n",
        "\n",
        "for i in h[0]:\n",
        "  print(*i)\n",
        "\n",
        "''' #스도쿠 결과가 두개인 경우\n",
        "9 8 4 0 0 0 6 7 0\n",
        "6 1 0 8 0 0 5 0 0\n",
        "0 5 7 0 0 0 0 3 1\n",
        "0 6 0 9 0 0 4 1 0\n",
        "4 2 0 1 8 0 7 0 3\n",
        "5 0 0 3 0 4 0 0 0\n",
        "7 0 5 2 0 0 0 0 0\n",
        "0 0 2 4 9 0 0 5 7\n",
        "1 9 0 0 0 3 2 0 0\n",
        "'''"
      ],
      "execution_count": null,
      "outputs": []
    },
    {
      "cell_type": "code",
      "metadata": {
        "id": "vyl8uVza8NuM"
      },
      "source": [
        "#시간초과, 메모리 초과\n",
        "import sys\n",
        "sys.setrecursionlimit(10**9)\n",
        "\n",
        "s = []\n",
        "\n",
        "for _ in range(9):\n",
        "  s.append(list(map(int,sys.stdin.readline().rstrip('\\n').split(' '))))\n",
        "\n",
        "def sudoku(s):\n",
        "  num = 0\n",
        "  for i in range(9):\n",
        "    if 0 in s[i]:\n",
        "      num = 1\n",
        "      for j in range(9):\n",
        "        if s[i][j] == 0:\n",
        "          l = []\n",
        "          p = []\n",
        "          a = int(j // 3)\n",
        "          b = int(i // 3)\n",
        "          for m in range(a * 3, (a + 1) * 3):\n",
        "            for n in range(b * 3, (b + 1) * 3):\n",
        "              p.append(s[n][m])\n",
        "\n",
        "          t = [s[k][j] for k in range(9)]\n",
        "          for k in range(1,10):\n",
        "            if k not in s[i]:\n",
        "              if k not in t:\n",
        "                if k not in p:\n",
        "                  l.append(k)\n",
        "\n",
        "          if len(l) == 1:\n",
        "            s[i][j] = l[0]\n",
        "\n",
        "  if num == 1:\n",
        "    sudoku(s)\n",
        "  else:\n",
        "    for i in range(9):\n",
        "      print(' '.join(map(str, s[i])))\n",
        "    return\n",
        "\n",
        "sudoku(s)\n"
      ],
      "execution_count": null,
      "outputs": []
    },
    {
      "cell_type": "markdown",
      "metadata": {
        "id": "RN4IB3xOI_QP"
      },
      "source": [
        "#### 14888번"
      ]
    },
    {
      "cell_type": "code",
      "metadata": {
        "id": "4JHLvuIPhq-F"
      },
      "source": [
        "import copy\n",
        "\n",
        "max = - 10 ** 9 - 1\n",
        "min = 10 ** 9 + 1\n",
        "\n",
        "n = int(input())\n",
        "num_list = list(map(int, input().split(' ')))\n",
        "operator = list(map(int, input().split(' ')))\n",
        "\n",
        "def solve(x, ans, o,p,q,r):\n",
        "    if x == n:\n",
        "        global max\n",
        "        global min\n",
        "        a = copy.deepcopy(ans)\n",
        "\n",
        "        if a >= max:\n",
        "            max = a\n",
        "        if a <= min:\n",
        "            min = a\n",
        "        return\n",
        "\n",
        "    for i in range(1,5):\n",
        "        if i == 1:\n",
        "            if o == 0:\n",
        "              continue\n",
        "\n",
        "            y = ans + num_list[x]\n",
        "            o -= 1\n",
        "        elif i == 2:\n",
        "            if p == 0:\n",
        "              continue\n",
        "            y = ans - num_list[x]\n",
        "            p -= 1\n",
        "        elif i == 3:\n",
        "            if q == 0:\n",
        "                continue\n",
        "            y = ans * num_list[x]\n",
        "            q -= 1\n",
        "        else: # i ==4\n",
        "            if r == 0:\n",
        "              continue\n",
        "\n",
        "            if ans >= 0:\n",
        "                y = ans // num_list[x]\n",
        "                r -= 1\n",
        "            else:\n",
        "                y = -(abs(ans) // num_list[x])\n",
        "                r -= 1\n",
        "\n",
        "        solve(x + 1, y,o,p,q,r)\n",
        "\n",
        "        if i == 1:\n",
        "          o += 1\n",
        "        elif i == 2:\n",
        "          p += 1\n",
        "        elif i == 3:\n",
        "          q += 1\n",
        "        else:\n",
        "          r += 1\n",
        "\n",
        "\n",
        "\n",
        "solve(1, num_list[0],operator[0],operator[1],operator[2],operator[3])\n",
        "print(max)\n",
        "print(min)"
      ],
      "execution_count": null,
      "outputs": []
    },
    {
      "cell_type": "code",
      "metadata": {
        "id": "Of_vfCwKI_QQ"
      },
      "source": [
        "#pypy3 성공, Python 시간초과\n",
        "import copy\n",
        "\n",
        "n = int(input())\n",
        "num_list = list(map(int, input().split(' ')))\n",
        "operator_cnt = list(map(int, input().split(' ')))\n",
        "\n",
        "operator = []\n",
        "for i in range(4):\n",
        "    for _ in range(operator_cnt[i]):\n",
        "        operator.append(i+1)\n",
        "\n",
        "max = - 10 ** 9 - 1\n",
        "min = 10 ** 9 + 1\n",
        "\n",
        "def solve(x, ans):\n",
        "    if x == n:\n",
        "        global max\n",
        "        global min\n",
        "        a = copy.deepcopy(ans)\n",
        "\n",
        "        if a >= max:\n",
        "            max = a\n",
        "        if a <= min:\n",
        "            min = a\n",
        "        return\n",
        "\n",
        "    for i in range(len(operator)):\n",
        "        a = operator[i]\n",
        "        if a == 1:\n",
        "            y = ans + num_list[x]\n",
        "        if a == 2:\n",
        "            y = ans - num_list[x]\n",
        "        if a == 3:\n",
        "            y = ans * num_list[x]\n",
        "        if a == 4:\n",
        "            if ans >= 0:\n",
        "                y = ans // num_list[x]\n",
        "            else:\n",
        "                y = -(abs(ans) // num_list[x])\n",
        "\n",
        "        operator.remove(a)\n",
        "        solve(x + 1, y)\n",
        "        operator.insert(i,a)\n",
        "\n",
        "solve(1, num_list[0])\n",
        "print(max)\n",
        "print(min)"
      ],
      "execution_count": null,
      "outputs": []
    },
    {
      "cell_type": "markdown",
      "metadata": {
        "id": "X70TgeGFI_UZ"
      },
      "source": [
        "#### 14889번"
      ]
    },
    {
      "cell_type": "code",
      "metadata": {
        "id": "gzTL20uVI_Ua"
      },
      "source": [
        "import sys\n",
        "import copy\n",
        "\n",
        "n = int(input())\n",
        "s = []\n",
        "for _ in range(n):\n",
        "     s.append(list(map(int, sys.stdin.readline().split())))\n",
        "\n",
        "res = 10 ** 5 # 10^2 로 해서 계속 틀렸었음;\n",
        "\n",
        "x = [i for i in range(1, n + 1)]\n",
        "\n",
        "def point(l):\n",
        "    sum = 0\n",
        "    for i in l:\n",
        "        for j in l:\n",
        "            if i == j:\n",
        "                continue\n",
        "            sum += s[i-1][j - 1]\n",
        "\n",
        "    return sum\n",
        "\n",
        "def skills(l, j):\n",
        "    if len(l) == n / 2:\n",
        "        global res\n",
        "\n",
        "        if res == 0:\n",
        "            return\n",
        "\n",
        "        t = copy.deepcopy(x)\n",
        "        for i in l:\n",
        "            t.remove(i)\n",
        "\n",
        "        if res > abs(point(l) - point(t)):\n",
        "            res = abs(point(l) - point(t))\n",
        "            return\n",
        "        else:\n",
        "            return\n",
        "\n",
        "    for i in range(j,n+1):\n",
        "        skills(l + [i],i+1)\n",
        "\n",
        "skills([], 1)\n",
        "\n",
        "print(int(res))"
      ],
      "execution_count": null,
      "outputs": []
    },
    {
      "cell_type": "markdown",
      "metadata": {
        "id": "oQWV6kNSTJ6F"
      },
      "source": [
        "### **15단계 : 동적 계획법1===========**"
      ]
    },
    {
      "cell_type": "markdown",
      "metadata": {
        "id": "BJL-EjWYTJ6G"
      },
      "source": [
        "#### 1003번"
      ]
    },
    {
      "cell_type": "code",
      "metadata": {
        "id": "c0mURIJPTJ6G"
      },
      "source": [
        "import sys\n",
        "\n",
        "def fibonacci(x):\n",
        "  if x == 0:\n",
        "    return [1,0]\n",
        "  elif x == 1:\n",
        "    return [0,1]\n",
        "  else:\n",
        "    return [l[x-1][0] + l[x-2][0],l[x-1][1] + l[x-2][1]]\n",
        "\n",
        "n = int(input())\n",
        "\n",
        "l = [[]] * 41\n",
        "\n",
        "for i in range(41):\n",
        "  l[i] = fibonacci(i)\n",
        "\n",
        "for _ in range(n):\n",
        "  a = int(sys.stdin.readline())\n",
        "  #a = int(input())\n",
        "  print(*l[a])"
      ],
      "execution_count": null,
      "outputs": []
    },
    {
      "cell_type": "markdown",
      "metadata": {
        "id": "LoeeUEld-pdv"
      },
      "source": [
        "#### 9184번"
      ]
    },
    {
      "cell_type": "code",
      "metadata": {
        "id": "4fid2nLW-pd1"
      },
      "source": [
        "l = []\n",
        "for _ in range(21):\n",
        "  a = []\n",
        "  for _ in range(21):\n",
        "    a.append([0] * 21)\n",
        "  \n",
        "  l.append(a)\n",
        "\n",
        "for i in range(21):\n",
        "  for j in range(21):\n",
        "    l[0][i][j] = 1\n",
        "    l[i][0][j] = 1\n",
        "    l[i][j][0] = 1\n",
        "\n",
        "for i in range(1,21):\n",
        "  for j in range(1,21):\n",
        "    for k in range(1,21):\n",
        "      if i < j and j < k:\n",
        "        l[i][j][k] =  l[i][j][k-1] + l[i][j-1][k-1] - l[i][j-1][k]\n",
        "      else:\n",
        "        l[i][j][k] =  l[i-1][j][k] + l[i-1][j-1][k] + l[i-1][j][k-1] - l[i-1][j-1][k-1]\n",
        "\n",
        "while True:\n",
        "  #a, b, c = map(int, sys.stdin.readline().split())\n",
        "  a, b, c = map(int, input().split())\n",
        "\n",
        "  if (a == -1) & (b == -1) & (c == -1):\n",
        "    break\n",
        "\n",
        "  if a <= 0 or b <= 0 or c <= 0:\n",
        "    d = 1\n",
        "    print('w({0}, {1}, {2}) = {3}'.format(a,b,c,d))\n",
        "    continue\n",
        "\n",
        "  if a > 20 or b > 20 or c > 20:\n",
        "    d = l[20][20][20]\n",
        "    print('w({0}, {1}, {2}) = {3}'.format(a,b,c,d))\n",
        "    continue\n",
        "\n",
        "  d = l[a][b][c]\n",
        "  print('w({0}, {1}, {2}) = {3}'.format(a,b,c,d))"
      ],
      "execution_count": null,
      "outputs": []
    },
    {
      "cell_type": "code",
      "metadata": {
        "id": "BlXXRcvWGyZl"
      },
      "source": [
        "l = []\n",
        "for _ in range(21):\n",
        "  a = []\n",
        "  for _ in range(21):\n",
        "    a.append([0] * 21)\n",
        "  \n",
        "  l.append(a)\n",
        "\n",
        "for i in range(21):\n",
        "  for j in range(21):\n",
        "    l[0][i][j] = 1\n",
        "    l[i][0][j] = 1\n",
        "    l[i][j][0] = 1\n",
        "\n",
        "for i in range(1,21):\n",
        "  for j in range(1,21):\n",
        "    for k in range(1,21):\n",
        "      if i < j and j < k:\n",
        "        l[i][j][k] =  l[i][j][k-1] + l[i][j-1][k-1] - l[i][j-1][k]\n",
        "      else:\n",
        "        l[i][j][k] =  l[i-1][j][k] + l[i-1][j-1][k] + l[i-1][j][k-1] - l[i-1][j-1][k-1]\n",
        "\n",
        "l[10][4][6]"
      ],
      "execution_count": null,
      "outputs": []
    },
    {
      "cell_type": "markdown",
      "metadata": {
        "id": "fejTVL9O-qAq"
      },
      "source": [
        "#### 1904번"
      ]
    },
    {
      "cell_type": "code",
      "metadata": {
        "id": "puuDc_Tsr0iF"
      },
      "source": [
        "n = int(input())\n",
        "\n",
        "l = [False] * n\n",
        "l[0] = 1\n",
        "if n > 1:\n",
        "  l[1] = 2\n",
        "\n",
        "  for i in range(2,n):\n",
        "    l[i] = (l[i-2] + l[i-1]) % 15746\n",
        "\n",
        "print(l[-1])\n",
        "\n",
        "홀# 1 \n",
        "짝# 11 00\n",
        "홀# 111 100 001\n",
        "짝# 1111 1100 1001 0011 0000\n",
        "홀# 11111 00111 10011 11001 11100 00001 00100 10000 \n",
        "짝# 111111 \n",
        "  # 001111 100111 110011 111001 111100\n",
        "  # 000011 001001 001100 100001 100100 110000\n",
        "  # 000000 "
      ],
      "execution_count": null,
      "outputs": []
    },
    {
      "cell_type": "markdown",
      "metadata": {
        "id": "ShBZYes9-qaR"
      },
      "source": [
        "#### 9461번"
      ]
    },
    {
      "cell_type": "code",
      "metadata": {
        "id": "Av0wCViy-qaS"
      },
      "source": [
        "n = int(input())\n",
        "for _ in range(n):\n",
        "  a = int(input())\n",
        "  if a <= 3:\n",
        "    print(1)\n",
        "  elif a <= 5:\n",
        "    print(2)\n",
        "  else:\n",
        "    l = [False] * 100\n",
        "    l[0], l[1], l[2], l[3], l[4] = 1,1,1,2,2\n",
        "\n",
        "    for i in range(5,a):\n",
        "      l[i] = l[i-1] + l[i - 5]\n",
        "    \n",
        "    print(l[a-1])\n",
        "# 1 1 1 2 2 3 4 5 7 9 12 16 21 28\n"
      ],
      "execution_count": null,
      "outputs": []
    },
    {
      "cell_type": "markdown",
      "metadata": {
        "id": "-SpkWNLb-qfk"
      },
      "source": [
        "####  1149번"
      ]
    },
    {
      "cell_type": "code",
      "metadata": {
        "id": "6eQg8rT2-qfk"
      },
      "source": [
        "import sys\n",
        "\n",
        "n = int(input())\n",
        "l = []\n",
        "for _ in range(n):\n",
        "    l.append(list(map(int,sys.stdin.readline().split())))\n",
        "\n",
        "for i in range(1,n):\n",
        "  l[i][0] = min(l[i-1][1], l[i-1][2]) + l[i][0]\n",
        "  l[i][1] = min(l[i-1][0], l[i-1][2]) + l[i][1]\n",
        "  l[i][2] = min(l[i-1][0], l[i-1][1]) + l[i][2]\n",
        "\n",
        "print(min(l[-1]))"
      ],
      "execution_count": null,
      "outputs": []
    },
    {
      "cell_type": "markdown",
      "metadata": {
        "id": "6x3o9khr-qju"
      },
      "source": [
        "####  1932번"
      ]
    },
    {
      "cell_type": "code",
      "metadata": {
        "id": "_n78sKrF-qjv"
      },
      "source": [
        "import sys\n",
        "\n",
        "n = int(input())\n",
        "l = []\n",
        "for _ in range(n):\n",
        "  l.append(list(map(int,sys.stdin.readline().split())))\n",
        "\n",
        "if n < 2:\n",
        "    print(max(l[-1]))\n",
        "else:\n",
        "    l[1][0] = l[1][0] + l[0][0]\n",
        "    l[1][1] = l[1][1] + l[0][0]\n",
        "    for i in range(2,n):\n",
        "      l[i][0] = l[i][0] + l[i-1][0]\n",
        "      l[i][i] = l[i][i] + l[i-1][i-1]\n",
        "      for j in range(1,i):\n",
        "        l[i][j] = max(l[i][j] + l[i-1][j],l[i][j] + l[i-1][j-1])\n",
        "    print(max(l[-1]))"
      ],
      "execution_count": null,
      "outputs": []
    },
    {
      "cell_type": "markdown",
      "metadata": {
        "id": "6j3SVCye-qnm"
      },
      "source": [
        "#### 2579번"
      ]
    },
    {
      "cell_type": "code",
      "metadata": {
        "id": "Gb-6z42h-qnm"
      },
      "source": [
        "import sys\n",
        "n = int(input())\n",
        "l = []\n",
        "p = []\n",
        "for _ in range(n):\n",
        "    l.append(int(sys.stdin.readline()))\n",
        "    p.append([False, False])\n",
        "\n",
        "p[0][0] = l[0]\n",
        "if n >= 2:\n",
        "    p[1][0] = l[1]\n",
        "    p[1][1] = l[0] + l[1]\n",
        "\n",
        "    for i in range(2,n):\n",
        "        p[i][0] = max(p[i-2][0] + l[i], p[i-2][1] + l[i])\n",
        "        p[i][1] = p[i-1][0] + l[i]\n",
        "\n",
        "print(max(p[-1]))\n",
        "\n",
        "#시간초과\n",
        "import sys\n",
        "n = int(input())\n",
        "l = []\n",
        "for _ in range(n):\n",
        "    l.append(int(sys.stdin.readline()))\n",
        "m = 0\n",
        "\n",
        "def stair(x, t, max):\n",
        "    if t == 3:\n",
        "        return\n",
        "    if x == n:\n",
        "        global m\n",
        "        if max >= m:\n",
        "            m = max\n",
        "            return\n",
        "        else:\n",
        "            return\n",
        "    stair(x + 1, t + 1, max + l[x])\n",
        "    if x + 2 > n:\n",
        "        return\n",
        "    else:\n",
        "        stair(x + 2, 1, max + l[x + 1])\n",
        "\n",
        "stair(0, 0, 0)\n",
        "print(m)\n",
        "\n",
        "# 메모리 초과\n",
        "import sys\n",
        "n = int(input())\n",
        "p = [[0,0,0]]\n",
        "l = []\n",
        "max = 0\n",
        "\n",
        "for _ in range(n):\n",
        "    l.append(int(sys.stdin.readline()))\n",
        "\n",
        "while True:\n",
        "    a = len(p)\n",
        "    for j in range(a):\n",
        "        if p[j][2] > n:\n",
        "            continue\n",
        "\n",
        "        if p[j][1] + 1 == 3:\n",
        "            if p[j][2] != n - 1:\n",
        "                if p[j][2] + 2 == n:\n",
        "                    if max < p[j][0] + l[p[j][2]+1]:\n",
        "                        max = p[j][0] + l[p[j][2]+1]\n",
        "                    continue\n",
        "                p.append([p[j][0] + l[p[j][2]+1], 1          , p[j][2] + 2])\n",
        "        else:\n",
        "            if p[j][2] + 1 == n:\n",
        "                if max < p[j][0] + l[p[j][2]]:\n",
        "                    max = p[j][0] + l[p[j][2]]\n",
        "                continue\n",
        "            p.append([p[j][0] + l[p[j][2]]  , p[j][1] + 1, p[j][2] + 1])\n",
        "            if p[j][2] != n - 1:\n",
        "                if p[j][2] + 2 == n:\n",
        "                    if max < p[j][0] + l[p[j][2] + 1]:\n",
        "                        max = p[j][0] + l[p[j][2] + 1]\n",
        "                    continue\n",
        "                p.append([p[j][0] + l[p[j][2]+1], 1          , p[j][2] + 2])\n",
        "\n",
        "    p = p[a:]\n",
        "    if p == []:\n",
        "        break\n",
        "    print(p)\n",
        "print(max)"
      ],
      "execution_count": null,
      "outputs": []
    },
    {
      "cell_type": "markdown",
      "metadata": {
        "id": "lyIsmhkY-qrN"
      },
      "source": [
        "####  1463번"
      ]
    },
    {
      "cell_type": "code",
      "metadata": {
        "id": "3mmifcGF-qrO"
      },
      "source": [
        "n = int(input())\n",
        "l = [False] * (10 ** 6)\n",
        "l[0], l[1], l[2], l[3]  = 0, 1, 1, 2\n",
        "for i in range(3,n):\n",
        "  a = []\n",
        "  if (i+1) % 3 == 0:\n",
        "    a.append(l[(i+1) // 3 - 1] + 1)\n",
        "  if (i+1) % 2 == 0:\n",
        "    a.append(l[(i+1) // 2 - 1] + 1)\n",
        "  a.append(l[i-1] + 1)\n",
        "  l[i] = min(a)\n",
        "\n",
        "print(l[n-1])"
      ],
      "execution_count": null,
      "outputs": []
    },
    {
      "cell_type": "markdown",
      "metadata": {
        "id": "UVqfa0yg-qu8"
      },
      "source": [
        "####  10844번"
      ]
    },
    {
      "cell_type": "code",
      "metadata": {
        "id": "HTgLEHTP-qu9"
      },
      "source": [
        "n = int(input())\n",
        "\n",
        "l = []\n",
        "for _ in range(100):\n",
        "  l.append([False]*10)\n",
        "l[0] = [0,1,1,1,1,1,1,1,1,1]\n",
        "\n",
        "[1,1,2,2,2,2,2,2,2,1]\n",
        "[1,3,3,4,4,4,4,4,3,2]\n",
        "\n",
        "if n >= 2:\n",
        "  for i in range(1,n):\n",
        "    l[i][0] = l[i-1][1] % 1000000000\n",
        "    l[i][9] = l[i-1][8] % 1000000000\n",
        "    for j in range(1,9):\n",
        "      l[i][j] = (l[i-1][j-1] + l[i-1][j+1]) % 1000000000\n",
        "\n",
        "a = 0\n",
        "for i in l[n-1]:\n",
        "  a += i\n",
        "\n",
        "print(a % 1000000000)"
      ],
      "execution_count": null,
      "outputs": []
    },
    {
      "cell_type": "markdown",
      "metadata": {
        "id": "5DWMXnz5-qyx"
      },
      "source": [
        "####  2156번"
      ]
    },
    {
      "cell_type": "code",
      "metadata": {
        "id": "oefCGaWs-qyy"
      },
      "source": [
        "import sys\n",
        "n = int(input())\n",
        "l = []\n",
        "p = []\n",
        "m = 0\n",
        "for _ in range(n):\n",
        "  l.append(int(sys.stdin.readline()))\n",
        "  p.append([False,False,False])\n",
        "\n",
        "p[0][1] = l[0]\n",
        "m = 0\n",
        "\n",
        "if n == 1:\n",
        "    print(l[0])\n",
        "\n",
        "if n >= 2:\n",
        "    p[1][0] = max(p[0])\n",
        "    p[1][1] = l[1]\n",
        "    p[1][2] = l[0] + l[1]\n",
        "\n",
        "    for i in range(2,n):\n",
        "        p[i][0] = max(p[i-1])\n",
        "        p[i][1] = p[i-1][0] + l[i]\n",
        "        p[i][2] = p[i-1][1] + l[i]\n",
        "        if m < max(p[i]):\n",
        "            m = max(p[i])\n",
        "\n",
        "    if n == 2:\n",
        "        m = max(p[1])\n",
        "    print(m)"
      ],
      "execution_count": null,
      "outputs": []
    },
    {
      "cell_type": "markdown",
      "metadata": {
        "id": "87ZlLVHF-q3c"
      },
      "source": [
        "#### (*)11053번"
      ]
    },
    {
      "cell_type": "code",
      "metadata": {
        "id": "SD9qiD05-q3c"
      },
      "source": [
        "import sys\n",
        "\n",
        "n = int(input())                        # 수열 A의 크기 입력\n",
        "l = list(map(int,  input().split()))    # 수열 A 리스트 입력\n",
        "p = [False] * n                         # 부분 수열의 길이를 입력할 리스트 생성\n",
        "\n",
        "for i in range(n):                      # 수열의 크기만큼 반복\n",
        "    for j in range(i):                      # i 전까지 반복\n",
        "        if l[i] > l[j] and p[i] < p[j]:         # i 요소 전까지 만들 수 있는 \n",
        "            p[i] = p[j]                             # 가장 긴 수열의 크기로 업데이트\n",
        "    p[i] += 1                               # i 요소 포함하여 크기 1 증가\n",
        "\n",
        "print(max(p))                           # 가장 긴 증가하는 부분 수열 길이 출력\n",
        "\n",
        "# 10 20 10 30 20 50\n",
        "#  1  2  1  3  2  4"
      ],
      "execution_count": null,
      "outputs": []
    },
    {
      "cell_type": "markdown",
      "metadata": {
        "id": "jGmg1eS6-q7X"
      },
      "source": [
        "#### 11054번"
      ]
    },
    {
      "cell_type": "code",
      "metadata": {
        "id": "qJQhV1ZD-q7X"
      },
      "source": [
        "n = int(input())                        # 수열 A의 크기\n",
        "l = list(map(int, input().split()))     # 수열 A 리스트 \n",
        "\n",
        "p = [False] * n                         # 부분 수열의 길이를 입력할 리스트 생성\n",
        "for i in range(n):                      # 수열의 크기만큼 반복\n",
        "    for j in range(i):                      # i 만큼 반복\n",
        "        if l[i] > l[j] and p[i] < p[j]:         # i 요소 전까지 만들 수 있는 \n",
        "            p[i] = p[j]                             # 가장 긴 수열의 크기로 업데이트\n",
        "    p[i] += 1                               # i 요소 포함하여 크기 1 증가\n",
        "\n",
        "q = [False] * n                         # 부분 수열의 길이를 반대로 입력할 리스트 생성\n",
        "for i in range(n-1, -1, -1):            # 수열의 크기만큼 반대로 반복\n",
        "    for j in range(n-1, i, -1):             # i 만큼 반대로 반복\n",
        "        if l[i] > l[j] and q[i] < q[j]:         # i 요소 전까지 반대로 만들 수 있는\n",
        "            q[i] = q[j]                             # 가장 긴 수열의 크기로 업데이트\n",
        "    q[i] += 1\n",
        "\n",
        "res = 0                                 # 가장 긴 바이토닉 수열의 길이 변수 생성\n",
        "for i in range(n):                      # 수열 길이 만큼 반복\n",
        "    if res < p[i] + q[i]:                   # 양방향에서 만들 수 있는 수열 크기보다 작으면\n",
        "        res = p[i] + q[i]                       # res 업데이트\n",
        "\n",
        "print(res - 1)                          # 양방향에서 가운데가 겹치므로 - 1 진행\n",
        "# 785 199 935 455 869 681 274 3 41 957"
      ],
      "execution_count": null,
      "outputs": []
    },
    {
      "cell_type": "markdown",
      "metadata": {
        "id": "FmRliO_U-rAZ"
      },
      "source": [
        "####  2565번"
      ]
    },
    {
      "cell_type": "code",
      "metadata": {
        "id": "09VGeOOX-rAa"
      },
      "source": [
        "n = int(input())                            # 전깃줄 개수 입력\n",
        "\n",
        "l = []                                      # 전깃줄 위치 리스트 생성\n",
        "p = [0] * n                                 # 교차하지 않는 전깃줄의 크기를 담을 리스트 생성\n",
        "\n",
        "for i in range(n):                          # 전깃줄 개수만큼 반복\n",
        "    l.append(list(map(int, input().split())))   # 전깃줄 위치 리스트에 추가\n",
        "\n",
        "l.sort()                                    # 전깃줄 위치 리스트 정렬\n",
        "\n",
        "for i in range(n):                          # 수열의 크기만큼 반대로 반복\n",
        "    for j in range(i):                          # i 만큼 반복\n",
        "        if l[i][1] > l[j][1] and p[i] < p[j]:       # i 요소 전까지 만들 수 있는\n",
        "            p[i] = p[j]                                # 가장 긴 수열의 크기로 업데이트\n",
        "    p[i] += 1                                   # i 요소 포함하여 크기 1 증가\n",
        "\n",
        "print(n - max(p))                           # 겹치지않는 줄을 제외한 개수 출력"
      ],
      "execution_count": null,
      "outputs": []
    },
    {
      "cell_type": "markdown",
      "metadata": {
        "id": "E_YhXD_y-rKF"
      },
      "source": [
        "#### (*)9251번 : LCS"
      ]
    },
    {
      "cell_type": "code",
      "metadata": {
        "id": "aF_POvNa-rKF"
      },
      "source": [
        "a = input()                                         # 첫번째 문자열 입력\n",
        "b = input()                                         # 두번째 문자열 입력\n",
        "\n",
        "p = [[0] * (len(b) + 1) for _ in range(len(a)+1)]   # 각 문자열의 크기만큼 2차원 배열 생성\n",
        "\n",
        "for i in range(1, len(a)+1):                        # 첫번째 문자열 크기 만큼 반복\n",
        "    for j in range(s1, len(b)+1):                       # 두번째 문자열 크기만큼 반복\n",
        "        if a[i-1] == b[j-1]:                                # 각 문자열의 요소가 같으면\n",
        "            p[i][j]  = p[i-1][j-1] + 1                          # 이전차원 + 1 로 업데이트\n",
        "        else:                                               # 다르면\n",
        "            p[i][j]  = max(p[i-1][j],p[i][j-1])                 # 각 차원 -1 의 값중 큰 값으로 업데이트\n",
        "print(p[-1][-1])                                    # 두 문자열의 LCS 출력\n",
        "\n",
        "#ACAYKP\n",
        "#CAPCAK\n",
        "\n",
        "#XFXXXQ\n",
        "#XXXXXF"
      ],
      "execution_count": null,
      "outputs": []
    },
    {
      "cell_type": "markdown",
      "metadata": {
        "id": "DCZoYNiO-rRT"
      },
      "source": [
        "####  1912번"
      ]
    },
    {
      "cell_type": "code",
      "metadata": {
        "id": "SnU3xsW8-rRU"
      },
      "source": [
        "n = int(input())                    # 정수 입력\n",
        "\n",
        "l = list(map(int,input().split()))  # 수열 입력\n",
        "\n",
        "p = [0] * n                         # 연속 합을 담을 리스트 생성\n",
        "p[0] = l[0]                         # 리스트 첫행은 연속합이 없기에\n",
        "\n",
        "for i in range(1, n):               # 첫 행이후로 진행\n",
        "    p[i] = max(l[i], p[i-1] + l[i])     # 수열의 i 요소와 이전합을 더한 값 중 큰 값\n",
        "\n",
        "print(max(p))                       # 연속 합 중 가장 큰 값 출력"
      ],
      "execution_count": null,
      "outputs": []
    },
    {
      "cell_type": "markdown",
      "metadata": {
        "id": "9imIcdBH-rev"
      },
      "source": [
        "####  12865번 : 평범한 배낭"
      ]
    },
    {
      "cell_type": "code",
      "metadata": {
        "id": "oQMU_h8K-rew"
      },
      "source": [
        "n, k = map(int, input().split())            # 물품의 수와 버틸 수 있는 무게 입력\n",
        "\n",
        "l = []                                      # 각 물건의 무게 리스트 생성\n",
        "for _ in range(n):                          # 물품의 수 만큼 반복\n",
        "    l.append(list(map(int, input().split())))   # 물건의 무게 리스트에 추가\n",
        "\n",
        "p = [0] * (k+1)                             # 채울 수 있는 무게가 담을 수 있는 가치 리스트\n",
        "\n",
        "for i in range(n):                          # 물품 수 만큼 반복\n",
        "    a, b = l[i]                             # i번째 물건의 무게와 가치 분리\n",
        "    q = p.copy()                            # 이전 p 리스트 생성\n",
        "    for j in range(k+1):                    # 버틸 수 있느 무게까지 반복\n",
        "        if j + a <= k:                          # i 번째 물건의 무게를 더해도 버티면\n",
        "            p[j+a] = max(q[j] + b, q[j+a])          # 해당 무게가 가질 수 있는 가치와\n",
        "    #print(p)                                       # i 물건을 더한 값 중 큰 값으로 업데이트\n",
        "print(max(p))                               # 채울  수 있느 무게 중 가치합의 최댓값 출력"
      ],
      "execution_count": null,
      "outputs": []
    },
    {
      "cell_type": "markdown",
      "metadata": {
        "id": "JY9rxOI0yxsI"
      },
      "source": [
        "### **16단계 : 누적 합===========**"
      ]
    },
    {
      "cell_type": "markdown",
      "metadata": {
        "id": "EIsl3dkjyxsJ"
      },
      "source": [
        "####  11659번"
      ]
    },
    {
      "cell_type": "code",
      "metadata": {
        "id": "IJ1PhdMGyxsJ"
      },
      "source": [
        "import sys\n",
        "#sys.setrecursionlimit(int(1e9))\n",
        "input = sys.stdin.readline\n",
        "\n",
        "def main():                             # 메인 함수\n",
        "    n, m = map(int, input().split())        # 수의 개수와 합을 구하는 횟수 입력\n",
        "\n",
        "    s = list(map(int, input().split()))     # n개의 수 입력\n",
        "\n",
        "    res = [0] * (n+1)                       # 누적합 리스트 생성\n",
        "\n",
        "    for i in range(n):                      # 수의 개수 만큼 반복\n",
        "        res[i+1] = res[i] + s[i]                # 누적합 계산\n",
        "\n",
        "    for _ in range(m):                      # 구하는 횟수 만큼 반복\n",
        "        i, j = map(int, input().split())        # 구간 입력\n",
        "        print(res[j] - res[i-1])                # 누적 구간의 차이 출력\n",
        "    \n",
        "if __name__ == '__main__':  # 프로그램 시작점 지정\n",
        "    main()                      # 메인 함수 실행 "
      ],
      "execution_count": null,
      "outputs": []
    },
    {
      "cell_type": "markdown",
      "metadata": {
        "id": "50_NVyaFy-LT"
      },
      "source": [
        "####  2559번"
      ]
    },
    {
      "cell_type": "code",
      "metadata": {
        "id": "-W5qTkPPy-LT"
      },
      "source": [
        "import sys\n",
        "#sys.setrecursionlimit(int(1e9))\n",
        "input = sys.stdin.readline\n",
        "\n",
        "def main():\n",
        "    n, k = map(int, input().split())\n",
        "\n",
        "    s = list(map(int, input().split()))\n",
        "\n",
        "    res = [0] * (n+1)                       # 누적합 리스트 생성\n",
        "\n",
        "    for i in range(n):                      # 수의 개수 만큼 반복\n",
        "        res[i+1] = res[i] + s[i]                # 누적합 계산\n",
        "\n",
        "    max = -1e9\n",
        "    for i in range(n-k+1):\n",
        "        if max < res[i+k] - res[i]:\n",
        "            max = res[i+k] - res[i]\n",
        "\n",
        "    print(max)\n",
        "    \n",
        "if __name__ == '__main__':  # 프로그램 시작점 지정\n",
        "    main()                      # 메인 함수 실행 "
      ],
      "execution_count": null,
      "outputs": []
    },
    {
      "cell_type": "markdown",
      "metadata": {
        "id": "Seh2rD3ty-SC"
      },
      "source": [
        "####  16139번"
      ]
    },
    {
      "cell_type": "code",
      "metadata": {
        "id": "R-w_RMp5y-SC"
      },
      "source": [
        "import sys\n",
        "sys.setrecursionlimit(int(1e9))\n",
        "input = sys.stdin.readline\n",
        "\n",
        "def main():\n",
        "    s = input().rstrip('\\n')\n",
        "    res = []\n",
        "    res.append([0 for _ in range(26)])\n",
        "\n",
        "    for i in range(len(s)):\n",
        "        t = ord(s[i]) - 97\n",
        "        \n",
        "        list1 = res[-1].copy()\n",
        "        list1[t] += 1\n",
        "\n",
        "        res.append(list1)\n",
        "\n",
        "    q = int(input())\n",
        "    for _ in range(q):\n",
        "        a, l, r = input().rstrip('\\n').split()\n",
        "\n",
        "        x = ord(a) - 97\n",
        "        print(res[int(r)+1][x] - res[int(l)][x])\n",
        "\n",
        "    \n",
        "if __name__ == '__main__':  # 프로그램 시작점 지정\n",
        "    main()                      # 메인 함수 실행"
      ],
      "execution_count": null,
      "outputs": []
    },
    {
      "cell_type": "markdown",
      "metadata": {
        "id": "8OMkuM-6y-YY"
      },
      "source": [
        "####  (*)10986번"
      ]
    },
    {
      "cell_type": "code",
      "metadata": {
        "id": "mTBSu9QKy-YZ"
      },
      "source": [
        "# https://zoosso.tistory.com/550\n",
        "# cumsum % 3 까지 생각했지만 그 이후 식 증명이 안됐음.\n",
        "import sys\n",
        "sys.setrecursionlimit(int(1e9))\n",
        "input = sys.stdin.readline\n",
        "\n",
        "def main():\n",
        "    n, m = map(int, input().split())\n",
        "\n",
        "    s = list(map(int, input().split()))\n",
        "\n",
        "    result = [0 for _ in range(n+1)]\n",
        "\n",
        "    res = {}\n",
        "    for i in range(n):\n",
        "        result[i+1] = (result[i] + s[i]) % m\n",
        "\n",
        "        if result[i+1] not in res:\n",
        "            res[result[i+1]] = 1\n",
        "        else:\n",
        "            res[result[i+1]] += 1\n",
        "    ans = res[0]\n",
        "\n",
        "    for v in res.values():\n",
        "        ans += (v * (v-1)) / 2\n",
        "    print(int(ans))   \n",
        "\n",
        "if __name__ == '__main__':  # 프로그램 시작점 지정\n",
        "    main()                      # 메인 함수 실행"
      ],
      "execution_count": null,
      "outputs": []
    },
    {
      "cell_type": "markdown",
      "metadata": {
        "id": "Zs_32YGiy-e9"
      },
      "source": [
        "####  11660번"
      ]
    },
    {
      "cell_type": "code",
      "metadata": {
        "id": "iHm0nJ74y-e9"
      },
      "source": [
        "import sys\n",
        "sys.setrecursionlimit(int(1e9))\n",
        "input = sys.stdin.readline\n",
        "\n",
        "def main():\n",
        "    n, m = map(int, input().split())\n",
        "\n",
        "    s = []\n",
        "    for _ in range(n):\n",
        "        s.append(list(map(int, input().split())))\n",
        "    \n",
        "    dp = [[0] * (n+1) for _ in range(n+1)]\n",
        "\n",
        "    for i in range(1,n+1):\n",
        "        for j in range(1,n+1):\n",
        "            dp[i][j] = dp[i][j-1] + dp[i-1][j] - dp[i-1][j-1]+ s[i-1][j-1]\n",
        "\n",
        "    for _ in range(m):\n",
        "        x1, y1, x2, y2 = map(int, input().split())\n",
        "\n",
        "        result = dp[x2][y2]\n",
        "        cnt = 0\n",
        "        if x1 > 1:\n",
        "            cnt += 1\n",
        "            result -= dp[x1-1][y2]\n",
        "        \n",
        "        if y1 > 1:\n",
        "            cnt += 1\n",
        "            result -= dp[x2][y1-1]\n",
        "        \n",
        "        if cnt == 2:\n",
        "            result += dp[x1 - 1][y1 - 1]\n",
        "\n",
        "        print(result)\n",
        "if __name__ == '__main__':  # 프로그램 시작점 지정\n",
        "    main()                      # 메인 함수 실행"
      ],
      "execution_count": null,
      "outputs": []
    },
    {
      "cell_type": "markdown",
      "metadata": {
        "id": "hsMNobW4-gJP"
      },
      "source": [
        "### **17단계 : 그리디 알고리즘===========**"
      ]
    },
    {
      "cell_type": "markdown",
      "metadata": {
        "id": "Np0R9kLF-gJi"
      },
      "source": [
        "####  11047번"
      ]
    },
    {
      "cell_type": "code",
      "metadata": {
        "id": "IQ9HBulb-gJi"
      },
      "source": [
        "import sys\n",
        "\n",
        "n, k = map(int, input().split())\n",
        "l = []\n",
        "for i in sys.stdin:\n",
        "    l.append(int(i.rstrip('n')))\n",
        "\n",
        "cnt = 0\n",
        "\n",
        "for i in range(-1,-n-1,-1):\n",
        "    if l[i] > k:\n",
        "        continue\n",
        "\n",
        "    t = k // l[i]\n",
        "    cnt += t\n",
        "    k -= l[i]*t\n",
        "\n",
        "\n",
        "print(cnt)"
      ],
      "execution_count": null,
      "outputs": []
    },
    {
      "cell_type": "markdown",
      "metadata": {
        "id": "wfcJmLEqpU6T"
      },
      "source": [
        "####  1931번"
      ]
    },
    {
      "cell_type": "code",
      "metadata": {
        "id": "3Au2uK7CpU6W"
      },
      "source": [
        "n = int(input())\n",
        "l = []\n",
        "for i in range(n):\n",
        "    l.append(list(map(int,input().split())))\n",
        "\n",
        "l = sorted(l, key= lambda x : (x[1], x[0]))\n",
        "\n",
        "cnt = 1\n",
        "end = l[0][1]\n",
        "for i in range(1,n):\n",
        "    if l[i][0] >= end:\n",
        "        cnt += 1\n",
        "        end = l[i][1]\n",
        "\n",
        "print(cnt)"
      ],
      "execution_count": null,
      "outputs": []
    },
    {
      "cell_type": "markdown",
      "metadata": {
        "id": "Hc6V32u4pVUa"
      },
      "source": [
        "####  11399번"
      ]
    },
    {
      "cell_type": "code",
      "metadata": {
        "id": "CgWOls5HpVUb"
      },
      "source": [
        "n = int(input())\n",
        "l = list(map(int,input().split()))\n",
        "\n",
        "l.sort()\n",
        "l.append([0])\n",
        "res = 0\n",
        "for i in range(n):\n",
        "    res += sum(l[:i+1])\n",
        "    #print(res)\n",
        "print(res)"
      ],
      "execution_count": null,
      "outputs": []
    },
    {
      "cell_type": "markdown",
      "metadata": {
        "id": "pNoCqLvepVX5"
      },
      "source": [
        "####  1541번"
      ]
    },
    {
      "cell_type": "code",
      "metadata": {
        "id": "-gZCk0FNpVX5"
      },
      "source": [
        "l = input() + 'x'\n",
        "\n",
        "\n",
        "res = []\n",
        "\n",
        "s = 0\n",
        "for i in range(len(l)-1):\n",
        "    if l[i] == '+':\n",
        "        res.append(l[s:i])\n",
        "        res.append('+')\n",
        "        s = i + 1\n",
        "    elif l[i] == '-':\n",
        "        res.append(l[s:i])\n",
        "        res.append('-')\n",
        "        s = i + 1\n",
        "    elif i == len(l)-2:\n",
        "        res.append(l[s:i+1])\n",
        "        break\n",
        "    else:\n",
        "        continue\n",
        "\n",
        "result = str(int(res[0]))\n",
        "p = 0\n",
        "if len(res) > 1:\n",
        "    for i in range(1,len(res)):\n",
        "        if res[i] == '-':\n",
        "            result += '-('\n",
        "            p = 1\n",
        "        elif res[i] == '+':\n",
        "            result += '+'\n",
        "        else:\n",
        "            if i + 1 >= len(res):\n",
        "                if p != 1:\n",
        "                    result += str(int(res[i]))\n",
        "                else:\n",
        "                    result += str(int(res[i])) + ')'\n",
        "                    p = 0\n",
        "            else:\n",
        "                if p == 1:\n",
        "                    if res[i+1] == '-':\n",
        "                        result += str(int(res[i])) + ')'\n",
        "                        p = 0\n",
        "                    else:\n",
        "                        result += str(int(res[i]))\n",
        "                else:\n",
        "                    result += str(int(res[i]))\n",
        "\n",
        "\n",
        "    print(eval(result))\n",
        "else:\n",
        "    print(eval(result))\n",
        "# 1 30 30 10 49\n",
        "#  31 60 40 59\n",
        "\n",
        "# 1 60 10 49"
      ],
      "execution_count": null,
      "outputs": []
    },
    {
      "cell_type": "markdown",
      "metadata": {
        "id": "PPg8gdeSpVbw"
      },
      "source": [
        "####  13305번"
      ]
    },
    {
      "cell_type": "code",
      "metadata": {
        "id": "pyq3CYn2pVbx"
      },
      "source": [
        "import sys\n",
        "\n",
        "n = int(sys.stdin.readline())\n",
        "length = list(map(int, sys.stdin.readline().split()))\n",
        "cost = list(map(int, sys.stdin.readline().split()))\n",
        "\n",
        "min_cost = cost[0]\n",
        "sum_length = 0\n",
        "result = 0\n",
        "\n",
        "for i in range(len(length)):\n",
        "    if cost[i] < min_cost:\n",
        "        min_cost = cost[i]\n",
        "        result += length[i] * cost[i]\n",
        "    else:\n",
        "        result += length[i] * min_cost\n",
        "\n",
        "print(result)"
      ],
      "execution_count": null,
      "outputs": []
    },
    {
      "cell_type": "markdown",
      "metadata": {
        "id": "meZqnuly1Ns1"
      },
      "source": [
        "### **18단계 : 정수론 및 조합론===========**"
      ]
    },
    {
      "cell_type": "markdown",
      "metadata": {
        "id": "xKIhI97D1Ns-"
      },
      "source": [
        "####  5086번"
      ]
    },
    {
      "cell_type": "code",
      "metadata": {
        "id": "1kJ7oY311Ns_"
      },
      "source": [
        "while True:\n",
        "    a, b = map(int, input().split())\n",
        "    if a == 0 and b ==0:\n",
        "        break\n",
        "    \n",
        "    if b % a == 0:\n",
        "        print('factor')\n",
        "    elif a % b ==0:\n",
        "        print('multiple')\n",
        "    else:\n",
        "        print('neither')"
      ],
      "execution_count": null,
      "outputs": []
    },
    {
      "cell_type": "markdown",
      "metadata": {
        "id": "JLA5o1_kG4_y"
      },
      "source": [
        "####  1037번"
      ]
    },
    {
      "cell_type": "code",
      "metadata": {
        "id": "7-GHt8AsG4_0"
      },
      "source": [
        "n = int(input())\n",
        "l = list(map(int, input().split()))\n",
        "l.sort()\n",
        "\n",
        "print(l[0] * l[-1])"
      ],
      "execution_count": null,
      "outputs": []
    },
    {
      "cell_type": "markdown",
      "metadata": {
        "id": "CO66sh-WEVOS"
      },
      "source": [
        "####  2609번"
      ]
    },
    {
      "cell_type": "code",
      "metadata": {
        "id": "Bx3H9RwoEVOS"
      },
      "source": [
        "a, b = map(int, input().split())\n",
        "l = []\n",
        "if a > b:\n",
        "    c = a\n",
        "    a = b\n",
        "    b = c\n",
        "\n",
        "while True:\n",
        "    h = 0\n",
        "    if a > 1:\n",
        "        for i in range(2, a + 1):\n",
        "            if a % i == 0 and b % i == 0:\n",
        "                h = 1\n",
        "                l.append(i)\n",
        "                a = a // i\n",
        "                b = b // i\n",
        "                break\n",
        "    if h == 0:\n",
        "        break\n",
        "\n",
        "t = 1\n",
        "for i in l:\n",
        "    t *= i\n",
        "\n",
        "print(t)\n",
        "print(t * a * b)"
      ],
      "execution_count": null,
      "outputs": []
    },
    {
      "cell_type": "markdown",
      "metadata": {
        "id": "pRqth93HG5Fp"
      },
      "source": [
        "####  1934번"
      ]
    },
    {
      "cell_type": "code",
      "metadata": {
        "id": "whAG1Q4rG5Fq"
      },
      "source": [
        "#유클리드 호제법\n",
        "n = int(input())\n",
        "for _ in range(n):\n",
        "    a, b = map(int, input().split())\n",
        "    if a > b:\n",
        "        c = a\n",
        "        a = b\n",
        "        b = c\n",
        "    min = 1\n",
        "    c = a\n",
        "    d = b\n",
        "\n",
        "    while True:\n",
        "        x = d % c\n",
        "        if x == 0:\n",
        "            min = c\n",
        "            break\n",
        "        d = c\n",
        "        c = x\n",
        "\n",
        "    print(int((b * a) / min))"
      ],
      "execution_count": null,
      "outputs": []
    },
    {
      "cell_type": "markdown",
      "metadata": {
        "id": "QD5eQtFaEU3c"
      },
      "source": [
        "####  2981번"
      ]
    },
    {
      "cell_type": "code",
      "metadata": {
        "id": "NQoMJgayEU3d"
      },
      "source": [
        "#유클리드 호제법\n",
        "# G(a,b) = G(b,r), a = bq + r(q는 몫, r은 나머지)\n",
        "\n",
        "import sys\n",
        "\n",
        "def f(a,b):\n",
        "    while b != 0:\n",
        "        a, b = b, a % b\n",
        "    return a\n",
        "\n",
        "n = int(sys.stdin.readline())\n",
        "\n",
        "l = []\n",
        "for i in range(n):\n",
        "    l.append(int(sys.stdin.readline()))\n",
        "l.sort()\n",
        "\n",
        "t = l[1] - l[0]\n",
        "for i in range(2,n):\n",
        "    t = f(t, l[i] - l[i-1])\n",
        "\n",
        "result = []\n",
        "\n",
        "for i in range(1,int(t**0.5)+1): #약수구할때\n",
        "    if t % i == 0:\n",
        "        result.append(i)\n",
        "        if i == t // i:\n",
        "            continue\n",
        "        result.append(t // i)\n",
        "\n",
        "result.sort()\n",
        "result.remove(1)\n",
        "print(*result)"
      ],
      "execution_count": null,
      "outputs": []
    },
    {
      "cell_type": "markdown",
      "metadata": {
        "id": "cYhC8xLCEU6x"
      },
      "source": [
        "####  3036번"
      ]
    },
    {
      "cell_type": "code",
      "metadata": {
        "id": "_2RUxuRjEU6x"
      },
      "source": [
        "def f(x):\n",
        "    return 2 * int(x)\n",
        "\n",
        "def t(a,b):\n",
        "    if a < b:\n",
        "        c = a\n",
        "        a = b\n",
        "        b = c\n",
        "\n",
        "    while b != 0:\n",
        "        a, b = b, a % b\n",
        "\n",
        "    return a\n",
        "\n",
        "n = int(input())\n",
        "l = list(map(f, input().split()))\n",
        "\n",
        "for i in range(1,n):\n",
        "    if l[0] % l[i] == 0:\n",
        "        a = l[0]//l[i]\n",
        "        b = 1\n",
        "    else:\n",
        "        x = t(l[0], l[i])\n",
        "        a = int(l[0] / x)\n",
        "        b = int(l[i] / x)\n",
        "\n",
        "    print('{0}/{1}'.format(a, b))"
      ],
      "execution_count": null,
      "outputs": []
    },
    {
      "cell_type": "markdown",
      "metadata": {
        "id": "9oUY6nyKG5Cy"
      },
      "source": [
        "#### 11050"
      ]
    },
    {
      "cell_type": "code",
      "metadata": {
        "id": "guaPYFOwG5Cz"
      },
      "source": [
        "import math\n",
        "n, k = map(int,input().split())\n",
        "\n",
        "print( math.factorial(n) // (math.factorial(n-k) * math.factorial(k)))"
      ],
      "execution_count": null,
      "outputs": []
    },
    {
      "cell_type": "markdown",
      "metadata": {
        "id": "yx3yQcgXEU9t"
      },
      "source": [
        "####  11051번"
      ]
    },
    {
      "cell_type": "code",
      "metadata": {
        "id": "XhpJgKK8EU9u",
        "colab": {
          "base_uri": "https://localhost:8080/"
        },
        "outputId": "25ec10e3-8121-4608-fb91-56575502d668"
      },
      "source": [
        "import math\n",
        "\n",
        "n, k =map(int, input().split())\n",
        "\n",
        "print((math.factorial(n) // (math.factorial(n-k) * math.factorial(k))) % 10007)"
      ],
      "execution_count": null,
      "outputs": [
        {
          "output_type": "stream",
          "name": "stdout",
          "text": [
            "29 13\n",
            "67863915\n"
          ]
        }
      ]
    },
    {
      "cell_type": "markdown",
      "metadata": {
        "id": "gPapbiVAbmMj"
      },
      "source": [
        "####  1010번"
      ]
    },
    {
      "cell_type": "code",
      "metadata": {
        "id": "RAW8FwdPbmMj"
      },
      "source": [
        "import math\n",
        "n = int(input())\n",
        "\n",
        "for _ in range(n):\n",
        "    b, a =map(int, input().split())\n",
        "    print((math.factorial(a) // (math.factorial(a-b) * math.factorial(b))))"
      ],
      "execution_count": null,
      "outputs": []
    },
    {
      "cell_type": "markdown",
      "metadata": {
        "id": "O-ZSdkmYbmRa"
      },
      "source": [
        "####  9375번"
      ]
    },
    {
      "cell_type": "code",
      "metadata": {
        "id": "2EJIUiJ5bmRa"
      },
      "source": [
        "n = int(input())\n",
        "\n",
        "for _ in range(n):\n",
        "    k = int(input())\n",
        "    l = {}\n",
        "    for _ in range(k):\n",
        "        a, b = input().split()\n",
        "        if b in l:\n",
        "            l[b] += 1\n",
        "        else:\n",
        "            l[b] = 1\n",
        "    \n",
        "    res = 1\n",
        "    for i in l.values():\n",
        "        res *= i + 1\n",
        "    print(res - 1)\n"
      ],
      "execution_count": null,
      "outputs": []
    },
    {
      "cell_type": "markdown",
      "metadata": {
        "id": "ixkMO17DbmWw"
      },
      "source": [
        "####  1676번"
      ]
    },
    {
      "cell_type": "code",
      "metadata": {
        "id": "eGuzj_tGbmWx",
        "colab": {
          "base_uri": "https://localhost:8080/"
        },
        "outputId": "e191ffe9-ed85-4bfb-a1d8-ae616d4e3736"
      },
      "source": [
        "n = int(input())\n",
        "\n",
        "import math\n",
        "\n",
        "l = str(math.factorial(n))\n",
        "\n",
        "res = 0\n",
        "for i in range(-1, -len(l)-1,-1):\n",
        "    if l[i] == '0':\n",
        "        res += 1\n",
        "    else:\n",
        "        break\n",
        "\n",
        "print(res)"
      ],
      "execution_count": null,
      "outputs": [
        {
          "output_type": "stream",
          "name": "stdout",
          "text": [
            "3\n",
            "0\n"
          ]
        }
      ]
    },
    {
      "cell_type": "markdown",
      "metadata": {
        "id": "u9tipfTwbmbn"
      },
      "source": [
        "####  2004번"
      ]
    },
    {
      "cell_type": "code",
      "metadata": {
        "id": "6fVE6o2bbmbn"
      },
      "source": [
        "# 2,5 를 찾는 방법\n",
        "import math\n",
        "\n",
        "n, m = map(int, input().split())\n",
        "\n",
        "def cnt2(n):\n",
        "    count = 0\n",
        "    while n:\n",
        "        n //= 2\n",
        "        count += n\n",
        "    return count\n",
        "\n",
        "def cnt5(n):\n",
        "    count = 0\n",
        "    while n:\n",
        "        n //= 5\n",
        "        count += n\n",
        "    return count\n",
        "\n",
        "l = [cnt2(n) - (cnt2(n-m) + cnt2(m)), cnt5(n) - (cnt5(n-m) + cnt5(m))]\n",
        "print(min(l))"
      ],
      "execution_count": null,
      "outputs": []
    },
    {
      "cell_type": "markdown",
      "metadata": {
        "id": "XK9REonP1NwI"
      },
      "source": [
        "### 19단계 : 스택===========**"
      ]
    },
    {
      "cell_type": "markdown",
      "metadata": {
        "id": "ZPZhedpd1NwI"
      },
      "source": [
        "#### 10828"
      ]
    },
    {
      "cell_type": "code",
      "metadata": {
        "id": "76yklUef1NwJ"
      },
      "source": [
        "import sys\n",
        "\n",
        "n = int(input())\n",
        "s = []\n",
        "for _ in range(n):\n",
        "    x = sys.stdin.readline().split()\n",
        "    if x[0] == 'push':\n",
        "        s.append(int(x[1]))\n",
        "    elif x[0] == 'pop':\n",
        "        if len(s) == 0:\n",
        "            print(-1)\n",
        "        else:\n",
        "            print(s.pop())\n",
        "    elif x[0] == 'size':\n",
        "        print(len(s))\n",
        "    elif x[0] == 'empty':\n",
        "        if s == []:\n",
        "            print(1)\n",
        "        else:\n",
        "            print(0)\n",
        "    elif x[0] == 'top':\n",
        "        if len(s) == 0:\n",
        "            print(-1)\n",
        "        else:\n",
        "            print(s[-1])\n",
        "    else:\n",
        "        pass"
      ],
      "execution_count": null,
      "outputs": []
    },
    {
      "cell_type": "markdown",
      "metadata": {
        "id": "HEGePEEYxsNm"
      },
      "source": [
        "####  10773번"
      ]
    },
    {
      "cell_type": "code",
      "metadata": {
        "id": "Y4P0AJ4vxsNn"
      },
      "source": [
        "import sys\n",
        "\n",
        "n = int(input())\n",
        "\n",
        "l = []\n",
        "for _ in range(n):\n",
        "    x = int(sys.stdin.readline())\n",
        "    if x == 0:\n",
        "        try:\n",
        "            l.pop()\n",
        "        except:\n",
        "            pass\n",
        "    else:\n",
        "        l.append(x)\n",
        "\n",
        "print(sum(l))"
      ],
      "execution_count": null,
      "outputs": []
    },
    {
      "cell_type": "markdown",
      "metadata": {
        "id": "Zs31oUZxxsg7"
      },
      "source": [
        "####  9012번"
      ]
    },
    {
      "cell_type": "code",
      "metadata": {
        "id": "dSmaZ_owxsg8"
      },
      "source": [
        "import sys\n",
        "\n",
        "n = int(input())\n",
        "\n",
        "for _ in range(n):\n",
        "    x = sys.stdin.readline().rstrip('\\n')\n",
        "    t = 0\n",
        "    for i in range(len(x)):\n",
        "        if t < 0:\n",
        "            break\n",
        "        if x[i] == '(':\n",
        "            t += 1\n",
        "        else:\n",
        "            t -= 1\n",
        "    \n",
        "    if t == 0:\n",
        "        print('YES')\n",
        "    else:\n",
        "        print('NO')"
      ],
      "execution_count": null,
      "outputs": []
    },
    {
      "cell_type": "markdown",
      "metadata": {
        "id": "jXYx1DRXxsog"
      },
      "source": [
        "####  4949번"
      ]
    },
    {
      "cell_type": "code",
      "metadata": {
        "id": "gI9XWF03xsoh"
      },
      "source": [
        "import sys\n",
        "\n",
        "l = []\n",
        "x = ''\n",
        "while True:\n",
        "    i = sys.stdin.readline().rstrip('\\n')\n",
        "    if i == '.':\n",
        "        break\n",
        "\n",
        "    if i[-1] == '.':\n",
        "        x += i\n",
        "        res = []\n",
        "        for j in range(len(x)):\n",
        "            if x[j] == '(' or x[j] == ')' or x[j] == '[' or x[j] == ']':\n",
        "                res += x[j]\n",
        "            else:\n",
        "                continue\n",
        "            \n",
        "        l.append(res)\n",
        "        x = ''\n",
        "    else:\n",
        "        x += i\n",
        "\n",
        "for i in l:\n",
        "    t = []\n",
        "    for j in range(len(i)):\n",
        "        if i[j] == '(':\n",
        "            t.append(1)\n",
        "        elif i[j] == '[':\n",
        "            t.append(2)\n",
        "        elif i[j] == ')':\n",
        "            if t == []:\n",
        "                t = [False]\n",
        "                break\n",
        "            else:\n",
        "                if t[-1] == 1:\n",
        "                    t.pop()\n",
        "                else:\n",
        "                    break\n",
        "        elif i[j] == ']':\n",
        "            if t == []:\n",
        "                t = [False]\n",
        "                break\n",
        "            else:\n",
        "                if t[-1] == 2:\n",
        "                    t.pop()\n",
        "                else:\n",
        "                    break\n",
        "        else:\n",
        "            continue\n",
        "\n",
        "    if t == []:\n",
        "        print('yes')\n",
        "    else:\n",
        "        print('no')"
      ],
      "execution_count": null,
      "outputs": []
    },
    {
      "cell_type": "markdown",
      "metadata": {
        "id": "2SovrMekxsrx"
      },
      "source": [
        "####  1874번"
      ]
    },
    {
      "cell_type": "code",
      "metadata": {
        "id": "OzO8uQ57xsry"
      },
      "source": [
        "import sys\n",
        "\n",
        "n = int(input())\n",
        "\n",
        "s = []\n",
        "for _ in range(n):\n",
        "    s.append(int(sys.stdin.readline())) # sys.stdin.readline\n",
        "\n",
        "l = 1\n",
        "t = []\n",
        "c = True\n",
        "\n",
        "result = []\n",
        "\n",
        "for i in s:\n",
        "    if i >= l:\n",
        "        t += [x for x in range(l, i+1)]\n",
        "        result += ['+'] * (i - l + 1)\n",
        "        l = i + 1        \n",
        "    \n",
        "    if t.pop() != i:\n",
        "        c = False\n",
        "        break\n",
        "\n",
        "    result.append('-')\n",
        "\n",
        "if c:\n",
        "    for i in result:\n",
        "        print(i)\n",
        "else:\n",
        "    print('NO')"
      ],
      "execution_count": null,
      "outputs": []
    },
    {
      "cell_type": "markdown",
      "metadata": {
        "id": "8I05magqxsvh"
      },
      "source": [
        "####  17298번"
      ]
    },
    {
      "cell_type": "code",
      "metadata": {
        "id": "YEaodDK1xsvi"
      },
      "source": [
        "# log(n^2) 을 피해 log(n)으로 만들어야 함\n",
        "n = int(input()) # 4\n",
        "l = list(map(int, input().split())) # 3 5 2 7\n",
        "\n",
        "s = [] # 스택 할 변수 설정\n",
        "res = [] # 결과 표기\n",
        "\n",
        "for i in range(-1, -n-1,-1):\n",
        "    while True:\n",
        "        if s == []: # 스택이 비어있다면 변수 입력\n",
        "            s.append(l[i])\n",
        "            break\n",
        "\n",
        "        if l[i] > s[-1]: # 스택에 마지막에 넣은 부분이 변수보다 크면 방출\n",
        "            s.pop()\n",
        "        else: # 스택에 마지막에 넣은 부분보다 변수가 작으면 스택에 변수 넣기\n",
        "            s.append(l[i])\n",
        "            break\n",
        "    if l[i] >= s[0]: # 변수가 스택의 max 값보다 크거나 같으면 -1 결과에 입력\n",
        "        res.append(-1)\n",
        "    else:\n",
        "        for j in range(-1, -len(s)-1, -1): # 변수가 스택의 자료보다 작은 값이 나오면 해당 자료 결과에 입력\n",
        "            if l[i] < s[j]:\n",
        "                res.append(s[j])\n",
        "                break\n",
        "                \n",
        "res = res[::-1] # 결과를 뒤에서 부터 출력\n",
        "print(*res) # 결과 출력"
      ],
      "execution_count": null,
      "outputs": []
    },
    {
      "cell_type": "markdown",
      "metadata": {
        "id": "71RWUsr01OEe"
      },
      "source": [
        "### 20단계 : 큐, 덱===========**"
      ]
    },
    {
      "cell_type": "markdown",
      "metadata": {
        "id": "0IyI2TgT1OEf"
      },
      "source": [
        "####  18258번"
      ]
    },
    {
      "cell_type": "code",
      "metadata": {
        "id": "gHcQUk7n1OEf"
      },
      "source": [
        "# from collections import queue 사용 가능\n",
        "#선형배열, pop 연산 시 리스트 내의 원소들 인덱스가 한칸씩 땡겨지기 때문에 많은 연산이 필요\n",
        "#그러므로 linked-list 사용\n",
        "\n",
        "import sys\n",
        "n = int(input())\n",
        "queue = [] # 큐는 선입 선출의 개념\n",
        "\n",
        "first = 0 # linked-list 에서 앞 부분\n",
        "end = 0 # linked-list 에서 뒷 부분\n",
        "\n",
        "for _ in range(n):\n",
        "\n",
        "    t = sys.stdin.readline().rstrip('\\n').split()\n",
        "\n",
        "    if t[0] == 'push': \n",
        "        queue.append(int(t[1]))\n",
        "        end += 1 # 큐의 추가시, linked-list에서 뒷 부분을 뒤로 땡긴다\n",
        "\n",
        "    elif t[0] == 'pop':\n",
        "        if first == end:\n",
        "            print(-1)\n",
        "        else:\n",
        "            print(queue[first])\n",
        "            first += 1 # 큐의 방출시, linked-list에서 앞 부분을 뒤로 땡긴다\n",
        "\n",
        "    elif t[0] == 'size':\n",
        "        print(end - first)\n",
        "\n",
        "    elif t[0] == 'empty':\n",
        "        if first == end:\n",
        "            print(1)\n",
        "        else:\n",
        "            print(0)\n",
        "\n",
        "    elif t[0] == 'front': # 큐의 가장 앞에 있는 수, 즉 제일 먼저 들어온 정수\n",
        "        if first == end:\n",
        "            print(-1)\n",
        "        else:\n",
        "            print(queue[first])\n",
        "\n",
        "    elif t[0] == 'back': # 큐의 가장 뒤에있는 수, 즉 최근에 들어온 정수\n",
        "        if first == end:\n",
        "            print(-1)\n",
        "        else:\n",
        "            print(queue[end-1])\n",
        "\n",
        "    else:\n",
        "        pass"
      ],
      "execution_count": null,
      "outputs": []
    },
    {
      "cell_type": "markdown",
      "metadata": {
        "id": "LTKckHu0U5FP"
      },
      "source": [
        "####  2164번"
      ]
    },
    {
      "cell_type": "code",
      "metadata": {
        "id": "EFtjMsYPU5FQ"
      },
      "source": [
        "# pop 연산을 할 시 리스트의 요소가 많으면 연산량이 많아 지므로 linked-list 사용\n",
        "n = int(input())\n",
        "\n",
        "queue = [i for i in range(1, n+1)] # 처음 queue 리스트 생성\n",
        "\n",
        "start = 0 # linked-list의 첫 부분\n",
        "end = n-1 # linked-list의 마지막 부분\n",
        "\n",
        "while start != end: # 첫 부분과 마지막 부분이 같아지면 break\n",
        "    start += 1 # queue 맨위 pop 연산\n",
        "\n",
        "    if start == end: # 첫 부분과 마지막 부분이 같아지면 break\n",
        "        break\n",
        "\n",
        "    queue.append(queue[start]) # 두번 째 카드 맨 뒤로 append 연산\n",
        "    end += 1 # append 연산을 하여 뒷 부분 + 1\n",
        "    start += 1 # 두번 째 카드를 맨 뒤로 옮겼으므로 시작 부분 + 1\n",
        "\n",
        "print(queue[start])"
      ],
      "execution_count": null,
      "outputs": []
    },
    {
      "cell_type": "markdown",
      "metadata": {
        "id": "mSQdGSmzU5J8"
      },
      "source": [
        "####  11866번"
      ]
    },
    {
      "cell_type": "code",
      "metadata": {
        "colab": {
          "base_uri": "https://localhost:8080/"
        },
        "id": "De3HkwoFU5J9",
        "outputId": "bf08d518-e55c-4d64-bf95-6d459ad7835e"
      },
      "source": [
        "# k 명 미만의 사람이 남았을 때도 순서대로 사람을 세어 k 번째 사람을 제거\n",
        "n, k = map(int, input().split())\n",
        "\n",
        "queue = [i for i in range(1, n+1)]\n",
        "\n",
        "start = 0\n",
        "end = n\n",
        "\n",
        "res = [] # 제거 된 사람을 담을 리스트\n",
        "\n",
        "while (end - start) >= 2: # 사람이 1명이 남을 때 까지 반복\n",
        "    for _ in range(k-1): # k번째 사람을 찾기까지 반복\n",
        "        queue.append(queue[start])\n",
        "        start += 1\n",
        "        end += 1\n",
        "\n",
        "    res.append(queue[start]) # k 번째 사람 제거\n",
        "    start += 1\n",
        "\n",
        "res += queue[start:]\n",
        "\n",
        "print('<',end='')\n",
        "for i in range(len(res)-1):\n",
        "    print('{0}, '.format(res[i]), end='')\n",
        "print(res[-1],end='')\n",
        "print('>')"
      ],
      "execution_count": null,
      "outputs": [
        {
          "output_type": "stream",
          "name": "stdout",
          "text": [
            "5 4\n",
            "<4, 3, 5, 2, 1>\n"
          ]
        }
      ]
    },
    {
      "cell_type": "markdown",
      "metadata": {
        "id": "14T3PZXwU5PO"
      },
      "source": [
        "####  1966번"
      ]
    },
    {
      "cell_type": "code",
      "metadata": {
        "id": "ZB0RX-F2U5PO"
      },
      "source": [
        "import sys\n",
        "n = int(input())\n",
        "\n",
        "def f(x): \n",
        "    X = int(x)\n",
        "    s[X-1] += 1\n",
        "    return X\n",
        "\n",
        "for _ in range(n):\n",
        "    n, m = map(int, sys.stdin.readline().rstrip('\\n').split())\n",
        "    s = [0] * 10 # 중요도 counting 리스트\n",
        "    l = list(map(f, sys.stdin.readline().rstrip('\\n').split()))\n",
        "\n",
        "    start = 0 # linked-list 사용\n",
        "    end = n\n",
        "\n",
        "    res = 0\n",
        "    t = m # 지정한 문서의 위치\n",
        "\n",
        "    while True:\n",
        "        if sum(s[l[start]:]) > 0: # 지정한 문서 뒤로 중요도가 큰 수가 있으면 \n",
        "            l.append(l[start]) # 맨 뒤로 보냄\n",
        "\n",
        "            if start == t: # 지정한 문서가 뒤로 보내지면 위치도 변경\n",
        "                t = end # 맨 마지막 위치\n",
        "\n",
        "            start += 1\n",
        "            end += 1\n",
        "\n",
        "        else: # 중요도가 큰 수가 없으므로\n",
        "            s[l[start]-1] -= 1 #counting 리스트에서 해당 수 -1\n",
        "            res += 1 # 출력 횟수 +1\n",
        "\n",
        "            if t == start: # 지정한 문서가 인쇄 되었다면 종료\n",
        "                break\n",
        "\n",
        "            start += 1\n",
        "\n",
        "    print(res)"
      ],
      "execution_count": null,
      "outputs": []
    },
    {
      "cell_type": "markdown",
      "metadata": {
        "id": "6XU-HwBjU5UD"
      },
      "source": [
        "####  10866번"
      ]
    },
    {
      "cell_type": "code",
      "metadata": {
        "id": "x2tkgB9CU5UD"
      },
      "source": [
        "# 덱은 앞, 뒤로 입력과 방출을 같이 수행하는 형태\n",
        "# 시간제한이 짧으므로 linked-list를 사용해야 함.\n",
        "# from collections import deque 사용 가능\n",
        "import sys\n",
        "\n",
        "deque = [0] * 20001 # 덱을 담을 리스트 \n",
        "\n",
        "start = 10000 # 시작 지점\n",
        "end = 10000 # 마지막 지점\n",
        "\n",
        "for _ in range(int(input())):\n",
        "    t = sys.stdin.readline().rstrip('\\n').split() # 입력값 리스트 형태로 바꾸기\n",
        "    #print('deque : ',deque[start:end+1])\n",
        "    if t[0] == 'push_front': # 앞에 입력\n",
        "        if start == end and deque[start] == 0: # 시작과 끝이 같고 내용이 없으면\n",
        "            deque[start] = int(t[1]) # 값 입력\n",
        "\n",
        "        else: # 시작과 끝이 다르거나 원소가 하나라도 있으면\n",
        "            start -= 1 # 시작지점 앞으로 땡기기\n",
        "            deque[start] = int(t[1]) # 값 입력\n",
        "\n",
        "    elif t[0] == 'push_back': # 뒤에 입력, push_front와 같음\n",
        "        if start == end and deque[start] == 0: \n",
        "            deque[end] = int(t[1]) \n",
        "            \n",
        "        else: \n",
        "            end += 1 # 마지막 지점 뒤로 땡기기\n",
        "            deque[end] = int(t[1])\n",
        "\n",
        "    elif t[0] == 'pop_front': # 뒤에 방출\n",
        "        if start == end: # 시작과 끝이 같고\n",
        "            if deque[start] == 0: # 원소가 없으면\n",
        "                print(-1)\n",
        "                continue\n",
        "\n",
        "        print(deque[start])\n",
        "        deque[start] = 0\n",
        "\n",
        "        if start == end: # 시작과 끝이 같으면 넘어감\n",
        "            continue\n",
        "        else: # 시작과 끝이 같지 않으면 시작 지점을 뒤로 땡김\n",
        "            start += 1\n",
        "\n",
        "    elif t[0] == 'pop_back':\n",
        "        if start == end:\n",
        "            if deque[end] == 0:\n",
        "                print(-1)\n",
        "                continue\n",
        "\n",
        "        print(deque[end])\n",
        "        deque[end] = 0\n",
        "        if start == end: # 시작과 끝이 같으면 넘어감\n",
        "            continue\n",
        "        else: # 시작과 끝이 같지 않으면 끝 지점을 앞으로 떙김\n",
        "            end -= 1\n",
        "        \n",
        "    elif t[0] == 'size':\n",
        "        if start == end: # 시작과 끝이 같고\n",
        "            if deque[start] == 0: # 원소가 없으면 0\n",
        "                print(0)\n",
        "            else: # 원소가 있으면 1\n",
        "                print(1)\n",
        "        else: # 원소의 갯수\n",
        "            print(end-start+1)\n",
        "\n",
        "    elif t[0] == 'empty':\n",
        "        if start == end: \n",
        "            if deque[start] == 0:\n",
        "                print(1)\n",
        "            else:\n",
        "                print(0)\n",
        "        else:\n",
        "            print(0)\n",
        "        \n",
        "    elif t[0] == 'front':\n",
        "        if start == end: # 시작과 끝이 같고\n",
        "            if deque[start] == 0: # 원소가 없으면\n",
        "                print(-1) # -1 출력\n",
        "            else: # 원소가 있으면 시작 지점의 원소 출력\n",
        "                print(deque[start])\n",
        "            continue\n",
        "\n",
        "        print(deque[start])\n",
        "\n",
        "    elif t[0] == 'back':\n",
        "        if start == end:\n",
        "            if deque[end] == 0:\n",
        "                print(-1)\n",
        "            else:\n",
        "                print(deque[end])\n",
        "            continue\n",
        "        \n",
        "        print(deque[end])"
      ],
      "execution_count": null,
      "outputs": []
    },
    {
      "cell_type": "markdown",
      "metadata": {
        "id": "SDiinE2pU5Yx"
      },
      "source": [
        "####  1021번"
      ]
    },
    {
      "cell_type": "code",
      "metadata": {
        "id": "Nnpwyf_0U5Yx",
        "colab": {
          "base_uri": "https://localhost:8080/"
        },
        "outputId": "c11dbfe7-4dc3-4619-c83a-b891865dd45d"
      },
      "source": [
        "n, m = map(int, input().split())\n",
        "l = list(map(int, input().split()))\n",
        "\n",
        "index = [0]*1000 + [i for i in range(1, n+1)] + [0]*1000\n",
        "\n",
        "start = 1000\n",
        "end = 999 + n\n",
        "\n",
        "cnt = 0 # 2, 3번 수행 횟수\n",
        "x = 0 # 입력받은 list의 갯수\n",
        "t = -1 # 찾고자하는 위치의 인덱스\n",
        "while True:\n",
        "    #print('index : ',index[start:end+1], 't, start, end : ',t,start,end)\n",
        "    if x == m: # 입력받은 list의 갯수와 1번 연산 실행 횟수가 같으면 멈춘다\n",
        "        break\n",
        "\n",
        "    if t == -1: # 찾고자 하는 위치의 인덱스가 없다면\n",
        "        for i in range(start, end+1): \n",
        "            if index[i] == l[x]: # 찾고자 하는 위치를 찾는다\n",
        "                t = i\n",
        "                break\n",
        "\n",
        "    if t == start: # 찾고자하는 위치가 시작과 같으면\n",
        "        index[start] = 0 # 시작 지점 0 입력\n",
        "        start += 1 # 시작 위치 뒤로 땡기기\n",
        "        x += 1 # 1번 실행 연산 횟수 +1\n",
        "        t = -1 # 찾고자 하는 위치 reset\n",
        "        continue\n",
        "    \n",
        "    if (end + start) / 2 >= t: # 찾고자하는 위치가 2번 연산을 할 때 빠른 경우\n",
        "        end += 1 # 끝 지점 뒤로 한칸 땡기기\n",
        "        index[end] = index[start] # 맨 앞의 요소 맨 뒤로 옮기기\n",
        "        index[start] = 0 # 맨 앞요소 빈칸으로 만들기\n",
        "        start += 1 # 시작 지점도 뒤로 땡기기\n",
        "        cnt += 1 # 연산 횟수 카운팅\n",
        "\n",
        "    else: # 찾고자 하는 위치가 3번 연산을 할 때 빠른 경우\n",
        "        start -= 1\n",
        "        index[start] = index[end]\n",
        "        index[end] = 0\n",
        "        end -= 1\n",
        "        cnt += 1\n",
        "\n",
        "        if t > end: # 3번 연산 중 찾고자 하는 위치가 deque에서 벗어나면\n",
        "            t = start # 찾고자 하는 위치는 맨 앞으로 갔다.\n",
        "\n",
        "print(cnt)"
      ],
      "execution_count": null,
      "outputs": [
        {
          "output_type": "stream",
          "name": "stdout",
          "text": [
            "10 10\n",
            "1 6 3 2 7 9 8 4 10 5\n",
            "14\n"
          ]
        }
      ]
    },
    {
      "cell_type": "markdown",
      "metadata": {
        "id": "Rm5U7yLyU5dm"
      },
      "source": [
        "####  5430번"
      ]
    },
    {
      "cell_type": "code",
      "metadata": {
        "id": "oxBrcFiAU5dn"
      },
      "source": [
        "def D(list_x): # 앞의 원소를 제거 하는 함수\n",
        "    global start\n",
        "    global end\n",
        "\n",
        "    if t == 1:  # 순방향\n",
        "        start += 1\n",
        "        return\n",
        "    else:\n",
        "        end -= 1\n",
        "        return\n",
        "\n",
        "\n",
        "for _ in range(int(input())):\n",
        "    p = input()\n",
        "    n = int(input())\n",
        "\n",
        "    if n < 2: # 원소의 갯수가 1개 이하면\n",
        "        l = list(map(int, input().strip('[]'))) # 콤마가 없으므로\n",
        "    else:\n",
        "        l = list(map(int, input().strip('[]').split(',')))\n",
        "\n",
        "    start = 0\n",
        "    end = n\n",
        "\n",
        "    try:\n",
        "        t = 1  # 순 방향\n",
        "\n",
        "        for i in range(len(p)):\n",
        "            if p[i] == 'R': # 방향을 정해주는 함수\n",
        "                t += 1\n",
        "                t %= 2\n",
        "            else:\n",
        "                D(l) # D 함수 실행\n",
        "\n",
        "        if start > end: # 시작지점이 끝 지점보다 크면\n",
        "            print('error') # 에러 출력\n",
        "            continue\n",
        "\n",
        "        if t == 1: # 순방향인 경우\n",
        "            l += [0]\n",
        "            l = l[start:end] # l의 시작지점 부터 끝 지점까지의 deque 반영\n",
        "        else:\n",
        "            if start > 0: \n",
        "                l = l[end-1:start-1:-1] # 끝 지점부터 시작 지점까지 거꾸로 리스트 생성\n",
        "            else: # 시작 지점이 0인경우\n",
        "                l = l[end-1::-1] # 끝 지점부터 거꾸로 리스트 생성\n",
        "\n",
        "        print('[', end='')\n",
        "        for i in range(len(l)): # 출력물에 띄어쓰기가 없으므로 \n",
        "            if i == len(l) - 1:\n",
        "                print(l[i], end='')\n",
        "            else:\n",
        "                print(l[i], end=',')\n",
        "\n",
        "        print(']')\n",
        "\n",
        "    except:\n",
        "        print('error') # 인덱스 에러가 나는 경우 error 출력"
      ],
      "execution_count": null,
      "outputs": []
    },
    {
      "cell_type": "markdown",
      "metadata": {
        "id": "lh6uv54_bdBm"
      },
      "source": [
        "### 21단계 : 분할정복===========**"
      ]
    },
    {
      "cell_type": "markdown",
      "metadata": {
        "id": "F4l7j-IMbdBn"
      },
      "source": [
        "####  2630번"
      ]
    },
    {
      "cell_type": "code",
      "metadata": {
        "id": "eBxSLPoxbdBn"
      },
      "source": [
        "n = int(input())\n",
        "l = [] # 입력값을 받을 리스트 정의\n",
        "for _ in range(n):\n",
        "    l.append(list(map(int, input().split())))\n",
        "\n",
        "b = 0 # 1인 칸 카운트\n",
        "w = 0 # 0인 칸 카운트\n",
        "\n",
        "\n",
        "def f(list_x, n_x): # 재귀함수를 사용한 분할 정복\n",
        "    global b # 글로벌 변수 설정\n",
        "    global w\n",
        "    #print(list_x)\n",
        "\n",
        "    if n_x == 1: # 받는 리스트가 1 x 1 인경우\n",
        "        if list_x[0][0] == 1: # 안의 내용이 1인 경우\n",
        "            b += 1 # b 변수 + 1\n",
        "            return\n",
        "\n",
        "        else:\n",
        "            w += 1\n",
        "            return\n",
        "\n",
        "    if [[0 for _ in range(n_x)] for _ in range(n_x)] == list_x: \n",
        "        # (n_x) x (n_x) 크기의 리스트가 같은 크기의 0 행렬인 경우\n",
        "        w += 1 # w 변수 1로 묶고 종료\n",
        "        return\n",
        "\n",
        "    if [[1 for _ in range(n_x)] for _ in range(n_x)] == list_x:\n",
        "        # (n_x) x (n_x) 크기의 리스트가 같은 크기의 1 행렬인 경우\n",
        "        b += 1\n",
        "        return\n",
        "\n",
        "    f([list_x[i][:int(n_x/2)] for i in range(int(n_x/2))], int(n_x/2)) # 2사분면 재귀\n",
        "    f([list_x[i][int(n_x/2):] for i in range(int(n_x/2))], int(n_x/2)) # 1 사분면 재귀\n",
        "    f([list_x[i][:int(n_x/2)] for i in range(int(n_x/2), n_x)], int(n_x/2)) # 3사분면 재귀\n",
        "    f([list_x[i][int(n_x/2):] for i in range(int(n_x/2), n_x)], int(n_x/2)) # 4사분면 재귀\n",
        "\n",
        "f(l, n) # 재귀함수 실행\n",
        "print(w, b)"
      ],
      "execution_count": null,
      "outputs": []
    },
    {
      "cell_type": "markdown",
      "metadata": {
        "id": "qzTRR-kForE2"
      },
      "source": [
        "####  1992번"
      ]
    },
    {
      "cell_type": "code",
      "metadata": {
        "id": "2wUYRr0yorE2"
      },
      "source": [
        "n = int(input())\n",
        "l = []\n",
        "for _ in range(n): # 입력 받는 값에 빈칸을 삽입한 후 split 진행\n",
        "    l.append(list(map(int, ' '.join(input()).split())))\n",
        "\n",
        "res = [] # 결과값을 담을 리스트 정의\n",
        "\n",
        "def f(list_x, n_x): # 재귀함수를 사용한 분할정복\n",
        "    global res\n",
        "\n",
        "    if n_x == 1: # 들어오는 리스트의 크기가 1 x 1인 경우\n",
        "        if list_x[0][0] == 1: # 리스트의 내용이 1인경우\n",
        "            res.append(1) # 결과 값에 1 입력\n",
        "            return\n",
        "\n",
        "        else:\n",
        "            res.append(0)\n",
        "            return\n",
        "\n",
        "    if [[0 for _ in range(n_x)] for _ in range(n_x)] == list_x:\n",
        "        # (n_x) x (n_x) 크기의 리스트가 같은 크기의 0 행렬인 경우\n",
        "        res.append(0)\n",
        "        return \n",
        "\n",
        "    if [[1 for _ in range(n_x)] for _ in range(n_x)] == list_x:\n",
        "        # (n_x) x (n_x) 크기의 리스트가 같은 크기의 1 행렬인 경우\n",
        "        res.append(1)\n",
        "        return\n",
        "    res.append('(') # 4사분면으로 나누기 이전 괄호를 이용하여 묶기\n",
        "    f([list_x[i][:int(n_x/2)] for i in range(int(n_x/2))], int(n_x/2)) # 2사분면\n",
        "    f([list_x[i][int(n_x/2):] for i in range(int(n_x/2))], int(n_x/2)) # 1사분면\n",
        "    f([list_x[i][:int(n_x/2)] for i in range(int(n_x/2), n_x)], int(n_x/2)) # 3사분면\n",
        "    f([list_x[i][int(n_x/2):] for i in range(int(n_x/2), n_x)], int(n_x/2)) # 4사분면\n",
        "    res.append(')') # 닫는 괄호 사용\n",
        "\n",
        "\n",
        "f(l, n) # 재귀함수 실행\n",
        "for i in res: # 띄어쓰기 없이 결과값 출력\n",
        "    print(i, end='')"
      ],
      "execution_count": null,
      "outputs": []
    },
    {
      "cell_type": "markdown",
      "metadata": {
        "id": "tWj1_3nHorH0"
      },
      "source": [
        "####  1780번"
      ]
    },
    {
      "cell_type": "code",
      "metadata": {
        "id": "dby4EhRVorH0"
      },
      "source": [
        "import sys\n",
        "n = int(input())\n",
        "l = []\n",
        "for _ in range(n):  # 입력 받는 값에 빈칸을 삽입한 후 split 진행\n",
        "    l.append(list(map(int, sys.stdin.readline().rstrip('\\n').split())))\n",
        "\n",
        "minus = 0 # -1인 종이 카운트\n",
        "zero = 0 # 0인 종이 카운트\n",
        "plus = 0 # 1인 종이 카운트\n",
        "\n",
        "def f(list_x, n_x):  # 재귀함수를 사용한 분할정복\n",
        "    global minus\n",
        "    global zero\n",
        "    global plus\n",
        "\n",
        "    if n_x == 1:  # 들어오는 리스트의 크기가 1 x 1인 경우\n",
        "        if list_x[0][0] == -1:  # 리스트의 내용이 1인경우\n",
        "            minus += 1\n",
        "            return\n",
        "        elif list_x[0][0] == 0:\n",
        "            zero += 1\n",
        "            return\n",
        "        else:\n",
        "            plus += 1\n",
        "            return\n",
        "\n",
        "    s = [] # 값이 다양한지 판단하는 리스트\n",
        "    for i in list_x: # 2차원 리스트 1차원 리스트로 변환\n",
        "        s += i\n",
        "    s = list(set(s)) # 중복 값 제거\n",
        "\n",
        "    if len(s) == 1: # 값이 하나면\n",
        "        if s[0] == -1: # -1 값이면\n",
        "            minus += 1 # minus +1\n",
        "            return\n",
        "        elif s[0] == 0:\n",
        "            zero += 1\n",
        "            return\n",
        "        else:\n",
        "            plus += 1\n",
        "            return\n",
        "\n",
        "    y = int(n_x/3) # n_x값 3분할\n",
        "    t = [i for i in range(0, n_x, y)] # (0,n_x) 3분할\n",
        "\n",
        "    # 9분할 진행\n",
        "    f([list_x[i][t[0]:t[0]+y] for i in range(t[1])], y) # 1분면\n",
        "    f([list_x[i][t[1]:t[1]+y] for i in range(t[1])], y) # 2분면\n",
        "    f([list_x[i][t[2]:] for i in range(t[1])], y) # 3분면\n",
        "\n",
        "    f([list_x[i][t[0]:t[0]+y] for i in range(t[1], t[2])], y) # 4분면\n",
        "    f([list_x[i][t[1]:t[1]+y] for i in range(t[1], t[2])], y) # 5분면\n",
        "    f([list_x[i][t[2]:] for i in range(t[1], t[2])], y) # 6분면\n",
        "\n",
        "    f([list_x[i][t[0]:t[0]+y] for i in range(t[2], n_x)], y) # 7분면\n",
        "    f([list_x[i][t[1]:t[1]+y] for i in range(t[2], n_x)], y) # 8분면\n",
        "    f([list_x[i][t[2]:] for i in range(t[2], n_x)], y) # 9분면\n",
        "\n",
        "f(l, n)  # 재귀함수 실행\n",
        "\n",
        "print(minus)\n",
        "print(zero)\n",
        "print(plus)"
      ],
      "execution_count": null,
      "outputs": []
    },
    {
      "cell_type": "markdown",
      "metadata": {
        "id": "VvMq1AL7orKj"
      },
      "source": [
        "####  1629번"
      ]
    },
    {
      "cell_type": "code",
      "metadata": {
        "id": "rYm2R68IorKj"
      },
      "source": [
        "a, b, c = map(int,input().split()) # 10, 11, 12\n",
        "\n",
        "def f(x,y): # x는 인수분해, y는 나누기 # 10 , 12\n",
        "    global c\n",
        "    if y == 1: # 1거듭제곱이면\n",
        "        return x % c # x를 c로 나눈 나머지 값 return\n",
        "    \n",
        "    t = f(x,y//2) # x의 y/2 거듭제곱 \n",
        "    if y % 2 == 0: # y가 짝수이면\n",
        "        return t*t%c # x의 y/2 거듭제곱 을 제곱함.\n",
        "    else: # y가 홀수면\n",
        "        return t*t*x%c # x의 y/2 거듭제곱 을 제곱 후 x를 한번더 곱해줌\n",
        "\n",
        "print(f(a,b))"
      ],
      "execution_count": null,
      "outputs": []
    },
    {
      "cell_type": "markdown",
      "metadata": {
        "id": "1Mqy6YQHorNT"
      },
      "source": [
        "####  (*)11401번"
      ]
    },
    {
      "cell_type": "code",
      "metadata": {
        "id": "HlDovTRiorNT"
      },
      "source": [
        "#페르마의 소정리\n",
        "# a**p % p = a % p, a ** (p-1) ≡ 1\n",
        "# a**(p-1) ≡ a * (a ** (p-2)) ≡ 1 ( % p) => a의 역원이 a ** (p-2)\n",
        "# 1 / (a % p) ≡ (a ** (p-2))\n",
        "#nCk ≡ n! / (k!(n-k)!), (mod p)\n",
        "#    ≡ (n! % p) * (1 / (k! % p)) * (1 / ((n-k)! % p)))\n",
        "#    ≡ (n! % p) * (k! % p)**(p-2) * ((n-k)! % p)**(p-2)\n",
        "\n",
        "n, k = map(int, input().split()) \n",
        "\n",
        "p = 1000000007\n",
        "\n",
        "def f(x): # factorial 함수 구현\n",
        "    if x == 0:\n",
        "        return 1\n",
        "    else:\n",
        "        for i in range(x-1, 1, -1): # x! = x * (x-1) * (x-2) * ... * 2까지 진행\n",
        "            x *= i \n",
        "            x %= p # x를 p로 나눈 나머지 값\n",
        "        return x % p # x를 p로 나눈 나머지 값\n",
        "\n",
        "def f_1(x,y): #거듭 제곱 함수 구현\n",
        "    if y == 1:\n",
        "        return x % p\n",
        "    \n",
        "    t = f_1(x,y//2) # x의 y/2 거듭제곱 \n",
        "    if y % 2 == 0: # y가 짝수이면 \n",
        "        return t*t%p # x의 y/2 거듭제곱 을 제곱함.\n",
        "    else:\n",
        "        return t*t*x%p # x의 y/2 거듭제곱 을 제곱 후 x를 한번더 곱해줌\n",
        "\n",
        "#파르마의 소정리 공식을 이용한\n",
        "# (n! % p) * (k! % p)**(p-2) * ((n-k)! % p)**(p-2) 식 구현\n",
        "print((f(n) * f_1(f(k), p-2) * f_1(f(n-k), p-2)) % p) "
      ],
      "execution_count": null,
      "outputs": []
    },
    {
      "cell_type": "markdown",
      "metadata": {
        "id": "C8-hqFACoskw"
      },
      "source": [
        "####  2740번"
      ]
    },
    {
      "cell_type": "code",
      "metadata": {
        "id": "opgIhD6woskx"
      },
      "source": [
        "n, m = map(int, input().split())\n",
        "A = []\n",
        "for _ in range(n): # A행렬 입력\n",
        "    A.append(list(map(int, input().split())))\n",
        "\n",
        "m, k = map(int, input().split())\n",
        "B = []\n",
        "for _ in range(m): # B행렬 입력\n",
        "    B.append(list(map(int, input().split())))\n",
        "\n",
        "res = [] # 결과 res행렬\n",
        "for i in range(n): # A행렬의 i번째 행\n",
        "    t = [] # res 행렬에 넣을 i번째 행\n",
        "    for j in range(k): # B행렬의 j번째 열\n",
        "        x = 0 # i,j 원소 값\n",
        "        for l in range(m): # 행렬곱 리스트의 l번째 원소\n",
        "            x += A[i][l] * B[l][j] # A의 i번째 행과 B의 j번째 열 리스트 곱의 합.\n",
        "\n",
        "        t.append(x) # res 행렬에 넣을 i번째 행에 원소 넣기\n",
        "    res.append(t) # res행렬에 넣을 i번째 행 추가\n",
        "\n",
        "for i in res:\n",
        "    print(*i)"
      ],
      "execution_count": null,
      "outputs": []
    },
    {
      "cell_type": "markdown",
      "metadata": {
        "id": "bSoeQuPDosn7"
      },
      "source": [
        "####  10830번"
      ]
    },
    {
      "cell_type": "code",
      "metadata": {
        "id": "KLIeBOtEosn7"
      },
      "source": [
        "l = []\n",
        "\n",
        "n, b = map(int, input().split())\n",
        "\n",
        "for _ in range(n):\n",
        "    l.append(list(map(int, input().split())))\n",
        "\n",
        "def f_0(x, y): # 행렬곱 함수 구현(2740과 같음)\n",
        "    t = []\n",
        "    for i in range(n):\n",
        "        t_0 = []\n",
        "        for j in range(n):\n",
        "            t_1 = 0\n",
        "            for k in range(n):\n",
        "                t_1 += x[i][k] * y[k][j]\n",
        "            t_0.append(t_1 % 1000) # i,j번째 원소를 1000으로 나눈 나머지\n",
        "        t.append(t_0) # \n",
        "    return t\n",
        "\n",
        "def f_1(x,y): # 거듭제곱 함수 구현(11401번과 같음)\n",
        "    if y == 1:\n",
        "        return x\n",
        "    \n",
        "    t = f_1(x, y//2)\n",
        "    if y % 2 == 0:\n",
        "        return f_0(t,t) # 행렬곱 함수를 이용.\n",
        "    else:\n",
        "        return f_0(f_0(t,t), x) # # 행렬곱 함수를 이용.\n",
        "\n",
        "for i in f_1(l, b):\n",
        "    print(*list(map(lambda x : x % 1000, i)))"
      ],
      "execution_count": null,
      "outputs": []
    },
    {
      "cell_type": "markdown",
      "metadata": {
        "id": "35U4FrTeosqy"
      },
      "source": [
        "####   11444번\n"
      ]
    },
    {
      "cell_type": "code",
      "metadata": {
        "id": "hsC5yYEposqz"
      },
      "source": [
        "#행렬곱셈 이용 : 힌트로 행렬 곱셈을 이용하는 방법이 소개되어 있었다.\n",
        "'''\n",
        "2x2 행렬\n",
        "(f0 f1)(1 1)^x = (f2x   f1+2x)\n",
        "(f2 f3)(1 2)     (f2+2x f3+2x) 가 되는 법칙을 알게 되었다.\n",
        "'''\n",
        "n = int(input())\n",
        "\n",
        "def f_0(x, y): # 행렬곱 함수 구현\n",
        "    t = []\n",
        "    for i in range(2):\n",
        "        t_0 = []\n",
        "        for j in range(2):\n",
        "            t_1 = 0\n",
        "            for k in range(2):\n",
        "                t_1 += x[i][k] * y[k][j]\n",
        "            t_0.append(t_1 % 1000000007) # 원소값 1000000007로 나눈 나머지 값\n",
        "        t.append(t_0)\n",
        "    return t\n",
        "\n",
        "f = [[0,1],[1,2]] # 초기 피보나치 행렬(순서대로 f0, f1, f2, f3)\n",
        "a = [[1,1],[1,2]] # 거듭 제곱에 사용될 행렬\n",
        "\n",
        "def f_1(x,y): # 거듭 제곱 함수 구현\n",
        "    if y == 1:\n",
        "        return x\n",
        "    \n",
        "    t = f_1(x, y//2)\n",
        "    if y % 2 == 0:\n",
        "        return f_0(t,t)\n",
        "    else:\n",
        "        return f_0(f_0(t,t), x)\n",
        "\n",
        "if n > 3: # n이 4이상\n",
        "    res = f_0(f, f_1(a, (n-2) // 2)) # f와 a의 x제곱 행렬 계산\n",
        "    if n % 2:\n",
        "        print(res[1][1]) # n이 홀수면 2행 2열 출력\n",
        "    else:\n",
        "        print(res[1][0]) # n이 짝수면 2행 1열 출력\n",
        "else:\n",
        "    print(f[n // 2][n % 2]) # n이 4보다 작으면 해당하는 값 출력"
      ],
      "execution_count": null,
      "outputs": []
    },
    {
      "cell_type": "markdown",
      "metadata": {
        "id": "_FOjrbqBosth"
      },
      "source": [
        "####  (*)6549번"
      ]
    },
    {
      "cell_type": "code",
      "metadata": {
        "id": "Iw42zEAjosth"
      },
      "source": [
        "# 스택과, 분할정복의 대표적인 문제 # https://st-lab.tistory.com/255\n",
        "\n",
        "### 분할 정복으로 구현\n",
        "def f(start,end):               # 분할 정복 함수\n",
        "    \n",
        "    if start == end:            # 시작점과 마지막 점이 같으면\n",
        "        return l[start]         # \n",
        "    \n",
        "    mid = (start + end) // 2    # 중간값 지정\n",
        "    \n",
        "    left = f(start, mid)        # 왼쪽 지역 분할 정복 실행\n",
        "    right = f(mid+1, end)       # 오른쪽 지역 분할 정복 실행\n",
        "\n",
        "    max_area = max(left, right) # 왼쪽 지역과 오른쪽 지역 중 최대 너비 선택\n",
        "\n",
        "    to_left = mid               #\n",
        "    to_right = mid              #\n",
        "    h = l[mid]                  #\n",
        "\n",
        "    max_area_0 = h\n",
        "\n",
        "    while start < to_left and to_right < end:\n",
        "        \n",
        "        if l[to_left - 1] < l[to_right + 1]:\n",
        "            to_right += 1\n",
        "            h = min(h, l[to_right])\n",
        "        else:\n",
        "            to_left -= 1\n",
        "            h = min(h, l[to_left])\n",
        "        \n",
        "        max_area_0 = max(max_area_0, h * (to_right - to_left + 1))\n",
        "    \n",
        "    while start < to_left:\n",
        "        to_left -= 1\n",
        "        h = min(h, l[to_left])\n",
        "        max_area_0 = max(max_area_0, h * (to_right - to_left + 1))\n",
        "    \n",
        "    while to_right < end:\n",
        "        to_right += 1\n",
        "        h = min(h, l[to_right])\n",
        "        max_area_0 = max(max_area_0, h * (to_right - to_left + 1))\n",
        "    \n",
        "    max_area = max(max_area, max_area_0)\n",
        "\n",
        "    return max_area\n",
        "\n",
        "while True:                             # 무한반복\n",
        "    l = list(map(int, input().split())) # 입력값\n",
        "    if l == [0]:                        # 입력된 값의 처음이 0이면\n",
        "        break                           # 무한 반복 종료\n",
        "    \n",
        "    print(f(1,len(l)-1))                # 분할 정복"
      ],
      "execution_count": null,
      "outputs": []
    },
    {
      "cell_type": "markdown",
      "metadata": {
        "id": "cNZto4c8osxQ"
      },
      "source": [
        "####  (*)2261번"
      ]
    },
    {
      "cell_type": "code",
      "metadata": {
        "id": "eC4Ls3rJosxR"
      },
      "source": [
        "#https://st-lab.tistory.com/256# https://st-lab.tistory.com/256\n",
        "\n",
        "import sys\n",
        "\n",
        "l = []\n",
        "for _ in range(int(input())):\n",
        "    l.append(list(map(int, sys.stdin.readline().rstrip('\\n').split())))\n",
        "\n",
        "\n",
        "def brute(start, end):\n",
        "    min_value = float('inf')\n",
        "    for i in range(start, end):\n",
        "        for j in range(i+1, end+1):\n",
        "            min_value = min(min_value, abs(\n",
        "                l[i][0] - l[j][0])**2 + abs(l[i][1] - l[j][1])**2)\n",
        "\n",
        "    return min_value\n",
        "\n",
        "\n",
        "def f(start, end):\n",
        "    if end - start + 1 < 4:\n",
        "        return brute(start, end)\n",
        "\n",
        "    mid = (end + start) // 2\n",
        "    left = f(start, mid)\n",
        "    right = f(mid + 1, end)\n",
        "\n",
        "    min_value = min(left, right)\n",
        "\n",
        "    mid_x = l[mid][0]\n",
        "\n",
        "    p_list = []\n",
        "\n",
        "    for i in range(start, end+1):\n",
        "        dist_x = l[i][0] - mid_x\n",
        "        if dist_x**2 < min_value:\n",
        "            p_list.append(l[i])\n",
        "\n",
        "    p_list = sorted(p_list, key=lambda x: x[1])  # 후보군들 y기준으로 정렬\n",
        "    for i in range(len(p_list)-1):\n",
        "        for j in range(i+1, len(p_list)):\n",
        "            dist_y = p_list[i][1] - p_list[j][1]\n",
        "            if dist_y ** 2 < min_value:\n",
        "                min_value = min(min_value, abs(\n",
        "                    p_list[i][0] - p_list[j][0])**2 + abs(p_list[i][1] - p_list[j][1])**2)\n",
        "            else:\n",
        "                break\n",
        "\n",
        "    return min_value\n",
        "\n",
        "\n",
        "l = sorted(l, key=lambda x: x[0])\n",
        "print(f(0, len(l)-1))"
      ],
      "execution_count": null,
      "outputs": []
    },
    {
      "cell_type": "markdown",
      "metadata": {
        "id": "rKOdiegqolxT"
      },
      "source": [
        "### 22단계 : 이분탐색===========**"
      ]
    },
    {
      "cell_type": "markdown",
      "metadata": {
        "id": "tX4YIkhZolxU"
      },
      "source": [
        "####  1920번"
      ]
    },
    {
      "cell_type": "code",
      "metadata": {
        "id": "osUZN7KColxU"
      },
      "source": [
        "n = int(input())\n",
        "l = list(map(int, input().split()))\n",
        "\n",
        "m = int(input())\n",
        "s = list(map(int, input().split()))\n",
        "\n",
        "l.sort()\n",
        "\n",
        "for num in s:\n",
        "    left, right = 0, len(l) - 1\n",
        "\n",
        "    t = False\n",
        "\n",
        "    while True:\n",
        "        mid = (left + right) // 2\n",
        "        if num == l[mid]:\n",
        "            print(1)\n",
        "            t = True\n",
        "            break\n",
        "        elif num > l[mid]:\n",
        "            left = mid + 1\n",
        "        elif num < l[mid]:\n",
        "            right = mid - 1\n",
        "        \n",
        "        if left > right:\n",
        "            break\n",
        "\n",
        "    if not t:\n",
        "        print(0)"
      ],
      "execution_count": null,
      "outputs": []
    },
    {
      "cell_type": "markdown",
      "metadata": {
        "id": "xObXGl3dMAk2"
      },
      "source": [
        "####  10816번"
      ]
    },
    {
      "cell_type": "code",
      "metadata": {
        "id": "Bsj3xtp4MAk2"
      },
      "source": [
        "'''\n",
        "# py3로 할때만 됨.\n",
        "import sys\n",
        "n = int(input())\n",
        "l = list(map(int, sys.stdin.readline().rstrip('\\n').split()))\n",
        "\n",
        "m = int(input())\n",
        "s = list(map(int, sys.stdin.readline().rstrip('\\n').split()))\n",
        "\n",
        "l.sort()\n",
        "\n",
        "dic = {}\n",
        "\n",
        "for i in range(m):\n",
        "    left, right = 0, len(l) - 1\n",
        "\n",
        "    t = False\n",
        "\n",
        "    while True:\n",
        "        mid = (left + right) // 2\n",
        "        if s[i] == l[mid]:\n",
        "            t = 1\n",
        "            start = mid - 1\n",
        "            while True:\n",
        "                if start < 0 or s[i] != l[start]:\n",
        "                    break\n",
        "                \n",
        "                start -= 1\n",
        "                t += 1\n",
        "\n",
        "            end = mid + 1\n",
        "            #print('start, mid, end, s[i]',start, mid, end, s[i])\n",
        "            while True: # 6 7 8 10\n",
        "                if end >= n or s[i] != l[end]:\n",
        "                    break\n",
        "                \n",
        "                end += 1\n",
        "                t += 1\n",
        "#-10 -10 2 3 3 6 7 10 10 10\n",
        "            break\n",
        "\n",
        "        elif s[i] > l[mid]:\n",
        "            left = mid + 1\n",
        "        elif s[i] < l[mid]:\n",
        "            right = mid - 1\n",
        "        \n",
        "        if left > right:\n",
        "            break\n",
        "\n",
        "    if not t:\n",
        "        dic[s[i]] = 0\n",
        "    else:\n",
        "        dic[s[i]] = t\n",
        "\n",
        "print(*[dic[i] for i in s])\n",
        "'''\n",
        "\n",
        "import sys\n",
        "\n",
        "n = int(input())\n",
        "l = list(map(int, sys.stdin.readline().rstrip('\\n').split()))\n",
        "\n",
        "m = int(input())\n",
        "s = list(map(int, sys.stdin.readline().rstrip('\\n').split()))\n",
        "\n",
        "dic = {}\n",
        "for i in l:\n",
        "    if i in dic:\n",
        "        dic[i] += 1\n",
        "    else:\n",
        "        dic[i] = 1\n",
        "\n",
        "print(*[dic[i] if i in dic else 0 for i in s])\n"
      ],
      "execution_count": null,
      "outputs": []
    },
    {
      "cell_type": "markdown",
      "metadata": {
        "id": "owkupsdXMAuW"
      },
      "source": [
        "####  1654번"
      ]
    },
    {
      "cell_type": "code",
      "metadata": {
        "id": "SHYJ6nP5MAuW"
      },
      "source": [
        "k, n = map(int, input().split())\n",
        "\n",
        "l = []\n",
        "for _ in range(k):\n",
        "    l.append(int(input()))\n",
        "\n",
        "start = 1\n",
        "end = max(l)\n",
        "\n",
        "while True:\n",
        "    t = 0\n",
        "    mid = (start + end) // 2\n",
        "    for i in l:\n",
        "        t += (i // mid)\n",
        "    \n",
        "    #print('start, end , mid',start, end, mid)\n",
        "    if start > end:\n",
        "        break\n",
        "\n",
        "    elif t < n:\n",
        "        end = mid - 1\n",
        "        \n",
        "    else:\n",
        "        start = mid + 1\n",
        "\n",
        "print(end)"
      ],
      "execution_count": null,
      "outputs": []
    },
    {
      "cell_type": "markdown",
      "metadata": {
        "id": "EznoGG1TMA1G"
      },
      "source": [
        "####  2805번"
      ]
    },
    {
      "cell_type": "code",
      "metadata": {
        "id": "JW6EIStgMA1G",
        "colab": {
          "base_uri": "https://localhost:8080/"
        },
        "outputId": "bee14b73-dedb-4c47-dfb0-d1a579b1acf1"
      },
      "source": [
        "import sys\n",
        "n, m = map(int, input().split())\n",
        "\n",
        "l = list(map(int, input().split()))\n",
        "start = 1\n",
        "end = max(l)\n",
        "\n",
        "while True:\n",
        "    \n",
        "    mid = (start + end) // 2\n",
        "    t = [i - mid if i > mid else 0 for i in l]\n",
        "\n",
        "    #print('start, end',start,end,t)\n",
        "    t = sum(t)\n",
        "\n",
        "    if start > end:\n",
        "        break\n",
        "    \n",
        "    elif t < m:\n",
        "        end = mid - 1\n",
        "    else:\n",
        "        start = mid + 1\n",
        "\n",
        "print(end)"
      ],
      "execution_count": null,
      "outputs": [
        {
          "output_type": "stream",
          "name": "stdout",
          "text": [
            "3 1\n",
            "1 2 2\n",
            "1\n"
          ]
        }
      ]
    },
    {
      "cell_type": "markdown",
      "metadata": {
        "id": "qoewhVFiMA6u"
      },
      "source": [
        "####  2110번"
      ]
    },
    {
      "cell_type": "code",
      "metadata": {
        "id": "djI5GqS3MA6u"
      },
      "source": [
        "import sys\n",
        "n, c = map(int, input().split())\n",
        "\n",
        "l = [int(sys.stdin.readline().rstrip('\\n')) for _ in range(n)]\n",
        "l.sort()\n",
        "\n",
        "start = 1\n",
        "end = l[-1] - 1\n",
        "while True:\n",
        "    if start > end:\n",
        "        break\n",
        "\n",
        "    mid = (start + end) // 2\n",
        "\n",
        "    t = 1\n",
        "    res = l[0] + mid\n",
        "\n",
        "    for i in range(1, len(l)):\n",
        "        if res <= l[i]:\n",
        "            t += 1\n",
        "            res = l[i] + mid\n",
        "\n",
        "    if t >= c:\n",
        "        start = mid + 1\n",
        "    else:\n",
        "        end = mid - 1\n",
        "\n",
        "print(end)\n"
      ],
      "execution_count": null,
      "outputs": []
    },
    {
      "cell_type": "markdown",
      "metadata": {
        "id": "nky_PfziMA-9"
      },
      "source": [
        "####  (*)1300번"
      ]
    },
    {
      "cell_type": "code",
      "metadata": {
        "id": "EG7quulgMA--"
      },
      "source": [
        "# https://blog.naver.com/crm06217/222021716929\n",
        "# 행렬 풀이\n",
        "n = int(input())\n",
        "k = int(input())\n",
        "\n",
        "start = 1\n",
        "end = k\n",
        "\n",
        "while True:\n",
        "    if start >= end:\n",
        "        mid = (start + end) // 2\n",
        "        break\n",
        "\n",
        "    mid = (start + end) // 2\n",
        "    \n",
        "    t = 0\n",
        "    for i in range(1,n+1):\n",
        "        t += min(n, mid // i)\n",
        "    \n",
        "    if t < k:\n",
        "        start = mid + 1\n",
        "    else:\n",
        "        end = mid\n",
        "    #print(start,mid,end)\n",
        "\n",
        "print(mid)"
      ],
      "execution_count": null,
      "outputs": []
    },
    {
      "cell_type": "markdown",
      "metadata": {
        "id": "QeNapogXMBDG"
      },
      "source": [
        "####  (*)12015번"
      ]
    },
    {
      "cell_type": "code",
      "metadata": {
        "id": "VaaqTU4mMBDG"
      },
      "source": [
        "n = int(input())\n",
        "l = list(map(int, input().split()))\n",
        "\n",
        "def binary_search(arr, t):\n",
        "    start = 0\n",
        "    end = len(arr) - 1\n",
        "\n",
        "    while True:\n",
        "        if start >= end:\n",
        "            mid = (start + end) // 2\n",
        "            return mid\n",
        "        \n",
        "        mid = (start + end) // 2\n",
        "\n",
        "        if arr[mid] < t:\n",
        "            start = mid + 1\n",
        "        else:\n",
        "            end = mid\n",
        "\n",
        "    return mid\n",
        "\n",
        "res = [l[0]] \n",
        "\n",
        "for i in range(1,n):\n",
        "    if res[-1] < l[i]:\n",
        "        res.append(l[i])\n",
        "    else:\n",
        "        t = binary_search(res, l[i])\n",
        "        res[t] = l[i]\n",
        "\n",
        "print(len(res))"
      ],
      "execution_count": null,
      "outputs": []
    },
    {
      "cell_type": "markdown",
      "metadata": {
        "id": "Jc_IjbKpL6wm"
      },
      "source": [
        "### 23단계 : 우선순위 큐===========**"
      ]
    },
    {
      "cell_type": "markdown",
      "metadata": {
        "id": "RQtuu3rBL6wn"
      },
      "source": [
        "####  (최대 힙)11279번"
      ]
    },
    {
      "cell_type": "code",
      "metadata": {
        "id": "88W--dAXL6wn"
      },
      "source": [
        "#import heapq as hq\n",
        "# https://www.fun-coding.org/Chapter11-heap.html\n",
        "\n",
        "# 부모 노드 인덱스 = 자식 노드 인덱스 // 2\n",
        "# 왼쪽 자식 노드 인덱스 = 부모 노드 인덱스 * 2\n",
        "# 오른쪽 자식 노드 인덱스 = 부모 노드 인덱스 * 2 + 1\n",
        "\n",
        "import sys\n",
        "\n",
        "n = int(sys.stdin.readline())\n",
        "\n",
        "queue = [None]\n",
        "for _ in range(n):\n",
        "    t = int(sys.stdin.readline())\n",
        "\n",
        "    if not t:\n",
        "        if len(queue) == 1:\n",
        "            print(0)\n",
        "        else:\n",
        "            print(queue[1])\n",
        "            popped_idx = 1\n",
        "            queue[1] = queue[-1]            \n",
        "            #queue = queue[:-1] => 시간초과\n",
        "            queue.pop()\n",
        "\n",
        "            while True:\n",
        "                left_child_idx = popped_idx * 2\n",
        "                right_child_idx = popped_idx * 2 + 1\n",
        "\n",
        "                if left_child_idx >= len(queue):\n",
        "                    break\n",
        "\n",
        "                elif right_child_idx >= len(queue):\n",
        "                    if queue[popped_idx] < queue[left_child_idx]:\n",
        "                        queue[popped_idx], queue[left_child_idx] = queue[left_child_idx], queue[popped_idx]\n",
        "                        popped_idx = left_child_idx\n",
        "                    else:\n",
        "                        break\n",
        "                else:\n",
        "                    if queue[left_child_idx] > queue[right_child_idx]:\n",
        "                        if queue[popped_idx] < queue[left_child_idx]:\n",
        "                            queue[popped_idx], queue[left_child_idx] = queue[left_child_idx], queue[popped_idx]\n",
        "                            popped_idx = left_child_idx\n",
        "                        else:\n",
        "                            break\n",
        "                    else:\n",
        "                        if queue[popped_idx] < queue[right_child_idx]:\n",
        "                            queue[popped_idx], queue[right_child_idx] = queue[right_child_idx], queue[popped_idx]\n",
        "                            popped_idx = right_child_idx\n",
        "                        else:\n",
        "                            break\n",
        "\n",
        "    else:\n",
        "        if len(queue) == 1:\n",
        "            queue.append(t)\n",
        "\n",
        "        else:\n",
        "            queue.append(t)\n",
        "            insert_idx = len(queue) - 1\n",
        "\n",
        "            while True:\n",
        "                parent_idx = insert_idx // 2\n",
        "\n",
        "                if insert_idx <= 1:\n",
        "                    break              \n",
        "\n",
        "                if queue[parent_idx] >= queue[insert_idx]:\n",
        "                    break\n",
        "\n",
        "                queue[parent_idx], queue[insert_idx] = queue[insert_idx], queue[parent_idx]\n",
        "                insert_idx = parent_idx"
      ],
      "execution_count": null,
      "outputs": []
    },
    {
      "cell_type": "markdown",
      "metadata": {
        "id": "dvilZylEEd8J"
      },
      "source": [
        "####  (최소 힙)1927번"
      ]
    },
    {
      "cell_type": "code",
      "metadata": {
        "colab": {
          "base_uri": "https://localhost:8080/"
        },
        "id": "PLRBRMchEd8J",
        "outputId": "ecef35aa-be7d-4c62-815a-d35d003f592a"
      },
      "source": [
        "import sys\n",
        "\n",
        "n = int(sys.stdin.readline())\n",
        "\n",
        "queue = [None]\n",
        "for _ in range(n):\n",
        "    t = int(sys.stdin.readline())\n",
        "\n",
        "    if not t:\n",
        "        if len(queue) == 1:\n",
        "            print(0)\n",
        "        else:\n",
        "            print(queue[1])\n",
        "            popped_idx = 1\n",
        "            queue[1] = queue[-1]            \n",
        "            queue.pop()\n",
        "\n",
        "            while True:\n",
        "                left_child_idx = popped_idx * 2\n",
        "                right_child_idx = popped_idx * 2 + 1\n",
        "\n",
        "                if left_child_idx >= len(queue):\n",
        "                    break\n",
        "\n",
        "                elif right_child_idx >= len(queue):\n",
        "                    if queue[popped_idx] > queue[left_child_idx]:\n",
        "                        queue[popped_idx], queue[left_child_idx] = queue[left_child_idx], queue[popped_idx]\n",
        "                        popped_idx = left_child_idx\n",
        "                    else:\n",
        "                        break\n",
        "                else:\n",
        "                    if queue[left_child_idx] < queue[right_child_idx]:\n",
        "                        if queue[popped_idx] > queue[left_child_idx]:\n",
        "                            queue[popped_idx], queue[left_child_idx] = queue[left_child_idx], queue[popped_idx]\n",
        "                            popped_idx = left_child_idx\n",
        "                        else:\n",
        "                            break\n",
        "                    else:\n",
        "                        if queue[popped_idx] > queue[right_child_idx]:\n",
        "                            queue[popped_idx], queue[right_child_idx] = queue[right_child_idx], queue[popped_idx]\n",
        "                            popped_idx = right_child_idx\n",
        "                        else:\n",
        "                            break\n",
        "\n",
        "    else:\n",
        "        if len(queue) == 1:\n",
        "            queue.append(t)\n",
        "\n",
        "        else:\n",
        "            queue.append(t)\n",
        "            insert_idx = len(queue) - 1\n",
        "\n",
        "            while True:\n",
        "                parent_idx = insert_idx // 2\n",
        "\n",
        "                if insert_idx <= 1:\n",
        "                    break              \n",
        "\n",
        "                if queue[parent_idx] <= queue[insert_idx]:\n",
        "                    break\n",
        "\n",
        "                queue[parent_idx], queue[insert_idx] = queue[insert_idx], queue[parent_idx]\n",
        "                insert_idx = parent_idx"
      ],
      "execution_count": null,
      "outputs": [
        {
          "output_type": "stream",
          "name": "stdout",
          "text": [
            "[1, 2]\n"
          ]
        }
      ]
    },
    {
      "cell_type": "markdown",
      "metadata": {
        "id": "mN7qeEYqEeOw"
      },
      "source": [
        "####  11286번"
      ]
    },
    {
      "cell_type": "code",
      "metadata": {
        "id": "lZgm01QJEeOx"
      },
      "source": [
        "import sys\n",
        "\n",
        "n = int(sys.stdin.readline())\n",
        "#n = int(input())\n",
        "\n",
        "queue = [None]\n",
        "for _ in range(n):\n",
        "    t = int(sys.stdin.readline())\n",
        "    #t = int(input())\n",
        "    \n",
        "    #print(queue)\n",
        "    if not t: # 입력 받은 값이 0일 떄\n",
        "        if len(queue) == 1: # queue가 빈공간이면\n",
        "            print(0)\n",
        "        else: # queue가 빈 공간이 아닐 때\n",
        "            print(queue[1])\n",
        "            popped_idx = 1\n",
        "            queue[1] = queue[-1]            \n",
        "            queue.pop()\n",
        "\n",
        "            while True:\n",
        "                left_child_idx = popped_idx * 2 # 왼쪽 자식 idx\n",
        "                right_child_idx = popped_idx * 2 + 1 # 오른쪽 자식 idx\n",
        "\n",
        "                if left_child_idx >= len(queue): # 왼쪽 자식 노드가 없으면\n",
        "                    break # 종료\n",
        "\n",
        "                elif right_child_idx >= len(queue): # 왼쪽 자식 노드만 있는 경우\n",
        "                    if abs(queue[popped_idx]) > abs(queue[left_child_idx]): # 왼쪽 자식의 절댓값이 작은경우\n",
        "                        queue[popped_idx], queue[left_child_idx] = queue[left_child_idx], queue[popped_idx]\n",
        "                        popped_idx = left_child_idx\n",
        "\n",
        "                    elif abs(queue[popped_idx]) == abs(queue[left_child_idx]) and queue[popped_idx] > queue[left_child_idx]: # 왼쪽 자식과 절댓값이 같은 경우\n",
        "                        queue[popped_idx], queue[left_child_idx] = queue[left_child_idx], queue[popped_idx]\n",
        "                        popped_idx = left_child_idx\n",
        "\n",
        "                    else: # 왼쪽 자식의 절댓값이 큰 경우\n",
        "                        break\n",
        "\n",
        "                else: # 왼쪽, 오른쪽 자식 노드가 모두 있는경우\n",
        "                    if abs(queue[left_child_idx]) < abs(queue[right_child_idx]): # 왼쪽 노드의 절댓값이 오른쪽 보다 작은 경우\n",
        "                        if abs(queue[popped_idx]) > abs(queue[left_child_idx]): # popped_idx의 왼쪽 자식 노드의 절댓값이 더 작은 경우\n",
        "                            queue[popped_idx], queue[left_child_idx] = queue[left_child_idx], queue[popped_idx]\n",
        "                            popped_idx = left_child_idx\n",
        "                        elif abs(queue[popped_idx]) == abs(queue[left_child_idx]) and queue[left_child_idx ] < queue[popped_idx]: # popped_idx와 왼쪽 자식 노드의 절댓값이 같은 경우\n",
        "                            queue[popped_idx], queue[left_child_idx] = queue[left_child_idx], queue[popped_idx]\n",
        "                            popped_idx = left_child_idx\n",
        "                        else:\n",
        "                            break\n",
        "\n",
        "                    elif abs(queue[left_child_idx]) == abs(queue[right_child_idx]) and queue[left_child_idx] < queue[right_child_idx]: # 왼쪽과 오른쪽 자식 노드의 절댓값이 같은경우\n",
        "                        if abs(queue[popped_idx]) > abs(queue[left_child_idx]): # popped_idx의 왼쪽 자식 노드의 절댓값이 더 작은 경우\n",
        "                            queue[popped_idx], queue[left_child_idx] = queue[left_child_idx], queue[popped_idx]\n",
        "                            popped_idx = left_child_idx\n",
        "                        elif abs(queue[popped_idx]) == abs(queue[left_child_idx]) and queue[left_child_idx ] < queue[popped_idx]: # popped_idx와 왼쪽 자식 노드의 절댓값이 같은 경우\n",
        "                            queue[popped_idx], queue[left_child_idx] = queue[left_child_idx], queue[popped_idx]\n",
        "                            popped_idx = left_child_idx\n",
        "                        else:\n",
        "                            break\n",
        "    \n",
        "                    else: # 오른쪽 자식 노드의 절댓값이 큰 경우\n",
        "                        if abs(queue[popped_idx]) > abs(queue[right_child_idx]): # popped_idx의 오른쪽 자식 노드의 절댓값이 더 작은 경우\n",
        "                            queue[popped_idx], queue[right_child_idx] = queue[right_child_idx], queue[popped_idx]\n",
        "                            popped_idx = right_child_idx\n",
        "                        elif abs(queue[popped_idx]) == abs(queue[right_child_idx]) and queue[right_child_idx ] < queue[popped_idx]: # popped_idx와 오른쪽 자식 노드의 절댓값이 같은 경우\n",
        "                            queue[popped_idx], queue[right_child_idx] = queue[right_child_idx], queue[popped_idx]\n",
        "                            popped_idx = right_child_idx\n",
        "                        else:\n",
        "                            break\n",
        "\n",
        "    else: # insert(t)\n",
        "        if len(queue) == 1: # queue의 값이 없을 때\n",
        "            queue.append(t)\n",
        "\n",
        "        else: # queue에 값이 있을 때\n",
        "            queue.append(t)\n",
        "            insert_idx = len(queue) - 1\n",
        "\n",
        "            while True:\n",
        "                parent_idx = insert_idx // 2 # 부모 idx\n",
        "\n",
        "                if insert_idx <= 1: # indert_id가 1번째 시드에 있으면\n",
        "                    break              \n",
        "\n",
        "                if abs(queue[parent_idx]) > abs(queue[insert_idx]): # 입력 idx의 부모보다 절댓값이 작으면\n",
        "                    queue[parent_idx], queue[insert_idx] = queue[insert_idx], queue[parent_idx]\n",
        "                    insert_idx = parent_idx\n",
        "                elif abs(queue[parent_idx]) == abs(queue[insert_idx]) and queue[parent_idx] > queue[insert_idx]: # 입력 idx의 부모보다 절댓값이 같을 때\n",
        "                    queue[parent_idx], queue[insert_idx] = queue[insert_idx], queue[parent_idx]\n",
        "                    insert_idx = parent_idx\n",
        "                else:\n",
        "                    break"
      ],
      "execution_count": null,
      "outputs": []
    },
    {
      "cell_type": "markdown",
      "metadata": {
        "id": "73tjDp6eEeTb"
      },
      "source": [
        "####  (*)1655번 : heapq 모듈 사용 안하고 불가능한가?"
      ]
    },
    {
      "cell_type": "code",
      "metadata": {
        "id": "3692VFQHEeTc"
      },
      "source": [
        "### 힙정렬 시간초과\n",
        "import sys\n",
        "\n",
        "#n = int(sys.stdin.readline())\n",
        "n = int(input())\n",
        "\n",
        "queue = [-10001]\n",
        "queue.append(int(input()))\n",
        "#queue.append(int(sys.stdin.readline()))\n",
        "print(queue[len(queue) // 2])\n",
        "\n",
        "for _ in range(n-1):\n",
        "    #t = int(sys.stdin.readline())\n",
        "    t = int(input())\n",
        "    queue.append(t)\n",
        "    insert_idx = len(queue) - 1\n",
        "\n",
        "    while True:\n",
        "        parent_idx = insert_idx // 2\n",
        "\n",
        "        if queue[parent_idx] <= queue[insert_idx]:\n",
        "            while insert_idx > parent_idx:\n",
        "                if queue[insert_idx] < queue[insert_idx - 1]:\n",
        "                    queue[insert_idx - 1], queue[insert_idx] = queue[insert_idx], queue[insert_idx - 1]\n",
        "                    insert_idx = insert_idx - 1\n",
        "                else:\n",
        "                    break\n",
        "\n",
        "            break\n",
        "        else:\n",
        "            queue[parent_idx], queue[insert_idx] = queue[insert_idx], queue[parent_idx]\n",
        "            \n",
        "            while insert_idx > parent_idx:\n",
        "                if queue[insert_idx] < queue[insert_idx - 1]:\n",
        "                    queue[insert_idx - 1], queue[insert_idx] = queue[insert_idx], queue[insert_idx - 1]\n",
        "                    insert_idx = insert_idx - 1\n",
        "                else:\n",
        "                    break\n",
        "\n",
        "            insert_idx = parent_idx\n",
        "\n",
        "    print('queue : ',queue)\n",
        "    print('ans : ',queue[len(queue) // 2])"
      ],
      "execution_count": null,
      "outputs": []
    },
    {
      "cell_type": "code",
      "source": [
        "import sys, heapq\n",
        "\n",
        "n = int(sys.stdin.readline())\n",
        "\n",
        "left_queue = []\n",
        "right_queue = []\n",
        "\n",
        "for i in range(n):\n",
        "    t = int(sys.stdin.readline())\n",
        "\n",
        "    if i % 2:\n",
        "        heapq.heappush(right_queue, t)\n",
        "    else:\n",
        "        heapq.heappush(left_queue, -t)\n",
        "    \n",
        "    if right_queue and -left_queue[0] > right_queue[0]:\n",
        "        heapq.heappush(right_queue, -heapq.heappop(left_queue))\n",
        "        heapq.heappush(left_queue, -heapq.heappop(right_queue))\n",
        "\n",
        "    print(-left_queue[0])"
      ],
      "metadata": {
        "id": "KhnNbpCg95-1"
      },
      "execution_count": null,
      "outputs": []
    },
    {
      "cell_type": "markdown",
      "metadata": {
        "id": "vUcr9l-QBV2m"
      },
      "source": [
        "### 24단계 : 동적계획법2===========**"
      ]
    },
    {
      "cell_type": "markdown",
      "source": [
        " - dynamic programming의 핵심은 2차원 배열로 만들시 행, 열, 원소를 무엇으로 둘 것인지 잘 고려해 볼것!"
      ],
      "metadata": {
        "id": "UsGHKdG9gExb"
      }
    },
    {
      "cell_type": "markdown",
      "metadata": {
        "id": "HXmexh_cBV2o"
      },
      "source": [
        "####  (*)11066번"
      ]
    },
    {
      "cell_type": "code",
      "metadata": {
        "id": "WET29noWBV2p"
      },
      "source": [
        "#O(n^3)\n",
        "# bottom up\n",
        "# https://www.youtube.com/watch?v=4OdIDIYLHlY\n",
        "# 어렵다 아직 잘 모르겠음('21.12.15)\n",
        "import sys\n",
        "n = int(input()) # 케이스 변수 입력\n",
        "\n",
        "for _ in range(n): # 케이스 수 만큼 반복\n",
        "    k = int(sys.stdin.readline()) # 횟수 변수 입력\n",
        "    l = list(map(int, sys.stdin.readline().rstrip('\\n').split())) # 리스트 형태로 입력\n",
        "\n",
        "    dp = [[False] * (k) for _ in range(k)] # 2차 행렬 생성\n",
        "    \n",
        "    for j in range(1,k): # 각 열 오름차순 진행\n",
        "        for i in range(j-1,-1,-1): # 각 행 내림차순 진행\n",
        "            small = float('inf') # inf 값 입력\n",
        "            for q in range(j-i): # i행의 q번째(왼쪽에서부터)\n",
        "                                 # j열의 q+1번째(위에서부터)\n",
        "\n",
        "                small = min(small, # 이전 값\n",
        "                            dp[i][i+q] + dp[i+q+1][j]) \n",
        "                            # i,j 행,열 이라면,\n",
        "                            # i행의 q번째 값과, j열의 q+1번째 값의 합\n",
        "\n",
        "            dp[i][j] = small + sum(l[i:j+1]) # small 값 +\n",
        "                                             # 해당 집합의 합\n",
        "            \n",
        "    print(dp[0][k-1]) # 결과 값 출력"
      ],
      "execution_count": null,
      "outputs": []
    },
    {
      "cell_type": "markdown",
      "metadata": {
        "id": "rh9vFZIYBfGW"
      },
      "source": [
        "####  11049번"
      ]
    },
    {
      "cell_type": "code",
      "metadata": {
        "id": "c_cu5uUnBfGX"
      },
      "source": [
        "# pypy3로 진행\n",
        "\n",
        "k = int(input()) # 횟수 변수 입력\n",
        "\n",
        "l = []\n",
        "for _ in range(k): \n",
        "    l.append(list(map(int, input().split()))) # 리스트 형태로 추가\n",
        "\n",
        "dp = [[False] * k for _ in range(k)] # 2차 행렬 생성\n",
        "for j in range(1,k):                 # 각 열 오름차순 진행\n",
        "    for i in range(j-1,-1,-1):       # 각 행 내림차순 진행\n",
        "        dp[i][j] = float('inf')      # inf 값 입력\n",
        "        for q in range(j-i):         # i행의 q번째(왼쪽에서부터), j열의 q+1번째(위에서부터)\n",
        "        \n",
        "            dp[i][j] = min(dp[i][j], # 이전 값\n",
        "                           dp[i][i+q] + dp[i+q+1][j] + l[i][0] * l[i+q][1] * l[j][1])\n",
        "                           # 이전 dp들의 합과 \n",
        "                           # i번째 행렬의 앞부분 *\n",
        "                           # i행의 q번째 값의 뒷부분 * \n",
        "                           # j번째 행렬의 뒷부분\n",
        "        \n",
        "print(dp[0][k-1])          # 결과 출력\n",
        "'''\n",
        "[False,    30,    90,    96]\n",
        "[False, False,    36,    54]\n",
        "[False, False, False,    36]\n",
        "[False, False, False, False]\n",
        "'''"
      ],
      "execution_count": null,
      "outputs": []
    },
    {
      "cell_type": "markdown",
      "metadata": {
        "id": "mojqkuQlBfMe"
      },
      "source": [
        "####  1520번"
      ]
    },
    {
      "cell_type": "code",
      "metadata": {
        "id": "1wrgab6JBfMe"
      },
      "source": [
        "import sys\n",
        "\n",
        "sys.setrecursionlimit(1000000000)   # 없으면 재귀 깊이 오류\n",
        "n, m = map(int, input().split())    # 행과 열의 개수 입력\n",
        "\n",
        "l = []                                          # 지도 리스트 생성\n",
        "for _ in range(n):                              # 행만큼 반복\n",
        "    l.append(list(map(int, input().split())))   # 지도 배열 입력\n",
        "\n",
        "res = [[-1] * m for _ in range(n)]              # n x m 배열 생성\n",
        "res[-1][-1] = 1                                 # top-down 형식을 위한 목표 지점 설정\n",
        "\n",
        "def can(i,j):                                   # 갈 수 있는 지 여부\n",
        "    if i < 0 or j < 0 or i >= n or j >= m:      # i와 j가 배열을 벗어나면\n",
        "        return False                            # False return\n",
        "    else:                                       # 배열 안에 있으면\n",
        "        return True                             # True return\n",
        "\n",
        "def find(i,j):                                  # DFS형식의 재귀 함수 정의\n",
        "    if res[i][j] != -1:                         # i, j 배열 원소가 -1이 아니면\n",
        "        return res[i][j]                        # 해당 값 return\n",
        "\n",
        "    res[i][j] = 0                               # -1이면 배열 원소 0으로 \n",
        "\n",
        "    for x, y in[(0,1),(1,0),(0,-1),(-1,0)]:     # 하, 우, 상, 좌의 순으로 반복 \n",
        "        if can(i+x,j+y):                        # 해당 방향으로 갈 수 있는 지 여부 판단\n",
        "            if l[i][j] > l[i+x][j+y]:           # 지도에서 해당 방향으로 값이 내려가는 지 판단\n",
        "                res[i][j] += find(i+x, j+y)     # i, j 배열 원소에 해당 방향에 해당 하는 값 추가\n",
        "\n",
        "    return res[i][j]                            # 시작 지점 배열 원소 return\n",
        "\n",
        "print(find(0,0))                                # 0,0에서 시작하는 find함수 실행"
      ],
      "execution_count": null,
      "outputs": []
    },
    {
      "cell_type": "markdown",
      "metadata": {
        "id": "ZZhvFpbMBfQ5"
      },
      "source": [
        "#### 10942번"
      ]
    },
    {
      "cell_type": "code",
      "metadata": {
        "id": "6aZjr4sfBfQ5"
      },
      "source": [
        "# 팰린드롬 - 역순으로 읽어도 똑같을 때\n",
        "import sys\n",
        "\n",
        "n = int(input())                            # 수열의 크기 입력\n",
        "l = list(map(int, input().split()))         # 수열 입력\n",
        "\n",
        "dp = [[1]*n for _ in range(n)]              # n x n 크기의 2차원 배열 생성\n",
        "for j in range(1,n):                        # 열 1번부터 진행\n",
        "    for i in range(j-1,-1,-1):              # 행을 열의 크기 - 1 부터 내림차순 진행\n",
        "        if l[i] == l[j] and dp[i+1][j-1]:   # 양 끝 l[i], l[j]가 같고, 그 사이의 값이 펠린드 롬이면\n",
        "            continue                        # continue\n",
        "        dp[i][j] = 0                        # 아니라면 펠린드롬이 아니기 때문에 0으로 업데이트\n",
        "\n",
        "m = int(input())        # 질문의 개수 입력\n",
        "for _ in range(m):      # 질문의 개수 만큼 반복\n",
        "    s, e = map(int, sys.stdin.readline().rstrip('\\n').split())  # 시작과 끝 지점 입력\n",
        "    print(dp[s-1][e-1])                                         # dp에서 해당 지점 출력"
      ],
      "execution_count": null,
      "outputs": []
    },
    {
      "cell_type": "markdown",
      "metadata": {
        "id": "UqLzpclrBfVJ"
      },
      "source": [
        "####  (*)2629번"
      ]
    },
    {
      "cell_type": "code",
      "metadata": {
        "id": "EqURMFb1BfVK"
      },
      "source": [
        "# https://blog.naver.com/cwyoo01/222608971611\n",
        "import sys\n",
        "\n",
        "n = int(sys.stdin.readline().rstrip('\\n'))                      # 변수 입력\n",
        "l = list(map(int, sys.stdin.readline().rstrip('\\n').split()))   # \n",
        "\n",
        "m = int(sys.stdin.readline().rstrip('\\n'))                      #\n",
        "s = list(map(int, sys.stdin.readline().rstrip('\\n').split()))   #\n",
        "\n",
        "dp = [[False]*40001 for _ in range(n+1)]    # 추 추가 횟수, 무게의 2차 배열 생성\n",
        "ans = [False]*40001                         # 확인 가능한 무게 목록 생성\n",
        "\n",
        "def find(left, right, i):                   # 재귀 함수 생성\n",
        "    global ans, dp                          # 전역 변수 지정\n",
        "\n",
        "    diff = abs(left - right)                # 왼쪽과 오른쪽 저울의 차이\n",
        "    ans[diff] = True                        # 차이 만큼 구슬의 무게를 확인 가능\n",
        "\n",
        "    if i == n:                              # 추가한 추의 횟수가 최대값이면\n",
        "        return                              # 재귀 종료\n",
        "\n",
        "    if not dp[i][diff]:                     # 방문 여부\n",
        "        find(left + l[i], right, i + 1)     # 왼쪽 저울에 추를 올린 경우\n",
        "        find(left, right + l[i], i + 1)     # 오른쪽 저울에 추를 올린 경우\n",
        "        find(left, right, i + 1)            # 추를 올리지 않은 경우\n",
        "        dp[i][diff] = True                  # 방문 표시\n",
        "    \n",
        "find(0,0,0)                                 # 재귀 실행\n",
        "\n",
        "for i in s:                                 # 무게 확인\n",
        "    if ans[i]:                              # 해당 무게가 확인 가능하면\n",
        "        print('Y',end=' ')\n",
        "    else:\n",
        "        print('N',end=' ') \n"
      ],
      "execution_count": null,
      "outputs": []
    },
    {
      "cell_type": "markdown",
      "metadata": {
        "id": "t2tEp1nNBfZp"
      },
      "source": [
        "####  (*)2293번"
      ]
    },
    {
      "cell_type": "code",
      "metadata": {
        "id": "rGOUdWM1BfZp"
      },
      "source": [
        "### https://mong9data.tistory.com/68\n",
        "n, k = map(int, input().split())        # n개의 동전과 가치의 합 k 입력\n",
        "l = [int(input()) for _ in range(n)]    # n개의 동전 입력\n",
        "\n",
        "dp = [False] * (k+1)                    # k+1의 가치 합 리스트 생성\n",
        "dp[0] = 1                               # 동전 하나만 사용하는 경우를 위해 1 할당\n",
        "\n",
        "for i in range(n):                      # i번째까지 동전들을 사용\n",
        "    for j in range(l[i], k+1):          # i번째 동전의 가치부터 배열의 끝까지 진행 \n",
        "        if j-l[i] > -1:                 # i번째 동전의 가치이상 부터 진행\n",
        "            dp[j] += dp[j-l[i]]         # i-1번째까지의 동전들을 사용한 경우의 수와 \n",
        "                                        # (j가치 - i번째 동전의 가치)의 경우의 수를 더함\n",
        "                                        # bc. (j - i번째 동전의 가치) + i번째 동전의 가치 = j\n",
        "\n",
        "print(dp[-1])                           # 경우의 수 출력"
      ],
      "execution_count": null,
      "outputs": []
    },
    {
      "cell_type": "markdown",
      "metadata": {
        "id": "fDV6tkrLBfeE"
      },
      "source": [
        "####  7579번"
      ]
    },
    {
      "cell_type": "code",
      "metadata": {
        "id": "bYJjc5QVBfeF"
      },
      "source": [
        "# curr[j] = max(prev[j], curr[j])에서\n",
        "# 현재값도 같이 비교해야 하는 부분을 찾느라 2시간이 더 걸림. => 오류 찾는 연습을 더 할 것.\n",
        "\n",
        "n, m = map(int, input().split())    # n개의 앱, m의 바이트 확보\n",
        "l = list(map(int, input().split())) # 메모리 바이트 수\n",
        "c = list(map(int, input().split())) # 다시 실행 할 때의 비용\n",
        "\n",
        "t = sum(c)                          # 비용의 최대 합\n",
        "\n",
        "prev = [-1 for _ in range(t+1)]     # 이전 dp\n",
        "curr = [-1 for _ in range(t+1)]     # 현재 dp\n",
        "prev[0] = 0                         # 시작은 0으로 시작\n",
        "\n",
        "for i in range(n):                                              # n개의 앱 수 만큼 반복\n",
        "    for j in range(t+1):                                        # 0부터 비용의 최대 합 까지 반복\n",
        "        if prev[j] >= 0:                                        # 이전 j 비용에 값이 들어있으면\n",
        "            curr[j] = max(prev[j], curr[j])                     # j번째 비용 업데이트(i번째 앱을 제거하지 않는다는 가정)\n",
        "            curr[j+c[i]] = max(prev[j+c[i]], prev[j] + l[i])    # j번째 + i번째 앱의 비용 업데이트(i번째 앱을 제거 한다는 가정)\n",
        "\n",
        "    prev, curr = curr, prev                                     # 이전과 현재의 dp 변경\n",
        "\n",
        "for i in range(t+1):                # 0부터 비용의 초대 합 까지 반복\n",
        "    if prev[i] >= m:                # 변경된 마지막 dp의 i번째 원소가 m 보다 크거나 같으면\n",
        "        print(i)                    # i를 출력하고 종료\n",
        "        break\n"
      ],
      "execution_count": null,
      "outputs": []
    },
    {
      "cell_type": "markdown",
      "metadata": {
        "id": "PkFTWJFFBZxw"
      },
      "source": [
        "### 25단계 : DFS와 BFS===========**\n",
        "    sys.setrecursionlimit(1000000000)"
      ]
    },
    {
      "cell_type": "markdown",
      "metadata": {
        "id": "TnrDs0kMBZxw"
      },
      "source": [
        "####  1260번"
      ]
    },
    {
      "cell_type": "code",
      "metadata": {
        "id": "VdZ0HlHIBZxx"
      },
      "source": [
        "n, m, v = map(int, input().split())\n",
        "\n",
        "dfs_vertex = [True] + [False] * n\n",
        "bfs_vertex = [True] + [False] * n\n",
        "\n",
        "dfs_result = []\n",
        "bfs_result = []\n",
        "\n",
        "node = [[] for _ in range(10001)]\n",
        "\n",
        "for _ in range(m):\n",
        "    a, b = map(int, input().split())\n",
        "    node[a].append(b)\n",
        "    node[b].append(a)\n",
        "\n",
        "for i in range(m):\n",
        "    node[i].sort()\n",
        "\n",
        "def DFS(v): # stack형태\n",
        "    global dfs_vertex\n",
        "\n",
        "    dfs_vertex[v] = True\n",
        "    dfs_result.append(v)\n",
        "\n",
        "    if dfs_vertex == [True] * (n + 1):\n",
        "        return\n",
        "    \n",
        "    for i in node[v]:\n",
        "        if dfs_vertex[i]:\n",
        "            continue\n",
        "        else:\n",
        "            DFS(i) \n",
        "\n",
        "def BFS(queue, v): # queue 형태\n",
        "    global bfs_vertex\n",
        "    \n",
        "    queue.append(v)\n",
        "    bfs_result.append(v)\n",
        "    bfs_vertex[v] = True\n",
        "\n",
        "    while True:\n",
        "        if queue == []:\n",
        "            break\n",
        "        \n",
        "        t = queue.pop(0)\n",
        "        for i in node[t]:\n",
        "            if not bfs_vertex[i]:\n",
        "                queue.append(i)\n",
        "                bfs_result.append(i)\n",
        "                bfs_vertex[i] = True    \n",
        "\n",
        "DFS(v)\n",
        "BFS([],v)\n",
        "\n",
        "print(*dfs_result)\n",
        "print(*bfs_result)"
      ],
      "execution_count": null,
      "outputs": []
    },
    {
      "cell_type": "markdown",
      "metadata": {
        "id": "Xc2rVYZ1DWAq"
      },
      "source": [
        "####  2606번"
      ]
    },
    {
      "cell_type": "code",
      "metadata": {
        "id": "NcsffSumDWAy"
      },
      "source": [
        "n = int(input())                        # 컴퓨터 수 입력\n",
        "c = int(input())                        # 연결된 컴퓨터 쌍의 수 입력\n",
        "\n",
        "visited = [False] * (n+1)               # 방문 여부 리스트 생성\n",
        "node = [[] for _ in range(n+1)]         # Adjacenct Lists in Lists 생성\n",
        "\n",
        "for _ in range(c):                      # 입력 횟수 만큼 반복\n",
        "    a, b = map(int, input().split())    # vertex 입력\n",
        "    node[a].append(b)                   # 해당 vertex에 연결된 vertex 삽입\n",
        "    node[b].append(a)                   # 위와 동일\n",
        "\n",
        "def dfs(x):                             # DFS\n",
        "    if visited[x]:                      # 방문여부 확인\n",
        "        return                          # 방문시 재귀 종료\n",
        "\n",
        "    visited[x] = True                   # 방문 여부 업데이트\n",
        "    for i in node[x]:                   # 해당 vertex와 연결된 vertex들\n",
        "        dfs(i)                          # 연결된 vertex에 방문\n",
        "\n",
        "dfs(1)                  # 1번 컴퓨터로부터 dfs 실행\n",
        "visited[1] = False      # 1번 컴퓨터는 count에서 제외\n",
        "print(sum(visited))     # 방문한 vertex들 count"
      ],
      "execution_count": null,
      "outputs": []
    },
    {
      "cell_type": "markdown",
      "metadata": {
        "id": "_jfJBLzSDWEK"
      },
      "source": [
        "####  2667번"
      ]
    },
    {
      "cell_type": "code",
      "metadata": {
        "id": "2423R-7gDWEK"
      },
      "source": [
        "n = int(input())                                            # 지도의 크기 입력\n",
        "    \n",
        "m = []                                                      # 지도 배열 생성\n",
        "for _ in range(n):                                          # n번 반복\n",
        "    m.append(list(map(int, '\\n'.join(input()).split() )) )  # 지도 배열 입력\n",
        "                                                            # (문자로 그대로 받으면 '0' 이 True로 나와 오류 찾는데 애먹음)\n",
        "\n",
        "visited = [[False]*n for _ in range(n)]                     # 방문 여부 배열 생성\n",
        "\n",
        "t = []                                                      # 결과 리스트 생성\n",
        "\n",
        "def dfs(i,j):                                               # dfs 함수 생성\n",
        "    global visited, cnt                                     # 전역변수 지정\n",
        "    \n",
        "    visited[i][j] = True                                    # i, j 요소 방문 표시\n",
        "    cnt += 1                                                # 단지내 집 수 + 1\n",
        "\n",
        "    for x, y in ([-1,0], [1,0], [0,1], [0,-1]):             # 상, 하, 좌, 우 방문\n",
        "        if 0 <= i+x and i+x < n and 0 <= j+y and j+y < n:   # 배열의 크기를 안 벗어나고\n",
        "            if m[i+x][j+y] and not visited[i+x][j+y]:       # 해당 방향 방문한 요소가 1이고, 방문하지 않았다면\n",
        "                dfs(i+x, j+y)                               # dfs 진행\n",
        "\n",
        "for i in range(n):                          # n번 반복\n",
        "    for j in range(n):                      # n번 반복\n",
        "        if not m[i][j] or visited[i][j]:    # i, j배열의 지도 원소가 0이거나 방문했으면\n",
        "            continue                        # 넘어감\n",
        "        \n",
        "        cnt = 0                             # 단지내 집 수\n",
        "        dfs(i,j)                            # dfs 진행\n",
        "\n",
        "        if cnt:                             # 단지내 집 수가 1 이상이면\n",
        "            t.append(cnt)                   # 결과 리스트에 추가\n",
        "\n",
        "print(len(t))                               # 단지의 수 출력\n",
        "t.sort(reverse=False)                       # 오름차순 진행 \n",
        "for i in t:                                 # 단지내 집 수 각각 출력\n",
        "    print(i)"
      ],
      "execution_count": null,
      "outputs": []
    },
    {
      "cell_type": "markdown",
      "metadata": {
        "id": "oPD8cNOfDWHz"
      },
      "source": [
        "####  1012번"
      ]
    },
    {
      "cell_type": "code",
      "metadata": {
        "id": "EDNpnlLkDWH3"
      },
      "source": [
        "import sys\n",
        "sys.setrecursionlimit(1000000000)               # 없으면 RecursionError\n",
        "t = int(input())                                # 테스트 수 입력\n",
        "\n",
        "for _ in range(t):                              # 테스트 수 만큼 반복\n",
        "    m, n, k = map(int, input().split())         # 땅의 가로, 세로 크기 및 배추의 수 입력\n",
        "\n",
        "    M = [[False]*m for _ in range(n)]           # 땅 배열 생성\n",
        "    visited = [[False]*m for _ in range(n)]     # 방문 여부 배열 생성\n",
        "\n",
        "    for _ in range(k):                          # 배추의 수 만큼 반복\n",
        "        x, y = map(int, input().split())        # 가로축 세로축 입력\n",
        "        M[y][x] = True                          # 배추의 위치 입력\n",
        "\n",
        "    t = 0                                       # 배추벌레의 수 변수 생성\n",
        "\n",
        "    def dfs(i,j):                                               # dfs 함수 생성\n",
        "        global visited, cnt                                     # 전역변수 지정\n",
        "    \n",
        "        visited[i][j] = True                                    # i, j 요소 방문 표시\n",
        "        cnt = True                                               # 단지내 집 수 + 1\n",
        "\n",
        "        for a, b in ([-1,0], [1,0], [0,1], [0,-1]):             # 상, 하, 좌, 우 방문\n",
        "            if 0 <= i+a and i+a < n and 0 <= j+b and j+b < m:   # 배열의 크기를 안 벗어나고\n",
        "                if M[i+a][j+b] and not visited[i+a][j+b]:       # 해당 방향 방문한 요소가 1이고, 방문하지 않았다면\n",
        "                    dfs(i+a, j+b)                               # dfs 진행\n",
        "\n",
        "    for i in range(n):                          # n번 반복\n",
        "        for j in range(m):                      # m번 반복\n",
        "            if not M[i][j] or visited[i][j]:    # i, j 배열의 땅 원소가 False 이거나 방문했으면\n",
        "                continue                        # 넘어감\n",
        "            \n",
        "            cnt = False                         # 배추들 모여있는 지 여부\n",
        "            dfs(i,j)                            # dfs 진행\n",
        "\n",
        "            if cnt:                             # 배추들이 모여있는 그룹이면\n",
        "                t += 1                          # 배추벌레의 수 + 1\n",
        "    \n",
        "    print(t)"
      ],
      "execution_count": null,
      "outputs": []
    },
    {
      "cell_type": "markdown",
      "metadata": {
        "id": "gtmge-G6DWK4"
      },
      "source": [
        "####  2178번"
      ]
    },
    {
      "cell_type": "code",
      "metadata": {
        "id": "7FSKT5VZDWK4"
      },
      "source": [
        "import sys                                      # 필요 모듈 import\n",
        "n, m = map(int, input().split())                # 배열의 크기 입력\n",
        "\n",
        "s = []                                          # 배열 변수 지정\n",
        "for _ in range(n):                              # 배열의 행만큼 반복\n",
        "    s.append(sys.stdin.readline().rstrip('\\n')) # 배열 입력\n",
        "\n",
        "visited = [[False] * m for _ in range(n)]       # 방문 여부 배열 생성\n",
        "\n",
        "def bfs(v, t):                                  # 너비우선탐색 진행(queue 형태) \n",
        "    queue = []                                  # queue를 리스트로 생성\n",
        "    queue.append(v)                             # queue에 시작 지점 append\n",
        "    visited[v[0]][v[1]] = True                  # 시작 지점 방문 표시\n",
        "\n",
        "    while True:                                 # 무한 반복\n",
        "        if queue == [] or [n-1, m-1] in queue:  # 더이상 갈 곳이 없거나 종료지점에 도달했으면\n",
        "            break                               # 무한 반복 종료\n",
        "\n",
        "        t += 1                                  # 거리 변수 + 1\n",
        "        for _ in range(len(queue)):             # 해당 거리에 있는 위치의 개수만큼 반복\n",
        "            popped = queue.pop(0)               # queue에서 맨 앞에 요소 제거\n",
        "            i, j = popped[0], popped[1]         # 방출된 요소 unpacking\n",
        "\n",
        "            for a, b in ([-1, 0], [1, 0], [0, 1], [0, -1]):             # 상, 하, 좌, 우 방향으로 진행\n",
        "                if 0 <= i+a and i+a < n and 0 <= j+b and j+b < m:       # 해당 방향 요소가 배열 안에있고\n",
        "                    if s[i+a][j+b] == '1' and not visited[i+a][j+b]:    # 길인 '1' 이고 방문하지 않았다면\n",
        "                        queue.append([i+a, j+b])                        # 해당 방향 위치를 queue에 append\n",
        "                        visited[i+a][j+b] = True                        # 해당 방향 방문 표시\n",
        "\n",
        "    return t                                                            # 거리 return(즉, 깊이 반환)\n",
        "\n",
        "\n",
        "print(bfs([0, 0], 1))                                                   # bfs 진행"
      ],
      "execution_count": null,
      "outputs": []
    },
    {
      "cell_type": "markdown",
      "metadata": {
        "id": "fK1tsdEkDWNs"
      },
      "source": [
        "####  7576번"
      ]
    },
    {
      "cell_type": "code",
      "metadata": {
        "id": "Uw2SWryEDWNt"
      },
      "source": [
        "import sys\n",
        "n, m = map(int, input().split())\n",
        "\n",
        "s = []\n",
        "for _ in range(m):\n",
        "    s.append(list(map(int, sys.stdin.readline().rstrip('\\n').split())))\n",
        "    #s.append(list(map(int, input().split())))\n",
        "\n",
        "visited = [[False] * n for _ in range(m)]\n",
        "\n",
        "ripen = []\n",
        "for i in range(m):\n",
        "    for j in range(n):\n",
        "        if s[i][j] == 1:\n",
        "            ripen.append([i,j])\n",
        "            visited[i][j] = True\n",
        "\n",
        "        elif s[i][j] == -1:\n",
        "            visited[i][j] = True\n",
        "        \n",
        "\n",
        "\n",
        "def bfs(queue, t):\n",
        "    f, e = 0, len(queue) #linked list\n",
        "    while True:                                 # 무한 반복\n",
        "        if f >= e:\n",
        "            break                               # 무한 반복 종료\n",
        "\n",
        "        t += 1                                  # 거리 변수 + 1\n",
        "        for _ in range(e - f):             # 해당 거리에 있는 위치의 개수만큼 반복\n",
        "            popped = queue[f]               # queue에서 맨 앞에 요소 제거\n",
        "            i, j = popped[0], popped[1]         # 방출된 요소 unpacking\n",
        "\n",
        "            for a, b in ([-1, 0], [1, 0], [0, 1], [0, -1]):             # 상, 하, 좌, 우 방향으로 진행\n",
        "                if 0 <= i+a and i+a < m and 0 <= j+b and j+b < n:       # 해당 방향 요소가 배열 안에있고\n",
        "                    if not s[i+a][j+b] and not visited[i+a][j+b]:    # 길인 '1' 이고 방문하지 않았다면\n",
        "                        queue.append([i+a, j+b])                        # 해당 방향 위치를 queue에 append\n",
        "                        visited[i+a][j+b] = True\n",
        "                        e += 1                        # 해당 방향 방문 표시\n",
        "            f += 1\n",
        "    return t   \n",
        "\n",
        "res = bfs(ripen, -1)\n",
        "\n",
        "if visited == [[True]*n for _ in range(m)]:\n",
        "    if not res:\n",
        "        print(0)\n",
        "    else:\n",
        "        print(res)\n",
        "\n",
        "else:\n",
        "    print(-1)"
      ],
      "execution_count": null,
      "outputs": []
    },
    {
      "cell_type": "markdown",
      "metadata": {
        "id": "rwkVEu0iBDaO"
      },
      "source": [
        "####  7569번"
      ]
    },
    {
      "cell_type": "code",
      "metadata": {
        "id": "pgWGsQhCBDaU"
      },
      "source": [
        "import sys\n",
        "\n",
        "m, n, h = map(int, input().split())\n",
        "\n",
        "visited = [[[False] * m for _ in range(n)] for _ in range(h)]\n",
        "ripen = []\n",
        "\n",
        "s = [[] for _ in range(h)]\n",
        "for k in range(h):\n",
        "    for i in range(n):\n",
        "        t = list(map(int, sys.stdin.readline().rstrip('\\n').split()))\n",
        "        for j in range(m):\n",
        "            if t[j] == 1:\n",
        "                ripen.append([k, i, j])\n",
        "                visited[k][i][j] = True\n",
        "            elif t[j] == -1:\n",
        "                visited[k][i][j] = True\n",
        "\n",
        "        s[k].append(t)\n",
        "\n",
        "\n",
        "def bfs(queue, t):\n",
        "    f, e = 0, len(queue)  # linked list\n",
        "    while True:                                 # 무한 반복\n",
        "        if f >= e:\n",
        "            break                               # 무한 반복 종료\n",
        "        t += 1                                  # 거리 변수 + 1\n",
        "        for _ in range(e - f):             # 해당 거리에 있는 위치의 개수만큼 반복\n",
        "            popped = queue[f]               # queue에서 맨 앞에 요소 제거\n",
        "            # 방출된 요소 unpacking\n",
        "            k, i, j = popped[0], popped[1], popped[2]\n",
        "\n",
        "            # 상, 하, 좌, 우 방향으로 진행\n",
        "\n",
        "            for a, b, c in ([-1, 0, 0], [1, 0, 0], [0, 1, 0], [0, -1, 0], [0, 0, 1], [0, 0, -1]):\n",
        "                if 0 <= k+a and k+a < h and 0 <= i+b and i+b < n and 0 <= j+c and j+c < m:       # 해당 방향 요소가 배열 안에있고\n",
        "                    if not s[k+a][i+b][j+c] and not visited[k+a][i+b][j+c]:    # 길인 '1' 이고 방문하지 않았다면\n",
        "                        # 해당 방향 위치를 queue에 append\n",
        "                        queue.append([k+a, i+b, j+c])\n",
        "                        visited[k+a][i+b][j+c] = True\n",
        "                        e += 1                        # 해당 방향 방문 표시\n",
        "            f += 1\n",
        "\n",
        "    return t\n",
        "\n",
        "\n",
        "res = bfs(ripen, -1)\n",
        "\n",
        "can = True\n",
        "for i in visited:\n",
        "    if not can:\n",
        "        break\n",
        "\n",
        "    for j in i:\n",
        "        if False in j:\n",
        "            can = False\n",
        "            break\n",
        "\n",
        "if can:\n",
        "    if not res:\n",
        "        print(0)\n",
        "    else:\n",
        "        print(res)\n",
        "\n",
        "else:\n",
        "    print(-1)\n"
      ],
      "execution_count": null,
      "outputs": []
    },
    {
      "cell_type": "markdown",
      "metadata": {
        "id": "itMtijYsBFg-"
      },
      "source": [
        "####  1697번"
      ]
    },
    {
      "cell_type": "code",
      "metadata": {
        "id": "ql5N8HwEBFg_"
      },
      "source": [
        "n, k =map(int, input().split())\n",
        "\n",
        "t = [False] * 100001\n",
        "t[n] = True\n",
        "\n",
        "res = 0\n",
        "\n",
        "queue = [n]\n",
        "\n",
        "s, e = 0, 1\n",
        "\n",
        "while True:\n",
        "    if s >= e:\n",
        "        break\n",
        "\n",
        "    if t[k]:\n",
        "        print(res)\n",
        "        break\n",
        "\n",
        "    for _ in range(e - s):\n",
        "        for j in [queue[s]+1, queue[s]-1, queue[s]*2]:\n",
        "            if 0 <= j and j <= 100000 and not t[j]:\n",
        "                queue.append(j)\n",
        "                t[j] = True\n",
        "                e += 1\n",
        "        s += 1\n",
        "    res += 1"
      ],
      "execution_count": null,
      "outputs": []
    },
    {
      "cell_type": "markdown",
      "metadata": {
        "id": "7dWbBLClBFkC"
      },
      "source": [
        "####  2206번"
      ]
    },
    {
      "cell_type": "code",
      "metadata": {
        "id": "kBOkkInlBFkC"
      },
      "source": [
        "import sys\n",
        "from collections import deque\n",
        "\n",
        "n,m = map(int, input().split())\n",
        "\n",
        "l = []\n",
        "for _ in range(n):\n",
        "    l.append(sys.stdin.readline())\n",
        "\n",
        "visited = [[2] * m for _ in range(n)] # 2 방문 안함, 0이면 방문, 1이면 벽을 하나 뚫고옴\n",
        "visited[0][0] = 0\n",
        "\n",
        "def dfs():  # 함수형으로 만드니까 python3도 성공 \n",
        "    res = 0\n",
        "    dx = [1,-1,0,0]\n",
        "    dy = [0,0,1,-1]\n",
        "    queue = deque([[0,0]])\n",
        "    while queue:\n",
        "\n",
        "        res += 1\n",
        "        for _ in range(len(queue)):     \n",
        "            x, y = queue.popleft()\n",
        "            if x == n-1 and y == m-1:\n",
        "                return res\n",
        "\n",
        "            for i in range(4):\n",
        "                nx, my = x + dx[i], y + dy[i]\n",
        "                if 0 <= nx < n and 0 <= my < m:\n",
        "                    if l[nx][my] == '0' and visited[nx][my] > visited[x][y]:\n",
        "                        visited[nx][my] = visited[x][y]\n",
        "                        queue.append([nx,my])\n",
        "                    elif l[nx][my] == '1' and not visited[x][y]:\n",
        "                        visited[nx][my] = visited[x][y] + 1\n",
        "                        queue.append([nx,my])\n",
        "    return -1\n",
        "\n",
        "print(dfs())"
      ],
      "execution_count": null,
      "outputs": []
    },
    {
      "cell_type": "markdown",
      "metadata": {
        "id": "_k8dhUVLBFnC"
      },
      "source": [
        "####  7562번"
      ]
    },
    {
      "cell_type": "code",
      "metadata": {
        "id": "pJrz5PBVBFnC"
      },
      "source": [
        "dx, dy = [-2,-2,-1,-1,1,1,2,2], [-1,1,-2,2,-2,2,-1,1]\n",
        "\n",
        "def dfs(start, end, n):\n",
        "    if start == end:\n",
        "        return 0\n",
        "\n",
        "    m = [[False] * n for _ in range(n)]\n",
        "    queue = [start]\n",
        "    m[start[0]][start[1]] = True\n",
        "\n",
        "    s, e = 0, 1\n",
        "    res = 0\n",
        "    while s < e:\n",
        "        if m[end[0]][end[1]]:\n",
        "            return res\n",
        "\n",
        "        res += 1\n",
        "        for _ in range(e-s):\n",
        "            i,j = queue[s]\n",
        "            \n",
        "            for k in range(8):\n",
        "                di, dj = i + dx[k], j + dy[k]\n",
        "                if 0 <= di < n and 0 <= dj < n and not m[di][dj]:\n",
        "                    m[di][dj] = True\n",
        "                    queue.append([di,dj])\n",
        "                    e += 1\n",
        "            s += 1\n",
        "    return 0\n",
        "\n",
        "for _ in range(int(input())):\n",
        "    n = int(input())\n",
        "    start = list(map(int, input().split()))\n",
        "    end = list(map(int, input().split()))\n",
        "\n",
        "    print(dfs(start, end, n))"
      ],
      "execution_count": null,
      "outputs": []
    },
    {
      "cell_type": "markdown",
      "metadata": {
        "id": "4jMaIQKBBFqM"
      },
      "source": [
        "####  1707번"
      ]
    },
    {
      "cell_type": "code",
      "metadata": {
        "id": "pMbSw3yQBFqM"
      },
      "source": [
        "# binary tree가 아님. => 문제에 대한 이해가 부족하여 오래걸림(쉬운 문제였음)\n",
        "# Bipartite Graph에 대해 서칭을 해보니 간단하게 인접한 node들을 다른 색으로 색칠하는 문제\n",
        "import sys\n",
        "sys.setrecursionlimit(10**6)\n",
        "input = sys.stdin.readline\n",
        "\n",
        "def dfs(x, group):\n",
        "    global visited, can\n",
        "    visited[x] = group\n",
        "\n",
        "    for i in vertex[x]:\n",
        "        if not can:\n",
        "            break\n",
        "\n",
        "        if not visited[i]:\n",
        "            dfs(i, -group)\n",
        "        else:\n",
        "            if visited[i] == visited[x]:\n",
        "                can = False \n",
        "\n",
        "for _ in range(int(input())):\n",
        "    v, e = map(int, input().split())\n",
        "\n",
        "    vertex = [[] for _ in range(v)] \n",
        "    \n",
        "    for _ in range(e):\n",
        "        a, b = map(int, input().split())\n",
        "        vertex[a-1].append(b-1)\n",
        "        vertex[b-1].append(a-1)\n",
        "\n",
        "    visited = [0]* v # 1 상위노드 0 방문 함, -1 방문 안함\n",
        "    can = True # 이분 그래프 여부\n",
        "\n",
        "    for i in range(v):\n",
        "        if not visited[i]:\n",
        "            dfs(i, 1)\n",
        "\n",
        "    if can:\n",
        "        print('YES')\n",
        "    else:\n",
        "        print('NO')"
      ],
      "execution_count": null,
      "outputs": []
    },
    {
      "cell_type": "markdown",
      "metadata": {
        "id": "z02YtuKLBZ4I"
      },
      "source": [
        "### 26단계 : 최단경로==========="
      ]
    },
    {
      "cell_type": "markdown",
      "metadata": {
        "id": "OgYoF6xMBZ4I"
      },
      "source": [
        "####  1753번 : 다익스트라"
      ]
    },
    {
      "cell_type": "code",
      "metadata": {
        "id": "ThAug-rvBZ4I"
      },
      "source": [
        "# 다익스트라 알고리즘\n",
        "import sys\n",
        "import heapq\n",
        "input = sys.stdin.readline\n",
        "\n",
        "v, e = map(int, input().split())\n",
        "k = int(input())\n",
        "m = [[] for _ in range(v+1)]\n",
        "for _ in range(e):\n",
        "    a, b, c = map(int, input().split())\n",
        "    m[a].append([b,c])\n",
        "\n",
        "res = [float('inf')] * (v+1)\n",
        "res[k] = 0\n",
        "\n",
        "q = []\n",
        "heapq.heappush(q, (0, k))\n",
        "\n",
        "while q:\n",
        "    dist, now = heapq.heappop(q)\n",
        "    if res[now] < dist:\n",
        "        continue\n",
        "    for i in m[now]:\n",
        "        w = dist + i[1]\n",
        "        if w < res[i[0]]:\n",
        "            res[i[0]] = w\n",
        "            heapq.heappush(q, (w, i[0]))\n",
        "\n",
        "\n",
        "for i in range(1,v+1):\n",
        "    if res[i] == float('inf'):\n",
        "        print('INF')\n",
        "    else:\n",
        "        print(res[i])"
      ],
      "execution_count": null,
      "outputs": []
    },
    {
      "cell_type": "markdown",
      "metadata": {
        "id": "9htQLovxP2yg"
      },
      "source": [
        "####  (*)1504번"
      ]
    },
    {
      "cell_type": "code",
      "metadata": {
        "id": "61w_wZ-mP2yg"
      },
      "source": [
        "import sys\n",
        "import heapq\n",
        "input = sys.stdin.readline\n",
        "\n",
        "v, e = map(int, input().split())\n",
        "m = [[] for _ in range(v+1)]\n",
        "for _ in range(e):\n",
        "    a, b, c = map(int, input().split())\n",
        "    m[a].append([b,c])\n",
        "    m[b].append([a,c])\n",
        "\n",
        "v1, v2 = map(int, input().split())\n",
        "\n",
        "def dijkstra(start):\n",
        "    res = [int(1e9) for _ in range(v+1)]\n",
        "    res[start] = 0\n",
        "\n",
        "    q = []\n",
        "    heapq.heappush(q, (0, start))\n",
        "    while q:\n",
        "        dist, now = heapq.heappop(q)\n",
        "\n",
        "        for i in m[now]:\n",
        "            w = dist + i[1]\n",
        "            if w < res[i[0]]:\n",
        "                res[i[0]] = w\n",
        "                heapq.heappush(q, (w, i[0]))\n",
        "    return res\n",
        "\n",
        "# 1 -> n, v1, v2를 거침\n",
        "# 1 -> v1 -> v2 -> n\n",
        "# 1 -> v2 -> v1 -> n\n",
        "\n",
        "start_res = dijkstra(1) \n",
        "v1_res = dijkstra(v1)\n",
        "v2_res = dijkstra(v2)\n",
        "\n",
        "result = min(start_res[v1] + v1_res[v2] + v2_res[v],\\\n",
        "             start_res[v2] + v2_res[v1] + v1_res[v])\n",
        "print(result if result < int(1e9) else -1)"
      ],
      "execution_count": null,
      "outputs": []
    },
    {
      "cell_type": "markdown",
      "metadata": {
        "id": "lZKH_zYO8WIc"
      },
      "source": [
        "####   13549번"
      ]
    },
    {
      "cell_type": "code",
      "metadata": {
        "id": "OAoQlfSL8WIg"
      },
      "source": [
        "import sys, heapq\n",
        "sys.setrecursionlimit(int(1e9))\n",
        "input = sys.stdin.readline\n",
        "\n",
        "def main():                                         # 메인 함수\n",
        "    n, k = map(int, input().split())                    # 수빈이와 동생의 위치 입력\n",
        "\n",
        "    res = [float('inf')] * int(1e5+1)                   # 각 지점에 가는데 걸린 시간 리스트생성\n",
        "    res[n] = 0                                          # 현재 수빈이 위치는 가는데 0 시간\n",
        "\n",
        "    q = []                                              # 큐 생성\n",
        "    heapq.heappush(q, (0,n))                            # heapq 모듈을 활용하여 (초기 시간, 수빈이 위치) 입력\n",
        "    while q:                                            # 큐가 존재할 동안 반복\n",
        "        time, now = heapq.heappop(q)                        # 큐의 데이터 중 하나를 time, now로 unzip\n",
        "        if res[now] < time:                                 # 현재 방법보다 더 빠르게 갈 수 있으면\n",
        "            continue                                            # 다음 큐 진행\n",
        "        \n",
        "        for i, j in [[1,  +1] ,[1, -1],[0, now]]:           # 걷는 법과 텔레포트 방법 세가지 방법\n",
        "            next_time = time + i                                # 이동한 시간\n",
        "            next_position = now + j                             # 이동한 위치\n",
        "            if 0 <= next_position <= int(1e5):                  # 이동한 위치가 리스트를 벗어나지 않고\n",
        "                if next_time < res[next_position]:                  # 이동한 위치로 가는 시간보다 더 좋은 방법이 없으면\n",
        "                    res[next_position] = next_time                      # 이동한 위치를 이동한 시간으로 업데이트\n",
        "                    heapq.heappush(q, (next_time, next_position))       # 큐에 [이동한 시간, 이동한 위치] 추가\n",
        "\n",
        "    print(res[k])                                       # 동생이 있는 지점으로 가는 가장 빠른 시간 출력\n",
        "    \n",
        "if __name__ == '__main__':  # 프로그램 시작점 지정\n",
        "    main()                      # 메인 함수 실행"
      ],
      "execution_count": null,
      "outputs": []
    },
    {
      "cell_type": "markdown",
      "metadata": {
        "id": "j8z3OKJyP21N"
      },
      "source": [
        "####  9370번"
      ]
    },
    {
      "cell_type": "code",
      "metadata": {
        "id": "Q0auUwOEP21O"
      },
      "source": [
        "import sys\n",
        "import heapq\n",
        "input = sys.stdin.readline\n",
        "\n",
        "def dijkstra(start):\n",
        "    dp = [int(1e9) for _ in range(n+1)]\n",
        "    dp[start] = 0\n",
        "\n",
        "    q = []\n",
        "    heapq.heappush(q, (0, start))\n",
        "    while q:\n",
        "        dist, now = heapq.heappop(q)\n",
        "        if dp[now] < dist:\n",
        "            continue\n",
        "        for i in l[now]:\n",
        "            w = dist + i[1]\n",
        "            if w < dp[i[0]]:\n",
        "                dp[i[0]] = w\n",
        "                heapq.heappush(q, (w, i[0]))\n",
        "    return dp\n",
        "\n",
        "for _ in range(int(input())):\n",
        "    n, m, t = map(int,input().split()) # 교차로, 도로, 목적지 후보\n",
        "    s, g, h = map(int,input().split()) # 예술가들의 출발지, g와 h교차로 사이\n",
        "    \n",
        "    l = [[] for _ in range(n+1)]\n",
        "    for _ in range(m):\n",
        "        a, b, d = map(int,input().split())\n",
        "        l[a].append([b,d])\n",
        "        l[b].append([a,d])\n",
        "    \n",
        "    s_ = dijkstra(s)\n",
        "    g_ = dijkstra(g)\n",
        "    h_ = dijkstra(h)\n",
        "\n",
        "    res = []\n",
        "    for _ in range(t):\n",
        "        x = int(input())\n",
        "        x_ = dijkstra(x)\n",
        "        x_min = min(s_[g] + g_[h] + h_[x],\n",
        "                    s_[h] + h_[g] + g_[x],\n",
        "                    g_[s] + s_[x] + x_[h],\n",
        "                    h_[s] + s_[x] + x_[g])\n",
        "        if x_min <= s_[x]:\n",
        "            res.append(x)\n",
        "    \n",
        "    res.sort()\n",
        "    print(*res)"
      ],
      "execution_count": null,
      "outputs": []
    },
    {
      "cell_type": "markdown",
      "metadata": {
        "id": "giug622TP235"
      },
      "source": [
        "####  (*)11657번 : 벨만포드만"
      ]
    },
    {
      "cell_type": "code",
      "metadata": {
        "id": "gzvh5NUWP236"
      },
      "source": [
        "### Bellman - Ford\n",
        "# youtu.be/Ppimbaxm8d8 동빈나\n",
        "import sys\n",
        "input = sys.stdin.readline\n",
        "\n",
        "n, m = map(int, input().split())\n",
        "\n",
        "s = [[] for _ in range(n+1)]\n",
        "for _ in range(m):\n",
        "    a, b, c = map(int, input().split())\n",
        "    s[a].append([b, c])\n",
        "\n",
        "def BellmanFord(start):\n",
        "    global minus_cycle\n",
        "    dp = [int(1e9) for _ in range(n+1)]\n",
        "    dp[start] = 0\n",
        "\n",
        "    for i in range(1,n+1):\n",
        "        for j in range(1,n+1):\n",
        "            for station, time in s[j]:\n",
        "                t = dp[j] + time\n",
        "                if dp[station] > t and dp[j] != int(1e9):\n",
        "                    dp[station] = t\n",
        "                    if i == n:\n",
        "                        minus_cycle = True\n",
        "    \n",
        "    return dp\n",
        "\n",
        "minus_cycle = False\n",
        "res = BellmanFord(1)\n",
        "\n",
        "if not minus_cycle:\n",
        "    for i in range(2,n+1):\n",
        "        print(res[i] if res[i] < int(1e9) else -1)\n",
        "else:\n",
        "    print(-1)"
      ],
      "execution_count": null,
      "outputs": []
    },
    {
      "cell_type": "markdown",
      "metadata": {
        "id": "i_oKdACOP26K"
      },
      "source": [
        "####  11404번 : 플로이드 와샬"
      ]
    },
    {
      "cell_type": "code",
      "metadata": {
        "id": "bV5-bLQ5P26L"
      },
      "source": [
        "### 플로이드–와샬\n",
        "import sys\n",
        "input = sys.stdin.readline\n",
        "\n",
        "n = int(input())\n",
        "m = int(input())\n",
        "\n",
        "w = [[int(1e9)]*n for _ in range(n)]\n",
        "\n",
        "for i in range(m):\n",
        "    a, b, c = map(int, input().split())\n",
        "    w[a-1][b-1] = min(w[a-1][b-1], c) # 노선이 여러개 일 수 있다.\n",
        "    \n",
        "    if i < n:\n",
        "        w[i][i] = 0\n",
        "        \n",
        "\n",
        "dp = [w for _ in range(n)]\n",
        "\n",
        "for k in range(n): # k차원이지만 dp 변형 가능.\n",
        "    for i in range(n):\n",
        "        for j in range(n):\n",
        "            dp[k][i][j] = min(dp[k-1][i][j], dp[k-1][i][k] + dp[k-1][k][j]) # 중요 부분\n",
        "\n",
        "for i in dp[n-1]:\n",
        "    for j in i:\n",
        "        print(j if j < int(1e9) else 0, end=' ')\n",
        "    print()"
      ],
      "execution_count": null,
      "outputs": []
    },
    {
      "cell_type": "markdown",
      "metadata": {
        "id": "871jZvxzP29P"
      },
      "source": [
        "####  (*)10217번"
      ]
    },
    {
      "cell_type": "code",
      "metadata": {
        "id": "YDpDNJ_gP29P"
      },
      "source": [
        "### https://8iggy.tistory.com/156\n",
        "import sys\n",
        "input = sys.stdin.readline\n",
        "\n",
        "def dijkstra(start,n,m,s):\n",
        "    dp = [[int(1e9)] * (m+1) for _ in range(n+1)]\n",
        "    dp[start][0] = 0\n",
        "\n",
        "    for j in range(m+1):\n",
        "        for i in range(1,n+1):\n",
        "            if dp[i][j] == int(1e9):\n",
        "                continue\n",
        "            \n",
        "            time = dp[i][j]\n",
        "            \n",
        "            for tiket_position, tiket_cost, tiket_time in s[i]:\n",
        "                if tiket_cost + j > m:\n",
        "                    continue\n",
        "                \n",
        "                dp[tiket_position][tiket_cost + j] = min(dp[tiket_position][tiket_cost + j], time + tiket_time)\n",
        "\n",
        "    return dp\n",
        "\n",
        "def main():\n",
        "    for _ in range(int(input())):\n",
        "        n, m, k = map(int, input().split())\n",
        "\n",
        "        s = [[] for _ in range(n+1)]\n",
        "        for _ in range(k):\n",
        "            u, v, c, d = map(int, input().split())\n",
        "            s[u].append([v,c,d])\n",
        "        \n",
        "        res = dijkstra(1,n,m,s)\n",
        "        if min(res[n]) == int(1e9):\n",
        "            print('Poor KCM')\n",
        "        else:\n",
        "            print(min(res[n]))\n",
        "\n",
        "if __name__ == '__main__':\n",
        "    main()"
      ],
      "execution_count": null,
      "outputs": []
    },
    {
      "cell_type": "markdown",
      "metadata": {
        "id": "Sq0gmSQ_P4Py"
      },
      "source": [
        "####  1956번"
      ]
    },
    {
      "cell_type": "code",
      "metadata": {
        "id": "T-dhCwq5P4Py"
      },
      "source": [
        "# pypy3로는 정답\n",
        "# python으로 진행할 경우 heapq사용\n",
        "import sys\n",
        "input = sys.stdin.readline\n",
        "\n",
        "def main():\n",
        "    global v, dp\n",
        "    v, e = map(int, input().split())\n",
        "\n",
        "    dp = [[int(1e9)] * v for _ in range(v)]\n",
        "    for i in range(max(v,e)):\n",
        "        if i < v:\n",
        "            dp[i][i] = 0\n",
        "\n",
        "        if i < e:\n",
        "            a, b, c = map(int, input().split())\n",
        "            dp[a-1][b-1] = c\n",
        "    \n",
        "    for k in range(v):\n",
        "        for i in range(v):\n",
        "            for j in range(v):\n",
        "                dp[i][j] = min(dp[i][j], dp[i][k] + dp[k][j])\n",
        "\n",
        "    min_value = int(1e9)\n",
        "    for i in range(v):\n",
        "        for j in range(v):\n",
        "            if i == j:\n",
        "                continue\n",
        "            \n",
        "            min_value = min(min_value, dp[i][j] + dp[j][i])\n",
        "    \n",
        "    if min_value == int(1e9):\n",
        "        print(-1)\n",
        "    else:\n",
        "        print(min_value)\n",
        "\n",
        "if __name__ == '__main__':\n",
        "    main()\n",
        "\n",
        "while heap:\n",
        "    d, s, g = hq.heappop(heap)\n",
        "    #heap을 쓰면 d가 가장 작은 순으로 정렬되기 때문에\n",
        "    #s == g인 경우 출발지에서 출발해 다시 출발지로 돌아온 경우 = 사이클\n",
        "    #사이클을 돈 가장 최소 비용이 d\n",
        "    #이 부분에서 시간을 많이 단축할 수 있음\n",
        "    if s == g:\n",
        "        print(d)\n",
        "        break"
      ],
      "execution_count": null,
      "outputs": []
    },
    {
      "cell_type": "markdown",
      "metadata": {
        "id": "_YraW6oaPx0y"
      },
      "source": [
        "### 27단계 : 투 포인터===========**"
      ]
    },
    {
      "cell_type": "markdown",
      "metadata": {
        "id": "Om29NmS_Px00"
      },
      "source": [
        "####  3273번\n"
      ]
    },
    {
      "cell_type": "code",
      "source": [
        "def main():\n",
        "    n = int(input())\n",
        "    s = list(map(int, input().split()))\n",
        "    x = int(input())\n",
        "    s.sort()   \n",
        "\n",
        "    t = 0\n",
        "    start, end = 0, n-1\n",
        "    while start < end: # i < j\n",
        "        sum = s[start] + s[end] # 부분합이 x보다 작다면 end 1증가\n",
        "\n",
        "        if sum == x: \n",
        "            t += 1\n",
        "            start += 1\n",
        "        elif sum < x:\n",
        "            start += 1\n",
        "        else:\n",
        "            end -= 1\n",
        "\n",
        "    print(t)\n",
        "\n",
        "if __name__ == '__main__':\n",
        "    main()"
      ],
      "metadata": {
        "id": "uCYpD1kMbN53"
      },
      "execution_count": null,
      "outputs": []
    },
    {
      "cell_type": "markdown",
      "metadata": {
        "id": "KDSRC4MabQqC"
      },
      "source": [
        "####  (*)2470번\n"
      ]
    },
    {
      "cell_type": "code",
      "source": [
        "def main():\n",
        "    n = int(input())\n",
        "    s = list(map(int, input().split()))\n",
        "    s.sort()\n",
        "\n",
        "    start, end = 0, n-1\n",
        "    \n",
        "    res = [abs(s[start] + s[end]), s[start], s[end]]\n",
        "\n",
        "    while start < end:\n",
        "\n",
        "        sum = s[start] + s[end]\n",
        "\n",
        "        if abs(sum) < res[0]:\n",
        "            res = [abs(sum), s[start], s[end]]\n",
        "            if res[0] == 0:\n",
        "                break\n",
        "\n",
        "        if sum > 0:\n",
        "            end -= 1\n",
        "        else:\n",
        "            start += 1\n",
        "\n",
        "    res = res[1:]\n",
        "    res.sort()\n",
        "    print(*res)\n",
        "\n",
        "if __name__ == '__main__':\n",
        "    main()"
      ],
      "metadata": {
        "id": "IpR9WjDrbQqC"
      },
      "execution_count": null,
      "outputs": []
    },
    {
      "cell_type": "markdown",
      "metadata": {
        "id": "Lsin9ORD9J1c"
      },
      "source": [
        "####  1806번"
      ]
    },
    {
      "cell_type": "code",
      "metadata": {
        "colab": {
          "base_uri": "https://localhost:8080/"
        },
        "id": "wH8AxcPr9J1i",
        "outputId": "4c87ac30-f867-4837-ff1c-9e69ea7f8890"
      },
      "source": [
        "def main():\n",
        "    n, s = map(int, input().split())\n",
        "    m = list(map(int, input().split()))\n",
        "\n",
        "    start, end = 0, 0\n",
        "    sum = 0\n",
        "    min_length = int(1e9)\n",
        "    for _ in range(n):\n",
        "        while sum < s and end < n:\n",
        "            sum += m[end]\n",
        "            end += 1\n",
        "        \n",
        "        if sum >= s and (end - start) < min_length: # s이상이 되는 것\n",
        "            min_length = (end - start)\n",
        "        \n",
        "        sum -= m[start]\n",
        "        start += 1\n",
        "    \n",
        "    if min_length < int(1e9):\n",
        "        print(min_length)\n",
        "    else:\n",
        "        print(0)\n",
        "\n",
        "if __name__ == '__main__':\n",
        "    main()\n",
        "\n"
      ],
      "execution_count": null,
      "outputs": [
        {
          "output_type": "stream",
          "name": "stdout",
          "text": [
            "10 10\n",
            "3 3 3 3 3 3 3 3 3 3\n",
            "4\n"
          ]
        }
      ]
    },
    {
      "cell_type": "markdown",
      "metadata": {
        "id": "UcMogZFC9J4-"
      },
      "source": [
        "#### 1644번"
      ]
    },
    {
      "cell_type": "code",
      "metadata": {
        "id": "deM_c1kF9J4_"
      },
      "source": [
        "import sys\n",
        "input = sys.stdin.readline\n",
        "\n",
        "def main():\n",
        "    t = int(input())\n",
        "    n = [True for _ in range(t + 1)]\n",
        "    res = []\n",
        "    for i in range(2, t+1):\n",
        "        if n[i]:\n",
        "            res.append(i)\n",
        "            for j in range(i*2, t+1, i):\n",
        "                n[j] = False\n",
        "\n",
        "\n",
        "    start, end = 0, 0\n",
        "    sum = 0\n",
        "    result_value = 0\n",
        "    for _ in range(len(res)):\n",
        "        while sum < t and end < len(res):\n",
        "            sum += res[end]\n",
        "            end += 1\n",
        "        \n",
        "        if sum == t:\n",
        "            result_value += 1\n",
        "        \n",
        "        sum -= res[start]\n",
        "        start += 1\n",
        "    \n",
        "    print(result_value)\n",
        "\n",
        "if __name__ == '__main__':\n",
        "    main()"
      ],
      "execution_count": null,
      "outputs": []
    },
    {
      "cell_type": "markdown",
      "metadata": {
        "id": "E_uPvDec9J79"
      },
      "source": [
        "####  (*)1450번"
      ]
    },
    {
      "cell_type": "code",
      "metadata": {
        "id": "f-mrdWza9J8C"
      },
      "source": [
        "def bruteforce(st, end, warr, sumarr): \n",
        "    if st >= len(warr): \n",
        "        sumarr.append(end) \n",
        "        return     \n",
        "    bruteforce(st + 1, end, warr, sumarr)    \n",
        "    bruteforce(st + 1, end + warr[st], warr, sumarr) \n",
        " \n",
        "def binarysearch(start, end, arr, target): \n",
        "    while start < end: \n",
        "        mid = (start + end) // 2 \n",
        "        if arr[mid] <= target: \n",
        "            start = mid + 1 \n",
        "        else: \n",
        "            end = mid \n",
        "    return end \n",
        "\n",
        "def main():\n",
        "    n, c = map(int, input().split())\n",
        "    s = list(map(int, input().split()))\n",
        "\n",
        "    left = s[:n // 2] \n",
        "    right = s[n // 2:] \n",
        "    lsum = [] \n",
        "    rsum = [] \n",
        "\n",
        "    bruteforce(0, 0, left, lsum) \n",
        "    bruteforce(0, 0, right, rsum) \n",
        "    rsum.sort() \n",
        "\n",
        "    result = 0 \n",
        "    for i in lsum: \n",
        "        if c - i >= 0: \n",
        "            result += binarysearch(0, len(rsum), rsum, c - i) \n",
        "        \n",
        "    print(result)\n",
        "    \n",
        "if __name__ == '__main__':\n",
        "    main()"
      ],
      "execution_count": null,
      "outputs": []
    },
    {
      "cell_type": "markdown",
      "metadata": {
        "id": "eWsnwFm3PyO6"
      },
      "source": [
        "### 28단계 : 동적 계획법과 최단거리 역추적==========="
      ]
    },
    {
      "cell_type": "markdown",
      "metadata": {
        "id": "8JfFjnuZPyO6"
      },
      "source": [
        "####  12852번"
      ]
    },
    {
      "cell_type": "code",
      "metadata": {
        "id": "uIzAR78kPyO7"
      },
      "source": [
        "import sys\n",
        "input = sys.stdin.readline\n",
        "\n",
        "def main():\n",
        "    n = int(input())\n",
        "\n",
        "    result = [[0, []] for _ in range(n+1)]\n",
        "\n",
        "    result[1][0] = 0\n",
        "    result[1][1] = [1]\n",
        "\n",
        "    for i in range(2, n+1):\n",
        "        result[i][0] = result[i-1][0] + 1\n",
        "        result[i][1] = result[i-1][1] + [i]\n",
        "\n",
        "        if not i % 3 and   result[i//3][0] + 1 <  result[i][0]:\n",
        "            result[i][0] = result[i//3][0] + 1\n",
        "            result[i][1] = result[i//3][1] + [i]\n",
        "\n",
        "        if not i % 2 and result[i//2][0] + 1 <  result[i][0]:\n",
        "            result[i][0] = result[i//2][0] + 1\n",
        "            result[i][1] = result[i//2][1] + [i]\n",
        "\n",
        "    print(result[n][0])\n",
        "    print(*result[n][1][::-1])\n",
        "    \n",
        "if __name__ == '__main__':\n",
        "    main()"
      ],
      "execution_count": null,
      "outputs": []
    },
    {
      "cell_type": "markdown",
      "metadata": {
        "id": "Ul4mJr0gbaBW"
      },
      "source": [
        "####  14002번"
      ]
    },
    {
      "cell_type": "code",
      "metadata": {
        "id": "NAynpyVBbaBW"
      },
      "source": [
        "import sys\n",
        "input = sys.stdin.readline\n",
        "\n",
        "def main():\n",
        "    n = int(input())\n",
        "    s = list(map(int, input().split()))\n",
        "\n",
        "    res = [1] * n\n",
        "\n",
        "    for i in range(n):\n",
        "        for j in range(i):\n",
        "            if s[i] > s[j] and res[i] < res[j] + 1:\n",
        "                res[i] = res[j] + 1\n",
        "\n",
        "    t = max(res)\n",
        "    print(t)\n",
        "    result = []\n",
        "    for i in range(n-1, -1, -1):\n",
        "        if res[i] == t:\n",
        "            result.append(s[i])\n",
        "            t -= 1\n",
        "    print(*result[::-1])\n",
        "\n",
        "if __name__ == '__main__':\n",
        "    main()"
      ],
      "execution_count": null,
      "outputs": []
    },
    {
      "cell_type": "markdown",
      "metadata": {
        "id": "jrkS22SSbaEm"
      },
      "source": [
        "####  14003번"
      ]
    },
    {
      "cell_type": "code",
      "metadata": {
        "id": "EaT4sZmrbaEm"
      },
      "source": [
        "import sys\n",
        "input = sys.stdin.readline\n",
        "\n",
        "def binary_search(arr, t):\n",
        "    start = 0\n",
        "    end = len(arr) - 1\n",
        "\n",
        "    while True:\n",
        "        if start >= end:\n",
        "            mid = (start + end) // 2\n",
        "            return mid\n",
        "        \n",
        "        mid = (start + end) // 2\n",
        "\n",
        "        if arr[mid] < t:\n",
        "            start = mid + 1\n",
        "        else:\n",
        "            end = mid\n",
        "\n",
        "    return mid\n",
        "\n",
        "def main():\n",
        "    n = int(input())\n",
        "    s = list(map(int, input().split()))\n",
        "\n",
        "    res = [-1e9 - 1] \n",
        "    dp  = [0] * (n)\n",
        "    max_value = 0\n",
        "    for i in range(n):\n",
        "        if res[-1] < s[i]:\n",
        "            res.append(s[i])\n",
        "            dp[i] = len(res) - 1\n",
        "            max_value = dp[i]\n",
        "        else:\n",
        "            t = binary_search(res, s[i])\n",
        "            dp[i] = t\n",
        "            res[t] = s[i]\n",
        "\n",
        "    print(max_value)\n",
        "    result = []\n",
        "    for i in range(n-1,-1,-1):\n",
        "        if dp[i] == max_value:\n",
        "            result.append(s[i])\n",
        "            max_value -= 1\n",
        "\n",
        "    print(*result[::-1])\n",
        "\n",
        "if __name__ == '__main__':\n",
        "    main()"
      ],
      "execution_count": null,
      "outputs": []
    },
    {
      "cell_type": "markdown",
      "metadata": {
        "id": "oO7fwVrFbaHm"
      },
      "source": [
        "####  9252번"
      ]
    },
    {
      "cell_type": "code",
      "metadata": {
        "id": "twAOzqyBbaHm"
      },
      "source": [
        "# LCS(longest common subsequence) 알고리즘\n",
        "import sys\n",
        "input = sys.stdin.readline\n",
        "\n",
        "def main():\n",
        "    m = input().rstrip('\\n')\n",
        "    n = input().rstrip('\\n')\n",
        "    M, N = len(m), len(n)\n",
        "\n",
        "    dp = [[0] * (M + 1) for _ in range(N + 1)]\n",
        "\n",
        "    for i in range(N):\n",
        "        for j in range(M):\n",
        "            if m[j] == n[i]:\n",
        "                dp[i+1][j+1] = dp[i][j] + 1\n",
        "            else:\n",
        "                dp[i+1][j+1] = max(dp[i][j+1], dp[i+1][j])\n",
        "    \n",
        "    print(dp[N][M])\n",
        "\n",
        "    if dp[N][M] == 0:\n",
        "        return\n",
        "\n",
        "    result = []\n",
        "    \n",
        "    while True:\n",
        "        if M < 1 or N < 1:\n",
        "            break\n",
        "\n",
        "        if dp[N][M] == dp[N-1][M]:\n",
        "            N -= 1\n",
        "        elif dp[N][M] == dp[N][M-1]:\n",
        "            M -= 1\n",
        "        else:\n",
        "            result.append(m[M-1])\n",
        "            N -= 1\n",
        "            M -= 1\n",
        "\n",
        "    for i in result[::-1]:\n",
        "        print(i, end='')\n",
        "\n",
        "if __name__ == '__main__':\n",
        "    main()\n",
        "\n",
        "# 반례 - 역추적에서 dp[N][M] 와 dp[N-1][M]를 비교하는 이유\n",
        "# ASDWADGFRQWE\n",
        "# GHASDQWEZZZZZ"
      ],
      "execution_count": null,
      "outputs": []
    },
    {
      "cell_type": "markdown",
      "metadata": {
        "id": "MtI0wdqr9jcg"
      },
      "source": [
        "####  (*)2618번"
      ]
    },
    {
      "cell_type": "code",
      "metadata": {
        "id": "9MXqaWES9jcl"
      },
      "source": [
        "# https://velog.io/@jini_eun/%EB%B0%B1%EC%A4%80-2618%EB%B2%88-%EA%B2%BD%EC%B0%B0%EC%B0%A8-Java-Python\n",
        "\n",
        "import sys\n",
        "sys.setrecursionlimit(int(1e9))\n",
        "input = sys.stdin.readline\n",
        "\n",
        "def manhattan(x,y):\n",
        "    return abs(x[0] - y[0]) + abs(x[1] - y[1])\n",
        "\n",
        "def solve(i,j):\n",
        "    if w < i or w < j:  return 0\n",
        "    if dp[i][j] != -1:  return dp[i][j]\n",
        "\n",
        "    next = max(i,j) + 1\n",
        "    \n",
        "    dist1 = manhattan(case[next], case[i])\n",
        "    dist2 = manhattan(case[next], case[j])\n",
        "\n",
        "    dp[i][j] = min(solve(next,j) + dist1, solve(i,next) + dist2)\n",
        "    return dp[i][j]\n",
        "\n",
        "def backtracking(i,j):\n",
        "    if w < i or w < j:  return 0\n",
        "\n",
        "    next = max(i,j) + 1\n",
        "    \n",
        "    dist1 = manhattan(case[next], case[i])\n",
        "    dist2 = manhattan(case[next], case[j])\n",
        "\n",
        "    if dp[next][j]+dist1 < dp[i][next]+dist2:\n",
        "        print(1)\n",
        "        backtracking(next,j)\n",
        "    else:\n",
        "        print(2)\n",
        "        backtracking(i,next)\n",
        "\n",
        "    return\n",
        "\n",
        "def main():\n",
        "    global n, w, dp, case\n",
        "\n",
        "    n = int(input())\n",
        "    w = int(input())\n",
        "    \n",
        "    dp = [[-1] * (w+2) for _ in range(w+2)]\n",
        "\n",
        "    case = [[1,1],[n,n]]\n",
        "    for _ in range(w):\n",
        "        case.append(list(map(int, input().split())))\n",
        "\n",
        "    print(solve(0,1))\n",
        "    backtracking(0,1)\n",
        "\n",
        "if __name__ == '__main__':\n",
        "    main()"
      ],
      "execution_count": null,
      "outputs": []
    },
    {
      "cell_type": "markdown",
      "metadata": {
        "id": "cntgaSCQ9jgV"
      },
      "source": [
        "####  13913번"
      ]
    },
    {
      "cell_type": "code",
      "metadata": {
        "id": "1dOzJ83V9jgV"
      },
      "source": [
        "from collections import deque\n",
        "import sys\n",
        "#input = sys.stdin.readline\n",
        "\n",
        "def main():\n",
        "    max_val = int(1e5) + 1\n",
        "    n, k = map(int, input().split())\n",
        "\n",
        "    dp = [[0, 0] for _ in range(max_val)] # False와 0의 차이?\n",
        "\n",
        "    queue = deque()\n",
        "    queue.append(n)\n",
        "\n",
        "    while queue:\n",
        "        temp = queue.popleft()\n",
        "\n",
        "        if temp == k:\n",
        "            print(dp[temp][0])\n",
        "\n",
        "            result = []\n",
        "            for _ in range(dp[temp][0]+1):\n",
        "                result.append(temp)\n",
        "                temp = dp[temp][1]\n",
        "\n",
        "            print(*result[::-1])\n",
        "            break\n",
        "        \n",
        "        for j in [temp - 1, temp + 1, temp * 2]:\n",
        "            if 0 <= j < max_val and not dp[j][0]:\n",
        "                queue.append(j)\n",
        "                dp[j] = [dp[temp][0] + 1, temp]\n",
        "\n",
        "if __name__ == '__main__':\n",
        "    main()"
      ],
      "execution_count": null,
      "outputs": []
    },
    {
      "cell_type": "markdown",
      "metadata": {
        "id": "O6fCGfGf9jjd"
      },
      "source": [
        "####  9019번"
      ]
    },
    {
      "cell_type": "code",
      "metadata": {
        "id": "T6CvoMoY9jji"
      },
      "source": [
        "### pypy3만 가능한가?, 시간초과 줄이려고 해도 힘들었음\n",
        "from collections import deque\n",
        "import sys\n",
        "input = sys.stdin.readline\n",
        "def D(x): # D 때문에 bottom-up방식 불가\n",
        "    x *= 2\n",
        "    if x > 9999:\n",
        "        x %= 10000\n",
        "        return x \n",
        "    else:\n",
        "        return x\n",
        "\n",
        "def S(x):\n",
        "    if x == 0:\n",
        "        return 9999\n",
        "    else:\n",
        "        x -= 1\n",
        "        return x\n",
        "\n",
        "def L(x):\n",
        "    x = (x%1000)*10 + (x//1000)\n",
        "    return x\n",
        "\n",
        "def R(x):\n",
        "    x = (x%10)*1000 + (x //10)\n",
        "    return x\n",
        "\n",
        "def main():\n",
        "    a, b = map(int, input().split())\n",
        "\n",
        "    dp = [False for _ in range(10000)]\n",
        "\n",
        "    queue = deque()\n",
        "    queue.append([a,''])\n",
        "\n",
        "    while queue:\n",
        "        temp, res = queue.popleft()\n",
        "        if temp == b:\n",
        "            print(res)\n",
        "            return\n",
        "\n",
        "        for i,j in [[D(temp),'D'], [S(temp),'S'], [L(temp),'L'], [R(temp),'R']]:\n",
        "            if not dp[i]:\n",
        "                dp[i] = True\n",
        "                queue.append([i, res + j])\n",
        "\n",
        "if __name__ == '__main__':\n",
        "    for _ in range(int(input())):\n",
        "        main()"
      ],
      "execution_count": null,
      "outputs": []
    },
    {
      "cell_type": "markdown",
      "metadata": {
        "id": "WelvvVZ_lfwo"
      },
      "source": [
        "####  11779번"
      ]
    },
    {
      "cell_type": "code",
      "metadata": {
        "id": "CXwKQ3Zvlfwp"
      },
      "source": [
        "import sys\n",
        "import heapq\n",
        "input = sys.stdin.readline\n",
        "\n",
        "def main():\n",
        "    n = int(input())\n",
        "    m = int(input())\n",
        "    s = [[] for _ in range(n + 1)]\n",
        "\n",
        "    res = [[float('inf'), []] for _ in range(n+1)]\n",
        "    \n",
        "    for _ in range(m):\n",
        "        a, b, c= map(int, input().split())\n",
        "        s[a].append([b, c])\n",
        "    \n",
        "    start_point, end_point = map(int, input().split())\n",
        "    res[start_point][0] = 0\n",
        "    res[start_point][1] = [start_point]\n",
        "    q = []\n",
        "    heapq.heappush(q, (0, start_point))\n",
        "    while q:        \n",
        "        dist, now = heapq.heappop(q)\n",
        "\n",
        "        if res[now][0] < dist:\n",
        "            continue\n",
        "\n",
        "        for i in s[now]:\n",
        "            \n",
        "            w = dist + i[1]\n",
        "            if w < res[i[0]][0]:\n",
        "                res[i[0]][0] = w\n",
        "                res[i[0]][1] = res[now][1] + [i[0]]\n",
        "                heapq.heappush(q, (w, i[0]))\n",
        "    print(res[end_point][0])\n",
        "    print(len(res[end_point][1]))\n",
        "    print(*res[end_point][1])\n",
        "\n",
        "if __name__ == '__main__':\n",
        "    main()"
      ],
      "execution_count": null,
      "outputs": []
    },
    {
      "cell_type": "markdown",
      "metadata": {
        "id": "KkYaz69Slf0a"
      },
      "source": [
        "####  11780번"
      ]
    },
    {
      "cell_type": "code",
      "metadata": {
        "id": "KXUAxKZZlf0b"
      },
      "source": [
        "import sys\n",
        "input = sys.stdin.readline\n",
        "\n",
        "def main():\n",
        "    n = int(input())\n",
        "    m = int(input())\n",
        "\n",
        "    max_val = int(1e9)\n",
        "    s = [[[max_val, []] for _ in range(n)] for _ in range(n)]\n",
        "    for _ in range(m):\n",
        "        a, b, c= map(int, input().split())\n",
        "        a -= 1\n",
        "        b -= 1\n",
        "\n",
        "        if c < s[a][b][0]:\n",
        "            s[a][b][0] = c\n",
        "            s[a][b][1] = [a + 1]\n",
        "\n",
        "    for i in range(n):\n",
        "        s[i][i][0] = 0\n",
        "\n",
        "    dp = [s for _ in range(n)]\n",
        "\n",
        "    for k in range(n): # k차원이지만 dp 변형 가능.\n",
        "        for i in range(n):\n",
        "            for j in range(n):\n",
        "                prev = dp[k-1][i][j]\n",
        "                new_1 = dp[k-1][i][k]\n",
        "                new_2 = dp[k-1][k][j]\n",
        "\n",
        "                if new_1[0] + new_2[0] < prev[0]:\n",
        "                    dp[k][i][j] = [new_1[0] + new_2[0], new_1[1] + new_2[1]]    \n",
        "                else:\n",
        "                    dp[k][i][j] = prev                    \n",
        "\n",
        "    for i in dp[-1]:\n",
        "        for j in i:\n",
        "            print(j[0] if j[0] < int(1e9) else 0, end=' ')\n",
        "        print()\n",
        "    \n",
        "    for i in range(n):\n",
        "        for j in range(n):\n",
        "            res = dp[-1][i][j][1]\n",
        "            if res == []:\n",
        "                print(0)\n",
        "                continue\n",
        "            else:\n",
        "                print(len(res)+1, end=' ')\n",
        "                for k in res:\n",
        "                    print(k, end=' ')\n",
        "                print(j + 1)\n",
        "\n",
        "if __name__ == '__main__':\n",
        "    main()"
      ],
      "execution_count": null,
      "outputs": []
    },
    {
      "cell_type": "markdown",
      "metadata": {
        "id": "YmNhCb79bUUH"
      },
      "source": [
        "### 29단계 : 트리===========**"
      ]
    },
    {
      "cell_type": "markdown",
      "metadata": {
        "id": "fbBBHDCubUUH"
      },
      "source": [
        "####  11725번"
      ]
    },
    {
      "cell_type": "code",
      "metadata": {
        "id": "r9eM5pvvbUUH"
      },
      "source": [
        "import sys\n",
        "sys.setrecursionlimit(int(1e9))\n",
        "input = sys.stdin.readline\n",
        "\n",
        "def dfs(x):\n",
        "    global res, visited_res, s\n",
        "\n",
        "    for i in s[x]:\n",
        "        if visited_res[i]:\n",
        "            continue\n",
        "        res[i] = x\n",
        "        visited_res[i] = True\n",
        "        dfs(i)\n",
        "\n",
        "def main():\n",
        "    global res, visited_res, s\n",
        "    n = int(input())\n",
        "    s = [[] for _ in range(n+1)]\n",
        "    for _ in range(n-1):\n",
        "        a, b = map(int, input().split())\n",
        "        s[a].append(b)\n",
        "        s[b].append(a)\n",
        "    \n",
        "    res = [False] * (n+1)\n",
        "    visited_res = [False] * (n+1)\n",
        "\n",
        "    dfs(1)\n",
        "\n",
        "    for i in res[2:]:\n",
        "        print(i)\n",
        "\n",
        "if __name__ == '__main__':\n",
        "    main()"
      ],
      "execution_count": null,
      "outputs": []
    },
    {
      "cell_type": "markdown",
      "metadata": {
        "id": "bGgOmPB9dgCq"
      },
      "source": [
        "####  1167번"
      ]
    },
    {
      "cell_type": "code",
      "metadata": {
        "id": "mljqBQSFdgCr"
      },
      "source": [
        "import sys\n",
        "input = sys.stdin.readline\n",
        "\n",
        "def dfs(x,length):\n",
        "    global visited_res, e, result, long\n",
        "\n",
        "    for i,j in e[x]:\n",
        "        if visited_res[i]:\n",
        "            continue\n",
        "\n",
        "        visited_res[i] = True\n",
        "\n",
        "        dfs(i,length+j)\n",
        "        if result < length + j:\n",
        "            result = length + j\n",
        "            long = i\n",
        "        \n",
        "\n",
        "def main():\n",
        "    global  visited_res, e, result, long\n",
        "    v = int(input())\n",
        "    e = [[] for _ in range(v+1)]\n",
        "\n",
        "    for _ in range(v):\n",
        "        edge = list(map(int,input().split()))\n",
        "        for i in range(1,len(edge)-1,2):\n",
        "            e[edge[0]].append([edge[i],edge[i+1]])\n",
        "\n",
        "    long = -1\n",
        "    result = 0\n",
        "    visited_res = [False] * (v+1)\n",
        "    visited_res[1] = True\n",
        "    dfs(1,0)\n",
        "\n",
        "    result = 0\n",
        "    visited_res = [False] * (v+1)\n",
        "    visited_res[long]= True\n",
        "    dfs(long,0)\n",
        "\n",
        "    print(result)\n",
        "\n",
        "if __name__ == '__main__':\n",
        "    main()"
      ],
      "execution_count": null,
      "outputs": []
    },
    {
      "cell_type": "markdown",
      "metadata": {
        "id": "vN07MjatdgGk"
      },
      "source": [
        "####  1967번"
      ]
    },
    {
      "cell_type": "code",
      "metadata": {
        "id": "Nsfw_vZvdgGk"
      },
      "source": [
        "import sys\n",
        "sys.setrecursionlimit(int(1e9))\n",
        "input = sys.stdin.readline\n",
        "\n",
        "def dfs(x,length):\n",
        "    global visited_res, e, result, long\n",
        "\n",
        "    for i,j in e[x]:\n",
        "        if visited_res[i]:\n",
        "            continue\n",
        "\n",
        "        visited_res[i] = True\n",
        "\n",
        "        dfs(i,length+j)\n",
        "        if result < length + j:\n",
        "            result = length + j\n",
        "            long = i\n",
        "\n",
        "def main():\n",
        "    global visited_res, e, result, long\n",
        "    v = int(input())\n",
        "    e = [[] for _ in range(v+1)]\n",
        "\n",
        "    for _ in range(v-1):\n",
        "        edge = list(map(int,input().split()))\n",
        "        e[edge[0]].append(edge[1:])\n",
        "        e[edge[1]].append([edge[0],edge[2]])\n",
        "\n",
        "    long = -1\n",
        "    result = 0\n",
        "    visited_res = [False] * (v+1)\n",
        "    visited_res[1] = True\n",
        "    dfs(1,0)\n",
        "\n",
        "    result = 0\n",
        "    visited_res = [False] * (v+1)\n",
        "    visited_res[long]= True\n",
        "    dfs(long,0)\n",
        "\n",
        "    print(result)\n",
        "\n",
        "if __name__ == '__main__':\n",
        "    main()"
      ],
      "execution_count": null,
      "outputs": []
    },
    {
      "cell_type": "markdown",
      "metadata": {
        "id": "qBCHbut_dgJq"
      },
      "source": [
        "####  1991번"
      ]
    },
    {
      "cell_type": "code",
      "metadata": {
        "id": "pnq6o0PWdgJq"
      },
      "source": [
        "import sys\n",
        "input = sys.stdin.readline\n",
        "\n",
        "def preorder(x):\n",
        "    global alpha\n",
        "    if x == '.':\n",
        "        return\n",
        "    \n",
        "    print(x,end='')\n",
        "    preorder(alpha[x][0])\n",
        "    preorder(alpha[x][1])\n",
        "\n",
        "def inorder(x):\n",
        "    global alpha\n",
        "    if x == '.':\n",
        "        return\n",
        "\n",
        "    inorder(alpha[x][0])\n",
        "    print(x,end='')\n",
        "    inorder(alpha[x][1])\n",
        "\n",
        "def postfix(x):\n",
        "    global alpha\n",
        "    if x == '.':\n",
        "        return\n",
        "    \n",
        "    postfix(alpha[x][0])\n",
        "    postfix(alpha[x][1])\n",
        "    print(x,end='')\n",
        "\n",
        "def main():\n",
        "    global pre_s, ino_s, pos_s, alpha\n",
        "\n",
        "    v = int(input())\n",
        "    alpha = dict()\n",
        "    for _ in range(v):\n",
        "        root, left, right = input().split()\n",
        "        alpha[root] = [left, right]\n",
        "    \n",
        "    preorder('A')\n",
        "    print()\n",
        "    inorder('A')\n",
        "    print()\n",
        "    postfix('A')\n",
        "        \n",
        "\n",
        "if __name__ == '__main__':\n",
        "    main()"
      ],
      "execution_count": null,
      "outputs": []
    },
    {
      "cell_type": "markdown",
      "metadata": {
        "id": "xxKtbBIdcPEH"
      },
      "source": [
        "####  2263번(*)"
      ]
    },
    {
      "cell_type": "code",
      "metadata": {
        "id": "J8hTuZA_cPEI"
      },
      "source": [
        "### https://devlibrary00108.tistory.com/83?category=949757\n",
        "import sys\n",
        "sys.setrecursionlimit(int(1e9))\n",
        "input = sys.stdin.readline\n",
        "\n",
        "def divide(inorder_start, inorder_end, postfix_start, postfix_end):\n",
        "    global inorder, postfix, index\n",
        "    if inorder_start > inorder_start or postfix_start > postfix_end:\n",
        "        return\n",
        "\n",
        "    root = postfix[postfix_end]\n",
        "    print(root, end=' ')\n",
        "\n",
        "    left_cnt = index[root] - inorder_start\n",
        "    right_cnt = inorder_end - index[root]\n",
        "    divide(inorder_start, inorder_start+left_cnt-1, postfix_start, postfix_start+left_cnt-1)\n",
        "    divide(inorder_end-right_cnt+1, inorder_end,postfix_end-right_cnt, postfix_end-1)\n",
        "\n",
        "def main():\n",
        "    global inorder, postfix, index\n",
        "    n = int(input())\n",
        "    inorder = list(map(int, input().split()))\n",
        "    postfix = list(map(int, input().split()))\n",
        "    index = [False] * (n+1)\n",
        "    \n",
        "    for i in range(n):\n",
        "        index[inorder[i]] = i\n",
        "    \n",
        "    divide(0,n-1,0,n-1)\n",
        "\n",
        "\n",
        "if __name__ == '__main__':\n",
        "    main()"
      ],
      "execution_count": null,
      "outputs": []
    },
    {
      "cell_type": "markdown",
      "metadata": {
        "id": "1yC6oWABcPYn"
      },
      "source": [
        "####  5639번"
      ]
    },
    {
      "cell_type": "code",
      "metadata": {
        "id": "mKCtlWgvcPYo"
      },
      "source": [
        "import sys\n",
        "sys.setrecursionlimit(int(1e9))\n",
        "input = sys.stdin.readline\n",
        "def divide(start, end):\n",
        "    global preorder\n",
        "    if start > end:\n",
        "        return\n",
        "\n",
        "    root = start\n",
        "    t = -1\n",
        "    for i in range(start,end+1):\n",
        "        if preorder[i] <= preorder[root]:\n",
        "            t = i\n",
        "        else:\n",
        "            break\n",
        "\n",
        "    if t == -1:\n",
        "        return\n",
        "\n",
        "    divide(start+1,t)\n",
        "    divide(t+1,end)\n",
        "\n",
        "    print(preorder[root])\n",
        "\n",
        "\n",
        "def main():\n",
        "    global preorder\n",
        "    preorder = []\n",
        "    for i in sys.stdin: # range(9):#\n",
        "        preorder.append(int(i))\n",
        "    divide(0,len(preorder)-1)\n",
        "\n",
        "if __name__ == '__main__':\n",
        "    main()"
      ],
      "execution_count": null,
      "outputs": []
    },
    {
      "cell_type": "markdown",
      "metadata": {
        "id": "cZeUBBpOcPdv"
      },
      "source": [
        "####  4803번\n"
      ]
    },
    {
      "cell_type": "code",
      "metadata": {
        "id": "6-yM7M2ocPdw"
      },
      "source": [
        "import sys\n",
        "sys.setrecursionlimit(int(1e9))\n",
        "input = sys.stdin.readline\n",
        "\n",
        "def dfs(x):                                         # deapth first search\n",
        "    global node, edge, visited, node_cnt, edge_cnt\n",
        "    \n",
        "    if visited[x] == True:\n",
        "        return\n",
        "\n",
        "    visited[x] = True\n",
        "    node[x] = True\n",
        "    node_cnt += 1\n",
        "\n",
        "    for i in edge[x]:\n",
        "        edge_cnt += 1\n",
        "        dfs(i)\n",
        "\n",
        "def main():\n",
        "    global node, edge, visited, node_cnt, edge_cnt\n",
        "    case_num = 1\n",
        "\n",
        "    while True:\n",
        "        n, m = map(int, input().split())\n",
        "\n",
        "        if not n and not m:\n",
        "            return\n",
        "        \n",
        "        node = [False] * (n+1)\n",
        "        visited = [False] * (n+1)\n",
        "        edge = [[] for _ in range(n+1)]\n",
        "\n",
        "        for _ in range(m):\n",
        "            a, b = map(int, input().split())\n",
        "            edge[a].append(b)\n",
        "            edge[b].append(a)\n",
        "        \n",
        "        cnt_tree = 0\n",
        "        for i in range(1,n+1):\n",
        "            if not node[i]:\n",
        "                node_cnt, edge_cnt = 0, 0\n",
        "                \n",
        "                dfs(i)\n",
        "\n",
        "                if 2*(node_cnt-1) == edge_cnt:\n",
        "                    cnt_tree += 1\n",
        "        \n",
        "        if cnt_tree == 0:\n",
        "            print('Case {0}: No trees.'.format(case_num))\n",
        "        elif cnt_tree == 1:\n",
        "            print('Case {0}: There is one tree.'.format(case_num))\n",
        "        else:\n",
        "            print('Case {0}: A forest of {1} trees.'.format(case_num, cnt_tree))\n",
        "        \n",
        "        case_num += 1   \n",
        "\n",
        "if __name__ == '__main__':\n",
        "    main()"
      ],
      "execution_count": null,
      "outputs": []
    },
    {
      "cell_type": "markdown",
      "metadata": {
        "id": "xkIriFz6cHx4"
      },
      "source": [
        "### 30단계 : 유니온 파인드===========**"
      ]
    },
    {
      "cell_type": "markdown",
      "metadata": {
        "id": "x7YAB5ujcHx5"
      },
      "source": [
        "####  1717번 : 분리 집합"
      ]
    },
    {
      "cell_type": "code",
      "metadata": {
        "id": "5nIG-K6NcHx5"
      },
      "source": [
        "### https://m.blog.naver.com/PostView.nhn?blogId=wnsgh224&logNo=120196308434&proxyReferer=http:%2F%2F211.193.127.39%2F\n",
        "### 분리 집합 : 해당 원소 노드가 속해 있는 집합, 즉 루트 노드를 찾는 연산\n",
        "import sys\n",
        "sys.setrecursionlimit(int(1e9))\n",
        "input = sys.stdin.readline\n",
        "\n",
        "def findParent(x):  # 부모 노드 찾는 함수\n",
        "    global s        \n",
        "    if s[x] == x:   # 자신이 부모 노드이면\n",
        "        return x    # 자신 return\n",
        "\n",
        "                            # 부모 노드가 아니면\n",
        "    s[x] = findParent(s[x]) # x의 부모노드로 변환\n",
        "    return s[x]             # 결론적으로 x가 속한 집합의 root 반환\n",
        "\n",
        "def union(x, y):                        # 합집합 연산\n",
        "    global s                            # 글로변 변수 지정\n",
        "    \n",
        "    x, y = findParent(x), findParent(y) # 입력 받은 x와 y의 현재 부모 노드 변환\n",
        "    \n",
        "    if x < y:                           # x집합의 부모노드 보다 y집합의 부모노드가 작으면\n",
        "        s[y] = x                        # y -> x 로 변환\n",
        "    else:                               # 그 이외이면\n",
        "        s[x] = y                        # x -> y 로 변환\n",
        "\n",
        "def main():                             # 메인 함수\n",
        "    global s                            # 글로벌 변수 지정\n",
        "    n, m = map(int, input().split())    # 집합의 개수 n과 연산의 개수 m 입력\n",
        "    \n",
        "    s = [i for i in range(n+1)]         # 부모 노드를 가르키는 리스트 생성\n",
        "    for _ in range(m):                  # m번 반복\n",
        "        o, a, b = map(int, input().split()) # 연산의 종류와 연산의 대상 a, b 입력\n",
        "        \n",
        "        if o == 0:                          # 연산의 종류가 0이면\n",
        "            union(a, b)                     # 합집합 연산 진행\n",
        "        \n",
        "        else:                                   # 그 이외의 종류이면\n",
        "            if findParent(a) == findParent(b):  # a와 b의 부모 노드가 같으면\n",
        "                print('YES')                    # 같은 집합에 속해있음\n",
        "            else:                               # 다르면\n",
        "                print('NO')                     # 다른 집합에 속해있음\n",
        "\n",
        "if __name__ == '__main__':  # 함수형으로 진행\n",
        "    main()"
      ],
      "execution_count": null,
      "outputs": []
    },
    {
      "cell_type": "markdown",
      "metadata": {
        "id": "kArAHccTng62"
      },
      "source": [
        "####  1976번"
      ]
    },
    {
      "cell_type": "code",
      "metadata": {
        "id": "O2Ibxahnng62"
      },
      "source": [
        "import sys\n",
        "sys.setrecursionlimit(int(1e9))\n",
        "input = sys.stdin.readline\n",
        "\n",
        "def findParent(x):  # 부모 노드 찾는 함수\n",
        "    global s        \n",
        "    if s[x] == x:   # 자신이 부모 노드이면\n",
        "        return x    # 자신 return\n",
        "\n",
        "                            # 부모 노드가 아니면\n",
        "    s[x] = findParent(s[x]) # x의 부모노드로 변환\n",
        "    return s[x]             # 결론적으로 x가 속한 집합의 root 반환\n",
        "\n",
        "def union(x, y):                        # 합집합 연산\n",
        "    global s                            # 글로변 변수 지정\n",
        "    \n",
        "    x, y = findParent(x), findParent(y) # 입력 받은 x와 y의 현재 부모 노드 변환\n",
        "    \n",
        "    if x < y:                           # x집합의 부모노드 보다 y집합의 부모노드가 작으면\n",
        "        s[y] = x                        # y -> x 로 변환\n",
        "    else:                               # 그 이외이면\n",
        "        s[x] = y                        # x -> y 로 변환\n",
        "\n",
        "def main():                         # 메인 함수\n",
        "    global s                        # 글로벌 변수 지정\n",
        "    n = int(input())                # 도시의 수 입력\n",
        "    m = int(input())                # 여행계획에 속한 도시들의 수 입력\n",
        "\n",
        "    s = [i for i in range(n+1)]     # 부모노드를 가르키는 리스트 생성\n",
        "    for i in range(n):              # 도시의 수 만큼 반복\n",
        "        in_list = list(map(int, input().split()))   # 입력 값 리스트로 변환\n",
        "        for j in range(i,n):                        # 대칭 행렬이므로 상삼각행렬로 생각하고 진행\n",
        "            if in_list[j]:                          # i, j번째 행렬의 요소가 1 연산이면\n",
        "                union(i+1,j+1)                      # i+1, j+1 번째 도시 합집합 연산\n",
        "    \n",
        "    travel = list(map(int, input().split()))        # 여행 계획 리스트로 입력\n",
        "    can = True                                      # 가능 여부\n",
        "\n",
        "    for i in range(len(travel)-1):                  # 여행 계획 2개 단위로 진행\n",
        "        if findParent(travel[i]) == findParent(travel[i+1]):    # i번째와 i+1번째 도시가 같은 그룹이면\n",
        "            continue                                            # 다음 여행으로 진행\n",
        "        else:                                                   # 다른 그룹이면\n",
        "            can = False                                         # 여행 계획 불가능\n",
        "            break                                               # for문 종료\n",
        "    \n",
        "    if can:             # 여행 가능 여부 판별\n",
        "        print('YES')\n",
        "    else:\n",
        "        print('NO')\n",
        "\n",
        "if __name__ == '__main__':\n",
        "    main()"
      ],
      "execution_count": null,
      "outputs": []
    },
    {
      "cell_type": "markdown",
      "metadata": {
        "id": "nNO6sdMynhHy"
      },
      "source": [
        "####  4195번"
      ]
    },
    {
      "cell_type": "code",
      "metadata": {
        "id": "yQ1wff0CnhHy"
      },
      "source": [
        "import sys\n",
        "sys.setrecursionlimit(int(1e9))\n",
        "input = sys.stdin.readline\n",
        "\n",
        "def findParent(x):                  # 부모 노드 찾는 함수\n",
        "    global s                            # 글로벌 변수 지정\n",
        "    if s[x][0] == x:                    # 자신이 부모 노드이면\n",
        "        return x                            # 자신 return\n",
        "\n",
        "                                        # 부모 노드가 아니면\n",
        "    s[x][0] = findParent(s[x][0])       # x의 부모노드로 변환\n",
        "    return s[x][0]                      # 결론적으로 x가 속한 집합의 root 반환\n",
        "\n",
        "def union(x, y):                    # 합집합 연산\n",
        "    global s                            # 글로변 변수 지정\n",
        "    \n",
        "    x, y = findParent(x), findParent(y) # 입력 받은 x와 y의 현재 부모 노드 변환\n",
        "    \n",
        "    if x < y:                           # x집합의 부모노드 보다 y집합의 부모노드가 작으면\n",
        "        s[y][0] = x                         # y -> x 노드로 변환\n",
        "        s[x][1] = s[x][1] + s[y][1]         # x의 총 노드 수를 y의 총 노드수와 합산\n",
        "    \n",
        "    else:                               # 그 이외이면\n",
        "        s[x][0] = y                         # x -> y 노드로 변환\n",
        "        s[y][1] = s[x][1] + s[y][1]         # y의 총 노드 수를 x의 총 노드수와 합산\n",
        "\n",
        "def main():                             # 메인 함수\n",
        "    global s                                # 글로벌 변수 지정\n",
        "    f = int(input())                        # 친구 관계 수 입력\n",
        "\n",
        "    friends = {}                            # 친구 해시 생성\n",
        "    num = 1                                 # 친구 해시 value 값 생성\n",
        "    \n",
        "    s = [False]                             # union-find 리스트 생성\n",
        "    for _ in range(f):                      # 친구 관계 수 만큼 진행\n",
        "        a, b = input().rstrip('\\n').split()     # 친구 이름 입력\n",
        "\n",
        "        if a not in friends:                    # a 친구가 친구 해시에 없으면\n",
        "            friends[a] = num                        # 친구 해시 num 생성\n",
        "            s.append([num, 1])                      # union-find 리스트에 추가\n",
        "            num += 1                                # num 1 증가\n",
        "        \n",
        "        if b not in friends:                    # b 친구가 친구 해시에 없으면\n",
        "            friends[b] = num                        # 친구 해시 num 생성\n",
        "            s.append([num, 1])                      # union-find 리스트에 추가\n",
        "            num += 1                                # num 1 증가\n",
        "\n",
        "        left = findParent(friends[a])           # a의 부모 노드\n",
        "        right = findParent(friends[b])          # b의 부모 노드\n",
        "\n",
        "        if left != right:                       # a, b가 같은 그룹이 아니면\n",
        "            union(friends[a], friends[b])           # a와 b의 부모노드 union 진행\n",
        "            \n",
        "        print(s[findParent(friends[a])][1])     # a의 부모노드를 찾아서 총 노드 수 출력\n",
        "\n",
        "if __name__ == '__main__':\n",
        "    t = int(input())                        # 테스트 케이스 수 입력\n",
        "    for _ in range(t):                      # 테스트 케이스 수 만큼 반복\n",
        "        main()                                  # 메인 함수 진행"
      ],
      "execution_count": null,
      "outputs": []
    },
    {
      "cell_type": "markdown",
      "metadata": {
        "id": "j-N-s25MnhQ7"
      },
      "source": [
        "####  20040번"
      ]
    },
    {
      "cell_type": "code",
      "metadata": {
        "id": "ZViUie0bnhQ7"
      },
      "source": [
        "import sys\n",
        "sys.setrecursionlimit(int(1e9))\n",
        "input = sys.stdin.readline\n",
        "\n",
        "def findParent(x):  # 부모 노드 찾는 함수\n",
        "    global s        \n",
        "    if s[x] == x:   # 자신이 부모 노드이면\n",
        "        return x    # 자신 return\n",
        "\n",
        "                            # 부모 노드가 아니면\n",
        "    s[x] = findParent(s[x]) # x의 부모노드로 변환\n",
        "    return s[x]             # 결론적으로 x가 속한 집합의 root 반환\n",
        "\n",
        "def union(x, y):                    # 합집합 연산\n",
        "    global s                            # 글로변 변수 지정\n",
        "\n",
        "    if x < y:                           # x 보다 y의 노드가 작으면\n",
        "        s[y] = x                            # y -> x 로 변환\n",
        "    else:                               # 그 이외이면\n",
        "        s[x] = y                            # x -> y 로 변환\n",
        "\n",
        "def main():                         # 메인 함수\n",
        "    global s                            # 글로벌 변수 지정\n",
        "    n, m = map(int, input().split())    # 점의 개수와 진행된 차례의 수 입력\n",
        "\n",
        "    res = 0                             # 결과 변수 생성\n",
        "\n",
        "    s = [i for i in range(n)]           # 부모 노드를 나타내는 리스트 생성\n",
        "    for i in range(1,m+1):              # 진행될 차례의 수 \n",
        "        a, b = map(int, input().split())    # 두 점 입력\n",
        "        if not res:                         # 결과 변수가 없으면\n",
        "            x, y = findParent(a), findParent(b) # 입력된 두 변수의 부모 노드\n",
        "            if x == y:                          # 두 변수의 부모 노드가 같으면\n",
        "                res = i                             # 사이클 C 라 판단하고 업데이트\n",
        "                continue                            # 다음 차례로 이동\n",
        "\n",
        "            union(x,y)                          # 아니라면 두 부모노드 합집합 실행\n",
        "\n",
        "    if res:                             # 결과의 값이 있으면\n",
        "        print(res)                          # 결과변수 출력\n",
        "    else:                               # 결과의 값이 없으면\n",
        "        print(res)                          # 0 출력\n",
        "\n",
        "if __name__ == '__main__':\n",
        "    main()"
      ],
      "execution_count": null,
      "outputs": []
    },
    {
      "cell_type": "markdown",
      "metadata": {
        "id": "G3BQimBInbs_"
      },
      "source": [
        "### 31 단계 : 최소 신장 트리===========**"
      ]
    },
    {
      "cell_type": "markdown",
      "source": [
        " - MST : Minimum Spanning Tree"
      ],
      "metadata": {
        "id": "ZS_HZvEDA1e3"
      }
    },
    {
      "cell_type": "markdown",
      "metadata": {
        "id": "RU-6_5TfnbtA"
      },
      "source": [
        "####  9372번"
      ]
    },
    {
      "cell_type": "code",
      "metadata": {
        "id": "joXhzPe7nbtA"
      },
      "source": [
        "import sys\n",
        "sys.setrecursionlimit(int(1e9))\n",
        "input = sys.stdin.readline\n",
        "\n",
        "def main():                             # 메인 함수\n",
        "    n, m = map(int, input().split())        # 정점의 개수와 간선의 개수 입력\n",
        "    for _ in range(m):                      # 간선의 개수 만큼 반복\n",
        "        a, b = map(int, input().split())        # 연결된 정점의 숫자 입력\n",
        "    print(n-1)                              # 모두 연결되어 있으므로 모든 국가를 여행하는 가장 적은 종류는 n-1이다\n",
        "\n",
        "\n",
        "if __name__ == '__main__':              # 함수형으로 진행\n",
        "    for _ in range(int(input())):           # 테스크 케이스 수 만큼 반복\n",
        "        main()                  "
      ],
      "execution_count": null,
      "outputs": []
    },
    {
      "cell_type": "markdown",
      "metadata": {
        "id": "vBoQtJDu-l5f"
      },
      "source": [
        "####  1197번 : 기본적인 MST"
      ]
    },
    {
      "cell_type": "code",
      "metadata": {
        "id": "2o_wnO2w-l5g"
      },
      "source": [
        "import sys\n",
        "sys.setrecursionlimit(int(1e9))\n",
        "input = sys.stdin.readline\n",
        "\n",
        "def findParent(x):      # 부모 노드 찾는 함수\n",
        "    global s        \n",
        "    if s[x] == x:           # 자신이 부모 노드이면\n",
        "        return x                # 자신 return\n",
        "\n",
        "    s[x] = findParent(s[x]) # 부모 노드가 아니면, x의 부모노드로 변환\n",
        "    return s[x]             # 결론적으로 x가 속한 집합의 root 반환\n",
        "\n",
        "def union(x, y):        # 합집합 연산\n",
        "    global s                # 글로변 변수 지정\n",
        "\n",
        "    if x < y:               # x 보다 y의 노드가 작으면\n",
        "        s[y] = x                # y -> x 로 변환\n",
        "    else:                   # 그 이외이면\n",
        "        s[x] = y                # x -> y 로 변환\n",
        "\n",
        "def main():                                 # 메인 함수\n",
        "    global s                                    # 글로벌 변수 지정\n",
        "    v, e = map(int, input().split())            # 정점의 개수와 간선의 개수 입력\n",
        "    \n",
        "    s = [i for i in range(v+1)]                 # 부모 노드를 나타내는 리스트 생성\n",
        "    \n",
        "    edges = []                                  # 간선을 입력 받을 리스트 생성\n",
        "    for _ in range(e):                          # 간선의 개수 만큼 반복\n",
        "        edges.append(list(map(int, input().split())))   # 간선들 리스트에 입력\n",
        "    \n",
        "    edges = sorted(edges, key=lambda x : x[2])  # 가중치로 간선들 정렬\n",
        "\n",
        "    result_mst = 0                              # MST 가중치 변수 생성\n",
        "    for i, j, k in edges:                       # 모든 간선들 확인\n",
        "        x = findParent(i)                           # i의 부모 노드 찾기\n",
        "        y = findParent(j)                           # j의 부모 노드 찾기\n",
        "\n",
        "        if x != y:                                  # i와 j의 부모 노드가 같지 않으면\n",
        "            union(x,y)                                  # i,j의 부모 노드 합집합\n",
        "            result_mst += k                             # 결과값에 가중치 추가\n",
        "    \n",
        "    print(result_mst)                           # MST 가중치 출력\n",
        "\n",
        "if __name__ == '__main__':  # 프로그램 시작점 지정\n",
        "    main()                      # 메인 함수 실행"
      ],
      "execution_count": null,
      "outputs": []
    },
    {
      "cell_type": "markdown",
      "metadata": {
        "id": "0FbEMSMz-mjc"
      },
      "source": [
        "####  4386번"
      ]
    },
    {
      "cell_type": "code",
      "metadata": {
        "id": "Qe-Ydw6N-mjc"
      },
      "source": [
        "import sys\n",
        "sys.setrecursionlimit(int(1e9))\n",
        "input = sys.stdin.readline\n",
        "\n",
        "def findParent(x):      # 부모 노드 찾는 함수\n",
        "    global s        \n",
        "    if s[x] == x:           # 자신이 부모 노드이면\n",
        "        return x                # 자신 return\n",
        "\n",
        "    s[x] = findParent(s[x]) # 부모 노드가 아니면, x의 부모노드로 변환\n",
        "    return s[x]             # 결론적으로 x가 속한 집합의 root 반환\n",
        "\n",
        "def union(x, y):        # 합집합 연산\n",
        "    global s                # 글로변 변수 지정\n",
        "\n",
        "    if x < y:               # x 보다 y의 노드가 작으면\n",
        "        s[y] = x                # y -> x 로 변환\n",
        "    else:                   # 그 이외이면\n",
        "        s[x] = y                # x -> y 로 변환\n",
        "\n",
        "def cal_dist(x, y):     # 별들의 거리 계산 함수\n",
        "    return ((x[0] - y[0]) ** 2 + (x[1] - y[1]) ** 2) ** 0.5     # 유클리드 거리\n",
        "\n",
        "def main():             # 메인 함수\n",
        "    global s                # 글로벌 변수 지정\n",
        "    n = int(input())        # 별들의 개수 입력\n",
        "\n",
        "    stars = []                                              # 별들의 위치 리스트 생성\n",
        "    for _ in range(n):                                      # 별들의 개수만큼 반복\n",
        "        stars.append(list(map(float, input().split())))         # 별들의 위치 리스트에 추가\n",
        "    \n",
        "    s = [i for i in range(n+1)]                             # 별들의 부모 노드 나타낼 리스트 생성\n",
        "\n",
        "    edges = []                                              # 두 별의 선 리스트 생성\n",
        "    for i in range(n):                                      # 별들의 개수 만큼 반복\n",
        "        for j in range(n):                                      # 별들의 개수 만큼 반복\n",
        "            if i == j:                                              # 같은 별은 거리가 0 이기에\n",
        "                continue                                                # 다음으로\n",
        "            \n",
        "            edges.append([i,j,cal_dist(stars[i], stars[j])])        # 선 리스트에 두 별과 계산한 거리 추가\n",
        "    \n",
        "    sorted_edges = sorted(edges, key=lambda x : x[2])       # 선 리스트 거리 기준으로 정렬\n",
        "\n",
        "    result_mst = 0                      # MST 가중치 변수 생성\n",
        "    for i, j, k in sorted_edges:        # 모든 간선들 확인\n",
        "        x = findParent(i)                   # i의 부모 노드 찾기\n",
        "        y = findParent(j)                   # j의 부모 노드 찾기\n",
        "\n",
        "        if x != y:                          # i와 j의 부모 노드가 같지 않으면\n",
        "            union(x,y)                          # i,j의 부모 노드 합집합\n",
        "            result_mst += k                     # 결과값에 가중치 추가\n",
        "    \n",
        "    print('{0:.2f}'.format(result_mst)) # MST 가중치 출력\n",
        "\n",
        "\n",
        "if __name__ == '__main__':  # 프로그램 시작점 지정\n",
        "    main()                      # 메인 함수 실행"
      ],
      "execution_count": null,
      "outputs": []
    },
    {
      "cell_type": "markdown",
      "metadata": {
        "id": "9uEH1xMj-mm9"
      },
      "source": [
        "####  1774번"
      ]
    },
    {
      "cell_type": "code",
      "metadata": {
        "id": "ItOzHkwk-mm-"
      },
      "source": [
        "import sys\n",
        "sys.setrecursionlimit(int(1e9))\n",
        "input = sys.stdin.readline\n",
        "\n",
        "def findParent(x):      # 부모 노드 찾는 함수\n",
        "    global s        \n",
        "    if s[x] == x:           # 자신이 부모 노드이면\n",
        "        return x                # 자신 return\n",
        "\n",
        "    s[x] = findParent(s[x]) # 부모 노드가 아니면, x의 부모노드로 변환\n",
        "    return s[x]             # 결론적으로 x가 속한 집합의 root 반환\n",
        "\n",
        "def union(x, y):        # 합집합 연산\n",
        "    global s                # 글로변 변수 지정\n",
        "\n",
        "    if x < y:               # x 보다 y의 노드가 작으면\n",
        "        s[y] = x                # y -> x 로 변환\n",
        "    else:                   # 그 이외이면\n",
        "        s[x] = y                # x -> y 로 변환\n",
        "\n",
        "def cal_dist(x, y):     # 거리 계산 함수\n",
        "    return ((x[0] - y[0]) ** 2 + (x[1] - y[1]) ** 2) ** 0.5     # 유클리드 거리\n",
        "\n",
        "def main():                         # 메인 함수\n",
        "    global s                            # 글로벌 변수 지정\n",
        "    n, m = map(int, input().split())    # 우주신과 통로의 개수 입력\n",
        "\n",
        "    s = [i for i in range(n+1)]         # 부모 노드 나타낼 리스트 생성\n",
        "\n",
        "    space = [False]                     # 노드들의 위치 리스트 생성\n",
        "    for _ in range(n):                  # 우주신의 개수만큼 반복\n",
        "        space.append(list(map(int, input().split())))   # 우주신의 위치를 리스트에 추가\n",
        "    \n",
        "    for _ in range(m):                  # 통로의 수만큼 반복\n",
        "        a, b = map(int, input().split())    # 연결된 우주신들 입력\n",
        "        x = findParent(a)                   # a의 부모 노드 찾기\n",
        "        y = findParent(b)                   # b의 부모 노드 찾기\n",
        "        \n",
        "        if x != y:                          # a,b가 같지 않은 그룹이면\n",
        "            union(x,y)                          # 합집합\n",
        "\n",
        "    edges = []                          # 두 별의 선 리스트 생성\n",
        "    for i in range(1,n+1):                  # 우주신들의 개수 만큼 반복\n",
        "        x = findParent(i)                       # i의 부모 노드 변수 생성\n",
        "        for j in range(1,n+1):                  # 우주신들의 개수 만큼 반복\n",
        "            if i == j:                              # 같은 위치는 0 이기에\n",
        "                continue                                # 다음으로\n",
        "            \n",
        "            y = findParent(j)                       # y의 부모노드 변수 생성\n",
        "            if s[x] == s[y]:                        # i와 j의 부모노드가 같으면\n",
        "                continue                                # 통로가 있으므로 continue\n",
        "\n",
        "            edges.append([i,j,cal_dist(space[i], space[j])])    # 선 리스트에 두 별과 계산한 거리 추가\n",
        "    \n",
        "    sorted_edges = sorted(edges, key=lambda x : x[2])       # 선 리스트 거리 기준으로 정렬\n",
        "\n",
        "    result_mst = 0                      # MST 가중치 변수 생성\n",
        "    for i, j, k in sorted_edges:        # 모든 간선들 확인\n",
        "        x = findParent(i)                   # i의 부모 노드 찾기\n",
        "        y = findParent(j)                   # j의 부모 노드 찾기\n",
        "\n",
        "        if x != y:                          # i와 j의 부모 노드가 같지 않으면\n",
        "            union(x,y)                          # i,j의 부모 노드 합집합\n",
        "            result_mst += k                     # 결과값에 가중치 추가\n",
        "    \n",
        "    print('{0:.2f}'.format(result_mst)) # MST 가중치 출력\n",
        "\n",
        "if __name__ == '__main__':  # 프로그램 시작점 지정\n",
        "    main()                      # 메인 함수 실행"
      ],
      "execution_count": null,
      "outputs": []
    },
    {
      "cell_type": "markdown",
      "metadata": {
        "id": "F_HHKAkB-mqL"
      },
      "source": [
        "####  2887번(*)"
      ]
    },
    {
      "cell_type": "code",
      "metadata": {
        "id": "8QSNJvCO-mqM"
      },
      "source": [
        "### https://developmentdiary.tistory.com/450\n",
        "'''\n",
        "간선의 개수를 줄이는게 목표인데 기존 방식은 V*(V-1)/2으로 비효율적이다.\n",
        "각 좌표를 기준으로 오름차순 정렬을 했을때 X1->X2가 X1->X3보다 클수는 없기 때문에\n",
        "좌표별로 구하게 되면 E를 3*(V-1)로 log(N)\n",
        "'''\n",
        "\n",
        "import sys\n",
        "sys.setrecursionlimit(int(1e9))\n",
        "input = sys.stdin.readline\n",
        "\n",
        "def findParent(x):      # 부모 노드 찾는 함수\n",
        "    global s        \n",
        "    if s[x] == x:           # 자신이 부모 노드이면\n",
        "        return x                # 자신 return\n",
        "\n",
        "    s[x] = findParent(s[x]) # 부모 노드가 아니면, x의 부모노드로 변환\n",
        "    return s[x]             # 결론적으로 x가 속한 집합의 root 반환\n",
        "\n",
        "def union(x, y):        # 합집합 연산\n",
        "    global s                # 글로변 변수 지정\n",
        "\n",
        "    if x < y:               # x 보다 y의 노드가 작으면\n",
        "        s[y] = x                # y -> x 로 변환\n",
        "    else:                   # 그 이외이면\n",
        "        s[x] = y                # x -> y 로 변환\n",
        "\n",
        "def cal_cost(x, y):                                                 # 거리 계산 함수\n",
        "    return min(abs(x[0] - y[0]), abs(x[1] - y[1]), abs(x[2] - y[2]))\n",
        "\n",
        "def main():                                             # 메인 함수\n",
        "    global s                                                # 글로벌 변수 지정    \n",
        "    n = int(input())                                        # 행성의 개수 입력\n",
        "\n",
        "    nodes = []                                              # 행성의 위치를 담을 리스트 생성\n",
        "    for i in range(n):                                      # 행성의 개수 만큼 반복\n",
        "        nodes.append(list(map(int, input().split())) + [i])     # 행성의 위치와 인덱스를 입력\n",
        "    \n",
        "    s = [i for i in range(n)]                               # 부모 노드를 가르키는 리스트 생성\n",
        "\n",
        "    edges = []                                              # 선 리스트 생성\n",
        "    for i in range(3):                                      # 각 좌표별 반복\n",
        "        nodes.sort(key = lambda x : x[i])                       # 각 좌표별로 정렬 진행\n",
        "        for j in range(n-1):                                    # 정렬을 기준으로 인접한 행성끼리\n",
        "            edges.append([nodes[j][3],nodes[j+1][3],            # 두 행성의 인덱스와 계산한 거리를\n",
        "                          cal_cost(nodes[j], nodes[j+1])])      # 간선에 추가\n",
        "\n",
        "    sorted_edges = sorted(edges, key=lambda x : x[2])       # 선 리스트 거리 기준으로 정렬\n",
        "\n",
        "    result_mst = 0                      # MST 가중치 변수 생성\n",
        "    for i, j, k in sorted_edges:        # 모든 간선들 확인\n",
        "        x = findParent(i)                   # i의 부모 노드 찾기\n",
        "        y = findParent(j)                   # j의 부모 노드 찾기\n",
        "\n",
        "        if x != y:                          # i와 j의 부모 노드가 같지 않으면\n",
        "            union(x,y)                          # i,j의 부모 노드 합집합\n",
        "            result_mst += k                     # 결과값에 가중치 추가\n",
        "    \n",
        "    print(result_mst)                   # 결과 값 출력\n",
        "\n",
        "if __name__ == '__main__':  # 프로그램 시작점 지정\n",
        "    main()                      # 메인 함수 실행"
      ],
      "execution_count": null,
      "outputs": []
    },
    {
      "cell_type": "markdown",
      "metadata": {
        "id": "eV2Uw5Ym-mt0"
      },
      "source": [
        "####  17472번"
      ]
    },
    {
      "cell_type": "code",
      "metadata": {
        "id": "wP0WydcE-mt0"
      },
      "source": [
        "### 해당 땅이 다 이어져있는 지 여부에 대한 반례를 찾는데 오래걸림\n",
        "import sys\n",
        "import heapq\n",
        "\n",
        "sys.setrecursionlimit(int(1e9))\n",
        "input = sys.stdin.readline\n",
        "\n",
        "def findParent(x):      # 부모 노드 찾는 함수\n",
        "    global root_nodes        \n",
        "    if root_nodes[x] == x:           # 자신이 부모 노드이면\n",
        "        return x                # 자신 return\n",
        "\n",
        "    root_nodes[x] = findParent(root_nodes[x]) # 부모 노드가 아니면, x의 부모노드로 변환\n",
        "    return root_nodes[x]             # 결론적으로 x가 속한 집합의 root 반환\n",
        "\n",
        "def union(x, y):        # 합집합 연산\n",
        "    global root_nodes                # 글로변 변수 지정\n",
        "\n",
        "    if x < y:               # x 보다 y의 노드가 작으면\n",
        "        root_nodes[y] = x                # y -> x 로 변환\n",
        "    else:                   # 그 이외이면\n",
        "        root_nodes[x] = y                # x -> y 로 변환\n",
        "\n",
        "def bfs(x,y, num):                          # 땅의 넘버링을 위한 bfs 함수\n",
        "    global n, m                                 # 글로벌 변수 지정\n",
        "    global s, visited, surface                  # 글로벌 변수 지정\n",
        "\n",
        "    visited[x][y] = num                         # 해당 위치 넘버링\n",
        "\n",
        "    for i, j in [(0,1),(0,-1),(1,0),(-1,0)]:    # 상, 하, 좌, 우 진행\n",
        "        a, b = x + i, y + j                         # 이동한 위치 변수 생성\n",
        "        if 0 <= a < n and 0 <= b < m:               # 지도 안에 있으며\n",
        "            if not visited[a][b]:                       # 방문한 적이 없어야 함(방문한 섬이 아니어야 함)\n",
        "                if s[a][b] == 1:                            # 섬이면\n",
        "                    bfs(x+i, y+j, num)                          # 해당 위치로 bfs 진행\n",
        "\n",
        "                if s[a][b] == 0:                            # 바다면\n",
        "                    surface.append([a,b,i,j,1])                 # 해당 표면의 일직선 정보 입력\n",
        "\n",
        "def main():                                     # 메인 함수\n",
        "    global n, m, root_nodes                         # 글로벌 변수 지정\n",
        "    global s, visited, surface                      # 글로벌 변수 지정\n",
        "    n, m = map(int, input().split())                # 행, 열 크기 입력\n",
        "\n",
        "    s = []                                          # 지도 리스트 생성\n",
        "    for _ in range(n):                              # 행 크기 만큼 반복\n",
        "        s.append(list(map(int, input().split())))       # 지도 입력\n",
        "\n",
        "    num = 1                                         # 땅 넘버링할 변수 생성\n",
        "    root_nodes = [False]                            # 유니온 파인드를 위한 땅 리스트 생성\n",
        "    root_edges = [False]                            # 각 땅의 표면을 담을 리스트 생성\n",
        "\n",
        "    visited = [ [False] * m for _ in range(n)]      # 지도의 방문 여부 표시를 위한 리스트 생성\n",
        "\n",
        "    for i in range(n):                              # 행만큼 반복\n",
        "        for j in range(m):                              # 열만큼 반복\n",
        "            if s[i][j] == 1 and not visited[i][j]:          # 해당 위치가 땅이고 방문한적이 없다면\n",
        "                surface = []                                    # 표면 리스트 생성\n",
        "                bfs(i,j, num)                                   # 해당 넘버로 밀접한 땅 넘버링 진행\n",
        "                root_edges.append(surface)                      # 표면을 위에 생성한 리스트에 담는다\n",
        "                root_nodes.append(num)                          # 넘버링한 변수를 위에 생성한 리스트에 담는다\n",
        "                num += 1                                        # 넘버링 1 증가\n",
        "    \n",
        "    edges = []                                              # 만들 수 있는 다리를 담을 리스트\n",
        "    for i in range(1,num):                                  # 각 땅의 표면들을 호가인\n",
        "        queue = root_edges[i]                                   # i번째 표면 리스트 생성\n",
        "        while queue:                                            # queue로 bfs 진행\n",
        "            n_x, n_y, way_x, way_y, length = heapq.heappop(queue)   # 표면에 대한 정보 pop\n",
        "            a, b= n_x + way_x, n_y + way_y                          # 다음 위치 변수 생성\n",
        "            if 0 <= a < n and 0 <= b < m:                           # 다음 위치가 맵안에 있다면\n",
        "                if visited[a][b] and length != 1:                       # 땅이고 다리의 길이가 1 이상일 때\n",
        "                    edges.append([i,visited[a][b], length])                 # 만들 수 있는 다리 생성\n",
        "                \n",
        "                if not visited[a][b]:                                   # 바다이면\n",
        "                    heapq.heappush(queue, [a, b, way_x, way_y, length + 1]) # 다음 위치 추가\n",
        "\n",
        "    sorted_edges = sorted(edges, key = lambda x : x[2]) # edge들 가중치 기준 정렬\n",
        "\n",
        "    result_mst = 0                          # MST 가중치 변수 생성\n",
        "    for i, j, k in sorted_edges:            # 모든 간선들 확인\n",
        "        x = findParent(i)                       # i의 부모 노드 찾기\n",
        "        y = findParent(j)                       # j의 부모 노드 찾기\n",
        "\n",
        "        if x != y:                              # i와 j의 부모 노드가 같지 않으면\n",
        "            union(x,y)                              # i,j의 부모 노드 합집합\n",
        "            result_mst += k                         # 결과값에 가중치 추가\n",
        "\n",
        "    root = []                                   # 모든 땅이 연결되어 있는 지 확인하기 위한 리스트\n",
        "    for i in root_nodes[1:]:                    # 모든 땅을 반복\n",
        "        root.append(findParent(i))                  # 해당 땅의 부모 노드 추가\n",
        "\n",
        "    if not result_mst or len(set(root)) != 1:   # 만들 수 있는 다리가 없거나 모든 땅이 연결되어 있지 않으면\n",
        "        print(-1)                                   # -1 출력\n",
        "    else:                                       # 아니면\n",
        "        print(result_mst)                           # 결과 값 출력\n",
        "\n",
        "if __name__ == '__main__':  # 프로그램 시작점 지정\n",
        "    main()                      # 메인 함수 실행\n"
      ],
      "execution_count": null,
      "outputs": []
    },
    {
      "cell_type": "markdown",
      "metadata": {
        "id": "SVWsWXeW85B9"
      },
      "source": [
        "### 32 단계 : 트리에서의 동적 계획법===========**"
      ]
    },
    {
      "cell_type": "markdown",
      "metadata": {
        "id": "zpPH4G-085B-"
      },
      "source": [
        "####  15681번"
      ]
    },
    {
      "cell_type": "code",
      "metadata": {
        "id": "taP8M76O86QU"
      },
      "source": [
        "import sys\n",
        "sys.setrecursionlimit(int(1e9))\n",
        "input = sys.stdin.readline\n",
        "\n",
        "def countSubtreeNode(currentNode):      # 정점의 수 counting 함수\n",
        "    global t, size, visited                 # 글로벌 변수 지정\n",
        "    size[currentNode] = 1                   # 해당 노드를 루트로 하는 서브 쿼리가 존재\n",
        "    visited[currentNode] = True             # 해당 노드 방문여부 표시\n",
        "    for Node in t[currentNode]:             # 해당 노드와 연결된 노드로 진행\n",
        "        if not visited[Node]:                   # 방문을 하지 않은 노드이면\n",
        "            countSubtreeNode(Node)                  # 해당 노드 정점의 수 counting dfs\n",
        "            size[currentNode] += size[Node]         # current 노드에 해당 노드의 서브 트리 개수 추가\n",
        "\n",
        "def main():                             # 메인 함수\n",
        "    global t, size, visited                 # 글로벌 변수 지정\n",
        "    n, r, q = map(int, input().split())     # 정점의 수, 루트 번호, 쿼리 수\n",
        "\n",
        "    t = [[] for _ in range(n+1)]            # 간선 리스트 형태 생성\n",
        "\n",
        "    for _ in range(n-1):                    # n-1 줄에 걸쳐\n",
        "        u, v = map(int, input().split())        # 트리의 간선 정보 입력\n",
        "        t[u].append(v)                          # 무방향 그래프이므로 \n",
        "        t[v].append(u)                          # 양방향 연결\n",
        "\n",
        "    visited = [False] * (n + 1)             # 방문 여부 표시\n",
        "    size = [False] * (n + 1)                # 서브 트리의 정점의 수\n",
        "    \n",
        "    countSubtreeNode(r)                     # 정점의 수 counting\n",
        "    for _ in range(q):                      # 쿼리의 수 만큼 반복\n",
        "        u = int(input())                        # 쿼리의 정수 입력\n",
        "        print(size[u])                          # 해당 정수의 결과 출력\n",
        "\n",
        "if __name__ == '__main__':  # 프로그램 시작점 지정\n",
        "    main()                      # 메인 함수 실행"
      ],
      "execution_count": null,
      "outputs": []
    },
    {
      "cell_type": "markdown",
      "metadata": {
        "id": "XvFzDpYwA3KJ"
      },
      "source": [
        "####   2213번"
      ]
    },
    {
      "cell_type": "code",
      "metadata": {
        "id": "xczobKbZA3KJ"
      },
      "source": [
        "import sys\n",
        "sys.setrecursionlimit(int(1e9))\n",
        "input = sys.stdin.readline\n",
        "\n",
        "def dfs(currentNode):                           # DFS 함수(현재 노드)\n",
        "    global s, w, dp, visited                        # 글로벌 변수 지정\n",
        "\n",
        "    visited[currentNode] = True                     # 현재 노드 방문 표시\n",
        "    for Node in s[currentNode]:                     # 현재 노드와 연결된 노드로 진행\n",
        "        if not visited[Node]:                           # 방문을 하지 않은 노드이면\n",
        "            dfs(Node)                                       # 연결된 노드 DFS 진행\n",
        "\n",
        "            # 상위 노드가 독립집합에 포함되어 있지 않으면 경우의 수는 두 가지 이다.\n",
        "\n",
        "            if dp[Node][0][0] > dp[Node][1][0]:             # 연결된 노드를 포함하지 않은 독립집합의 가중치가 더 크다면 \n",
        "                dp[currentNode][0][0] += dp[Node][0][0]         # 현재 노드를 포함하지 않은 가중치에 연결된 노드를 포함하지 않은 독립집합의 가중치를 추가\n",
        "                dp[currentNode][0][1] += dp[Node][0][1]         # 현재 노드를 포함하지 않은 독립집합에 연결된 노드를 포함하지 않은 독립집합을 추가\n",
        "            else:                                           # 연결된 노드를 포함하는 독립집합의 가중치가 더 크면\n",
        "                dp[currentNode][0][0] += dp[Node][1][0]         # 현재 노드를 포함하지 않은 가중치에 연결된 노드를 포함하는 독립집합의 가중치를 추가\n",
        "                dp[currentNode][0][1] += dp[Node][1][1]         # 현재 노드를 포함하지 않은 독립집합에 연결된 노드를 포함하는 독립집합을 추가\n",
        "\n",
        "            # 상위 노드가 독립집합에 포함되어 있으면 경우의 수는 한 가지 이다.\n",
        "\n",
        "            dp[currentNode][1][0] += dp[Node][0][0]         # 현재 노드를 포함하는 가중치에 연결된 노드를 포함하지 않은 독립집합의 가중치를 추가\n",
        "            dp[currentNode][1][1] += dp[Node][0][1]         # 현재 노드를 포함하는 독립집합에 연결된 노드를 포함하지 않은 독립집합을 추가\n",
        "\n",
        "    dp[currentNode][1][0] += w[currentNode]         # 현재 노드를 포함하는 가중치에 현재 노드의 가중치 추가\n",
        "    dp[currentNode][1][1].append(currentNode)       # 현재 노드를 포함하는 독립집합에 현재 노드 추가\n",
        "\n",
        "def main():                                     # 메인 함수\n",
        "    global s, w, dp, visited                        # 글로벌 변수 지정\n",
        "    n = int(input())                                # 노드의 수 입력\n",
        "\n",
        "    w = [False] + list(map(int, input().split()))   # 가중치 리스트 입력\n",
        "    \n",
        "    s = [[] for _ in range(n+1)]                    # edge들 입력\n",
        "    for i in range(n-1):                            # 노드의 수 - 1 번 반복\n",
        "        a, b = map(int, input().split())                # 두 노드 입력\n",
        "        s[a].append(b)                                  # 무방향 그래프이므로\n",
        "        s[b].append(a)                                  # 양 노드에 추가\n",
        "    \n",
        "    dp = [[[0,[]],[0,[]]] for _ in range(n+1)]      # dp[현재노드][존재 여부][가중치, 독립집합]\n",
        "    \n",
        "    # 존재여부 : 0 이면 현재노드가 독립집합에 비포함, 1이면 포함 상태이다.\n",
        "    # 가중치 : 현재노드를 루트로하는 서브트리 중 만들 수 있는 최댓값이다.\n",
        "    # 독립집합 : 최댓값 가중치를 만드는 독립 집합이다.\n",
        "\n",
        "    visited = [False] * (n+1)                       # 노드의 방문 여부 리스트\n",
        "\n",
        "    dfs(1)                                          # 1을 루트로하는 DFS 진행\n",
        "    if dp[1][0][0] > dp[1][1][0]:                   # 1 노드를 독립집합에 포함한 가중치의 최댓값이 더 크면\n",
        "        print(dp[1][0][0])                              # 해당 가중치의 최댓값을 출력\n",
        "        print(*sorted(dp[1][0][1]))                     # 해당 독립집합을 정렬 후 출력\n",
        "    else:                                           # 0 노드를 포함한 값이 더 크면\n",
        "        print(dp[1][1][0])                              # 해당 가중치의 최댓값을 출력\n",
        "        print(*sorted(dp[1][1][1]))                     # 해당 독립집합을 정렬 후 출력\n",
        "\n",
        "if __name__ == '__main__':  # 프로그램 시작점 지정\n",
        "    main()                      # 메인 함수 실행"
      ],
      "execution_count": null,
      "outputs": []
    },
    {
      "cell_type": "markdown",
      "metadata": {
        "id": "-WWSnBrXA39V"
      },
      "source": [
        "####   2533번"
      ]
    },
    {
      "cell_type": "code",
      "metadata": {
        "id": "XaCeffCzA39V"
      },
      "source": [
        "# 2번째 예제에서 3, 4 가 얼리어답터일 경우 모든 노드가 연결된 줄 알았는데, \n",
        "# '자신의 모든 친구들이 얼리 어답터일 때만' 이라는 조건이 있어 조금 해맸다.\n",
        "\n",
        "import sys\n",
        "sys.setrecursionlimit(int(1e9))\n",
        "input = sys.stdin.readline\n",
        "\n",
        "def dfs(currentNode):                   # 메인 함수\n",
        "    global visited, edges, dp               # 글로벌 변수 지정\n",
        "\n",
        "    visited[currentNode] = True             # 해당 정점 방문 표시\n",
        "\n",
        "    for Node in edges[currentNode]:         # 해당 정점과 연결된 정점들\n",
        "        if not visited[Node]:                   # 연결된 정점을 방문하지 않았다면\n",
        "            dfs(Node)                               # 연결된 정점 DFS 진행\n",
        "            \n",
        "            # 상위 정점이 얼리어답터 집합에 포함되어 있지 않으면 경우의 수는 한 가지 이다.\n",
        "            dp[currentNode][0] += dp[Node][1]       # 현재 정점이 아닌 곳 연결된 정점이 얼리어답터인 경우 최소 수를 추가\n",
        "\n",
        "            # 상위 정점이 얼리어답터 집합에 포함되어 있으면 경우의 수는 두 가지 이다.\n",
        "            if dp[Node][0] < dp[Node][1]:           # 연결된 노드가 얼리어답터 아닌 경우 최소 수가 더 작으면\n",
        "                dp[currentNode][1] += dp[Node][0]       # 현재 정점이 얼리어답터인 곳에 연결된 정점이 얼리어답터이 아닌 경우 최소 수를 추가\n",
        "            else:                                   # 그 반대의 경우\n",
        "                dp[currentNode][1] += dp[Node][1]       # 현재 정점이 얼리어답터인 곳에 연결된 정점이 얼리어답터인 경우 최소 수를 추가\n",
        "\n",
        "    dp[currentNode][1] += 1                 # 현재 정점이 얼리어답터인 경우 1 증가\n",
        "\n",
        "def main():                             # 메인 함수\n",
        "    global visited, edges, dp               # 글로벌 변수 지정\n",
        "    n = int(input())                        # 친구 관계의 정점의 수 입력\n",
        "\n",
        "    edges = [[] for _ in range(n+1)]        # 친구 관계의 간선 입력\n",
        "    for _ in range(n-1):                    # 트리의 특성상 n-1번 반복\n",
        "        a, b = map(int, input().split())        # 두 정점 입력\n",
        "        edges[a].append(b)                      # 무방향 그래프 이므로\n",
        "        edges[b].append(a)                      # 각 정점에 추가\n",
        "\n",
        "    dp = [[False] * 2 for _ in range(n+1)]  # dp[정점][얼리어답터]\n",
        "\n",
        "    visited = [False] * (n+1)               # 방문 여부 리스트 생성\n",
        "\n",
        "    dfs(1)                                  # 트리의 DFS 실행\n",
        "\n",
        "    if dp[1][0] < dp[1][1]:                 # 1번 친구가 얼리어답터가 아닌 경우 얼리어답터의 수가 더 작으면\n",
        "        print(dp[1][0])                         # 1번 친구를 뺸 얼리어답터의 최소 수 출력\n",
        "    else:                                   # 1번 친구가 얼리어답터인 경우 얼리어답터의 수가 더 크면\n",
        "        print(dp[1][1])                         # 1반 친구를 포함한 얼리어답터의 최소 수 출력\n",
        "    \n",
        "\n",
        "if __name__ == '__main__':  # 프로그램 시작점 지정\n",
        "    main()                      # 메인 함수 실행"
      ],
      "execution_count": null,
      "outputs": []
    },
    {
      "cell_type": "markdown",
      "metadata": {
        "id": "D8oqXAX5A4VI"
      },
      "source": [
        "####   1949번"
      ]
    },
    {
      "cell_type": "code",
      "metadata": {
        "id": "FK1CKJJEA4VJ"
      },
      "source": [
        "import sys\n",
        "sys.setrecursionlimit(int(1e9))\n",
        "input = sys.stdin.readline\n",
        "\n",
        "def dfs(currentNode):                           # DFS 함수\n",
        "    global visited, edges, dp, population           # 글로벌 변수 생성\n",
        "\n",
        "    visited[currentNode] = True                     # 현재 마을 방문 표시\n",
        "\n",
        "    for Node in edges[currentNode]:                 # 현재 마을과 연결된 마을들 반복\n",
        "        if not visited[Node]:                           # 연결된 마을을 방문하지 않았다면\n",
        "            dfs(Node)                                       # 연결된 마을 DFS 실행\n",
        "            \n",
        "            # 상위 마을이 우수 마을 집합에 포함되어 있지 않으면 경우의 수는 두 가지 이다.\n",
        "            if dp[Node][0] > dp[Node][1]:                   # 연결된 마을을 포함하지 않은 인구가 더 크면\n",
        "                dp[currentNode][0] += dp[Node][0]               # 현재 마을이 우수 마을이 아닌 경우에 연결된 마을을 포함하지 않은 인구를 추가\n",
        "            else:                                           # 크지 않다면\n",
        "                dp[currentNode][0] += dp[Node][1]               # 현재 마을이 우수 마을이 아닌 경우에 연결된 마을을 포함한 인구를 추가\n",
        "\n",
        "            # 상위 마을이 우수 마을 집합에 포함되어 있으면 경우의 수는 한 가지 이다.\n",
        "            dp[currentNode][1] += dp[Node][0]               # 현재 마을에 연결된 마을을 포함하지 않는 인구를 추가\n",
        "\n",
        "    dp[currentNode][1] += population[currentNode]   # 현재 마을을 포함한 인구수에 현재 마을의 인구 수를 추가\n",
        "\n",
        "\n",
        "def main():                                             # 메인 함수\n",
        "    global visited, edges, dp, population                   # 글로벌 변수 지정\n",
        "    n = int(input())                                        # 마을의 수 입력\n",
        "\n",
        "    population = [False] + list(map(int, input().split()))  # 각 마을의 주민 수 입력\n",
        "\n",
        "    visited = [False] * (n+1)                               # 방문 여부 리스트 생성\n",
        "\n",
        "    edges = [[] for _ in range(n+1)]                        # 각 마을 간선 리스트 생성\n",
        "    for _ in range(n-1):                                    # 트리의 특성상 n-1의 간선\n",
        "        a, b = map(int, input().split())                        # 두 마을 입력\n",
        "        edges[a].append(b)                                      # 무방향 그래프이므로\n",
        "        edges[b].append(a)                                      # 각 마을에 추가\n",
        "    \n",
        "    dp = [[False] * 2 for _ in range(n+1)]                  # dp[마을][우수 마을]\n",
        "\n",
        "    dfs(1)                                                  # 트리 DFS 실행\n",
        "    \n",
        "    if dp[1][0] < dp[1][1]:                                 # 1번 마을을 포함한게 더 크면\n",
        "        print(dp[1][1])                                         # 포함한 주민 수의 총 합 출력\n",
        "    else:                                                   # 작다면\n",
        "        print(dp[1][0])                                         # 포함하지 않은 주민 수의 총 합 출력\n",
        "    \n",
        "\n",
        "\n",
        "if __name__ == '__main__':  # 프로그램 시작점 지정\n",
        "    main()                      # 메인 함수 실행"
      ],
      "execution_count": null,
      "outputs": []
    },
    {
      "cell_type": "markdown",
      "metadata": {
        "id": "0l8CJACU8_ZX"
      },
      "source": [
        "### 33 단계 : 기하===========**"
      ]
    },
    {
      "cell_type": "markdown",
      "metadata": {
        "id": "994fZwS78_ZX"
      },
      "source": [
        "####2166번(*)"
      ]
    },
    {
      "cell_type": "code",
      "metadata": {
        "id": "_gLJLPzk8_ZX"
      },
      "source": [
        "# 다각형의 넓이를 구하는 공식을 몰라 질문 검색을 통해 신발끈 정리를 알게 되었다.\n",
        "# 참고 사이트 : 위키백과 신발끈 정리\n",
        "\n",
        "import sys\n",
        "sys.setrecursionlimit(int(1e9))\n",
        "input = sys.stdin.readline\n",
        "\n",
        "def main():                                             # 메인 함수\n",
        "    n = int(input())                                        # \n",
        "\n",
        "    t = []\n",
        "    for _ in range(n):\n",
        "        t.append(list(map(int, input().split())))\n",
        "\n",
        "    result = 0\n",
        "    for i in range(n-1):\n",
        "        result += t[i][0] * t[i+1][1] - t[i+1][0] * t[i][1]\n",
        "    \n",
        "    result += t[n-1][0] * t[0][1] - t[0][0] * t[n-1][1]\n",
        "    result = round(0.5 * abs(result),1)\n",
        "    \n",
        "    print('{0:.1f}'.format(result))\n",
        "\n",
        "\n",
        "if __name__ == '__main__':  # 프로그램 시작점 지정\n",
        "    main()                      # 메인 함수 실행"
      ],
      "execution_count": null,
      "outputs": []
    },
    {
      "cell_type": "markdown",
      "metadata": {
        "id": "J08dtKYX30yU"
      },
      "source": [
        "#### 11758번(*) : CCW(Counter Clockwise)"
      ]
    },
    {
      "cell_type": "code",
      "metadata": {
        "id": "2VWFZLql30yV"
      },
      "source": [
        "# 참고 사이트 : https://www.acmicpc.net/blog/view/27\n",
        "'''\n",
        "\n",
        "두 벡터 u x v의 외적은 대수적 법칙에 의해 \n",
        "\n",
        "| i  j  k  |\n",
        "| x1 y1 z1 | = u x v => 벡터 u와 v의 외적이다.\n",
        "| x2 y2 z2 |\n",
        "\n",
        "두 벡터의 외적을 통해 u x v의 방향에 대해 정의가 가능하고, \n",
        "그 방향은 오른손의 법칙에 의해 확인이 가능하다.\n",
        "\n",
        "따라서, 아래 ccw의 함수는 P1을 원점으로 하는 벡터 u와 v의 외적 값으로 방향을 판단하는 함수이다.\n",
        "\n",
        "'''\n",
        "import sys\n",
        "sys.setrecursionlimit(int(1e9))\n",
        "input = sys.stdin.readline\n",
        "\n",
        "def ccw(list_vector):                                           # 리스트에 있는 세 점으로 방향을 판단하는 함수\n",
        "    x = list_vector[0]                                              # 첫번째 좌표\n",
        "    y = list_vector[1]                                              # 두번째 좌표\n",
        "    z = list_vector[2]                                              # 세번째 좌표\n",
        "    \n",
        "    t = (y[0] - x[0])*(z[1] - x[1]) - (y[1] - x[1]) * (z[0] - x[0]) # x -> y, y -> z 벡터를 u, v로 두고 외적한 값\n",
        "\n",
        "    if t > 0:                                                       # 외적한 값이 양수이면\n",
        "        return 1                                                        # 오른손의 법칙에 의해 반시계 방향을 나타낸다\n",
        "    elif t == 0:                                                    # 외적한 값이 0 이면\n",
        "        return 0                                                        # 따로 방향이 없으므로 일직선임을 나타낸다\n",
        "    else:                                                           # 외적한 값이 음수이면\n",
        "        return -1                                                       # 오른손의 법칙에 의해 시계 방향을 나타낸다.\n",
        "\n",
        "def main():                                     # 메인 함수\n",
        "    t = []                                          # 좌표 평면위의 3 점을 담을 리스트\n",
        "    for _ in range(3):                              # 3번 반복\n",
        "        t.append(list(map(int, input().split())))       # 리스트에 각 좌표 입력\n",
        "    \n",
        "    print(ccw(t))                                   # 판단한 방향을 출력\n",
        "\n",
        "if __name__ == '__main__':  # 프로그램 시작점 지정\n",
        "    main()                      # 메인 함수 실행"
      ],
      "execution_count": null,
      "outputs": []
    },
    {
      "cell_type": "markdown",
      "metadata": {
        "id": "BjBgQ5WJ302e"
      },
      "source": [
        "#### 17386번(*)"
      ]
    },
    {
      "cell_type": "code",
      "metadata": {
        "id": "OSarC7kz302f"
      },
      "source": [
        "### https://velog.io/@jini_eun/%EB%B0%B1%EC%A4%80-17386%EB%B2%88-%EC%84%A0%EB%B6%84-%EA%B5%90%EC%B0%A8-1-Java-Python\n",
        "import sys\n",
        "sys.setrecursionlimit(int(1e9))\n",
        "input = sys.stdin.readline\n",
        "\n",
        "def ccw(list_vector):                                           # 리스트에 있는 세 점으로 방향을 판단하는 함수\n",
        "    x = list_vector[:2]                                             # 첫번째 좌표\n",
        "    y = list_vector[2:4]                                            # 두번째 좌표\n",
        "    z = list_vector[4:]                                             # 세번째 좌표\n",
        "    \n",
        "    t = (y[0] - x[0])*(z[1] - x[1]) - (y[1] - x[1]) * (z[0] - x[0]) # x -> y, y -> z 벡터를 u, v로 두고 외적한 값\n",
        "\n",
        "    if t > 0:                                                       # 외적한 값이 양수이면\n",
        "        return 1                                                        # 오른손의 법칙에 의해 반시계 방향을 나타낸다\n",
        "    elif t == 0:                                                    # 외적한 값이 0 이면\n",
        "        return 0                                                        # 따로 방향이 없으므로 일직선임을 나타낸다\n",
        "    else:                                                           # 외적한 값이 음수이면\n",
        "        return -1                                                       # 오른손의 법칙에 의해 시계 방향을 나타낸다.\n",
        "        \n",
        "def main():                                                     # 메인 함수\n",
        "    l1 = list(map(int ,input().split()))                            # 첫번째 선 입력\n",
        "    l2 = list(map(int ,input().split()))                            # 두번째 선 입력\n",
        "\n",
        "    # 각 선의 관점에서 다른 선의 양 끝점이 서로 반대편에 있으면 두 선분이 교차 한다.\n",
        "    if ccw(l1 + l2[:2]) * ccw(l1 + l2[2:]) < 0 and ccw(l2 + l1[:2]) * ccw(l2 + l1[2:]) < 0: # 두 선이 겹치면\n",
        "        print(1)                                                        # 1 출력\n",
        "    else:                                                           # 겹치지 않으면\n",
        "        print(0)                                                        # 0 출력\n",
        "\n",
        "if __name__ == '__main__':  # 프로그램 시작점 지정\n",
        "    main()                      # 메인 함수 실행"
      ],
      "execution_count": null,
      "outputs": []
    },
    {
      "cell_type": "markdown",
      "metadata": {
        "id": "YMKx3SBSevNQ"
      },
      "source": [
        "####   17387번"
      ]
    },
    {
      "cell_type": "code",
      "metadata": {
        "id": "hm3yDakbevNR"
      },
      "source": [
        "import sys\n",
        "sys.setrecursionlimit(int(1e9))\n",
        "input = sys.stdin.readline\n",
        "\n",
        "def ccw(list_vector):                                           # 리스트에 있는 세 점으로 방향을 판단하는 함수\n",
        "    x = list_vector[:2]                                             # 첫번째 좌표\n",
        "    y = list_vector[2:4]                                            # 두번째 좌표\n",
        "    z = list_vector[4:]                                             # 세번째 좌표\n",
        "    \n",
        "    t = (y[0] - x[0])*(z[1] - x[1]) - (y[1] - x[1]) * (z[0] - x[0]) # x -> y, y -> z 벡터를 u, v로 두고 외적한 값\n",
        "\n",
        "    if t > 0:                                                       # 외적한 값이 양수이면\n",
        "        return 1                                                        # 오른손의 법칙에 의해 반시계 방향을 나타낸다\n",
        "    elif t == 0:                                                    # 외적한 값이 0 이면\n",
        "        return 0                                                        # 따로 방향이 없으므로 일직선임을 나타낸다\n",
        "    else:                                                           # 외적한 값이 음수이면\n",
        "        return -1                                                       # 오른손의 법칙에 의해 시계 방향을 나타낸다.\n",
        "        \n",
        "def main():                                             # 메인 함수\n",
        "    l1 = list(map(int ,input().split()))                    # 첫번째 선 입력\n",
        "    l2 = list(map(int ,input().split()))                    # 두번째 선 입력\n",
        "    \n",
        "    l1_angle = ccw(l1 + l2[:2]) * ccw(l1 + l2[2:])          # 첫번째 선 관정에서의 두 점의 위치\n",
        "    l2_angle = ccw(l2 + l1[:2]) * ccw(l2 + l1[2:])          # 두번째 선 관정에서의 두 점의 위치\n",
        "\n",
        "    if l1_angle == 0 and l2_angle == 0:                     # 네 점이 일직선이거나 적어도 세 점이 일직선 일 경우\n",
        "        ax, bx = min(l1[0], l1[2]), max(l1[0], l1[2])           # 첫 번째 선의 작은 x, 큰 x 구분\n",
        "        ay, by = min(l1[1], l1[3]), max(l1[1], l1[3])           # 첫 번째 선의 작은 y, 큰 y 구분\n",
        "\n",
        "        cx, dx = min(l2[0], l2[2]), max(l2[0], l2[2])           # 두 번째 선의 작은 x, 큰 x 구분\n",
        "        cy, dy = min(l2[1], l2[3]), max(l2[1], l2[3])           # 두 번째 선의 작은 y, 큰 y 구분\n",
        "\n",
        "        if cx <= bx and ax <= dx and cy <= by and ay <= dy:     # 두 선이 적어도 어느 한점에서 겹치면\n",
        "            print(1)                                                # 1 출력\n",
        "        else:                                                   # 겹치지 않으면\n",
        "            print(0)                                                # 0 출력\n",
        "\n",
        "    # 각 선의 관점에서 다른 선의 양 끝점이 서로 반대편에 있으면 두 선분이 교차 한다.        \n",
        "    elif l1_angle <= 0 and l2_angle <= 0:                   # 두 선이 한 점에서 겹치면\n",
        "        print(1)                                                # 1 출력\n",
        "    else:                                                   # 겹치지 않으면\n",
        "        print(0)                                                # 0 출력\n",
        "    \n",
        "if __name__ == '__main__':  # 프로그램 시작점 지정\n",
        "    main()                      # 메인 함수 실행"
      ],
      "execution_count": null,
      "outputs": []
    },
    {
      "cell_type": "markdown",
      "metadata": {
        "id": "Cm1OSu2SevNR"
      },
      "source": [
        "####   20149번"
      ]
    },
    {
      "cell_type": "code",
      "metadata": {
        "id": "-BxdxzxUevNS"
      },
      "source": [
        "import sys\n",
        "sys.setrecursionlimit(int(1e9))\n",
        "input = sys.stdin.readline\n",
        "\n",
        "def ccw(list_vector):                                           # 리스트에 있는 세 점으로 방향을 판단하는 함수\n",
        "    x = list_vector[:2]                                             # 첫번째 좌표\n",
        "    y = list_vector[2:4]                                            # 두번째 좌표\n",
        "    z = list_vector[4:]                                             # 세번째 좌표\n",
        "    \n",
        "    t = (y[0] - x[0])*(z[1] - x[1]) - (y[1] - x[1]) * (z[0] - x[0]) # x -> y, y -> z 벡터를 u, v로 두고 외적한 값\n",
        "\n",
        "    if t > 0:                                                       # 외적한 값이 양수이면\n",
        "        return 1                                                        # 오른손의 법칙에 의해 반시계 방향을 나타낸다\n",
        "    elif t == 0:                                                    # 외적한 값이 0 이면\n",
        "        return 0                                                        # 따로 방향이 없으므로 일직선임을 나타낸다\n",
        "    else:                                                           # 외적한 값이 음수이면\n",
        "        return -1                                                       # 오른손의 법칙에 의해 시계 방향을 나타낸다.\n",
        "\n",
        "def linear(x,a,b,grad):     # 선분의 y 값 계산 함수\n",
        "    return grad*(x-a) + b       # y값 반환\n",
        "\n",
        "def findPoint(list_1, list_2):              # 겹치는 x, y 찾는 함수\n",
        "    x1, y1, x2, y2 = map(int, list_1)           # 첫번째 선 분할\n",
        "    x3, y3, x4, y4 = map(int, list_2)           # 두번째 선 분할\n",
        "    \n",
        "    if (x2 - x1) == 0:                          # 만약 첫번째 선이 y = a 형태의 상수 항이면\n",
        "        l2_grad = (y4 - y3) / (x4 - x3)             # UnboundLocalError, 먼저 l2의 기울기 선언하지 않았기에 계산해줘야 함\n",
        "        return [x1, linear(x1,x3,y3,l2_grad)]       # y = x1 상수항과 두번째 선의 겹치는 지점 반환\n",
        "\n",
        "    l1_grad = (y2 - y1) / (x2 - x1)             # 첫번째 선의 기울기 계산\n",
        "\n",
        "    if (x4 - x3) == 0:                          # 만약 두번째 선이 y = a 형태의 상수 항이면\n",
        "        return [x3, linear(x3,x1,y1,l1_grad)]       # y = x3 상수항과 첫번째 선의 겹치는 지점 반환\n",
        "\n",
        "    l2_grad = (y4 - y3) / (x4 - x3)             # 두번째 선의 기울기 계산\n",
        "\n",
        "    res = (l1_grad * x1 - l2_grad * x3 - y1 + y3) / (l1_grad - l2_grad) # 두 선의 겹치는 부분의 x 계산\n",
        "    return [res, linear(res,x1,y1,l1_grad)]     # 두 선의 겹치는 x와 y값 반환\n",
        "\n",
        "\n",
        "def main():                                                     # 메인 함수\n",
        "    l1 = list(map(int ,input().split()))                            # 첫번째 선 입력\n",
        "    l2 = list(map(int ,input().split()))                            # 두번째 선 입력\n",
        "\n",
        "    # 17387 과 다르게 l1_123, l1_124를 나눈 이유는 정확히 네 점이 일직선에 있음을 표시하기 위해\n",
        "    l1_123 = ccw(l1 + l2[:2])                                       # 첫번째 선에서 두번째 선의 한 점 방향 계산\n",
        "    l1_124 = ccw(l1 + l2[2:])                                       # 첫번째 선에서 두번째 선의 한 점 방향 계산\n",
        "    \n",
        "    l2_341 = ccw(l2 + l1[:2])                                       # 두번째 선에서 첫번째 선의 한 점 방향 계산\n",
        "    l2_342 = ccw(l2 + l1[2:])                                       # 두번째 선에서 첫번째 선의 한 점 방향 계산\n",
        "\n",
        "\n",
        "    if l1_123 == 0 and l1_124 == 0 and l2_341 == 0 and l2_342 == 0: # 4 점이 일직선이면\n",
        "        ax, bx = min(l1[0], l1[2]), max(l1[0], l1[2])                   # 첫 번째 선의 작은 x, 큰 x 구분\n",
        "        ay, by = min(l1[1], l1[3]), max(l1[1], l1[3])                   # 첫 번째 선의 작은 y, 큰 y 구분\n",
        "\n",
        "        cx, dx = min(l2[0], l2[2]), max(l2[0], l2[2])                   # 두 번째 선의 작은 x, 큰 x 구분\n",
        "        cy, dy = min(l2[1], l2[3]), max(l2[1], l2[3])                   # 두 번째 선의 작은 y, 큰 y 구분\n",
        "\n",
        "        \n",
        "        if (cx == bx or ax == dx) and (cy == by or ay == dy):           # 두 선분이 한점에서 겹침\n",
        "            print(1)                                                        # 1 출력\n",
        "            for i in range(0,4,2):                                          # 0, 2 반복\n",
        "                for j in range(0,4,2):                                          # 0, 2 반복\n",
        "                    if [l1[i], l1[i+1]] == [l2[j], l2[j+1]]:                        # 두 점이 일치하면\n",
        "                        print(l1[i], l1[i+1])                                           # 일치하는 점 출력\n",
        "                        return                                                          # 메인 함수 종료\n",
        "\n",
        "        elif cx <= bx and ax <= dx and cy <= by and ay <= dy:           # 두 선분이 선으로 겹침\n",
        "            print(1)                                                        # 1 츨력\n",
        "\n",
        "        else:                                                           # 겹치지 않으면\n",
        "            print(0)                                                        # 0 출력\n",
        "  \n",
        "    elif l1_123 * l1_124 <= 0 and l2_341 * l2_342 <= 0:             # 네 점이 일직선이 아니고 한 점에서 겹치면\n",
        "        print(1)                                                        # 1 출력\n",
        "        print(*findPoint(l1, l2))                                       # 두 선의 겹치는 위치 출력\n",
        "    else:                                                           # 겹치지 않으면\n",
        "        print(0)                                                        # 0 출력\n",
        "    \n",
        "if __name__ == '__main__':  # 프로그램 시작점 지정\n",
        "    main()                      # 메인 함수 실행"
      ],
      "execution_count": null,
      "outputs": []
    },
    {
      "cell_type": "markdown",
      "metadata": {
        "id": "-lMNyxheevNS"
      },
      "source": [
        "####   2162번"
      ]
    },
    {
      "cell_type": "code",
      "metadata": {
        "id": "CUAwF7ORevNS"
      },
      "source": [
        "### python : 시간초과, pypy3로 풀이\n",
        "import sys\n",
        "#sys.setrecursionlimit(int(1e9)) => pypy3 로 진행하니까 메모리 초과가 안뜸\n",
        "input = sys.stdin.readline\n",
        "\n",
        "def findParent(x):      # 부모 노드 찾는 함수\n",
        "    if s[x] == x:           # 자신이 부모 노드이면\n",
        "        return x                # 자신 return\n",
        "\n",
        "    s[x] = findParent(s[x]) # 부모 노드가 아니면, x의 부모노드로 변환\n",
        "    return s[x]             # 결론적으로 x가 속한 집합의 root 반환\n",
        "\n",
        "def union(a, b):        # 합집합 연산\n",
        "    x = findParent(a)\n",
        "    y = findParent(b)\n",
        "    if x < y:               # x 보다 y의 노드가 작으면\n",
        "        s[y] = x                # y -> x 로 변환\n",
        "    else:                   # 그 이외이면\n",
        "        s[x] = y                # x -> y 로 변환\n",
        "\n",
        "def ccw(l1, l2, l3):                                           # 리스트에 있는 세 점으로 방향을 판단하는 함수\n",
        "    t = (l2[0] - l1[0]) * (l3[1] - l1[1]) - (l2[1] - l1[1]) * (l3[0] - l1[0])   # 세 점의 ccw 계산\n",
        "\n",
        "    if t > 0:                                                       # 외적한 값이 양수이면\n",
        "        return 1                                                        # 오른손의 법칙에 의해 반시계 방향을 나타낸다\n",
        "    elif t == 0:                                                    # 외적한 값이 0 이면\n",
        "        return 0                                                        # 따로 방향이 없으므로 일직선임을 나타낸다\n",
        "    else:                                                           # 외적한 값이 음수이면\n",
        "        return -1                                                       # 오른손의 법칙에 의해 시계 방향을 나타낸다.\n",
        "\n",
        "def check_ccw(l1,l2,l3,l4):                             # 두 선분의 교차 여부 판단 함수\n",
        "\n",
        "    l1_angle = ccw(l1, l2, l3) * ccw(l1, l2, l4)            # 첫번째 선 관정에서의 두 점의 위치\n",
        "    l2_angle = ccw(l3, l4, l1) * ccw(l3, l4, l2)            # 두번째 선 관정에서의 두 점의 위치\n",
        "\n",
        "    if l1_angle == 0 and l2_angle == 0:                     # 네 점이 일직선이거나 적어도 세 점이 일직선 일 경우\n",
        "        ax, bx = min(l1[0], l2[0]), max(l1[0], l2[0])           # 첫 번째 선의 작은 x, 큰 x 구분\n",
        "        ay, by = min(l1[1], l2[1]), max(l1[1], l2[1])           # 첫 번째 선의 작은 y, 큰 y 구분\n",
        "\n",
        "        cx, dx = min(l3[0], l4[0]), max(l3[0], l4[0])           # 두 번째 선의 작은 x, 큰 x 구분\n",
        "        cy, dy = min(l3[1], l4[1]), max(l3[1], l4[1])           # 두 번째 선의 작은 y, 큰 y 구분\n",
        "\n",
        "        if cx <= bx and ax <= dx and cy <= by and ay <= dy:     # 두 선이 적어도 어느 한점에서 겹치면\n",
        "            return True                                             # True 반환\n",
        "\n",
        "    # 각 선의 관점에서 다른 선의 양 끝점이 서로 반대편에 있으면 두 선분이 교차 한다.        \n",
        "    elif l1_angle <= 0 and l2_angle <= 0:                   # 두 선이 한 점에서 겹치면\n",
        "        return True                                             # True 반환\n",
        "    else:                                                   # 겹치지 않으면\n",
        "        return False                                            # False 반환\n",
        "\n",
        "\n",
        "def main():                                             # 메인 함수\n",
        "    global s                                                # 글로벌 변수 지정\n",
        "    n = int(input())                                        # 선분의 개수 n 입력\n",
        "\n",
        "    linear_list = []                                        # 선을 저장할 리스트 생성\n",
        "    s = []                                                  # 선의 그룹을 표시할 리스트 생성\n",
        "    for i in range(n):                                      # 선의 개수만큼 반복\n",
        "        linear_list.append(list(map(int ,input().split()))) # 선 입력\n",
        "        s.append(i)                                         # 해당 선의 그룹 입력\n",
        "\n",
        "    for i in range(n-1):                                    # 0 ~ n-1 번 반복\n",
        "        for j in range(i,n):                                    # i ~ n 번 반복\n",
        "            xy1 = linear_list[i][:2]                                # i번째 선분의 첫번째 점 입력\n",
        "            xy2 = linear_list[i][2:]                                # i번째 선분의 두번째 점 입력\n",
        "            xy3 = linear_list[j][:2]                                # j번째 선분의 첫번째 점 입력\n",
        "            xy4 = linear_list[j][2:]                                # j번째 선분의 두번째 점 입력\n",
        "\n",
        "            if check_ccw(xy1, xy2, xy3, xy4):                       # 두 선분이 겹치는 지 확인\n",
        "                union(i, j)                                             # i와 j 번째 선분 union 처리\n",
        "\n",
        "    result_set = {}                                         # 결과 dict 형태 생성\n",
        "    for i in range(n):                                      # 모든 선분 반복\n",
        "        res = findParent(s[i])                                  # i번째 선분이 속한 그룹의 root 검색\n",
        "        if res in result_set:                                   # root가 결과 사전에 있다면\n",
        "            result_set[res] += 1                                    # 1 증가\n",
        "        else:                                                   # 없다면\n",
        "            result_set[res] = 1                                     # 해당 root 결과 사전에 생성\n",
        "\n",
        "    print(len(result_set))                                  # 그룹의 개수 출력\n",
        "    print(max(result_set.values()))                         # 가장 크기가 큰 그룹에 속한 선분의 개수 출력\n",
        "\n",
        "if __name__ == '__main__':  # 프로그램 시작점 지정\n",
        "    main()                      # 메인 함수 실행"
      ],
      "execution_count": null,
      "outputs": []
    },
    {
      "cell_type": "markdown",
      "metadata": {
        "id": "W1bsY1TGewVw"
      },
      "source": [
        "####   7869번"
      ]
    },
    {
      "cell_type": "code",
      "metadata": {
        "id": "IlET16EJewVw"
      },
      "source": [
        "import sys, math\n",
        "sys.setrecursionlimit(int(1e9))\n",
        "input = sys.stdin.readline\n",
        "\n",
        "def theta(r1, r2, m):                                               # radian 구하는 함수\n",
        "    return 2 * math.acos( (m ** 2 + r1 ** 2 - r2 ** 2) / (2 * r1 * m )) # 제 2 cos 법칙과 역cos을 사용\n",
        "\n",
        "def main():                                             # 메인 함수\n",
        "    x1, y1, r1, x2, y2, r2 = map(float, input().split())    # 각 원소값 입력\n",
        "\n",
        "    middle = ((x1 - x2) ** 2 + (y1 - y2) ** 2) ** 0.5       # 두 원점 사이의 거리 입력\n",
        "\n",
        "    pi = math.pi                                            # 파이 값 생성\n",
        "\n",
        "    result = 0                                              # 결과 변수 생성\n",
        "    if middle > r1 + r2:                                    # 두 원이 떨어져 있으면\n",
        "        result = 0                                              # 겹치는 넓이 = 0\n",
        "    elif max(r1, r2) >= middle + min(r1,r2):                # 한 원안에 다른 원이 있으면\n",
        "        result = (min(r1, r2) ** 2) * pi                        # 넓이 = 작은 원의 넓이\n",
        "    else:                                                   # 두 점에서 만나는 경우\n",
        "        theta1 = theta(r1,r2,middle)                            # 1 번째 원의 radian\n",
        "        theta2 = theta(r2,r1,middle)                            # 2 번째 원의 radian\n",
        "        S1 = 0.5 * (r1 ** 2) * (theta1 - math.sin(theta1))      # 겹치는 부분 중 1 번째 원 쪽의 삼각형 넓이\n",
        "        S2 = 0.5 * (r2 ** 2) * (theta2 - math.sin(theta2))      # 겹치는 부분 중 2 번째 원 쪽의 삼각형 넓이\n",
        "        result = S1 + S2                                        # 두 삼각형의 합\n",
        "\n",
        "    print('{0:.3f}'.format(round(result, 3)))               # 결과 값 라운드 처리 후 세자리 까지 출력\n",
        "\n",
        "if __name__ == '__main__':  # 프로그램 시작점 지정\n",
        "    main()                      # 메인 함수 실행"
      ],
      "execution_count": null,
      "outputs": []
    },
    {
      "cell_type": "markdown",
      "metadata": {
        "id": "jz9aOmpkewVw"
      },
      "source": [
        "####   1069번"
      ]
    },
    {
      "cell_type": "code",
      "metadata": {
        "id": "glrFpDMtewVx"
      },
      "source": [
        "import sys\n",
        "sys.setrecursionlimit(int(1e9))\n",
        "input = sys.stdin.readline\n",
        "\n",
        "def main():                             # 메인 함수\n",
        "    x, y, d, t = map(int, input().split())  # 각 정수 입력\n",
        "\n",
        "    dist = (x ** 2 + y ** 2) ** 0.5         # 집까지 걸리는 거리\n",
        "    \n",
        "    time = t * (dist // d)                  # 집 근처까지 점프하는데 걸린 시간\n",
        "\n",
        "    if time == 0:                           # 집과 시작지점 그리고 꺽는 부분이 둔각일 경우\n",
        "        print(min(dist,                     # 집까지 걸어가는 시간\n",
        "                  2*t,                      # 한번 더 점프로 꺽어서 들어가는 시간\n",
        "                  t + (d - dist)))          # 나머지 거리는 걸어간 시간\n",
        "\n",
        "    else:                                   # 집과 시작지점 그리고 꺽는 부분이 예각일 경우\n",
        "        left_dist = (dist % d)              # 점프한 후 집까지 남은 거리\n",
        "        print(min(dist,                     # 집까지 걸어가는 시간\n",
        "                  time + left_dist,         # 나머지 거리는 걸어간 시간\n",
        "                  time + t))                # 한번 더 점프로 꺽어서 들어가는 시간\n",
        "    \n",
        "if __name__ == '__main__':  # 프로그램 시작점 지정\n",
        "    main()                      # 메인 함수 실행"
      ],
      "execution_count": null,
      "outputs": []
    },
    {
      "cell_type": "markdown",
      "metadata": {
        "id": "fwCGk-rKnTUM"
      },
      "source": [
        "### 34 단계 : 동적 계획법 3(비트마스크, 원형 구성)===========**"
      ]
    },
    {
      "cell_type": "markdown",
      "metadata": {
        "id": "sYf1TsbxnTUM"
      },
      "source": [
        "#### 11723번"
      ]
    },
    {
      "cell_type": "code",
      "metadata": {
        "id": "agBW5v1PnTUN"
      },
      "source": [
        "import sys\n",
        "sys.setrecursionlimit(int(1e9))\n",
        "input = sys.stdin.readline\n",
        "\n",
        "def main():                     # 메인 함수\n",
        "    s = [False] * 21                # 리스트로 진행하였지만 set() 함수 진행이 시간 복잡도에 더 좋음\n",
        "    # s = set()\n",
        "    for _ in range(int(input())):   # 입력 받은 수 만큼 반복\n",
        "        t = input().split()             # 입력값 입력\n",
        "\n",
        "        if t[0] == 'add':               # 입력값의 커맨드가 add 일 경우\n",
        "            if not s[int(t[1])]:            # 숫자의 값이 존재하지 않으면\n",
        "                s[int(t[1])] = True             # 해당 값 존재하는 것으로 변경\n",
        "            # s.add(int(t[0]))\n",
        "\n",
        "        elif t[0] == 'remove':          # 입력값의 커맨드가 remove 일 경우\n",
        "            s[int(t[1])] = False            # 해당 값이 존재하지 않는 것으로 변경\n",
        "            # s.discard(int(t[1]))\n",
        "        \n",
        "        elif t[0] == 'check':           # 입력값의 커맨드가 check 일 경우\n",
        "            if s[int(t[1])]:                # 해당 값이 존재하면\n",
        "                print(1)                        # 1 출력\n",
        "            else:                           # 존재하지 않으면\n",
        "                print(0)                        # 0 출력\n",
        "            #print(1 if int(t[1]) in s else 0)\n",
        "        \n",
        "        elif t[0] == 'toggle':          # 입력값의 커맨드가 toggle 일 경우\n",
        "            if not s[int(t[1])]:            # 숫자의 값이 존재하지 않으면\n",
        "                s[int(t[1])] = True             # 존재하는 것으로 변경  \n",
        "            else:                           # 존재하면\n",
        "                s[int(t[1])] = False            # 존재하지 않는 것으로 변경\n",
        "            #if int(t[1]) in s:\n",
        "            #    s.discard(int(t[1]))\n",
        "            #else:\n",
        "            #    s.add(int(t[1]))\n",
        "\n",
        "        elif t[0] == 'all':             # 입력값의 커맨드가 all 일 경우\n",
        "            s = [True] * 21                 # s를 차있는 것으로 reset\n",
        "            # s = set([i for i in range(1,21)])\n",
        "\n",
        "        elif t[0] == 'empty':           # 입력값의 커맨드가 empty 일 경우\n",
        "            s = [False] * 21                # s를 비어있는 것으로 reset\n",
        "            # s = set()\n",
        "    \n",
        "if __name__ == '__main__':  # 프로그램 시작점 지정\n",
        "    main()                      # 메인 함수 실행"
      ],
      "execution_count": null,
      "outputs": []
    },
    {
      "cell_type": "markdown",
      "metadata": {
        "id": "YTYcjpPmy4pj"
      },
      "source": [
        "####  1311번(*)"
      ]
    },
    {
      "cell_type": "code",
      "metadata": {
        "id": "bKiCbAb1y4pk"
      },
      "source": [
        "### python : 시간 초과, pypy3 = 통과\n",
        "### 코드 이해가 어려웠음.(한번 더 코드 review 진행 필요)\n",
        "# https://vitriol95.github.io/posts/boj1311/\n",
        "# https://ca.ramel.be/144\n",
        "# 행을 n개의 작업 열을 비트 마스킹하여 진행, dp는 bottom-up 형식\n",
        "# 비트마스크 111은 모두 일을 하고 있는상태, 101은 두번째 작업자가 정해지지 않은 상태.\n",
        "\n",
        "import sys\n",
        "#sys.setrecursionlimit(int(1e9)). pypy3 풀이시 적으면 메모리 초과가 뜸.\n",
        "input = sys.stdin.readline\n",
        "\n",
        "def dfs(x,visited):                 # DFS 함수 생성 (행, 방문 비트 마스크)\n",
        "    global n, m, dp                     # 글로벌 변수 지정\n",
        "    if visited == (1 << n) - 1:         # visited 즉, 모든 작업을 진행한 열에 진입하면\n",
        "        return 0                            # 0 반환\n",
        "    \n",
        "    if dp[x][visited] != -1:            # 이미 계산한 비트 마스크이면\n",
        "        return dp[x][visited]               # 계산된 값 반환\n",
        "\n",
        "    dp[x][visited] = float('inf')       # 해당 요소에 계산된 값이 들어 갈 수 있도록 최대값 입력\n",
        "\n",
        "    for i in range(n):                  # 행 수 만큼 반복\n",
        "        if visited & (1 << i):              # 방문 비트마스크와 (1 << i) 작업이 겹치면\n",
        "            continue                            # 다음 i 진행\n",
        "        \n",
        "        dp[x][visited] = min(dp[x][visited], dfs(x + 1, visited | (1 << i)) + m[x][i]) # 최소값\n",
        "        \n",
        "    return dp[x][visited]               # x행 visited 열 반환\n",
        "\n",
        "def main():                                     # 메인 함수\n",
        "    global n, m, dp                                 # 글로벌 변수 지정\n",
        "    n = int(input())                                # 정수 값 입력\n",
        "\n",
        "    m = []                                          # 행렬 담을 리스트 생성\n",
        "    for _ in range(n):                              # 행렬 행 만큼 반복\n",
        "        m.append(list(map(int, input().split())))       # 행렬 리스트에 정수 입력 값들 입력\n",
        "    \n",
        "    dp = [[-1] * (1 << n) for _ in range(n)]        # n행 2 ** n 열 생성\n",
        "    \n",
        "    print(dfs(0,0))                                 # 0,0 dfs 실행\n",
        "    \n",
        "if __name__ == '__main__':  # 프로그램 시작점 지정\n",
        "    main()                      # 메인 함수 실행"
      ],
      "execution_count": null,
      "outputs": []
    },
    {
      "cell_type": "markdown",
      "metadata": {
        "id": "0HVOrm1Ty47A"
      },
      "source": [
        "####  2098번"
      ]
    },
    {
      "cell_type": "code",
      "metadata": {
        "id": "jMcHmPcsy47B"
      },
      "source": [
        "import sys\n",
        "sys.setrecursionlimit(int(1e9))\n",
        "input = sys.stdin.readline\n",
        "\n",
        "def dfs(x,visited):                 # DFS 함수 생성 (행, 방문 비트 마스크)\n",
        "    global n, m, dp                     # 글로벌 변수 지정\n",
        "    if visited == (1 << n) - 1:         # visited 즉, 모든 작업을 진행한 열에 진입하면\n",
        "        if m[x][0]:\n",
        "            return m[x][0]\n",
        "        else:\n",
        "            return float('inf')                            # 0 반환\n",
        "\n",
        "    if dp[x][visited] != -1:            # 이미 계산한 비트 마스크이면\n",
        "        return dp[x][visited]               # 계산된 값 반환\n",
        "\n",
        "    dp[x][visited] = float('inf')       # 해당 요소에 계산된 값이 들어 갈 수 있도록 최대값 입력\n",
        "\n",
        "    for i in range(n):                  # 행 수 만큼 반복\n",
        "        if not m[x][i] or visited & (1 << i):  # 방문 비트마스크와 (1 << i) 작업이 겹치거나 경로가 없다면\n",
        "            continue                            # 다음 i 진행\n",
        "        \n",
        "        dp[x][visited] = min(dp[x][visited], dfs(i, visited | (1 << i)) + m[x][i]) # 최소값\n",
        "        \n",
        "    return dp[x][visited]               # x행 visited 열 반환\n",
        "\n",
        "\n",
        "def main():\n",
        "    global dp,n, m\n",
        "    n = int(input())\n",
        "    m = []\n",
        "    for _ in range(n):\n",
        "        m.append(list(map(int, input().split())))\n",
        "    \n",
        "    dp = [[-1]*(1 << n) for _ in range(n)]\n",
        "    print(dfs(0,1))\n",
        "    \n",
        "if __name__ == '__main__':  # 프로그램 시작점 지정\n",
        "    main()                      # 메인 함수 실행"
      ],
      "execution_count": null,
      "outputs": []
    },
    {
      "cell_type": "markdown",
      "metadata": {
        "id": "Bw4gARpNy5BK"
      },
      "source": [
        "####  (*못건들임)1086번"
      ]
    },
    {
      "cell_type": "code",
      "metadata": {
        "id": "FLEP6SoAy5BL"
      },
      "source": [
        "# https://cantcoding.tistory.com/2\n",
        "# 개인적으로 제일 어려움. 이해가 아직 덜 됨.\n",
        "# pypy3 제출\n",
        "\n",
        "import sys, math\n",
        "sys.setrecursionlimit(int(1e9))\n",
        "input = sys.stdin.readline\n",
        "\n",
        "def dfs(L,visit,rest):\n",
        "    global dp, long, rm, k, n\n",
        "\n",
        "    if visit==(1<<n)-1:\n",
        "        if rest==0:\n",
        "            return 1\n",
        "        else:\n",
        "            return 0\n",
        "    if dp[visit][rest]!=-1:\n",
        "        return dp[visit][rest]\n",
        "    for i in range(n):\n",
        "        if visit&(1<<i)==0:\n",
        "            dp[visit][rest]+=dfs(L+long[i],visit|(1<<i),(rest+rm[i][L])%k)\n",
        "    dp[visit][rest]+=1\n",
        "    return dp[visit][rest]\n",
        "\n",
        "def main():\n",
        "    global dp, long, rm, k, n\n",
        "    n = int(input())\n",
        "\n",
        "    s = []\n",
        "    for _ in range(n):\n",
        "        s.append(int(input()))\n",
        "    \n",
        "    k = int(input())\n",
        "\n",
        "    dp = [[-1] * k for _ in range(1<<n)]\n",
        "\n",
        "    long = []\n",
        "    for i in s:\n",
        "        long.append(len(str(i)))\n",
        "\n",
        "    rm = [[-1]*(sum(long)) for _ in range(n)]\n",
        "    for i in range(n):\n",
        "        for j in range(sum(long)):\n",
        "            rm[i][j] = s[i] * pow(10,j) % k #pow(s[i]*10,j,k)\n",
        "    \n",
        "    t = dfs(0,0,0)\n",
        "\n",
        "    if not t:\n",
        "        print('0/1')\n",
        "        return\n",
        "\n",
        "    denom = math.factorial(n)\n",
        "    v = math.gcd(denom, dp[0][0])\n",
        "    print(f'{t//v}/{denom//v}')\n",
        "    \n",
        "if __name__ == '__main__':  # 프로그램 시작점 지정\n",
        "    main()                      # 메인 함수 실행\n",
        "\n",
        "\n",
        "'''\n",
        "python3 정답\n",
        "제출번호 : 36922500, 아이다 : teferi00\n",
        "import math\n",
        "\n",
        "def main():\n",
        "    N = int(input())\n",
        "    nums = [input() for _ in range(N)]\n",
        "    K = int(input())\n",
        "\n",
        "    num_mods = [(pow(10, len(num), K), int(num) % K) for num in nums]\n",
        "    bits = [1 << x for x in range(N)]\n",
        "    dp = [[0] * K for _ in range(1 << N)]\n",
        "    dp[0][0] = 1\n",
        "    for selected_cur, dp_cur in enumerate(dp):\n",
        "        for bit, (p, q) in zip(bits, num_mods):\n",
        "            if selected_cur & bit == 0:\n",
        "                continue\n",
        "            dp_prev = dp[selected_cur - bit]\n",
        "            for i in range(K):\n",
        "                dp_cur[(i * p + q) % K] += dp_prev[i]\n",
        "\n",
        "    denom = math.factorial(N)\n",
        "    numer = dp[-1][0]\n",
        "    g = math.gcd(denom, numer)\n",
        "    print(f'{numer // g}/{denom // g}')\n",
        "\n",
        "\n",
        "if __name__ == '__main__':\n",
        "    main()\n",
        "'''"
      ],
      "execution_count": null,
      "outputs": []
    },
    {
      "cell_type": "markdown",
      "metadata": {
        "id": "pyr7Rk9ay5Hq"
      },
      "source": [
        "####  17404번"
      ]
    },
    {
      "cell_type": "code",
      "metadata": {
        "id": "TtO6uNYUy5Hq"
      },
      "source": [
        "import sys\n",
        "sys.setrecursionlimit(int(1e9))\n",
        "input = sys.stdin.readline\n",
        "\n",
        "def main():\n",
        "    global n, m, dp\n",
        "    n = int(input())\n",
        "    m = []\n",
        "    for _ in range(n):\n",
        "        m.append(list(map(int, input().split())))\n",
        "    INF = float('inf')\n",
        "\n",
        "    result = INF\n",
        "    for i in range(3):\n",
        "        dp = [[INF] * 3 for _ in range(n)]\n",
        "        dp[0][i] = m[0][i]\n",
        "        for j in range(1, n):\n",
        "            dp[j][0] = m[j][0] + min(dp[j-1][1], dp[j-1][2])\n",
        "            dp[j][1] = m[j][1] + min(dp[j-1][0], dp[j-1][2])\n",
        "            dp[j][2] = m[j][2] + min(dp[j-1][0], dp[j-1][1])\n",
        "\n",
        "        for j in range(3):\n",
        "            if i == j:\n",
        "                continue\n",
        "            \n",
        "            result = min(result, dp[-1][j])\n",
        "    print(result)\n",
        "    \n",
        "if __name__ == '__main__':  # 프로그램 시작점 지정\n",
        "    main()                      # 메인 함수 실행"
      ],
      "execution_count": null,
      "outputs": []
    },
    {
      "cell_type": "markdown",
      "metadata": {
        "id": "-93NIS8dy5NX"
      },
      "source": [
        "####  (*)2482번"
      ]
    },
    {
      "cell_type": "code",
      "metadata": {
        "id": "VoOQKLiKy5NY"
      },
      "source": [
        "# https://ca.ramel.be/149\n",
        "import sys\n",
        "sys.setrecursionlimit(int(1e9))\n",
        "input = sys.stdin.readline\n",
        "\n",
        "def main():\n",
        "    n = int(input())\n",
        "    k = int(input())\n",
        "\n",
        "    dp = [[0]*(n+1) for i in range(n+1)]\n",
        "\n",
        "    for i in range(n + 1):\n",
        "        dp[i][0] = 1\n",
        "        dp[i][1] = i\n",
        "\n",
        "    for i in range(3, n + 1):\n",
        "        for j in range(2, int((i + 1) / 2)+1):\n",
        "            dp[i][j] = (dp[i - 1][j] + dp[i - 2][j - 1]) % (int(1e9) + 3)\n",
        "\n",
        "    print((dp[n - 3][k - 1] + dp[n - 1][k]) % (int(1e9) + 3))\n",
        "if __name__ == '__main__':  # 프로그램 시작점 지정\n",
        "    main()                      # 메인 함수 실행"
      ],
      "execution_count": null,
      "outputs": []
    },
    {
      "cell_type": "markdown",
      "metadata": {
        "id": "A1uz7OJKnZV5"
      },
      "source": [
        "### 35 단계 : ===========**"
      ]
    },
    {
      "cell_type": "markdown",
      "metadata": {
        "id": "HNMURhhYKntw"
      },
      "source": [
        "#### (*)1786번 : KMP 문제"
      ]
    },
    {
      "cell_type": "code",
      "metadata": {
        "id": "YQVWO7GVKm-a"
      },
      "source": [
        "# -*- coding: utf-8 -*-\n",
        "# UTF-8 encoding when using korean\n",
        "\n",
        "# boyer - mooer 알고리즘\n",
        "t = input()\n",
        "p = input()\n",
        "\n",
        "m = len(p)\n",
        "q = [0] * m\n",
        "\n",
        "k = 0\n",
        "for i in range(1,m):\n",
        "\twhile k > 0 and p[i] != p[k]:\n",
        "\t\tk = q[k-1]\n",
        "\tif p[i] == p[k]:\n",
        "\t\tk += 1\n",
        "\t\tq[i] = k\n",
        "\n",
        "#print(q) #[0,0,0,0,1,2,0]\n",
        "# p # ABCDABD\n",
        "res = []\n",
        "\n",
        "k = 0\n",
        "for i in range(len(t)):\t\n",
        "\twhile k > 0 and t[i] != p[k]:\n",
        "\t\tk = q[k-1]\n",
        "\t\t\n",
        "\tif t[i] == p[k]:\n",
        "\t\tif k == m - 1:\n",
        "\t\t\tres.append(i - m +2)\n",
        "\t\t\tk = q[k]\n",
        "\t\telse:\n",
        "\t\t\tk += 1\n",
        "\n",
        "print(len(res))\n",
        "print(*res)"
      ],
      "execution_count": null,
      "outputs": []
    },
    {
      "cell_type": "markdown",
      "metadata": {
        "id": "iOubY1LcnZV5"
      },
      "source": [
        "####  4354번"
      ]
    },
    {
      "cell_type": "code",
      "metadata": {
        "id": "6EJswhFQnZV5"
      },
      "source": [
        "# KMP의 failure function을 활용하는 문제 1\n",
        "import sys\n",
        "input = sys.stdin.readline\n",
        "\n",
        "def main():                             # 메인 함수\n",
        "    while True:                             # 무한 반복\n",
        "        t = input().rstrip('\\n')                # 문자열 입력\n",
        "        if t == '.':                            # 입력값이 '.' 이면\n",
        "            break                                   # 무한반복 종료\n",
        "        \n",
        "        l = len(t)                              # 문자열 길이 변수 생성\n",
        "\n",
        "        q = [0] * l                             # 문자열 match list 생성\n",
        "        k = 0                                   # 비교하는 문자열의 \n",
        "        for i in range(1,l):                    # KMP의 failure function\n",
        "            while k > 0 and t[i] != t[k]:           # k가 양수이고 i와 k 인덱스의 값이 다르다면\n",
        "                k = q[k-1]                              # k 는 q의 k-1 인덱스로 업데이트\n",
        "\n",
        "            if t[i] == t[k]:                    # i번째 인덱스와 k번째 인덱스가 같다면\n",
        "                k += 1                              # k 1 증가\n",
        "                q[i] = k                            # q의 i 번째 인덱스를 k로 업데이트\n",
        "\n",
        "        if q[-1] == max(q):                     # q의 마지막 값이 최댓값이고\n",
        "            if l % (l - q[-1]):                     # l이 (l - max(q)로 나누어 지지 않는다면(ex.abcdabcdabc) \n",
        "                print(1)                                # 1 출력\n",
        "            else:                                   # 나누어지면\n",
        "                print(l // (l - q[-1]))                 # 나눈 몫 출력\n",
        "        else:                                   # 최댓값이 아니라면 특정 문자열 a의 제곱이 안되므로\n",
        "            print(1)                                # 1 출력\n",
        "\n",
        "if __name__ == '__main__':  # 프로그램 시작점 지정\n",
        "    main()                      # 메인 함수 실행"
      ],
      "execution_count": null,
      "outputs": []
    },
    {
      "cell_type": "markdown",
      "metadata": {
        "id": "lwnpBG3RiuvV"
      },
      "source": [
        "####  1305번"
      ]
    },
    {
      "cell_type": "code",
      "metadata": {
        "id": "auQvVh4piuva"
      },
      "source": [
        "import sys\n",
        "sys.setrecursionlimit(int(1e9))\n",
        "input = sys.stdin.readline\n",
        "\n",
        "def main():\n",
        "    l = int(input())\n",
        "\n",
        "    s = input().rstrip('\\n')\n",
        "\n",
        "    q = [0] * l # 접두사 prefix와 접미사 suffix가 같은 부분 문자열중 가장 긴 것\n",
        "    k = 0\n",
        "    for i in range(1,l):\n",
        "        while k > 0 and s[i] != s[k]:\n",
        "            k = q[k-1]\n",
        "\n",
        "        if s[i] == s[k]:\n",
        "            k += 1\n",
        "            q[i] = k\n",
        "    \n",
        "    print(l-q[-1]) # 간단\n",
        "\n",
        "if __name__ == '__main__':  # 프로그램 시작점 지정\n",
        "    main()                      # 메인 함수 실행"
      ],
      "execution_count": null,
      "outputs": []
    },
    {
      "cell_type": "markdown",
      "metadata": {
        "id": "gzlV0rJYiuyu"
      },
      "source": [
        "####  10266번"
      ]
    },
    {
      "cell_type": "code",
      "metadata": {
        "id": "KzjA2h7Giuyu"
      },
      "source": [
        "import sys\n",
        "sys.setrecursionlimit(int(1e9))\n",
        "input = sys.stdin.readline\n",
        "\n",
        "def kmp(p, t):\n",
        "    m = len(p)\n",
        "    q = [0] * m\n",
        "\n",
        "    k = 0\n",
        "    for i in range(1,m):\n",
        "        while k > 0 and p[i] != p[k]:\n",
        "            k = q[k-1]\n",
        "        if p[i] == p[k]:\n",
        "            k += 1\n",
        "            q[i] = k\n",
        "\n",
        "    k = 0\n",
        "    for i in range(len(t)):\t\n",
        "        while k > 0 and t[i] != p[k]:\n",
        "            k = q[k-1]\n",
        "            \n",
        "        if t[i] == p[k]:\n",
        "            if k == m - 1:\n",
        "                return True\n",
        "            else:\n",
        "                k += 1\n",
        "    return False\n",
        "\n",
        "def main():\n",
        "    n = int(input())\n",
        "\n",
        "    A = list(map(int, input().split()))\n",
        "    B = list(map(int, input().split()))\n",
        "\n",
        "    A.sort()\n",
        "    B.sort()\n",
        "    B = B + B\n",
        "    l1 = [A[i] - A[i-1] for i in range(1,n)]\n",
        "    l2 = [B[i] - B[i-1] for i in range(1,2*n)]\n",
        "\n",
        "    def angle(x):\n",
        "        return x if x >= 0 else 360000 + x\n",
        "\n",
        "    l1 = list(map(angle, l1))\n",
        "    l2 = list(map(angle, l2))\n",
        "    \n",
        "    if kmp(l1, l2):\n",
        "        print('possible')\n",
        "    else:\n",
        "        print('impossible')\n",
        "    \n",
        "if __name__ == '__main__':  # 프로그램 시작점 지정\n",
        "    main()                      # 메인 함수 실행"
      ],
      "execution_count": null,
      "outputs": []
    },
    {
      "cell_type": "markdown",
      "metadata": {
        "id": "LcszqBMxiu2r"
      },
      "source": [
        "####  (*)14725번 : Trie 구조"
      ]
    },
    {
      "cell_type": "code",
      "metadata": {
        "id": "-D_rEavIiu2s"
      },
      "source": [
        "# https://developmentdiary.tistory.com/458\n",
        "# 트라이 구조\n",
        "import sys\n",
        "sys.setrecursionlimit(int(1e9))\n",
        "input = sys.stdin.readline\n",
        "\n",
        "def main():\n",
        "    n = int(input())\n",
        "\n",
        "    s = []\n",
        "    for _ in range(n):\n",
        "        s.append(list(input().rstrip('\\n').split())[1:])\n",
        "\n",
        "    s.sort()\n",
        "\n",
        "    for i in range(n):\n",
        "        if not i:\n",
        "            for j in range(len(s[i])):\n",
        "                print('--'*j + s[i][j])\n",
        "        \n",
        "        else:\n",
        "            cnt = -1\n",
        "            for j in range(len(s[i])):\n",
        "                if len(s[i-1]) <= j or s[i-1][j] != s[i][j]:\n",
        "                    break\n",
        "                else:\n",
        "                    cnt = j\n",
        "            \n",
        "            for j in range(cnt + 1, len(s[i])):\n",
        "                print('--' * j + s[i][j])\n",
        "    \n",
        "if __name__ == '__main__':  # 프로그램 시작점 지정\n",
        "    main()                      # 메인 함수 실행"
      ],
      "execution_count": null,
      "outputs": []
    },
    {
      "cell_type": "markdown",
      "metadata": {
        "id": "TIrxMQ3fiu_k"
      },
      "source": [
        "####  14425번"
      ]
    },
    {
      "cell_type": "code",
      "metadata": {
        "id": "ZTszpQumiu_l"
      },
      "source": [
        "# 트라이보다 쉽게 풀 수 있는 문제지만, 연습을 위해 트라이로 풀어 봅시다.\n",
        "\n",
        "import sys\n",
        "#sys.setrecursionlimit(int(1e9))\n",
        "input = sys.stdin.readline\n",
        "\n",
        "class Node(object):\n",
        "    def __init__(self, key, data=None):\n",
        "        self.key = key\n",
        "        self.data = data\n",
        "        self.children = {}\n",
        "\n",
        "class Trie(object):\n",
        "    def __init__(self):\n",
        "        self.head = Node(None)\n",
        "\n",
        "    def insert(self, string):# 문자열 삽입\n",
        "        curNode = self.head\n",
        "        \n",
        "        for char in string: # 삽입할 string 각각의 문자에 대해 자식 Node를 만들며 내려간다.\n",
        "            \n",
        "            if char not in curNode.children: # 자식 Node들 중 같은 문자가 없으면 Node 새로 생성\n",
        "                curNode.children[char] = Node(char)\n",
        "            \n",
        "            curNode = curNode.children[char] # 같은 문자가 있으면 해당 노드로 이동\n",
        "        curNode.data = string\n",
        "\n",
        "    \n",
        "    def search(self, string): # 문자열이 존재하는지 탐색\n",
        "        curNode = self.head\n",
        "\n",
        "        for char in string:\n",
        "            if char in curNode.children:\n",
        "                curNode = curNode.children[char]\n",
        "            else:\n",
        "                return False\n",
        "        \n",
        "        if curNode.data != None:\n",
        "            return True\n",
        "\n",
        "def main():\n",
        "    n, m = map(int, input().split())\n",
        "\n",
        "    # 방법 1 - Trie 자료구조 구현(5908ms)\n",
        "    wordTrie = Trie()           # 주어진 단어의 정보를 저장할 Trie 객체 생성\n",
        "    lenWord = [False] * 501     # 주어진 문자열과 길이가 같은 문자열에 대해서만 탐색 진행\n",
        "\n",
        "    for _ in range(n):\n",
        "        word = input().strip()\n",
        "        wordTrie.insert(word)   # 트라이에 단어 삽입\n",
        "        lenWord[len(word)] = True\n",
        "\n",
        "    ans = 0      # 단어 찾은 갯수\n",
        "    for _ in range(m):\n",
        "        word = input().strip()\n",
        "        if not lenWord[len(word)]:   # 문자열 길이 다르면 탐색 X\n",
        "            continue\n",
        "        if wordTrie.search(word):    # 문자열 길이 같으면 탐색 O\n",
        "            ans += 1\n",
        "    print(ans)\n",
        "\n",
        "if __name__ == '__main__':  # 프로그램 시작점 지정\n",
        "    main()                      # 메인 함수 실행\n",
        "\n",
        "''' dict 형태\n",
        "import sys\n",
        "#sys.setrecursionlimit(int(1e9))\n",
        "input = sys.stdin.readline\n",
        "\n",
        "def main():\n",
        "    n, m = map(int, input().split())\n",
        "\n",
        "    s = {input().rstrip('\\n') for _ in range(n)}\n",
        "\n",
        "    ans = 0\n",
        "    for _ in range(m):\n",
        "        t = input().rstrip('\\n')\n",
        "        if t in s:\n",
        "            ans += 1\n",
        "    \n",
        "    print(ans)\n",
        "\n",
        "if __name__ == '__main__':  # 프로그램 시작점 지정\n",
        "    main()                      # 메인 함수 실행\n",
        "'''"
      ],
      "execution_count": null,
      "outputs": []
    },
    {
      "cell_type": "markdown",
      "metadata": {
        "id": "eoCzVsGCyBY4"
      },
      "source": [
        "####  5670번"
      ]
    },
    {
      "cell_type": "code",
      "metadata": {
        "id": "yCKq7XEwyBY8"
      },
      "source": [
        "# 2.00 을 2.0으로 출력하는 방법의 문제 때문에 많은 시간 소요. 스페셜 저지인지 찾아보자.\n",
        "# Trie 구조를 바로 사용하므로 시간 복잡도를 줄일 수 있음\n",
        "import sys\n",
        "input = sys.stdin.readline\n",
        "\n",
        "class Node(object):\n",
        "    def __init__(self, key, data=None):\n",
        "        self.key = key\n",
        "        self.data = data\n",
        "        self.children = {}\n",
        "\n",
        "class Trie(object):\n",
        "    def __init__(self):\n",
        "        self.head = Node(None)\n",
        "\n",
        "    def insert(self, string):# 문자열 삽입\n",
        "        curNode = self.head\n",
        "        \n",
        "        for char in string: # 삽입할 string 각각의 문자에 대해 자식 Node를 만들며 내려간다.    \n",
        "            if char not in curNode.children: # 자식 Node들 중 같은 문자가 없으면 Node 새로 생성\n",
        "                curNode.children[char] = Node(char)\n",
        "            \n",
        "            curNode = curNode.children[char] # 같은 문자가 있으면 해당 노드로 이동\n",
        "        curNode.data = string\n",
        "\n",
        "    def count(self, string):\n",
        "        curNode = self.head\n",
        "        curNode = curNode.children[string[0]]\n",
        "\n",
        "        cnt = 1\n",
        "        for char in string[1:]: # 사전에 있는 단어를 찾는다 가정\n",
        "            if len(curNode.children) > 1: # 자식이 둘 이상인 경우\n",
        "                cnt += 1\n",
        "\n",
        "            if curNode.data and len(curNode.children) == 1: # 사전의 어떤 단어의 끝이고 자식이 있는경우\n",
        "                cnt += 1\n",
        "\n",
        "            curNode = curNode.children[char]\n",
        "                       \n",
        "        return cnt\n",
        "    \n",
        "    def search(self, string): # 문자열이 존재하는지 탐색\n",
        "        curNode = self.head\n",
        "\n",
        "        for char in string:\n",
        "            if char in curNode.children:\n",
        "                curNode = curNode.children[char]\n",
        "            else:\n",
        "                return False\n",
        "        \n",
        "        if curNode.data != None:\n",
        "            return True\n",
        "\n",
        "def main():\n",
        "    n = int(input())\n",
        "\n",
        "    wordTrie = Trie()           # 주어진 단어의 정보를 저장할 Trie 객체 생성\n",
        "\n",
        "    dict = []\n",
        "    for _ in range(n):\n",
        "        word = input().rstrip('\\n')\n",
        "        dict.append(word)\n",
        "        wordTrie.insert(word)   # 트라이에 단어 삽입\n",
        "\n",
        "    ans = 0     \n",
        "    for i in dict:\n",
        "        ans += wordTrie.count(i)\n",
        "    \n",
        "    print(f'{round(ans / n, 2):.2f}')\n",
        "    \n",
        "if __name__ == '__main__':  # 프로그램 시작점 지정\n",
        "    while True:\n",
        "        try:\n",
        "            main()                      # 메인 함수 실행\n",
        "        except:\n",
        "            break"
      ],
      "execution_count": null,
      "outputs": []
    },
    {
      "cell_type": "markdown",
      "metadata": {
        "id": "Juei-roPnbMe"
      },
      "source": [
        "### 35단계 : 위상 정렬===========**"
      ]
    },
    {
      "cell_type": "markdown",
      "metadata": {
        "id": "HLUKhH5_nbMf"
      },
      "source": [
        "####  (*)2252번 : 위상정렬"
      ]
    },
    {
      "cell_type": "code",
      "metadata": {
        "id": "V_fPK_usnbMf"
      },
      "source": [
        "# https://m.blog.naver.com/ndb796/221236874984\n",
        "import sys\n",
        "from collections import deque\n",
        "\n",
        "sys.setrecursionlimit(int(1e9))\n",
        "input = sys.stdin.readline\n",
        "\n",
        "def main():\n",
        "    n, m = map(int, input().split())\n",
        "    \n",
        "    inDegree = [0] * (n+1)\n",
        "    graph = [[] for _ in range(n+1)]\n",
        "\n",
        "    for _ in range(m):\n",
        "        a, b = map(int, input().split())\n",
        "        graph[a].append(b)\n",
        "        inDegree[b] += 1\n",
        "    \n",
        "    q = deque()\n",
        "    for i in range(1, n+1):\n",
        "        if not inDegree[i]:\n",
        "            q.append(i)\n",
        "\n",
        "    result = []\n",
        "    while q:\n",
        "        t = q.popleft()\n",
        "        result.append(t)\n",
        "        for i in graph[t]:\n",
        "            inDegree[i] -= 1\n",
        "            if not inDegree[i]:\n",
        "                q.append(i)\n",
        "    \n",
        "    print(*result)\n",
        "    \n",
        "if __name__ == '__main__':  # 프로그램 시작점 지정\n",
        "    main()                      # 메인 함수 실행"
      ],
      "execution_count": null,
      "outputs": []
    },
    {
      "cell_type": "markdown",
      "metadata": {
        "id": "yZ406ayIdGPX"
      },
      "source": [
        "#### "
      ]
    },
    {
      "cell_type": "code",
      "metadata": {
        "id": "xKaU5RmMdGPX"
      },
      "source": [
        "import sys\n",
        "sys.setrecursionlimit(int(1e9))\n",
        "input = sys.stdin.readline\n",
        "\n",
        "def main():\n",
        "    \n",
        "if __name__ == '__main__':  # 프로그램 시작점 지정\n",
        "    main()                      # 메인 함수 실행"
      ],
      "execution_count": null,
      "outputs": []
    },
    {
      "cell_type": "markdown",
      "metadata": {
        "id": "MSXZj-URdGTF"
      },
      "source": [
        "#### "
      ]
    },
    {
      "cell_type": "code",
      "metadata": {
        "id": "XL5lvQ5QdGTG"
      },
      "source": [
        "import sys\n",
        "sys.setrecursionlimit(int(1e9))\n",
        "input = sys.stdin.readline\n",
        "\n",
        "def main():\n",
        "    \n",
        "if __name__ == '__main__':  # 프로그램 시작점 지정\n",
        "    main()                      # 메인 함수 실행"
      ],
      "execution_count": null,
      "outputs": []
    },
    {
      "cell_type": "markdown",
      "metadata": {
        "id": "gapslwA3dGan"
      },
      "source": [
        "#### "
      ]
    },
    {
      "cell_type": "code",
      "metadata": {
        "id": "GrVRAUYOdGan"
      },
      "source": [
        "import sys\n",
        "sys.setrecursionlimit(int(1e9))\n",
        "input = sys.stdin.readline\n",
        "\n",
        "def main():\n",
        "    \n",
        "if __name__ == '__main__':  # 프로그램 시작점 지정\n",
        "    main()                      # 메인 함수 실행"
      ],
      "execution_count": null,
      "outputs": []
    },
    {
      "cell_type": "markdown",
      "metadata": {
        "id": "BFqec5POdAk5"
      },
      "source": [
        "### 단계 : ===========**"
      ]
    },
    {
      "cell_type": "markdown",
      "metadata": {
        "id": "GKDK-Nj6dAk-"
      },
      "source": [
        "#### "
      ]
    },
    {
      "cell_type": "code",
      "metadata": {
        "id": "A5mZ58DBdAk-"
      },
      "source": [
        "import sys\n",
        "sys.setrecursionlimit(int(1e9))\n",
        "input = sys.stdin.readline\n",
        "\n",
        "def main():\n",
        "    \n",
        "if __name__ == '__main__':  # 프로그램 시작점 지정\n",
        "    main()                      # 메인 함수 실행"
      ],
      "execution_count": null,
      "outputs": []
    },
    {
      "cell_type": "markdown",
      "metadata": {
        "id": "oqZ3i95jWOSr"
      },
      "source": [
        "## II. 단계별 풀이 외의 문제"
      ]
    },
    {
      "cell_type": "markdown",
      "metadata": {
        "id": "WzwUHBI4pjsC"
      },
      "source": [
        "#### 1009번"
      ]
    },
    {
      "cell_type": "code",
      "metadata": {
        "id": "_xROWveupjsC"
      },
      "source": [
        "n = int(input())\n",
        "for _ in range(n):\n",
        "    a, b = map(int, input().split())\n",
        "    a = a % 10\n",
        "    x = pow(a,b,10)\n",
        "        \n",
        "    if x == 0:\n",
        "        x = 10\n",
        "    print(x)"
      ],
      "execution_count": null,
      "outputs": []
    },
    {
      "cell_type": "markdown",
      "metadata": {
        "id": "n-jLje1Epjv5"
      },
      "source": [
        "####  3462번(*) : 진짜 모르겠따."
      ]
    },
    {
      "cell_type": "code",
      "metadata": {
        "id": "26pkDe62pjv6"
      },
      "source": [
        "#이진 스털링 수\n",
        "#https://blog.naver.com/knoj014/222379888141\n",
        "def stir(n,k):\n",
        "    if n == k:\n",
        "        return 1\n",
        "\n",
        "    if n ==1 and k==1:\n",
        "        return 1\n",
        "    \n",
        "    if n == 0 or k==0:\n",
        "        return 0\n",
        "\n",
        "    if k % 2 ==0:\n",
        "        return (stir(n-1,k-1)) % 2\n",
        "    else:\n",
        "        return (stir(n-1,k) + stir(n-1,k-1)) % 2\n",
        "\n",
        "n = int(input())\n",
        "\n",
        "for _ in range(n):\n",
        "    a, b = map(int, input().split())\n",
        "    stir(a,b)"
      ],
      "execution_count": null,
      "outputs": []
    },
    {
      "cell_type": "markdown",
      "metadata": {
        "id": "kg3C85P2pkCh"
      },
      "source": [
        "#### 10422번"
      ]
    },
    {
      "cell_type": "code",
      "metadata": {
        "id": "1WH5OH7bpkCh"
      },
      "source": [
        "#카탈란 수\n",
        "import math\n",
        "\n",
        "n = int(input())\n",
        "\n",
        "for _ in range(n):\n",
        "    x = int(input())\n",
        "\n",
        "    if x % 2 == 1:\n",
        "        print(0)\n",
        "    else:\n",
        "        x = x // 2\n",
        "        res = math.factorial(2*x) // (math.factorial(x) * math.factorial(x+1))\n",
        "        print(res % 1000000007)"
      ],
      "execution_count": null,
      "outputs": []
    },
    {
      "cell_type": "markdown",
      "metadata": {
        "id": "sDfe3I8SCSLS"
      },
      "source": [
        "####  16395번"
      ]
    },
    {
      "cell_type": "code",
      "metadata": {
        "id": "vep6FGUyCSnz"
      },
      "source": [
        "n, k = map(int, input().split())\n",
        "\n",
        "p = [[0] * 30 for _ in range(30)]\n",
        "p[0][0] = 1\n",
        "\n",
        "for i in range(1,n):\n",
        "    for j in range(i+1):\n",
        "        p[i][j] = p[i-1][j-1] + p[i-1][j]\n",
        "\n",
        "print(p[n-1][k-1])\n",
        "# (n) = (n-1) + (n-1)\n",
        "# (k)   (k-1) + (k)"
      ],
      "execution_count": null,
      "outputs": []
    },
    {
      "cell_type": "markdown",
      "metadata": {
        "id": "LWZV-DNlCUci"
      },
      "source": [
        "#### 15489번"
      ]
    },
    {
      "cell_type": "code",
      "metadata": {
        "id": "e4Z8qZvrCUci"
      },
      "source": [
        "r, c, w = map(int, input().split())\n",
        "\n",
        "p = [[0] * 30 for _ in range(30)]\n",
        "p[0][0] = 1\n",
        "\n",
        "for i in range(1,30):\n",
        "    for j in range(i+1):\n",
        "        p[i][j] = p[i-1][j-1] + p[i-1][j]\n",
        "\n",
        "res = 0\n",
        "\n",
        "for i in range(w): #4\n",
        "    for j in range(i+1):\n",
        "        res += p[r-1+i][c-1+j]\n",
        "        #print(p[r-1+i][c-1+j])\n",
        "\n",
        "print(res)"
      ],
      "execution_count": null,
      "outputs": []
    },
    {
      "cell_type": "markdown",
      "metadata": {
        "id": "JzrdqUwXCVly"
      },
      "source": [
        "####  2986번"
      ]
    },
    {
      "cell_type": "code",
      "metadata": {
        "id": "vRiAEIExCVly"
      },
      "source": [
        "n = int(input())\n",
        "\n",
        "res = 1\n",
        "i = 2\n",
        "while True:\n",
        "    if i * i > n:\n",
        "        break\n",
        "    \n",
        "    if n % i == 0:\n",
        "        res = n // i\n",
        "        break\n",
        "    i += 1\n",
        "    \n",
        "print(n-res)"
      ],
      "execution_count": null,
      "outputs": []
    },
    {
      "cell_type": "markdown",
      "metadata": {
        "id": "9IktNkNQGUUH"
      },
      "source": [
        "####  9475번"
      ]
    },
    {
      "cell_type": "code",
      "metadata": {
        "id": "ze3TnhSQGUUJ"
      },
      "source": [
        "import math\n",
        "from decimal import Decimal #Decimal(math.factorial(16150))\n",
        "\n",
        "n = int(input())\n",
        "\n",
        "for _ in range(n):\n",
        "    k, p, r, c = map(int, input().split())\n",
        "    res = (math.factorial(r) //  (math.factorial(r-c) * math.factorial(c))) * (p ** (r-c))\n",
        "    # / 사용시 부동소수점 값은 파이썬의 경우엔 가수부가 52비트인데 2진수로 52비트 이상의 값이면 맨 위부터 52비트 이하는 다 짤린다\n",
        "    # 그래서 // 사용\n",
        "    print(k,res)"
      ],
      "execution_count": null,
      "outputs": []
    },
    {
      "cell_type": "markdown",
      "metadata": {
        "id": "VOaWDLwIWXJf"
      },
      "source": [
        "####  14920번"
      ]
    },
    {
      "cell_type": "code",
      "metadata": {
        "id": "24_fc4tlWWoO"
      },
      "source": [
        "def p2(n):\n",
        "    t = 1\n",
        "    while n != 1:\n",
        "        if n % 2 == 0:\n",
        "            n /= 2\n",
        "            t += 1\n",
        "        else:\n",
        "            n = 3 * n + 1\n",
        "            t += 1\n",
        "    return int(t)\n",
        " \n",
        "print(p2(int(input())))"
      ],
      "execution_count": null,
      "outputs": []
    },
    {
      "cell_type": "markdown",
      "metadata": {
        "id": "Zfx8md_duDzl"
      },
      "source": [
        "####  2038번"
      ]
    },
    {
      "cell_type": "code",
      "metadata": {
        "id": "EQipU5hsuEff"
      },
      "source": [
        "# 모든 k에 대해 f(k)번 등장하는 단조 증가 수열\n",
        "# => k    : 1 2 3 4 5 6 7 8 ~\n",
        "# => f(k) : 1 2 2 3 3 4 4 4 ~\n",
        "# => f(k) 는 단조 증가 수열\n",
        "\n",
        "t = [0] * (10**6) # 10**6 크기의 빈 리스트 생성 => t( f(k) ) = k의 형식\n",
        "# [0, 1, 3, 5, 8, 11, 15, 19, 23, 28, 33, 38, 44, 50, 56, 62, 69, 76, 83, 90, ...\n",
        "\n",
        "t[1] = 1                    # 첫번째 항 \n",
        "t[2] = 3                    # 두번째 항 k가 3보다 작거나 같으면 값이 2\n",
        "t[3] = 5                    # 세번째 항 k가 5보다 작거나 같으면 값이 3\n",
        "\n",
        "re = 1                      # 증가 개수 저장 변수\n",
        "for i in range(4,10**6):    # 리스트 4번째 항부터 시작\n",
        "    for j in range(re,i):   # 증가하는 크기부터\n",
        "        if t[j] < i:        # f(k)보다 k가 작으면\n",
        "            continue\n",
        "        else:        \n",
        "            re = j          # 증가하는 값에  f(k) 값 입력\n",
        "            break\n",
        "\n",
        "    t[i] = t[i-1] + re      # i번째에 i-1번째 값 + 증가 숫자 입력\n",
        "\n",
        "n = int(input())            # n값 입력\n",
        "\t\t\n",
        "for j in range(1,10**6):    # 리스트 크기 만큼 반복\n",
        "    if t[j] >= n:           # t[j]의 값 즉, k값보다 n값이 작거나 같으면\n",
        "        print(j)            # f(k) 출력\n",
        "        break\n",
        "    else:\n",
        "        continue"
      ],
      "execution_count": null,
      "outputs": []
    },
    {
      "cell_type": "markdown",
      "metadata": {
        "id": "BBOyONnAphxq"
      },
      "source": [
        "#### 1075번"
      ]
    },
    {
      "cell_type": "code",
      "metadata": {
        "id": "aOhI8-OPpiEp"
      },
      "source": [
        "n = input()                     # n str형태로 입력\n",
        "n = n[:-2]                      # n의 뒤의 두자리 숫자 빼기\n",
        "\n",
        "f = int(input())                # f값 int 형태로 입력받기\n",
        "\n",
        "for i in range(0,100):          # 두자리 숫자니까 0~99까지\n",
        "    if i < 10:                  # i가 한자리 숫자라면\n",
        "        t = '0' + str(i)        # 앞에 0 추가하기\n",
        "        if int(n + t) % f == 0: # 뒤에 i가 추가된 n이 f로 나누어진다면\n",
        "            break               # 브레이크\n",
        "    else:\n",
        "        t = str(i)              # i가 두자리 이상이면 문자열 그대로 입력\n",
        "        if int(n + t) % f == 0: # i가 추가된 n이 f로 나누어진다면\n",
        "            break               # 브레이크\n",
        "print(t)                        # 뒤에 두자리 숫자 출력"
      ],
      "execution_count": null,
      "outputs": []
    },
    {
      "cell_type": "markdown",
      "metadata": {
        "id": "cwLrxQzg0oRG"
      },
      "source": [
        "#### 1032번"
      ]
    },
    {
      "cell_type": "code",
      "metadata": {
        "id": "qXV3eY2H0oRH"
      },
      "source": [
        "n = int(input())\n",
        "\n",
        "res = ' '.join(input()).split() # 첫번째 문자열을 리스트화\n",
        "t = len(res)                    # 리스트 길이\n",
        "\n",
        "for _ in range(n-1):            # 첫 번째 문자열과 그 이후에 들어오는 문자열 비교\n",
        "    x = input()                 # 그 이후에 들어오는 문자열을 저장\n",
        "    for i in range(t):          # res리스트 길이 만큼 반복\n",
        "        if x[i] != res[i]:      # 각 인덱스의 값이 다른 경우\n",
        "            res[i] = '?'        # '?'삽입\n",
        "\n",
        "for i in res:                   # 결과 값 출력\n",
        "    print(i,end='')"
      ],
      "execution_count": null,
      "outputs": []
    },
    {
      "cell_type": "markdown",
      "metadata": {
        "id": "NOcjjp8g0oUZ"
      },
      "source": [
        "#### 10815번"
      ]
    },
    {
      "cell_type": "code",
      "metadata": {
        "id": "LEEomLIN0oUZ"
      },
      "source": [
        "# 분할 정복\n",
        "n = int(input())                    # 상근이의 카드 개수\n",
        "N = list(map(int, input().split())) # 카드 리스트화\n",
        "N.sort()                            # 상근이 카드 정렬\n",
        "\n",
        "m = int(input())                    # 확인할 카드 개수\n",
        "M = list(map(int, input().split())) # 확인할 카드 리스트\n",
        "\n",
        "for t in M:                         # 확인할 카드 반복\n",
        "    \n",
        "    start = 0                       # 상근이 카드의 처음 인덱스\n",
        "    end = n - 1                     # 상근이 카드의 마지막 인덱스\n",
        "\n",
        "    while True:                     # 무한 반복\n",
        "        mid = (start + end) // 2    # 중간 인덱스 지정\n",
        "        if start > end:             # 시작 인덱스가 마지막 인덱스 보다 크면\n",
        "            print(0, end=' ')       # 확인할 카드 t는 상근이에게 없기 때문에 0 출력\n",
        "            break                   # 무한 반복 종료\n",
        "\n",
        "        if t == N[mid]:             # 확인할 카드와 상근 카드의 중간 인덱스 값이 같으면\n",
        "            print(1,end=' ')        # 존재하므로 1 출력\n",
        "            break                   # 무한 반복 종료\n",
        "        elif t < N[mid]:            # 작으면\n",
        "            end = mid - 1           # 마지막 지점을 중간 인덱스 왼쪽으로 지정\n",
        "\n",
        "        elif t > N[mid]:            # 크면\n",
        "            start = mid + 1         # 시작 지점을 중간 인덱스 오른쪽으로 지정"
      ],
      "execution_count": null,
      "outputs": []
    },
    {
      "cell_type": "markdown",
      "metadata": {
        "id": "YoZ4CWbgRtfa"
      },
      "source": [
        "#### (*)2256번"
      ]
    },
    {
      "cell_type": "code",
      "metadata": {
        "id": "MJyM9C81Rtfa"
      },
      "source": [
        "### 이해는 되도 시원하게 해결은 아직 안됨.\n",
        "import sys\n",
        "\n",
        "def find(sticks, kits):                                 # find 함수 정의\n",
        "    sticks.sort(reverse=True)                           # 젓가락 내림차순 정렬\n",
        "\n",
        "    bad = [0 for _ in range(len(sticks) + 3)]           # \n",
        "    for i in range(1, len(sticks)):                     # 젓가락 개수 만큼 반복\n",
        "        bad[i+1] = (sticks[i-1] - sticks[i]) ** 2       # 젓가락 차의 제곱 입력\n",
        "    print('bad : ', bad)\n",
        "    prev = [0 for _ in range(len(sticks) + 1)]          # 이전 dp\n",
        "    current = [-1 for _ in range(len(sticks) + 1)]      # 현재 dp\n",
        "\n",
        "    for k in range(1, kits + 1):                        # k명의 사람 수 만큼 반복\n",
        "        current[3 * k - 1] = float('inf')               # 3*k-1번 째 칸 inf 초기화\n",
        "        for s in range(3 * k, len(sticks) - abs(k - kits) * 2 + 1): # k*3 번째 부터 뒤에 kits-k개의 짝이 있어야 하기에\n",
        "                                                                    # 젓가락 개수 - 남은 짝의 개수 * 2 까지\n",
        "\n",
        "            if current[s-1] > prev[s-2] + bad[s]:       # current의 이전 값이 prev의 2칸전과 s번째 차이의 곱보다 크면\n",
        "                current[s] = prev[s-2] + bad[s]         # current 최소 값 업데이트\n",
        "            else:                                       # 아니라면\n",
        "                current[s] = current[s-1]               # 기존 값 업데이트\n",
        "        #print('prev : ',prev)\n",
        "        #print('current : ',current)\n",
        "        prev, current = current, prev                   # prev와 current dp 교환\n",
        "    return prev[len(sticks)]                            # prev 마지막 값 출력\n",
        "\n",
        "\n",
        "K, N = map(int, input().split())                        # 두 정수 입력\n",
        "chops = list(map(int, input().split()))   # 젓가락 길이 리스트에 입력\n",
        "print(find(chops, K))                                   # 함수 실행\n",
        "\n",
        "# 1 2 5 9 14 20 21 24 28\n",
        "\n",
        "#  a  b  c  d  e f g h i\n",
        "# 28 24 21 20 14 9 5 2 1\n",
        "#k번째 짝에서 a가 가장 높은 수 "
      ],
      "execution_count": null,
      "outputs": []
    },
    {
      "cell_type": "markdown",
      "metadata": {
        "id": "uPXzp27pRtie"
      },
      "source": [
        "#### 1076번"
      ]
    },
    {
      "cell_type": "code",
      "metadata": {
        "id": "4dmEgiLmRtie"
      },
      "source": [
        "dic = {'black' : [0,1],\n",
        "       'brown' : [1,10],\n",
        "       'red' : [2,100],\n",
        "       'orange' : [3,1000],\n",
        "       'yellow' : [4,10000],\n",
        "       'green' : [5,100000],\n",
        "       'blue' : [6,1000000],\n",
        "       'violet' : [7,10000000],\n",
        "       'grey' : [8,100000000],\n",
        "       'white' : [9,1000000000]} # dictionary 형태로 색상값 저장 log(1)\n",
        "\n",
        "res = 0 # 결과 변수 생성\n",
        "\n",
        "res += dic[input()][0] * 10 # 입력된 값의 십의 자릿수 \n",
        "res += dic[input()][0] # 입력된 값의 일의 자릿수\n",
        "res *= dic[input()][1] # 입력된 값의 10 거듭제곱\n",
        "print(res) # 결과 출력"
      ],
      "execution_count": null,
      "outputs": []
    },
    {
      "cell_type": "markdown",
      "metadata": {
        "id": "NmN8u0qcRtlf"
      },
      "source": [
        "#### 1408번"
      ]
    },
    {
      "cell_type": "code",
      "metadata": {
        "id": "W-wpfsVHRtlf"
      },
      "source": [
        "t = list(map(int,input().split(':')))           # 현재시간 입력\n",
        "start_time = list(map(int,input().split(':')))  # 임무 시작 시간 입력\n",
        "\n",
        "if int(t[0]) > int(start_time[0]):              # 현재 시간이 임무 시작시간보다 크면\n",
        "    start_time[0] = start_time[0] + 24          # 임무 시작 시간 + 24\n",
        "\n",
        "res = [0,0,0]                                   # 결과 값 리스트 생성\n",
        "\n",
        "for i in range(-1,-4,-1):                       # 초, 분, 시간 순으로 반복\n",
        "    if start_time[i] < 0:                       # 분이 음수라면(초와 시간은 음수가 아니다)\n",
        "        start_time[i-1] = start_time[i-1] - 1   # 시간 - 1\n",
        "        start_time[i] = start_time[i] + 60      # 분 + 60\n",
        "\n",
        "    if start_time[i] - t[i] < 0:                # 임무 시작 시간이 현재시간보다 작으면\n",
        "        start_time[i-1] = start_time[i-1] -1    # 임무 시작 분이나 초에서 - 1\n",
        "        start_time[i] = start_time[i] + 60      # 임무 시작 초나 분에 + 60\n",
        "\n",
        "    res[i] = start_time[i] - t[i]               # 결과 초,분,시간에 입력\n",
        "\n",
        "for i in range(3):                              # 3번 반복\n",
        "    if res[i] < 10:                             # 결과값이 한 자릿수 이면\n",
        "        res[i] = '0' + str(res[i])              # 결과값 앞에 0 추가하여 저장\n",
        "    else:                                       # 두 자릿수 이면\n",
        "        res[i] = str(res[i])                    # 결과값 문자열 형태로 저장\n",
        "\n",
        "for i in range(2):                              # 결과 시간, 분 출력\n",
        "    print(res[i],end=':')                       \n",
        "print(res[-1])                                  # 결과 초 출력"
      ],
      "execution_count": null,
      "outputs": []
    },
    {
      "cell_type": "markdown",
      "metadata": {
        "id": "rJALFDucRtoU"
      },
      "source": [
        "#### 1100번"
      ]
    },
    {
      "cell_type": "code",
      "metadata": {
        "id": "2PFjWPFpRtoU"
      },
      "source": [
        "t = 0                           # 하얀 칸 위에 있는 말의 개수\n",
        "for i in range(1,9):            # 8개의 칸 반복\n",
        "    l = input()                 # i번째 행 문자열 입력\n",
        "    if i % 2:                   # i가 홀수이면\n",
        "        for j in range(0,8,2):  # 하얀 칸 j번 확인(홀수 열)\n",
        "            if l[j] == 'F':     # i번째 행의 j번째 열인 하얀칸이 'F'이면\n",
        "                t += 1          # 말의 개수 + 1\n",
        "                \n",
        "    else:                       # 짝수\n",
        "        for j in range(1,8,2):  # 하얀 칸 j번 확인(짝수 열)\n",
        "            if l[j] == 'F':     # i번째 행의 j번째 열인 하얀칸이 'F'이면\n",
        "                t += 1          # 말의 개수 + 1\n",
        "                \n",
        "print(t)                        # 말의 개수 출력"
      ],
      "execution_count": null,
      "outputs": []
    },
    {
      "cell_type": "markdown",
      "metadata": {
        "id": "PF-e7T96nF2u"
      },
      "source": [
        "#### 1145번"
      ]
    },
    {
      "cell_type": "code",
      "metadata": {
        "id": "kfVvwGjbnF22"
      },
      "source": [
        "l = list(map(int, input().split()))     # 다섯개의 자연수 리스트 변환\n",
        "\n",
        "res = min(l)                            # 결과 값을 최소값으로 지정\n",
        "\n",
        "while True:                             \n",
        "    t = 0                               # 자연수 배수의 개수\n",
        "    for j in l:                         # 자연수 리스트 반복\n",
        "        if not res % j:                 # res가 l 값들 중 하나로 나뉘어 진다면\n",
        "            t += 1                      # 배수의 개수 + 1\n",
        "\n",
        "        if t > 2:                       # 대부분의 배수이면(3이상)\n",
        "            print(res)                  # 결과 값 출력\n",
        "            break                       # for문 중지\n",
        "\n",
        "    if t > 2:                           # 무한 반복문 중지\n",
        "        break\n",
        "\n",
        "    res += 1                            # 결과 값 + 1"
      ],
      "execution_count": null,
      "outputs": []
    },
    {
      "cell_type": "markdown",
      "metadata": {
        "id": "cAltWVGrnF7J"
      },
      "source": [
        "#### 1159번"
      ]
    },
    {
      "cell_type": "code",
      "metadata": {
        "id": "0Bb39HSWnF7J"
      },
      "source": [
        "n = int(input())            # 선수의 수 입력\n",
        "res = {}                    # 선수의 성을 dict형태로\n",
        "for _ in range(n):          \n",
        "    t = input()             # 선수 입력\n",
        "    \n",
        "    if t[0] in res:         # 선수의 첫 글자가 결과에 있으면\n",
        "        res[t[0]] += 1      # 첫 글자 count + 1\n",
        "    else:                   # 없으면\n",
        "        res[t[0]] = 1       # 첫 글자와 값은 1로 생성\n",
        "\n",
        "result = []                 # 선발된 선수 리스트\n",
        "for k, v in res.items():    # 선수의 성 dict형태 unpacking\n",
        "    if v > 4:               # 첫 글자가 같은 선수가 5명 이상이면\n",
        "        result.append(k)    # 선발 된 \n",
        "\n",
        "result.sort()               # 알파벳 순 정렬\n",
        "if not result:              # 선수 다섯명을 선발 할 수 없는 경우\n",
        "    print('PREDAJA')       \n",
        "else:                       # 선발 가능한 경우\n",
        "    for i in result:        \n",
        "        print(i,end='')     # 선수들의 첫 글자를 출력"
      ],
      "execution_count": null,
      "outputs": []
    },
    {
      "cell_type": "markdown",
      "metadata": {
        "id": "rx4yoDQdzb1M"
      },
      "source": [
        "#### 1233번"
      ]
    },
    {
      "cell_type": "code",
      "metadata": {
        "id": "MZ_26Hxazb1O"
      },
      "source": [
        "a, b, c = map(int, input().split()) # 각 변수 입력\n",
        "\n",
        "res = {} # 주사위의 빈도를 담을 dict\n",
        "for i in range(1,a+1): # a번 반복\n",
        "    for j in range(1, b+1): # b번 반복\n",
        "        for k in range(1,c+1): # c번 반복\n",
        "            t = i+j+k # 세 주사위의 합 계산\n",
        "            #print(t)\n",
        "            if t in res: # 세 주사위의 합이 dict에 저장이 되어있으면\n",
        "                res[t] += 1 # + 1\n",
        "            else: # 저장이 안되어 있으면\n",
        "                res[t] = 1 # 1로 생성\n",
        "\n",
        "result = [] # 결과\n",
        "for k, v in res.items(): # key, value : 세주사위의 합, 빈도수의 형태로 unzip\n",
        "    if v == max(res.values()): # 빈도 값이 최대 빈도라면\n",
        "        result.append(k) # 결과 리스트에 추가\n",
        "\n",
        "result.sort() # 결과 리스트 정렬\n",
        "print(result[0]) # 제일 높은 빈도수가 나오는 제일 작은 세 주사위의 합 출력"
      ],
      "execution_count": null,
      "outputs": []
    },
    {
      "cell_type": "markdown",
      "metadata": {
        "id": "GeLDsmu6zb5D"
      },
      "source": [
        "#### 1212번"
      ]
    },
    {
      "cell_type": "code",
      "metadata": {
        "id": "8Viiv5quzb5D"
      },
      "source": [
        "t = '0O' + input() # 8진수 입력\n",
        "\n",
        "t = int(t, 8) # 8진수를 10진수로 변환\n",
        "print(bin(t)[2:]) # 10진수를 2진수로 변환후 출력"
      ],
      "execution_count": null,
      "outputs": []
    },
    {
      "cell_type": "markdown",
      "metadata": {
        "id": "QtKXQ-B6zb8r"
      },
      "source": [
        "#### 1225번"
      ]
    },
    {
      "cell_type": "code",
      "source": [
        "a, b = input().split() # a,b 변수 입력\n",
        "\n",
        "a = '+'.join(a) # a의 각 자릿수의 합 문자열로 변환\n",
        "b = '+'.join(b) # b의 각 자릿수의 합 문자열로 변환\n",
        "print(eval('(' + a + ')*(' + b +')')) # a의 각 자릿수 합과 b의 각 자릿수 합 곱셈 계산"
      ],
      "metadata": {
        "colab": {
          "base_uri": "https://localhost:8080/"
        },
        "id": "6xrW1gtgbnRp",
        "outputId": "7a341382-83d3-49e2-fd35-7dd4bb1c56a6"
      },
      "execution_count": null,
      "outputs": [
        {
          "output_type": "stream",
          "name": "stdout",
          "text": [
            "121 34\n",
            "28\n"
          ]
        }
      ]
    },
    {
      "cell_type": "markdown",
      "metadata": {
        "id": "vzceFGcDmtrw"
      },
      "source": [
        "####  1308번"
      ]
    },
    {
      "cell_type": "code",
      "source": [
        "#윤년 2/29일 추가로 366일\n",
        "# 각 월별 마지막 날 31 28/29 31 30 31 30 31 31 30 31 30 31\n",
        "\n",
        "a = list(map(int, input().split())) # a 일자 입력\n",
        "b = list(map(int, input().split())) # b 일자 입력\n",
        "\n",
        "x = [[31,28,31,30,31,30,31,31,30,31,30,31,0], # 평년인 월의 일수\n",
        "     [31,29,31,30,31,30,31,31,30,31,30,31,0]] # 윤년인 월의 일수\n",
        "\n",
        "if a[0] % 4 == 0 and (a[0] % 100 != 0 or a[0] % 400 == 0): # a의 일자가 윤년이면\n",
        "    a_res = (a[0]-1) * 365 + (((a[0]-1) // 4) + ((a[0]-1) // 400) - ((a[0]-1) // 100)) + sum(x[1][:a[1]-1])+ a[2]\n",
        "else: # a의 일자가 평년이면\n",
        "    a_res = (a[0]-1) * 365 + (((a[0]-1) // 4) + ((a[0]-1) // 400) - ((a[0]-1) // 100)) + sum(x[0][:a[1]-1])+ a[2]\n",
        "\n",
        "\n",
        "if b[0] % 4 == 0 and (b[0] % 100 != 0 or b[0] % 400 == 0): # b의 일자가 윤년이면\n",
        "    b_res = (b[0]-1) * 365 + (((b[0]-1) // 4) + ((b[0]-1) // 400) - ((b[0]-1) // 100)) + sum(x[1][:b[1]-1])+ b[2]\n",
        "else: # b의 일자가 평년이면\n",
        "    b_res = (b[0]-1) * 365 + (((b[0]-1) // 4) + ((b[0]-1) // 400) - ((b[0]-1) // 100)) + sum(x[0][:b[1]-1])+ b[2]\n",
        "\n",
        "t = b_res - a_res # d-day 계산\n",
        "\n",
        "if a[0] + 1000 <= b[0] and a[1] <= b[1] and a[2] <= b[2]: # 1000년 m월 d일과 같거나 늦다면\n",
        "    print('gg') \n",
        "else:\n",
        "    print('D-{0}'.format(t)) # d-day 출력"
      ],
      "metadata": {
        "id": "lXfdrFFrmtr1"
      },
      "execution_count": null,
      "outputs": []
    },
    {
      "cell_type": "markdown",
      "metadata": {
        "id": "0NWgir__mwGD"
      },
      "source": [
        "####  1333번"
      ]
    },
    {
      "cell_type": "code",
      "source": [
        "n, l, d = map(int, input().split()) # 각 변수 입력\n",
        "\n",
        "t = [True] * 5000 # 5000크기의 리스트 생성\n",
        "x = 0\n",
        "for _ in range(n): \n",
        "    t[x:x+l] = [False] * l # 노래가 나오는 타임은 False로 입력\n",
        "    x += l + 5 # 노래가 나오지 않는 시간은 True로 입력\n",
        "    \n",
        "y = 0\n",
        "while True:\n",
        "    y += d # d초의 간격으로 \n",
        "    if t[y]: # y초에서 노래가 나오지 않는 시간이면\n",
        "        print(y)\n",
        "        break"
      ],
      "metadata": {
        "id": "VwTaSQW5mwGD"
      },
      "execution_count": null,
      "outputs": []
    },
    {
      "cell_type": "markdown",
      "metadata": {
        "id": "7RWTIiPXmwI2"
      },
      "source": [
        "####  1247번"
      ]
    },
    {
      "cell_type": "code",
      "source": [
        "import sys\n",
        "for _ in range(3):                  # 3번 반복\n",
        "    n = int(sys.stdin.readline())\n",
        "    s = 0                           # 결과 값\n",
        "    for _ in range(n):              # n번 반복\n",
        "        t = int(sys.stdin.readline())\n",
        "        s += t                      # 입력된 값 s값에 추가\n",
        "    \n",
        "    if s == 0:                      # s가 0이면\n",
        "        print(0)\n",
        "    elif s < 0:                     # s가 음수이면\n",
        "        print('-')\n",
        "    else:                           # s가 양수이면\n",
        "        print('+')"
      ],
      "metadata": {
        "id": "x-kwRCDdmwI2"
      },
      "execution_count": null,
      "outputs": []
    },
    {
      "cell_type": "markdown",
      "metadata": {
        "id": "RsNw0SxrmwLi"
      },
      "source": [
        "####  1402번"
      ]
    },
    {
      "cell_type": "code",
      "source": [
        "# 해당 답안은 모든 경우가 가능.\n",
        "# 1 * 1 * a, 1 + 1 + a 의 형태로 모든 경우를 만들 수 있음.\n",
        "n = int(input()) \n",
        "\n",
        "for _ in range(n):\n",
        "    print('yes')     # 단순 수학 문제"
      ],
      "metadata": {
        "id": "Muuu4BgrmwLj"
      },
      "execution_count": null,
      "outputs": []
    },
    {
      "cell_type": "markdown",
      "metadata": {
        "id": "R8LKjl8NmwON"
      },
      "source": [
        "####   1681번"
      ]
    },
    {
      "cell_type": "code",
      "source": [
        "n, l = map(int, input().split()) \n",
        "\n",
        "l = str(l)              # 들어가면 안되는 수 문자형 변환\n",
        "t = []                  # 라벨 list\n",
        "x = 0\n",
        "while len(t) != n:      # 라벨 list의 길이가 n이 될 때 까지 반복\n",
        "    x += 1              # 1씩 증가\n",
        "    if l not in str(x): # x를 문자형으로 변환 후 들어가면 안되는 수가 없으면\n",
        "        t.append(x)     # 라벨 list 추가\n",
        "        \n",
        "print(t[-1])            # 라벨 list 중 가장 큰 수 삽입"
      ],
      "metadata": {
        "id": "J6_Ha7IcmwOS"
      },
      "execution_count": null,
      "outputs": []
    },
    {
      "cell_type": "markdown",
      "metadata": {
        "id": "P3xQwj6O0mzQ"
      },
      "source": [
        "####   1373번"
      ]
    },
    {
      "cell_type": "code",
      "source": [
        "t = '0b' + input()  # 이진수 형태로 입력\n",
        "t = int(t, 2)       # 2진수를 10진수로 변환\n",
        "print(oct(t)[2:])   # 8진수 0o 제거 후 출력"
      ],
      "metadata": {
        "id": "KBMVCjde0mzQ"
      },
      "execution_count": null,
      "outputs": []
    },
    {
      "cell_type": "markdown",
      "metadata": {
        "id": "h2Bv5m130m2M"
      },
      "source": [
        "####  1703번"
      ]
    },
    {
      "cell_type": "code",
      "source": [
        "while True:\n",
        "    t = list(map(int, input().split())) # 입력 값 리스트 처리\n",
        "\n",
        "    if t == [0]:                        # 마지막 줄이 0이면\n",
        "        break                           # break\n",
        "    \n",
        "    res = 0                             # 결과 값 변수\n",
        "    for i in range(1,2*t[0]+1,2):       # 생장 개수와 가지치기 값이 입력되므로 1부터 2의 간격으로 반복\n",
        "        if i == 1:                      # 처음 생장 개수이면\n",
        "            res = t[i] - t[i+1]         # 생장 개수 - 가지치기 개수 입력        \n",
        "        else:                           # 그 이후라면\n",
        "            res *= t[i]                 # 결과 값 * 생장 개수\n",
        "            res -= t[i+1]               # 결과 값 - 가지치기\n",
        "    print(res)                          # 결과 출력"
      ],
      "metadata": {
        "id": "CDdtYQpd0m2M"
      },
      "execution_count": null,
      "outputs": []
    },
    {
      "cell_type": "markdown",
      "metadata": {
        "id": "FfeyDe_X0m5D"
      },
      "source": [
        "####  1652번"
      ]
    },
    {
      "cell_type": "code",
      "source": [
        "m = []                     # 정사각형의 모형을 담을 리스트\n",
        "n = int(input())           # 정사각형 크기 변수\n",
        "for _ in range(n): \n",
        "    m.append(input())      # 정사각형 안에 문자 입력\n",
        "\n",
        "row = 0                    # 행 누울 자리 카운트\n",
        "col = 0                    # 열 누울 자리 카운트\n",
        "for i in range(n):         # n번 반복\n",
        "    row_t = 0              # 행에서 누울 수 있는 칸\n",
        "    col_t = 0              # 열에서 누울 수 있는 칸\n",
        "\n",
        "    for j in range(n):     # n번 반복\n",
        "        if m[i][j] == 'X': # i번째 행, j번째 열이 벽이라면\n",
        "            if row_t >= 2: # 행에서 누울 수 있는 칸이 2 이상이면\n",
        "                row += 1   # 행 누울 자리 카운트 + 1\n",
        "            row_t = 0      # 2보다 작으면 리셋\n",
        "        \n",
        "        else:              # 벽이 아니라면\n",
        "            row_t += 1     # 누울 수 있는 칸 + 1\n",
        "    \n",
        "        if m[j][i] == 'X': # i번째 열, j번째 행이 벽이라면\n",
        "            if col_t >= 2: # 열에서 누울 수 있는 칸이 2 이상이면\n",
        "                col += 1   # 열 누울 자리 카운트 + 1\n",
        "            col_t = 0      # 2보다 작으면 리셋\n",
        "        \n",
        "        else:              # 벽이 아니라면\n",
        "            col_t += 1     # 누울 수 있는 칸 + 1\n",
        "\n",
        "    if row_t >= 2:         # 행에서 마지막 칸이 2이상의 누울 수 있는 자리면\n",
        "        row += 1           # 행 누울 자리 + 1\n",
        "\n",
        "    if col_t >= 2:         # 열에서 마지막 칸이 2이상의 누울 수 있는 자리면\n",
        "        col += 1           # 열 누울 자리 + 1\n",
        "\n",
        "print(row, col)            # 결과 값 출력"
      ],
      "metadata": {
        "id": "s_0AmcXo0m5E"
      },
      "execution_count": null,
      "outputs": []
    },
    {
      "cell_type": "markdown",
      "metadata": {
        "id": "Zj_G1Z_AOL0y"
      },
      "source": [
        "####  1418번"
      ]
    },
    {
      "cell_type": "code",
      "source": [
        "n = int(input()) # 자연수 개수 입력\n",
        "k = int(input()) # 비교할 k 입력\n",
        "\n",
        "t_list = [True] * (n+1) # 소수 판별 가능 리스트 생성\n",
        "t_list[0] = False # index = 0은 False로 제외\n",
        "\n",
        "# 아레스토테네스 체 방정식 활용\n",
        "for i in range(2,int(n**0.5)+2):  # root(n)의 값들 까지 진행\n",
        "    for j in range(i,n+1,i): # i의 배수들 진행\n",
        "        if j == i: # 처음 값은 제외하면 안되기 때문에\n",
        "            continue  # continue\n",
        "        t_list[j] = False # i의 배수들 제거\n",
        "\n",
        "res = [[1] for i in range(n+1)] # 소인수를 담을 리스트 생성\n",
        "\n",
        "for i in range(2,n+1): # n개의 자연수까지 반복\n",
        "    if t_list[i]: # i가 소수라면\n",
        "        for j in range(i,n+1,i): # i의 배수값들에 \n",
        "            res[j].append(i) # 소수인 i 추가\n",
        "\n",
        "t = 0 # 결과 값\n",
        "for i in range(1, n+1): # n번 반복\n",
        "    if res[i][-1] <= k: # 소인수를 담은 리스트 중 가장 큰값이 k보다 작거나 같으면\n",
        "        t += 1 # 1 더하기\n",
        "\n",
        "print(t) # 결과 값 출력"
      ],
      "metadata": {
        "id": "HzpWgvTrOL04"
      },
      "execution_count": null,
      "outputs": []
    },
    {
      "cell_type": "markdown",
      "metadata": {
        "id": "bD1i4z1uOL4t"
      },
      "source": [
        "####  1550번"
      ]
    },
    {
      "cell_type": "code",
      "source": [
        "t = '0x' + input()  # 16진수 입력\n",
        "t = int(t, 16)      # 10진수로 변환\n",
        "print(t)            # 출력"
      ],
      "metadata": {
        "id": "y32-CU2JOL4t"
      },
      "execution_count": null,
      "outputs": []
    },
    {
      "cell_type": "markdown",
      "metadata": {
        "id": "CIsbivR4a9HU"
      },
      "source": [
        "#### 2010번"
      ]
    },
    {
      "cell_type": "code",
      "source": [
        "import sys\n",
        "\n",
        "n = int(input())                                    # 변수 입력\n",
        "res = 1                                             # 결과 변수 생성\n",
        "for _ in range(n):                                  # n번 반복\n",
        "    res -= 1                                        # 콘센트 하나를 대신하여 늘어나므로 - 1\n",
        "    res += int(sys.stdin.readline().rstrip('\\n'))   # 입력값 추가\n",
        "\n",
        "print(res)"
      ],
      "metadata": {
        "id": "_0LSUPuna9HU"
      },
      "execution_count": null,
      "outputs": []
    },
    {
      "cell_type": "markdown",
      "metadata": {
        "id": "InPGru7oa9K7"
      },
      "source": [
        "####  1672번"
      ]
    },
    {
      "cell_type": "code",
      "source": [
        "m = [['A','C','A','G'],\n",
        "     ['C','G','T','A'],\n",
        "     ['A','T','C','G'],\n",
        "     ['G','A','G','T']]             # 염기 배열 입력\n",
        "\n",
        "m_list = {'A':0,'G':1,'C':2,'T':3}  # 염기 서열  dict형태로 입력\n",
        "\n",
        "n = int(input())                    # 염기 서열의 길이 입력\n",
        "\n",
        "t = input()                         # 염기 서열 입력\n",
        "res = t[-1]                         # 결과 변수 생성(뒤에서 부터 해독 되므로)\n",
        "\n",
        "for k in range(-2,-n-1,-1):         # 맨 뒤에서 두번째 부터 뒤에서 부터 n번째 까지 반복\n",
        "    i = m_list[t[k]]                # 입력된 k 번째 염기\n",
        "    j = m_list[res]                 # 뒷 부분에서 해독된 염기\n",
        "    res = m[i][j]                   # 해독된 염기 서열 업데이트\n",
        "\n",
        "print(res)                          # 해독된 염기 서열 출력"
      ],
      "metadata": {
        "id": "yheIzxIta9K7"
      },
      "execution_count": null,
      "outputs": []
    },
    {
      "cell_type": "markdown",
      "metadata": {
        "id": "MkeGXGAL5ohl"
      },
      "source": [
        "   ####  1813번"
      ]
    },
    {
      "cell_type": "code",
      "source": [
        "n = int(input())                    # 항승이가 한 말의 개수 입력\n",
        "s = list(map(int, input().split())) # 칠판에 작성한 내용 리스트로 입력\n",
        "\n",
        "s.sort(reverse= True)               # 작성한 내용 오름차순 정렬\n",
        "\n",
        "def find(n,s):                      # 몇 개가 참인지 찾는 함수\n",
        "    for i in range(n,-1,-1):        # 가장 큰 값을 출력하기 위해 내림차순 진행\n",
        "        res = 0                     # 작성한 내용이 참인 개수\n",
        "\n",
        "        for j in s:                 # 작성한 리스트\n",
        "            if i == j:              # 내림차순 진행한 i와 참이라고 말한 j가 같으면\n",
        "                res += 1            # res 변수 1 증가\n",
        "        \n",
        "        if res == i:                # 참인 개수와 i가 같으면\n",
        "            return res              # 가능한 값 \n",
        "    \n",
        "    return -1                       # 내용이 모순이면\n",
        "\n",
        "print(find(n,s))                    # 작성한 내용이 몇 개가 참인지 출력"
      ],
      "metadata": {
        "id": "lQA5R2MD5ohm"
      },
      "execution_count": null,
      "outputs": []
    },
    {
      "cell_type": "markdown",
      "metadata": {
        "id": "LQpsIxCK5onk"
      },
      "source": [
        "#### 1524번"
      ]
    },
    {
      "cell_type": "code",
      "source": [
        "import sys\n",
        "input = sys.stdin.readline\n",
        "\n",
        "def main():                         # 메인 함수\n",
        "    for _ in range(int(input())):   # 입력 받은 테스트 케이스의 수 만큼 진행\n",
        "        t = input()                 # 줄바꿈 입력\n",
        "\n",
        "        n,m = map(int, input().split())     # 각각 세준이와 세비의 병사 수 입력\n",
        "        N = list(map(int, input().split())) # 세준이 병사의 힘 리스트로 입력\n",
        "        M = list(map(int, input().split())) # 세비의 병사의 힘 리스트로 입력\n",
        "        \n",
        "        N.sort()                            # 세준이 병사의 힘 내림차순 정렬\n",
        "        M.sort()                            # 세비의 병사의 힘 내림차순 정렬\n",
        "\n",
        "        N_start, M_start = 0, 0             # 각각 시작 index 생성\n",
        "\n",
        "        while N_start < n and M_start < m:  # 각각의 index가 범위에 있으면 반복\n",
        "            if N[N_start] < M[M_start]:     # 세준의 N_start번째 병사가 세비의 M_start병사보다 약하면\n",
        "                N_start += 1                # 세준의 N_start번째 1 증가\n",
        "            else:                           # 강하면\n",
        "                M_start += 1                # 세비의 M_start번째 1 증가\n",
        "\n",
        "        if N_start == n:                    # 세준의 시작 인덱스가 n이면\n",
        "            print('B')                      # 세비의 승리\n",
        "\n",
        "        elif M_start == m:                  # 세비의 시작 인덱스가 m이면\n",
        "            print('S')                      # 세준의 승리\n",
        "\n",
        "        else:                               # 둘다 아닌 경우\n",
        "            print('C')\n",
        "\n",
        "if __name__ == '__main__':\n",
        "    main()                      # 함수형으로 진행"
      ],
      "metadata": {
        "id": "Qdw-Ikf65onl"
      },
      "execution_count": null,
      "outputs": []
    },
    {
      "cell_type": "markdown",
      "source": [
        "#### 4504번"
      ],
      "metadata": {
        "id": "0Zh2q1xWVzVM"
      }
    },
    {
      "cell_type": "code",
      "source": [
        "def main():\n",
        "    t = int(input())        # 배수인지 파악하기 위한 변수 입력\n",
        "\n",
        "    while True:             # 무한 반복\n",
        "        x = int(input())    # 목록의 값 입력\n",
        "        if not x:           # 목록이 0이면\n",
        "            break           # 무한 반복 종료\n",
        "        \n",
        "        can = False         # 배수 여부\n",
        "        if x % t == 0:      # 목록의 값이 t로 나누어지면\n",
        "            can = True      # 배수 여부 True\n",
        "        \n",
        "        if can:             # 배수이면\n",
        "            print('{0} is a multiple of {1}.'.format(x,t))      # 해당 형식으로 출력\n",
        "        else:               # 배수가 아니면 \n",
        "            print('{0} is NOT a multiple of {1}.'.format(x,t))  # 해당 형식으로 출력\n",
        "\n",
        "if __name__ == '__main__':\n",
        "    main()"
      ],
      "metadata": {
        "id": "qxwKtC68VzrA"
      },
      "execution_count": null,
      "outputs": []
    },
    {
      "cell_type": "markdown",
      "source": [
        "#### 10539번"
      ],
      "metadata": {
        "id": "TICrTIpL_P5U"
      }
    },
    {
      "cell_type": "code",
      "source": [
        "def main():\n",
        "    n = int(input())                    # 수열 b의 길이 입력\n",
        "    b = list(map(int, input().split())) # 수열 b 리스트로 입력\n",
        "    \n",
        "    a = []                              # 수열 a 리스트 생성\n",
        "    sum = 0                             # 해당 항까지의 합계\n",
        "    \n",
        "    for i in range(n):                  # 수열 b의 길이 만큼 반복\n",
        "        a.append(b[i]*(i+1) - sum)      # (i번째 까지의 평균값 * (i+1)  - 이전 항의 합계) 입력\n",
        "        sum += a[i]                     # 합계 업데이트\n",
        "            \n",
        "    print(*a)               # 수열 a 출력\n",
        "\n",
        "if __name__ == '__main__':\n",
        "    main()"
      ],
      "metadata": {
        "id": "0tyl9l-A_PfT"
      },
      "execution_count": null,
      "outputs": []
    },
    {
      "cell_type": "markdown",
      "source": [
        "####   4597번"
      ],
      "metadata": {
        "id": "T_nb-VWA3SjZ"
      }
    },
    {
      "cell_type": "code",
      "source": [
        "def main():         # 메인 함수\n",
        "\n",
        "    while True:         # 무한 반복\n",
        "        t = input()         # 각 비트 스트링 입력\n",
        "\n",
        "        if t == '#':        # 비트 스트링이 '#'이면\n",
        "            break               # 반복 종료\n",
        "        \n",
        "        cnt = 0             # 1 의 개수 count 변수\n",
        "        for i in t:         # 각각의 비트 스트링 요소 i\n",
        "            if i == '1':        # i 가 '1' 이면\n",
        "                cnt += 1            # cnt 변수 1 증가\n",
        "\n",
        "        res = t[:-1]        # 비트 스트링 마지막 값 제외하고 res 값 생성\n",
        "\n",
        "        if t[-1] == 'e':    # 비트 스트링의 마지막 값이 'e' 이고\n",
        "            if cnt % 2 == 0:    # 짝수 패리티 이면\n",
        "                res += '0'          # res 마지막 값에 '0' 추가\n",
        "            else:               # 홀수 패리티 이면\n",
        "                res += '1'          # res 마지막 값에 '1' 추가\n",
        "\n",
        "        else:               # 비트 스트링의 마지막 값이 'o'이면\n",
        "            if cnt % 2 == 0:    # 짝수 패리티 이면\n",
        "                res += '1'          # res 마지막 값에 '1' 추가\n",
        "            else:               # 홀수 패리티 이면\n",
        "                res += '0'          # res 마지막 값에 '0' 추가\n",
        "        \n",
        "        print(res)          # 결과 값 출력\n",
        "\n",
        "if __name__ == '__main__':\n",
        "    main()"
      ],
      "metadata": {
        "id": "PTZHWsKJ3S3W"
      },
      "execution_count": null,
      "outputs": []
    },
    {
      "cell_type": "markdown",
      "source": [
        "#### 1773번"
      ],
      "metadata": {
        "id": "Y04N26dj6gAG"
      }
    },
    {
      "cell_type": "code",
      "source": [
        "import sys\n",
        "input = sys.stdin.readline\n",
        "\n",
        "def main():                     # 메인 함수\n",
        "\n",
        "    n, c = map(int, input().split())    # 학생의 수와 폭죽이 끝나는 시간 입력\n",
        "    cnt = [False] * (c+1)               # 시간 별 리스트 생성\n",
        "\n",
        "    for _ in range(n):                  # 학생의 수 만큼 반복\n",
        "        i = int(input())                    # 폭죽을 터트리는 주기 입력\n",
        "        for j in range(i,c+1,i):            # 가능한 시간까지 주기 반복\n",
        "            if not cnt[j]:                      # 폭죽이 터지는 시간에 볼 수 없다면\n",
        "                cnt[j] = True                       # 해당 시간을 볼 수 있게 True 처리\n",
        "    \n",
        "    print(sum(cnt))                     # 폭죽을 볼 수 있는 시간의 합 출력\n",
        "\n",
        "if __name__ == '__main__':\n",
        "    main()      "
      ],
      "metadata": {
        "id": "4mAwuyXK3vjD"
      },
      "execution_count": null,
      "outputs": []
    },
    {
      "cell_type": "markdown",
      "source": [
        "#### 4402번"
      ],
      "metadata": {
        "id": "sF6wQ5h86hZQ"
      }
    },
    {
      "cell_type": "code",
      "source": [
        "import sys\n",
        "#input = sys.stdin.readline\n",
        "\n",
        "def main():                         # 메인 함수\n",
        "    dict_list =    {1 : ['B','F','P','V'], \n",
        "                    2 : ['C','G','J','K','Q','S','X','Z'], \n",
        "                    3 : ['D','T'], \n",
        "                    4 : ['L'], \n",
        "                    5 : ['M','N'], \n",
        "                    6 : ['R'], \n",
        "                    0 : ['A','E','I','O','U','H','W','Y']}\n",
        "                    # 각각의 디지털 문자 dict 형으로 입력\n",
        "\n",
        "    input_list = []                         # 입력 리스트 생성\n",
        "    for i in sys.stdin:                     # 입력된 값, 종료조건이 따로 설정되어 있지 않았음\n",
        "        input_list.append(i.rstrip('\\n'))       # 입력 값 리스트에 추가\n",
        "    \n",
        "    for t in input_list:                    # 각각의 입력 값\n",
        "        res = ':'                               # 결과 변수(이전요소와의 비교를 위해 ':' 형태) 생성\n",
        "        \n",
        "        for i in t:                             # 입력 문자의 요소 i\n",
        "            for k, v in dict_list.items():          # 디지털 문자 dict에서의 key, value\n",
        "                if i in v:                              # 문자 요소가 value안에 속하고\n",
        "                    if res[-1] == str(k):                   # 결과 변수의 마지막 항목이 key와 같다면\n",
        "                        continue                                # 다음 진행\n",
        "                    else:                                   # 같지 않다면\n",
        "                        res += str(k)                           # 결과 변수에 key 문자형으로 입력하고\n",
        "                        break                                   # dict for문 종료\n",
        "\n",
        "        for i in range(1,len(res)):         # 처음 결과 변수 이후 부터\n",
        "            if res[i] != '0':                   # 결과 변수의 i번째 값이 표현 가능하면\n",
        "                print(res[i],end='')                # 해당 값 출력\n",
        "        print()                             # 줄띄움\n",
        "\n",
        "if __name__ == '__main__':\n",
        "    main()      "
      ],
      "metadata": {
        "id": "v7G7T8hL6hZR"
      },
      "execution_count": null,
      "outputs": []
    },
    {
      "cell_type": "markdown",
      "source": [
        "#### 1855번"
      ],
      "metadata": {
        "id": "zuHYlmO16hc1"
      }
    },
    {
      "cell_type": "code",
      "source": [
        "import sys\n",
        "#input = sys.stdin.readline\n",
        "def main():                             # 메인 함수\n",
        "    t = int(input())                    # 열의 개수 입력\n",
        "\n",
        "    s = input() + 'x'                   # 암호화된 문자열 입력 + 'x'(리스트 슬라이싱을 위해 추가)\n",
        "    result = []                         # 문자열 표 리스트 생성\n",
        "\n",
        "    for i in range(int(len(s)//t)):     # 문자열 행렬의 행 만큼 반복\n",
        "        if i % 2 == 1:                      # 홀수 행이면\n",
        "            result.append(s[i*t:i*t+t][::-1])   # 문자열의 i * t 번째 요소부터 t개까지 거꾸로 입력\n",
        "        else:                               # 짝수 행이면\n",
        "            result.append(s[i*t:i*t+t])         # 문자열의 i * t 번째 요소부터 t개까지 입력\n",
        "    \n",
        "    for i in range(t):                  # 열의 개수만큼 반복\n",
        "        for j in range(len(result)):        # 표 리스트 행 수 만큼 반복\n",
        "            print(result[j][i],end='')          # 표 리스트 j행 i열 출력\n",
        "\n",
        "if __name__ == '__main__':\n",
        "    main()      "
      ],
      "metadata": {
        "id": "qGw8Jo_Q6hc2"
      },
      "execution_count": null,
      "outputs": []
    },
    {
      "cell_type": "markdown",
      "source": [
        "#### 2061번"
      ],
      "metadata": {
        "id": "FYTv7wqZ6hgB"
      }
    },
    {
      "cell_type": "code",
      "source": [
        "import sys\n",
        "#input = sys.stdin.readline\n",
        "def main():                         # 메인 함수\n",
        "    k, l = map(int, input().split())    # 키 값 k와 정수 l 입력\n",
        "\n",
        "    can = False                         # 좋은 암호 판단\n",
        "    for i in range(2,l):                # 2 부터 정수 l 전까지 반복\n",
        "        if k % i == 0:                      # 만약 k가 i로 나누어진다면\n",
        "            print('BAD',i)                      # 안 좋은 암호이고 나누어지는 값 i 출력\n",
        "            can = True                          # 안 좋은 암호로 판단\n",
        "            break                               # for 문 종료\n",
        "    \n",
        "    if not can:                         # 좋은 암호이면\n",
        "        print('GOOD')                       # GOOD 출력\n",
        "\n",
        "if __name__ == '__main__':\n",
        "    main()      "
      ],
      "metadata": {
        "id": "iss3HyEL6hgB"
      },
      "execution_count": null,
      "outputs": []
    },
    {
      "cell_type": "markdown",
      "source": [
        "#### 10699번"
      ],
      "metadata": {
        "id": "gdYfXoAM6hi9"
      }
    },
    {
      "cell_type": "code",
      "source": [
        "import sys\n",
        "import datetime\n",
        "\n",
        "#input = sys.stdin.readline\n",
        "def main():                         # 메인 함수\n",
        "    t = datetime.datetime.now() + datetime.timedelta(hours=9)   # 현재시간 + 9시간 추가\n",
        "    \n",
        "    print(t.strftime('%Y-%m-%d'))       #현재시간에서 9시간 추가한 값 해당 형식으로 출력\n",
        "        \n",
        "if __name__ == '__main__':\n",
        "    main()      "
      ],
      "metadata": {
        "id": "ByQiuzsm6hi-"
      },
      "execution_count": null,
      "outputs": []
    },
    {
      "cell_type": "markdown",
      "source": [
        "#### 15482번:한글LCS"
      ],
      "metadata": {
        "id": "fl_uNvW_3BaE"
      }
    },
    {
      "cell_type": "code",
      "source": [
        "import sys\n",
        "input = sys.stdin.readline # sys로 코딩하니까 틀림. (Y?)\n",
        "\n",
        "def main():                     # 메인 함수\n",
        "    a = input().rstrip('\\n')        # 첫번째 문자열 입력\n",
        "    b = input().rstrip('\\n')        # 두번째 문자열 입력\n",
        "\n",
        "    A, B = len(a), len(b)           # 각각의 문자열 길이\n",
        "\n",
        "    dp = [[0] * (B + 1) for _ in range(A + 1)]  # 각 문자열의 길이만큼 2차원 dp 생성\n",
        "\n",
        "    for i in range(A):              # A 문자열 길이 만큼 반복\n",
        "        for j in range(B):              # B 문자열 길이 만큼 반복\n",
        "            \n",
        "            if a[i] == b[j]:                # 각각 i, j 번째 문자가 같다면\n",
        "                dp[i+1][j+1] = dp[i][j] + 1     # 이전 차원 + 1 로 업데이트\n",
        "            \n",
        "            else:                           # 다르면\n",
        "                dp[i+1][j+1] = max(dp[i][j+1], dp[i+1][j]) \n",
        "                                                # 각 차원 - 1의 값 중 최대값으로 업데이트\n",
        "\n",
        "    print(dp[A][B])                 # 두 분자열의 LCS 길이 출력\n",
        "\n",
        "if __name__ == '__main__':\n",
        "    main()"
      ],
      "metadata": {
        "id": "pyQU4LgS3BaE"
      },
      "execution_count": null,
      "outputs": []
    },
    {
      "cell_type": "markdown",
      "source": [
        "#### 1958번 : LCS3"
      ],
      "metadata": {
        "id": "INUAzGUwEfNW"
      }
    },
    {
      "cell_type": "code",
      "source": [
        "import sys\n",
        "input = sys.stdin.readline\n",
        "\n",
        "def main():                             # 메인 함수\n",
        "    a = input().rstrip('\\n')                # 첫 번째 문자열 입력\n",
        "    b = input().rstrip('\\n')                # 두 번째 문자열 입력\n",
        "    c = input().rstrip('\\n')                # 세 번째 문자열 입력\n",
        "\n",
        "    A, B, C = len(a), len(b), len(c)        # 각 문자열의 길이\n",
        "\n",
        "    dp = [[[0] * (C + 1) for _ in range(B + 1)] for _ in range(A+1)]    # 3차원 형식의 dp 생성\n",
        "\n",
        "    for i in range(A):                      # 첫 번째 문자열 길이 만큼 반복\n",
        "        for j in range(B):                      # 두 번째 문자열 길이 만큼 반복\n",
        "            for k in range(C):                      # 세 번째 문자열 길이 만큼 반복\n",
        "\n",
        "                if a[i] == b[j] == c[k]:                # 각각 i, j, k 번째 문자가 같으면\n",
        "                    dp[i+1][j+1][k+1] = dp[i][j][k] + 1     # 이전 차원 dp + 1\n",
        "\n",
        "                else:                                   # 같지 않으면\n",
        "                    dp[i+1][j+1][k+1] = max(dp[i][j+1][k+1], dp[i+1][j][k+1], dp[i+1][j+1][k])\n",
        "                                                            # 각 차원 - 1 중에서 큰 값 입력\n",
        "\n",
        "    print(dp[A][B][C])                      # 세 문자열의 Longest Common Subsequence 출력\n",
        "\n",
        "if __name__ == '__main__':\n",
        "    main()"
      ],
      "metadata": {
        "id": "jvSoEBdZEfNX"
      },
      "execution_count": null,
      "outputs": []
    },
    {
      "cell_type": "markdown",
      "source": [
        "#### 13711번:LCS4"
      ],
      "metadata": {
        "id": "0Jhnh4oREfQ4"
      }
    },
    {
      "cell_type": "code",
      "source": [
        "import sys\n",
        "input = sys.stdin.readline\n",
        "\n",
        "def binary_search(arr, t):          # 이분 탐색 함수\n",
        "    start = 0                           # 시작 index\n",
        "    end = len(arr) - 1                  # 마지막 index\n",
        "\n",
        "    while True:                         # 무한 반복\n",
        "        if start >= end:                    # 시작인덱스가 마지막 index보다 크거나 같으면\n",
        "            mid = (start + end) // 2            # mid는 \n",
        "            return mid                          # mid값 return\n",
        "\n",
        "        mid = (start + end) // 2            # 시작인덱스가 작으면 mid값 업데이트\n",
        "\n",
        "        if arr[mid] < t:                    # 배열의 중간이 t 값보다 작으면\n",
        "            start = mid + 1                     # 시작 index, 중간 + 1로 업데이트\n",
        "        else:                               # 크면\n",
        "            end = mid                           # 마지막 index, 중간으로 업데이트\n",
        "\n",
        "    return mid                          # 해당 하는 index return\n",
        "\n",
        "    \n",
        "\n",
        "def main():                         # 메인 함수\n",
        "    n = int(input())                    # 두 수열의 크기 입력\n",
        "    \n",
        "    a = list(map(int, input().split())) # 첫 번째 수열 리스트 입력\n",
        "    b = list(map(int, input().split())) # 두 번째 수열 리스트 입력\n",
        "    \n",
        "    dict_b = {}                         # 수열 b의 index 값 dict형태로 생성\n",
        "    for i in range(n):                  # 수열의 크기 만큼 반복\n",
        "        dict_b[b[i]] = i                # 수열 b의 i번째 값을 key로 i 를 value로 입력\n",
        "\n",
        "    result = []                         # result 리스트 생성(a 수열을 해당하는 b의 index로 변환)\n",
        "    for i in range(n):                  # 수열의 크기만큼 반복\n",
        "        result.append(dict_b[a[i]])         # 수열 a의 값에 대응하는 b의 index값 입력\n",
        "\n",
        "    res = [-1]                          # LCS 리스트 생성\n",
        "    max_value = 0                       # LCS 최대 길이 변수 생성\n",
        "    for i in range(n):                  # 수열 길이만큼 반복\n",
        "\n",
        "        if res[-1] < result[i]:             # LCS 리스트의 마지막 값이 result의 i번째보다 작으면\n",
        "            res.append(result[i])               # LCS 에 해당 값 추가\n",
        "            max_value = len(res) - 1            # LCS 최대 길이 업데이트\n",
        "\n",
        "        else:                               # result의 i번째 보다 크거나 같으면\n",
        "            t = binary_search(res, result[i])   # LCS 에서 result[i] 번째 값을 분할 탐색을 통해\n",
        "            res[t] = result[i]                  # LCS t번째 index에 업데이트\n",
        "\n",
        "    print(max_value)                    # 두 수열의 LCS 길이 출력\n",
        "\n",
        "if __name__ == '__main__':\n",
        "    main()"
      ],
      "metadata": {
        "id": "g-gpbe3fEfQ9"
      },
      "execution_count": null,
      "outputs": []
    },
    {
      "cell_type": "markdown",
      "source": [
        "#### 1004번:어린왕자"
      ],
      "metadata": {
        "id": "yomX-o9S3CIf"
      }
    },
    {
      "cell_type": "code",
      "source": [
        "import sys\n",
        "input = sys.stdin.readline\n",
        "\n",
        "def main():                                 # 메인 함수\n",
        "    x1, y1, x2, y2 = map(int, input().split())  # 출발점과 도착점 입력\n",
        "    cnt = 0                                     # 최소 진입/이탈 횟수 변수 생성\n",
        "\n",
        "    n = int(input())                            # 행성계의 개수 입력\n",
        "    for _ in range(n):                          # 행성계의 개수 만큼 반복\n",
        "        cx, cy, r = map(int, input().split())           # 행성계의 위치와 반지름 크기 입력\n",
        "\n",
        "        dist_x = abs(x1 - cx) ** 2 + abs(y1 - cy) ** 2  # 출발점과 행성계의 중심 거리 계산\n",
        "        dist_y = abs(x2 - cx) ** 2 + abs(y2 - cy) ** 2  # 도착점과 행성계의 중심 거리 계산\n",
        "\n",
        "        diff_x = dist_x - r ** 2                        # dist_x - 반지름의 제곱\n",
        "        diff_y = dist_y - r ** 2                        # dist_y - 반지름의 제곱\n",
        "\n",
        "                                                        # 피타고라스 정리 사용\n",
        "        if diff_x < 0 and diff_y < 0:                   # 출발점과 도착점이 모두 행성계의 안쪽에 있는 경우\n",
        "            continue                                        # 다음 행성 계산\n",
        "        elif diff_x > 0 and diff_y > 0:                 # 출발점과 도착점이 모두 행성계의 바깥쪽에 있는 경우\n",
        "            continue                                        # 다음 행성 계산\n",
        "        else:                                           # 출발점과 도착점 중 한 곳만 행성계의 안쪽에 있는 경우\n",
        "            cnt += 1                                        # 진입 횟수 1 증가\n",
        "    \n",
        "    print(cnt)                                  # 결과 값 출력\n",
        "\n",
        "if __name__ == '__main__':\n",
        "    t = int(input())                        # 테스트 케이스 개수 입력\n",
        "    for _ in range(t):                      # 테스트 케이스 개수 만큼 반복\n",
        "        main()                                  # 함수형으로 진행"
      ],
      "metadata": {
        "id": "JiOKwiee3CIg"
      },
      "execution_count": null,
      "outputs": []
    },
    {
      "cell_type": "markdown",
      "source": [
        "#### 1015번:수열정렬"
      ],
      "metadata": {
        "id": "UB0weMHW3CsX"
      }
    },
    {
      "cell_type": "code",
      "source": [
        "import sys\n",
        "input = sys.stdin.readline\n",
        "\n",
        "def main():                         # 메인 함수\n",
        "    n = int(input())                    # 배열 A의 크기 입력\n",
        "    s = list(map(int, input().split())) # 배열 A 리스트 입력\n",
        "    t = sorted(s)                       # 배열 A 내림차순 정렬\n",
        "\n",
        "    p = [False] * n                     # 비내림차순으로 만드는 수열 p 리스트 생성\n",
        "                                        # B[p[i]] = A[i], 비내림차순 = 오름차순\n",
        "                                        # 결론적으로 A를 오름차순으로 정렬한 값에 해당하는 index 값\n",
        "\n",
        "    visited = [False] * n               # 배열의 요소 방문여부 리스트\n",
        "\n",
        "    for i in range(n):                  # 배열의 크기만큼 반복\n",
        "        for j in range(n):                  # 배열의 크기만큼 반복\n",
        "            if visited[j]:                      # j번째 요소를 방문 했으면\n",
        "                continue                            # 다음 요소 진행\n",
        "            \n",
        "            if s[i] == t[j]:                    # 배열 A의 i와 배열 A를 내림차순한 t의 j의 값이 같으면\n",
        "                visited[j] = True                   # j번째 요소 방문 처리\n",
        "                p[i] = j                            # p배열의 i번째 요소에 j 입력\n",
        "                break                               # j for문 종료\n",
        "\n",
        "    print(*p)                           # 비내림차순으로 만든 수열 p 출력\n",
        "\n",
        "if __name__ == '__main__':\n",
        "    main()"
      ],
      "metadata": {
        "id": "ktAcY3_B3CsX"
      },
      "execution_count": null,
      "outputs": []
    },
    {
      "cell_type": "markdown",
      "source": [
        "#### 1173번"
      ],
      "metadata": {
        "id": "bs9X4C093C2h"
      }
    },
    {
      "cell_type": "code",
      "source": [
        "import sys\n",
        "input = sys.stdin.readline\n",
        "\n",
        "def main():             # 메인 함수\n",
        "    N, m, M, T, R = map(int, input().split())   # 각 변수 입력\n",
        "\n",
        "    hb = m                  # 현재 맥박\n",
        "    work_t = 0              # 운동 시간\n",
        "    rest_t = 0              # 휴식 시간\n",
        "\n",
        "    while work_t != N:      # 운동시간이 N이 될때까지 반복\n",
        "        if hb + T <= M:         # 1분동안 운동을 한후 맥박이 M을 넘지 않으면\n",
        "            work_t += 1             # 운동시간 1 증가\n",
        "            hb += T                 # 현재 맥박 업데이트\n",
        "        else:                   # 넘으면\n",
        "            rest_t += 1             # 휴식시간 1 증가\n",
        "\n",
        "            if hb == m:             # 현재 맥박이 초기 맥박과 같은 경우\n",
        "                                    # (초기 상태에서 1분이라도 운동을 하면 맥박이 M을 넘어버리는 경우)\n",
        "                work_t = 0              # 운동 시간 0 으로 업데이트\n",
        "                rest_t = -1             # 휴식시간을 -1 로 업데이트(운동을 N분 하지 못하는 경우)\n",
        "                break                   # while문 종료\n",
        "            \n",
        "            hb -= R                 # 현재 맥박 - 휴식 후 맥박으로 업데이트\n",
        "            if hb < m:              # 현재 맥박이 초기 맥박 m 보다 작으면\n",
        "                hb = m                  # 현재 맥박을 초기 맥박 m 으로 업데이트\n",
        "\n",
        "    print(work_t + rest_t)  # 운동을 N분하는데 필요한 시간의 최솟값 출력\n",
        "\n",
        "if __name__ == '__main__':\n",
        "    main()"
      ],
      "metadata": {
        "id": "vFils6kt3C2h"
      },
      "execution_count": null,
      "outputs": []
    },
    {
      "cell_type": "markdown",
      "source": [
        "#### 1236번"
      ],
      "metadata": {
        "id": "BTEyIckftAC1"
      }
    },
    {
      "cell_type": "code",
      "source": [
        "import sys\n",
        "input = sys.stdin.readline\n",
        "def main():                         # 메인 함수\n",
        "    n, m= map( int, input().split())    # 성의 행, 열 길이 입력\n",
        "\n",
        "    row_t = [True] * n                  # 경비원 존재 유무의 행 리스트\n",
        "    col_t = [True] * m                  # 경비원 존재 유무의 열 리스트\n",
        "\n",
        "    s = []                              # 성의 상태 리스트 생성\n",
        "    for _ in range(n):                  # 성의 행 크기 만큼 반복\n",
        "        s.append(input().rstrip('\\n'))      # 성의 상태 리스트 입력\n",
        "    \n",
        "    for i in range(n):                  # 행 길이 만큼 반복\n",
        "        for j in range(m):                  # 열 길이 만큼 반복\n",
        "            if s[i][j] == 'X':                  # i, j 번째 요소가 'X'이면\n",
        "                row_t[i] = False                    # 성의 i 번째 행 False 업데이트\n",
        "                col_t[j] = False                    # 성의 j 번쨰 열 False 업데이트\n",
        "\n",
        "    res = 0                             # 추가해야하는 경비원\n",
        "    if min(sum(row_t), sum(col_t)) == 0:    # 행이나 열 중 경비원이 모두 있는 경우가 있으면\n",
        "        res = max(sum(row_t), sum(col_t))   # 남은 열이나 행에서 경비원이 없는 칸으로 업데이트\n",
        "        print(res)                          # res 변수 출력\n",
        "        return                              # 메인 함수 종료\n",
        "\n",
        "    for i in range(n):                  # 성의 행 길이 만큼 반복\n",
        "        if row_t[i]:                        # i번째 행에 경비원이 없고\n",
        "            for j in range(m):                  # 성의 열 길이 만큼 반복\n",
        "                if col_t[j]:                        # j번째 열에 경비원이 없으면\n",
        "                    res += 1                            # 경비원 1 추가\n",
        "                    row_t[i] = False                    # i번째 행 False 업데이트\n",
        "                    col_t[j] = False                    # j번째 열 False 업데이트\n",
        "                    break                               # j for 문 종료\n",
        "\n",
        "    print(res + sum(col_t) + sum(row_t))    # res + 행, 열 각각 경비원이 없는 수\n",
        "\n",
        "if __name__ == '__main__':\n",
        "    main()"
      ],
      "metadata": {
        "id": "5LDqG3JMtAC2"
      },
      "execution_count": null,
      "outputs": []
    },
    {
      "cell_type": "markdown",
      "source": [
        "#### 1271번"
      ],
      "metadata": {
        "id": "2tJtkLAztAHb"
      }
    },
    {
      "cell_type": "code",
      "source": [
        "import sys\n",
        "input = sys.stdin.readline\n",
        "\n",
        "def main():                     # 메인 함수\n",
        "    a, b = map(int, input().split())    # 백준 조교가 가진 돈과 받으러 온 생명체의 수 입력\n",
        "    t = a // b                          # 생명체의 수로 나눈 몫\n",
        "    print(t)                            # 생명체 하나당 돌아가는 돈 출력\n",
        "    print(a - t*b)                      # 남은 돈 출력\n",
        "\n",
        "if __name__ == '__main__':\n",
        "    main()"
      ],
      "metadata": {
        "id": "KKLplfqGtAHb"
      },
      "execution_count": null,
      "outputs": []
    },
    {
      "cell_type": "markdown",
      "source": [
        "#### 1024번(*) : 수열의 합"
      ],
      "metadata": {
        "id": "foaHOJVEUBDm"
      }
    },
    {
      "cell_type": "code",
      "source": [
        "### https://pacific-ocean.tistory.com/104\n",
        "### 식 풀이를 했어야 했음.\n",
        "\n",
        "'''\n",
        "n = x + (x + 1) + (x + 2) + (x + 3) ··· (x + (l - 1))\n",
        "n = (x * l) + (1부터 l - 1까지 합)\n",
        "n = (x * l) + t\n",
        "x = (n - t) / l 이렇게 식을 나타낼 수 있다.\n",
        "'''\n",
        "\n",
        "import sys\n",
        "input = sys.stdin.readline\n",
        "\n",
        "def main():                             # 메인 함수\n",
        "    n, l = map(int, input().split())        # 각 정수 입력 \n",
        "    t = 0                                   # 1 부터 n-1 까지의 합 변수 생성\n",
        "    x = -1                                  # 수열의 시작 변수 생성\n",
        "    iter = 0                                # 반복 회수 변수 생성\n",
        "\n",
        "    for i in range(l, 101):                     # l부터 100까지 반복\n",
        "        t = (i * i - i) / 2                         # i까지의 합i * (i-1) / 2 으로 업데이트\n",
        "        if (n - t) % i == 0 and (n - t) // i >= 0:  # n - t가 i 로 나누어지고 몫이 0 이상일 때\n",
        "            x = (n - t) // i                            # x를 n - t를 i로 나눈 몫으로 업데이트\n",
        "            iter = i                                    # i번까지 반복\n",
        "            break                                       # i for 문 종료\n",
        "\n",
        "    if x == -1:                             # 그러한 수열이 없을 때\n",
        "        print(-1)                               # -1 출력\n",
        "    else:                                   # 수열이 있으면\n",
        "        for i in range(iter):                   # x 부터 x + (iter-1) 까지 반복\n",
        "            print(int(x + i), end=' ')              # 결과 값 가로로 출력\n",
        "\n",
        "if __name__ == '__main__':\n",
        "    main()"
      ],
      "metadata": {
        "id": "MGw955jeUBDp"
      },
      "execution_count": null,
      "outputs": []
    },
    {
      "cell_type": "markdown",
      "source": [
        "#### 1026번"
      ],
      "metadata": {
        "id": "nvyv1g8XQU4w"
      }
    },
    {
      "cell_type": "code",
      "source": [
        "import sys\n",
        "input = sys.stdin.readline\n",
        "\n",
        "def main():                     # 메인 함수\n",
        "    n = int(input())                # 길이 입력\n",
        "    A = list(map(int, input().split())) # 배열 A 리스트 입력\n",
        "    B = list(map(int, input().split())) # 배열 B 리스트 입력\n",
        "\n",
        "    A.sort()                        # 배열 A 오름차순\n",
        "    B.sort(reverse=True)            # 배열 B 내림차순\n",
        "\n",
        "    res = 0                         # 결과 변수 생성\n",
        "    for i in range(n):              # 길이 만큼 반복\n",
        "        res += A[i] * B[i]          # 결과변수 각 배열의 i 번째 요소 곱 만큼 증가\n",
        "    \n",
        "    print(res)                      # 결과변수 출력\n",
        "\n",
        "if __name__ == '__main__':\n",
        "    main()"
      ],
      "metadata": {
        "id": "KXqKHyqXQU4w"
      },
      "execution_count": null,
      "outputs": []
    },
    {
      "cell_type": "markdown",
      "source": [
        "#### 1049번"
      ],
      "metadata": {
        "id": "Q_Mt6QbqQVLs"
      }
    },
    {
      "cell_type": "code",
      "source": [
        "import sys\n",
        "input = sys.stdin.readline\n",
        "\n",
        "def main():                             # 메인 함수\n",
        "    n, m = map(int, input().split())        # 기타줄의 개수, 기타줄 브랜드 입력\n",
        "    \n",
        "    pakages, each = [], []                  # 패키지 가격 및 낱개 가격 리스트 생성\n",
        "    for _ in range(m):                      # 기타줄 브랜드 만큼 반복\n",
        "        x, y = map(int, input().split())        # 브랜드의 패키지 가격과 낱개 가격 입력\n",
        "        pakages.append(x)                       # 패키지 가격 리스트에 추가\n",
        "        each.append(y)                          # 낱개 가격 리스트에 추가\n",
        "    \n",
        "    pakages.sort()                          # 패키지 가격 리스트 오름차순 정렬\n",
        "    each.sort()                             # 낱개 가격 리스트 오름차순 정렬\n",
        "\n",
        "    res = 0                                 # 필요한 돈 변수 생성\n",
        "    while n > 0:                            # 필요한 기타줄의 개수가 양수이면 반복\n",
        "        if n // 6 > 0:                          # 필요한 기타줄의 개수가 6 보다 크면\n",
        "            if pakages[0] > each[0] * 6:            # 낱개로 6개사는게 싼경우\n",
        "                res += (each[0] * 6) * (n // 6)         # 필요한 돈을 (가장 싼 낱개가격 * 6으로 나눈 몫) 으로 업데이트\n",
        "\n",
        "            else:                                   # 패키지로 6개사는게 싼경우\n",
        "                res += pakages[0] * (n // 6)            # 필요한 돈을 (가장 싼 패키지 가격 * 6으로 나눈 몫) 으로 업데이트\n",
        "\n",
        "            n %= 6                              # 필요한 기타줄의 개수 6 으로 나눈 나머지 값으로 업데이트\n",
        "\n",
        "        else:                                   # 6 보다 작으면            \n",
        "            if pakages[0] > each[0] * n:            # 낱개로 나머지를 사는경우가 더 싼경우\n",
        "                res += each[0] * n                      # 필요한 돈을 (가장 싼 낱개 * n개) 로 업데이트\n",
        "\n",
        "            else:                                   # 패키지를 하나 더사는 경우가 더 싼경우\n",
        "                res += pakages[0]                       # 필요한 돈을 가장 싼 패키지 가격 추가\n",
        "            \n",
        "            n = 0                                   # 필요한 기타줄의 개수 0 으로 업데이트\n",
        "    \n",
        "    print(res)                              # 필요한 가격 변수 출력\n",
        "\n",
        "if __name__ == '__main__':\n",
        "    main()"
      ],
      "metadata": {
        "id": "Oo6gpAD9QVLs"
      },
      "execution_count": null,
      "outputs": []
    },
    {
      "cell_type": "markdown",
      "source": [
        "#### 1051번"
      ],
      "metadata": {
        "id": "CWT4iS2ert0S"
      }
    },
    {
      "cell_type": "code",
      "source": [
        "import sys\n",
        "input = sys.stdin.readline\n",
        "\n",
        "def square(i,j,x,t):            # 해당 원소로 가장 큰 정사각형 크기를 찾는 함수\n",
        "    global s, res                   # 글로벌 변수 생성\n",
        "    for k in range(1,t+1):          # 행과 열중 가장 빠르게 도달하는 부분 까지 반복\n",
        "        if x != s[i+k][j]:              # 입력받은 x의 값과 i+k, j 번째 원소가 같지 않으면\n",
        "            continue                        # 다음 k 진행\n",
        "        if x != s[i][j+k]:              # 입력받은 x의 값과 i, j+k 번째 원소가 같지 않으면\n",
        "            continue                        # 다음 k 진행\n",
        "        if x != s[i+k][j+k]:            # 입력받은 x의 값과 i+k, j+k 번째 원소가 같지 않으면\n",
        "            continue                        # 다음 k 진행\n",
        "        \n",
        "        if res < (k+1) ** 2:            # 정사각형의 크기가 (k+1)번째 정사각형의 크기보다 작으면\n",
        "            res = (k+1) ** 2                # 정사각형 크기 업데이트\n",
        "\n",
        "def main():                         # 메인 함수\n",
        "    global s, res                       # 글로벌 변수 설정\n",
        "\n",
        "    n, m = map(int, input().split())    # 행, 열 크기 입력 \n",
        "    s = []                              # 정사각형 리스트 생성\n",
        "    for _ in range(n):                  # 행 수 만큼 반복\n",
        "        s.append(input().rstrip('\\n'))      # 정사각형 리스트에 input값 입력\n",
        "\n",
        "    res = 1                             # 정사각형의 크기 변수 생성(제일 작은 정사각형은 1)\n",
        "    for i in range(n):                  # 행 수만큼 반복\n",
        "        for j in range(m):                  # 열 수만큼 반복\n",
        "            square(i,j,s[i][j], min(n-i-1, m-j-1))  # square 함수 실행, 우하향 방식\n",
        "    print(res)                          # 정사각형의 크기 변수 출력\n",
        "\n",
        "if __name__ == '__main__':\n",
        "    main()"
      ],
      "metadata": {
        "id": "UmgmWEYKrt0T"
      },
      "execution_count": null,
      "outputs": []
    },
    {
      "cell_type": "markdown",
      "source": [
        "#### 1052번"
      ],
      "metadata": {
        "id": "jyPXRy8ZyCvz"
      }
    },
    {
      "cell_type": "code",
      "source": [
        "import sys\n",
        "input = sys.stdin.readline\n",
        "\n",
        "def main():                             # 메인 함수\n",
        "    n, k = map(int, input().split())        # n개의 물병, k개의 이동\n",
        "\n",
        "    n = str(bin(n))[2:]                     # n개의 물병 이진코드로 표현\n",
        "\n",
        "    cnt = 0                                 # 이동 횟수 변수 생성\n",
        "    result = 0                              # 필요한 물병의 개수 변수 생성\n",
        "    res_bit = ''                            # 0 으로 만들어야 할 이진 코드 변수 생성\n",
        "\n",
        "    for i in n:                             # 이진코드의 요소 i\n",
        "        if cnt < k:                             # 이동 횟수가 k보다 작으면\n",
        "            if i == '1':                            # 요소 i가 '1' 이면\n",
        "                cnt += 1                                # cnt 1 증가\n",
        "        else:                                   # 이동 횟수가 k보다 같거나 크면\n",
        "            res_bit += i                            # 0으로 만들어야 할 이진 코드 변수에 추가\n",
        "\n",
        "    # (8 1)의 반례 때문에 조금 해맸음\n",
        "    if res_bit == '' or '1' not in res_bit: # res_bit이 없거나 이미 0이라면\n",
        "        print(0)                                # 0 출력\n",
        "        return                                  # 메인 함수 종료\n",
        "\n",
        "    res_bit = res_bit[::-1]                 # res_bit 변수 뒤집기\n",
        "    for i in range(len(res_bit)):           # res_bit 변수 크기 만큼 반복\n",
        "        if res_bit[i] == '0':                   # i번째 요소가 '0' 이면\n",
        "            result += 2 ** i                        # not 연산을 위해 2 ** i 값 추가\n",
        "\n",
        "    print(result + 1)                       # 0 으로 만들어야 하기에 1을 추가하여 출력\n",
        "\n",
        "if __name__ == '__main__':\n",
        "    main()"
      ],
      "metadata": {
        "id": "5tXuaU31yCv0"
      },
      "execution_count": null,
      "outputs": []
    },
    {
      "cell_type": "markdown",
      "source": [
        "#### 1057번"
      ],
      "metadata": {
        "id": "ALUnbbrdfgjl"
      }
    },
    {
      "cell_type": "code",
      "source": [
        "import sys\n",
        "sys.setrecursionlimit(int(1e9))\n",
        "input = sys.stdin.readline\n",
        "\n",
        "def main():                 # 메인 함수\n",
        "    n , kim_n, im_n = map(int, input().split()) # 참가자의 수, 김지민의 번호, 임한수의 번호 입력\n",
        "    round = 1               # 라운드 번호\n",
        "    \n",
        "    while n > 0:            # 참가자의 수가 양수일 동안 반복\n",
        "\n",
        "        kim_n += 1          # 매 라운드 마다 2명씩 그룹화 진행\n",
        "        im_n += 1           # 그룹화를 위해 오른쪽으로 1씩 미룸\n",
        "\n",
        "        kim_n //= 2         # 다음 라운드에 각각 몇 번째 그룹인지 나타내기 위해\n",
        "        im_n //= 2          # 2로 나눈 몫 입력\n",
        "        \n",
        "        n //= 2             # 참가자수 2로 나눔\n",
        "        \n",
        "        if kim_n == im_n:   # 김지민과 임한수의 그룹이 같으면\n",
        "            break           # while문 종료\n",
        "        \n",
        "        round += 1          # 라운드 1 증가\n",
        "    \n",
        "    print(round)            # 라운드 출력\n",
        "\n",
        "if __name__ == '__main__':  \n",
        "    main()                  # 함수형으로 진행"
      ],
      "metadata": {
        "id": "Sedm0HVzfgjm"
      },
      "execution_count": null,
      "outputs": []
    },
    {
      "cell_type": "markdown",
      "source": [
        "#### 1058번"
      ],
      "metadata": {
        "id": "6kR76xLjXJBq"
      }
    },
    {
      "cell_type": "code",
      "source": [
        "import sys\n",
        "sys.setrecursionlimit(int(1e9))\n",
        "input = sys.stdin.readline\n",
        "\n",
        "def main():                                 # 메인 함수\n",
        "    n = int(input())                            # 정수 입력\n",
        "    m = [input().rstrip('\\n') for _ in range(n)]# n x n 행렬 입력\n",
        "\n",
        "    result = [[0] * n for _ in range(n)]        # 결과 n x n 행렬 생성\n",
        "    \n",
        "    for i in range(n):                          # 행 수 만큼 반복\n",
        "        for j in range(n):                          # 열 수 만큼 반복\n",
        "            if m[i][j] == 'Y':                          # i행, j열의 요소가 'Y'이면\n",
        "                result[i][j] = 1                            # 결과 행렬에 1로 변경\n",
        "                for k in range(n):                          # 열 수 만큼 반복\n",
        "                    if m[j][k] == 'Y':                          # j행 k열의 값이 Y이면\n",
        "                        result[i][k] = 1                            # 결과 행렬 i행 k열에 1로 업데이트\n",
        "\n",
        "    max = 0                                     # 최대 친구의 수\n",
        "    for i in range(n):                          # 행 수만큼 반복\n",
        "        result[i][i] = 0                            # 자기 자신은 친구로 취급 x 이므로 0으로 변경\n",
        "        if max < sum(result[i]):                    # 최대 친구의 수가 결과행렬 i 행의 합계보다 작으면\n",
        "            max = sum(result[i])                        # 해당 값으로 최대 친구의 수 업데이트\n",
        "\n",
        "    print(max)                                  # 최대 친구의 수 업데이트\n",
        "    \n",
        "if __name__ == '__main__':  # 프로그램 시작점 지정\n",
        "    main()                      # 메인 함수 실행"
      ],
      "metadata": {
        "id": "yLX3V61zXJBr"
      },
      "execution_count": null,
      "outputs": []
    },
    {
      "cell_type": "markdown",
      "source": [
        "#### 1059번"
      ],
      "metadata": {
        "id": "bdvgnEAYTsOp"
      }
    },
    {
      "cell_type": "code",
      "source": [
        "import sys\n",
        "sys.setrecursionlimit(int(1e9))\n",
        "input = sys.stdin.readline\n",
        "\n",
        "def count(start, end, n):       # start와 end 사이에 n이 포함될 구간의 개수 count\n",
        "    res = 0                         # 결과 변수 생성\n",
        "    for i in range(start+1, n+1):   # 시작지점은 start 다음부터 n까지 진행\n",
        "        for j in range(n, end):         # 마지막 지점은 end 이전까지 진행\n",
        "            if i >= j:                      # 시작지점이 끝지점보다 크거나 같으면\n",
        "                continue                        # continue\n",
        "            res += 1                        # 결과값 1 증가\n",
        "    print(res)                      # 결과 값 출력\n",
        "\n",
        "def main():                         # 메인 함수\n",
        "    l = int(input())                    # 집합 s의 크기 입력\n",
        "    s = list(map(int, input().split())) # 집합 s 입력\n",
        "    n = int(input())                    # 정수 입력\n",
        "\n",
        "    s.sort()                            # 집합 오름차순 정렬\n",
        "    s = [0] + s                         # 첫번째 구간은 0 부터 시작\n",
        "\n",
        "    for i in range(l):                  # 집합의 크기 만큼 반복\n",
        "        if s[i] < n < s[i+1]:               # 집합의 i번째와 i+1번째 구간 사이에 n이 포함되면\n",
        "            count(s[i],s[i+1],n)                # 해당 구간에 n이 포함될 부분집합의 개수\n",
        "            return                              # 메인 함수 종료\n",
        "\n",
        "    print(0)                            # n이 포함된 구간이 없으면 0 출력\n",
        "\n",
        "if __name__ == '__main__':  # 프로그램 시작점 지정\n",
        "    main()                      # 메인 함수 실행"
      ],
      "metadata": {
        "id": "uJkfwRxDTsOp"
      },
      "execution_count": null,
      "outputs": []
    },
    {
      "cell_type": "markdown",
      "source": [
        "#### 1063번"
      ],
      "metadata": {
        "id": "Hh1tMP58_R_P"
      }
    },
    {
      "cell_type": "code",
      "source": [
        "import sys\n",
        "sys.setrecursionlimit(int(1e9))\n",
        "input = sys.stdin.readline\n",
        "\n",
        "def main():                                                         # 메인 함수\n",
        "    start, end, n = input().rstrip('\\n').split()                        # 킹과 돌의 위치 및 움직이는 횟수 입력\n",
        "\n",
        "    move = {'R' : [1,0],                                                # 움직임 dict 생성,R 한칸 오른쪽\n",
        "            'L' : [-1,0],                                               # L 한 칸 왼쪽\n",
        "            'B' : [0,-1],                                               # B 한 칸 아래로\n",
        "            'T' : [0,1],                                                # T 한 칸 위로\n",
        "            'RT' : [1,1],                                               # RT 오른쪽 위 대각선으로\n",
        "            'LT' : [-1,1],                                              # LT 왼쪽 위 대각선으로\n",
        "            'RB' : [1,-1],                                              # RB 오른쪽 아래 대각선으로\n",
        "            'LB' : [-1,-1]}                                             # LB 왼쪽 아래 대각선으로\n",
        "\n",
        "    columns = {'A':1,'B':2,'C':3,                                       # 체스판의 열 dict 생성\n",
        "               'D':4,'E':5,'F':6,                                       # 각 알파벳 순서대로\n",
        "               'G':7,'H':8}\n",
        "    \n",
        "    king = [columns[start[0]], int(start[1])]                           # 킹의 위치 정수형으로 변환\n",
        "    stone = [columns[end[0]], int(end[1])]                              # 돌의 위치 정수형으로 변환\n",
        "\n",
        "    for _ in range(int(n)):                                             # 움직이는 횟수 만큼 반복\n",
        "        movement = move[input().rstrip('\\n')]                               # 움직임 dict형태에서 가져옴\n",
        "        curr_king = [king[0] + movement[0], king[1] + movement[1]]          # 움직인 킹의 위치\n",
        "        curr_stone = stone                                                  # 현재 돌의 위치\n",
        "\n",
        "        if curr_king == curr_stone:                                         # 킹을 움직였는데 돌과 같은 칸이라면\n",
        "            curr_stone = [stone[0] + movement[0], stone[1] + movement[1]]       # 돌도 킹과 같이 움직임\n",
        "\n",
        "        if 0 < curr_king[0] < 9 and 0 < curr_king[1] < 9:                   # 킹의 위치가 체스판 안에 있으면\n",
        "            if 0 < curr_stone[0] < 9 and 0 < curr_stone[1] < 9:                 # 돌의 위치가 체스판 안에 있으면\n",
        "                king = curr_king                                                    # 킹의 위치 현재 킹의 위치로 업데이트\n",
        "                stone = curr_stone                                                  # 돌의 위치 현재 돌의 위치로 업데이트\n",
        "    \n",
        "    for k, v in columns.items():                                        # 열 dict를 keym value 형태로 반복\n",
        "        if v == king[0]:                                                    # value의 값이 킹의 열과 같으면\n",
        "            print(k,end='')                                                     # 킹의 열을 알파벳으로 변환하여 출력\n",
        "            print(king[1])                                                      # 킹의 행 출력\n",
        "    \n",
        "    for k, v in columns.items():                                        # 열 dict를 keym value 형태로 반복\n",
        "        if v == stone[0]:                                                   # value의 값이 돌의 열과 같으면\n",
        "            print(k,end='')                                                     # 돌의 열을 알파벳으로 변환하여 출력\n",
        "            print(stone[1])                                                     # 돌의 행 출력\n",
        "\n",
        "if __name__ == '__main__':  # 프로그램 시작점 지정\n",
        "    main()                      # 메인 함수 실행"
      ],
      "metadata": {
        "id": "G4hQgnDp_R_U"
      },
      "execution_count": null,
      "outputs": []
    },
    {
      "cell_type": "markdown",
      "source": [
        "#### 1072번"
      ],
      "metadata": {
        "id": "6TLnmQh0IY6S"
      }
    },
    {
      "cell_type": "code",
      "source": [
        "import sys, math\n",
        "sys.setrecursionlimit(int(1e9))\n",
        "input = sys.stdin.readline\n",
        "\n",
        "def main():                         # 메인 함수\n",
        "    x, y = map(int, input().split())    # 게임횟수, 이긴 게임 횟수 입력\n",
        "\n",
        "    if x == y:                          # x, y가 같으면\n",
        "        print(-1)                           # z가 절대로 변하지 않으므로 -1 출력\n",
        "        return                              # 메인 함수 종료\n",
        "\n",
        "    try:                                # error가 없으면\n",
        "        z = int(y * 100 / x)                # 승룰 * 100 의 정수 (int((y / x)*100) 은 오답 처리 bc. 10 / 9 같은 정확한 값 입력이 안됨)\n",
        "        t = (x*z + x - 100*y) / (99 - z)    # z + 1 = (y + t) * 100 / (x + t)의 방정식 풀이\n",
        "        print(math.ceil(t))                 # t 값 올림 처리 하여 출력\n",
        "    except:                             # error가 나오면(ex. 1 / 0 ZeroDivision)\n",
        "        print(-1)                           # -1 출력\n",
        "\n",
        "if __name__ == '__main__':  # 프로그램 시작점 지정\n",
        "    main()                      # 메인 함수 실행"
      ],
      "metadata": {
        "id": "iT7NOJ6NIY6g"
      },
      "execution_count": null,
      "outputs": []
    },
    {
      "cell_type": "markdown",
      "source": [
        "#### 1064번"
      ],
      "metadata": {
        "id": "Gp00veVJRo8D"
      }
    },
    {
      "cell_type": "code",
      "source": [
        "import sys\n",
        "#sys.setrecursionlimit(int(1e9))\n",
        "input = sys.stdin.readline\n",
        "\n",
        "def main():\n",
        "    xa, ya, xb, yb, xc, yc = map(int, input().split())\n",
        "\n",
        "    if xa - xb:\n",
        "        grad = (ya - yb) / (xa - xb)\n",
        "        if not grad * (xc - xa) - (yc - ya):\n",
        "            print(-1)\n",
        "            return\n",
        "    else:\n",
        "        if not xa - xc: # a, b, c 점 모두 한 직선\n",
        "            print(-1)\n",
        "            return\n",
        "        \n",
        "        grad = (ya - yc) / (xa - xc)\n",
        "        if not grad * (xb - xa) - (yb - ya):\n",
        "            print(-1)\n",
        "            return\n",
        "\n",
        "    a = ((xa - xb) ** 2 + (ya - yb) ** 2) ** 0.5\n",
        "    b = ((xb - xc) ** 2 + (yb - yc) ** 2) ** 0.5\n",
        "    c = ((xc - xa) ** 2 + (yc - ya) ** 2) ** 0.5\n",
        "\n",
        "    print(2 * (max(a + b, b + c, c + a) - min(a + b, b + c, c + a)))\n",
        "\n",
        "if __name__ == '__main__':  # 프로그램 시작점 지정\n",
        "    main()                      # 메인 함수 실행"
      ],
      "metadata": {
        "id": "CjgMxsrTRo8H"
      },
      "execution_count": null,
      "outputs": []
    },
    {
      "cell_type": "markdown",
      "source": [
        "#### 1074번"
      ],
      "metadata": {
        "id": "LCOeidk0zLZW"
      }
    },
    {
      "cell_type": "code",
      "source": [
        "import sys\n",
        "sys.setrecursionlimit(int(1e9))\n",
        "input = sys.stdin.readline\n",
        "\n",
        "def dfs(n, x, y):\n",
        "    global ans\n",
        "\n",
        "    if n <= 1:\n",
        "        return\n",
        "\n",
        "    if x <= int(n / 2):\n",
        "        if y <= int(n / 2): # 왼쪽 위\n",
        "            dfs(int(n/2), x, y)\n",
        "        else:   # 오른쪽 위\n",
        "            ans += int(n / 2) ** 2\n",
        "            dfs(int(n/2), x, y - n/2)\n",
        "\n",
        "    else:\n",
        "        if y <= int(n / 2): # 왼쪽 아래\n",
        "            ans += 2 * (int(n / 2) ** 2)\n",
        "            dfs(int(n/2), x-n/2, y)\n",
        "        else:       # 오른쪽 아래\n",
        "            ans += 3 * (int(n / 2) ** 2)\n",
        "            dfs(int(n/2), x-n/2, y-n/2)\n",
        "\n",
        "def main():\n",
        "    global ans\n",
        "    N, r, c = map(int ,input().split())\n",
        "\n",
        "    ans = 0\n",
        "    dfs(2**N, r+1, c+1)\n",
        "    print(ans)\n",
        "\n",
        "    \n",
        "\n",
        "if __name__ == '__main__':  # 프로그램 시작점 지정\n",
        "    main()                      # 메인 함수 실행"
      ],
      "metadata": {
        "id": "0cGxZyUFzLZa"
      },
      "execution_count": null,
      "outputs": []
    },
    {
      "cell_type": "markdown",
      "source": [
        "#### 1094번"
      ],
      "metadata": {
        "id": "6YNZa2FLFH50"
      }
    },
    {
      "cell_type": "code",
      "source": [
        "import sys\n",
        "#sys.setrecursionlimit(int(1e9))\n",
        "input = sys.stdin.readline\n",
        "\n",
        "def main():\n",
        "    x = int(input())\n",
        "\n",
        "    l = [64]\n",
        "    \n",
        "    while True:\n",
        "        if sum(l) <= x:\n",
        "            break\n",
        "               \n",
        "        t = l[0] / 2\n",
        "        l += [t, t]\n",
        "        l = l[1:]\n",
        "    \n",
        "        if sum(l) - t >= x:\n",
        "            l = l[:-1]\n",
        "        l.sort()\n",
        "\n",
        "    print(len(l))\n",
        "\n",
        "\n",
        "if __name__ == '__main__':  # 프로그램 시작점 지정\n",
        "    main()                      # 메인 함수 실행"
      ],
      "metadata": {
        "id": "aRsCP9L-FH55"
      },
      "execution_count": null,
      "outputs": []
    },
    {
      "cell_type": "markdown",
      "source": [
        "#### 1120번"
      ],
      "metadata": {
        "id": "ifIL4DrH_hsq"
      }
    },
    {
      "cell_type": "code",
      "source": [
        "import sys\n",
        "input = sys.stdin.readline\n",
        "\n",
        "def count(x1, x2):          # 두 문자열의 다른 철자를 세는 함수\n",
        "    ans = 0                     # 결과 값 변수 생성\n",
        "    for i in range(len(x1)):    # 짧은 문자열 길이 만큼 반복\n",
        "        if x1[i] != x2[i]:          # i번째 원소가 같지 않으면\n",
        "            ans += 1                    # 결과 값 변수 1 증가\n",
        "    \n",
        "    return ans                  # 결과 값 리턴\n",
        "\n",
        "def main():                         # 메인 함수\n",
        "    a, b = input().rstrip('\\n').split() # 두 문자열 입력\n",
        "\n",
        "    ans = count(a, b)                   # 두 문자열 count 함수 진행\n",
        "\n",
        "    for i in range(len(b) - len(a)+1):  # a 문자열을 b문자열에 왼쪽부터 count 함수 실행\n",
        "        if count(a,b[i:]) < ans:            # b문자열 i번째 원소부터 시작한 count 값이 더 작으면\n",
        "            ans = count(a,b[i:])                # 결과 값 업데이트\n",
        "    \n",
        "    print(ans)                          # 결과 출력\n",
        "\n",
        "if __name__ == '__main__':  # 프로그램 시작점 지정\n",
        "    main()                      # 메인 함수 실행"
      ],
      "metadata": {
        "id": "OcNrJNFe_hsr"
      },
      "execution_count": null,
      "outputs": []
    },
    {
      "cell_type": "markdown",
      "source": [
        "#### 1252번"
      ],
      "metadata": {
        "id": "V3koBVOiBt1v"
      }
    },
    {
      "cell_type": "code",
      "source": [
        "import sys\n",
        "sys.setrecursionlimit(int(1e9))\n",
        "#input = sys.stdin.readline\n",
        "\n",
        "def main():\n",
        "    a, b = input().rstrip('\\n').split()     # 두 이진문자 입력\n",
        "    \n",
        "    print(bin(int(a,2) + int(b,2))[2:])     # 10진수 변환 후 2인수 로 출력\n",
        "\n",
        "\n",
        "if __name__ == '__main__':  # 프로그램 시작점 지정\n",
        "    main()                      # 메인 함수 실행"
      ],
      "metadata": {
        "id": "uVzw5a_7Bt1v"
      },
      "execution_count": null,
      "outputs": []
    },
    {
      "cell_type": "markdown",
      "source": [
        "####"
      ],
      "metadata": {
        "id": "PRXjx5I6Cpo2"
      }
    },
    {
      "cell_type": "code",
      "source": [
        "import sys\n",
        "sys.setrecursionlimit(int(1e9))\n",
        "input = sys.stdin.readline\n",
        "\n",
        "def main():\n",
        "\n",
        "if __name__ == '__main__':  # 프로그램 시작점 지정\n",
        "    main()                      # 메인 함수 실행"
      ],
      "metadata": {
        "id": "xLk9ACZ5Cpo2"
      },
      "execution_count": null,
      "outputs": []
    }
  ]
}