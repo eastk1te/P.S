{
  "nbformat": 4,
  "nbformat_minor": 0,
  "metadata": {
    "colab": {
      "name": "[BOJ]백준 단계별 문제풀이.ipynb",
      "provenance": [],
      "collapsed_sections": [
        "POAYGCfMe_0s",
        "SwNOozo2J2Qk",
        "4KG0dQ5_J5k_",
        "MFvDSJ8eJ5oh",
        "5PRfloDZHGiN",
        "hd-9cFVbd81N",
        "Cdc6oGAHJ5wv",
        "jnw0s22-J5zm",
        "hHXqsq9RJ52V",
        "-WEujQslfvPc",
        "vrq2C5VCfz68",
        "p603LkoAf0Ys",
        "pUWGDTTDf0ed",
        "n12SANb4ewi1",
        "Sn6GYlulJ5rI",
        "zvtcqUZyJ5uA",
        "RVUMmYudeX57",
        "L635P9aDR41L",
        "d5l3XgZ3R41L",
        "KrC88VwzOnqU",
        "RU2opUjqOnym",
        "EwqY3vd9OoDo",
        "KkBtDD2GOoHJ",
        "sew12iTLOoKx",
        "ZZX1EwaLOoXw",
        "uwtGS2Q4Ooaz",
        "L2bGuKUUOoeb",
        "wBFPqXNuR8ne",
        "JjxDErpjR8ne",
        "AZNtoqizpQ2e",
        "u-5xqnR1pRSf",
        "mKjNyy4epRXc",
        "bTQh46KspRbf",
        "gZGgBEu5pRfc",
        "6twKfAmqpRnI",
        "ZDuE1-OipRq_",
        "-nM0HEDopRvK",
        "Z1B6hu9r5tXu",
        "iPOcMnv25tf1",
        "-muS8KkPIVzI",
        "PJXK_rZ8IVza",
        "Rq10se6eIfZD",
        "4_uTqdNmIjzA",
        "_bKHA0lrIj6l",
        "UaFH5L6zTDVu",
        "NTQ_ay5yTJtQ",
        "Rv4kaoPHTJtR",
        "_GihlXpZv_jE",
        "2qYuBrbJv_px",
        "c1eqrUsLv_uC",
        "x8_IWrHDv_xZ",
        "G15IkQ6tv_1K",
        "PO8bT17Yv_4W",
        "cNNCoZ9jv_74",
        "WsfSoeVGv__n",
        "lwfJcPujwADW",
        "c8PuR2bJTJy-",
        "JHHpUh5sTJy-",
        "jpgz7y6-TJ2u",
        "Id8suWMLTJ2u",
        "0X43_siuI-1X",
        "ZY4ylPCUI_Dq",
        "Duha6a9WI_HA",
        "iqYb65BVI_J6",
        "dWdByFb4I_M4",
        "RN4IB3xOI_QP",
        "X70TgeGFI_UZ",
        "oQWV6kNSTJ6F",
        "BJL-EjWYTJ6G",
        "LoeeUEld-pdv",
        "fejTVL9O-qAq",
        "ShBZYes9-qaR",
        "-SpkWNLb-qfk",
        "6x3o9khr-qju",
        "6j3SVCye-qnm",
        "lyIsmhkY-qrN",
        "UVqfa0yg-qu8",
        "5DWMXnz5-qyx",
        "hsMNobW4-gJP",
        "Np0R9kLF-gJi",
        "wfcJmLEqpU6T",
        "Hc6V32u4pVUa",
        "pNoCqLvepVX5",
        "PPg8gdeSpVbw",
        "meZqnuly1Ns1",
        "xKIhI97D1Ns-",
        "JLA5o1_kG4_y",
        "CO66sh-WEVOS",
        "pRqth93HG5Fp",
        "QD5eQtFaEU3c",
        "cYhC8xLCEU6x",
        "9oUY6nyKG5Cy",
        "yx3yQcgXEU9t",
        "gPapbiVAbmMj",
        "O-ZSdkmYbmRa",
        "ixkMO17DbmWw",
        "u9tipfTwbmbn",
        "XK9REonP1NwI",
        "ZPZhedpd1NwI",
        "HEGePEEYxsNm",
        "Zs31oUZxxsg7",
        "jXYx1DRXxsog",
        "2SovrMekxsrx",
        "8I05magqxsvh",
        "71RWUsr01OEe",
        "0IyI2TgT1OEf",
        "LTKckHu0U5FP",
        "mSQdGSmzU5J8",
        "14T3PZXwU5PO",
        "6XU-HwBjU5UD",
        "F4l7j-IMbdBn",
        "qzTRR-kForE2",
        "tWj1_3nHorH0",
        "VvMq1AL7orKj",
        "1Mqy6YQHorNT",
        "C8-hqFACoskw",
        "bSoeQuPDosn7",
        "35U4FrTeosqy",
        "vUcr9l-QBV2m",
        "HXmexh_cBV2o",
        "rh9vFZIYBfGW",
        "mojqkuQlBfMe",
        "Xc2rVYZ1DWAq",
        "_jfJBLzSDWEK",
        "oPD8cNOfDWHz",
        "z02YtuKLBZ4I",
        "oqZ3i95jWOSr",
        "WzwUHBI4pjsC",
        "n-jLje1Epjv5",
        "kg3C85P2pkCh",
        "sDfe3I8SCSLS",
        "LWZV-DNlCUci",
        "JzrdqUwXCVly",
        "9IktNkNQGUUH",
        "VOaWDLwIWXJf",
        "HNMURhhYKntw",
        "Zfx8md_duDzl",
        "BBOyONnAphxq",
        "cwLrxQzg0oRG",
        "NOcjjp8g0oUZ",
        "YoZ4CWbgRtfa",
        "uPXzp27pRtie",
        "NmN8u0qcRtlf",
        "rJALFDucRtoU",
        "PF-e7T96nF2u",
        "cAltWVGrnF7J",
        "rx4yoDQdzb1M",
        "GeLDsmu6zb5D",
        "QtKXQ-B6zb8r",
        "vzceFGcDmtrw",
        "0NWgir__mwGD",
        "7RWTIiPXmwI2",
        "RsNw0SxrmwLi",
        "R8LKjl8NmwON",
        "P3xQwj6O0mzQ",
        "h2Bv5m130m2M",
        "FfeyDe_X0m5D",
        "Zj_G1Z_AOL0y",
        "bD1i4z1uOL4t",
        "CIsbivR4a9HU",
        "InPGru7oa9K7"
      ],
      "authorship_tag": "ABX9TyNJFJoNJ3VotNlRDu02qvt1",
      "include_colab_link": true
    },
    "kernelspec": {
      "name": "python3",
      "display_name": "Python 3"
    },
    "language_info": {
      "name": "python"
    }
  },
  "cells": [
    {
      "cell_type": "markdown",
      "metadata": {
        "id": "view-in-github",
        "colab_type": "text"
      },
      "source": [
        "<a href=\"https://colab.research.google.com/github/tjy2202/Problem_Solving/blob/master/%5BBOJ%5D%EB%B0%B1%EC%A4%80_%EB%8B%A8%EA%B3%84%EB%B3%84_%EB%AC%B8%EC%A0%9C%ED%92%80%EC%9D%B4.ipynb\" target=\"_parent\"><img src=\"https://colab.research.google.com/assets/colab-badge.svg\" alt=\"Open In Colab\"/></a>"
      ]
    },
    {
      "cell_type": "markdown",
      "metadata": {
        "id": "omsqU4scfCpl"
      },
      "source": [
        "## I.단계별 풀이"
      ]
    },
    {
      "cell_type": "markdown",
      "metadata": {
        "id": "POAYGCfMe_0s"
      },
      "source": [
        "### 1단계 ~ 4단계==========="
      ]
    },
    {
      "cell_type": "markdown",
      "metadata": {
        "id": "SwNOozo2J2Qk"
      },
      "source": [
        "#### 2439번 : rjust()"
      ]
    },
    {
      "cell_type": "code",
      "metadata": {
        "id": "sfhuqZKSJ2Qw"
      },
      "source": [
        "a = int(input())\n",
        "\n",
        "for i in range(a):\n",
        "    print(('*' * (i+1)).rjust(a))"
      ],
      "execution_count": null,
      "outputs": []
    },
    {
      "cell_type": "markdown",
      "metadata": {
        "id": "4KG0dQ5_J5k_"
      },
      "source": [
        "#### 1110번 : 무한 루프로 에러 찾느라 오래걸림"
      ]
    },
    {
      "cell_type": "code",
      "metadata": {
        "colab": {
          "base_uri": "https://localhost:8080/"
        },
        "id": "gM4kcvbMJ5k_",
        "outputId": "eb8eb20f-f2fa-43f2-dc4d-eba22a9a845a"
      },
      "source": [
        "a = input()\n",
        "n = 0\n",
        "d = int(a)\n",
        "c = 100\n",
        "\n",
        "while d != int(c):\n",
        "\n",
        "    if int(a) < 10:\n",
        "        a = '0' + str(int(a))\n",
        "    b = int(a[0]) + int(a[1])\n",
        "    c = a[1] + str(b)[-1]\n",
        "    a = c\n",
        "\n",
        "    n += 1\n",
        "\n",
        "print(n)\n",
        "\n",
        "''' ##오류코드##\n",
        "a = input()\n",
        "n = 0\n",
        "d = int(a)\n",
        "c = 100\n",
        "\n",
        "while d != int(c):\n",
        "    if int(a) < 10:\n",
        "        a = '0' + a\n",
        "    else:\n",
        "        pass\n",
        "\n",
        "    b = int(a[0]) + int(a[1]) #만약 a가 '05'였으면 b가 005로 들어가는 오류로 나왔었음.\n",
        "    c = a[1] + str(b)[-1]\n",
        "    a = c\n",
        "\n",
        "    n += 1\n",
        "\n",
        "print(n)\n",
        "'''\n"
      ],
      "execution_count": null,
      "outputs": [
        {
          "output_type": "stream",
          "text": [
            "55\n",
            "3\n"
          ],
          "name": "stdout"
        }
      ]
    },
    {
      "cell_type": "markdown",
      "metadata": {
        "id": "MFvDSJ8eJ5oh"
      },
      "source": [
        "#### 10951번 : EOF, End of File의 예"
      ]
    },
    {
      "cell_type": "markdown",
      "metadata": {
        "id": "5PRfloDZHGiN"
      },
      "source": [
        "#### 15552번 : sys.stdin.readline()"
      ]
    },
    {
      "cell_type": "code",
      "metadata": {
        "id": "-ox9IOLpHDgH"
      },
      "source": [
        "import sys\n",
        "\n",
        "a = int(sys.stdin.readline())\n",
        "\n",
        "for _ in range(a):\n",
        "    b, c = list(map(int, sys.stdin.readline().split()))\n",
        "    print(b + c)"
      ],
      "execution_count": null,
      "outputs": []
    },
    {
      "cell_type": "code",
      "metadata": {
        "colab": {
          "base_uri": "https://localhost:8080/"
        },
        "id": "RIffYiXUJ5oi",
        "outputId": "3e11cc8e-d58e-4faf-b72e-4766f71d9e6b"
      },
      "source": [
        "while True:\n",
        "    try:\n",
        "        print(sum(map(int, input().split())))\n",
        "    except:\n",
        "        break\n"
      ],
      "execution_count": null,
      "outputs": [
        {
          "output_type": "stream",
          "text": [
            "\n",
            "True\n"
          ],
          "name": "stdout"
        }
      ]
    },
    {
      "cell_type": "markdown",
      "metadata": {
        "id": "hd-9cFVbd81N"
      },
      "source": [
        "### **5단계 : 1차원 배열===========**"
      ]
    },
    {
      "cell_type": "markdown",
      "metadata": {
        "id": "Cdc6oGAHJ5wv"
      },
      "source": [
        "#### 10818번 최대 최소 값 : 들여쓰기 잘 못되어서 컴파일오류 많이 나옴"
      ]
    },
    {
      "cell_type": "code",
      "metadata": {
        "id": "lJSTQW74J5wv",
        "colab": {
          "base_uri": "https://localhost:8080/"
        },
        "outputId": "91dab5ae-365d-4b83-ea9c-5333573e25db"
      },
      "source": [
        "n = int(input())\n",
        "x = list(map(int, input().split()))\n",
        "\n",
        "min = x[0]\n",
        "max = x[0]\n",
        "\n",
        "for i in x:\n",
        "  if min <= i:\n",
        "    pass\n",
        "  else:\n",
        "    min = i\n",
        "\n",
        "  if max >= i:\n",
        "    pass\n",
        "  else:\n",
        "    max = i\n",
        "\n",
        "print(min,end=' ')\n",
        "print(max)"
      ],
      "execution_count": null,
      "outputs": [
        {
          "output_type": "stream",
          "text": [
            "5\n",
            "10\n",
            "10 10\n"
          ],
          "name": "stdout"
        }
      ]
    },
    {
      "cell_type": "markdown",
      "metadata": {
        "id": "jnw0s22-J5zm"
      },
      "source": [
        "#### 2562번"
      ]
    },
    {
      "cell_type": "code",
      "metadata": {
        "id": "nMYSIl_gJ5zn",
        "colab": {
          "base_uri": "https://localhost:8080/"
        },
        "outputId": "05a18082-ff4f-44f6-8fe8-c2497162049a"
      },
      "source": [
        "x = []\n",
        "for _ in range(9):\n",
        "  x.append(int(input()))\n",
        "\n",
        "res = x[0]\n",
        "for i in x:\n",
        "  if res >= i:\n",
        "    pass\n",
        "  else:\n",
        "    res = i\n",
        "\n",
        "print(res)\n",
        "print(x.index(res) + 1)"
      ],
      "execution_count": null,
      "outputs": [
        {
          "output_type": "stream",
          "text": [
            "3 29 38 12 57 74 40 85 61\n",
            "85\n",
            "8\n"
          ],
          "name": "stdout"
        }
      ]
    },
    {
      "cell_type": "markdown",
      "metadata": {
        "id": "hHXqsq9RJ52V"
      },
      "source": [
        "#### 2577번 숫자의 갯수"
      ]
    },
    {
      "cell_type": "code",
      "metadata": {
        "id": "Xj-w_lzkJ52V"
      },
      "source": [
        "a = int(input())\n",
        "b = int(input())\n",
        "c = int(input())\n",
        "\n",
        "res = a * b * c\n",
        "res = str(res)\n",
        "\n",
        "for i in range(10):\n",
        "  n = 0 \n",
        "\n",
        "  for j in res:\n",
        "    if str(i) == j:\n",
        "      n += 1\n",
        "    else:\n",
        "      pass\n",
        "\n",
        "  print(n)"
      ],
      "execution_count": null,
      "outputs": []
    },
    {
      "cell_type": "markdown",
      "metadata": {
        "id": "-WEujQslfvPc"
      },
      "source": [
        "#### 3052번 나머지"
      ]
    },
    {
      "cell_type": "code",
      "metadata": {
        "id": "pW-HhcFqfwET"
      },
      "source": [
        "x = []\n",
        "for _ in range(10):\n",
        "  y = int(input())\n",
        "  x.append(y % 42)\n",
        "\n",
        "print(len(set(x)))"
      ],
      "execution_count": null,
      "outputs": []
    },
    {
      "cell_type": "markdown",
      "metadata": {
        "id": "vrq2C5VCfz68"
      },
      "source": [
        "#### 1546번"
      ]
    },
    {
      "cell_type": "code",
      "metadata": {
        "id": "JPeDRlp-fz69"
      },
      "source": [
        "n = int(input())\n",
        "x = list(map(int, input().split()))\n",
        "\n",
        "m = x[0]\n",
        "for i in x:\n",
        "  if m >= i:\n",
        "    pass\n",
        "  else:\n",
        "    m = i\n",
        "\n",
        "res = 0\n",
        "for j in x:\n",
        "  res += (j / m * 100)\n",
        "\n",
        "print(res / n)\n",
        "\n"
      ],
      "execution_count": null,
      "outputs": []
    },
    {
      "cell_type": "markdown",
      "metadata": {
        "id": "p603LkoAf0Ys"
      },
      "source": [
        "#### 8958번 OX퀴즈"
      ]
    },
    {
      "cell_type": "code",
      "metadata": {
        "id": "-EoMlO7gf0Ys"
      },
      "source": [
        "n = int(input())\n",
        "for _ in range(n):\n",
        "  x = input()\n",
        "  res = 0\n",
        "  res_1 = 1\n",
        "\n",
        "  for i in range(len(x)):\n",
        "    if x[i] == 'X':\n",
        "      res += 0\n",
        "      res_1 = 1\n",
        "    else:\n",
        "      res += 1\n",
        "\n",
        "      if i == 0:\n",
        "        pass\n",
        "      else:\n",
        "        if x[i] == x[i-1]:\n",
        "          res += res_1\n",
        "          res_1 += 1\n",
        "        else:\n",
        "          res_1 = 1\n",
        "\n",
        "  print(res)\n",
        "\n",
        "\n",
        "      \n"
      ],
      "execution_count": null,
      "outputs": []
    },
    {
      "cell_type": "markdown",
      "metadata": {
        "id": "pUWGDTTDf0ed"
      },
      "source": [
        "#### 4344번"
      ]
    },
    {
      "cell_type": "code",
      "metadata": {
        "id": "MsUmY2-Af0ee"
      },
      "source": [
        "cn = int(input())\n",
        "for _ in range(cn):\n",
        "  x = list(map(int, input().split()))\n",
        "  res = 0\n",
        "  for i in range(len(x) - 1):\n",
        "    res += x[i+1]\n",
        "  \n",
        "  y = 0\n",
        "  for i in range(len(x) - 1):\n",
        "    if x[i+1] > (res / x[0]):\n",
        "      y += 1\n",
        "    else:\n",
        "      pass\n",
        "  \n",
        "  print('{0:.3f}%'.format( round((y / x[0])*100,3 )))"
      ],
      "execution_count": null,
      "outputs": []
    },
    {
      "cell_type": "markdown",
      "metadata": {
        "id": "n12SANb4ewi1"
      },
      "source": [
        "### **6단계 : 함수===========**"
      ]
    },
    {
      "cell_type": "markdown",
      "metadata": {
        "id": "Sn6GYlulJ5rI"
      },
      "source": [
        "#### 4673번 셀프넘버 : numpy 모듈 사용 불가"
      ]
    },
    {
      "cell_type": "code",
      "metadata": {
        "id": "BlHNRWV1J5rI"
      },
      "source": [
        "def self_num(n):\n",
        "  x = 0\n",
        "  for i in range(len(str(n))):\n",
        "    x += int(str(n)[i])\n",
        "  x += n\n",
        "  return x\n",
        "\n",
        "def self_num_list(n):\n",
        "  x = []\n",
        "  while True:\n",
        "    if self_num(n) > 10001:\n",
        "      break\n",
        "    x.append(self_num(n))\n",
        "    n = self_num(n)    \n",
        "  return x\n",
        "\n",
        "c = 0\n",
        "b = []\n",
        "\n",
        "for i in range(1,10001):\n",
        "  b.append(i)\n",
        "\n",
        "while True:\n",
        "  \n",
        "  b = list(set(b) - set(self_num_list(b[c])))\n",
        "  b.sort()\n",
        "  c += 1\n",
        "  if c > len(b)-1:\n",
        "    break\n",
        "\n",
        "for i in b:\n",
        "  print(i)"
      ],
      "execution_count": null,
      "outputs": []
    },
    {
      "cell_type": "markdown",
      "metadata": {
        "id": "zvtcqUZyJ5uA"
      },
      "source": [
        "#### 1065번 한수 "
      ]
    },
    {
      "cell_type": "code",
      "metadata": {
        "id": "AwkEubp8J5uA"
      },
      "source": [
        "def han(n):\n",
        "  res = 0\n",
        "  if n < 100:\n",
        "    res = 1\n",
        "  elif n >= 100:\n",
        "    n = str(n)\n",
        "    if int(n[2]) + int(n[0]) == 2 * int(n[1]):\n",
        "      res = 1\n",
        "    else:\n",
        "      res = 0\n",
        "\n",
        "  elif n >= 1000:\n",
        "    if (int(n[2]) + int(n[0]) == 2 * int(n[1])) & (int(n[3]) + int(n[1]) == 2 * int(n[2])):\n",
        "      res = 1\n",
        "    else:\n",
        "      res = 0\n",
        "\n",
        "  else:\n",
        "    pass\n",
        "\n",
        "  return res\n",
        "\n",
        "def count_han(n):\n",
        "  cnt = 0\n",
        "  for i in range(n):\n",
        "    cnt += han(i+1)\n",
        "  \n",
        "  return cnt\n",
        "\n",
        "a = int(input())\n",
        "print(count_han(a))"
      ],
      "execution_count": null,
      "outputs": []
    },
    {
      "cell_type": "markdown",
      "metadata": {
        "id": "RVUMmYudeX57"
      },
      "source": [
        "### **7단계 : 문자열===========**"
      ]
    },
    {
      "cell_type": "markdown",
      "metadata": {
        "id": "2H2UiCRZJ55E"
      },
      "source": [
        "#### 11654번 : 아스키 코드"
      ]
    },
    {
      "cell_type": "code",
      "metadata": {
        "id": "ncXONLViJ55F",
        "colab": {
          "base_uri": "https://localhost:8080/"
        },
        "outputId": "8dd5c575-edf8-4164-bd36-df7f53f4ba1c"
      },
      "source": [
        "a = input()\n",
        "\n",
        "print(ord(a))"
      ],
      "execution_count": null,
      "outputs": [
        {
          "output_type": "stream",
          "text": [
            "0\n",
            "48\n"
          ],
          "name": "stdout"
        }
      ]
    },
    {
      "cell_type": "markdown",
      "metadata": {
        "id": "8aEgFHzQTU-M"
      },
      "source": [
        "#### 11720번"
      ]
    },
    {
      "cell_type": "code",
      "metadata": {
        "colab": {
          "base_uri": "https://localhost:8080/"
        },
        "id": "SzIpF42sTU-V",
        "outputId": "2095ae16-6c19-4713-e768-677261ba9094"
      },
      "source": [
        "n = int(input())\n",
        "x = input()\n",
        "sum = 0\n",
        "for i in range(n):\n",
        "  sum += int(x[i])\n",
        "print(sum)"
      ],
      "execution_count": null,
      "outputs": [
        {
          "output_type": "stream",
          "text": [
            "5\n",
            "54321\n",
            "15\n"
          ],
          "name": "stdout"
        }
      ]
    },
    {
      "cell_type": "markdown",
      "metadata": {
        "id": "x3MW5qqtTZAn"
      },
      "source": [
        "#### 10809번"
      ]
    },
    {
      "cell_type": "code",
      "metadata": {
        "id": "H-wdIfagTZAo"
      },
      "source": [
        "s = input()\n",
        "x = 'abcdefghijklmnopqrstuvwxyz'\n",
        "\n",
        "for i in range(len(x)):\n",
        "  a = 0\n",
        "  for j in range(len(s)):\n",
        "    if s[j] == x[i]:\n",
        "      a = j\n",
        "      break\n",
        "    else:\n",
        "      a = -1\n",
        "\n",
        "  print(a, end=' ')"
      ],
      "execution_count": null,
      "outputs": []
    },
    {
      "cell_type": "markdown",
      "metadata": {
        "id": "NZwKoUdcTbp-"
      },
      "source": [
        "#### 2675번"
      ]
    },
    {
      "cell_type": "code",
      "metadata": {
        "id": "DLdAQuq-Tbp_"
      },
      "source": [
        "n = int(input())\n",
        "for _ in range(n):\n",
        "  a, b = input().split()\n",
        "  a = int(a)\n",
        "  b = str(b)\n",
        "  res = ''\n",
        "  for i in range(len(b)):\n",
        "    res += b[i] * a\n",
        "  print(res)\n"
      ],
      "execution_count": null,
      "outputs": []
    },
    {
      "cell_type": "markdown",
      "metadata": {
        "id": "ZGJGxU4LTcWc"
      },
      "source": [
        "#### 1157번"
      ]
    },
    {
      "cell_type": "code",
      "metadata": {
        "id": "XH-yq9CxTcWc"
      },
      "source": [
        "s = input().lower()\n",
        "\n",
        "c = ' '.join(s)\n",
        "a = set(c.split())\n",
        "a = list(a)\n",
        "b = []\n",
        "for i in a:\n",
        "  b.append(s.count(i))\n",
        "\n",
        "b.sort()\n",
        "\n",
        "if len(b) == 1:\n",
        "  print(a[0].upper())\n",
        "else:\n",
        "  if b[-1] == b[-2]:\n",
        "    print('?')\n",
        "  else:  \n",
        "    x = b[-1]\n",
        "    for i in a:\n",
        "      if s.count(i) == x:\n",
        "        print(i.upper())\n"
      ],
      "execution_count": null,
      "outputs": []
    },
    {
      "cell_type": "markdown",
      "metadata": {
        "id": "_bivMt1sTchd"
      },
      "source": [
        "#### 1152번"
      ]
    },
    {
      "cell_type": "code",
      "metadata": {
        "id": "UjteJxLoTchd"
      },
      "source": [
        "s = input().strip().lower().split(' ')\n",
        "\n",
        "if (len(s) == 1) & (s[0] == ''):\n",
        "  print(0)\n",
        "else:\n",
        "  print(len(s))"
      ],
      "execution_count": null,
      "outputs": []
    },
    {
      "cell_type": "markdown",
      "metadata": {
        "id": "UlRjxI8VTcoB"
      },
      "source": [
        "#### 2908번"
      ]
    },
    {
      "cell_type": "code",
      "metadata": {
        "id": "gVtfJkBNTcoB"
      },
      "source": [
        "s = list(map(str, input().split()))\n",
        "t = []\n",
        "x = 0\n",
        "for i in s:\n",
        "  x = i[-1] + i[-2] + i[-3]\n",
        "  t.append(int(x))\n",
        "\n",
        "if t[0] > t[1]:\n",
        "  print(t[0])\n",
        "else:\n",
        "  print(t[1])"
      ],
      "execution_count": null,
      "outputs": []
    },
    {
      "cell_type": "markdown",
      "metadata": {
        "id": "FCPITXGwTcsi"
      },
      "source": [
        "#### 5622번"
      ]
    },
    {
      "cell_type": "code",
      "metadata": {
        "id": "XfvDdcKzTcsi"
      },
      "source": [
        "s = input().lower()\n",
        "t = 0\n",
        "\n",
        "for i in range(len(s)):\n",
        "  if ord(s[i]) <= ord('c'):\n",
        "    t += 3\n",
        "  elif ord(s[i]) <= ord('f'):\n",
        "    t += 4\n",
        "  elif ord(s[i]) <= ord('i'):\n",
        "    t += 5\n",
        "  elif ord(s[i]) <= ord('l'):\n",
        "    t += 6\n",
        "  elif ord(s[i]) <= ord('o'):\n",
        "    t += 7\n",
        "  elif ord(s[i]) <= ord('s'):\n",
        "    t += 8\n",
        "  elif ord(s[i]) <= ord('v'):\n",
        "    t += 9\n",
        "  elif ord(s[i]) <= ord('z'):\n",
        "    t += 10\n",
        "\n",
        "print(t)"
      ],
      "execution_count": null,
      "outputs": []
    },
    {
      "cell_type": "markdown",
      "metadata": {
        "id": "M75SACDgTcxe"
      },
      "source": [
        "#### 2941번"
      ]
    },
    {
      "cell_type": "code",
      "metadata": {
        "id": "SIUj9OKiTcxf"
      },
      "source": [
        "c = input()\n",
        "s = ['c=','c-','d-','lj','nj','s=','z=']\n",
        "res = len(c)\n",
        "\n",
        "for i in range(len(c) - 1):\n",
        "  if (c[i] + c[i+1]) in s:\n",
        "    res -= 1\n",
        "  else:\n",
        "    pass\n",
        "\n",
        "for i in range(len(c) - 2):\n",
        "  if (c[i] + c[i+1] + c[i+2]) == 'dz=':\n",
        "    res -= 1\n",
        "  else:\n",
        "    pass\n",
        "\n",
        "print(res)"
      ],
      "execution_count": null,
      "outputs": []
    },
    {
      "cell_type": "markdown",
      "metadata": {
        "id": "aE-p8rLrTc2U"
      },
      "source": [
        "#### 1316번"
      ]
    },
    {
      "cell_type": "code",
      "metadata": {
        "id": "L5687equTc2U"
      },
      "source": [
        "n = int(input())\n",
        "res= 0\n",
        "for _ in range(n):\n",
        "  s = input()\n",
        "  s = ' '.join(s)\n",
        "  s = s.split()\n",
        "  s.append(' ')\n",
        "  x = []\n",
        "  for i in range(len(s) - 1):\n",
        "    if s[i] != s[i+1]:\n",
        "      x.append(s[i])\n",
        "    else:\n",
        "      continue\n",
        "  if len(x) != len(set(x)):\n",
        "    pass\n",
        "  else:\n",
        "    res += 1\n",
        "\n",
        "print(res)"
      ],
      "execution_count": null,
      "outputs": []
    },
    {
      "cell_type": "markdown",
      "metadata": {
        "id": "L635P9aDR41L"
      },
      "source": [
        "### **8단계 : 기본수학1===========**"
      ]
    },
    {
      "cell_type": "markdown",
      "metadata": {
        "id": "d5l3XgZ3R41L"
      },
      "source": [
        "#### 1712번"
      ]
    },
    {
      "cell_type": "code",
      "metadata": {
        "id": "IbvFoejTR41L"
      },
      "source": [
        "x = input().split()\n",
        "a, b, c = int(x[0]), int(x[1]), int(x[2])\n",
        "n = 0\n",
        "\n",
        "if (c - b) > 0:\n",
        "\n",
        "  n = int(a / (c-b)) + 1\n",
        "  print(n)\n",
        "  \n",
        "else:\n",
        "  print(-1)"
      ],
      "execution_count": null,
      "outputs": []
    },
    {
      "cell_type": "markdown",
      "metadata": {
        "id": "KrC88VwzOnqU"
      },
      "source": [
        "#### 2292번"
      ]
    },
    {
      "cell_type": "code",
      "metadata": {
        "id": "vcKt0_t_Onqa"
      },
      "source": [
        "n = int(input())\n",
        "x = 1\n",
        "y = 6\n",
        "res = 1\n",
        "while True:\n",
        "  if n == 1:\n",
        "    break\n",
        "  elif n > x:\n",
        "    res += 1  \n",
        "  else:\n",
        "    break\n",
        "  x += 6 * (res - 1)\n",
        "\n",
        "print(res)"
      ],
      "execution_count": null,
      "outputs": []
    },
    {
      "cell_type": "markdown",
      "metadata": {
        "id": "RU2opUjqOnym"
      },
      "source": [
        "#### 1193번"
      ]
    },
    {
      "cell_type": "code",
      "metadata": {
        "id": "TGsLqwQmOnyn"
      },
      "source": [
        "n = int(input())\n",
        "a = 0\n",
        "sum = 0\n",
        "while True:\n",
        "  if n > sum:\n",
        "    a += 1\n",
        "    sum += a\n",
        "  else:\n",
        "    break\n",
        "\n",
        "x = n - sum + a #16 - 21 + 6 1\n",
        "\n",
        "if a % 2 == 0:\n",
        "  print('{0}/{1}'.format( x, a +1 - x))\n",
        "else:\n",
        "  print('{0}/{1}'.format( a +1 - x, x))"
      ],
      "execution_count": null,
      "outputs": []
    },
    {
      "cell_type": "markdown",
      "metadata": {
        "id": "EwqY3vd9OoDo"
      },
      "source": [
        "#### 2869번 : 달팽이는 올라가고 싶다(수학 계산 어렵..)"
      ]
    },
    {
      "cell_type": "code",
      "metadata": {
        "id": "1l2hxETQOoDo"
      },
      "source": [
        "s = input().split()\n",
        "a, b, v = int(s[0]), int(s[1]), int(s[2])\n",
        "\n",
        "n = 0\n",
        "x = v - a\n",
        "y = (a - b)\n",
        "\n",
        "if a >= v:\n",
        "  n = 1\n",
        "else:\n",
        "  if y * (x // y) >= x: \n",
        "    n = (x // y) + 1\n",
        "  else:\n",
        "    n = (x // y) + 2\n",
        "    \n",
        "\n",
        "print(n)\n"
      ],
      "execution_count": null,
      "outputs": []
    },
    {
      "cell_type": "markdown",
      "metadata": {
        "id": "KkBtDD2GOoHJ"
      },
      "source": [
        "#### 10250번 : ACM호텔"
      ]
    },
    {
      "cell_type": "code",
      "metadata": {
        "id": "c_ZZ_GnROoHJ"
      },
      "source": [
        "n = int(input())\n",
        "for _ in range(n):\n",
        "  h, w, n = map(int, input().split())\n",
        "  x = (n // h) + 1 #n_w\n",
        "  y = n % h #n_h\n",
        "  if y == 0:\n",
        "    y = str(h)\n",
        "    x = x - 1\n",
        "  else:\n",
        "    y = str(y)\n",
        "  \n",
        "  if x < 10:\n",
        "    x = '0' + str(x)\n",
        "  else:\n",
        "    x = str(x)\n",
        "\n",
        "  print(y + x)"
      ],
      "execution_count": null,
      "outputs": []
    },
    {
      "cell_type": "markdown",
      "metadata": {
        "id": "sew12iTLOoKx"
      },
      "source": [
        "#### 2775번 : copy() 사용 안하면 x가 안변함 ?? 왜??"
      ]
    },
    {
      "cell_type": "code",
      "metadata": {
        "id": "YtBUbt3VOoKy"
      },
      "source": [
        "r = int(input())\n",
        "y = [1,2,3,4,5,6,7,8,9,10,11,12,13,14]\n",
        "\n",
        "for _ in range(r):\n",
        "  k = int(input())\n",
        "  n = int(input())\n",
        "  x = y.copy() #copy() 사용 안하면 x가 안변함 ?? 왜??\n",
        "\n",
        "  for z in range(k):\n",
        "    sum = 0\n",
        "    \n",
        "    for i in range(n):\n",
        "      sum += x[i]\n",
        "      x[i] = sum\n",
        "\n",
        "  print(x[n-1])\n"
      ],
      "execution_count": null,
      "outputs": []
    },
    {
      "cell_type": "markdown",
      "metadata": {
        "id": "ZZX1EwaLOoXw"
      },
      "source": [
        "#### 2839번"
      ]
    },
    {
      "cell_type": "code",
      "metadata": {
        "id": "aT1j9piIOoXx"
      },
      "source": [
        "n = int(input())\n",
        "a = n // 5\n",
        "\n",
        "while True:\n",
        "  x = n - a * 5\n",
        "\n",
        "  if x % 3 == 0:\n",
        "    print(a + (x // 3))\n",
        "    break\n",
        "  else:\n",
        "    if a == 0:\n",
        "      print(-1)\n",
        "      break\n",
        "    else:\n",
        "      a -= 1\n",
        "  \n",
        "  if x <= 0:\n",
        "    print(-1)\n",
        "    break"
      ],
      "execution_count": null,
      "outputs": []
    },
    {
      "cell_type": "markdown",
      "metadata": {
        "id": "uwtGS2Q4Ooaz"
      },
      "source": [
        "#### 10757번"
      ]
    },
    {
      "cell_type": "code",
      "metadata": {
        "id": "2LTSi1r1Ooaz"
      },
      "source": [
        "a, b = map(int, input().split())\n",
        "print(a + b)"
      ],
      "execution_count": null,
      "outputs": []
    },
    {
      "cell_type": "markdown",
      "metadata": {
        "id": "L2bGuKUUOoeb"
      },
      "source": [
        "#### 1011 : Fly me to the Alpha Centauri(문제 이해가 어렵)"
      ]
    },
    {
      "cell_type": "code",
      "metadata": {
        "id": "clQ9lSGiOoeb"
      },
      "source": [
        "n = int(input())\n",
        "\n",
        "for _ in range(n):\n",
        "  x, y = map(int, input().split())\n",
        "\n",
        "  z = y - x\n",
        "  n = 1\n",
        "  while True:\n",
        "    a = n * n\n",
        "    if a < z:\n",
        "      n += 1\n",
        "    elif a == z:\n",
        "      print((n-1) * 2 + 1)\n",
        "      break\n",
        "    else: \n",
        "      if (a - n) < z:\n",
        "        print(((n-1) * 2) + 1)\n",
        "        break\n",
        "      else:\n",
        "        print((n-1) * 2)\n",
        "        break\n",
        "\n",
        "\n",
        "\n",
        "'''\n",
        "def fun(n): ### -> fun(n) = n *n\n",
        "  if n == 1:\n",
        "    sum = 1\n",
        "  else:\n",
        "    sum = 0\n",
        "    c = n\n",
        "    while True:\n",
        "      if n > 0:\n",
        "        sum += n * 2\n",
        "        n -= 1\n",
        "      else:\n",
        "        break\n",
        "\n",
        "    sum = sum - c\n",
        "  return sum\n",
        "\n",
        "1\n",
        "1 2 1\n",
        "1 2 3 2 1\n",
        "1 2 3 4 3 2 1\n",
        "=> 이부분을 기준으로 먼저 나누고\n",
        "\n",
        "\n",
        "1  1              1\n",
        "2  1 1            2\n",
        "3  1 1 1          3#\n",
        "4  1 2 1          3\n",
        "5  1 2 1 1        4#\n",
        "6  1 2 2 1        4\n",
        "7  1 2 2 1 1      5#\n",
        "8  1 2 2 2 1      5\n",
        "9  1 2 3 2 1      5\n",
        "10 1 2 3 2 1 1    6#\n",
        "11 1 2 3 2 2 1    6\n",
        "12 1 2 3 3 2 1    6\n",
        "13 1 2 3 3 2 1 1  7#\n",
        "14 1 2 3 2 2 2 1  7\n",
        "=> #표시한 부분을 기준으로 나눈다.\n",
        "'''"
      ],
      "execution_count": null,
      "outputs": []
    },
    {
      "cell_type": "markdown",
      "metadata": {
        "id": "wBFPqXNuR8ne"
      },
      "source": [
        "### **9단계 : 기본수학2===========**"
      ]
    },
    {
      "cell_type": "markdown",
      "metadata": {
        "id": "JjxDErpjR8ne"
      },
      "source": [
        "#### 1978번"
      ]
    },
    {
      "cell_type": "code",
      "metadata": {
        "id": "85Nt6C8WR8ne"
      },
      "source": [
        "n = int(input())\n",
        "s = list(map(int, input().split()))\n",
        "\n",
        "res = 0\n",
        "\n",
        "for i in range(n):\n",
        "  z = s[i]\n",
        "  \n",
        "  if z == 1:\n",
        "    continue\n",
        "  elif z == 2: #2도 소수\n",
        "    res += 1\n",
        "  else:\n",
        "    h = 0\n",
        "    for x in range(z - 2): # 1과 자기 자신 제거\n",
        "      if z % (x + 2) == 0:  \n",
        "        h = 1\n",
        "        break\n",
        "      else:\n",
        "        continue\n",
        "        \n",
        "    if h == 0:\n",
        "      res += 1\n",
        "\n",
        "    else:\n",
        "      continue\n",
        "  \n",
        "\n",
        "print(res)"
      ],
      "execution_count": null,
      "outputs": []
    },
    {
      "cell_type": "markdown",
      "metadata": {
        "id": "AZNtoqizpQ2e"
      },
      "source": [
        "#### 2581"
      ]
    },
    {
      "cell_type": "code",
      "metadata": {
        "id": "9BtNEN0WpQ2p"
      },
      "source": [
        "a = int(input())\n",
        "b = int(input())\n",
        "\n",
        "s = []\n",
        "for i in range(b-a + 1):\n",
        "  s.append(a + i)\n",
        "\n",
        "res = []\n",
        "\n",
        "for i in range(len(s)):\n",
        "  z = s[i]\n",
        "  \n",
        "  if z == 1:\n",
        "    continue\n",
        "  elif z == 2: #2도 소수\n",
        "    res.append(z)\n",
        "  else:\n",
        "    h = 0\n",
        "    for x in range(z - 2): # 1과 자기 자신 제거\n",
        "      if z % (x + 2) == 0:  \n",
        "        h = 1\n",
        "        break\n",
        "      else:\n",
        "        continue\n",
        "        \n",
        "    if h == 0:\n",
        "      res.append(z)\n",
        "\n",
        "    else:\n",
        "      continue\n",
        "  \n",
        "if res == []:\n",
        "  print(-1)\n",
        "else:\n",
        "  max = res[0]\n",
        "  sum = 0\n",
        "  for i in res:\n",
        "    if max >= i:\n",
        "      max = i\n",
        "      sum += i\n",
        "    else:\n",
        "      sum += i\n",
        "\n",
        "  print(sum)\n",
        "  print(max)"
      ],
      "execution_count": null,
      "outputs": []
    },
    {
      "cell_type": "markdown",
      "metadata": {
        "id": "u-5xqnR1pRSf"
      },
      "source": [
        "#### 11653"
      ]
    },
    {
      "cell_type": "code",
      "metadata": {
        "id": "_qif-0AepRSg"
      },
      "source": [
        "# 소인수 분해\n",
        "n = int(input()) # 변수 입력\n",
        "\n",
        "while True:\n",
        "\n",
        "  if n == 1: # 만약 1이면 break\n",
        "    break\n",
        "\n",
        "  can = 0 # 인수분해 가능 변수 지정\n",
        "  for i in range(n-2): # 1과 변수 자기 자신을 제외한 값이기에 n-2 진행\n",
        "    if n % (i + 2) == 0: # 나누어진다면\n",
        "\n",
        "      n = int(n / (i + 2)) # 변수 업데이트\n",
        "      print(i+2) # 소인수 출력\n",
        "      can = 1 # 인수분해 가능\n",
        "      break\n",
        "    else: # 나누어 지지 않으면\n",
        "      pass\n",
        "\n",
        "  if can == 0: # 변수가 더이상 나누어 지지 않으면\n",
        "    print(n) # 해당 변수 출력\n",
        "    break"
      ],
      "execution_count": null,
      "outputs": []
    },
    {
      "cell_type": "markdown",
      "metadata": {
        "id": "mKjNyy4epRXc"
      },
      "source": [
        "#### 1929번"
      ]
    },
    {
      "cell_type": "code",
      "metadata": {
        "id": "00_x5pco8UqK"
      },
      "source": [
        "a, b = list(map(int, input().split()))\n",
        "\n",
        "#에라토스테네스 체\n",
        "for i in range(a, b+1):\n",
        "  \n",
        "  if i == 1:\n",
        "    continue\n",
        "  elif i == 2: #2도 소수\n",
        "    print(i)\n",
        "  else:\n",
        "\n",
        "    h = 0\n",
        "    for x in range(2,int(i ** (1/2)) + 1) :\n",
        "      if i % x == 0:  \n",
        "        h = 1\n",
        "        break\n",
        "      else:\n",
        "        continue\n",
        "        \n",
        "    if h == 0:\n",
        "      print(i)\n",
        "    else:\n",
        "      continue\n",
        "\n",
        "''' ### 시간 초과\n",
        "a, b = list(map(int, input().split()))\n",
        "\n",
        "s = []\n",
        "for i in range(b):\n",
        "  s.append(i+1)\n",
        "\n",
        "s.remove(1)\n",
        "i = 0\n",
        "res = []\n",
        "while True:\n",
        "  c = s[i]\n",
        "  list(map(f(,i),s))\n",
        "  for j in s:\n",
        "    if j % c == 0:\n",
        "      if j == c:\n",
        "        pass\n",
        "      else:\n",
        "        s.remove(j)\n",
        "    else:\n",
        "      pass\n",
        "  \n",
        "  i += 1 \n",
        "  if s[i+1] > b ** (1/2):\n",
        "    break\n",
        "  \n",
        "for i in range(len(s)):\n",
        "  if s[i] < a:\n",
        "    pass\n",
        "  else:\n",
        "    s = s[i:]\n",
        "    break\n",
        "    \n",
        "for k in s:\n",
        "  print(k) \n",
        "'''"
      ],
      "execution_count": null,
      "outputs": []
    },
    {
      "cell_type": "markdown",
      "metadata": {
        "id": "bTQh46KspRbf"
      },
      "source": [
        "#### (***)4948번 : 시간초과 문제"
      ]
    },
    {
      "cell_type": "code",
      "metadata": {
        "id": "BgGEoVYWpRbg"
      },
      "source": [
        "n = 123456 * 2 +1\n",
        "l = [True] * n\n",
        "\n",
        "for i in range(2, int(n**0.5)+1):\n",
        "    if l[i]:\n",
        "        for j in range(2*i, n, i):\n",
        "            l[j] = False\n",
        "\n",
        "s = 1\n",
        "\n",
        "while s != 0:\n",
        "  s = int(input())\n",
        "  if s == 0:\n",
        "    break\n",
        "  sum = 0\n",
        "  for i in range(s + 1, s * 2 + 1):\n",
        "      if l[i]:\n",
        "          sum += 1\n",
        "  print(sum)\n",
        "\n",
        "''' ####시간 초과\n",
        "while True:\n",
        "  n = int(input())\n",
        "  if n == 0:\n",
        "    break\n",
        "\n",
        "  sum = 0\n",
        "  for i in range(n+1, 2*n+1):\n",
        "    if i == 1:\n",
        "      continue\n",
        "    elif i == 2: #2도 소수\n",
        "      sum += 1\n",
        "    else:\n",
        "      h = False\n",
        "      for x in range(2,int(i ** (1/2)) + 1) :\n",
        "        if i % x == 0:  \n",
        "          h = True\n",
        "          break\n",
        "        else:\n",
        "          continue\n",
        "          \n",
        "    if h == False:\n",
        "      sum += True\n",
        "    else:\n",
        "      continue\n",
        "\n",
        "  print(sum)\n",
        "'''"
      ],
      "execution_count": null,
      "outputs": []
    },
    {
      "cell_type": "markdown",
      "metadata": {
        "id": "gZGgBEu5pRfc"
      },
      "source": [
        "#### (***)9020번"
      ]
    },
    {
      "cell_type": "code",
      "metadata": {
        "id": "fr2LnPbspRfc"
      },
      "source": [
        "for _ in range(int(input())):\n",
        "  n = int(input())+1 # n = 짝수, 4 <= n <= 10000 #0~n 까지\n",
        "  l = [True] * n\n",
        "\n",
        "  for i in range(2, int(n**0.5)+1):\n",
        "      if l[i]:\n",
        "          for j in range(2*i, n, i):\n",
        "              l[j] = False\n",
        "  l[0], l[1] = False, False #1은 소수가 아니다\n",
        "\n",
        "  s = []\n",
        "  for i in range(2,n):\n",
        "    if l[i]:\n",
        "      s.append(i)\n",
        "  \n",
        "  m = 0\n",
        "  for i in range(len(s)):\n",
        "    if s[i] <= (n-1)/2:\n",
        "      m = i\n",
        "    else:\n",
        "      break\n",
        "  a = 0\n",
        "  for i in range(m, -1, -1): # 3 2 1 0\n",
        "    for j in range(i,len(s)): # 3 4 5 #2 3 4 5\n",
        "      if s[i] + s[j] == n - 1:\n",
        "        a = [s[i],s[j]]\n",
        "        break\n",
        "    \n",
        "    if type(a) == list:\n",
        "      break\n",
        "\n",
        "\n",
        "  print('{0} {1}'.format(a[0],a[1]))\n",
        " \n",
        "''' ##시간초과\n",
        "for _ in range(int(input())):\n",
        "  n = int(input())+1 # n = 짝수, 4 <= n <= 10000 #0~n 까지\n",
        "  l = [True] * n\n",
        "\n",
        "  for i in range(2, int(n**0.5)+1):\n",
        "      if l[i]:\n",
        "          for j in range(2*i, n, i):\n",
        "              l[j] = False\n",
        "  l[0], l[1] = False, False #1은 소수가 아니다\n",
        "\n",
        "  s = []\n",
        "  for i in range(2,n):\n",
        "    if l[i]:\n",
        "      s.append(i)\n",
        "  \n",
        "  k = 0\n",
        "  min = 10000\n",
        "  for i in range(len(s)): #0 1 2 3\n",
        "    for j in range(len(s)-1,k-1,-1): # 3 2 1 0\n",
        "      if s[i] + s[j] >= n - 1:\n",
        "        if s[i] + s[j] == n - 1:\n",
        "          if min >= s[j] - s[i]:\n",
        "            min = s[j] - s[i]\n",
        "            t = [s[i], s[j]]\n",
        "      else:\n",
        "        break\n",
        "    k += 1\n",
        "\n",
        "  print('{0} {1}'.format(t[0],t[1]))\n",
        "'''"
      ],
      "execution_count": null,
      "outputs": []
    },
    {
      "cell_type": "markdown",
      "metadata": {
        "id": "6twKfAmqpRnI"
      },
      "source": [
        "#### 1085번"
      ]
    },
    {
      "cell_type": "code",
      "metadata": {
        "id": "Vu8gjpS3pRnI"
      },
      "source": [
        "#import sys #반복문으로 여러 줄을 받는 경우\n",
        "#sys.stdin.readline()\n",
        "\n",
        "x,y,w,h = map(int,input().split()) #y축과의 거리 = x, x축과의 거리 = y, w-x, h-y\n",
        "\n",
        "l = [x, y, w-x, h-y]\n",
        "\n",
        "min = l[0]\n",
        "for i in l:\n",
        "  if min >= i:\n",
        "    min = i\n",
        "\n",
        "print(min)"
      ],
      "execution_count": null,
      "outputs": []
    },
    {
      "cell_type": "markdown",
      "metadata": {
        "id": "ZDuE1-OipRq_"
      },
      "source": [
        "#### 3009번"
      ]
    },
    {
      "cell_type": "code",
      "metadata": {
        "id": "mc2GmSTUpRq_"
      },
      "source": [
        "a = list(map(int, input().split()))\n",
        "b = list(map(int, input().split()))\n",
        "c = list(map(int, input().split()))\n",
        "\n",
        "d = [a[0], b[0], c[0]]\n",
        "e = [a[1], b[1], c[1]]\n",
        "\n",
        "res = []\n",
        "for i in range(len(d)):\n",
        "  if d.count(d[i]) == 1:\n",
        "    res.append(d[i])\n",
        "\n",
        "for i in range(len(e)):\n",
        "  if e.count(e[i]) == 1:\n",
        "    res.append(e[i])\n",
        "\n",
        "print(res[0],res[1],end=' ')\n"
      ],
      "execution_count": null,
      "outputs": []
    },
    {
      "cell_type": "markdown",
      "metadata": {
        "id": "-nM0HEDopRvK"
      },
      "source": [
        "#### 4153번"
      ]
    },
    {
      "cell_type": "code",
      "metadata": {
        "id": "SPiX-2p3pRvK"
      },
      "source": [
        "while True:\n",
        "  a, b, c = map(int, input().split())\n",
        "\n",
        "  if (a == 0) & (b == 0) & (c == 0):\n",
        "    break\n",
        "\n",
        "  a = a**2\n",
        "  b = b**2\n",
        "  c = c**2\n",
        "\n",
        "  if a == b+c:\n",
        "    print('right')\n",
        "  elif b == a + c:\n",
        "    print('right')\n",
        "  elif c == a + b:\n",
        "    print('right')\n",
        "  else:\n",
        "    print('wrong')"
      ],
      "execution_count": null,
      "outputs": []
    },
    {
      "cell_type": "markdown",
      "metadata": {
        "id": "Z1B6hu9r5tXu"
      },
      "source": [
        "#### 3053번"
      ]
    },
    {
      "cell_type": "code",
      "metadata": {
        "id": "GSIgSRsT5tX5"
      },
      "source": [
        "import math\n",
        "\n",
        "n = int(input())\n",
        "\n",
        "\n",
        "print('{0:.6f}'.format(math.pi * (n ** 2)))\n",
        "print('{0:.6f}'.format((n ** 2) * 2))"
      ],
      "execution_count": null,
      "outputs": []
    },
    {
      "cell_type": "markdown",
      "metadata": {
        "id": "iPOcMnv25tf1"
      },
      "source": [
        "#### 1002번"
      ]
    },
    {
      "cell_type": "code",
      "metadata": {
        "id": "5i5bBkYg5tf2"
      },
      "source": [
        "import math\n",
        "\n",
        "for _ in range(int(input())):\n",
        "  x1, y1, r1, x2, y2, r2 = map(int,input().split())\n",
        "  d1 = math.sqrt(abs(x1 - x2) ** 2 + abs(y1- y2) ** 2)\n",
        "  \n",
        "  if (x1 == x2) & (y1 == y2) & (r1 != r2):\n",
        "    print(0)\n",
        "  elif (x1 == x2) & (y1 == y2) & (r1 == r2): #있을 수 있는 위치가 무한대\n",
        "    print(-1)\n",
        "\n",
        "  elif r2 >= d1 + r1:\n",
        "    if r2 == d1 + r1:\n",
        "      print(1)\n",
        "    else:\n",
        "      print(0)\n",
        "\n",
        "  elif r1 >= d1 + r2:\n",
        "    if r1 == d1 + r2:\n",
        "      print(1)\n",
        "    else:\n",
        "      print(0)\n",
        "\n",
        "  elif d1 > r1 + r2:\n",
        "    print(0)\n",
        "  elif d1 == r1 + r2:\n",
        "    print(1)\n",
        "  elif d1 < r1 + r2:\n",
        "    print(2)\n",
        "  else:\n",
        "    pass"
      ],
      "execution_count": null,
      "outputs": []
    },
    {
      "cell_type": "markdown",
      "metadata": {
        "id": "-muS8KkPIVzI"
      },
      "source": [
        "### **10단계 : 재귀===========**"
      ]
    },
    {
      "cell_type": "markdown",
      "metadata": {
        "id": "PJXK_rZ8IVza"
      },
      "source": [
        "#### 10872번"
      ]
    },
    {
      "cell_type": "code",
      "metadata": {
        "id": "m-aVskciIVzb"
      },
      "source": [
        "n = int(input())\n",
        "\n",
        "def fac(n):\n",
        "  if n == 0:\n",
        "    fact = 1\n",
        "  else:\n",
        "    fact = n * fac(n-1)\n",
        "\n",
        "  return fact\n",
        "\n",
        "print(fac(n))"
      ],
      "execution_count": null,
      "outputs": []
    },
    {
      "cell_type": "markdown",
      "metadata": {
        "id": "Rq10se6eIfZD"
      },
      "source": [
        "#### 10870번"
      ]
    },
    {
      "cell_type": "code",
      "metadata": {
        "id": "V_6et8TqIfZF"
      },
      "source": [
        "def pv(n):\n",
        "  if n == 0:\n",
        "    res = 0\n",
        "  elif n == 1:\n",
        "    res = 1\n",
        "  else:\n",
        "    res = pv(n-1) + pv(n-2)\n",
        "  return res\n",
        "\n",
        "n = int(input())\n",
        "print(pv(n))"
      ],
      "execution_count": null,
      "outputs": []
    },
    {
      "cell_type": "markdown",
      "metadata": {
        "id": "4_uTqdNmIjzA"
      },
      "source": [
        "#### (***)2447번"
      ]
    },
    {
      "cell_type": "code",
      "metadata": {
        "id": "kzHeTQnap-nc"
      },
      "source": [
        "def star(k_):\n",
        "    global l \n",
        "    idx = [i for i in range(n) if (i // 3 ** k_) % 3 == 1]\n",
        "    for i in idx:\n",
        "        for j in idx:\n",
        "            l[i][j] = \" \"\n",
        "\n",
        "n=int(input())\n",
        "#l = [[['*'] * n] * n] # l[0] => n개가 나옴\n",
        "\n",
        "l = [[\"*\"]*n for _ in range(n)] # l[0] => 한개 나옴\n",
        "\n",
        "for i in range(1,8):\n",
        "  if 3 ** i == n:\n",
        "    k = i\n",
        "\n",
        "for k_ in range(k):\n",
        "    star(k_)\n",
        "    \n",
        "print('\\n'.join([''.join([str(i) for i in row]) for row in l]))\n",
        "\n",
        "'''\n",
        "t = ['***','* *','***']\n",
        "res = []\n",
        "\n",
        "def a(n):\n",
        "  if n == 3:\n",
        "    return t\n",
        "  else:\n",
        "    for _ in range(3):\n",
        "      res.append(a(int(n/3)))\n",
        "\n",
        "    res.append(a(int(n/3)))\n",
        "    res.append(['   ']*len(a(int(n/3))))\n",
        "\n",
        "    res.append(a(int(n/3)))\n",
        "\n",
        "    for _ in range(3):\n",
        "      res.append(a(int(n/3)))\n",
        "    return res\n",
        "\n",
        "\n",
        "l = [['***', '* *', '***'], ['***', '* *', '***']]\n",
        "l[0][0] + l[1][0]\n",
        "\n",
        "'''"
      ],
      "execution_count": null,
      "outputs": []
    },
    {
      "cell_type": "markdown",
      "metadata": {
        "id": "_bKHA0lrIj6l"
      },
      "source": [
        "#### (***)11729번"
      ]
    },
    {
      "cell_type": "code",
      "metadata": {
        "id": "iDrMX_tyIj6m"
      },
      "source": [
        "n = int(input())\n",
        "\n",
        "def hanoi(n, a, b):\n",
        "    if n > 1:\n",
        "        hanoi(n-1, a, 6-a-b)              # 기둥이 1개 이상이면 그룹으로 묶인 n-1개 원판을 \n",
        "                                          # 중간으로 먼저 다 옮긴다\n",
        "    print(a, b)\n",
        "\n",
        "    if n > 1:\n",
        "        hanoi(n-1, 6-a-b, b)\n",
        "\n",
        "print(2**n -1)\n",
        "hanoi(n, 1, 3) "
      ],
      "execution_count": null,
      "outputs": []
    },
    {
      "cell_type": "markdown",
      "metadata": {
        "id": "UaFH5L6zTDVu"
      },
      "source": [
        "### **11단계 : 브루트 포스===========**"
      ]
    },
    {
      "cell_type": "markdown",
      "metadata": {
        "id": "zu0qQkqvTDVz"
      },
      "source": [
        "#### 2798번"
      ]
    },
    {
      "cell_type": "code",
      "metadata": {
        "id": "UZap_O1ITDV0"
      },
      "source": [
        "n, m = map(int, input().split())\n",
        "l = list(map(int, input().split()))\n",
        "l.sort()\n",
        "max = 0\n",
        "h = 0\n",
        "for k in range(len(l)-2):\n",
        "  for i in range(len(l)-1,k+1,-1):\n",
        "    if l[k] + l[i] >= m:\n",
        "      continue\n",
        "    else:\n",
        "      for j in range(i-1,k,-1):\n",
        "        if l[k] + l[i] + l[j] > m:\n",
        "          continue\n",
        "        elif l[k] + l[i] + l[j] == m:\n",
        "          max = l[k] + l[i] + l[j]\n",
        "          h = 1\n",
        "          break\n",
        "        else:\n",
        "          if l[k] + l[i] + l[j] >= max:\n",
        "            max = l[k] + l[i] + l[j]\n",
        "          else:\n",
        "            continue\n",
        "        continue\n",
        "    if h == 1:\n",
        "      break\n",
        "\n",
        "  continue\n",
        "  if h == 1:\n",
        "    break\n",
        "\n",
        "print(max)"
      ],
      "execution_count": null,
      "outputs": []
    },
    {
      "cell_type": "markdown",
      "metadata": {
        "id": "L3mEbN4iMdEM"
      },
      "source": [
        "#### 2231번"
      ]
    },
    {
      "cell_type": "code",
      "metadata": {
        "id": "xlmtQoT9MdEa"
      },
      "source": [
        "def fun(n):\n",
        "  l = []\n",
        "  if n < 20:\n",
        "\n",
        "    for i in range(1,n+1):\n",
        "      a = str(i)\n",
        "      b = 0\n",
        "      for j in range(len(a)):\n",
        "        b += int(a[j])\n",
        "      if b + i == n:\n",
        "        l.append(i)\n",
        "      else:\n",
        "        continue\n",
        "\n",
        "    l.sort()\n",
        "\n",
        "    if l == []:\n",
        "      return 0\n",
        "    else:\n",
        "      return l[0]\n",
        "\n",
        "  else:\n",
        "    for i in range(n-int(len(str(n)))*10,n+1):\n",
        "      \n",
        "      a = str(i)\n",
        "      b = 0\n",
        "      for j in range(len(a)):\n",
        "        b += int(a[j])\n",
        "      \n",
        "      if b+i == n:\n",
        "        l.append(i)\n",
        "      else:\n",
        "        continue\n",
        "    \n",
        "    l.sort()\n",
        "\n",
        "    if l == []:\n",
        "      return 0\n",
        "    else:\n",
        "      return l[0]\n",
        "  \n",
        "\n",
        "n = int(input())\n",
        "\n",
        "print(fun(n))\n"
      ],
      "execution_count": null,
      "outputs": []
    },
    {
      "cell_type": "markdown",
      "metadata": {
        "id": "fGK6XiQ4MdHJ"
      },
      "source": [
        "#### 7568번"
      ]
    },
    {
      "cell_type": "code",
      "metadata": {
        "id": "AaJV1D25eq8x"
      },
      "source": [
        "a = []\n",
        "res = []\n",
        "for _ in range(int(input())):\n",
        "  a.append(list(map(int,input().split())))\n",
        "\n",
        "for i in range(len(a)):\n",
        "  cnt = 1\n",
        "  for j in range(len(a)):\n",
        "    if a[i][0] < a[j][0]:\n",
        "      if a[i][1] < a[j][1]:\n",
        "        cnt += 1\n",
        "  \n",
        "  res.append(cnt)\n",
        "\n",
        "for i in res:\n",
        "  print(i,end=' ')\n",
        "\n",
        "'''\n",
        "w = [], h = [], rank_w = [], rank_h = [], res = [], mm = []\n",
        "\n",
        "for _ in range(int(input())):\n",
        "  a = list(map(int,input().split()))\n",
        "  w.append(a[0])\n",
        "  h.append(a[1])\n",
        "\n",
        "sort_w = w.copy()\n",
        "sort_h = h.copy()\n",
        "sort_w.sort(reverse=True)\n",
        "sort_h.sort(reverse=True)\n",
        "\n",
        "for i in range(len(w)):\n",
        "  rank_w.append(sort_w.index(w[i]) + 1)\n",
        "  rank_h.append(sort_h.index(h[i]) + 1)\n",
        "\n",
        "for i in range(len(rank_w)):\n",
        "  if rank_w[i] == rank_h[i]:\n",
        "    res.append(rank_w[i])\n",
        "  else:\n",
        "    x = [rank_w[i], rank_h[i]]\n",
        "    x.sort()\n",
        "    if x in mm:\n",
        "      pass\n",
        "    else:\n",
        "      mm.append(x)\n",
        "\n",
        "    res.append((rank_w[i] + rank_h[i]) / 2)\n",
        "\n",
        "for i in range(len(res)):\n",
        "  for j in mm:\n",
        "    if (j[0] <= res[i]) & ( res[i] <= j[1]):\n",
        "      res[i] = j[0]\n",
        "\n",
        "for i in res:\n",
        "  print(i,end=' ')\n",
        "'''"
      ],
      "execution_count": null,
      "outputs": []
    },
    {
      "cell_type": "markdown",
      "metadata": {
        "id": "3LicNHImMdKU"
      },
      "source": [
        "#### 1018번"
      ]
    },
    {
      "cell_type": "code",
      "metadata": {
        "id": "SRibJTpB1KeB"
      },
      "source": [
        "import sys\n",
        "\n",
        "def BW(x):\n",
        "  if x == 'W':\n",
        "    return True\n",
        "  else:\n",
        "    return False\n",
        "\n",
        "def count_box(a, list_x):\n",
        "    cnt = 0\n",
        "    if a ==1: #W\n",
        "        for i in range(0, 8, 2):\n",
        "            if list_x[i] == True:\n",
        "                pass\n",
        "            else:\n",
        "                cnt += 1\n",
        "\n",
        "            if list_x[i+1] == False:\n",
        "                pass\n",
        "            else:\n",
        "                cnt += 1\n",
        "        return cnt\n",
        "\n",
        "    else:\n",
        "        for i in range(0, 8, 2):\n",
        "            if list_x[i] == False:\n",
        "                pass\n",
        "            else:\n",
        "                cnt += 1\n",
        "\n",
        "            if list_x[i + 1] == True:\n",
        "                pass\n",
        "            else:\n",
        "                cnt += 1\n",
        "        return cnt\n",
        "\n",
        "\n",
        "m, n = map(int, input().split())\n",
        "ch = []\n",
        "\n",
        "for _ in range(m):\n",
        "    ch.append(list(map(BW, list(str(sys.stdin.readline())))))\n",
        "    #ch.append(list(sys.stdin.readline()))\n",
        "\n",
        "res_list = []\n",
        "for i in range(m - 7):\n",
        "    for j in range(n - 7):\n",
        "        res_0 = 0\n",
        "        res_1 = 0\n",
        "        for k in range(0,8,2):\n",
        "            res_1 += count_box(1, ch[i + k][j:j + 8]) #처음이 W\n",
        "            res_1 += count_box(0, ch[i + k + 1][j:j + 8])\n",
        "            res_0 += count_box(0, ch[i + k][j:j + 8])\n",
        "            res_0 += count_box(1, ch[i + k + 1][j:j + 8])\n",
        "\n",
        "        if res_0 >= res_1:\n",
        "            res_list.append(res_1)\n",
        "        else:\n",
        "            res_list.append(res_0)\n",
        "\n",
        "min = res_list[0]\n",
        "for i in res_list:\n",
        "    if i <= min:\n",
        "        min = i\n",
        "    else:\n",
        "        pass\n",
        "\n",
        "\n",
        "print(min)"
      ],
      "execution_count": null,
      "outputs": []
    },
    {
      "cell_type": "markdown",
      "metadata": {
        "id": "9zMkFXkfMdOm"
      },
      "source": [
        "#### 1436번"
      ]
    },
    {
      "cell_type": "code",
      "metadata": {
        "id": "zBja6jSIMdOn"
      },
      "source": [
        "n = int(input())\n",
        "\n",
        "a = 1\n",
        "t = 2\n",
        "\n",
        "if n == 1:\n",
        "  print(666)\n",
        "else:\n",
        "  h = 1\n",
        "  while h != 0: # a= 6 t 7 => 6666\n",
        "    \n",
        "    b = list(str(a))\n",
        "\n",
        "    if b[-1] == '6':\n",
        "\n",
        "      cnt = 0\n",
        "      for i in range(len(b)-1,-1,-1):\n",
        "        if b[i] == '6':\n",
        "          cnt += 1\n",
        "        else:\n",
        "          break\n",
        "      \n",
        "      for i in range(10 ** cnt):\n",
        "\n",
        "        if t == n:\n",
        "          j = str(i).rjust(cnt).replace(' ','0')\n",
        "          print(int(str(a)+'6'*(3-cnt)+j))\n",
        "          h = 0\n",
        "          break\n",
        "\n",
        "        t += 1\n",
        "      \n",
        "      a += 1\n",
        "\n",
        "    else:\n",
        "      \n",
        "      if t == n:\n",
        "        h = 0\n",
        "        print(int(str(a)+'666'))\n",
        "        \n",
        "      t += 1\n",
        "      a += 1"
      ],
      "execution_count": null,
      "outputs": []
    },
    {
      "cell_type": "markdown",
      "metadata": {
        "id": "NTQ_ay5yTJtQ"
      },
      "source": [
        "### **12단계 : 정렬===========**"
      ]
    },
    {
      "cell_type": "markdown",
      "metadata": {
        "id": "Rv4kaoPHTJtR"
      },
      "source": [
        "#### 2750번"
      ]
    },
    {
      "cell_type": "code",
      "metadata": {
        "id": "0YtTiSfnTJtR"
      },
      "source": [
        "# sort() 원형 변환, sorted(list) = 원형 변환 x\n",
        "\n",
        "import sys\n",
        "\n",
        "l = []\n",
        "\n",
        "for _ in range(int(input())):\n",
        "  l.append(int(sys.stdin.readline()))\n",
        "\n",
        "l.sort()\n",
        "for i in l:\n",
        "  print(i)"
      ],
      "execution_count": null,
      "outputs": []
    },
    {
      "cell_type": "markdown",
      "metadata": {
        "id": "_GihlXpZv_jE"
      },
      "source": [
        "#### 2751번(2750 이랑 같은 풀이)"
      ]
    },
    {
      "cell_type": "code",
      "metadata": {
        "id": "esS4nx-gxHLn"
      },
      "source": [
        "import sys\n",
        "\n",
        "l = []\n",
        "\n",
        "for _ in range(int(input())):\n",
        "  l.append(int(sys.stdin.readline()))\n",
        "\n",
        "l.sort()\n",
        "for i in l:\n",
        "  print(i)"
      ],
      "execution_count": null,
      "outputs": []
    },
    {
      "cell_type": "markdown",
      "metadata": {
        "id": "2qYuBrbJv_px"
      },
      "source": [
        "#### 10989번(counting 정렬 : 계수정렬)\n"
      ]
    },
    {
      "cell_type": "code",
      "metadata": {
        "id": "GAKnVNAhv_py"
      },
      "source": [
        "# sort도 Counting Sort 와 Quick Sort 가 있으며 시간 복잡도가 다름 ((n) 과 (nlogn))\n",
        "\n",
        "import sys\n",
        "\n",
        "l =[0] * 10000\n",
        "\n",
        "for _ in range(int(input())):\n",
        "  a = int(sys.stdin.readline())-1\n",
        "  l[a] = l[a] + 1\n",
        "\n",
        "for i in range(len(l)):\n",
        "  if l[i] != 0:\n",
        "    for _ in range(l[i]):\n",
        "      print(i+1)\n",
        "  else:\n",
        "    pass"
      ],
      "execution_count": null,
      "outputs": []
    },
    {
      "cell_type": "markdown",
      "metadata": {
        "id": "c1eqrUsLv_uC"
      },
      "source": [
        "#### 2108번"
      ]
    },
    {
      "cell_type": "code",
      "metadata": {
        "id": "Eyjh8BOjv_uD"
      },
      "source": [
        "import sys\n",
        "# -4000 ~ 0 ~ 4000 8001\n",
        "l = [0] * 8001\n",
        "sum = 0\n",
        "\n",
        "n = int(input())\n",
        "for _ in range(n):\n",
        "  a = int(sys.stdin.readline())\n",
        "  l[a + 4000] += 1\n",
        "  sum += a\n",
        "\n",
        "print(int(round(sum / n,0)))\n",
        "\n",
        "median = 0\n",
        "\n",
        "for i in range(8001):\n",
        "  if l[i] == 0:\n",
        "    pass\n",
        "  else:\n",
        "    median += l[i]\n",
        "    if median >= int(n / 2 + 0.5):\n",
        "      print(-4000 + i)\n",
        "      break\n",
        "\n",
        "max = 0\n",
        "for i in range(8001):\n",
        "  if l[i] == 0:\n",
        "    pass\n",
        "  else:\n",
        "    if l[i] >= max:\n",
        "      max = l[i]\n",
        "\n",
        "t = []\n",
        "for i in range(8001):\n",
        "  if l[i] == max:\n",
        "    t.append(-4000 + i)\n",
        "\n",
        "t.sort()\n",
        "if len(t) == 1:\n",
        "  print(t[0])\n",
        "else:\n",
        "  print(t[1])\n",
        "\n",
        "for i in range(8001):\n",
        "  if l[i] != 0:\n",
        "    x = -4000 + i\n",
        "    break\n",
        "\n",
        "for i in range(-1,-8002,-1):\n",
        "  if l[i] != 0:\n",
        "    y = 4001 + i\n",
        "    break\n",
        "\n",
        "print(abs(y - x))"
      ],
      "execution_count": null,
      "outputs": []
    },
    {
      "cell_type": "markdown",
      "metadata": {
        "id": "x8_IWrHDv_xZ"
      },
      "source": [
        "#### 1427번"
      ]
    },
    {
      "cell_type": "code",
      "metadata": {
        "id": "7Z4z6GDAv_xa"
      },
      "source": [
        "l = list(map(int,list(str(input()))))\n",
        "\n",
        "l.sort(reverse=True)\n",
        "\n",
        "l = list(map(str,l))\n",
        "a = ''\n",
        "for i in l:\n",
        "  a += i\n",
        "\n",
        "print(a)\n"
      ],
      "execution_count": null,
      "outputs": []
    },
    {
      "cell_type": "markdown",
      "metadata": {
        "id": "G15IkQ6tv_1K"
      },
      "source": [
        "#### 11650번"
      ]
    },
    {
      "cell_type": "code",
      "metadata": {
        "id": "52S_B8xwv_1K"
      },
      "source": [
        "import sys\n",
        "\n",
        "l = []\n",
        "for _ in range(int(input())):\n",
        "  l.append(list(map(int,sys.stdin.readline().split(' '))))\n",
        "\n",
        "l.sort()\n",
        "for i in l:\n",
        "  print('{0} {1}'.format(i[0],i[1]))"
      ],
      "execution_count": null,
      "outputs": []
    },
    {
      "cell_type": "markdown",
      "metadata": {
        "id": "PO8bT17Yv_4W"
      },
      "source": [
        "#### 11651번"
      ]
    },
    {
      "cell_type": "code",
      "metadata": {
        "id": "f4D7wuNLv_4W"
      },
      "source": [
        "#key 파라미터 = 정렬을 목적으로 하는 함수를 값으로 넣는다, 여러개일 경우 (x[0], x[1]) 튜플 형태 가능\n",
        "import sys\n",
        "\n",
        "l = []\n",
        "for _ in range(int(input())):\n",
        "  l.append(list(map(int,sys.stdin.readline().split(' '))))\n",
        "\n",
        "l.sort(key= lambda x : (x[1], x[0]))\n",
        "for i in l:\n",
        "  print('{0} {1}'.format(i[0],i[1]))"
      ],
      "execution_count": null,
      "outputs": []
    },
    {
      "cell_type": "markdown",
      "metadata": {
        "id": "cNNCoZ9jv_74"
      },
      "source": [
        "#### 1181번"
      ]
    },
    {
      "cell_type": "code",
      "metadata": {
        "id": "z-jfBVbjv_75"
      },
      "source": [
        "import sys\n",
        "\n",
        "l = []\n",
        "for _ in range(int(input())):\n",
        "  l.append(sys.stdin.readline().split()[0])\n",
        "\n",
        "l = list(set(l))\n",
        "l.sort(key= lambda x : (len(x), x))\n",
        "\n",
        "for i in l:\n",
        "  print(i)"
      ],
      "execution_count": null,
      "outputs": []
    },
    {
      "cell_type": "markdown",
      "metadata": {
        "id": "WsfSoeVGv__n"
      },
      "source": [
        "#### 10814번"
      ]
    },
    {
      "cell_type": "code",
      "metadata": {
        "id": "dS7LOir6v__n"
      },
      "source": [
        "import sys\n",
        "\n",
        "def up(x):\n",
        "  return int(x[0]), x[1]\n",
        "\n",
        "l = []\n",
        "for _ in range(int(input())):\n",
        "  l.append(list( up(sys.stdin.readline().rstrip('\\n').split(' ')) ))\n",
        "\n",
        "l.sort(key= lambda x : x[0])\n",
        "\n",
        "for i in l:\n",
        "  print('{0} {1}'.format(i[0],i[1]))"
      ],
      "execution_count": null,
      "outputs": []
    },
    {
      "cell_type": "markdown",
      "metadata": {
        "id": "lwfJcPujwADW"
      },
      "source": [
        "#### 18870번"
      ]
    },
    {
      "cell_type": "code",
      "metadata": {
        "id": "w76ZrblpwADW"
      },
      "source": [
        "import sys\n",
        "\n",
        "n = int(input())\n",
        "l = list(map(int, sys.stdin.readline().rstrip('\\n').split(' ')))\n",
        "\n",
        "t = sorted(set(l))\n",
        "\n",
        "a = {t[i] : i for i in range(len(t))} #dic 형태의 key: value로 값 불러오기 \n",
        "\n",
        "for i in l:\n",
        "  print(a[i],end=' ')\n",
        "  #print(t.index(i), end=' ') #인덱스 형태로 불러오니 시간초과가 계속 떴음."
      ],
      "execution_count": null,
      "outputs": []
    },
    {
      "cell_type": "markdown",
      "metadata": {
        "id": "c8PuR2bJTJy-"
      },
      "source": [
        "### **13단계 : 집합과 맵(수정예정 0문제)===========**"
      ]
    },
    {
      "cell_type": "markdown",
      "metadata": {
        "id": "JHHpUh5sTJy-"
      },
      "source": [
        "#### 1"
      ]
    },
    {
      "cell_type": "code",
      "metadata": {
        "id": "vnQgsF6ATJy-"
      },
      "source": [
        ""
      ],
      "execution_count": null,
      "outputs": []
    },
    {
      "cell_type": "markdown",
      "metadata": {
        "id": "jpgz7y6-TJ2u"
      },
      "source": [
        "### **14단계 : 백트래킹===========**"
      ]
    },
    {
      "cell_type": "markdown",
      "metadata": {
        "id": "Id8suWMLTJ2u"
      },
      "source": [
        "#### (***)15649번"
      ]
    },
    {
      "cell_type": "code",
      "metadata": {
        "id": "Avn1V7iuTJ2u"
      },
      "source": [
        "#백트래킹 : 완탐 + 가지치기\n",
        "# import itertools 사용\n",
        "#https://chanhuiseok.github.io/posts/algo-23/\n",
        "\n",
        "n, m = map(int, input().split())\n",
        "\n",
        "def solve(l):\n",
        "  if len(l) == m:\n",
        "    print(' '.join(map(str, l)))\n",
        "    return\n",
        "  \n",
        "  for i in range(1, n +1):\n",
        "    if i in l:\n",
        "      continue\n",
        "    solve(l+[i])\n",
        "\n",
        "solve([])"
      ],
      "execution_count": null,
      "outputs": []
    },
    {
      "cell_type": "markdown",
      "metadata": {
        "id": "0X43_siuI-1X"
      },
      "source": [
        "#### 15650번"
      ]
    },
    {
      "cell_type": "code",
      "metadata": {
        "id": "yTjTIevMI-1i"
      },
      "source": [
        "n, m = map(int, input().split())\n",
        "\n",
        "def solve(l, x):\n",
        "  if len(l) == m:\n",
        "    print(' '.join(map(str, l)))\n",
        "    return\n",
        "  \n",
        "  for i in range(x, n +1):\n",
        "    if i in l:\n",
        "      continue\n",
        "    solve(l+[i], i + 1)\n",
        "    \n",
        "\n",
        "solve([],1)\n"
      ],
      "execution_count": null,
      "outputs": []
    },
    {
      "cell_type": "markdown",
      "metadata": {
        "id": "ZY4ylPCUI_Dq"
      },
      "source": [
        "#### 15651번"
      ]
    },
    {
      "cell_type": "code",
      "metadata": {
        "id": "2X1cj_LuI_Dr"
      },
      "source": [
        "n, m = map(int, input().split())\n",
        "\n",
        "def solve(l):\n",
        "  if len(l) == m:\n",
        "    print(' '.join(map(str, l)))\n",
        "    return\n",
        "  \n",
        "  for i in range(1, n +1):\n",
        "\n",
        "    solve(l+[i])\n",
        "    \n",
        "solve([])"
      ],
      "execution_count": null,
      "outputs": []
    },
    {
      "cell_type": "markdown",
      "metadata": {
        "id": "Duha6a9WI_HA"
      },
      "source": [
        "#### 15652번"
      ]
    },
    {
      "cell_type": "code",
      "metadata": {
        "id": "6eZuJqPlI_HB"
      },
      "source": [
        "n, m = map(int, input().split())\n",
        "\n",
        "def solve(l):\n",
        "  if len(l) == m:\n",
        "    print(' '.join(map(str, l)))\n",
        "    return\n",
        "  \n",
        "  for i in range(1, n +1):\n",
        "    if not l:\n",
        "      solve(l+[i])\n",
        "    elif i < l[-1]:\n",
        "      continue\n",
        "    else:\n",
        "      solve(l+[i])\n",
        "\n",
        "solve([])"
      ],
      "execution_count": null,
      "outputs": []
    },
    {
      "cell_type": "markdown",
      "metadata": {
        "id": "iqYb65BVI_J6"
      },
      "source": [
        "#### (***)9663번 : N-queen 문제 못풀음"
      ]
    },
    {
      "cell_type": "code",
      "metadata": {
        "id": "6acerEu2lAbO"
      },
      "source": [
        "# 각 행과 열마다 퀸이 들어가있어야함\n",
        "import copy\n",
        "\n",
        "n = int(input())\n",
        "\n",
        "chess = []\n",
        "T = []\n",
        "cnt = 0\n",
        "\n",
        "for _ in range(n):\n",
        "    chess.append([False] * n)\n",
        "    T.append([True] * n)\n",
        "\n",
        "def n_queen(chess, x):\n",
        "  global cnt\n",
        "  \n",
        "  if chess == T:\n",
        "    return\n",
        "\n",
        "  if x == n:\n",
        "    num = 0\n",
        "    for i in range(n):\n",
        "      for j in range(n):\n",
        "        if chess[i][j] == False:\n",
        "          cnt += 1\n",
        "    return \n",
        "\n",
        "\n",
        "  for i in range(n):\n",
        "    t = copy.deepcopy(chess)\n",
        "\n",
        "    if chess[x-1][i] == True: #x-1 행, i열\n",
        "      continue\n",
        "\n",
        "    for k in range(n):\n",
        "      t[k][i] = True\n",
        "      t[x-1][k] = True\n",
        "\n",
        "    for k in range(x, n):\n",
        "      if (0 <= i + (k - x + 1)) & (i + (k - x + 1) < n):\n",
        "        t[k][i + (k - x + 1)] = True\n",
        "      if (0 <= i - (k - x + 1)) & (i - (k - x + 1)  < n):\n",
        "        t[k][i - (k - x + 1)] = True\n",
        "\n",
        "    n_queen(t, x + 1)\n",
        "\n",
        "n_queen(chess, 1)\n",
        "print(cnt)\n"
      ],
      "execution_count": null,
      "outputs": []
    },
    {
      "cell_type": "code",
      "metadata": {
        "id": "D5cZRwZ7D9Mq"
      },
      "source": [
        "# 정답 코드\n",
        "\n",
        "def adjacent(x):\n",
        "    for i in range(x):\n",
        "        if row[x] == row[i] or abs(row[x] - row[i]) == x - i:\n",
        "            return False\n",
        "    return True\n",
        "        \n",
        "def dfs(x):\n",
        "    global result\n",
        "    \n",
        "    if x == N:\n",
        "        result += 1\n",
        "\n",
        "    else:\n",
        "        for i in range(N):\n",
        "            row[x] = i\n",
        "            if adjacent(x):\n",
        "                dfs(x + 1)\n",
        "\n",
        "N = int(input())\n",
        "row = [0] * N\n",
        "result = 0\n",
        "dfs(0)\n",
        "print(result)"
      ],
      "execution_count": null,
      "outputs": []
    },
    {
      "cell_type": "markdown",
      "metadata": {
        "id": "dWdByFb4I_M4"
      },
      "source": [
        "#### 2580번"
      ]
    },
    {
      "cell_type": "code",
      "metadata": {
        "id": "vUd5vO2mstA5"
      },
      "source": [
        "#Pypy3 제출\n",
        "#마지막 가지에서의  append는 적용 안됨 그래서 deepcopy로 해결\n",
        "import sys\n",
        "import copy\n",
        "s = []\n",
        "h = []\n",
        "for _ in range(9):\n",
        "  s.append(list(map(int,sys.stdin.readline().rstrip('\\n').split(' '))))\n",
        "\n",
        "zeros = [(i,j) for i in range(9) for j in range(9) if s[i][j] == 0]\n",
        "\n",
        "def sudoku(x):\n",
        "\n",
        "\n",
        "  if x == len(zeros):\n",
        "    global h\n",
        "    v = copy.deepcopy(s) #그냥 apend(s) 하면 원래 s값으로 돌아가서 deepcopy로 해결\n",
        "    h.append(v)\n",
        "    return\n",
        "\n",
        "  i = zeros[x][0]\n",
        "  j = zeros[x][1]\n",
        "\n",
        "  l = []\n",
        "  for k in range(1,10):\n",
        "    y = 0\n",
        " \n",
        "    for q in range(9):\n",
        "      if s[i][q] == k: # k in s[i] 보다 빠름\n",
        "        y = 1\n",
        "        break\n",
        "\n",
        "      if s[q][j] == k:\n",
        "        y = 1\n",
        "        break\n",
        "    \n",
        "    if y == 1:\n",
        "      continue\n",
        "    \n",
        "    for m in range((j // 3) * 3, ((j // 3) + 1) * 3):\n",
        "      for n in range((i // 3) * 3, ((i // 3) + 1) * 3):\n",
        "        if s[n][m] == k:\n",
        "          y = 1\n",
        "          break\n",
        "      if y == 1:\n",
        "        break \n",
        "\n",
        "    if y == 1:\n",
        "      continue\n",
        "\n",
        "    l.append(k)\n",
        "\n",
        "  for k in l:\n",
        "    s[i][j] = k\n",
        "    sudoku(x + 1)\n",
        "    s[i][j] = 0\n",
        "\n",
        "sudoku(0)\n",
        "\n",
        "for i in h[0]:\n",
        "  print(*i)\n",
        "\n",
        "''' #스도쿠 결과가 두개인 경우\n",
        "9 8 4 0 0 0 6 7 0\n",
        "6 1 0 8 0 0 5 0 0\n",
        "0 5 7 0 0 0 0 3 1\n",
        "0 6 0 9 0 0 4 1 0\n",
        "4 2 0 1 8 0 7 0 3\n",
        "5 0 0 3 0 4 0 0 0\n",
        "7 0 5 2 0 0 0 0 0\n",
        "0 0 2 4 9 0 0 5 7\n",
        "1 9 0 0 0 3 2 0 0\n",
        "'''"
      ],
      "execution_count": null,
      "outputs": []
    },
    {
      "cell_type": "code",
      "metadata": {
        "id": "vyl8uVza8NuM"
      },
      "source": [
        "#시간초과, 메모리 초과\n",
        "import sys\n",
        "sys.setrecursionlimit(10**9)\n",
        "\n",
        "s = []\n",
        "\n",
        "for _ in range(9):\n",
        "  s.append(list(map(int,sys.stdin.readline().rstrip('\\n').split(' '))))\n",
        "\n",
        "def sudoku(s):\n",
        "  num = 0\n",
        "  for i in range(9):\n",
        "    if 0 in s[i]:\n",
        "      num = 1\n",
        "      for j in range(9):\n",
        "        if s[i][j] == 0:\n",
        "          l = []\n",
        "          p = []\n",
        "          a = int(j // 3)\n",
        "          b = int(i // 3)\n",
        "          for m in range(a * 3, (a + 1) * 3):\n",
        "            for n in range(b * 3, (b + 1) * 3):\n",
        "              p.append(s[n][m])\n",
        "\n",
        "          t = [s[k][j] for k in range(9)]\n",
        "          for k in range(1,10):\n",
        "            if k not in s[i]:\n",
        "              if k not in t:\n",
        "                if k not in p:\n",
        "                  l.append(k)\n",
        "\n",
        "          if len(l) == 1:\n",
        "            s[i][j] = l[0]\n",
        "\n",
        "  if num == 1:\n",
        "    sudoku(s)\n",
        "  else:\n",
        "    for i in range(9):\n",
        "      print(' '.join(map(str, s[i])))\n",
        "    return\n",
        "\n",
        "sudoku(s)\n"
      ],
      "execution_count": null,
      "outputs": []
    },
    {
      "cell_type": "markdown",
      "metadata": {
        "id": "RN4IB3xOI_QP"
      },
      "source": [
        "#### 14888번"
      ]
    },
    {
      "cell_type": "code",
      "metadata": {
        "id": "4JHLvuIPhq-F"
      },
      "source": [
        "import copy\n",
        "\n",
        "max = - 10 ** 9 - 1\n",
        "min = 10 ** 9 + 1\n",
        "\n",
        "n = int(input())\n",
        "num_list = list(map(int, input().split(' ')))\n",
        "operator = list(map(int, input().split(' ')))\n",
        "\n",
        "def solve(x, ans, o,p,q,r):\n",
        "    if x == n:\n",
        "        global max\n",
        "        global min\n",
        "        a = copy.deepcopy(ans)\n",
        "\n",
        "        if a >= max:\n",
        "            max = a\n",
        "        if a <= min:\n",
        "            min = a\n",
        "        return\n",
        "\n",
        "    for i in range(1,5):\n",
        "        if i == 1:\n",
        "            if o == 0:\n",
        "              continue\n",
        "\n",
        "            y = ans + num_list[x]\n",
        "            o -= 1\n",
        "        elif i == 2:\n",
        "            if p == 0:\n",
        "              continue\n",
        "            y = ans - num_list[x]\n",
        "            p -= 1\n",
        "        elif i == 3:\n",
        "            if q == 0:\n",
        "                continue\n",
        "            y = ans * num_list[x]\n",
        "            q -= 1\n",
        "        else: # i ==4\n",
        "            if r == 0:\n",
        "              continue\n",
        "\n",
        "            if ans >= 0:\n",
        "                y = ans // num_list[x]\n",
        "                r -= 1\n",
        "            else:\n",
        "                y = -(abs(ans) // num_list[x])\n",
        "                r -= 1\n",
        "\n",
        "        solve(x + 1, y,o,p,q,r)\n",
        "\n",
        "        if i == 1:\n",
        "          o += 1\n",
        "        elif i == 2:\n",
        "          p += 1\n",
        "        elif i == 3:\n",
        "          q += 1\n",
        "        else:\n",
        "          r += 1\n",
        "\n",
        "\n",
        "\n",
        "solve(1, num_list[0],operator[0],operator[1],operator[2],operator[3])\n",
        "print(max)\n",
        "print(min)"
      ],
      "execution_count": null,
      "outputs": []
    },
    {
      "cell_type": "code",
      "metadata": {
        "id": "Of_vfCwKI_QQ"
      },
      "source": [
        "#pypy3 성공, Python 시간초과\n",
        "import copy\n",
        "\n",
        "n = int(input())\n",
        "num_list = list(map(int, input().split(' ')))\n",
        "operator_cnt = list(map(int, input().split(' ')))\n",
        "\n",
        "operator = []\n",
        "for i in range(4):\n",
        "    for _ in range(operator_cnt[i]):\n",
        "        operator.append(i+1)\n",
        "\n",
        "max = - 10 ** 9 - 1\n",
        "min = 10 ** 9 + 1\n",
        "\n",
        "def solve(x, ans):\n",
        "    if x == n:\n",
        "        global max\n",
        "        global min\n",
        "        a = copy.deepcopy(ans)\n",
        "\n",
        "        if a >= max:\n",
        "            max = a\n",
        "        if a <= min:\n",
        "            min = a\n",
        "        return\n",
        "\n",
        "    for i in range(len(operator)):\n",
        "        a = operator[i]\n",
        "        if a == 1:\n",
        "            y = ans + num_list[x]\n",
        "        if a == 2:\n",
        "            y = ans - num_list[x]\n",
        "        if a == 3:\n",
        "            y = ans * num_list[x]\n",
        "        if a == 4:\n",
        "            if ans >= 0:\n",
        "                y = ans // num_list[x]\n",
        "            else:\n",
        "                y = -(abs(ans) // num_list[x])\n",
        "\n",
        "        operator.remove(a)\n",
        "        solve(x + 1, y)\n",
        "        operator.insert(i,a)\n",
        "\n",
        "solve(1, num_list[0])\n",
        "print(max)\n",
        "print(min)"
      ],
      "execution_count": null,
      "outputs": []
    },
    {
      "cell_type": "markdown",
      "metadata": {
        "id": "X70TgeGFI_UZ"
      },
      "source": [
        "#### 14889번"
      ]
    },
    {
      "cell_type": "code",
      "metadata": {
        "id": "gzTL20uVI_Ua"
      },
      "source": [
        "import sys\n",
        "import copy\n",
        "\n",
        "n = int(input())\n",
        "s = []\n",
        "for _ in range(n):\n",
        "     s.append(list(map(int, sys.stdin.readline().split())))\n",
        "\n",
        "res = 10 ** 5 # 10^2 로 해서 계속 틀렸었음;\n",
        "\n",
        "x = [i for i in range(1, n + 1)]\n",
        "\n",
        "def point(l):\n",
        "    sum = 0\n",
        "    for i in l:\n",
        "        for j in l:\n",
        "            if i == j:\n",
        "                continue\n",
        "            sum += s[i-1][j - 1]\n",
        "\n",
        "    return sum\n",
        "\n",
        "def skills(l, j):\n",
        "    if len(l) == n / 2:\n",
        "        global res\n",
        "\n",
        "        if res == 0:\n",
        "            return\n",
        "\n",
        "        t = copy.deepcopy(x)\n",
        "        for i in l:\n",
        "            t.remove(i)\n",
        "\n",
        "        if res > abs(point(l) - point(t)):\n",
        "            res = abs(point(l) - point(t))\n",
        "            return\n",
        "        else:\n",
        "            return\n",
        "\n",
        "    for i in range(j,n+1):\n",
        "        skills(l + [i],i+1)\n",
        "\n",
        "skills([], 1)\n",
        "\n",
        "print(int(res))"
      ],
      "execution_count": null,
      "outputs": []
    },
    {
      "cell_type": "markdown",
      "metadata": {
        "id": "oQWV6kNSTJ6F"
      },
      "source": [
        "### **15단계 : 동적 계획법1===========**"
      ]
    },
    {
      "cell_type": "markdown",
      "metadata": {
        "id": "BJL-EjWYTJ6G"
      },
      "source": [
        "#### 1003번"
      ]
    },
    {
      "cell_type": "code",
      "metadata": {
        "id": "c0mURIJPTJ6G"
      },
      "source": [
        "import sys\n",
        "\n",
        "def fibonacci(x):\n",
        "  if x == 0:\n",
        "    return [1,0]\n",
        "  elif x == 1:\n",
        "    return [0,1]\n",
        "  else:\n",
        "    return [l[x-1][0] + l[x-2][0],l[x-1][1] + l[x-2][1]]\n",
        "\n",
        "n = int(input())\n",
        "\n",
        "l = [[]] * 41\n",
        "\n",
        "for i in range(41):\n",
        "  l[i] = fibonacci(i)\n",
        "\n",
        "for _ in range(n):\n",
        "  a = int(sys.stdin.readline())\n",
        "  #a = int(input())\n",
        "  print(*l[a])"
      ],
      "execution_count": null,
      "outputs": []
    },
    {
      "cell_type": "markdown",
      "metadata": {
        "id": "LoeeUEld-pdv"
      },
      "source": [
        "#### 9184번"
      ]
    },
    {
      "cell_type": "code",
      "metadata": {
        "id": "4fid2nLW-pd1"
      },
      "source": [
        "l = []\n",
        "for _ in range(21):\n",
        "  a = []\n",
        "  for _ in range(21):\n",
        "    a.append([0] * 21)\n",
        "  \n",
        "  l.append(a)\n",
        "\n",
        "for i in range(21):\n",
        "  for j in range(21):\n",
        "    l[0][i][j] = 1\n",
        "    l[i][0][j] = 1\n",
        "    l[i][j][0] = 1\n",
        "\n",
        "for i in range(1,21):\n",
        "  for j in range(1,21):\n",
        "    for k in range(1,21):\n",
        "      if i < j and j < k:\n",
        "        l[i][j][k] =  l[i][j][k-1] + l[i][j-1][k-1] - l[i][j-1][k]\n",
        "      else:\n",
        "        l[i][j][k] =  l[i-1][j][k] + l[i-1][j-1][k] + l[i-1][j][k-1] - l[i-1][j-1][k-1]\n",
        "\n",
        "while True:\n",
        "  #a, b, c = map(int, sys.stdin.readline().split())\n",
        "  a, b, c = map(int, input().split())\n",
        "\n",
        "  if (a == -1) & (b == -1) & (c == -1):\n",
        "    break\n",
        "\n",
        "  if a <= 0 or b <= 0 or c <= 0:\n",
        "    d = 1\n",
        "    print('w({0}, {1}, {2}) = {3}'.format(a,b,c,d))\n",
        "    continue\n",
        "\n",
        "  if a > 20 or b > 20 or c > 20:\n",
        "    d = l[20][20][20]\n",
        "    print('w({0}, {1}, {2}) = {3}'.format(a,b,c,d))\n",
        "    continue\n",
        "\n",
        "  d = l[a][b][c]\n",
        "  print('w({0}, {1}, {2}) = {3}'.format(a,b,c,d))"
      ],
      "execution_count": null,
      "outputs": []
    },
    {
      "cell_type": "code",
      "metadata": {
        "id": "BlXXRcvWGyZl"
      },
      "source": [
        "l = []\n",
        "for _ in range(21):\n",
        "  a = []\n",
        "  for _ in range(21):\n",
        "    a.append([0] * 21)\n",
        "  \n",
        "  l.append(a)\n",
        "\n",
        "for i in range(21):\n",
        "  for j in range(21):\n",
        "    l[0][i][j] = 1\n",
        "    l[i][0][j] = 1\n",
        "    l[i][j][0] = 1\n",
        "\n",
        "for i in range(1,21):\n",
        "  for j in range(1,21):\n",
        "    for k in range(1,21):\n",
        "      if i < j and j < k:\n",
        "        l[i][j][k] =  l[i][j][k-1] + l[i][j-1][k-1] - l[i][j-1][k]\n",
        "      else:\n",
        "        l[i][j][k] =  l[i-1][j][k] + l[i-1][j-1][k] + l[i-1][j][k-1] - l[i-1][j-1][k-1]\n",
        "\n",
        "l[10][4][6]"
      ],
      "execution_count": null,
      "outputs": []
    },
    {
      "cell_type": "markdown",
      "metadata": {
        "id": "fejTVL9O-qAq"
      },
      "source": [
        "#### 1904번"
      ]
    },
    {
      "cell_type": "code",
      "metadata": {
        "id": "puuDc_Tsr0iF"
      },
      "source": [
        "n = int(input())\n",
        "\n",
        "l = [False] * n\n",
        "l[0] = 1\n",
        "if n > 1:\n",
        "  l[1] = 2\n",
        "\n",
        "  for i in range(2,n):\n",
        "    l[i] = (l[i-2] + l[i-1]) % 15746\n",
        "\n",
        "print(l[-1])\n",
        "\n",
        "홀# 1 \n",
        "짝# 11 00\n",
        "홀# 111 100 001\n",
        "짝# 1111 1100 1001 0011 0000\n",
        "홀# 11111 00111 10011 11001 11100 00001 00100 10000 \n",
        "짝# 111111 \n",
        "  # 001111 100111 110011 111001 111100\n",
        "  # 000011 001001 001100 100001 100100 110000\n",
        "  # 000000 "
      ],
      "execution_count": null,
      "outputs": []
    },
    {
      "cell_type": "markdown",
      "metadata": {
        "id": "ShBZYes9-qaR"
      },
      "source": [
        "#### 9461번"
      ]
    },
    {
      "cell_type": "code",
      "metadata": {
        "id": "Av0wCViy-qaS"
      },
      "source": [
        "n = int(input())\n",
        "for _ in range(n):\n",
        "  a = int(input())\n",
        "  if a <= 3:\n",
        "    print(1)\n",
        "  elif a <= 5:\n",
        "    print(2)\n",
        "  else:\n",
        "    l = [False] * 100\n",
        "    l[0], l[1], l[2], l[3], l[4] = 1,1,1,2,2\n",
        "\n",
        "    for i in range(5,a):\n",
        "      l[i] = l[i-1] + l[i - 5]\n",
        "    \n",
        "    print(l[a-1])\n",
        "# 1 1 1 2 2 3 4 5 7 9 12 16 21 28\n"
      ],
      "execution_count": null,
      "outputs": []
    },
    {
      "cell_type": "markdown",
      "metadata": {
        "id": "-SpkWNLb-qfk"
      },
      "source": [
        "####  1149번"
      ]
    },
    {
      "cell_type": "code",
      "metadata": {
        "id": "6eQg8rT2-qfk"
      },
      "source": [
        "import sys\n",
        "\n",
        "n = int(input())\n",
        "l = []\n",
        "for _ in range(n):\n",
        "    l.append(list(map(int,sys.stdin.readline().split())))\n",
        "\n",
        "for i in range(1,n):\n",
        "  l[i][0] = min(l[i-1][1], l[i-1][2]) + l[i][0]\n",
        "  l[i][1] = min(l[i-1][0], l[i-1][2]) + l[i][1]\n",
        "  l[i][2] = min(l[i-1][0], l[i-1][1]) + l[i][2]\n",
        "\n",
        "print(min(l[-1]))"
      ],
      "execution_count": null,
      "outputs": []
    },
    {
      "cell_type": "markdown",
      "metadata": {
        "id": "6x3o9khr-qju"
      },
      "source": [
        "####  1932번"
      ]
    },
    {
      "cell_type": "code",
      "metadata": {
        "id": "_n78sKrF-qjv"
      },
      "source": [
        "import sys\n",
        "\n",
        "n = int(input())\n",
        "l = []\n",
        "for _ in range(n):\n",
        "  l.append(list(map(int,sys.stdin.readline().split())))\n",
        "\n",
        "if n < 2:\n",
        "    print(max(l[-1]))\n",
        "else:\n",
        "    l[1][0] = l[1][0] + l[0][0]\n",
        "    l[1][1] = l[1][1] + l[0][0]\n",
        "    for i in range(2,n):\n",
        "      l[i][0] = l[i][0] + l[i-1][0]\n",
        "      l[i][i] = l[i][i] + l[i-1][i-1]\n",
        "      for j in range(1,i):\n",
        "        l[i][j] = max(l[i][j] + l[i-1][j],l[i][j] + l[i-1][j-1])\n",
        "    print(max(l[-1]))"
      ],
      "execution_count": null,
      "outputs": []
    },
    {
      "cell_type": "markdown",
      "metadata": {
        "id": "6j3SVCye-qnm"
      },
      "source": [
        "#### 2579번"
      ]
    },
    {
      "cell_type": "code",
      "metadata": {
        "id": "Gb-6z42h-qnm"
      },
      "source": [
        "import sys\n",
        "n = int(input())\n",
        "l = []\n",
        "p = []\n",
        "for _ in range(n):\n",
        "    l.append(int(sys.stdin.readline()))\n",
        "    p.append([False, False])\n",
        "\n",
        "p[0][0] = l[0]\n",
        "if n >= 2:\n",
        "    p[1][0] = l[1]\n",
        "    p[1][1] = l[0] + l[1]\n",
        "\n",
        "    for i in range(2,n):\n",
        "        p[i][0] = max(p[i-2][0] + l[i], p[i-2][1] + l[i])\n",
        "        p[i][1] = p[i-1][0] + l[i]\n",
        "\n",
        "print(max(p[-1]))\n",
        "\n",
        "#시간초과\n",
        "import sys\n",
        "n = int(input())\n",
        "l = []\n",
        "for _ in range(n):\n",
        "    l.append(int(sys.stdin.readline()))\n",
        "m = 0\n",
        "\n",
        "def stair(x, t, max):\n",
        "    if t == 3:\n",
        "        return\n",
        "    if x == n:\n",
        "        global m\n",
        "        if max >= m:\n",
        "            m = max\n",
        "            return\n",
        "        else:\n",
        "            return\n",
        "    stair(x + 1, t + 1, max + l[x])\n",
        "    if x + 2 > n:\n",
        "        return\n",
        "    else:\n",
        "        stair(x + 2, 1, max + l[x + 1])\n",
        "\n",
        "stair(0, 0, 0)\n",
        "print(m)\n",
        "\n",
        "# 메모리 초과\n",
        "import sys\n",
        "n = int(input())\n",
        "p = [[0,0,0]]\n",
        "l = []\n",
        "max = 0\n",
        "\n",
        "for _ in range(n):\n",
        "    l.append(int(sys.stdin.readline()))\n",
        "\n",
        "while True:\n",
        "    a = len(p)\n",
        "    for j in range(a):\n",
        "        if p[j][2] > n:\n",
        "            continue\n",
        "\n",
        "        if p[j][1] + 1 == 3:\n",
        "            if p[j][2] != n - 1:\n",
        "                if p[j][2] + 2 == n:\n",
        "                    if max < p[j][0] + l[p[j][2]+1]:\n",
        "                        max = p[j][0] + l[p[j][2]+1]\n",
        "                    continue\n",
        "                p.append([p[j][0] + l[p[j][2]+1], 1          , p[j][2] + 2])\n",
        "        else:\n",
        "            if p[j][2] + 1 == n:\n",
        "                if max < p[j][0] + l[p[j][2]]:\n",
        "                    max = p[j][0] + l[p[j][2]]\n",
        "                continue\n",
        "            p.append([p[j][0] + l[p[j][2]]  , p[j][1] + 1, p[j][2] + 1])\n",
        "            if p[j][2] != n - 1:\n",
        "                if p[j][2] + 2 == n:\n",
        "                    if max < p[j][0] + l[p[j][2] + 1]:\n",
        "                        max = p[j][0] + l[p[j][2] + 1]\n",
        "                    continue\n",
        "                p.append([p[j][0] + l[p[j][2]+1], 1          , p[j][2] + 2])\n",
        "\n",
        "    p = p[a:]\n",
        "    if p == []:\n",
        "        break\n",
        "    print(p)\n",
        "print(max)"
      ],
      "execution_count": null,
      "outputs": []
    },
    {
      "cell_type": "markdown",
      "metadata": {
        "id": "lyIsmhkY-qrN"
      },
      "source": [
        "####  1463번"
      ]
    },
    {
      "cell_type": "code",
      "metadata": {
        "id": "3mmifcGF-qrO"
      },
      "source": [
        "n = int(input())\n",
        "l = [False] * (10 ** 6)\n",
        "l[0], l[1], l[2], l[3]  = 0, 1, 1, 2\n",
        "for i in range(3,n):\n",
        "  a = []\n",
        "  if (i+1) % 3 == 0:\n",
        "    a.append(l[(i+1) // 3 - 1] + 1)\n",
        "  if (i+1) % 2 == 0:\n",
        "    a.append(l[(i+1) // 2 - 1] + 1)\n",
        "  a.append(l[i-1] + 1)\n",
        "  l[i] = min(a)\n",
        "\n",
        "print(l[n-1])"
      ],
      "execution_count": null,
      "outputs": []
    },
    {
      "cell_type": "markdown",
      "metadata": {
        "id": "UVqfa0yg-qu8"
      },
      "source": [
        "####  10844번"
      ]
    },
    {
      "cell_type": "code",
      "metadata": {
        "id": "HTgLEHTP-qu9"
      },
      "source": [
        "n = int(input())\n",
        "\n",
        "l = []\n",
        "for _ in range(100):\n",
        "  l.append([False]*10)\n",
        "l[0] = [0,1,1,1,1,1,1,1,1,1]\n",
        "\n",
        "[1,1,2,2,2,2,2,2,2,1]\n",
        "[1,3,3,4,4,4,4,4,3,2]\n",
        "\n",
        "if n >= 2:\n",
        "  for i in range(1,n):\n",
        "    l[i][0] = l[i-1][1] % 1000000000\n",
        "    l[i][9] = l[i-1][8] % 1000000000\n",
        "    for j in range(1,9):\n",
        "      l[i][j] = (l[i-1][j-1] + l[i-1][j+1]) % 1000000000\n",
        "\n",
        "a = 0\n",
        "for i in l[n-1]:\n",
        "  a += i\n",
        "\n",
        "print(a % 1000000000)"
      ],
      "execution_count": null,
      "outputs": []
    },
    {
      "cell_type": "markdown",
      "metadata": {
        "id": "5DWMXnz5-qyx"
      },
      "source": [
        "####  2156번"
      ]
    },
    {
      "cell_type": "code",
      "metadata": {
        "id": "oefCGaWs-qyy"
      },
      "source": [
        "import sys\n",
        "n = int(input())\n",
        "l = []\n",
        "p = []\n",
        "m = 0\n",
        "for _ in range(n):\n",
        "  l.append(int(sys.stdin.readline()))\n",
        "  p.append([False,False,False])\n",
        "\n",
        "p[0][1] = l[0]\n",
        "m = 0\n",
        "\n",
        "if n == 1:\n",
        "    print(l[0])\n",
        "\n",
        "if n >= 2:\n",
        "    p[1][0] = max(p[0])\n",
        "    p[1][1] = l[1]\n",
        "    p[1][2] = l[0] + l[1]\n",
        "\n",
        "    for i in range(2,n):\n",
        "        p[i][0] = max(p[i-1])\n",
        "        p[i][1] = p[i-1][0] + l[i]\n",
        "        p[i][2] = p[i-1][1] + l[i]\n",
        "        if m < max(p[i]):\n",
        "            m = max(p[i])\n",
        "\n",
        "    if n == 2:\n",
        "        m = max(p[1])\n",
        "    print(m)"
      ],
      "execution_count": null,
      "outputs": []
    },
    {
      "cell_type": "markdown",
      "metadata": {
        "id": "87ZlLVHF-q3c"
      },
      "source": [
        "#### (***)11053번"
      ]
    },
    {
      "cell_type": "code",
      "metadata": {
        "id": "SD9qiD05-q3c"
      },
      "source": [
        "import sys\n",
        "\n",
        "n = int(input())\n",
        "l = list(map(int,  input().split()))\n",
        "p = [False] * n\n",
        "\n",
        "for i in range(n):\n",
        "    for j in range(i):\n",
        "        if l[i] > l[j] and p[i] < p[j]:\n",
        "            p[i] = p[j]\n",
        "    p[i] += 1\n",
        "\n",
        "print(max(p))\n",
        "\n",
        "# 10 20 10 30 20 50\n",
        "#  1  2  1  3  2  4"
      ],
      "execution_count": null,
      "outputs": []
    },
    {
      "cell_type": "markdown",
      "metadata": {
        "id": "jGmg1eS6-q7X"
      },
      "source": [
        "#### 11054번"
      ]
    },
    {
      "cell_type": "code",
      "metadata": {
        "id": "qJQhV1ZD-q7X"
      },
      "source": [
        "n = int(input())\n",
        "l = list(map(int, input().split()))\n",
        "p = [False] * n\n",
        "res = 0\n",
        "\n",
        "for i in range(n):\n",
        "    for j in range(i):\n",
        "        if l[i] > l[j] and p[i] < p[j]:\n",
        "            p[i] = p[j]\n",
        "    p[i] += 1\n",
        "\n",
        "q = [False] * n\n",
        "for i in range(n-1, -1, -1):\n",
        "    for j in range(n-1, i, -1):\n",
        "        if l[i] > l[j] and q[i] < q[j]:\n",
        "            q[i] = q[j]\n",
        "    q[i] += 1\n",
        "\n",
        "res = 0\n",
        "for i in range(n):\n",
        "    if res < p[i] + q[i]:\n",
        "        res = p[i] + q[i]\n",
        "\n",
        "print(res - 1)\n",
        "# 785 199 935 455 869 681 274 3 41 957"
      ],
      "execution_count": null,
      "outputs": []
    },
    {
      "cell_type": "markdown",
      "metadata": {
        "id": "FmRliO_U-rAZ"
      },
      "source": [
        "####  2565번"
      ]
    },
    {
      "cell_type": "code",
      "metadata": {
        "id": "09VGeOOX-rAa"
      },
      "source": [
        "n = int(input())\n",
        "\n",
        "l = []\n",
        "p = [0] * n\n",
        "\n",
        "for i in range(n):\n",
        "    l.append(list(map(int, input().split())))\n",
        "\n",
        "l.sort()\n",
        "\n",
        "for i in range(n):\n",
        "    for j in range(i):\n",
        "        if l[i][1] > l[j][1] and p[i] < p[j]:\n",
        "            p[i] = p[j]\n",
        "    p[i] += 1\n",
        "\n",
        "print(n - max(p))"
      ],
      "execution_count": null,
      "outputs": []
    },
    {
      "cell_type": "markdown",
      "metadata": {
        "id": "E_YhXD_y-rKF"
      },
      "source": [
        "#### (***)9251번"
      ]
    },
    {
      "cell_type": "code",
      "metadata": {
        "id": "aF_POvNa-rKF"
      },
      "source": [
        "a = input()\n",
        "b = input()\n",
        "\n",
        "p = [[0] * (len(b) + 1) for _ in range(len(a)+1)]\n",
        "\n",
        "for i in range(1, len(a)+1):\n",
        "    for j in range(s1, len(b)+1):\n",
        "        if a[i-1] == b[j-1]:\n",
        "            p[i][j]  = p[i-1][j-1] + 1\n",
        "        else:\n",
        "            p[i][j]  = max(p[i-1][j],p[i][j-1])\n",
        "print(p[-1][-1])\n",
        "\n",
        "#ACAYKP\n",
        "#CAPCAK\n",
        "\n",
        "#XFXXXQ\n",
        "#XXXXXF"
      ],
      "execution_count": null,
      "outputs": []
    },
    {
      "cell_type": "markdown",
      "metadata": {
        "id": "DCZoYNiO-rRT"
      },
      "source": [
        "####  1912번"
      ]
    },
    {
      "cell_type": "code",
      "metadata": {
        "id": "SnU3xsW8-rRU"
      },
      "source": [
        "n = int(input())\n",
        "\n",
        "l = list(map(int,input().split()))\n",
        "\n",
        "p = [0] * n\n",
        "p[0] = l[0]\n",
        "\n",
        "for i in range(1, n):\n",
        "    p[i] = max(l[i], p[i-1] + l[i])\n",
        "\n",
        "print(max(p))"
      ],
      "execution_count": null,
      "outputs": []
    },
    {
      "cell_type": "markdown",
      "metadata": {
        "id": "9imIcdBH-rev"
      },
      "source": [
        "####  12865번"
      ]
    },
    {
      "cell_type": "code",
      "metadata": {
        "id": "oQMU_h8K-rew"
      },
      "source": [
        "n, k = map(int, input().split())\n",
        "\n",
        "l = []\n",
        "for _ in range(n):\n",
        "    l.append(list(map(int, input().split())))\n",
        "\n",
        "p = [0] * (k+1)\n",
        "\n",
        "for i in range(n):\n",
        "    a, b = l[i]\n",
        "    q = p.copy()\n",
        "    for j in range(k+1):\n",
        "        if j + a <= k:\n",
        "            p[j+a] = max(q[j] + b, q[j+a])\n",
        "    #print(p)\n",
        "print(max(p))"
      ],
      "execution_count": null,
      "outputs": []
    },
    {
      "cell_type": "markdown",
      "metadata": {
        "id": "hsMNobW4-gJP"
      },
      "source": [
        "### **16단계 : 그리디 알고리즘===========**"
      ]
    },
    {
      "cell_type": "markdown",
      "metadata": {
        "id": "Np0R9kLF-gJi"
      },
      "source": [
        "####  11047번"
      ]
    },
    {
      "cell_type": "code",
      "metadata": {
        "id": "IQ9HBulb-gJi"
      },
      "source": [
        "import sys\n",
        "\n",
        "n, k = map(int, input().split())\n",
        "l = []\n",
        "for i in sys.stdin:\n",
        "    l.append(int(i.rstrip('n')))\n",
        "\n",
        "cnt = 0\n",
        "\n",
        "for i in range(-1,-n-1,-1):\n",
        "    if l[i] > k:\n",
        "        continue\n",
        "\n",
        "    t = k // l[i]\n",
        "    cnt += t\n",
        "    k -= l[i]*t\n",
        "\n",
        "\n",
        "print(cnt)"
      ],
      "execution_count": null,
      "outputs": []
    },
    {
      "cell_type": "markdown",
      "metadata": {
        "id": "wfcJmLEqpU6T"
      },
      "source": [
        "####  1931번"
      ]
    },
    {
      "cell_type": "code",
      "metadata": {
        "id": "3Au2uK7CpU6W"
      },
      "source": [
        "n = int(input())\n",
        "l = []\n",
        "for i in range(n):\n",
        "    l.append(list(map(int,input().split())))\n",
        "\n",
        "l = sorted(l, key= lambda x : (x[1], x[0]))\n",
        "\n",
        "cnt = 1\n",
        "end = l[0][1]\n",
        "for i in range(1,n):\n",
        "    if l[i][0] >= end:\n",
        "        cnt += 1\n",
        "        end = l[i][1]\n",
        "\n",
        "print(cnt)"
      ],
      "execution_count": null,
      "outputs": []
    },
    {
      "cell_type": "markdown",
      "metadata": {
        "id": "Hc6V32u4pVUa"
      },
      "source": [
        "####  11399번"
      ]
    },
    {
      "cell_type": "code",
      "metadata": {
        "id": "CgWOls5HpVUb"
      },
      "source": [
        "n = int(input())\n",
        "l = list(map(int,input().split()))\n",
        "\n",
        "l.sort()\n",
        "l.append([0])\n",
        "res = 0\n",
        "for i in range(n):\n",
        "    res += sum(l[:i+1])\n",
        "    #print(res)\n",
        "print(res)"
      ],
      "execution_count": null,
      "outputs": []
    },
    {
      "cell_type": "markdown",
      "metadata": {
        "id": "pNoCqLvepVX5"
      },
      "source": [
        "####  1541번"
      ]
    },
    {
      "cell_type": "code",
      "metadata": {
        "id": "-gZCk0FNpVX5"
      },
      "source": [
        "l = input() + 'x'\n",
        "\n",
        "\n",
        "res = []\n",
        "\n",
        "s = 0\n",
        "for i in range(len(l)-1):\n",
        "    if l[i] == '+':\n",
        "        res.append(l[s:i])\n",
        "        res.append('+')\n",
        "        s = i + 1\n",
        "    elif l[i] == '-':\n",
        "        res.append(l[s:i])\n",
        "        res.append('-')\n",
        "        s = i + 1\n",
        "    elif i == len(l)-2:\n",
        "        res.append(l[s:i+1])\n",
        "        break\n",
        "    else:\n",
        "        continue\n",
        "\n",
        "result = str(int(res[0]))\n",
        "p = 0\n",
        "if len(res) > 1:\n",
        "    for i in range(1,len(res)):\n",
        "        if res[i] == '-':\n",
        "            result += '-('\n",
        "            p = 1\n",
        "        elif res[i] == '+':\n",
        "            result += '+'\n",
        "        else:\n",
        "            if i + 1 >= len(res):\n",
        "                if p != 1:\n",
        "                    result += str(int(res[i]))\n",
        "                else:\n",
        "                    result += str(int(res[i])) + ')'\n",
        "                    p = 0\n",
        "            else:\n",
        "                if p == 1:\n",
        "                    if res[i+1] == '-':\n",
        "                        result += str(int(res[i])) + ')'\n",
        "                        p = 0\n",
        "                    else:\n",
        "                        result += str(int(res[i]))\n",
        "                else:\n",
        "                    result += str(int(res[i]))\n",
        "\n",
        "\n",
        "    print(eval(result))\n",
        "else:\n",
        "    print(eval(result))\n",
        "# 1 30 30 10 49\n",
        "#  31 60 40 59\n",
        "\n",
        "# 1 60 10 49"
      ],
      "execution_count": null,
      "outputs": []
    },
    {
      "cell_type": "markdown",
      "metadata": {
        "id": "PPg8gdeSpVbw"
      },
      "source": [
        "####  13305번"
      ]
    },
    {
      "cell_type": "code",
      "metadata": {
        "id": "pyq3CYn2pVbx"
      },
      "source": [
        "import sys\n",
        "\n",
        "n = int(sys.stdin.readline())\n",
        "length = list(map(int, sys.stdin.readline().split()))\n",
        "cost = list(map(int, sys.stdin.readline().split()))\n",
        "\n",
        "min_cost = cost[0]\n",
        "sum_length = 0\n",
        "result = 0\n",
        "\n",
        "for i in range(len(length)):\n",
        "    if cost[i] < min_cost:\n",
        "        min_cost = cost[i]\n",
        "        result += length[i] * cost[i]\n",
        "    else:\n",
        "        result += length[i] * min_cost\n",
        "\n",
        "print(result)"
      ],
      "execution_count": null,
      "outputs": []
    },
    {
      "cell_type": "markdown",
      "metadata": {
        "id": "meZqnuly1Ns1"
      },
      "source": [
        "### **17단계 : 정수론 및 조합론===========**"
      ]
    },
    {
      "cell_type": "markdown",
      "metadata": {
        "id": "xKIhI97D1Ns-"
      },
      "source": [
        "####  5086번"
      ]
    },
    {
      "cell_type": "code",
      "metadata": {
        "id": "1kJ7oY311Ns_"
      },
      "source": [
        "while True:\n",
        "    a, b = map(int, input().split())\n",
        "    if a == 0 and b ==0:\n",
        "        break\n",
        "    \n",
        "    if b % a == 0:\n",
        "        print('factor')\n",
        "    elif a % b ==0:\n",
        "        print('multiple')\n",
        "    else:\n",
        "        print('neither')"
      ],
      "execution_count": null,
      "outputs": []
    },
    {
      "cell_type": "markdown",
      "metadata": {
        "id": "JLA5o1_kG4_y"
      },
      "source": [
        "####  1037번"
      ]
    },
    {
      "cell_type": "code",
      "metadata": {
        "id": "7-GHt8AsG4_0"
      },
      "source": [
        "n = int(input())\n",
        "l = list(map(int, input().split()))\n",
        "l.sort()\n",
        "\n",
        "print(l[0] * l[-1])"
      ],
      "execution_count": null,
      "outputs": []
    },
    {
      "cell_type": "markdown",
      "metadata": {
        "id": "CO66sh-WEVOS"
      },
      "source": [
        "####  2609번"
      ]
    },
    {
      "cell_type": "code",
      "metadata": {
        "id": "Bx3H9RwoEVOS"
      },
      "source": [
        "a, b = map(int, input().split())\n",
        "l = []\n",
        "if a > b:\n",
        "    c = a\n",
        "    a = b\n",
        "    b = c\n",
        "\n",
        "while True:\n",
        "    h = 0\n",
        "    if a > 1:\n",
        "        for i in range(2, a + 1):\n",
        "            if a % i == 0 and b % i == 0:\n",
        "                h = 1\n",
        "                l.append(i)\n",
        "                a = a // i\n",
        "                b = b // i\n",
        "                break\n",
        "    if h == 0:\n",
        "        break\n",
        "\n",
        "t = 1\n",
        "for i in l:\n",
        "    t *= i\n",
        "\n",
        "print(t)\n",
        "print(t * a * b)"
      ],
      "execution_count": null,
      "outputs": []
    },
    {
      "cell_type": "markdown",
      "metadata": {
        "id": "pRqth93HG5Fp"
      },
      "source": [
        "####  1934번"
      ]
    },
    {
      "cell_type": "code",
      "metadata": {
        "id": "whAG1Q4rG5Fq"
      },
      "source": [
        "#유클리드 호제법\n",
        "n = int(input())\n",
        "for _ in range(n):\n",
        "    a, b = map(int, input().split())\n",
        "    if a > b:\n",
        "        c = a\n",
        "        a = b\n",
        "        b = c\n",
        "    min = 1\n",
        "    c = a\n",
        "    d = b\n",
        "\n",
        "    while True:\n",
        "        x = d % c\n",
        "        if x == 0:\n",
        "            min = c\n",
        "            break\n",
        "        d = c\n",
        "        c = x\n",
        "\n",
        "    print(int((b * a) / min))"
      ],
      "execution_count": null,
      "outputs": []
    },
    {
      "cell_type": "markdown",
      "metadata": {
        "id": "QD5eQtFaEU3c"
      },
      "source": [
        "####  2981번"
      ]
    },
    {
      "cell_type": "code",
      "metadata": {
        "id": "NQoMJgayEU3d"
      },
      "source": [
        "#유클리드 호제법\n",
        "# G(a,b) = G(b,r), a = bq + r(q는 몫, r은 나머지)\n",
        "\n",
        "import sys\n",
        "\n",
        "def f(a,b):\n",
        "    while b != 0:\n",
        "        a, b = b, a % b\n",
        "    return a\n",
        "\n",
        "n = int(sys.stdin.readline())\n",
        "\n",
        "l = []\n",
        "for i in range(n):\n",
        "    l.append(int(sys.stdin.readline()))\n",
        "l.sort()\n",
        "\n",
        "t = l[1] - l[0]\n",
        "for i in range(2,n):\n",
        "    t = f(t, l[i] - l[i-1])\n",
        "\n",
        "result = []\n",
        "\n",
        "for i in range(1,int(t**0.5)+1): #약수구할때\n",
        "    if t % i == 0:\n",
        "        result.append(i)\n",
        "        if i == t // i:\n",
        "            continue\n",
        "        result.append(t // i)\n",
        "\n",
        "result.sort()\n",
        "result.remove(1)\n",
        "print(*result)"
      ],
      "execution_count": null,
      "outputs": []
    },
    {
      "cell_type": "markdown",
      "metadata": {
        "id": "cYhC8xLCEU6x"
      },
      "source": [
        "####  3036번"
      ]
    },
    {
      "cell_type": "code",
      "metadata": {
        "id": "_2RUxuRjEU6x"
      },
      "source": [
        "def f(x):\n",
        "    return 2 * int(x)\n",
        "\n",
        "def t(a,b):\n",
        "    if a < b:\n",
        "        c = a\n",
        "        a = b\n",
        "        b = c\n",
        "\n",
        "    while b != 0:\n",
        "        a, b = b, a % b\n",
        "\n",
        "    return a\n",
        "\n",
        "n = int(input())\n",
        "l = list(map(f, input().split()))\n",
        "\n",
        "for i in range(1,n):\n",
        "    if l[0] % l[i] == 0:\n",
        "        a = l[0]//l[i]\n",
        "        b = 1\n",
        "    else:\n",
        "        x = t(l[0], l[i])\n",
        "        a = int(l[0] / x)\n",
        "        b = int(l[i] / x)\n",
        "\n",
        "    print('{0}/{1}'.format(a, b))"
      ],
      "execution_count": null,
      "outputs": []
    },
    {
      "cell_type": "markdown",
      "metadata": {
        "id": "9oUY6nyKG5Cy"
      },
      "source": [
        "#### 11050"
      ]
    },
    {
      "cell_type": "code",
      "metadata": {
        "id": "guaPYFOwG5Cz"
      },
      "source": [
        "import math\n",
        "n, k = map(int,input().split())\n",
        "\n",
        "print( math.factorial(n) // (math.factorial(n-k) * math.factorial(k)))"
      ],
      "execution_count": null,
      "outputs": []
    },
    {
      "cell_type": "markdown",
      "metadata": {
        "id": "yx3yQcgXEU9t"
      },
      "source": [
        "####  11051번"
      ]
    },
    {
      "cell_type": "code",
      "metadata": {
        "id": "XhpJgKK8EU9u",
        "colab": {
          "base_uri": "https://localhost:8080/"
        },
        "outputId": "25ec10e3-8121-4608-fb91-56575502d668"
      },
      "source": [
        "import math\n",
        "\n",
        "n, k =map(int, input().split())\n",
        "\n",
        "print((math.factorial(n) // (math.factorial(n-k) * math.factorial(k))) % 10007)"
      ],
      "execution_count": null,
      "outputs": [
        {
          "output_type": "stream",
          "name": "stdout",
          "text": [
            "29 13\n",
            "67863915\n"
          ]
        }
      ]
    },
    {
      "cell_type": "markdown",
      "metadata": {
        "id": "gPapbiVAbmMj"
      },
      "source": [
        "####  1010번"
      ]
    },
    {
      "cell_type": "code",
      "metadata": {
        "id": "RAW8FwdPbmMj"
      },
      "source": [
        "import math\n",
        "n = int(input())\n",
        "\n",
        "for _ in range(n):\n",
        "    b, a =map(int, input().split())\n",
        "    print((math.factorial(a) // (math.factorial(a-b) * math.factorial(b))))"
      ],
      "execution_count": null,
      "outputs": []
    },
    {
      "cell_type": "markdown",
      "metadata": {
        "id": "O-ZSdkmYbmRa"
      },
      "source": [
        "####  9375번"
      ]
    },
    {
      "cell_type": "code",
      "metadata": {
        "id": "2EJIUiJ5bmRa"
      },
      "source": [
        "n = int(input())\n",
        "\n",
        "for _ in range(n):\n",
        "    k = int(input())\n",
        "    l = {}\n",
        "    for _ in range(k):\n",
        "        a, b = input().split()\n",
        "        if b in l:\n",
        "            l[b] += 1\n",
        "        else:\n",
        "            l[b] = 1\n",
        "    \n",
        "    res = 1\n",
        "    for i in l.values():\n",
        "        res *= i + 1\n",
        "    print(res - 1)\n"
      ],
      "execution_count": null,
      "outputs": []
    },
    {
      "cell_type": "markdown",
      "metadata": {
        "id": "ixkMO17DbmWw"
      },
      "source": [
        "####  1676번"
      ]
    },
    {
      "cell_type": "code",
      "metadata": {
        "id": "eGuzj_tGbmWx",
        "colab": {
          "base_uri": "https://localhost:8080/"
        },
        "outputId": "e191ffe9-ed85-4bfb-a1d8-ae616d4e3736"
      },
      "source": [
        "n = int(input())\n",
        "\n",
        "import math\n",
        "\n",
        "l = str(math.factorial(n))\n",
        "\n",
        "res = 0\n",
        "for i in range(-1, -len(l)-1,-1):\n",
        "    if l[i] == '0':\n",
        "        res += 1\n",
        "    else:\n",
        "        break\n",
        "\n",
        "print(res)"
      ],
      "execution_count": null,
      "outputs": [
        {
          "output_type": "stream",
          "name": "stdout",
          "text": [
            "3\n",
            "0\n"
          ]
        }
      ]
    },
    {
      "cell_type": "markdown",
      "metadata": {
        "id": "u9tipfTwbmbn"
      },
      "source": [
        "####  2004번"
      ]
    },
    {
      "cell_type": "code",
      "metadata": {
        "id": "6fVE6o2bbmbn"
      },
      "source": [
        "# 2,5 를 찾는 방법\n",
        "import math\n",
        "\n",
        "n, m = map(int, input().split())\n",
        "\n",
        "def cnt2(n):\n",
        "    count = 0\n",
        "    while n:\n",
        "        n //= 2\n",
        "        count += n\n",
        "    return count\n",
        "\n",
        "def cnt5(n):\n",
        "    count = 0\n",
        "    while n:\n",
        "        n //= 5\n",
        "        count += n\n",
        "    return count\n",
        "\n",
        "l = [cnt2(n) - (cnt2(n-m) + cnt2(m)), cnt5(n) - (cnt5(n-m) + cnt5(m))]\n",
        "print(min(l))"
      ],
      "execution_count": null,
      "outputs": []
    },
    {
      "cell_type": "markdown",
      "metadata": {
        "id": "XK9REonP1NwI"
      },
      "source": [
        "### 18단계 : 스택===========**"
      ]
    },
    {
      "cell_type": "markdown",
      "metadata": {
        "id": "ZPZhedpd1NwI"
      },
      "source": [
        "#### 10828"
      ]
    },
    {
      "cell_type": "code",
      "metadata": {
        "id": "76yklUef1NwJ"
      },
      "source": [
        "import sys\n",
        "\n",
        "n = int(input())\n",
        "s = []\n",
        "for _ in range(n):\n",
        "    x = sys.stdin.readline().split()\n",
        "    if x[0] == 'push':\n",
        "        s.append(int(x[1]))\n",
        "    elif x[0] == 'pop':\n",
        "        if len(s) == 0:\n",
        "            print(-1)\n",
        "        else:\n",
        "            print(s.pop())\n",
        "    elif x[0] == 'size':\n",
        "        print(len(s))\n",
        "    elif x[0] == 'empty':\n",
        "        if s == []:\n",
        "            print(1)\n",
        "        else:\n",
        "            print(0)\n",
        "    elif x[0] == 'top':\n",
        "        if len(s) == 0:\n",
        "            print(-1)\n",
        "        else:\n",
        "            print(s[-1])\n",
        "    else:\n",
        "        pass"
      ],
      "execution_count": null,
      "outputs": []
    },
    {
      "cell_type": "markdown",
      "metadata": {
        "id": "HEGePEEYxsNm"
      },
      "source": [
        "####  10773번"
      ]
    },
    {
      "cell_type": "code",
      "metadata": {
        "id": "Y4P0AJ4vxsNn"
      },
      "source": [
        "import sys\n",
        "\n",
        "n = int(input())\n",
        "\n",
        "l = []\n",
        "for _ in range(n):\n",
        "    x = int(sys.stdin.readline())\n",
        "    if x == 0:\n",
        "        try:\n",
        "            l.pop()\n",
        "        except:\n",
        "            pass\n",
        "    else:\n",
        "        l.append(x)\n",
        "\n",
        "print(sum(l))"
      ],
      "execution_count": null,
      "outputs": []
    },
    {
      "cell_type": "markdown",
      "metadata": {
        "id": "Zs31oUZxxsg7"
      },
      "source": [
        "####  9012번"
      ]
    },
    {
      "cell_type": "code",
      "metadata": {
        "id": "dSmaZ_owxsg8"
      },
      "source": [
        "import sys\n",
        "\n",
        "n = int(input())\n",
        "\n",
        "for _ in range(n):\n",
        "    x = sys.stdin.readline().rstrip('\\n')\n",
        "    t = 0\n",
        "    for i in range(len(x)):\n",
        "        if t < 0:\n",
        "            break\n",
        "        if x[i] == '(':\n",
        "            t += 1\n",
        "        else:\n",
        "            t -= 1\n",
        "    \n",
        "    if t == 0:\n",
        "        print('YES')\n",
        "    else:\n",
        "        print('NO')"
      ],
      "execution_count": null,
      "outputs": []
    },
    {
      "cell_type": "markdown",
      "metadata": {
        "id": "jXYx1DRXxsog"
      },
      "source": [
        "####  4949번"
      ]
    },
    {
      "cell_type": "code",
      "metadata": {
        "id": "gI9XWF03xsoh"
      },
      "source": [
        "import sys\n",
        "\n",
        "l = []\n",
        "x = ''\n",
        "while True:\n",
        "    i = sys.stdin.readline().rstrip('\\n')\n",
        "    if i == '.':\n",
        "        break\n",
        "\n",
        "    if i[-1] == '.':\n",
        "        x += i\n",
        "        res = []\n",
        "        for j in range(len(x)):\n",
        "            if x[j] == '(' or x[j] == ')' or x[j] == '[' or x[j] == ']':\n",
        "                res += x[j]\n",
        "            else:\n",
        "                continue\n",
        "            \n",
        "        l.append(res)\n",
        "        x = ''\n",
        "    else:\n",
        "        x += i\n",
        "\n",
        "for i in l:\n",
        "    t = []\n",
        "    for j in range(len(i)):\n",
        "        if i[j] == '(':\n",
        "            t.append(1)\n",
        "        elif i[j] == '[':\n",
        "            t.append(2)\n",
        "        elif i[j] == ')':\n",
        "            if t == []:\n",
        "                t = [False]\n",
        "                break\n",
        "            else:\n",
        "                if t[-1] == 1:\n",
        "                    t.pop()\n",
        "                else:\n",
        "                    break\n",
        "        elif i[j] == ']':\n",
        "            if t == []:\n",
        "                t = [False]\n",
        "                break\n",
        "            else:\n",
        "                if t[-1] == 2:\n",
        "                    t.pop()\n",
        "                else:\n",
        "                    break\n",
        "        else:\n",
        "            continue\n",
        "\n",
        "    if t == []:\n",
        "        print('yes')\n",
        "    else:\n",
        "        print('no')"
      ],
      "execution_count": null,
      "outputs": []
    },
    {
      "cell_type": "markdown",
      "metadata": {
        "id": "2SovrMekxsrx"
      },
      "source": [
        "####  1874번"
      ]
    },
    {
      "cell_type": "code",
      "metadata": {
        "id": "OzO8uQ57xsry"
      },
      "source": [
        "import sys\n",
        "\n",
        "n = int(input())\n",
        "\n",
        "s = []\n",
        "for _ in range(n):\n",
        "    s.append(int(sys.stdin.readline())) # sys.stdin.readline\n",
        "\n",
        "l = 1\n",
        "t = []\n",
        "c = True\n",
        "\n",
        "result = []\n",
        "\n",
        "for i in s:\n",
        "    if i >= l:\n",
        "        t += [x for x in range(l, i+1)]\n",
        "        result += ['+'] * (i - l + 1)\n",
        "        l = i + 1        \n",
        "    \n",
        "    if t.pop() != i:\n",
        "        c = False\n",
        "        break\n",
        "\n",
        "    result.append('-')\n",
        "\n",
        "if c:\n",
        "    for i in result:\n",
        "        print(i)\n",
        "else:\n",
        "    print('NO')"
      ],
      "execution_count": null,
      "outputs": []
    },
    {
      "cell_type": "markdown",
      "metadata": {
        "id": "8I05magqxsvh"
      },
      "source": [
        "####  17298번"
      ]
    },
    {
      "cell_type": "code",
      "metadata": {
        "id": "YEaodDK1xsvi"
      },
      "source": [
        "# log(n^2) 을 피해 log(n)으로 만들어야 함\n",
        "n = int(input()) # 4\n",
        "l = list(map(int, input().split())) # 3 5 2 7\n",
        "\n",
        "s = [] # 스택 할 변수 설정\n",
        "res = [] # 결과 표기\n",
        "\n",
        "for i in range(-1, -n-1,-1):\n",
        "    while True:\n",
        "        if s == []: # 스택이 비어있다면 변수 입력\n",
        "            s.append(l[i])\n",
        "            break\n",
        "\n",
        "        if l[i] > s[-1]: # 스택에 마지막에 넣은 부분이 변수보다 크면 방출\n",
        "            s.pop()\n",
        "        else: # 스택에 마지막에 넣은 부분보다 변수가 작으면 스택에 변수 넣기\n",
        "            s.append(l[i])\n",
        "            break\n",
        "    if l[i] >= s[0]: # 변수가 스택의 max 값보다 크거나 같으면 -1 결과에 입력\n",
        "        res.append(-1)\n",
        "    else:\n",
        "        for j in range(-1, -len(s)-1, -1): # 변수가 스택의 자료보다 작은 값이 나오면 해당 자료 결과에 입력\n",
        "            if l[i] < s[j]:\n",
        "                res.append(s[j])\n",
        "                break\n",
        "                \n",
        "res = res[::-1] # 결과를 뒤에서 부터 출력\n",
        "print(*res) # 결과 출력"
      ],
      "execution_count": null,
      "outputs": []
    },
    {
      "cell_type": "markdown",
      "metadata": {
        "id": "71RWUsr01OEe"
      },
      "source": [
        "### 19단계 : 큐, 덱===========**"
      ]
    },
    {
      "cell_type": "markdown",
      "metadata": {
        "id": "0IyI2TgT1OEf"
      },
      "source": [
        "####  18258번"
      ]
    },
    {
      "cell_type": "code",
      "metadata": {
        "id": "gHcQUk7n1OEf"
      },
      "source": [
        "# from collections import queue 사용 가능\n",
        "#선형배열, pop 연산 시 리스트 내의 원소들 인덱스가 한칸씩 땡겨지기 때문에 많은 연산이 필요\n",
        "#그러므로 linked-list 사용\n",
        "\n",
        "import sys\n",
        "n = int(input())\n",
        "queue = [] # 큐는 선입 선출의 개념\n",
        "\n",
        "first = 0 # linked-list 에서 앞 부분\n",
        "end = 0 # linked-list 에서 뒷 부분\n",
        "\n",
        "for _ in range(n):\n",
        "\n",
        "    t = sys.stdin.readline().rstrip('\\n').split()\n",
        "\n",
        "    if t[0] == 'push': \n",
        "        queue.append(int(t[1]))\n",
        "        end += 1 # 큐의 추가시, linked-list에서 뒷 부분을 뒤로 땡긴다\n",
        "\n",
        "    elif t[0] == 'pop':\n",
        "        if first == end:\n",
        "            print(-1)\n",
        "        else:\n",
        "            print(queue[first])\n",
        "            first += 1 # 큐의 방출시, linked-list에서 앞 부분을 뒤로 땡긴다\n",
        "\n",
        "    elif t[0] == 'size':\n",
        "        print(end - first)\n",
        "\n",
        "    elif t[0] == 'empty':\n",
        "        if first == end:\n",
        "            print(1)\n",
        "        else:\n",
        "            print(0)\n",
        "\n",
        "    elif t[0] == 'front': # 큐의 가장 앞에 있는 수, 즉 제일 먼저 들어온 정수\n",
        "        if first == end:\n",
        "            print(-1)\n",
        "        else:\n",
        "            print(queue[first])\n",
        "\n",
        "    elif t[0] == 'back': # 큐의 가장 뒤에있는 수, 즉 최근에 들어온 정수\n",
        "        if first == end:\n",
        "            print(-1)\n",
        "        else:\n",
        "            print(queue[end-1])\n",
        "\n",
        "    else:\n",
        "        pass"
      ],
      "execution_count": null,
      "outputs": []
    },
    {
      "cell_type": "markdown",
      "metadata": {
        "id": "LTKckHu0U5FP"
      },
      "source": [
        "####  2164번"
      ]
    },
    {
      "cell_type": "code",
      "metadata": {
        "id": "EFtjMsYPU5FQ"
      },
      "source": [
        "# pop 연산을 할 시 리스트의 요소가 많으면 연산량이 많아 지므로 linked-list 사용\n",
        "n = int(input())\n",
        "\n",
        "queue = [i for i in range(1, n+1)] # 처음 queue 리스트 생성\n",
        "\n",
        "start = 0 # linked-list의 첫 부분\n",
        "end = n-1 # linked-list의 마지막 부분\n",
        "\n",
        "while start != end: # 첫 부분과 마지막 부분이 같아지면 break\n",
        "    start += 1 # queue 맨위 pop 연산\n",
        "\n",
        "    if start == end: # 첫 부분과 마지막 부분이 같아지면 break\n",
        "        break\n",
        "\n",
        "    queue.append(queue[start]) # 두번 째 카드 맨 뒤로 append 연산\n",
        "    end += 1 # append 연산을 하여 뒷 부분 + 1\n",
        "    start += 1 # 두번 째 카드를 맨 뒤로 옮겼으므로 시작 부분 + 1\n",
        "\n",
        "print(queue[start])"
      ],
      "execution_count": null,
      "outputs": []
    },
    {
      "cell_type": "markdown",
      "metadata": {
        "id": "mSQdGSmzU5J8"
      },
      "source": [
        "####  11866번"
      ]
    },
    {
      "cell_type": "code",
      "metadata": {
        "colab": {
          "base_uri": "https://localhost:8080/"
        },
        "id": "De3HkwoFU5J9",
        "outputId": "bf08d518-e55c-4d64-bf95-6d459ad7835e"
      },
      "source": [
        "# k 명 미만의 사람이 남았을 때도 순서대로 사람을 세어 k 번째 사람을 제거\n",
        "n, k = map(int, input().split())\n",
        "\n",
        "queue = [i for i in range(1, n+1)]\n",
        "\n",
        "start = 0\n",
        "end = n\n",
        "\n",
        "res = [] # 제거 된 사람을 담을 리스트\n",
        "\n",
        "while (end - start) >= 2: # 사람이 1명이 남을 때 까지 반복\n",
        "    for _ in range(k-1): # k번째 사람을 찾기까지 반복\n",
        "        queue.append(queue[start])\n",
        "        start += 1\n",
        "        end += 1\n",
        "\n",
        "    res.append(queue[start]) # k 번째 사람 제거\n",
        "    start += 1\n",
        "\n",
        "res += queue[start:]\n",
        "\n",
        "print('<',end='')\n",
        "for i in range(len(res)-1):\n",
        "    print('{0}, '.format(res[i]), end='')\n",
        "print(res[-1],end='')\n",
        "print('>')"
      ],
      "execution_count": null,
      "outputs": [
        {
          "output_type": "stream",
          "name": "stdout",
          "text": [
            "5 4\n",
            "<4, 3, 5, 2, 1>\n"
          ]
        }
      ]
    },
    {
      "cell_type": "markdown",
      "metadata": {
        "id": "14T3PZXwU5PO"
      },
      "source": [
        "####  1966번"
      ]
    },
    {
      "cell_type": "code",
      "metadata": {
        "id": "ZB0RX-F2U5PO"
      },
      "source": [
        "import sys\n",
        "n = int(input())\n",
        "\n",
        "def f(x): \n",
        "    X = int(x)\n",
        "    s[X-1] += 1\n",
        "    return X\n",
        "\n",
        "for _ in range(n):\n",
        "    n, m = map(int, sys.stdin.readline().rstrip('\\n').split())\n",
        "    s = [0] * 10 # 중요도 counting 리스트\n",
        "    l = list(map(f, sys.stdin.readline().rstrip('\\n').split()))\n",
        "\n",
        "    start = 0 # linked-list 사용\n",
        "    end = n\n",
        "\n",
        "    res = 0\n",
        "    t = m # 지정한 문서의 위치\n",
        "\n",
        "    while True:\n",
        "        if sum(s[l[start]:]) > 0: # 지정한 문서 뒤로 중요도가 큰 수가 있으면 \n",
        "            l.append(l[start]) # 맨 뒤로 보냄\n",
        "\n",
        "            if start == t: # 지정한 문서가 뒤로 보내지면 위치도 변경\n",
        "                t = end # 맨 마지막 위치\n",
        "\n",
        "            start += 1\n",
        "            end += 1\n",
        "\n",
        "        else: # 중요도가 큰 수가 없으므로\n",
        "            s[l[start]-1] -= 1 #counting 리스트에서 해당 수 -1\n",
        "            res += 1 # 출력 횟수 +1\n",
        "\n",
        "            if t == start: # 지정한 문서가 인쇄 되었다면 종료\n",
        "                break\n",
        "\n",
        "            start += 1\n",
        "\n",
        "    print(res)"
      ],
      "execution_count": null,
      "outputs": []
    },
    {
      "cell_type": "markdown",
      "metadata": {
        "id": "6XU-HwBjU5UD"
      },
      "source": [
        "####  10866번"
      ]
    },
    {
      "cell_type": "code",
      "metadata": {
        "id": "x2tkgB9CU5UD"
      },
      "source": [
        "# 덱은 앞, 뒤로 입력과 방출을 같이 수행하는 형태\n",
        "# 시간제한이 짧으므로 linked-list를 사용해야 함.\n",
        "# from collections import deque 사용 가능\n",
        "import sys\n",
        "\n",
        "deque = [0] * 20001 # 덱을 담을 리스트 \n",
        "\n",
        "start = 10000 # 시작 지점\n",
        "end = 10000 # 마지막 지점\n",
        "\n",
        "for _ in range(int(input())):\n",
        "    t = sys.stdin.readline().rstrip('\\n').split() # 입력값 리스트 형태로 바꾸기\n",
        "    #print('deque : ',deque[start:end+1])\n",
        "    if t[0] == 'push_front': # 앞에 입력\n",
        "        if start == end and deque[start] == 0: # 시작과 끝이 같고 내용이 없으면\n",
        "            deque[start] = int(t[1]) # 값 입력\n",
        "\n",
        "        else: # 시작과 끝이 다르거나 원소가 하나라도 있으면\n",
        "            start -= 1 # 시작지점 앞으로 땡기기\n",
        "            deque[start] = int(t[1]) # 값 입력\n",
        "\n",
        "    elif t[0] == 'push_back': # 뒤에 입력, push_front와 같음\n",
        "        if start == end and deque[start] == 0: \n",
        "            deque[end] = int(t[1]) \n",
        "            \n",
        "        else: \n",
        "            end += 1 # 마지막 지점 뒤로 땡기기\n",
        "            deque[end] = int(t[1])\n",
        "\n",
        "    elif t[0] == 'pop_front': # 뒤에 방출\n",
        "        if start == end: # 시작과 끝이 같고\n",
        "            if deque[start] == 0: # 원소가 없으면\n",
        "                print(-1)\n",
        "                continue\n",
        "\n",
        "        print(deque[start])\n",
        "        deque[start] = 0\n",
        "\n",
        "        if start == end: # 시작과 끝이 같으면 넘어감\n",
        "            continue\n",
        "        else: # 시작과 끝이 같지 않으면 시작 지점을 뒤로 땡김\n",
        "            start += 1\n",
        "\n",
        "    elif t[0] == 'pop_back':\n",
        "        if start == end:\n",
        "            if deque[end] == 0:\n",
        "                print(-1)\n",
        "                continue\n",
        "\n",
        "        print(deque[end])\n",
        "        deque[end] = 0\n",
        "        if start == end: # 시작과 끝이 같으면 넘어감\n",
        "            continue\n",
        "        else: # 시작과 끝이 같지 않으면 끝 지점을 앞으로 떙김\n",
        "            end -= 1\n",
        "        \n",
        "    elif t[0] == 'size':\n",
        "        if start == end: # 시작과 끝이 같고\n",
        "            if deque[start] == 0: # 원소가 없으면 0\n",
        "                print(0)\n",
        "            else: # 원소가 있으면 1\n",
        "                print(1)\n",
        "        else: # 원소의 갯수\n",
        "            print(end-start+1)\n",
        "\n",
        "    elif t[0] == 'empty':\n",
        "        if start == end: \n",
        "            if deque[start] == 0:\n",
        "                print(1)\n",
        "            else:\n",
        "                print(0)\n",
        "        else:\n",
        "            print(0)\n",
        "        \n",
        "    elif t[0] == 'front':\n",
        "        if start == end: # 시작과 끝이 같고\n",
        "            if deque[start] == 0: # 원소가 없으면\n",
        "                print(-1) # -1 출력\n",
        "            else: # 원소가 있으면 시작 지점의 원소 출력\n",
        "                print(deque[start])\n",
        "            continue\n",
        "\n",
        "        print(deque[start])\n",
        "\n",
        "    elif t[0] == 'back':\n",
        "        if start == end:\n",
        "            if deque[end] == 0:\n",
        "                print(-1)\n",
        "            else:\n",
        "                print(deque[end])\n",
        "            continue\n",
        "        \n",
        "        print(deque[end])"
      ],
      "execution_count": null,
      "outputs": []
    },
    {
      "cell_type": "markdown",
      "metadata": {
        "id": "SDiinE2pU5Yx"
      },
      "source": [
        "####  1021번"
      ]
    },
    {
      "cell_type": "code",
      "metadata": {
        "id": "Nnpwyf_0U5Yx",
        "colab": {
          "base_uri": "https://localhost:8080/"
        },
        "outputId": "c11dbfe7-4dc3-4619-c83a-b891865dd45d"
      },
      "source": [
        "n, m = map(int, input().split())\n",
        "l = list(map(int, input().split()))\n",
        "\n",
        "index = [0]*1000 + [i for i in range(1, n+1)] + [0]*1000\n",
        "\n",
        "start = 1000\n",
        "end = 999 + n\n",
        "\n",
        "cnt = 0 # 2, 3번 수행 횟수\n",
        "x = 0 # 입력받은 list의 갯수\n",
        "t = -1 # 찾고자하는 위치의 인덱스\n",
        "while True:\n",
        "    #print('index : ',index[start:end+1], 't, start, end : ',t,start,end)\n",
        "    if x == m: # 입력받은 list의 갯수와 1번 연산 실행 횟수가 같으면 멈춘다\n",
        "        break\n",
        "\n",
        "    if t == -1: # 찾고자 하는 위치의 인덱스가 없다면\n",
        "        for i in range(start, end+1): \n",
        "            if index[i] == l[x]: # 찾고자 하는 위치를 찾는다\n",
        "                t = i\n",
        "                break\n",
        "\n",
        "    if t == start: # 찾고자하는 위치가 시작과 같으면\n",
        "        index[start] = 0 # 시작 지점 0 입력\n",
        "        start += 1 # 시작 위치 뒤로 땡기기\n",
        "        x += 1 # 1번 실행 연산 횟수 +1\n",
        "        t = -1 # 찾고자 하는 위치 reset\n",
        "        continue\n",
        "    \n",
        "    if (end + start) / 2 >= t: # 찾고자하는 위치가 2번 연산을 할 때 빠른 경우\n",
        "        end += 1 # 끝 지점 뒤로 한칸 땡기기\n",
        "        index[end] = index[start] # 맨 앞의 요소 맨 뒤로 옮기기\n",
        "        index[start] = 0 # 맨 앞요소 빈칸으로 만들기\n",
        "        start += 1 # 시작 지점도 뒤로 땡기기\n",
        "        cnt += 1 # 연산 횟수 카운팅\n",
        "\n",
        "    else: # 찾고자 하는 위치가 3번 연산을 할 때 빠른 경우\n",
        "        start -= 1\n",
        "        index[start] = index[end]\n",
        "        index[end] = 0\n",
        "        end -= 1\n",
        "        cnt += 1\n",
        "\n",
        "        if t > end: # 3번 연산 중 찾고자 하는 위치가 deque에서 벗어나면\n",
        "            t = start # 찾고자 하는 위치는 맨 앞으로 갔다.\n",
        "\n",
        "print(cnt)"
      ],
      "execution_count": null,
      "outputs": [
        {
          "output_type": "stream",
          "name": "stdout",
          "text": [
            "10 10\n",
            "1 6 3 2 7 9 8 4 10 5\n",
            "14\n"
          ]
        }
      ]
    },
    {
      "cell_type": "markdown",
      "metadata": {
        "id": "Rm5U7yLyU5dm"
      },
      "source": [
        "####  5430번"
      ]
    },
    {
      "cell_type": "code",
      "metadata": {
        "id": "oxBrcFiAU5dn"
      },
      "source": [
        "def D(list_x): # 앞의 원소를 제거 하는 함수\n",
        "    global start\n",
        "    global end\n",
        "\n",
        "    if t == 1:  # 순방향\n",
        "        start += 1\n",
        "        return\n",
        "    else:\n",
        "        end -= 1\n",
        "        return\n",
        "\n",
        "\n",
        "for _ in range(int(input())):\n",
        "    p = input()\n",
        "    n = int(input())\n",
        "\n",
        "    if n < 2: # 원소의 갯수가 1개 이하면\n",
        "        l = list(map(int, input().strip('[]'))) # 콤마가 없으므로\n",
        "    else:\n",
        "        l = list(map(int, input().strip('[]').split(',')))\n",
        "\n",
        "    start = 0\n",
        "    end = n\n",
        "\n",
        "    try:\n",
        "        t = 1  # 순 방향\n",
        "\n",
        "        for i in range(len(p)):\n",
        "            if p[i] == 'R': # 방향을 정해주는 함수\n",
        "                t += 1\n",
        "                t %= 2\n",
        "            else:\n",
        "                D(l) # D 함수 실행\n",
        "\n",
        "        if start > end: # 시작지점이 끝 지점보다 크면\n",
        "            print('error') # 에러 출력\n",
        "            continue\n",
        "\n",
        "        if t == 1: # 순방향인 경우\n",
        "            l += [0]\n",
        "            l = l[start:end] # l의 시작지점 부터 끝 지점까지의 deque 반영\n",
        "        else:\n",
        "            if start > 0: \n",
        "                l = l[end-1:start-1:-1] # 끝 지점부터 시작 지점까지 거꾸로 리스트 생성\n",
        "            else: # 시작 지점이 0인경우\n",
        "                l = l[end-1::-1] # 끝 지점부터 거꾸로 리스트 생성\n",
        "\n",
        "        print('[', end='')\n",
        "        for i in range(len(l)): # 출력물에 띄어쓰기가 없으므로 \n",
        "            if i == len(l) - 1:\n",
        "                print(l[i], end='')\n",
        "            else:\n",
        "                print(l[i], end=',')\n",
        "\n",
        "        print(']')\n",
        "\n",
        "    except:\n",
        "        print('error') # 인덱스 에러가 나는 경우 error 출력"
      ],
      "execution_count": null,
      "outputs": []
    },
    {
      "cell_type": "markdown",
      "metadata": {
        "id": "lh6uv54_bdBm"
      },
      "source": [
        "### 20단계 : 분할정복===========**"
      ]
    },
    {
      "cell_type": "markdown",
      "metadata": {
        "id": "F4l7j-IMbdBn"
      },
      "source": [
        "####  2630번"
      ]
    },
    {
      "cell_type": "code",
      "metadata": {
        "id": "eBxSLPoxbdBn"
      },
      "source": [
        "n = int(input())\n",
        "l = [] # 입력값을 받을 리스트 정의\n",
        "for _ in range(n):\n",
        "    l.append(list(map(int, input().split())))\n",
        "\n",
        "b = 0 # 1인 칸 카운트\n",
        "w = 0 # 0인 칸 카운트\n",
        "\n",
        "\n",
        "def f(list_x, n_x): # 재귀함수를 사용한 분할 정복\n",
        "    global b # 글로벌 변수 설정\n",
        "    global w\n",
        "    #print(list_x)\n",
        "\n",
        "    if n_x == 1: # 받는 리스트가 1 x 1 인경우\n",
        "        if list_x[0][0] == 1: # 안의 내용이 1인 경우\n",
        "            b += 1 # b 변수 + 1\n",
        "            return\n",
        "\n",
        "        else:\n",
        "            w += 1\n",
        "            return\n",
        "\n",
        "    if [[0 for _ in range(n_x)] for _ in range(n_x)] == list_x: \n",
        "        # (n_x) x (n_x) 크기의 리스트가 같은 크기의 0 행렬인 경우\n",
        "        w += 1 # w 변수 1로 묶고 종료\n",
        "        return\n",
        "\n",
        "    if [[1 for _ in range(n_x)] for _ in range(n_x)] == list_x:\n",
        "        # (n_x) x (n_x) 크기의 리스트가 같은 크기의 1 행렬인 경우\n",
        "        b += 1\n",
        "        return\n",
        "\n",
        "    f([list_x[i][:int(n_x/2)] for i in range(int(n_x/2))], int(n_x/2)) # 2사분면 재귀\n",
        "    f([list_x[i][int(n_x/2):] for i in range(int(n_x/2))], int(n_x/2)) # 1 사분면 재귀\n",
        "    f([list_x[i][:int(n_x/2)] for i in range(int(n_x/2), n_x)], int(n_x/2)) # 3사분면 재귀\n",
        "    f([list_x[i][int(n_x/2):] for i in range(int(n_x/2), n_x)], int(n_x/2)) # 4사분면 재귀\n",
        "\n",
        "f(l, n) # 재귀함수 실행\n",
        "print(w, b)"
      ],
      "execution_count": null,
      "outputs": []
    },
    {
      "cell_type": "markdown",
      "metadata": {
        "id": "qzTRR-kForE2"
      },
      "source": [
        "####  1992번"
      ]
    },
    {
      "cell_type": "code",
      "metadata": {
        "id": "2wUYRr0yorE2"
      },
      "source": [
        "n = int(input())\n",
        "l = []\n",
        "for _ in range(n): # 입력 받는 값에 빈칸을 삽입한 후 split 진행\n",
        "    l.append(list(map(int, ' '.join(input()).split())))\n",
        "\n",
        "res = [] # 결과값을 담을 리스트 정의\n",
        "\n",
        "def f(list_x, n_x): # 재귀함수를 사용한 분할정복\n",
        "    global res\n",
        "\n",
        "    if n_x == 1: # 들어오는 리스트의 크기가 1 x 1인 경우\n",
        "        if list_x[0][0] == 1: # 리스트의 내용이 1인경우\n",
        "            res.append(1) # 결과 값에 1 입력\n",
        "            return\n",
        "\n",
        "        else:\n",
        "            res.append(0)\n",
        "            return\n",
        "\n",
        "    if [[0 for _ in range(n_x)] for _ in range(n_x)] == list_x:\n",
        "        # (n_x) x (n_x) 크기의 리스트가 같은 크기의 0 행렬인 경우\n",
        "        res.append(0)\n",
        "        return \n",
        "\n",
        "    if [[1 for _ in range(n_x)] for _ in range(n_x)] == list_x:\n",
        "        # (n_x) x (n_x) 크기의 리스트가 같은 크기의 1 행렬인 경우\n",
        "        res.append(1)\n",
        "        return\n",
        "    res.append('(') # 4사분면으로 나누기 이전 괄호를 이용하여 묶기\n",
        "    f([list_x[i][:int(n_x/2)] for i in range(int(n_x/2))], int(n_x/2)) # 2사분면\n",
        "    f([list_x[i][int(n_x/2):] for i in range(int(n_x/2))], int(n_x/2)) # 1사분면\n",
        "    f([list_x[i][:int(n_x/2)] for i in range(int(n_x/2), n_x)], int(n_x/2)) # 3사분면\n",
        "    f([list_x[i][int(n_x/2):] for i in range(int(n_x/2), n_x)], int(n_x/2)) # 4사분면\n",
        "    res.append(')') # 닫는 괄호 사용\n",
        "\n",
        "\n",
        "f(l, n) # 재귀함수 실행\n",
        "for i in res: # 띄어쓰기 없이 결과값 출력\n",
        "    print(i, end='')"
      ],
      "execution_count": null,
      "outputs": []
    },
    {
      "cell_type": "markdown",
      "metadata": {
        "id": "tWj1_3nHorH0"
      },
      "source": [
        "####  1780번"
      ]
    },
    {
      "cell_type": "code",
      "metadata": {
        "id": "dby4EhRVorH0"
      },
      "source": [
        "import sys\n",
        "n = int(input())\n",
        "l = []\n",
        "for _ in range(n):  # 입력 받는 값에 빈칸을 삽입한 후 split 진행\n",
        "    l.append(list(map(int, sys.stdin.readline().rstrip('\\n').split())))\n",
        "\n",
        "minus = 0 # -1인 종이 카운트\n",
        "zero = 0 # 0인 종이 카운트\n",
        "plus = 0 # 1인 종이 카운트\n",
        "\n",
        "def f(list_x, n_x):  # 재귀함수를 사용한 분할정복\n",
        "    global minus\n",
        "    global zero\n",
        "    global plus\n",
        "\n",
        "    if n_x == 1:  # 들어오는 리스트의 크기가 1 x 1인 경우\n",
        "        if list_x[0][0] == -1:  # 리스트의 내용이 1인경우\n",
        "            minus += 1\n",
        "            return\n",
        "        elif list_x[0][0] == 0:\n",
        "            zero += 1\n",
        "            return\n",
        "        else:\n",
        "            plus += 1\n",
        "            return\n",
        "\n",
        "    s = [] # 값이 다양한지 판단하는 리스트\n",
        "    for i in list_x: # 2차원 리스트 1차원 리스트로 변환\n",
        "        s += i\n",
        "    s = list(set(s)) # 중복 값 제거\n",
        "\n",
        "    if len(s) == 1: # 값이 하나면\n",
        "        if s[0] == -1: # -1 값이면\n",
        "            minus += 1 # minus +1\n",
        "            return\n",
        "        elif s[0] == 0:\n",
        "            zero += 1\n",
        "            return\n",
        "        else:\n",
        "            plus += 1\n",
        "            return\n",
        "\n",
        "    y = int(n_x/3) # n_x값 3분할\n",
        "    t = [i for i in range(0, n_x, y)] # (0,n_x) 3분할\n",
        "\n",
        "    # 9분할 진행\n",
        "    f([list_x[i][t[0]:t[0]+y] for i in range(t[1])], y) # 1분면\n",
        "    f([list_x[i][t[1]:t[1]+y] for i in range(t[1])], y) # 2분면\n",
        "    f([list_x[i][t[2]:] for i in range(t[1])], y) # 3분면\n",
        "\n",
        "    f([list_x[i][t[0]:t[0]+y] for i in range(t[1], t[2])], y) # 4분면\n",
        "    f([list_x[i][t[1]:t[1]+y] for i in range(t[1], t[2])], y) # 5분면\n",
        "    f([list_x[i][t[2]:] for i in range(t[1], t[2])], y) # 6분면\n",
        "\n",
        "    f([list_x[i][t[0]:t[0]+y] for i in range(t[2], n_x)], y) # 7분면\n",
        "    f([list_x[i][t[1]:t[1]+y] for i in range(t[2], n_x)], y) # 8분면\n",
        "    f([list_x[i][t[2]:] for i in range(t[2], n_x)], y) # 9분면\n",
        "\n",
        "f(l, n)  # 재귀함수 실행\n",
        "\n",
        "print(minus)\n",
        "print(zero)\n",
        "print(plus)"
      ],
      "execution_count": null,
      "outputs": []
    },
    {
      "cell_type": "markdown",
      "metadata": {
        "id": "VvMq1AL7orKj"
      },
      "source": [
        "####  1629번"
      ]
    },
    {
      "cell_type": "code",
      "metadata": {
        "id": "rYm2R68IorKj"
      },
      "source": [
        "a, b, c = map(int,input().split()) # 10, 11, 12\n",
        "\n",
        "def f(x,y): # x는 인수분해, y는 나누기 # 10 , 12\n",
        "    global c\n",
        "    if y == 1: # 1거듭제곱이면\n",
        "        return x % c # x를 c로 나눈 나머지 값 return\n",
        "    \n",
        "    t = f(x,y//2) # x의 y/2 거듭제곱 \n",
        "    if y % 2 == 0: # y가 짝수이면\n",
        "        return t*t%c # x의 y/2 거듭제곱 을 제곱함.\n",
        "    else: # y가 홀수면\n",
        "        return t*t*x%c # x의 y/2 거듭제곱 을 제곱 후 x를 한번더 곱해줌\n",
        "\n",
        "print(f(a,b))"
      ],
      "execution_count": null,
      "outputs": []
    },
    {
      "cell_type": "markdown",
      "metadata": {
        "id": "1Mqy6YQHorNT"
      },
      "source": [
        "####  (***)11401번"
      ]
    },
    {
      "cell_type": "code",
      "metadata": {
        "id": "HlDovTRiorNT"
      },
      "source": [
        "#페르마의 소정리\n",
        "# a**p % p = a % p, a ** (p-1) ≡ 1\n",
        "# a**(p-1) ≡ a * (a ** (p-2)) ≡ 1 ( % p) => a의 역원이 a ** (p-2)\n",
        "# 1 / (a % p) ≡ (a ** (p-2))\n",
        "#nCk ≡ n! / (k!(n-k)!), (mod p)\n",
        "#    ≡ (n! % p) * (1 / (k! % p)) * (1 / ((n-k)! % p)))\n",
        "#    ≡ (n! % p) * (k! % p)**(p-2) * ((n-k)! % p)**(p-2)\n",
        "\n",
        "n, k = map(int, input().split()) \n",
        "\n",
        "p = 1000000007\n",
        "\n",
        "def f(x): # factorial 함수 구현\n",
        "    if x == 0:\n",
        "        return 1\n",
        "    else:\n",
        "        for i in range(x-1, 1, -1): # x! = x * (x-1) * (x-2) * ... * 2까지 진행\n",
        "            x *= i \n",
        "            x %= p # x를 p로 나눈 나머지 값\n",
        "        return x % p # x를 p로 나눈 나머지 값\n",
        "\n",
        "def f_1(x,y): #거듭 제곱 함수 구현\n",
        "    if y == 1:\n",
        "        return x % p\n",
        "    \n",
        "    t = f_1(x,y//2) # x의 y/2 거듭제곱 \n",
        "    if y % 2 == 0: # y가 짝수이면 \n",
        "        return t*t%p # x의 y/2 거듭제곱 을 제곱함.\n",
        "    else:\n",
        "        return t*t*x%p # x의 y/2 거듭제곱 을 제곱 후 x를 한번더 곱해줌\n",
        "\n",
        "#파르마의 소정리 공식을 이용한\n",
        "# (n! % p) * (k! % p)**(p-2) * ((n-k)! % p)**(p-2) 식 구현\n",
        "print((f(n) * f_1(f(k), p-2) * f_1(f(n-k), p-2)) % p) "
      ],
      "execution_count": null,
      "outputs": []
    },
    {
      "cell_type": "markdown",
      "metadata": {
        "id": "C8-hqFACoskw"
      },
      "source": [
        "####  2740번"
      ]
    },
    {
      "cell_type": "code",
      "metadata": {
        "id": "opgIhD6woskx"
      },
      "source": [
        "n, m = map(int, input().split())\n",
        "A = []\n",
        "for _ in range(n): # A행렬 입력\n",
        "    A.append(list(map(int, input().split())))\n",
        "\n",
        "m, k = map(int, input().split())\n",
        "B = []\n",
        "for _ in range(m): # B행렬 입력\n",
        "    B.append(list(map(int, input().split())))\n",
        "\n",
        "res = [] # 결과 res행렬\n",
        "for i in range(n): # A행렬의 i번째 행\n",
        "    t = [] # res 행렬에 넣을 i번째 행\n",
        "    for j in range(k): # B행렬의 j번째 열\n",
        "        x = 0 # i,j 원소 값\n",
        "        for l in range(m): # 행렬곱 리스트의 l번째 원소\n",
        "            x += A[i][l] * B[l][j] # A의 i번째 행과 B의 j번째 열 리스트 곱의 합.\n",
        "\n",
        "        t.append(x) # res 행렬에 넣을 i번째 행에 원소 넣기\n",
        "    res.append(t) # res행렬에 넣을 i번째 행 추가\n",
        "\n",
        "for i in res:\n",
        "    print(*i)"
      ],
      "execution_count": null,
      "outputs": []
    },
    {
      "cell_type": "markdown",
      "metadata": {
        "id": "bSoeQuPDosn7"
      },
      "source": [
        "####  10830번"
      ]
    },
    {
      "cell_type": "code",
      "metadata": {
        "id": "KLIeBOtEosn7"
      },
      "source": [
        "l = []\n",
        "\n",
        "n, b = map(int, input().split())\n",
        "\n",
        "for _ in range(n):\n",
        "    l.append(list(map(int, input().split())))\n",
        "\n",
        "def f_0(x, y): # 행렬곱 함수 구현(2740과 같음)\n",
        "    t = []\n",
        "    for i in range(n):\n",
        "        t_0 = []\n",
        "        for j in range(n):\n",
        "            t_1 = 0\n",
        "            for k in range(n):\n",
        "                t_1 += x[i][k] * y[k][j]\n",
        "            t_0.append(t_1 % 1000) # i,j번째 원소를 1000으로 나눈 나머지\n",
        "        t.append(t_0) # \n",
        "    return t\n",
        "\n",
        "def f_1(x,y): # 거듭제곱 함수 구현(11401번과 같음)\n",
        "    if y == 1:\n",
        "        return x\n",
        "    \n",
        "    t = f_1(x, y//2)\n",
        "    if y % 2 == 0:\n",
        "        return f_0(t,t) # 행렬곱 함수를 이용.\n",
        "    else:\n",
        "        return f_0(f_0(t,t), x) # # 행렬곱 함수를 이용.\n",
        "\n",
        "for i in f_1(l, b):\n",
        "    print(*list(map(lambda x : x % 1000, i)))"
      ],
      "execution_count": null,
      "outputs": []
    },
    {
      "cell_type": "markdown",
      "metadata": {
        "id": "35U4FrTeosqy"
      },
      "source": [
        "####   11444번\n"
      ]
    },
    {
      "cell_type": "code",
      "metadata": {
        "id": "hsC5yYEposqz"
      },
      "source": [
        "#행렬곱셈 이용 : 힌트로 행렬 곱셈을 이용하는 방법이 소개되어 있었다.\n",
        "'''\n",
        "2x2 행렬\n",
        "(f0 f1)(1 1)^x = (f2x   f1+2x)\n",
        "(f2 f3)(1 2)     (f2+2x f3+2x) 가 되는 법칙을 알게 되었다.\n",
        "'''\n",
        "n = int(input())\n",
        "\n",
        "def f_0(x, y): # 행렬곱 함수 구현\n",
        "    t = []\n",
        "    for i in range(2):\n",
        "        t_0 = []\n",
        "        for j in range(2):\n",
        "            t_1 = 0\n",
        "            for k in range(2):\n",
        "                t_1 += x[i][k] * y[k][j]\n",
        "            t_0.append(t_1 % 1000000007) # 원소값 1000000007로 나눈 나머지 값\n",
        "        t.append(t_0)\n",
        "    return t\n",
        "\n",
        "f = [[0,1],[1,2]] # 초기 피보나치 행렬(순서대로 f0, f1, f2, f3)\n",
        "a = [[1,1],[1,2]] # 거듭 제곱에 사용될 행렬\n",
        "\n",
        "def f_1(x,y): # 거듭 제곱 함수 구현\n",
        "    if y == 1:\n",
        "        return x\n",
        "    \n",
        "    t = f_1(x, y//2)\n",
        "    if y % 2 == 0:\n",
        "        return f_0(t,t)\n",
        "    else:\n",
        "        return f_0(f_0(t,t), x)\n",
        "\n",
        "if n > 3: # n이 4이상\n",
        "    res = f_0(f, f_1(a, (n-2) // 2)) # f와 a의 x제곱 행렬 계산\n",
        "    if n % 2:\n",
        "        print(res[1][1]) # n이 홀수면 2행 2열 출력\n",
        "    else:\n",
        "        print(res[1][0]) # n이 짝수면 2행 1열 출력\n",
        "else:\n",
        "    print(f[n // 2][n % 2]) # n이 4보다 작으면 해당하는 값 출력"
      ],
      "execution_count": null,
      "outputs": []
    },
    {
      "cell_type": "markdown",
      "metadata": {
        "id": "_FOjrbqBosth"
      },
      "source": [
        "####  (***)6549번"
      ]
    },
    {
      "cell_type": "code",
      "metadata": {
        "id": "Iw42zEAjosth"
      },
      "source": [
        "# 스택과, 분할정복의 대표적인 문제 # https://st-lab.tistory.com/255\n",
        "\n",
        "### 분할 정복으로 구현\n",
        "def f(start,end):               # 분할 정복 함수\n",
        "    \n",
        "    if start == end:            # 시작점과 마지막 점이 같으면\n",
        "        return l[start]         # \n",
        "    \n",
        "    mid = (start + end) // 2    # 중간값 지정\n",
        "    \n",
        "    left = f(start, mid)        # 왼쪽 지역 분할 정복 실행\n",
        "    right = f(mid+1, end)       # 오른쪽 지역 분할 정복 실행\n",
        "\n",
        "    max_area = max(left, right) # 왼쪽 지역과 오른쪽 지역 중 최대 너비 선택\n",
        "\n",
        "    to_left = mid               #\n",
        "    to_right = mid              #\n",
        "    h = l[mid]                  #\n",
        "\n",
        "    max_area_0 = h\n",
        "\n",
        "    while start < to_left and to_right < end:\n",
        "        \n",
        "        if l[to_left - 1] < l[to_right + 1]:\n",
        "            to_right += 1\n",
        "            h = min(h, l[to_right])\n",
        "        else:\n",
        "            to_left -= 1\n",
        "            h = min(h, l[to_left])\n",
        "        \n",
        "        max_area_0 = max(max_area_0, h * (to_right - to_left + 1))\n",
        "    \n",
        "    while start < to_left:\n",
        "        to_left -= 1\n",
        "        h = min(h, l[to_left])\n",
        "        max_area_0 = max(max_area_0, h * (to_right - to_left + 1))\n",
        "    \n",
        "    while to_right < end:\n",
        "        to_right += 1\n",
        "        h = min(h, l[to_right])\n",
        "        max_area_0 = max(max_area_0, h * (to_right - to_left + 1))\n",
        "    \n",
        "    max_area = max(max_area, max_area_0)\n",
        "\n",
        "    return max_area\n",
        "\n",
        "while True:                             # 무한반복\n",
        "    l = list(map(int, input().split())) # 입력값\n",
        "    if l == [0]:                        # 입력된 값의 처음이 0이면\n",
        "        break                           # 무한 반복 종료\n",
        "    \n",
        "    print(f(1,len(l)-1))                # 분할 정복"
      ],
      "execution_count": null,
      "outputs": []
    },
    {
      "cell_type": "markdown",
      "metadata": {
        "id": "cNZto4c8osxQ"
      },
      "source": [
        "####  (*****)2261번"
      ]
    },
    {
      "cell_type": "code",
      "metadata": {
        "id": "eC4Ls3rJosxR"
      },
      "source": [
        "#https://st-lab.tistory.com/256# https://st-lab.tistory.com/256\n",
        "\n",
        "import sys\n",
        "\n",
        "l = []\n",
        "for _ in range(int(input())):\n",
        "    l.append(list(map(int, sys.stdin.readline().rstrip('\\n').split())))\n",
        "\n",
        "\n",
        "def brute(start, end):\n",
        "    min_value = float('inf')\n",
        "    for i in range(start, end):\n",
        "        for j in range(i+1, end+1):\n",
        "            min_value = min(min_value, abs(\n",
        "                l[i][0] - l[j][0])**2 + abs(l[i][1] - l[j][1])**2)\n",
        "\n",
        "    return min_value\n",
        "\n",
        "\n",
        "def f(start, end):\n",
        "    if end - start + 1 < 4:\n",
        "        return brute(start, end)\n",
        "\n",
        "    mid = (end + start) // 2\n",
        "    left = f(start, mid)\n",
        "    right = f(mid + 1, end)\n",
        "\n",
        "    min_value = min(left, right)\n",
        "\n",
        "    mid_x = l[mid][0]\n",
        "\n",
        "    p_list = []\n",
        "\n",
        "    for i in range(start, end+1):\n",
        "        dist_x = l[i][0] - mid_x\n",
        "        if dist_x**2 < min_value:\n",
        "            p_list.append(l[i])\n",
        "\n",
        "    p_list = sorted(p_list, key=lambda x: x[1])  # 후보군들 y기준으로 정렬\n",
        "    for i in range(len(p_list)-1):\n",
        "        for j in range(i+1, len(p_list)):\n",
        "            dist_y = p_list[i][1] - p_list[j][1]\n",
        "            if dist_y ** 2 < min_value:\n",
        "                min_value = min(min_value, abs(\n",
        "                    p_list[i][0] - p_list[j][0])**2 + abs(p_list[i][1] - p_list[j][1])**2)\n",
        "            else:\n",
        "                break\n",
        "\n",
        "    return min_value\n",
        "\n",
        "\n",
        "l = sorted(l, key=lambda x: x[0])\n",
        "print(f(0, len(l)-1))"
      ],
      "execution_count": null,
      "outputs": []
    },
    {
      "cell_type": "markdown",
      "metadata": {
        "id": "rKOdiegqolxT"
      },
      "source": [
        "### 21단계 : 이분탐색===========**"
      ]
    },
    {
      "cell_type": "markdown",
      "metadata": {
        "id": "tX4YIkhZolxU"
      },
      "source": [
        "####  1920번"
      ]
    },
    {
      "cell_type": "code",
      "metadata": {
        "id": "osUZN7KColxU"
      },
      "source": [
        "n = int(input())\n",
        "l = list(map(int, input().split()))\n",
        "\n",
        "m = int(input())\n",
        "s = list(map(int, input().split()))\n",
        "\n",
        "l.sort()\n",
        "\n",
        "for num in s:\n",
        "    left, right = 0, len(l) - 1\n",
        "\n",
        "    t = False\n",
        "\n",
        "    while True:\n",
        "        mid = (left + right) // 2\n",
        "        if num == l[mid]:\n",
        "            print(1)\n",
        "            t = True\n",
        "            break\n",
        "        elif num > l[mid]:\n",
        "            left = mid + 1\n",
        "        elif num < l[mid]:\n",
        "            right = mid - 1\n",
        "        \n",
        "        if left > right:\n",
        "            break\n",
        "\n",
        "    if not t:\n",
        "        print(0)"
      ],
      "execution_count": null,
      "outputs": []
    },
    {
      "cell_type": "markdown",
      "metadata": {
        "id": "xObXGl3dMAk2"
      },
      "source": [
        "####  10816번"
      ]
    },
    {
      "cell_type": "code",
      "metadata": {
        "id": "Bsj3xtp4MAk2"
      },
      "source": [
        "'''\n",
        "# py3로 할때만 됨.\n",
        "import sys\n",
        "n = int(input())\n",
        "l = list(map(int, sys.stdin.readline().rstrip('\\n').split()))\n",
        "\n",
        "m = int(input())\n",
        "s = list(map(int, sys.stdin.readline().rstrip('\\n').split()))\n",
        "\n",
        "l.sort()\n",
        "\n",
        "dic = {}\n",
        "\n",
        "for i in range(m):\n",
        "    left, right = 0, len(l) - 1\n",
        "\n",
        "    t = False\n",
        "\n",
        "    while True:\n",
        "        mid = (left + right) // 2\n",
        "        if s[i] == l[mid]:\n",
        "            t = 1\n",
        "            start = mid - 1\n",
        "            while True:\n",
        "                if start < 0 or s[i] != l[start]:\n",
        "                    break\n",
        "                \n",
        "                start -= 1\n",
        "                t += 1\n",
        "\n",
        "            end = mid + 1\n",
        "            #print('start, mid, end, s[i]',start, mid, end, s[i])\n",
        "            while True: # 6 7 8 10\n",
        "                if end >= n or s[i] != l[end]:\n",
        "                    break\n",
        "                \n",
        "                end += 1\n",
        "                t += 1\n",
        "#-10 -10 2 3 3 6 7 10 10 10\n",
        "            break\n",
        "\n",
        "        elif s[i] > l[mid]:\n",
        "            left = mid + 1\n",
        "        elif s[i] < l[mid]:\n",
        "            right = mid - 1\n",
        "        \n",
        "        if left > right:\n",
        "            break\n",
        "\n",
        "    if not t:\n",
        "        dic[s[i]] = 0\n",
        "    else:\n",
        "        dic[s[i]] = t\n",
        "\n",
        "print(*[dic[i] for i in s])\n",
        "'''\n",
        "\n",
        "import sys\n",
        "\n",
        "n = int(input())\n",
        "l = list(map(int, sys.stdin.readline().rstrip('\\n').split()))\n",
        "\n",
        "m = int(input())\n",
        "s = list(map(int, sys.stdin.readline().rstrip('\\n').split()))\n",
        "\n",
        "dic = {}\n",
        "for i in l:\n",
        "    if i in dic:\n",
        "        dic[i] += 1\n",
        "    else:\n",
        "        dic[i] = 1\n",
        "\n",
        "print(*[dic[i] if i in dic else 0 for i in s])\n"
      ],
      "execution_count": null,
      "outputs": []
    },
    {
      "cell_type": "markdown",
      "metadata": {
        "id": "owkupsdXMAuW"
      },
      "source": [
        "####  1654번"
      ]
    },
    {
      "cell_type": "code",
      "metadata": {
        "id": "SHYJ6nP5MAuW"
      },
      "source": [
        "k, n = map(int, input().split())\n",
        "\n",
        "l = []\n",
        "for _ in range(k):\n",
        "    l.append(int(input()))\n",
        "\n",
        "start = 1\n",
        "end = max(l)\n",
        "\n",
        "while True:\n",
        "    t = 0\n",
        "    mid = (start + end) // 2\n",
        "    for i in l:\n",
        "        t += (i // mid)\n",
        "    \n",
        "    #print('start, end , mid',start, end, mid)\n",
        "    if start > end:\n",
        "        break\n",
        "\n",
        "    elif t < n:\n",
        "        end = mid - 1\n",
        "        \n",
        "    else:\n",
        "        start = mid + 1\n",
        "\n",
        "print(end)"
      ],
      "execution_count": null,
      "outputs": []
    },
    {
      "cell_type": "markdown",
      "metadata": {
        "id": "EznoGG1TMA1G"
      },
      "source": [
        "####  2805번"
      ]
    },
    {
      "cell_type": "code",
      "metadata": {
        "id": "JW6EIStgMA1G",
        "colab": {
          "base_uri": "https://localhost:8080/"
        },
        "outputId": "bee14b73-dedb-4c47-dfb0-d1a579b1acf1"
      },
      "source": [
        "import sys\n",
        "n, m = map(int, input().split())\n",
        "\n",
        "l = list(map(int, input().split()))\n",
        "start = 1\n",
        "end = max(l)\n",
        "\n",
        "while True:\n",
        "    \n",
        "    mid = (start + end) // 2\n",
        "    t = [i - mid if i > mid else 0 for i in l]\n",
        "\n",
        "    #print('start, end',start,end,t)\n",
        "    t = sum(t)\n",
        "\n",
        "    if start > end:\n",
        "        break\n",
        "    \n",
        "    elif t < m:\n",
        "        end = mid - 1\n",
        "    else:\n",
        "        start = mid + 1\n",
        "\n",
        "print(end)"
      ],
      "execution_count": null,
      "outputs": [
        {
          "output_type": "stream",
          "name": "stdout",
          "text": [
            "3 1\n",
            "1 2 2\n",
            "1\n"
          ]
        }
      ]
    },
    {
      "cell_type": "markdown",
      "metadata": {
        "id": "qoewhVFiMA6u"
      },
      "source": [
        "####  2110번"
      ]
    },
    {
      "cell_type": "code",
      "metadata": {
        "id": "djI5GqS3MA6u"
      },
      "source": [
        "import sys\n",
        "n, c = map(int, input().split())\n",
        "\n",
        "l = [int(sys.stdin.readline().rstrip('\\n')) for _ in range(n)]\n",
        "l.sort()\n",
        "\n",
        "start = 1\n",
        "end = l[-1] - 1\n",
        "while True:\n",
        "    if start > end:\n",
        "        break\n",
        "\n",
        "    mid = (start + end) // 2\n",
        "\n",
        "    t = 1\n",
        "    res = l[0] + mid\n",
        "\n",
        "    for i in range(1, len(l)):\n",
        "        if res <= l[i]:\n",
        "            t += 1\n",
        "            res = l[i] + mid\n",
        "\n",
        "    if t >= c:\n",
        "        start = mid + 1\n",
        "    else:\n",
        "        end = mid - 1\n",
        "\n",
        "print(end)\n"
      ],
      "execution_count": null,
      "outputs": []
    },
    {
      "cell_type": "markdown",
      "metadata": {
        "id": "nky_PfziMA-9"
      },
      "source": [
        "####  (***)1300번"
      ]
    },
    {
      "cell_type": "code",
      "metadata": {
        "id": "EG7quulgMA--"
      },
      "source": [
        "# https://blog.naver.com/crm06217/222021716929\n",
        "# 행렬 풀이\n",
        "n = int(input())\n",
        "k = int(input())\n",
        "\n",
        "start = 1\n",
        "end = k\n",
        "\n",
        "while True:\n",
        "    if start >= end:\n",
        "        mid = (start + end) // 2\n",
        "        break\n",
        "\n",
        "    mid = (start + end) // 2\n",
        "    \n",
        "    t = 0\n",
        "    for i in range(1,n+1):\n",
        "        t += min(n, mid // i)\n",
        "    \n",
        "    if t < k:\n",
        "        start = mid + 1\n",
        "    else:\n",
        "        end = mid\n",
        "    #print(start,mid,end)\n",
        "\n",
        "print(mid)"
      ],
      "execution_count": null,
      "outputs": []
    },
    {
      "cell_type": "markdown",
      "metadata": {
        "id": "QeNapogXMBDG"
      },
      "source": [
        "####  (***)12015번"
      ]
    },
    {
      "cell_type": "code",
      "metadata": {
        "id": "VaaqTU4mMBDG"
      },
      "source": [
        "n = int(input())\n",
        "l = list(map(int, input().split()))\n",
        "\n",
        "def binary_search(arr, t):\n",
        "    start = 0\n",
        "    end = len(arr) - 1\n",
        "\n",
        "    while True:\n",
        "        if start >= end:\n",
        "            mid = (start + end) // 2\n",
        "            return mid\n",
        "        \n",
        "        mid = (start + end) // 2\n",
        "\n",
        "        if arr[mid] < t:\n",
        "            start = mid + 1\n",
        "        else:\n",
        "            end = mid\n",
        "\n",
        "    return mid\n",
        "\n",
        "res = [l[0]] \n",
        "\n",
        "for i in range(1,n):\n",
        "    if res[-1] < l[i]:\n",
        "        res.append(l[i])\n",
        "    else:\n",
        "        t = binary_search(res, l[i])\n",
        "        res[t] = l[i]\n",
        "\n",
        "print(len(res))"
      ],
      "execution_count": null,
      "outputs": []
    },
    {
      "cell_type": "markdown",
      "metadata": {
        "id": "Jc_IjbKpL6wm"
      },
      "source": [
        "### 22단계 : 우선순위 큐===========**"
      ]
    },
    {
      "cell_type": "markdown",
      "metadata": {
        "id": "RQtuu3rBL6wn"
      },
      "source": [
        "####  (최대 힙)11279번"
      ]
    },
    {
      "cell_type": "code",
      "metadata": {
        "id": "88W--dAXL6wn"
      },
      "source": [
        "#import heapq as hq\n",
        "# https://www.fun-coding.org/Chapter11-heap.html\n",
        "\n",
        "# 부모 노드 인덱스 = 자식 노드 인덱스 // 2\n",
        "# 왼쪽 자식 노드 인덱스 = 부모 노드 인덱스 * 2\n",
        "# 오른쪽 자식 노드 인덱스 = 부모 노드 인덱스 * 2 + 1\n",
        "\n",
        "import sys\n",
        "\n",
        "n = int(sys.stdin.readline())\n",
        "\n",
        "queue = [None]\n",
        "for _ in range(n):\n",
        "    t = int(sys.stdin.readline())\n",
        "\n",
        "    if not t:\n",
        "        if len(queue) == 1:\n",
        "            print(0)\n",
        "        else:\n",
        "            print(queue[1])\n",
        "            popped_idx = 1\n",
        "            queue[1] = queue[-1]            \n",
        "            #queue = queue[:-1] => 시간초과\n",
        "            queue.pop()\n",
        "\n",
        "            while True:\n",
        "                left_child_idx = popped_idx * 2\n",
        "                right_child_idx = popped_idx * 2 + 1\n",
        "\n",
        "                if left_child_idx >= len(queue):\n",
        "                    break\n",
        "\n",
        "                elif right_child_idx >= len(queue):\n",
        "                    if queue[popped_idx] < queue[left_child_idx]:\n",
        "                        queue[popped_idx], queue[left_child_idx] = queue[left_child_idx], queue[popped_idx]\n",
        "                        popped_idx = left_child_idx\n",
        "                    else:\n",
        "                        break\n",
        "                else:\n",
        "                    if queue[left_child_idx] > queue[right_child_idx]:\n",
        "                        if queue[popped_idx] < queue[left_child_idx]:\n",
        "                            queue[popped_idx], queue[left_child_idx] = queue[left_child_idx], queue[popped_idx]\n",
        "                            popped_idx = left_child_idx\n",
        "                        else:\n",
        "                            break\n",
        "                    else:\n",
        "                        if queue[popped_idx] < queue[right_child_idx]:\n",
        "                            queue[popped_idx], queue[right_child_idx] = queue[right_child_idx], queue[popped_idx]\n",
        "                            popped_idx = right_child_idx\n",
        "                        else:\n",
        "                            break\n",
        "\n",
        "    else:\n",
        "        if len(queue) == 1:\n",
        "            queue.append(t)\n",
        "\n",
        "        else:\n",
        "            queue.append(t)\n",
        "            insert_idx = len(queue) - 1\n",
        "\n",
        "            while True:\n",
        "                parent_idx = insert_idx // 2\n",
        "\n",
        "                if insert_idx <= 1:\n",
        "                    break              \n",
        "\n",
        "                if queue[parent_idx] >= queue[insert_idx]:\n",
        "                    break\n",
        "\n",
        "                queue[parent_idx], queue[insert_idx] = queue[insert_idx], queue[parent_idx]\n",
        "                insert_idx = parent_idx"
      ],
      "execution_count": null,
      "outputs": []
    },
    {
      "cell_type": "markdown",
      "metadata": {
        "id": "dvilZylEEd8J"
      },
      "source": [
        "####  (최소 힙)1927번"
      ]
    },
    {
      "cell_type": "code",
      "metadata": {
        "colab": {
          "base_uri": "https://localhost:8080/"
        },
        "id": "PLRBRMchEd8J",
        "outputId": "ecef35aa-be7d-4c62-815a-d35d003f592a"
      },
      "source": [
        "import sys\n",
        "\n",
        "n = int(sys.stdin.readline())\n",
        "\n",
        "queue = [None]\n",
        "for _ in range(n):\n",
        "    t = int(sys.stdin.readline())\n",
        "\n",
        "    if not t:\n",
        "        if len(queue) == 1:\n",
        "            print(0)\n",
        "        else:\n",
        "            print(queue[1])\n",
        "            popped_idx = 1\n",
        "            queue[1] = queue[-1]            \n",
        "            queue.pop()\n",
        "\n",
        "            while True:\n",
        "                left_child_idx = popped_idx * 2\n",
        "                right_child_idx = popped_idx * 2 + 1\n",
        "\n",
        "                if left_child_idx >= len(queue):\n",
        "                    break\n",
        "\n",
        "                elif right_child_idx >= len(queue):\n",
        "                    if queue[popped_idx] > queue[left_child_idx]:\n",
        "                        queue[popped_idx], queue[left_child_idx] = queue[left_child_idx], queue[popped_idx]\n",
        "                        popped_idx = left_child_idx\n",
        "                    else:\n",
        "                        break\n",
        "                else:\n",
        "                    if queue[left_child_idx] < queue[right_child_idx]:\n",
        "                        if queue[popped_idx] > queue[left_child_idx]:\n",
        "                            queue[popped_idx], queue[left_child_idx] = queue[left_child_idx], queue[popped_idx]\n",
        "                            popped_idx = left_child_idx\n",
        "                        else:\n",
        "                            break\n",
        "                    else:\n",
        "                        if queue[popped_idx] > queue[right_child_idx]:\n",
        "                            queue[popped_idx], queue[right_child_idx] = queue[right_child_idx], queue[popped_idx]\n",
        "                            popped_idx = right_child_idx\n",
        "                        else:\n",
        "                            break\n",
        "\n",
        "    else:\n",
        "        if len(queue) == 1:\n",
        "            queue.append(t)\n",
        "\n",
        "        else:\n",
        "            queue.append(t)\n",
        "            insert_idx = len(queue) - 1\n",
        "\n",
        "            while True:\n",
        "                parent_idx = insert_idx // 2\n",
        "\n",
        "                if insert_idx <= 1:\n",
        "                    break              \n",
        "\n",
        "                if queue[parent_idx] <= queue[insert_idx]:\n",
        "                    break\n",
        "\n",
        "                queue[parent_idx], queue[insert_idx] = queue[insert_idx], queue[parent_idx]\n",
        "                insert_idx = parent_idx"
      ],
      "execution_count": null,
      "outputs": [
        {
          "output_type": "stream",
          "name": "stdout",
          "text": [
            "[1, 2]\n"
          ]
        }
      ]
    },
    {
      "cell_type": "markdown",
      "metadata": {
        "id": "mN7qeEYqEeOw"
      },
      "source": [
        "####  11286번"
      ]
    },
    {
      "cell_type": "code",
      "metadata": {
        "id": "lZgm01QJEeOx"
      },
      "source": [
        "import sys\n",
        "\n",
        "n = int(sys.stdin.readline())\n",
        "#n = int(input())\n",
        "\n",
        "queue = [None]\n",
        "for _ in range(n):\n",
        "    t = int(sys.stdin.readline())\n",
        "    #t = int(input())\n",
        "    \n",
        "    #print(queue)\n",
        "    if not t: # 입력 받은 값이 0일 떄\n",
        "        if len(queue) == 1: # queue가 빈공간이면\n",
        "            print(0)\n",
        "        else: # queue가 빈 공간이 아닐 때\n",
        "            print(queue[1])\n",
        "            popped_idx = 1\n",
        "            queue[1] = queue[-1]            \n",
        "            queue.pop()\n",
        "\n",
        "            while True:\n",
        "                left_child_idx = popped_idx * 2 # 왼쪽 자식 idx\n",
        "                right_child_idx = popped_idx * 2 + 1 # 오른쪽 자식 idx\n",
        "\n",
        "                if left_child_idx >= len(queue): # 왼쪽 자식 노드가 없으면\n",
        "                    break # 종료\n",
        "\n",
        "                elif right_child_idx >= len(queue): # 왼쪽 자식 노드만 있는 경우\n",
        "                    if abs(queue[popped_idx]) > abs(queue[left_child_idx]): # 왼쪽 자식의 절댓값이 작은경우\n",
        "                        queue[popped_idx], queue[left_child_idx] = queue[left_child_idx], queue[popped_idx]\n",
        "                        popped_idx = left_child_idx\n",
        "\n",
        "                    elif abs(queue[popped_idx]) == abs(queue[left_child_idx]) and queue[popped_idx] > queue[left_child_idx]: # 왼쪽 자식과 절댓값이 같은 경우\n",
        "                        queue[popped_idx], queue[left_child_idx] = queue[left_child_idx], queue[popped_idx]\n",
        "                        popped_idx = left_child_idx\n",
        "\n",
        "                    else: # 왼쪽 자식의 절댓값이 큰 경우\n",
        "                        break\n",
        "\n",
        "                else: # 왼쪽, 오른쪽 자식 노드가 모두 있는경우\n",
        "                    if abs(queue[left_child_idx]) < abs(queue[right_child_idx]): # 왼쪽 노드의 절댓값이 오른쪽 보다 작은 경우\n",
        "                        if abs(queue[popped_idx]) > abs(queue[left_child_idx]): # popped_idx의 왼쪽 자식 노드의 절댓값이 더 작은 경우\n",
        "                            queue[popped_idx], queue[left_child_idx] = queue[left_child_idx], queue[popped_idx]\n",
        "                            popped_idx = left_child_idx\n",
        "                        elif abs(queue[popped_idx]) == abs(queue[left_child_idx]) and queue[left_child_idx ] < queue[popped_idx]: # popped_idx와 왼쪽 자식 노드의 절댓값이 같은 경우\n",
        "                            queue[popped_idx], queue[left_child_idx] = queue[left_child_idx], queue[popped_idx]\n",
        "                            popped_idx = left_child_idx\n",
        "                        else:\n",
        "                            break\n",
        "\n",
        "                    elif abs(queue[left_child_idx]) == abs(queue[right_child_idx]) and queue[left_child_idx] < queue[right_child_idx]: # 왼쪽과 오른쪽 자식 노드의 절댓값이 같은경우\n",
        "                        if abs(queue[popped_idx]) > abs(queue[left_child_idx]): # popped_idx의 왼쪽 자식 노드의 절댓값이 더 작은 경우\n",
        "                            queue[popped_idx], queue[left_child_idx] = queue[left_child_idx], queue[popped_idx]\n",
        "                            popped_idx = left_child_idx\n",
        "                        elif abs(queue[popped_idx]) == abs(queue[left_child_idx]) and queue[left_child_idx ] < queue[popped_idx]: # popped_idx와 왼쪽 자식 노드의 절댓값이 같은 경우\n",
        "                            queue[popped_idx], queue[left_child_idx] = queue[left_child_idx], queue[popped_idx]\n",
        "                            popped_idx = left_child_idx\n",
        "                        else:\n",
        "                            break\n",
        "    \n",
        "                    else: # 오른쪽 자식 노드의 절댓값이 큰 경우\n",
        "                        if abs(queue[popped_idx]) > abs(queue[right_child_idx]): # popped_idx의 오른쪽 자식 노드의 절댓값이 더 작은 경우\n",
        "                            queue[popped_idx], queue[right_child_idx] = queue[right_child_idx], queue[popped_idx]\n",
        "                            popped_idx = right_child_idx\n",
        "                        elif abs(queue[popped_idx]) == abs(queue[right_child_idx]) and queue[right_child_idx ] < queue[popped_idx]: # popped_idx와 오른쪽 자식 노드의 절댓값이 같은 경우\n",
        "                            queue[popped_idx], queue[right_child_idx] = queue[right_child_idx], queue[popped_idx]\n",
        "                            popped_idx = right_child_idx\n",
        "                        else:\n",
        "                            break\n",
        "\n",
        "    else: # insert(t)\n",
        "        if len(queue) == 1: # queue의 값이 없을 때\n",
        "            queue.append(t)\n",
        "\n",
        "        else: # queue에 값이 있을 때\n",
        "            queue.append(t)\n",
        "            insert_idx = len(queue) - 1\n",
        "\n",
        "            while True:\n",
        "                parent_idx = insert_idx // 2 # 부모 idx\n",
        "\n",
        "                if insert_idx <= 1: # indert_id가 1번째 시드에 있으면\n",
        "                    break              \n",
        "\n",
        "                if abs(queue[parent_idx]) > abs(queue[insert_idx]): # 입력 idx의 부모보다 절댓값이 작으면\n",
        "                    queue[parent_idx], queue[insert_idx] = queue[insert_idx], queue[parent_idx]\n",
        "                    insert_idx = parent_idx\n",
        "                elif abs(queue[parent_idx]) == abs(queue[insert_idx]) and queue[parent_idx] > queue[insert_idx]: # 입력 idx의 부모보다 절댓값이 같을 때\n",
        "                    queue[parent_idx], queue[insert_idx] = queue[insert_idx], queue[parent_idx]\n",
        "                    insert_idx = parent_idx\n",
        "                else:\n",
        "                    break"
      ],
      "execution_count": null,
      "outputs": []
    },
    {
      "cell_type": "markdown",
      "metadata": {
        "id": "73tjDp6eEeTb"
      },
      "source": [
        "####  (***)1655번 : heapq 모듈 사용 안하고 불가능한가?"
      ]
    },
    {
      "cell_type": "code",
      "metadata": {
        "id": "3692VFQHEeTc"
      },
      "source": [
        "### 힙정렬 시간초과\n",
        "import sys\n",
        "\n",
        "#n = int(sys.stdin.readline())\n",
        "n = int(input())\n",
        "\n",
        "queue = [-10001]\n",
        "queue.append(int(input()))\n",
        "#queue.append(int(sys.stdin.readline()))\n",
        "print(queue[len(queue) // 2])\n",
        "\n",
        "for _ in range(n-1):\n",
        "    #t = int(sys.stdin.readline())\n",
        "    t = int(input())\n",
        "    queue.append(t)\n",
        "    insert_idx = len(queue) - 1\n",
        "\n",
        "    while True:\n",
        "        parent_idx = insert_idx // 2\n",
        "\n",
        "        if queue[parent_idx] <= queue[insert_idx]:\n",
        "            while insert_idx > parent_idx:\n",
        "                if queue[insert_idx] < queue[insert_idx - 1]:\n",
        "                    queue[insert_idx - 1], queue[insert_idx] = queue[insert_idx], queue[insert_idx - 1]\n",
        "                    insert_idx = insert_idx - 1\n",
        "                else:\n",
        "                    break\n",
        "\n",
        "            break\n",
        "        else:\n",
        "            queue[parent_idx], queue[insert_idx] = queue[insert_idx], queue[parent_idx]\n",
        "            \n",
        "            while insert_idx > parent_idx:\n",
        "                if queue[insert_idx] < queue[insert_idx - 1]:\n",
        "                    queue[insert_idx - 1], queue[insert_idx] = queue[insert_idx], queue[insert_idx - 1]\n",
        "                    insert_idx = insert_idx - 1\n",
        "                else:\n",
        "                    break\n",
        "\n",
        "            insert_idx = parent_idx\n",
        "\n",
        "    print('queue : ',queue)\n",
        "    print('ans : ',queue[len(queue) // 2])"
      ],
      "execution_count": null,
      "outputs": []
    },
    {
      "cell_type": "code",
      "source": [
        "import sys, heapq\n",
        "\n",
        "n = int(sys.stdin.readline())\n",
        "\n",
        "left_queue = []\n",
        "right_queue = []\n",
        "\n",
        "for i in range(n):\n",
        "    t = int(sys.stdin.readline())\n",
        "\n",
        "    if i % 2:\n",
        "        heapq.heappush(right_queue, t)\n",
        "    else:\n",
        "        heapq.heappush(left_queue, -t)\n",
        "    \n",
        "    if right_queue and -left_queue[0] > right_queue[0]:\n",
        "        heapq.heappush(right_queue, -heapq.heappop(left_queue))\n",
        "        heapq.heappush(left_queue, -heapq.heappop(right_queue))\n",
        "\n",
        "    print(-left_queue[0])"
      ],
      "metadata": {
        "id": "KhnNbpCg95-1"
      },
      "execution_count": null,
      "outputs": []
    },
    {
      "cell_type": "markdown",
      "metadata": {
        "id": "vUcr9l-QBV2m"
      },
      "source": [
        "### 23단계 : 동적계획법2===========**"
      ]
    },
    {
      "cell_type": "markdown",
      "source": [
        " - dynamic programming의 핵심은 2차원 배열로 만들시 행, 열, 원소를 무엇으로 둘 것인지 잘 고려해 볼것!"
      ],
      "metadata": {
        "id": "UsGHKdG9gExb"
      }
    },
    {
      "cell_type": "markdown",
      "metadata": {
        "id": "HXmexh_cBV2o"
      },
      "source": [
        "####  (*****)11066번"
      ]
    },
    {
      "cell_type": "code",
      "metadata": {
        "id": "WET29noWBV2p"
      },
      "source": [
        "#O(n^3)\n",
        "# bottom up\n",
        "# https://www.youtube.com/watch?v=4OdIDIYLHlY\n",
        "# 어렵다 아직 잘 모르겠음('21.12.15)\n",
        "import sys\n",
        "n = int(input()) # 케이스 변수 입력\n",
        "\n",
        "for _ in range(n): # 케이스 수 만큼 반복\n",
        "    k = int(sys.stdin.readline()) # 횟수 변수 입력\n",
        "    l = list(map(int, sys.stdin.readline().rstrip('\\n').split())) # 리스트 형태로 입력\n",
        "\n",
        "    dp = [[False] * (k) for _ in range(k)] # 2차 행렬 생성\n",
        "    \n",
        "    for j in range(1,k): # 각 열 오름차순 진행\n",
        "        for i in range(j-1,-1,-1): # 각 행 내림차순 진행\n",
        "            small = float('inf') # inf 값 입력\n",
        "            for q in range(j-i): # i행의 q번째(왼쪽에서부터)\n",
        "                                 # j열의 q+1번째(위에서부터)\n",
        "\n",
        "                small = min(small, # 이전 값\n",
        "                            dp[i][i+q] + dp[i+q+1][j]) \n",
        "                            # i,j 행,열 이라면,\n",
        "                            # i행의 q번째 값과, j열의 q+1번째 값의 합\n",
        "\n",
        "            dp[i][j] = small + sum(l[i:j+1]) # small 값 +\n",
        "                                             # 해당 집합의 합\n",
        "            \n",
        "    print(dp[0][k-1]) # 결과 값 출력"
      ],
      "execution_count": null,
      "outputs": []
    },
    {
      "cell_type": "markdown",
      "metadata": {
        "id": "rh9vFZIYBfGW"
      },
      "source": [
        "####  11049번"
      ]
    },
    {
      "cell_type": "code",
      "metadata": {
        "id": "c_cu5uUnBfGX"
      },
      "source": [
        "# pypy3로 진행\n",
        "\n",
        "k = int(input()) # 횟수 변수 입력\n",
        "\n",
        "l = []\n",
        "for _ in range(k): \n",
        "    l.append(list(map(int, input().split()))) # 리스트 형태로 추가\n",
        "\n",
        "dp = [[False] * k for _ in range(k)] # 2차 행렬 생성\n",
        "for j in range(1,k):                 # 각 열 오름차순 진행\n",
        "    for i in range(j-1,-1,-1):       # 각 행 내림차순 진행\n",
        "        dp[i][j] = float('inf')      # inf 값 입력\n",
        "        for q in range(j-i):         # i행의 q번째(왼쪽에서부터), j열의 q+1번째(위에서부터)\n",
        "        \n",
        "            dp[i][j] = min(dp[i][j], # 이전 값\n",
        "                           dp[i][i+q] + dp[i+q+1][j] + l[i][0] * l[i+q][1] * l[j][1])\n",
        "                           # 이전 dp들의 합과 \n",
        "                           # i번째 행렬의 앞부분 *\n",
        "                           # i행의 q번째 값의 뒷부분 * \n",
        "                           # j번째 행렬의 뒷부분\n",
        "        \n",
        "print(dp[0][k-1])          # 결과 출력\n",
        "'''\n",
        "[False,    30,    90,    96]\n",
        "[False, False,    36,    54]\n",
        "[False, False, False,    36]\n",
        "[False, False, False, False]\n",
        "'''"
      ],
      "execution_count": null,
      "outputs": []
    },
    {
      "cell_type": "markdown",
      "metadata": {
        "id": "mojqkuQlBfMe"
      },
      "source": [
        "####  1520번"
      ]
    },
    {
      "cell_type": "code",
      "metadata": {
        "id": "1wrgab6JBfMe"
      },
      "source": [
        "import sys\n",
        "\n",
        "sys.setrecursionlimit(1000000000)   # 없으면 재귀 깊이 오류\n",
        "n, m = map(int, input().split())    # 행과 열의 개수 입력\n",
        "\n",
        "l = []                                          # 지도 리스트 생성\n",
        "for _ in range(n):                              # 행만큼 반복\n",
        "    l.append(list(map(int, input().split())))   # 지도 배열 입력\n",
        "\n",
        "res = [[-1] * m for _ in range(n)]              # n x m 배열 생성\n",
        "res[-1][-1] = 1                                 # top-down 형식을 위한 목표 지점 설정\n",
        "\n",
        "def can(i,j):                                   # 갈 수 있는 지 여부\n",
        "    if i < 0 or j < 0 or i >= n or j >= m:      # i와 j가 배열을 벗어나면\n",
        "        return False                            # False return\n",
        "    else:                                       # 배열 안에 있으면\n",
        "        return True                             # True return\n",
        "\n",
        "def find(i,j):                                  # DFS형식의 재귀 함수 정의\n",
        "    if res[i][j] != -1:                         # i, j 배열 원소가 -1이 아니면\n",
        "        return res[i][j]                        # 해당 값 return\n",
        "\n",
        "    res[i][j] = 0                               # -1이면 배열 원소 0으로 \n",
        "\n",
        "    for x, y in[(0,1),(1,0),(0,-1),(-1,0)]:     # 하, 우, 상, 좌의 순으로 반복 \n",
        "        if can(i+x,j+y):                        # 해당 방향으로 갈 수 있는 지 여부 판단\n",
        "            if l[i][j] > l[i+x][j+y]:           # 지도에서 해당 방향으로 값이 내려가는 지 판단\n",
        "                res[i][j] += find(i+x, j+y)     # i, j 배열 원소에 해당 방향에 해당 하는 값 추가\n",
        "\n",
        "    return res[i][j]                            # 시작 지점 배열 원소 return\n",
        "\n",
        "print(find(0,0))                                # 0,0에서 시작하는 find함수 실행"
      ],
      "execution_count": null,
      "outputs": []
    },
    {
      "cell_type": "markdown",
      "metadata": {
        "id": "ZZhvFpbMBfQ5"
      },
      "source": [
        "#### 10942번"
      ]
    },
    {
      "cell_type": "code",
      "metadata": {
        "id": "6aZjr4sfBfQ5"
      },
      "source": [
        "# 팰린드롬 - 역순으로 읽어도 똑같을 때\n",
        "import sys\n",
        "\n",
        "n = int(input())                            # 수열의 크기 입력\n",
        "l = list(map(int, input().split()))         # 수열 입력\n",
        "\n",
        "dp = [[1]*n for _ in range(n)]              # n x n 크기의 2차원 배열 생성\n",
        "for j in range(1,n):                        # 열 1번부터 진행\n",
        "    for i in range(j-1,-1,-1):              # 행을 열의 크기 - 1 부터 내림차순 진행\n",
        "        if l[i] == l[j] and dp[i+1][j-1]:   # 양 끝 l[i], l[j]가 같고, 그 사이의 값이 펠린드 롬이면\n",
        "            continue                        # continue\n",
        "        dp[i][j] = 0                        # 아니라면 펠린드롬이 아니기 때문에 0으로 업데이트\n",
        "\n",
        "m = int(input())        # 질문의 개수 입력\n",
        "for _ in range(m):      # 질문의 개수 만큼 반복\n",
        "    s, e = map(int, sys.stdin.readline().rstrip('\\n').split())  # 시작과 끝 지점 입력\n",
        "    print(dp[s-1][e-1])                                         # dp에서 해당 지점 출력"
      ],
      "execution_count": null,
      "outputs": []
    },
    {
      "cell_type": "markdown",
      "metadata": {
        "id": "UqLzpclrBfVJ"
      },
      "source": [
        "####  (***)2629번"
      ]
    },
    {
      "cell_type": "code",
      "metadata": {
        "id": "EqURMFb1BfVK"
      },
      "source": [
        "# https://blog.naver.com/cwyoo01/222608971611\n",
        "import sys\n",
        "\n",
        "n = int(sys.stdin.readline().rstrip('\\n'))                      # 변수 입력\n",
        "l = list(map(int, sys.stdin.readline().rstrip('\\n').split()))   # \n",
        "\n",
        "m = int(sys.stdin.readline().rstrip('\\n'))                      #\n",
        "s = list(map(int, sys.stdin.readline().rstrip('\\n').split()))   #\n",
        "\n",
        "dp = [[False]*40001 for _ in range(n+1)]    # 추 추가 횟수, 무게의 2차 배열 생성\n",
        "ans = [False]*40001                         # 확인 가능한 무게 목록 생성\n",
        "\n",
        "def find(left, right, i):                   # 재귀 함수 생성\n",
        "    global ans, dp                          # 전역 변수 지정\n",
        "\n",
        "    diff = abs(left - right)                # 왼쪽과 오른쪽 저울의 차이\n",
        "    ans[diff] = True                        # 차이 만큼 구슬의 무게를 확인 가능\n",
        "\n",
        "    if i == n:                              # 추가한 추의 횟수가 최대값이면\n",
        "        return                              # 재귀 종료\n",
        "\n",
        "    if not dp[i][diff]:                     # 방문 여부\n",
        "        find(left + l[i], right, i + 1)     # 왼쪽 저울에 추를 올린 경우\n",
        "        find(left, right + l[i], i + 1)     # 오른쪽 저울에 추를 올린 경우\n",
        "        find(left, right, i + 1)            # 추를 올리지 않은 경우\n",
        "        dp[i][diff] = True                  # 방문 표시\n",
        "    \n",
        "find(0,0,0)                                 # 재귀 실행\n",
        "\n",
        "for i in s:                                 # 무게 확인\n",
        "    if ans[i]:                              # 해당 무게가 확인 가능하면\n",
        "        print('Y',end=' ')\n",
        "    else:\n",
        "        print('N',end=' ') \n"
      ],
      "execution_count": null,
      "outputs": []
    },
    {
      "cell_type": "markdown",
      "metadata": {
        "id": "t2tEp1nNBfZp"
      },
      "source": [
        "####  (*)2293번"
      ]
    },
    {
      "cell_type": "code",
      "metadata": {
        "id": "rGOUdWM1BfZp"
      },
      "source": [
        "### https://mong9data.tistory.com/68\n",
        "n, k = map(int, input().split())        # n개의 동전과 가치의 합 k 입력\n",
        "l = [int(input()) for _ in range(n)]    # n개의 동전 입력\n",
        "\n",
        "dp = [False] * (k+1)                    # k+1의 가치 합 리스트 생성\n",
        "dp[0] = 1                               # 동전 하나만 사용하는 경우를 위해 1 할당\n",
        "\n",
        "for i in range(n):                      # i번째까지 동전들을 사용\n",
        "    for j in range(l[i], k+1):          # i번째 동전의 가치부터 배열의 끝까지 진행 \n",
        "        if j-l[i] > -1:                 # i번째 동전의 가치이상 부터 진행\n",
        "            dp[j] += dp[j-l[i]]         # i-1번째까지의 동전들을 사용한 경우의 수와 \n",
        "                                        # (j가치 - i번째 동전의 가치)의 경우의 수를 더함\n",
        "                                        # bc. (j - i번째 동전의 가치) + i번째 동전의 가치 = j\n",
        "\n",
        "print(dp[-1])                           # 경우의 수 출력"
      ],
      "execution_count": null,
      "outputs": []
    },
    {
      "cell_type": "markdown",
      "metadata": {
        "id": "fDV6tkrLBfeE"
      },
      "source": [
        "####  7579번"
      ]
    },
    {
      "cell_type": "code",
      "metadata": {
        "id": "bYJjc5QVBfeF"
      },
      "source": [
        "# curr[j] = max(prev[j], curr[j])에서\n",
        "# 현재값도 같이 비교해야 하는 부분을 찾느라 2시간이 더 걸림. => 오류 찾는 연습을 더 할 것.\n",
        "\n",
        "n, m = map(int, input().split())    # n개의 앱, m의 바이트 확보\n",
        "l = list(map(int, input().split())) # 메모리 바이트 수\n",
        "c = list(map(int, input().split())) # 다시 실행 할 때의 비용\n",
        "\n",
        "t = sum(c)                          # 비용의 최대 합\n",
        "\n",
        "prev = [-1 for _ in range(t+1)]     # 이전 dp\n",
        "curr = [-1 for _ in range(t+1)]     # 현재 dp\n",
        "prev[0] = 0                         # 시작은 0으로 시작\n",
        "\n",
        "for i in range(n):                                              # n개의 앱 수 만큼 반복\n",
        "    for j in range(t+1):                                        # 0부터 비용의 최대 합 까지 반복\n",
        "        if prev[j] >= 0:                                        # 이전 j 비용에 값이 들어있으면\n",
        "            curr[j] = max(prev[j], curr[j])                     # j번째 비용 업데이트(i번째 앱을 제거하지 않는다는 가정)\n",
        "            curr[j+c[i]] = max(prev[j+c[i]], prev[j] + l[i])    # j번째 + i번째 앱의 비용 업데이트(i번째 앱을 제거 한다는 가정)\n",
        "\n",
        "    prev, curr = curr, prev                                     # 이전과 현재의 dp 변경\n",
        "\n",
        "for i in range(t+1):                # 0부터 비용의 초대 합 까지 반복\n",
        "    if prev[i] >= m:                # 변경된 마지막 dp의 i번째 원소가 m 보다 크거나 같으면\n",
        "        print(i)                    # i를 출력하고 종료\n",
        "        break\n"
      ],
      "execution_count": null,
      "outputs": []
    },
    {
      "cell_type": "markdown",
      "metadata": {
        "id": "PkFTWJFFBZxw"
      },
      "source": [
        "### 24단계 : DFS와 BFS===========**\n",
        "    sys.setrecursionlimit(1000000000)"
      ]
    },
    {
      "cell_type": "markdown",
      "metadata": {
        "id": "TnrDs0kMBZxw"
      },
      "source": [
        "####  1260번"
      ]
    },
    {
      "cell_type": "code",
      "metadata": {
        "id": "VdZ0HlHIBZxx"
      },
      "source": [
        "n, m, v = map(int, input().split())\n",
        "\n",
        "dfs_vertex = [True] + [False] * n\n",
        "bfs_vertex = [True] + [False] * n\n",
        "\n",
        "dfs_result = []\n",
        "bfs_result = []\n",
        "\n",
        "node = [[] for _ in range(10001)]\n",
        "\n",
        "for _ in range(m):\n",
        "    a, b = map(int, input().split())\n",
        "    node[a].append(b)\n",
        "    node[b].append(a)\n",
        "\n",
        "for i in range(m):\n",
        "    node[i].sort()\n",
        "\n",
        "def DFS(v): # stack형태\n",
        "    global dfs_vertex\n",
        "\n",
        "    dfs_vertex[v] = True\n",
        "    dfs_result.append(v)\n",
        "\n",
        "    if dfs_vertex == [True] * (n + 1):\n",
        "        return\n",
        "    \n",
        "    for i in node[v]:\n",
        "        if dfs_vertex[i]:\n",
        "            continue\n",
        "        else:\n",
        "            DFS(i) \n",
        "\n",
        "def BFS(queue, v): # queue 형태\n",
        "    global bfs_vertex\n",
        "    \n",
        "    queue.append(v)\n",
        "    bfs_result.append(v)\n",
        "    bfs_vertex[v] = True\n",
        "\n",
        "    while True:\n",
        "        if queue == []:\n",
        "            break\n",
        "        \n",
        "        t = queue.pop(0)\n",
        "        for i in node[t]:\n",
        "            if not bfs_vertex[i]:\n",
        "                queue.append(i)\n",
        "                bfs_result.append(i)\n",
        "                bfs_vertex[i] = True    \n",
        "\n",
        "DFS(v)\n",
        "BFS([],v)\n",
        "\n",
        "print(*dfs_result)\n",
        "print(*bfs_result)"
      ],
      "execution_count": null,
      "outputs": []
    },
    {
      "cell_type": "markdown",
      "metadata": {
        "id": "Xc2rVYZ1DWAq"
      },
      "source": [
        "####  2606번"
      ]
    },
    {
      "cell_type": "code",
      "metadata": {
        "id": "NcsffSumDWAy"
      },
      "source": [
        "n = int(input())                        # 컴퓨터 수 입력\n",
        "c = int(input())                        # 연결된 컴퓨터 쌍의 수 입력\n",
        "\n",
        "visited = [False] * (n+1)               # 방문 여부 리스트 생성\n",
        "node = [[] for _ in range(n+1)]         # Adjacenct Lists in Lists 생성\n",
        "\n",
        "for _ in range(c):                      # 입력 횟수 만큼 반복\n",
        "    a, b = map(int, input().split())    # vertex 입력\n",
        "    node[a].append(b)                   # 해당 vertex에 연결된 vertex 삽입\n",
        "    node[b].append(a)                   # 위와 동일\n",
        "\n",
        "def dfs(x):                             # DFS\n",
        "    if visited[x]:                      # 방문여부 확인\n",
        "        return                          # 방문시 재귀 종료\n",
        "\n",
        "    visited[x] = True                   # 방문 여부 업데이트\n",
        "    for i in node[x]:                   # 해당 vertex와 연결된 vertex들\n",
        "        dfs(i)                          # 연결된 vertex에 방문\n",
        "\n",
        "dfs(1)                  # 1번 컴퓨터로부터 dfs 실행\n",
        "visited[1] = False      # 1번 컴퓨터는 count에서 제외\n",
        "print(sum(visited))     # 방문한 vertex들 count"
      ],
      "execution_count": null,
      "outputs": []
    },
    {
      "cell_type": "markdown",
      "metadata": {
        "id": "_jfJBLzSDWEK"
      },
      "source": [
        "####  2667번"
      ]
    },
    {
      "cell_type": "code",
      "metadata": {
        "id": "2423R-7gDWEK"
      },
      "source": [
        "n = int(input())                                            # 지도의 크기 입력\n",
        "    \n",
        "m = []                                                      # 지도 배열 생성\n",
        "for _ in range(n):                                          # n번 반복\n",
        "    m.append(list(map(int, '\\n'.join(input()).split() )) )  # 지도 배열 입력\n",
        "                                                            # (문자로 그대로 받으면 '0' 이 True로 나와 오류 찾는데 애먹음)\n",
        "\n",
        "visited = [[False]*n for _ in range(n)]                     # 방문 여부 배열 생성\n",
        "\n",
        "t = []                                                      # 결과 리스트 생성\n",
        "\n",
        "def dfs(i,j):                                               # dfs 함수 생성\n",
        "    global visited, cnt                                     # 전역변수 지정\n",
        "    \n",
        "    visited[i][j] = True                                    # i, j 요소 방문 표시\n",
        "    cnt += 1                                                # 단지내 집 수 + 1\n",
        "\n",
        "    for x, y in ([-1,0], [1,0], [0,1], [0,-1]):             # 상, 하, 좌, 우 방문\n",
        "        if 0 <= i+x and i+x < n and 0 <= j+y and j+y < n:   # 배열의 크기를 안 벗어나고\n",
        "            if m[i+x][j+y] and not visited[i+x][j+y]:       # 해당 방향 방문한 요소가 1이고, 방문하지 않았다면\n",
        "                dfs(i+x, j+y)                               # dfs 진행\n",
        "\n",
        "for i in range(n):                          # n번 반복\n",
        "    for j in range(n):                      # n번 반복\n",
        "        if not m[i][j] or visited[i][j]:    # i, j배열의 지도 원소가 0이거나 방문했으면\n",
        "            continue                        # 넘어감\n",
        "        \n",
        "        cnt = 0                             # 단지내 집 수\n",
        "        dfs(i,j)                            # dfs 진행\n",
        "\n",
        "        if cnt:                             # 단지내 집 수가 1 이상이면\n",
        "            t.append(cnt)                   # 결과 리스트에 추가\n",
        "\n",
        "print(len(t))                               # 단지의 수 출력\n",
        "t.sort(reverse=False)                       # 오름차순 진행 \n",
        "for i in t:                                 # 단지내 집 수 각각 출력\n",
        "    print(i)"
      ],
      "execution_count": null,
      "outputs": []
    },
    {
      "cell_type": "markdown",
      "metadata": {
        "id": "oPD8cNOfDWHz"
      },
      "source": [
        "####  1012번"
      ]
    },
    {
      "cell_type": "code",
      "metadata": {
        "id": "EDNpnlLkDWH3"
      },
      "source": [
        "import sys\n",
        "sys.setrecursionlimit(1000000000)               # 없으면 RecursionError\n",
        "t = int(input())                                # 테스트 수 입력\n",
        "\n",
        "for _ in range(t):                              # 테스트 수 만큼 반복\n",
        "    m, n, k = map(int, input().split())         # 땅의 가로, 세로 크기 및 배추의 수 입력\n",
        "\n",
        "    M = [[False]*m for _ in range(n)]           # 땅 배열 생성\n",
        "    visited = [[False]*m for _ in range(n)]     # 방문 여부 배열 생성\n",
        "\n",
        "    for _ in range(k):                          # 배추의 수 만큼 반복\n",
        "        x, y = map(int, input().split())        # 가로축 세로축 입력\n",
        "        M[y][x] = True                          # 배추의 위치 입력\n",
        "\n",
        "    t = 0                                       # 배추벌레의 수 변수 생성\n",
        "\n",
        "    def dfs(i,j):                                               # dfs 함수 생성\n",
        "        global visited, cnt                                     # 전역변수 지정\n",
        "    \n",
        "        visited[i][j] = True                                    # i, j 요소 방문 표시\n",
        "        cnt = True                                               # 단지내 집 수 + 1\n",
        "\n",
        "        for a, b in ([-1,0], [1,0], [0,1], [0,-1]):             # 상, 하, 좌, 우 방문\n",
        "            if 0 <= i+a and i+a < n and 0 <= j+b and j+b < m:   # 배열의 크기를 안 벗어나고\n",
        "                if M[i+a][j+b] and not visited[i+a][j+b]:       # 해당 방향 방문한 요소가 1이고, 방문하지 않았다면\n",
        "                    dfs(i+a, j+b)                               # dfs 진행\n",
        "\n",
        "    for i in range(n):                          # n번 반복\n",
        "        for j in range(m):                      # m번 반복\n",
        "            if not M[i][j] or visited[i][j]:    # i, j 배열의 땅 원소가 False 이거나 방문했으면\n",
        "                continue                        # 넘어감\n",
        "            \n",
        "            cnt = False                         # 배추들 모여있는 지 여부\n",
        "            dfs(i,j)                            # dfs 진행\n",
        "\n",
        "            if cnt:                             # 배추들이 모여있는 그룹이면\n",
        "                t += 1                          # 배추벌레의 수 + 1\n",
        "    \n",
        "    print(t)"
      ],
      "execution_count": null,
      "outputs": []
    },
    {
      "cell_type": "markdown",
      "metadata": {
        "id": "gtmge-G6DWK4"
      },
      "source": [
        "####  2178번"
      ]
    },
    {
      "cell_type": "code",
      "metadata": {
        "id": "7FSKT5VZDWK4"
      },
      "source": [
        "import sys                                      # 필요 모듈 import\n",
        "n, m = map(int, input().split())                # 배열의 크기 입력\n",
        "\n",
        "s = []                                          # 배열 변수 지정\n",
        "for _ in range(n):                              # 배열의 행만큼 반복\n",
        "    s.append(sys.stdin.readline().rstrip('\\n')) # 배열 입력\n",
        "\n",
        "visited = [[False] * m for _ in range(n)]       # 방문 여부 배열 생성\n",
        "\n",
        "def bfs(v, t):                                  # 너비우선탐색 진행(queue 형태) \n",
        "    queue = []                                  # queue를 리스트로 생성\n",
        "    queue.append(v)                             # queue에 시작 지점 append\n",
        "    visited[v[0]][v[1]] = True                  # 시작 지점 방문 표시\n",
        "\n",
        "    while True:                                 # 무한 반복\n",
        "        if queue == [] or [n-1, m-1] in queue:  # 더이상 갈 곳이 없거나 종료지점에 도달했으면\n",
        "            break                               # 무한 반복 종료\n",
        "\n",
        "        t += 1                                  # 거리 변수 + 1\n",
        "        for _ in range(len(queue)):             # 해당 거리에 있는 위치의 개수만큼 반복\n",
        "            popped = queue.pop(0)               # queue에서 맨 앞에 요소 제거\n",
        "            i, j = popped[0], popped[1]         # 방출된 요소 unpacking\n",
        "\n",
        "            for a, b in ([-1, 0], [1, 0], [0, 1], [0, -1]):             # 상, 하, 좌, 우 방향으로 진행\n",
        "                if 0 <= i+a and i+a < n and 0 <= j+b and j+b < m:       # 해당 방향 요소가 배열 안에있고\n",
        "                    if s[i+a][j+b] == '1' and not visited[i+a][j+b]:    # 길인 '1' 이고 방문하지 않았다면\n",
        "                        queue.append([i+a, j+b])                        # 해당 방향 위치를 queue에 append\n",
        "                        visited[i+a][j+b] = True                        # 해당 방향 방문 표시\n",
        "\n",
        "    return t                                                            # 거리 return(즉, 깊이 반환)\n",
        "\n",
        "\n",
        "print(bfs([0, 0], 1))                                                   # bfs 진행"
      ],
      "execution_count": null,
      "outputs": []
    },
    {
      "cell_type": "markdown",
      "metadata": {
        "id": "fK1tsdEkDWNs"
      },
      "source": [
        "####  7576번"
      ]
    },
    {
      "cell_type": "code",
      "metadata": {
        "id": "Uw2SWryEDWNt"
      },
      "source": [
        "import sys\n",
        "n, m = map(int, input().split())\n",
        "\n",
        "s = []\n",
        "for _ in range(m):\n",
        "    s.append(list(map(int, sys.stdin.readline().rstrip('\\n').split())))\n",
        "    #s.append(list(map(int, input().split())))\n",
        "\n",
        "visited = [[False] * n for _ in range(m)]\n",
        "\n",
        "ripen = []\n",
        "for i in range(m):\n",
        "    for j in range(n):\n",
        "        if s[i][j] == 1:\n",
        "            ripen.append([i,j])\n",
        "            visited[i][j] = True\n",
        "\n",
        "        elif s[i][j] == -1:\n",
        "            visited[i][j] = True\n",
        "        \n",
        "\n",
        "\n",
        "def bfs(queue, t):\n",
        "    f, e = 0, len(queue) #linked list\n",
        "    while True:                                 # 무한 반복\n",
        "        if f >= e:\n",
        "            break                               # 무한 반복 종료\n",
        "\n",
        "        t += 1                                  # 거리 변수 + 1\n",
        "        for _ in range(e - f):             # 해당 거리에 있는 위치의 개수만큼 반복\n",
        "            popped = queue[f]               # queue에서 맨 앞에 요소 제거\n",
        "            i, j = popped[0], popped[1]         # 방출된 요소 unpacking\n",
        "\n",
        "            for a, b in ([-1, 0], [1, 0], [0, 1], [0, -1]):             # 상, 하, 좌, 우 방향으로 진행\n",
        "                if 0 <= i+a and i+a < m and 0 <= j+b and j+b < n:       # 해당 방향 요소가 배열 안에있고\n",
        "                    if not s[i+a][j+b] and not visited[i+a][j+b]:    # 길인 '1' 이고 방문하지 않았다면\n",
        "                        queue.append([i+a, j+b])                        # 해당 방향 위치를 queue에 append\n",
        "                        visited[i+a][j+b] = True\n",
        "                        e += 1                        # 해당 방향 방문 표시\n",
        "            f += 1\n",
        "    return t   \n",
        "\n",
        "res = bfs(ripen, -1)\n",
        "\n",
        "if visited == [[True]*n for _ in range(m)]:\n",
        "    if not res:\n",
        "        print(0)\n",
        "    else:\n",
        "        print(res)\n",
        "\n",
        "else:\n",
        "    print(-1)"
      ],
      "execution_count": null,
      "outputs": []
    },
    {
      "cell_type": "markdown",
      "metadata": {
        "id": "rwkVEu0iBDaO"
      },
      "source": [
        "####  7569번"
      ]
    },
    {
      "cell_type": "code",
      "metadata": {
        "id": "pgWGsQhCBDaU"
      },
      "source": [
        "import sys\n",
        "\n",
        "m, n, h = map(int, input().split())\n",
        "\n",
        "visited = [[[False] * m for _ in range(n)] for _ in range(h)]\n",
        "ripen = []\n",
        "\n",
        "s = [[] for _ in range(h)]\n",
        "for k in range(h):\n",
        "    for i in range(n):\n",
        "        t = list(map(int, sys.stdin.readline().rstrip('\\n').split()))\n",
        "        for j in range(m):\n",
        "            if t[j] == 1:\n",
        "                ripen.append([k, i, j])\n",
        "                visited[k][i][j] = True\n",
        "            elif t[j] == -1:\n",
        "                visited[k][i][j] = True\n",
        "\n",
        "        s[k].append(t)\n",
        "\n",
        "\n",
        "def bfs(queue, t):\n",
        "    f, e = 0, len(queue)  # linked list\n",
        "    while True:                                 # 무한 반복\n",
        "        if f >= e:\n",
        "            break                               # 무한 반복 종료\n",
        "        t += 1                                  # 거리 변수 + 1\n",
        "        for _ in range(e - f):             # 해당 거리에 있는 위치의 개수만큼 반복\n",
        "            popped = queue[f]               # queue에서 맨 앞에 요소 제거\n",
        "            # 방출된 요소 unpacking\n",
        "            k, i, j = popped[0], popped[1], popped[2]\n",
        "\n",
        "            # 상, 하, 좌, 우 방향으로 진행\n",
        "\n",
        "            for a, b, c in ([-1, 0, 0], [1, 0, 0], [0, 1, 0], [0, -1, 0], [0, 0, 1], [0, 0, -1]):\n",
        "                if 0 <= k+a and k+a < h and 0 <= i+b and i+b < n and 0 <= j+c and j+c < m:       # 해당 방향 요소가 배열 안에있고\n",
        "                    if not s[k+a][i+b][j+c] and not visited[k+a][i+b][j+c]:    # 길인 '1' 이고 방문하지 않았다면\n",
        "                        # 해당 방향 위치를 queue에 append\n",
        "                        queue.append([k+a, i+b, j+c])\n",
        "                        visited[k+a][i+b][j+c] = True\n",
        "                        e += 1                        # 해당 방향 방문 표시\n",
        "            f += 1\n",
        "\n",
        "    return t\n",
        "\n",
        "\n",
        "res = bfs(ripen, -1)\n",
        "\n",
        "can = True\n",
        "for i in visited:\n",
        "    if not can:\n",
        "        break\n",
        "\n",
        "    for j in i:\n",
        "        if False in j:\n",
        "            can = False\n",
        "            break\n",
        "\n",
        "if can:\n",
        "    if not res:\n",
        "        print(0)\n",
        "    else:\n",
        "        print(res)\n",
        "\n",
        "else:\n",
        "    print(-1)\n"
      ],
      "execution_count": null,
      "outputs": []
    },
    {
      "cell_type": "markdown",
      "metadata": {
        "id": "itMtijYsBFg-"
      },
      "source": [
        "#### "
      ]
    },
    {
      "cell_type": "code",
      "metadata": {
        "id": "ql5N8HwEBFg_"
      },
      "source": [
        ""
      ],
      "execution_count": null,
      "outputs": []
    },
    {
      "cell_type": "markdown",
      "metadata": {
        "id": "7dWbBLClBFkC"
      },
      "source": [
        "#### "
      ]
    },
    {
      "cell_type": "code",
      "metadata": {
        "id": "kBOkkInlBFkC"
      },
      "source": [
        ""
      ],
      "execution_count": null,
      "outputs": []
    },
    {
      "cell_type": "markdown",
      "metadata": {
        "id": "_k8dhUVLBFnC"
      },
      "source": [
        "#### "
      ]
    },
    {
      "cell_type": "code",
      "metadata": {
        "id": "pJrz5PBVBFnC"
      },
      "source": [
        ""
      ],
      "execution_count": null,
      "outputs": []
    },
    {
      "cell_type": "markdown",
      "metadata": {
        "id": "4jMaIQKBBFqM"
      },
      "source": [
        "#### "
      ]
    },
    {
      "cell_type": "code",
      "metadata": {
        "id": "pMbSw3yQBFqM"
      },
      "source": [
        ""
      ],
      "execution_count": null,
      "outputs": []
    },
    {
      "cell_type": "markdown",
      "metadata": {
        "id": "z02YtuKLBZ4I"
      },
      "source": [
        "### 단계 : ===========**"
      ]
    },
    {
      "cell_type": "markdown",
      "metadata": {
        "id": "OgYoF6xMBZ4I"
      },
      "source": [
        "#### "
      ]
    },
    {
      "cell_type": "code",
      "metadata": {
        "id": "ThAug-rvBZ4I"
      },
      "source": [
        ""
      ],
      "execution_count": null,
      "outputs": []
    },
    {
      "cell_type": "markdown",
      "metadata": {
        "id": "oqZ3i95jWOSr"
      },
      "source": [
        "## II. 단계별 풀이 외의 문제"
      ]
    },
    {
      "cell_type": "markdown",
      "metadata": {
        "id": "WzwUHBI4pjsC"
      },
      "source": [
        "#### 1009번"
      ]
    },
    {
      "cell_type": "code",
      "metadata": {
        "id": "_xROWveupjsC"
      },
      "source": [
        "n = int(input())\n",
        "for _ in range(n):\n",
        "    a, b = map(int, input().split())\n",
        "    a = a % 10\n",
        "    x = pow(a,b,10)\n",
        "        \n",
        "    if x == 0:\n",
        "        x = 10\n",
        "    print(x)"
      ],
      "execution_count": null,
      "outputs": []
    },
    {
      "cell_type": "markdown",
      "metadata": {
        "id": "n-jLje1Epjv5"
      },
      "source": [
        "####  (*****)3462번 : 진짜 모르겠따."
      ]
    },
    {
      "cell_type": "code",
      "metadata": {
        "id": "26pkDe62pjv6"
      },
      "source": [
        "#이진 스털링 수\n",
        "#https://blog.naver.com/knoj014/222379888141\n",
        "def stir(n,k):\n",
        "    if n == k:\n",
        "        return 1\n",
        "\n",
        "    if n ==1 and k==1:\n",
        "        return 1\n",
        "    \n",
        "    if n == 0 or k==0:\n",
        "        return 0\n",
        "\n",
        "    if k % 2 ==0:\n",
        "        return (stir(n-1,k-1)) % 2\n",
        "    else:\n",
        "        return (stir(n-1,k) + stir(n-1,k-1)) % 2\n",
        "\n",
        "n = int(input())\n",
        "\n",
        "for _ in range(n):\n",
        "    a, b = map(int, input().split())\n",
        "    stir(a,b)"
      ],
      "execution_count": null,
      "outputs": []
    },
    {
      "cell_type": "markdown",
      "metadata": {
        "id": "kg3C85P2pkCh"
      },
      "source": [
        "#### 10422번"
      ]
    },
    {
      "cell_type": "code",
      "metadata": {
        "id": "1WH5OH7bpkCh"
      },
      "source": [
        "#카탈란 수\n",
        "import math\n",
        "\n",
        "n = int(input())\n",
        "\n",
        "for _ in range(n):\n",
        "    x = int(input())\n",
        "\n",
        "    if x % 2 == 1:\n",
        "        print(0)\n",
        "    else:\n",
        "        x = x // 2\n",
        "        res = math.factorial(2*x) // (math.factorial(x) * math.factorial(x+1))\n",
        "        print(res % 1000000007)"
      ],
      "execution_count": null,
      "outputs": []
    },
    {
      "cell_type": "markdown",
      "metadata": {
        "id": "sDfe3I8SCSLS"
      },
      "source": [
        "####  16395번"
      ]
    },
    {
      "cell_type": "code",
      "metadata": {
        "id": "vep6FGUyCSnz"
      },
      "source": [
        "n, k = map(int, input().split())\n",
        "\n",
        "p = [[0] * 30 for _ in range(30)]\n",
        "p[0][0] = 1\n",
        "\n",
        "for i in range(1,n):\n",
        "    for j in range(i+1):\n",
        "        p[i][j] = p[i-1][j-1] + p[i-1][j]\n",
        "\n",
        "print(p[n-1][k-1])\n",
        "# (n) = (n-1) + (n-1)\n",
        "# (k)   (k-1) + (k)"
      ],
      "execution_count": null,
      "outputs": []
    },
    {
      "cell_type": "markdown",
      "metadata": {
        "id": "LWZV-DNlCUci"
      },
      "source": [
        "#### 15489번"
      ]
    },
    {
      "cell_type": "code",
      "metadata": {
        "id": "e4Z8qZvrCUci"
      },
      "source": [
        "r, c, w = map(int, input().split())\n",
        "\n",
        "p = [[0] * 30 for _ in range(30)]\n",
        "p[0][0] = 1\n",
        "\n",
        "for i in range(1,30):\n",
        "    for j in range(i+1):\n",
        "        p[i][j] = p[i-1][j-1] + p[i-1][j]\n",
        "\n",
        "res = 0\n",
        "\n",
        "for i in range(w): #4\n",
        "    for j in range(i+1):\n",
        "        res += p[r-1+i][c-1+j]\n",
        "        #print(p[r-1+i][c-1+j])\n",
        "\n",
        "print(res)"
      ],
      "execution_count": null,
      "outputs": []
    },
    {
      "cell_type": "markdown",
      "metadata": {
        "id": "JzrdqUwXCVly"
      },
      "source": [
        "####  2986번"
      ]
    },
    {
      "cell_type": "code",
      "metadata": {
        "id": "vRiAEIExCVly"
      },
      "source": [
        "n = int(input())\n",
        "\n",
        "res = 1\n",
        "i = 2\n",
        "while True:\n",
        "    if i * i > n:\n",
        "        break\n",
        "    \n",
        "    if n % i == 0:\n",
        "        res = n // i\n",
        "        break\n",
        "    i += 1\n",
        "    \n",
        "print(n-res)"
      ],
      "execution_count": null,
      "outputs": []
    },
    {
      "cell_type": "markdown",
      "metadata": {
        "id": "9IktNkNQGUUH"
      },
      "source": [
        "####  9475번"
      ]
    },
    {
      "cell_type": "code",
      "metadata": {
        "id": "ze3TnhSQGUUJ"
      },
      "source": [
        "import math\n",
        "from decimal import Decimal #Decimal(math.factorial(16150))\n",
        "\n",
        "n = int(input())\n",
        "\n",
        "for _ in range(n):\n",
        "    k, p, r, c = map(int, input().split())\n",
        "    res = (math.factorial(r) //  (math.factorial(r-c) * math.factorial(c))) * (p ** (r-c))\n",
        "    # / 사용시 부동소수점 값은 파이썬의 경우엔 가수부가 52비트인데 2진수로 52비트 이상의 값이면 맨 위부터 52비트 이하는 다 짤린다\n",
        "    # 그래서 // 사용\n",
        "    print(k,res)"
      ],
      "execution_count": null,
      "outputs": []
    },
    {
      "cell_type": "markdown",
      "metadata": {
        "id": "VOaWDLwIWXJf"
      },
      "source": [
        "####  14920번"
      ]
    },
    {
      "cell_type": "code",
      "metadata": {
        "id": "24_fc4tlWWoO"
      },
      "source": [
        "def p2(n):\n",
        "    t = 1\n",
        "    while n != 1:\n",
        "        if n % 2 == 0:\n",
        "            n /= 2\n",
        "            t += 1\n",
        "        else:\n",
        "            n = 3 * n + 1\n",
        "            t += 1\n",
        "    return int(t)\n",
        " \n",
        "print(p2(int(input())))"
      ],
      "execution_count": null,
      "outputs": []
    },
    {
      "cell_type": "markdown",
      "metadata": {
        "id": "HNMURhhYKntw"
      },
      "source": [
        "#### (***)1786번 : KMP 문제"
      ]
    },
    {
      "cell_type": "code",
      "metadata": {
        "id": "YQVWO7GVKm-a"
      },
      "source": [
        "# -*- coding: utf-8 -*-\n",
        "# UTF-8 encoding when using korean\n",
        "\n",
        "# boyer - mooer 알고리즘\n",
        "t = input()\n",
        "p = input()\n",
        "\n",
        "m = len(p)\n",
        "q = [0] * m\n",
        "\n",
        "k = 0\n",
        "\n",
        "for i in range(1,m):\n",
        "\twhile k > 0 and p[i] != p[k]:\n",
        "\t\tk = q[k-1]\n",
        "\tif p[i] == p[k]:\n",
        "\t\tk += 1\n",
        "\t\tq[i] = k\n",
        "\n",
        "#print(q) #[0,0,0,0,1,2,0]\n",
        "# p # ABCDABD\n",
        "res = []\n",
        "\n",
        "k = 0\n",
        "for i in range(len(t)):\n",
        "\t\n",
        "\twhile k > 0 and t[i] != p[k]:\n",
        "\t\tk = q[k-1]\n",
        "\t\t\n",
        "\tif t[i] == p[k]:\n",
        "\t\tif k == m - 1:\n",
        "\t\t\tres.append(i - m +2)\n",
        "\t\t\tk = q[k]\n",
        "\t\telse:\n",
        "\t\t\tk += 1\n",
        "\n",
        "print(len(res))\n",
        "print(*res)"
      ],
      "execution_count": null,
      "outputs": []
    },
    {
      "cell_type": "markdown",
      "metadata": {
        "id": "Zfx8md_duDzl"
      },
      "source": [
        "####  2038번"
      ]
    },
    {
      "cell_type": "code",
      "metadata": {
        "id": "EQipU5hsuEff"
      },
      "source": [
        "# 모든 k에 대해 f(k)번 등장하는 단조 증가 수열\n",
        "# => k    : 1 2 3 4 5 6 7 8 ~\n",
        "# => f(k) : 1 2 2 3 3 4 4 4 ~\n",
        "# => f(k) 는 단조 증가 수열\n",
        "\n",
        "t = [0] * (10**6) # 10**6 크기의 빈 리스트 생성 => t( f(k) ) = k의 형식\n",
        "# [0, 1, 3, 5, 8, 11, 15, 19, 23, 28, 33, 38, 44, 50, 56, 62, 69, 76, 83, 90, ...\n",
        "\n",
        "t[1] = 1                    # 첫번째 항 \n",
        "t[2] = 3                    # 두번째 항 k가 3보다 작거나 같으면 값이 2\n",
        "t[3] = 5                    # 세번째 항 k가 5보다 작거나 같으면 값이 3\n",
        "\n",
        "re = 1                      # 증가 개수 저장 변수\n",
        "for i in range(4,10**6):    # 리스트 4번째 항부터 시작\n",
        "    for j in range(re,i):   # 증가하는 크기부터\n",
        "        if t[j] < i:        # f(k)보다 k가 작으면\n",
        "            continue\n",
        "        else:        \n",
        "            re = j          # 증가하는 값에  f(k) 값 입력\n",
        "            break\n",
        "\n",
        "    t[i] = t[i-1] + re      # i번째에 i-1번째 값 + 증가 숫자 입력\n",
        "\n",
        "n = int(input())            # n값 입력\n",
        "\t\t\n",
        "for j in range(1,10**6):    # 리스트 크기 만큼 반복\n",
        "    if t[j] >= n:           # t[j]의 값 즉, k값보다 n값이 작거나 같으면\n",
        "        print(j)            # f(k) 출력\n",
        "        break\n",
        "    else:\n",
        "        continue"
      ],
      "execution_count": null,
      "outputs": []
    },
    {
      "cell_type": "markdown",
      "metadata": {
        "id": "BBOyONnAphxq"
      },
      "source": [
        "#### 1075번"
      ]
    },
    {
      "cell_type": "code",
      "metadata": {
        "id": "aOhI8-OPpiEp"
      },
      "source": [
        "n = input()                     # n str형태로 입력\n",
        "n = n[:-2]                      # n의 뒤의 두자리 숫자 빼기\n",
        "\n",
        "f = int(input())                # f값 int 형태로 입력받기\n",
        "\n",
        "for i in range(0,100):          # 두자리 숫자니까 0~99까지\n",
        "    if i < 10:                  # i가 한자리 숫자라면\n",
        "        t = '0' + str(i)        # 앞에 0 추가하기\n",
        "        if int(n + t) % f == 0: # 뒤에 i가 추가된 n이 f로 나누어진다면\n",
        "            break               # 브레이크\n",
        "    else:\n",
        "        t = str(i)              # i가 두자리 이상이면 문자열 그대로 입력\n",
        "        if int(n + t) % f == 0: # i가 추가된 n이 f로 나누어진다면\n",
        "            break               # 브레이크\n",
        "print(t)                        # 뒤에 두자리 숫자 출력"
      ],
      "execution_count": null,
      "outputs": []
    },
    {
      "cell_type": "markdown",
      "metadata": {
        "id": "cwLrxQzg0oRG"
      },
      "source": [
        "#### 1032번"
      ]
    },
    {
      "cell_type": "code",
      "metadata": {
        "id": "qXV3eY2H0oRH"
      },
      "source": [
        "n = int(input())\n",
        "\n",
        "res = ' '.join(input()).split() # 첫번째 문자열을 리스트화\n",
        "t = len(res)                    # 리스트 길이\n",
        "\n",
        "for _ in range(n-1):            # 첫 번째 문자열과 그 이후에 들어오는 문자열 비교\n",
        "    x = input()                 # 그 이후에 들어오는 문자열을 저장\n",
        "    for i in range(t):          # res리스트 길이 만큼 반복\n",
        "        if x[i] != res[i]:      # 각 인덱스의 값이 다른 경우\n",
        "            res[i] = '?'        # '?'삽입\n",
        "\n",
        "for i in res:                   # 결과 값 출력\n",
        "    print(i,end='')"
      ],
      "execution_count": null,
      "outputs": []
    },
    {
      "cell_type": "markdown",
      "metadata": {
        "id": "NOcjjp8g0oUZ"
      },
      "source": [
        "#### 10815번"
      ]
    },
    {
      "cell_type": "code",
      "metadata": {
        "id": "LEEomLIN0oUZ"
      },
      "source": [
        "# 분할 정복\n",
        "n = int(input())                    # 상근이의 카드 개수\n",
        "N = list(map(int, input().split())) # 카드 리스트화\n",
        "N.sort()                            # 상근이 카드 정렬\n",
        "\n",
        "m = int(input())                    # 확인할 카드 개수\n",
        "M = list(map(int, input().split())) # 확인할 카드 리스트\n",
        "\n",
        "for t in M:                         # 확인할 카드 반복\n",
        "    \n",
        "    start = 0                       # 상근이 카드의 처음 인덱스\n",
        "    end = n - 1                     # 상근이 카드의 마지막 인덱스\n",
        "\n",
        "    while True:                     # 무한 반복\n",
        "        mid = (start + end) // 2    # 중간 인덱스 지정\n",
        "        if start > end:             # 시작 인덱스가 마지막 인덱스 보다 크면\n",
        "            print(0, end=' ')       # 확인할 카드 t는 상근이에게 없기 때문에 0 출력\n",
        "            break                   # 무한 반복 종료\n",
        "\n",
        "        if t == N[mid]:             # 확인할 카드와 상근 카드의 중간 인덱스 값이 같으면\n",
        "            print(1,end=' ')        # 존재하므로 1 출력\n",
        "            break                   # 무한 반복 종료\n",
        "        elif t < N[mid]:            # 작으면\n",
        "            end = mid - 1           # 마지막 지점을 중간 인덱스 왼쪽으로 지정\n",
        "\n",
        "        elif t > N[mid]:            # 크면\n",
        "            start = mid + 1         # 시작 지점을 중간 인덱스 오른쪽으로 지정"
      ],
      "execution_count": null,
      "outputs": []
    },
    {
      "cell_type": "markdown",
      "metadata": {
        "id": "YoZ4CWbgRtfa"
      },
      "source": [
        "#### (*****)2256번"
      ]
    },
    {
      "cell_type": "code",
      "metadata": {
        "id": "MJyM9C81Rtfa",
        "colab": {
          "base_uri": "https://localhost:8080/"
        },
        "outputId": "5f50a5bc-ae8a-4f1a-8b40-3da85d7c4520"
      },
      "source": [
        "### 이해는 되도 시원하게 해결은 아직 안됨.\n",
        "import sys\n",
        "\n",
        "def find(sticks, kits):                                 # find 함수 정의\n",
        "    sticks.sort(reverse=True)                           # 젓가락 내림차순 정렬\n",
        "\n",
        "    bad = [0 for _ in range(len(sticks) + 3)]           # \n",
        "    for i in range(1, len(sticks)):                     # 젓가락 개수 만큼 반복\n",
        "        bad[i+1] = (sticks[i-1] - sticks[i]) ** 2       # 젓가락 차의 제곱 입력\n",
        "    print('bad : ', bad)\n",
        "    prev = [0 for _ in range(len(sticks) + 1)]          # 이전 dp\n",
        "    current = [-1 for _ in range(len(sticks) + 1)]      # 현재 dp\n",
        "\n",
        "    for k in range(1, kits + 1):                        # k명의 사람 수 만큼 반복\n",
        "        current[3 * k - 1] = float('inf')               # 3*k-1번 째 칸 inf 초기화\n",
        "        for s in range(3 * k, len(sticks) - abs(k - kits) * 2 + 1): # k*3 번째 부터 뒤에 kits-k개의 짝이 있어야 하기에\n",
        "                                                                    # 젓가락 개수 - 남은 짝의 개수 * 2 까지\n",
        "\n",
        "            if current[s-1] > prev[s-2] + bad[s]:       # current의 이전 값이 prev의 2칸전과 s번째 차이의 곱보다 크면\n",
        "                current[s] = prev[s-2] + bad[s]         # current 최소 값 업데이트\n",
        "            else:                                       # 아니라면\n",
        "                current[s] = current[s-1]               # 기존 값 업데이트\n",
        "        #print('prev : ',prev)\n",
        "        #print('current : ',current)\n",
        "        prev, current = current, prev                   # prev와 current dp 교환\n",
        "    return prev[len(sticks)]                            # prev 마지막 값 출력\n",
        "\n",
        "\n",
        "K, N = map(int, input().split())                        # 두 정수 입력\n",
        "chops = list(map(int, input().split()))   # 젓가락 길이 리스트에 입력\n",
        "print(find(chops, K))                                   # 함수 실행\n",
        "\n",
        "# 1 2 5 9 14 20 21 24 28\n",
        "\n",
        "#  a  b  c  d  e f g h i\n",
        "# 28 24 21 20 14 9 5 2 1\n",
        "#k번째 짝에서 a가 가장 높은 수 "
      ],
      "execution_count": null,
      "outputs": [
        {
          "output_type": "stream",
          "name": "stdout",
          "text": [
            "2 9\n",
            "1 2 5 9 14 20 21 24 28\n",
            "bad :  [0, 0, 16, 9, 1, 36, 25, 16, 9, 1, 0, 0]\n",
            "prev :  [0, 0, 0, 0, 0, 0, 0, 0, 0, 0]\n",
            "current :  [-1, -1, inf, 9, 1, 1, 1, 1, -1, -1]\n",
            "prev :  [-1, -1, inf, 9, 1, 1, 1, 1, -1, -1]\n",
            "current :  [0, 0, 0, 0, 0, inf, 26, 17, 10, 2]\n",
            "2\n"
          ]
        }
      ]
    },
    {
      "cell_type": "markdown",
      "metadata": {
        "id": "uPXzp27pRtie"
      },
      "source": [
        "#### 1076번"
      ]
    },
    {
      "cell_type": "code",
      "metadata": {
        "id": "4dmEgiLmRtie"
      },
      "source": [
        "dic = {'black' : [0,1],\n",
        "       'brown' : [1,10],\n",
        "       'red' : [2,100],\n",
        "       'orange' : [3,1000],\n",
        "       'yellow' : [4,10000],\n",
        "       'green' : [5,100000],\n",
        "       'blue' : [6,1000000],\n",
        "       'violet' : [7,10000000],\n",
        "       'grey' : [8,100000000],\n",
        "       'white' : [9,1000000000]} # dictionary 형태로 색상값 저장 log(1)\n",
        "\n",
        "res = 0 # 결과 변수 생성\n",
        "\n",
        "res += dic[input()][0] * 10 # 입력된 값의 십의 자릿수 \n",
        "res += dic[input()][0] # 입력된 값의 일의 자릿수\n",
        "res *= dic[input()][1] # 입력된 값의 10 거듭제곱\n",
        "print(res) # 결과 출력"
      ],
      "execution_count": null,
      "outputs": []
    },
    {
      "cell_type": "markdown",
      "metadata": {
        "id": "NmN8u0qcRtlf"
      },
      "source": [
        "#### 1408번"
      ]
    },
    {
      "cell_type": "code",
      "metadata": {
        "id": "W-wpfsVHRtlf"
      },
      "source": [
        "t = list(map(int,input().split(':')))           # 현재시간 입력\n",
        "start_time = list(map(int,input().split(':')))  # 임무 시작 시간 입력\n",
        "\n",
        "if int(t[0]) > int(start_time[0]):              # 현재 시간이 임무 시작시간보다 크면\n",
        "    start_time[0] = start_time[0] + 24          # 임무 시작 시간 + 24\n",
        "\n",
        "res = [0,0,0]                                   # 결과 값 리스트 생성\n",
        "\n",
        "for i in range(-1,-4,-1):                       # 초, 분, 시간 순으로 반복\n",
        "    if start_time[i] < 0:                       # 분이 음수라면(초와 시간은 음수가 아니다)\n",
        "        start_time[i-1] = start_time[i-1] - 1   # 시간 - 1\n",
        "        start_time[i] = start_time[i] + 60      # 분 + 60\n",
        "\n",
        "    if start_time[i] - t[i] < 0:                # 임무 시작 시간이 현재시간보다 작으면\n",
        "        start_time[i-1] = start_time[i-1] -1    # 임무 시작 분이나 초에서 - 1\n",
        "        start_time[i] = start_time[i] + 60      # 임무 시작 초나 분에 + 60\n",
        "\n",
        "    res[i] = start_time[i] - t[i]               # 결과 초,분,시간에 입력\n",
        "\n",
        "for i in range(3):                              # 3번 반복\n",
        "    if res[i] < 10:                             # 결과값이 한 자릿수 이면\n",
        "        res[i] = '0' + str(res[i])              # 결과값 앞에 0 추가하여 저장\n",
        "    else:                                       # 두 자릿수 이면\n",
        "        res[i] = str(res[i])                    # 결과값 문자열 형태로 저장\n",
        "\n",
        "for i in range(2):                              # 결과 시간, 분 출력\n",
        "    print(res[i],end=':')                       \n",
        "print(res[-1])                                  # 결과 초 출력"
      ],
      "execution_count": null,
      "outputs": []
    },
    {
      "cell_type": "markdown",
      "metadata": {
        "id": "rJALFDucRtoU"
      },
      "source": [
        "#### 1100번"
      ]
    },
    {
      "cell_type": "code",
      "metadata": {
        "id": "2PFjWPFpRtoU"
      },
      "source": [
        "t = 0                           # 하얀 칸 위에 있는 말의 개수\n",
        "for i in range(1,9):            # 8개의 칸 반복\n",
        "    l = input()                 # i번째 행 문자열 입력\n",
        "    if i % 2:                   # i가 홀수이면\n",
        "        for j in range(0,8,2):  # 하얀 칸 j번 확인(홀수 열)\n",
        "            if l[j] == 'F':     # i번째 행의 j번째 열인 하얀칸이 'F'이면\n",
        "                t += 1          # 말의 개수 + 1\n",
        "                \n",
        "    else:                       # 짝수\n",
        "        for j in range(1,8,2):  # 하얀 칸 j번 확인(짝수 열)\n",
        "            if l[j] == 'F':     # i번째 행의 j번째 열인 하얀칸이 'F'이면\n",
        "                t += 1          # 말의 개수 + 1\n",
        "                \n",
        "print(t)                        # 말의 개수 출력"
      ],
      "execution_count": null,
      "outputs": []
    },
    {
      "cell_type": "markdown",
      "metadata": {
        "id": "PF-e7T96nF2u"
      },
      "source": [
        "#### 1145번"
      ]
    },
    {
      "cell_type": "code",
      "metadata": {
        "id": "kfVvwGjbnF22"
      },
      "source": [
        "l = list(map(int, input().split()))     # 다섯개의 자연수 리스트 변환\n",
        "\n",
        "res = min(l)                            # 결과 값을 최소값으로 지정\n",
        "\n",
        "while True:                             \n",
        "    t = 0                               # 자연수 배수의 개수\n",
        "    for j in l:                         # 자연수 리스트 반복\n",
        "        if not res % j:                 # res가 l 값들 중 하나로 나뉘어 진다면\n",
        "            t += 1                      # 배수의 개수 + 1\n",
        "\n",
        "        if t > 2:                       # 대부분의 배수이면(3이상)\n",
        "            print(res)                  # 결과 값 출력\n",
        "            break                       # for문 중지\n",
        "\n",
        "    if t > 2:                           # 무한 반복문 중지\n",
        "        break\n",
        "\n",
        "    res += 1                            # 결과 값 + 1"
      ],
      "execution_count": null,
      "outputs": []
    },
    {
      "cell_type": "markdown",
      "metadata": {
        "id": "cAltWVGrnF7J"
      },
      "source": [
        "#### 1159번"
      ]
    },
    {
      "cell_type": "code",
      "metadata": {
        "id": "0Bb39HSWnF7J"
      },
      "source": [
        "n = int(input())            # 선수의 수 입력\n",
        "res = {}                    # 선수의 성을 dict형태로\n",
        "for _ in range(n):          \n",
        "    t = input()             # 선수 입력\n",
        "    \n",
        "    if t[0] in res:         # 선수의 첫 글자가 결과에 있으면\n",
        "        res[t[0]] += 1      # 첫 글자 count + 1\n",
        "    else:                   # 없으면\n",
        "        res[t[0]] = 1       # 첫 글자와 값은 1로 생성\n",
        "\n",
        "result = []                 # 선발된 선수 리스트\n",
        "for k, v in res.items():    # 선수의 성 dict형태 unpacking\n",
        "    if v > 4:               # 첫 글자가 같은 선수가 5명 이상이면\n",
        "        result.append(k)    # 선발 된 \n",
        "\n",
        "result.sort()               # 알파벳 순 정렬\n",
        "if not result:              # 선수 다섯명을 선발 할 수 없는 경우\n",
        "    print('PREDAJA')       \n",
        "else:                       # 선발 가능한 경우\n",
        "    for i in result:        \n",
        "        print(i,end='')     # 선수들의 첫 글자를 출력"
      ],
      "execution_count": null,
      "outputs": []
    },
    {
      "cell_type": "markdown",
      "metadata": {
        "id": "rx4yoDQdzb1M"
      },
      "source": [
        "#### 1233번"
      ]
    },
    {
      "cell_type": "code",
      "metadata": {
        "id": "MZ_26Hxazb1O"
      },
      "source": [
        "a, b, c = map(int, input().split()) # 각 변수 입력\n",
        "\n",
        "res = {} # 주사위의 빈도를 담을 dict\n",
        "for i in range(1,a+1): # a번 반복\n",
        "    for j in range(1, b+1): # b번 반복\n",
        "        for k in range(1,c+1): # c번 반복\n",
        "            t = i+j+k # 세 주사위의 합 계산\n",
        "            #print(t)\n",
        "            if t in res: # 세 주사위의 합이 dict에 저장이 되어있으면\n",
        "                res[t] += 1 # + 1\n",
        "            else: # 저장이 안되어 있으면\n",
        "                res[t] = 1 # 1로 생성\n",
        "\n",
        "result = [] # 결과\n",
        "for k, v in res.items(): # key, value : 세주사위의 합, 빈도수의 형태로 unzip\n",
        "    if v == max(res.values()): # 빈도 값이 최대 빈도라면\n",
        "        result.append(k) # 결과 리스트에 추가\n",
        "\n",
        "result.sort() # 결과 리스트 정렬\n",
        "print(result[0]) # 제일 높은 빈도수가 나오는 제일 작은 세 주사위의 합 출력"
      ],
      "execution_count": null,
      "outputs": []
    },
    {
      "cell_type": "markdown",
      "metadata": {
        "id": "GeLDsmu6zb5D"
      },
      "source": [
        "#### 1212번"
      ]
    },
    {
      "cell_type": "code",
      "metadata": {
        "id": "8Viiv5quzb5D"
      },
      "source": [
        "t = '0O' + input() # 8진수 입력\n",
        "\n",
        "t = int(t, 8) # 8진수를 10진수로 변환\n",
        "print(bin(t)[2:]) # 10진수를 2진수로 변환후 출력"
      ],
      "execution_count": null,
      "outputs": []
    },
    {
      "cell_type": "markdown",
      "metadata": {
        "id": "QtKXQ-B6zb8r"
      },
      "source": [
        "#### 1225번"
      ]
    },
    {
      "cell_type": "code",
      "source": [
        "a, b = input().split() # a,b 변수 입력\n",
        "\n",
        "a = '+'.join(a) # a의 각 자릿수의 합 문자열로 변환\n",
        "b = '+'.join(b) # b의 각 자릿수의 합 문자열로 변환\n",
        "print(eval('(' + a + ')*(' + b +')')) # a의 각 자릿수 합과 b의 각 자릿수 합 곱셈 계산"
      ],
      "metadata": {
        "colab": {
          "base_uri": "https://localhost:8080/"
        },
        "id": "6xrW1gtgbnRp",
        "outputId": "7a341382-83d3-49e2-fd35-7dd4bb1c56a6"
      },
      "execution_count": null,
      "outputs": [
        {
          "output_type": "stream",
          "name": "stdout",
          "text": [
            "121 34\n",
            "28\n"
          ]
        }
      ]
    },
    {
      "cell_type": "markdown",
      "metadata": {
        "id": "vzceFGcDmtrw"
      },
      "source": [
        "####  1308번"
      ]
    },
    {
      "cell_type": "code",
      "source": [
        "#윤년 2/29일 추가로 366일\n",
        "# 각 월별 마지막 날 31 28/29 31 30 31 30 31 31 30 31 30 31\n",
        "\n",
        "a = list(map(int, input().split())) # a 일자 입력\n",
        "b = list(map(int, input().split())) # b 일자 입력\n",
        "\n",
        "x = [[31,28,31,30,31,30,31,31,30,31,30,31,0], # 평년인 월의 일수\n",
        "     [31,29,31,30,31,30,31,31,30,31,30,31,0]] # 윤년인 월의 일수\n",
        "\n",
        "if a[0] % 4 == 0 and (a[0] % 100 != 0 or a[0] % 400 == 0): # a의 일자가 윤년이면\n",
        "    a_res = (a[0]-1) * 365 + (((a[0]-1) // 4) + ((a[0]-1) // 400) - ((a[0]-1) // 100)) + sum(x[1][:a[1]-1])+ a[2]\n",
        "else: # a의 일자가 평년이면\n",
        "    a_res = (a[0]-1) * 365 + (((a[0]-1) // 4) + ((a[0]-1) // 400) - ((a[0]-1) // 100)) + sum(x[0][:a[1]-1])+ a[2]\n",
        "\n",
        "\n",
        "if b[0] % 4 == 0 and (b[0] % 100 != 0 or b[0] % 400 == 0): # b의 일자가 윤년이면\n",
        "    b_res = (b[0]-1) * 365 + (((b[0]-1) // 4) + ((b[0]-1) // 400) - ((b[0]-1) // 100)) + sum(x[1][:b[1]-1])+ b[2]\n",
        "else: # b의 일자가 평년이면\n",
        "    b_res = (b[0]-1) * 365 + (((b[0]-1) // 4) + ((b[0]-1) // 400) - ((b[0]-1) // 100)) + sum(x[0][:b[1]-1])+ b[2]\n",
        "\n",
        "t = b_res - a_res # d-day 계산\n",
        "\n",
        "if a[0] + 1000 <= b[0] and a[1] <= b[1] and a[2] <= b[2]: # 1000년 m월 d일과 같거나 늦다면\n",
        "    print('gg') \n",
        "else:\n",
        "    print('D-{0}'.format(t)) # d-day 출력"
      ],
      "metadata": {
        "id": "lXfdrFFrmtr1"
      },
      "execution_count": null,
      "outputs": []
    },
    {
      "cell_type": "markdown",
      "metadata": {
        "id": "0NWgir__mwGD"
      },
      "source": [
        "####  1333번"
      ]
    },
    {
      "cell_type": "code",
      "source": [
        "n, l, d = map(int, input().split()) # 각 변수 입력\n",
        "\n",
        "t = [True] * 5000 # 5000크기의 리스트 생성\n",
        "x = 0\n",
        "for _ in range(n): \n",
        "    t[x:x+l] = [False] * l # 노래가 나오는 타임은 False로 입력\n",
        "    x += l + 5 # 노래가 나오지 않는 시간은 True로 입력\n",
        "    \n",
        "y = 0\n",
        "while True:\n",
        "    y += d # d초의 간격으로 \n",
        "    if t[y]: # y초에서 노래가 나오지 않는 시간이면\n",
        "        print(y)\n",
        "        break"
      ],
      "metadata": {
        "id": "VwTaSQW5mwGD"
      },
      "execution_count": null,
      "outputs": []
    },
    {
      "cell_type": "markdown",
      "metadata": {
        "id": "7RWTIiPXmwI2"
      },
      "source": [
        "####  1247번"
      ]
    },
    {
      "cell_type": "code",
      "source": [
        "import sys\n",
        "for _ in range(3):                  # 3번 반복\n",
        "    n = int(sys.stdin.readline())\n",
        "    s = 0                           # 결과 값\n",
        "    for _ in range(n):              # n번 반복\n",
        "        t = int(sys.stdin.readline())\n",
        "        s += t                      # 입력된 값 s값에 추가\n",
        "    \n",
        "    if s == 0:                      # s가 0이면\n",
        "        print(0)\n",
        "    elif s < 0:                     # s가 음수이면\n",
        "        print('-')\n",
        "    else:                           # s가 양수이면\n",
        "        print('+')"
      ],
      "metadata": {
        "id": "x-kwRCDdmwI2"
      },
      "execution_count": null,
      "outputs": []
    },
    {
      "cell_type": "markdown",
      "metadata": {
        "id": "RsNw0SxrmwLi"
      },
      "source": [
        "####  1402번"
      ]
    },
    {
      "cell_type": "code",
      "source": [
        "# 해당 답안은 모든 경우가 가능.\n",
        "# 1 * 1 * a, 1 + 1 + a 의 형태로 모든 경우를 만들 수 있음.\n",
        "n = int(input()) \n",
        "\n",
        "for _ in range(n):\n",
        "    print('yes')     # 단순 수학 문제"
      ],
      "metadata": {
        "id": "Muuu4BgrmwLj"
      },
      "execution_count": null,
      "outputs": []
    },
    {
      "cell_type": "markdown",
      "metadata": {
        "id": "R8LKjl8NmwON"
      },
      "source": [
        "####   1681번"
      ]
    },
    {
      "cell_type": "code",
      "source": [
        "n, l = map(int, input().split()) \n",
        "\n",
        "l = str(l)              # 들어가면 안되는 수 문자형 변환\n",
        "t = []                  # 라벨 list\n",
        "x = 0\n",
        "while len(t) != n:      # 라벨 list의 길이가 n이 될 때 까지 반복\n",
        "    x += 1              # 1씩 증가\n",
        "    if l not in str(x): # x를 문자형으로 변환 후 들어가면 안되는 수가 없으면\n",
        "        t.append(x)     # 라벨 list 추가\n",
        "        \n",
        "print(t[-1])            # 라벨 list 중 가장 큰 수 삽입"
      ],
      "metadata": {
        "id": "J6_Ha7IcmwOS"
      },
      "execution_count": null,
      "outputs": []
    },
    {
      "cell_type": "markdown",
      "metadata": {
        "id": "P3xQwj6O0mzQ"
      },
      "source": [
        "####   1373번"
      ]
    },
    {
      "cell_type": "code",
      "source": [
        "t = '0b' + input()  # 이진수 형태로 입력\n",
        "t = int(t, 2)       # 2진수를 10진수로 변환\n",
        "print(oct(t)[2:])   # 8진수 0o 제거 후 출력"
      ],
      "metadata": {
        "id": "KBMVCjde0mzQ"
      },
      "execution_count": null,
      "outputs": []
    },
    {
      "cell_type": "markdown",
      "metadata": {
        "id": "h2Bv5m130m2M"
      },
      "source": [
        "####  1703번"
      ]
    },
    {
      "cell_type": "code",
      "source": [
        "while True:\n",
        "    t = list(map(int, input().split())) # 입력 값 리스트 처리\n",
        "\n",
        "    if t == [0]:                        # 마지막 줄이 0이면\n",
        "        break                           # break\n",
        "    \n",
        "    res = 0                             # 결과 값 변수\n",
        "    for i in range(1,2*t[0]+1,2):       # 생장 개수와 가지치기 값이 입력되므로 1부터 2의 간격으로 반복\n",
        "        if i == 1:                      # 처음 생장 개수이면\n",
        "            res = t[i] - t[i+1]         # 생장 개수 - 가지치기 개수 입력        \n",
        "        else:                           # 그 이후라면\n",
        "            res *= t[i]                 # 결과 값 * 생장 개수\n",
        "            res -= t[i+1]               # 결과 값 - 가지치기\n",
        "    print(res)                          # 결과 출력"
      ],
      "metadata": {
        "id": "CDdtYQpd0m2M"
      },
      "execution_count": null,
      "outputs": []
    },
    {
      "cell_type": "markdown",
      "metadata": {
        "id": "FfeyDe_X0m5D"
      },
      "source": [
        "####  1652번"
      ]
    },
    {
      "cell_type": "code",
      "source": [
        "m = []                     # 정사각형의 모형을 담을 리스트\n",
        "n = int(input())           # 정사각형 크기 변수\n",
        "for _ in range(n): \n",
        "    m.append(input())      # 정사각형 안에 문자 입력\n",
        "\n",
        "row = 0                    # 행 누울 자리 카운트\n",
        "col = 0                    # 열 누울 자리 카운트\n",
        "for i in range(n):         # n번 반복\n",
        "    row_t = 0              # 행에서 누울 수 있는 칸\n",
        "    col_t = 0              # 열에서 누울 수 있는 칸\n",
        "\n",
        "    for j in range(n):     # n번 반복\n",
        "        if m[i][j] == 'X': # i번째 행, j번째 열이 벽이라면\n",
        "            if row_t >= 2: # 행에서 누울 수 있는 칸이 2 이상이면\n",
        "                row += 1   # 행 누울 자리 카운트 + 1\n",
        "            row_t = 0      # 2보다 작으면 리셋\n",
        "        \n",
        "        else:              # 벽이 아니라면\n",
        "            row_t += 1     # 누울 수 있는 칸 + 1\n",
        "    \n",
        "        if m[j][i] == 'X': # i번째 열, j번째 행이 벽이라면\n",
        "            if col_t >= 2: # 열에서 누울 수 있는 칸이 2 이상이면\n",
        "                col += 1   # 열 누울 자리 카운트 + 1\n",
        "            col_t = 0      # 2보다 작으면 리셋\n",
        "        \n",
        "        else:              # 벽이 아니라면\n",
        "            col_t += 1     # 누울 수 있는 칸 + 1\n",
        "\n",
        "    if row_t >= 2:         # 행에서 마지막 칸이 2이상의 누울 수 있는 자리면\n",
        "        row += 1           # 행 누울 자리 + 1\n",
        "\n",
        "    if col_t >= 2:         # 열에서 마지막 칸이 2이상의 누울 수 있는 자리면\n",
        "        col += 1           # 열 누울 자리 + 1\n",
        "\n",
        "print(row, col)            # 결과 값 출력"
      ],
      "metadata": {
        "id": "s_0AmcXo0m5E"
      },
      "execution_count": null,
      "outputs": []
    },
    {
      "cell_type": "markdown",
      "metadata": {
        "id": "Zj_G1Z_AOL0y"
      },
      "source": [
        "####  1418번"
      ]
    },
    {
      "cell_type": "code",
      "source": [
        "n = int(input()) # 자연수 개수 입력\n",
        "k = int(input()) # 비교할 k 입력\n",
        "\n",
        "t_list = [True] * (n+1) # 소수 판별 가능 리스트 생성\n",
        "t_list[0] = False # index = 0은 False로 제외\n",
        "\n",
        "# 아레스토테네스 체 방정식 활용\n",
        "for i in range(2,int(n**0.5)+2):  # root(n)의 값들 까지 진행\n",
        "    for j in range(i,n+1,i): # i의 배수들 진행\n",
        "        if j == i: # 처음 값은 제외하면 안되기 때문에\n",
        "            continue  # continue\n",
        "        t_list[j] = False # i의 배수들 제거\n",
        "\n",
        "res = [[1] for i in range(n+1)] # 소인수를 담을 리스트 생성\n",
        "\n",
        "for i in range(2,n+1): # n개의 자연수까지 반복\n",
        "    if t_list[i]: # i가 소수라면\n",
        "        for j in range(i,n+1,i): # i의 배수값들에 \n",
        "            res[j].append(i) # 소수인 i 추가\n",
        "\n",
        "t = 0 # 결과 값\n",
        "for i in range(1, n+1): # n번 반복\n",
        "    if res[i][-1] <= k: # 소인수를 담은 리스트 중 가장 큰값이 k보다 작거나 같으면\n",
        "        t += 1 # 1 더하기\n",
        "\n",
        "print(t) # 결과 값 출력"
      ],
      "metadata": {
        "id": "HzpWgvTrOL04"
      },
      "execution_count": null,
      "outputs": []
    },
    {
      "cell_type": "markdown",
      "metadata": {
        "id": "bD1i4z1uOL4t"
      },
      "source": [
        "####  1550번"
      ]
    },
    {
      "cell_type": "code",
      "source": [
        "t = '0x' + input()  # 16진수 입력\n",
        "t = int(t, 16)      # 10진수로 변환\n",
        "print(t)            # 출력"
      ],
      "metadata": {
        "id": "y32-CU2JOL4t"
      },
      "execution_count": null,
      "outputs": []
    },
    {
      "cell_type": "markdown",
      "metadata": {
        "id": "CIsbivR4a9HU"
      },
      "source": [
        "#### 2010번"
      ]
    },
    {
      "cell_type": "code",
      "source": [
        "import sys\n",
        "\n",
        "n = int(input())                                    # 변수 입력\n",
        "res = 1                                             # 결과 변수 생성\n",
        "for _ in range(n):                                  # n번 반복\n",
        "    res -= 1                                        # 콘센트 하나를 대신하여 늘어나므로 - 1\n",
        "    res += int(sys.stdin.readline().rstrip('\\n'))   # 입력값 추가\n",
        "\n",
        "print(res)"
      ],
      "metadata": {
        "id": "_0LSUPuna9HU"
      },
      "execution_count": null,
      "outputs": []
    },
    {
      "cell_type": "markdown",
      "metadata": {
        "id": "InPGru7oa9K7"
      },
      "source": [
        "####  1672번"
      ]
    },
    {
      "cell_type": "code",
      "source": [
        "m = [['A','C','A','G'],\n",
        "     ['C','G','T','A'],\n",
        "     ['A','T','C','G'],\n",
        "     ['G','A','G','T']]             # 염기 배열 입력\n",
        "\n",
        "m_list = {'A':0,'G':1,'C':2,'T':3}  # 염기 서열  dict형태로 입력\n",
        "\n",
        "n = int(input())                    # 염기 서열의 길이 입력\n",
        "\n",
        "t = input()                         # 염기 서열 입력\n",
        "res = t[-1]                         # 결과 변수 생성(뒤에서 부터 해독 되므로)\n",
        "\n",
        "for k in range(-2,-n-1,-1):         # 맨 뒤에서 두번째 부터 뒤에서 부터 n번째 까지 반복\n",
        "    i = m_list[t[k]]                # 입력된 k 번째 염기\n",
        "    j = m_list[res]                 # 뒷 부분에서 해독된 염기\n",
        "    res = m[i][j]                   # 해독된 염기 서열 업데이트\n",
        "\n",
        "print(res)                          # 해독된 염기 서열 출력"
      ],
      "metadata": {
        "id": "yheIzxIta9K7"
      },
      "execution_count": null,
      "outputs": []
    },
    {
      "cell_type": "markdown",
      "metadata": {
        "id": "MkeGXGAL5ohl"
      },
      "source": [
        "   #### "
      ]
    },
    {
      "cell_type": "code",
      "source": [
        ""
      ],
      "metadata": {
        "id": "lQA5R2MD5ohm"
      },
      "execution_count": null,
      "outputs": []
    },
    {
      "cell_type": "markdown",
      "metadata": {
        "id": "LQpsIxCK5onk"
      },
      "source": [
        "#### "
      ]
    },
    {
      "cell_type": "code",
      "source": [
        ""
      ],
      "metadata": {
        "id": "Qdw-Ikf65onl"
      },
      "execution_count": null,
      "outputs": []
    }
  ]
}