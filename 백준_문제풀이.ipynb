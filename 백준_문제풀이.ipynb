{
  "nbformat": 4,
  "nbformat_minor": 0,
  "metadata": {
    "colab": {
      "name": "백준 문제풀이.ipynb",
      "provenance": [],
      "collapsed_sections": [
        "POAYGCfMe_0s",
        "5PRfloDZHGiN",
        "hd-9cFVbd81N",
        "Cdc6oGAHJ5wv",
        "jnw0s22-J5zm",
        "hHXqsq9RJ52V",
        "-WEujQslfvPc",
        "vrq2C5VCfz68",
        "p603LkoAf0Ys",
        "pUWGDTTDf0ed",
        "n12SANb4ewi1",
        "Sn6GYlulJ5rI",
        "zvtcqUZyJ5uA",
        "2H2UiCRZJ55E",
        "8aEgFHzQTU-M",
        "x3MW5qqtTZAn",
        "NZwKoUdcTbp-",
        "L635P9aDR41L",
        "wBFPqXNuR8ne"
      ],
      "authorship_tag": "ABX9TyPWiCmbFI8Z0ijc+X+370sK",
      "include_colab_link": true
    },
    "kernelspec": {
      "name": "python3",
      "display_name": "Python 3"
    },
    "language_info": {
      "name": "python"
    }
  },
  "cells": [
    {
      "cell_type": "markdown",
      "metadata": {
        "id": "view-in-github",
        "colab_type": "text"
      },
      "source": [
        "<a href=\"https://colab.research.google.com/github/tjy2202/Problem_Solving/blob/master/%EB%B0%B1%EC%A4%80_%EB%AC%B8%EC%A0%9C%ED%92%80%EC%9D%B4.ipynb\" target=\"_parent\"><img src=\"https://colab.research.google.com/assets/colab-badge.svg\" alt=\"Open In Colab\"/></a>"
      ]
    },
    {
      "cell_type": "markdown",
      "metadata": {
        "id": "omsqU4scfCpl"
      },
      "source": [
        "## 단계별 풀이"
      ]
    },
    {
      "cell_type": "markdown",
      "metadata": {
        "id": "POAYGCfMe_0s"
      },
      "source": [
        "### 1"
      ]
    },
    {
      "cell_type": "markdown",
      "metadata": {
        "id": "SwNOozo2J2Qk"
      },
      "source": [
        "#### 2439번 : rjust()"
      ]
    },
    {
      "cell_type": "code",
      "metadata": {
        "id": "sfhuqZKSJ2Qw"
      },
      "source": [
        "a = int(input())\n",
        "\n",
        "for i in range(a):\n",
        "    print(('*' * (i+1)).rjust(a))"
      ],
      "execution_count": null,
      "outputs": []
    },
    {
      "cell_type": "markdown",
      "metadata": {
        "id": "4KG0dQ5_J5k_"
      },
      "source": [
        "#### 1110번 : 무한 루프로 에러 찾느라 오래걸림"
      ]
    },
    {
      "cell_type": "code",
      "metadata": {
        "colab": {
          "base_uri": "https://localhost:8080/"
        },
        "id": "gM4kcvbMJ5k_",
        "outputId": "eb8eb20f-f2fa-43f2-dc4d-eba22a9a845a"
      },
      "source": [
        "a = input()\n",
        "n = 0\n",
        "d = int(a)\n",
        "c = 100\n",
        "\n",
        "while d != int(c):\n",
        "\n",
        "    if int(a) < 10:\n",
        "        a = '0' + str(int(a))\n",
        "    b = int(a[0]) + int(a[1])\n",
        "    c = a[1] + str(b)[-1]\n",
        "    a = c\n",
        "\n",
        "    n += 1\n",
        "\n",
        "print(n)\n",
        "\n",
        "''' ##오류코드##\n",
        "a = input()\n",
        "n = 0\n",
        "d = int(a)\n",
        "c = 100\n",
        "\n",
        "while d != int(c):\n",
        "    if int(a) < 10:\n",
        "        a = '0' + a\n",
        "    else:\n",
        "        pass\n",
        "\n",
        "    b = int(a[0]) + int(a[1]) #만약 a가 '05'였으면 b가 005로 들어가는 오류로 나왔었음.\n",
        "    c = a[1] + str(b)[-1]\n",
        "    a = c\n",
        "\n",
        "    n += 1\n",
        "\n",
        "print(n)\n",
        "'''\n"
      ],
      "execution_count": null,
      "outputs": [
        {
          "output_type": "stream",
          "text": [
            "55\n",
            "3\n"
          ],
          "name": "stdout"
        }
      ]
    },
    {
      "cell_type": "markdown",
      "metadata": {
        "id": "MFvDSJ8eJ5oh"
      },
      "source": [
        "#### 10951번 : EOF, End of File의 예"
      ]
    },
    {
      "cell_type": "markdown",
      "metadata": {
        "id": "5PRfloDZHGiN"
      },
      "source": [
        "#### 15552번 : sys.stdin.readline()"
      ]
    },
    {
      "cell_type": "code",
      "metadata": {
        "id": "-ox9IOLpHDgH"
      },
      "source": [
        "import sys\n",
        "\n",
        "a = int(sys.stdin.readline())\n",
        "\n",
        "for _ in range(a):\n",
        "    b, c = list(map(int, sys.stdin.readline().split()))\n",
        "    print(b + c)"
      ],
      "execution_count": null,
      "outputs": []
    },
    {
      "cell_type": "code",
      "metadata": {
        "colab": {
          "base_uri": "https://localhost:8080/"
        },
        "id": "RIffYiXUJ5oi",
        "outputId": "3e11cc8e-d58e-4faf-b72e-4766f71d9e6b"
      },
      "source": [
        "while True:\n",
        "    try:\n",
        "        print(sum(map(int, input().split())))\n",
        "    except:\n",
        "        break\n"
      ],
      "execution_count": null,
      "outputs": [
        {
          "output_type": "stream",
          "text": [
            "\n",
            "True\n"
          ],
          "name": "stdout"
        }
      ]
    },
    {
      "cell_type": "markdown",
      "metadata": {
        "id": "hd-9cFVbd81N"
      },
      "source": [
        "### **5단계 : 1차원 배열===========**"
      ]
    },
    {
      "cell_type": "markdown",
      "metadata": {
        "id": "Cdc6oGAHJ5wv"
      },
      "source": [
        "#### 10818번 최대 최소 값 : 들여쓰기 잘 못되어서 컴파일오류 많이 나옴"
      ]
    },
    {
      "cell_type": "code",
      "metadata": {
        "id": "lJSTQW74J5wv",
        "colab": {
          "base_uri": "https://localhost:8080/"
        },
        "outputId": "91dab5ae-365d-4b83-ea9c-5333573e25db"
      },
      "source": [
        "n = int(input())\n",
        "x = list(map(int, input().split()))\n",
        "\n",
        "min = x[0]\n",
        "max = x[0]\n",
        "\n",
        "for i in x:\n",
        "  if min <= i:\n",
        "    pass\n",
        "  else:\n",
        "    min = i\n",
        "\n",
        "  if max >= i:\n",
        "    pass\n",
        "  else:\n",
        "    max = i\n",
        "\n",
        "print(min,end=' ')\n",
        "print(max)"
      ],
      "execution_count": null,
      "outputs": [
        {
          "output_type": "stream",
          "text": [
            "5\n",
            "10\n",
            "10 10\n"
          ],
          "name": "stdout"
        }
      ]
    },
    {
      "cell_type": "markdown",
      "metadata": {
        "id": "jnw0s22-J5zm"
      },
      "source": [
        "#### 2562번"
      ]
    },
    {
      "cell_type": "code",
      "metadata": {
        "id": "nMYSIl_gJ5zn",
        "colab": {
          "base_uri": "https://localhost:8080/"
        },
        "outputId": "05a18082-ff4f-44f6-8fe8-c2497162049a"
      },
      "source": [
        "x = []\n",
        "for _ in range(9):\n",
        "  x.append(int(input()))\n",
        "\n",
        "res = x[0]\n",
        "for i in x:\n",
        "  if res >= i:\n",
        "    pass\n",
        "  else:\n",
        "    res = i\n",
        "\n",
        "print(res)\n",
        "print(x.index(res) + 1)"
      ],
      "execution_count": null,
      "outputs": [
        {
          "output_type": "stream",
          "text": [
            "3 29 38 12 57 74 40 85 61\n",
            "85\n",
            "8\n"
          ],
          "name": "stdout"
        }
      ]
    },
    {
      "cell_type": "markdown",
      "metadata": {
        "id": "hHXqsq9RJ52V"
      },
      "source": [
        "#### 2577번 숫자의 갯수"
      ]
    },
    {
      "cell_type": "code",
      "metadata": {
        "id": "Xj-w_lzkJ52V",
        "colab": {
          "base_uri": "https://localhost:8080/"
        },
        "outputId": "e6fb0bd2-11e4-4278-8ed1-ac8b8de48113"
      },
      "source": [
        "a = int(input())\n",
        "b = int(input())\n",
        "c = int(input())\n",
        "\n",
        "res = a * b * c\n",
        "res = str(res)\n",
        "\n",
        "for i in range(10):\n",
        "  n = 0 \n",
        "\n",
        "  for j in res:\n",
        "    if str(i) == j:\n",
        "      n += 1\n",
        "    else:\n",
        "      pass\n",
        "\n",
        "  print(n)"
      ],
      "execution_count": null,
      "outputs": [
        {
          "output_type": "stream",
          "text": [
            "150\n",
            "266\n",
            "427\n",
            "3\n",
            "1\n",
            "0\n",
            "2\n",
            "0\n",
            "0\n",
            "0\n",
            "2\n",
            "0\n"
          ],
          "name": "stdout"
        }
      ]
    },
    {
      "cell_type": "markdown",
      "metadata": {
        "id": "-WEujQslfvPc"
      },
      "source": [
        "#### 3052번 나머지"
      ]
    },
    {
      "cell_type": "code",
      "metadata": {
        "colab": {
          "base_uri": "https://localhost:8080/"
        },
        "id": "pW-HhcFqfwET",
        "outputId": "9ca60741-a6b2-4121-b111-149aae0c45c2"
      },
      "source": [
        "x = []\n",
        "for _ in range(10):\n",
        "  y = int(input())\n",
        "  x.append(y % 42)\n",
        "\n",
        "print(len(set(x)))"
      ],
      "execution_count": null,
      "outputs": [
        {
          "output_type": "stream",
          "text": [
            "42\n",
            "84\n",
            "252\n",
            "420\n",
            "840\n",
            "126\n",
            "42\n",
            "84\n",
            "420\n",
            "126\n",
            "1\n"
          ],
          "name": "stdout"
        }
      ]
    },
    {
      "cell_type": "markdown",
      "metadata": {
        "id": "vrq2C5VCfz68"
      },
      "source": [
        "#### 1546번"
      ]
    },
    {
      "cell_type": "code",
      "metadata": {
        "colab": {
          "base_uri": "https://localhost:8080/"
        },
        "id": "JPeDRlp-fz69",
        "outputId": "c3541749-893c-4cd0-f47a-776f85c1b799"
      },
      "source": [
        "n = int(input())\n",
        "x = list(map(int, input().split()))\n",
        "\n",
        "m = x[0]\n",
        "for i in x:\n",
        "  if m >= i:\n",
        "    pass\n",
        "  else:\n",
        "    m = i\n",
        "\n",
        "res = 0\n",
        "for j in x:\n",
        "  res += (j / m * 100)\n",
        "\n",
        "print(res / n)\n",
        "\n"
      ],
      "execution_count": null,
      "outputs": [
        {
          "output_type": "stream",
          "text": [
            "3\n",
            "10 20 30\n",
            "66.66666666666667\n"
          ],
          "name": "stdout"
        }
      ]
    },
    {
      "cell_type": "markdown",
      "metadata": {
        "id": "p603LkoAf0Ys"
      },
      "source": [
        "#### 8958번 OX퀴즈"
      ]
    },
    {
      "cell_type": "code",
      "metadata": {
        "colab": {
          "base_uri": "https://localhost:8080/"
        },
        "id": "-EoMlO7gf0Ys",
        "outputId": "56f571ad-4884-4e78-e466-c9a732d9d215"
      },
      "source": [
        "n = int(input())\n",
        "for _ in range(n):\n",
        "  x = input()\n",
        "  res = 0\n",
        "  res_1 = 1\n",
        "\n",
        "  for i in range(len(x)):\n",
        "    if x[i] == 'X':\n",
        "      res += 0\n",
        "      res_1 = 1\n",
        "    else:\n",
        "      res += 1\n",
        "\n",
        "      if i == 0:\n",
        "        pass\n",
        "      else:\n",
        "        if x[i] == x[i-1]:\n",
        "          res += res_1\n",
        "          res_1 += 1\n",
        "        else:\n",
        "          res_1 = 1\n",
        "\n",
        "  print(res)\n",
        "\n",
        "\n",
        "      \n"
      ],
      "execution_count": null,
      "outputs": [
        {
          "output_type": "stream",
          "text": [
            "5\n",
            "OOXXOXXOOO\n",
            "10\n",
            "OOXXOOXXOO\n",
            "9\n",
            "OXOXOXOXOXOXOX\n",
            "7\n",
            "OOOOOOOOOO\n",
            "55\n",
            "OOOOXOOOOXOOOOX\n",
            "30\n"
          ],
          "name": "stdout"
        }
      ]
    },
    {
      "cell_type": "markdown",
      "metadata": {
        "id": "pUWGDTTDf0ed"
      },
      "source": [
        "#### 4344번"
      ]
    },
    {
      "cell_type": "code",
      "metadata": {
        "colab": {
          "base_uri": "https://localhost:8080/"
        },
        "id": "MsUmY2-Af0ee",
        "outputId": "3ebd8faf-25df-4853-d1d9-3597a46d8f51"
      },
      "source": [
        "cn = int(input())\n",
        "for _ in range(cn):\n",
        "  x = list(map(int, input().split()))\n",
        "  res = 0\n",
        "  for i in range(len(x) - 1):\n",
        "    res += x[i+1]\n",
        "  \n",
        "  y = 0\n",
        "  for i in range(len(x) - 1):\n",
        "    if x[i+1] > (res / x[0]):\n",
        "      y += 1\n",
        "    else:\n",
        "      pass\n",
        "  \n",
        "  print('{0:.3f}%'.format( round((y / x[0])*100,3 )))"
      ],
      "execution_count": null,
      "outputs": [
        {
          "output_type": "stream",
          "text": [
            "5\n",
            "5 50 50 70 80 100\n",
            "40.000\n",
            "7 100 95 90 80 70 60 50\n",
            "57.143\n",
            "3 70 90 80\n",
            "33.333\n",
            "3 70 90 81\n",
            "66.667\n",
            "9 100 99 98 97 96 95 94 93 91\n",
            "55.556\n"
          ],
          "name": "stdout"
        }
      ]
    },
    {
      "cell_type": "markdown",
      "metadata": {
        "id": "n12SANb4ewi1"
      },
      "source": [
        "### **6단계 : 함수===========**"
      ]
    },
    {
      "cell_type": "markdown",
      "metadata": {
        "id": "Sn6GYlulJ5rI"
      },
      "source": [
        "#### 4673번 셀프넘버 : numpy 모듈 사용 불가"
      ]
    },
    {
      "cell_type": "code",
      "metadata": {
        "id": "BlHNRWV1J5rI"
      },
      "source": [
        "def self_num(n):\n",
        "  x = 0\n",
        "  for i in range(len(str(n))):\n",
        "    x += int(str(n)[i])\n",
        "  x += n\n",
        "  return x\n",
        "\n",
        "def self_num_list(n):\n",
        "  x = []\n",
        "  while True:\n",
        "    if self_num(n) > 10001:\n",
        "      break\n",
        "    x.append(self_num(n))\n",
        "    n = self_num(n)    \n",
        "  return x\n",
        "\n",
        "c = 0\n",
        "b = []\n",
        "\n",
        "for i in range(1,10001):\n",
        "  b.append(i)\n",
        "\n",
        "while True:\n",
        "  \n",
        "  b = list(set(b) - set(self_num_list(b[c])))\n",
        "  b.sort()\n",
        "  c += 1\n",
        "  if c > len(b)-1:\n",
        "    break\n",
        "\n",
        "for i in b:\n",
        "  print(i)"
      ],
      "execution_count": null,
      "outputs": []
    },
    {
      "cell_type": "markdown",
      "metadata": {
        "id": "zvtcqUZyJ5uA"
      },
      "source": [
        "#### 1065번 한수 "
      ]
    },
    {
      "cell_type": "code",
      "metadata": {
        "id": "AwkEubp8J5uA"
      },
      "source": [
        "def han(n):\n",
        "  res = 0\n",
        "  if n < 100:\n",
        "    res = 1\n",
        "  elif n >= 100:\n",
        "    n = str(n)\n",
        "    if int(n[2]) + int(n[0]) == 2 * int(n[1]):\n",
        "      res = 1\n",
        "    else:\n",
        "      res = 0\n",
        "\n",
        "  elif n >= 1000:\n",
        "    if (int(n[2]) + int(n[0]) == 2 * int(n[1])) & (int(n[3]) + int(n[1]) == 2 * int(n[2])):\n",
        "      res = 1\n",
        "    else:\n",
        "      res = 0\n",
        "\n",
        "  else:\n",
        "    pass\n",
        "\n",
        "  return res\n",
        "\n",
        "def count_han(n):\n",
        "  cnt = 0\n",
        "  for i in range(n):\n",
        "    cnt += han(i+1)\n",
        "  \n",
        "  return cnt\n",
        "\n",
        "a = int(input())\n",
        "print(count_han(a))"
      ],
      "execution_count": null,
      "outputs": []
    },
    {
      "cell_type": "markdown",
      "metadata": {
        "id": "RVUMmYudeX57"
      },
      "source": [
        "### **7단계 : 문자열===========**"
      ]
    },
    {
      "cell_type": "markdown",
      "metadata": {
        "id": "2H2UiCRZJ55E"
      },
      "source": [
        "#### 11654번 : 아스키 코드"
      ]
    },
    {
      "cell_type": "code",
      "metadata": {
        "id": "ncXONLViJ55F",
        "colab": {
          "base_uri": "https://localhost:8080/"
        },
        "outputId": "8dd5c575-edf8-4164-bd36-df7f53f4ba1c"
      },
      "source": [
        "a = input()\n",
        "\n",
        "print(ord(a))"
      ],
      "execution_count": null,
      "outputs": [
        {
          "output_type": "stream",
          "text": [
            "0\n",
            "48\n"
          ],
          "name": "stdout"
        }
      ]
    },
    {
      "cell_type": "markdown",
      "metadata": {
        "id": "8aEgFHzQTU-M"
      },
      "source": [
        "#### 11720번"
      ]
    },
    {
      "cell_type": "code",
      "metadata": {
        "colab": {
          "base_uri": "https://localhost:8080/"
        },
        "id": "SzIpF42sTU-V",
        "outputId": "2095ae16-6c19-4713-e768-677261ba9094"
      },
      "source": [
        "n = int(input())\n",
        "x = input()\n",
        "sum = 0\n",
        "for i in range(n):\n",
        "  sum += int(x[i])\n",
        "print(sum)"
      ],
      "execution_count": null,
      "outputs": [
        {
          "output_type": "stream",
          "text": [
            "5\n",
            "54321\n",
            "15\n"
          ],
          "name": "stdout"
        }
      ]
    },
    {
      "cell_type": "markdown",
      "metadata": {
        "id": "x3MW5qqtTZAn"
      },
      "source": [
        "#### 10809번"
      ]
    },
    {
      "cell_type": "code",
      "metadata": {
        "colab": {
          "base_uri": "https://localhost:8080/"
        },
        "id": "H-wdIfagTZAo",
        "outputId": "6738b920-f646-4752-c98a-85378188ff40"
      },
      "source": [
        "s = input()\n",
        "x = 'abcdefghijklmnopqrstuvwxyz'\n",
        "\n",
        "for i in range(len(x)):\n",
        "  a = 0\n",
        "  for j in range(len(s)):\n",
        "    if s[j] == x[i]:\n",
        "      a = j\n",
        "      break\n",
        "    else:\n",
        "      a = -1\n",
        "\n",
        "  print(a, end=' ')"
      ],
      "execution_count": null,
      "outputs": [
        {
          "output_type": "stream",
          "text": [
            "baekjoon\n",
            "1 0 -1 -1 2 -1 -1 -1 -1 4 3 -1 -1 7 5 -1 -1 -1 -1 -1 -1 -1 -1 -1 -1 -1 "
          ],
          "name": "stdout"
        }
      ]
    },
    {
      "cell_type": "markdown",
      "metadata": {
        "id": "NZwKoUdcTbp-"
      },
      "source": [
        "#### 2675번"
      ]
    },
    {
      "cell_type": "code",
      "metadata": {
        "colab": {
          "base_uri": "https://localhost:8080/"
        },
        "id": "DLdAQuq-Tbp_",
        "outputId": "2870c73e-612a-4eed-c993-5906e9cd9a02"
      },
      "source": [
        "n = int(input())\n",
        "for _ in range(n):\n",
        "  a, b = input().split()\n",
        "  a = int(a)\n",
        "  b = str(b)\n",
        "  res = ''\n",
        "  for i in range(len(b)):\n",
        "    res += b[i] * a\n",
        "  print(res)\n"
      ],
      "execution_count": null,
      "outputs": [
        {
          "output_type": "stream",
          "text": [
            "2\n",
            "3 ABC\n",
            "AAABBBCCC\n",
            "5 /HTP\n",
            "/////HHHHHTTTTTPPPPP\n"
          ],
          "name": "stdout"
        }
      ]
    },
    {
      "cell_type": "markdown",
      "metadata": {
        "id": "ZGJGxU4LTcWc"
      },
      "source": [
        "#### 1157번"
      ]
    },
    {
      "cell_type": "code",
      "metadata": {
        "colab": {
          "base_uri": "https://localhost:8080/"
        },
        "id": "XH-yq9CxTcWc",
        "outputId": "38fa62d9-18c1-40f7-f33e-606b502b3ab0"
      },
      "source": [
        "s = input().lower()\n",
        "\n",
        "c = ' '.join(s)\n",
        "a = set(c.split())\n",
        "a = list(a)\n",
        "b = []\n",
        "for i in a:\n",
        "  b.append(s.count(i))\n",
        "\n",
        "b.sort()\n",
        "\n",
        "if len(b) == 1:\n",
        "  print(a[0].upper())\n",
        "else:\n",
        "  if b[-1] == b[-2]:\n",
        "    print('?')\n",
        "  else:  \n",
        "    x = b[-1]\n",
        "    for i in a:\n",
        "      if s.count(i) == x:\n",
        "        print(i.upper())\n"
      ],
      "execution_count": 49,
      "outputs": [
        {
          "output_type": "stream",
          "text": [
            "a\n",
            "A\n"
          ],
          "name": "stdout"
        }
      ]
    },
    {
      "cell_type": "markdown",
      "metadata": {
        "id": "_bivMt1sTchd"
      },
      "source": [
        "#### 1152번"
      ]
    },
    {
      "cell_type": "code",
      "metadata": {
        "id": "UjteJxLoTchd",
        "colab": {
          "base_uri": "https://localhost:8080/"
        },
        "outputId": "a4f9382c-1fe5-4206-abba-f8cdc36c7760"
      },
      "source": [
        "s = input().strip().lower().split(' ')\n",
        "\n",
        "if (len(s) == 1) & (s[0] == ''):\n",
        "  print(0)\n",
        "else:\n",
        "  print(len(s))"
      ],
      "execution_count": 61,
      "outputs": [
        {
          "output_type": "stream",
          "text": [
            " \n",
            "0\n"
          ],
          "name": "stdout"
        }
      ]
    },
    {
      "cell_type": "markdown",
      "metadata": {
        "id": "UlRjxI8VTcoB"
      },
      "source": [
        "#### 1"
      ]
    },
    {
      "cell_type": "code",
      "metadata": {
        "id": "gVtfJkBNTcoB"
      },
      "source": [
        ""
      ],
      "execution_count": null,
      "outputs": []
    },
    {
      "cell_type": "markdown",
      "metadata": {
        "id": "FCPITXGwTcsi"
      },
      "source": [
        "#### 1"
      ]
    },
    {
      "cell_type": "code",
      "metadata": {
        "id": "XfvDdcKzTcsi"
      },
      "source": [
        ""
      ],
      "execution_count": null,
      "outputs": []
    },
    {
      "cell_type": "markdown",
      "metadata": {
        "id": "M75SACDgTcxe"
      },
      "source": [
        "#### 1"
      ]
    },
    {
      "cell_type": "code",
      "metadata": {
        "id": "SIUj9OKiTcxf"
      },
      "source": [
        ""
      ],
      "execution_count": null,
      "outputs": []
    },
    {
      "cell_type": "markdown",
      "metadata": {
        "id": "aE-p8rLrTc2U"
      },
      "source": [
        "#### 1"
      ]
    },
    {
      "cell_type": "code",
      "metadata": {
        "id": "L5687equTc2U"
      },
      "source": [
        ""
      ],
      "execution_count": null,
      "outputs": []
    },
    {
      "cell_type": "markdown",
      "metadata": {
        "id": "L635P9aDR41L"
      },
      "source": [
        "### **8단계 : 기본수학1===========**"
      ]
    },
    {
      "cell_type": "markdown",
      "metadata": {
        "id": "d5l3XgZ3R41L"
      },
      "source": [
        "#### 1"
      ]
    },
    {
      "cell_type": "code",
      "metadata": {
        "id": "IbvFoejTR41L"
      },
      "source": [
        ""
      ],
      "execution_count": null,
      "outputs": []
    },
    {
      "cell_type": "markdown",
      "metadata": {
        "id": "wBFPqXNuR8ne"
      },
      "source": [
        "### **9단계 : 기본수학2===========**"
      ]
    },
    {
      "cell_type": "markdown",
      "metadata": {
        "id": "JjxDErpjR8ne"
      },
      "source": [
        "#### 1"
      ]
    },
    {
      "cell_type": "code",
      "metadata": {
        "id": "85Nt6C8WR8ne"
      },
      "source": [
        ""
      ],
      "execution_count": null,
      "outputs": []
    }
  ]
}