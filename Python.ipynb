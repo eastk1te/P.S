{
  "nbformat": 4,
  "nbformat_minor": 0,
  "metadata": {
    "colab": {
      "name": "Python.ipynb",
      "provenance": [],
      "collapsed_sections": [
        "TcAsMrcA_ML-"
      ],
      "authorship_tag": "ABX9TyNd173x85BdsBfXt+ZpdK9R",
      "include_colab_link": true
    },
    "kernelspec": {
      "name": "python3",
      "display_name": "Python 3"
    },
    "language_info": {
      "name": "python"
    }
  },
  "cells": [
    {
      "cell_type": "markdown",
      "metadata": {
        "id": "view-in-github",
        "colab_type": "text"
      },
      "source": [
        "<a href=\"https://colab.research.google.com/github/tjy2202/Home/blob/master/Python.ipynb\" target=\"_parent\"><img src=\"https://colab.research.google.com/assets/colab-badge.svg\" alt=\"Open In Colab\"/></a>"
      ]
    },
    {
      "cell_type": "code",
      "metadata": {
        "id": "7Wt9QRW-_0jf"
      },
      "source": [
        "#github 컴퓨터 연동\n",
        "cmd -> git 입력시 상ㅇ 가능 확인\n",
        "git config --global user.name tjy2202 #컴퓨터에서 동일 옵션 사용하도록 셋팅\n",
        "git config --global user.email tjy2202@naver.com\n",
        "cd C:\\Github_Workspace\n",
        "git colne https://github.com/tjy2202/Home.git\n",
        "cd Home\n",
        "git add test.txt\n",
        "git commit -m \"Add Text File[test.txt]\" #나중에 롤백하기 위한 목적의 스냅샷 형태로 찍어 놓는 것\n",
        "git push #깃허브에 실제로 넣는 명령어"
      ],
      "execution_count": null,
      "outputs": []
    },
    {
      "cell_type": "markdown",
      "metadata": {
        "id": "Xcp1UYiB8rN7"
      },
      "source": [
        "## 피드백 내용"
      ]
    },
    {
      "cell_type": "code",
      "metadata": {
        "id": "dhqdua6TJZ1t"
      },
      "source": [
        "import pandas as pd\n",
        "\n",
        "!pip install pyreadstat #spss 파일을 읽기 위한 pyreadstat install\n",
        "df_sas = pd.read_sas(\"d:/r_class/survey7b.dat\", format=\"sas7bdat\") #sas 파일\n",
        "df_spss = pd.read_spss(\"d:/r_class/survey_h.sav\") #spss 파일"
      ],
      "execution_count": null,
      "outputs": []
    },
    {
      "cell_type": "markdown",
      "metadata": {
        "id": "42WEqLJqCsks"
      },
      "source": [
        "## **Python**"
      ]
    },
    {
      "cell_type": "markdown",
      "metadata": {
        "id": "TcAsMrcA_ML-"
      },
      "source": [
        "### **Google Colab**"
      ]
    },
    {
      "cell_type": "code",
      "metadata": {
        "id": "Ylz5_qdg-5t1"
      },
      "source": [
        "import platform\n",
        "platform.platform() #플랫폼확인\n",
        "# 'Linux-4.19.104+-x86_64-with-Ubuntu-18.04-bionic'\n",
        "\n",
        "!cat /etc/issue.net #운영체제 확인\n",
        "!cat /proc/cpuinfo #CPU사양 확인\n",
        "!cat /proc/meminfo #메모리 사양 확인\n",
        "!df -h #디스크 사양 확인\n",
        "!python --version #파이썬 버전 확인\n",
        "!nvidia-smi #런타임 None : CPU, GPU, TPU"
      ],
      "execution_count": null,
      "outputs": []
    },
    {
      "cell_type": "code",
      "metadata": {
        "id": "plSm73IVAPoM"
      },
      "source": [
        "# text가 들어있는 test 파일 생성\n",
        "%%writefile test.txt \n",
        "text "
      ],
      "execution_count": null,
      "outputs": []
    },
    {
      "cell_type": "code",
      "metadata": {
        "id": "GHKWnficAZjL"
      },
      "source": [
        "!cat test.txt #test파일 보기\n",
        "\n",
        "from google.colab import files\n",
        "files.download('test.txt') #파일 다운로드\n",
        "upload = files.upload() #파일 업로드\n",
        "!ls #현재 지정된 파일목록 확인"
      ],
      "execution_count": null,
      "outputs": []
    },
    {
      "cell_type": "markdown",
      "metadata": {
        "id": "55hZajCS_MqK"
      },
      "source": [
        "#### 구글 드라이브 연동"
      ]
    },
    {
      "cell_type": "code",
      "metadata": {
        "id": "6uk3MpQnAs6r"
      },
      "source": [
        "from google.colab import drive\n",
        "drive.mount('/content/drive') #구글 드라이브 연동 코드\n",
        "\n",
        "!ls /content/drive #드라이브 확인\n",
        "\n",
        "from google.colab import files #업로드\n",
        "files.upload()"
      ],
      "execution_count": null,
      "outputs": []
    },
    {
      "cell_type": "markdown",
      "metadata": {
        "id": "pC-lw3kh_Mzz"
      },
      "source": [
        "#### Jupyter Notebook"
      ]
    },
    {
      "cell_type": "code",
      "metadata": {
        "id": "IjubF4d-A-f7"
      },
      "source": [
        "help(min)\n",
        "\n",
        "min?\n",
        "\n",
        "li = [\"one\",'two','three']\n",
        "li?\n",
        "li.count?\n",
        "\n",
        "def power(b,n):\n",
        "  \"\"\"b의 n승을 반환\"\"\"\n",
        "  return pow(b,m)\n",
        "\n",
        "power? #사용자 정의 함수의 정보 표기\n",
        "power?? #사용자 정의 함수의 source 표기\n",
        "\n",
        "#와일드 카드 매칭\n",
        "*Error? #단어의 마지막 글자로 매칭하여 속성 찾기\n",
        "str.*index*? #단어의 중간 글자로 매칭하여 속성 찾기\n",
        "\n",
        "#매직명령어 Jupyter notebook환경에서 파이썬 파일 저장 및 실행\n",
        "%%writefile test.py\n",
        "print('hello cola') #파이썬 파일 생성\n",
        "\n",
        "%run test.py #파이썬 파일 실행\n",
        "\n",
        "%%timeit #코드실행시간 측정\n",
        "%timeit li = [n ** n for n in range(10000)]\n",
        "%%timeit \n",
        "li = []\n",
        "for n in range(10000):\n",
        "  li.append(n ** n)\n",
        "\n",
        "In #이전 명령어 In[46]과 같이 슬라이싱 가능\n",
        "Out#이전 명령어의 결과물 Out[46]과 같이 슬라이싱 가능\n",
        "\n",
        "print(_) #이전 출력값\n",
        "print(__) #\n",
        "print(___) #\n",
        "_40 #40번째 출력값 확인\n",
        "%history -n 1-7 #1-7번까지의 입력 이력 살펴보기\n",
        "%rerun #이전 입력 이력 다시 실행"
      ],
      "execution_count": null,
      "outputs": []
    },
    {
      "cell_type": "markdown",
      "metadata": {
        "id": "NZI2aoDXE87E"
      },
      "source": [
        "#### 셀 명령어"
      ]
    },
    {
      "cell_type": "code",
      "metadata": {
        "colab": {
          "base_uri": "https://localhost:8080/"
        },
        "id": "9iwpdJxaEHQo",
        "outputId": "3401f809-7cab-41a9-efa8-7cc17035dada"
      },
      "source": [
        "!ls #디렉토리 리스트 보기\n",
        "!pwd #현재 경로 보기\n",
        "!cd KCase.log/ $$ ls #디렉토리 변경 !cd\n",
        "%cd sample_data/ #지속적인 디렉토리 변경 %cd\n",
        "!echo \"shell\" #화면 출력\n",
        "!mkdir tmp #디렉토리 생성\n",
        "!cat README.md # !cat 파일 보기\n",
        "!cp README.md tmp/ # !cp 디렉토리/파일 복사\n",
        "!rm -r tmp # 디렉토리/파일 삭제"
      ],
      "execution_count": null,
      "outputs": [
        {
          "output_type": "execute_result",
          "data": {
            "text/plain": [
              "{}"
            ]
          },
          "metadata": {
            "tags": []
          },
          "execution_count": 4
        }
      ]
    },
    {
      "cell_type": "markdown",
      "metadata": {
        "id": "E4vcuNgXFp5q"
      },
      "source": [
        "#### 마크다운"
      ]
    },
    {
      "cell_type": "markdown",
      "metadata": {
        "id": "fSJ0j0Y8CsKW"
      },
      "source": [
        "1. 첫째\n",
        "2. 둘째\n",
        "* 1단계\n",
        "  + 2단계\n",
        "    - *3단계*\n",
        "\n",
        "$a^b$\n"
      ]
    },
    {
      "cell_type": "markdown",
      "metadata": {
        "id": "Fu4Lk62RCivG"
      },
      "source": [
        "**bold**\n",
        "__bold__\n",
        "*itolic*"
      ]
    },
    {
      "cell_type": "markdown",
      "metadata": {
        "id": "gchOf72GD5lt"
      },
      "source": [
        "> 인용1\n",
        ">> 인 용2\n",
        ">>>인용3\n",
        "\n"
      ]
    },
    {
      "cell_type": "markdown",
      "metadata": {
        "id": "Km3c8In7GCsD"
      },
      "source": [
        "링크"
      ]
    },
    {
      "cell_type": "markdown",
      "metadata": {
        "id": "2NVoA14BEMqB"
      },
      "source": [
        "[google](https://www.google.com)"
      ]
    },
    {
      "cell_type": "markdown",
      "metadata": {
        "id": "6UogeoyKGCUf"
      },
      "source": [
        "이미지"
      ]
    },
    {
      "cell_type": "markdown",
      "metadata": {
        "id": "puOkShcgEnuq"
      },
      "source": [
        "![이미지](https://www.google.com/images/branding.googlelogo/1x/googlelogo_color_272x92dp.png)"
      ]
    },
    {
      "cell_type": "markdown",
      "metadata": {
        "id": "mVy5Qmd4Erlp"
      },
      "source": [
        "수평선\n",
        "\n",
        "\n"
      ]
    },
    {
      "cell_type": "markdown",
      "metadata": {
        "id": "VhNkI-8VEviE"
      },
      "source": [
        "---"
      ]
    },
    {
      "cell_type": "markdown",
      "metadata": {
        "id": "hBVgu-TnEyFt"
      },
      "source": [
        "표\n",
        "\n",
        "\n"
      ]
    },
    {
      "cell_type": "markdown",
      "metadata": {
        "id": "5X87z4qYFFF-"
      },
      "source": [
        "| C1 | C2 | C3  |\n",
        "|:---|---:|:---:|\n",
        "| D1 | D2 | D3 |"
      ]
    },
    {
      "cell_type": "markdown",
      "metadata": {
        "id": "hqpFpco_FMfT"
      },
      "source": [
        "코드\n",
        "\n",
        "\n",
        "\n",
        "\n"
      ]
    },
    {
      "cell_type": "markdown",
      "metadata": {
        "id": "uQXf54sq3NFu"
      },
      "source": [
        "`inline cod`\n",
        "\n",
        "```phthon\n",
        "def power(b,n)\n",
        " return pow(b,n)\n",
        "```\n"
      ]
    },
    {
      "cell_type": "markdown",
      "metadata": {
        "id": "QW_5tS9vGcjc"
      },
      "source": [
        "### **python**"
      ]
    },
    {
      "cell_type": "markdown",
      "metadata": {
        "id": "dInsfWas91TX"
      },
      "source": [
        "#### 변수, 자료형, 연산자"
      ]
    },
    {
      "cell_type": "code",
      "metadata": {
        "id": "vMQfJ7SEGYxY"
      },
      "source": [
        "a = 0b #2진수\n",
        "a = 0o #8진수\n",
        "a = 0x #16진수\n",
        "\n",
        "complex(1.2) #복소수형 변환\n",
        "str() #문자형 변환\n",
        "eval('1+2') #문자형에 포함된 수식을 계산\n",
        "\n",
        "set() #중복 제거\n",
        "set().count() #요소 갯수\n",
        "frozenset() #수정 불가능한 집합 자료형\n",
        "\n",
        "chr() #정수를 문자로 변환\n",
        "ord() #문자를 정수형으로 변환\n",
        "bin() #정수를 2진수 문자열로 변환\n",
        "oct() #정수를 8진수 문자열로 변환\n",
        "\n",
        "divmod() #나눈 값과 나머지 쌍으로 반환\n",
        "pow() #지수승의 값\n",
        "\n",
        "#비트 연산\n",
        "&, |, ^, ~\n",
        "#멤버 연산\n",
        "in, not in\n",
        "#식별 연산\n",
        "is, is not"
      ],
      "execution_count": null,
      "outputs": []
    },
    {
      "cell_type": "markdown",
      "metadata": {
        "id": "mnfwYGLb96lC"
      },
      "source": [
        "#### 문자열"
      ]
    },
    {
      "cell_type": "code",
      "metadata": {
        "id": "Gi-LUtCX987Y"
      },
      "source": [
        "#문자열 더하기\n",
        "s1 = \"동해물과\"\n",
        "s2 = \"백두산이\"\n",
        "print(s1+ s2) #동해물과백두산이\n",
        "\n",
        "#문자열 곱하기\n",
        "s1 * 3 #동해물과동해물과동해물과\n",
        "\n",
        "#인덱싱 s[1]\n",
        "#슬라이싱 s[1:3]\n",
        "\n",
        "s1.capitalize() #첫 문자가 대문자인 String\n",
        "s1.casefold() #모든 문자가 소문자인 string\n",
        "s1.count('s') #s의 갯수\n",
        "s1.find('s') #rfind()\n",
        "s1.index('s') #rindex() 찾고자 하는 문자의 인덱스 번호\n",
        "s1.isalnum() #문자나 알파엣, 숫자가 1개 이상이면 True\n",
        "s1.isalpha() #문자나 알파벳 1개 이상이면 True\n",
        "s1.isdecimal() #문자열의 모든 문자가 10진수 문자열이면 True (isdigit, isidenifier, isspace, istitle, islower, isupper)\n",
        "\n",
        "'_'.join(s1) #s1문자 사이 마다 _ 입력\n",
        "s1.center(10) #너비 10에 해당하는 문자열 가운데 정렬 ljust, rjust\n",
        "s1.title() #첫 문자가 대문자\n",
        "s1.swapcase() #대문자는 소문자로 소문자는 대문자로\n",
        "s1.strip() #공백제거 lstrip, rstrip\n",
        "s1.partition('s') #문자 s 기준으로 분할\n",
        "s1.rpartition('S') #마지막 문자 S를 기준으로 분할\n",
        "s1.replace('s','t') #s를 t로 변환\n",
        "s1.split('_',1) # 문자 _로 구분 한번만\n",
        "s1.startswith() #endswith()\n",
        "'123'.zfill(8) #문자열 s1에서 너비 8만큼 늘리고 비어있는 부분에 0으로 채워진 문자열 00000123 반환\n",
        "\n",
        "print('a : %d, b : %s'%(2,'apple'))\n",
        "print('%8s' % 'hello') #8칸중 hello입력\n",
        "print('%8.2f' % 3.141592)\n",
        "print('%-8.2f' % 3.141592) # -는 왼쪽정렬 의미\n",
        "print('{n}'.format(n=2)) \n",
        "print('{0:~^8}'.format('hello')) # ~hello~~, > : 오른쪽 정렬, < : 왼쪽 정렬\n",
        "\n",
        "s = 'apple'\n",
        "n = 1\n",
        "print(f'나는 {s}가 {n}개 있다.')\n",
        "print(f'{'hello':~^8}')\n",
        "print(f'{3.141592:8.2f}')\n"
      ],
      "execution_count": null,
      "outputs": []
    },
    {
      "cell_type": "markdown",
      "metadata": {
        "id": "hwjmnj8QKcGf"
      },
      "source": [
        "#### 리스트, 튜플, 세트, 딕셔너리"
      ]
    },
    {
      "cell_type": "code",
      "metadata": {
        "id": "57HpwKH2KgxJ"
      },
      "source": [
        "###리스트###\n",
        "list = ([1,2,3,['one','two','three']])\n",
        "list[3][0] # 'one'\n",
        "\n",
        "list.append([1,2])\n",
        "list.sort()\n",
        "list.reverse()\n",
        "list.index(1) #리스트 요소 값의 인덱스 반환\n",
        "list.insert(0) #리스트에 삽입\n",
        "list.remove(0)\n",
        "del list[0] #제거\n",
        "list.pop(0) #방출\n",
        "list.count() #리시트 요소 갯수\n",
        "list.extend([10,20])\n",
        "\n",
        "###튜플###\n",
        "tuple = ('one','two','three')\n",
        "\n",
        "###세트### 중복을 허용하지 않는 구조\n",
        "set1 & set2 # &, |, -, ^\n",
        "\n",
        "set_1 = {10,20,30}\n",
        "set_2 = {10,20,40}\n",
        "set_1.intersection()\n",
        "set_1.union()\n",
        "set_1.difference()\n",
        "set_1.symmetric_difference() #여집합\n",
        "set_1.add() # .update(), .remove(), .discard() : 제거, .clear()\n",
        "\n",
        "###딕셔너리###\n",
        "dic = {1 : 'one', 2: 'two'}\n",
        "dic[3] = 'three' #추가\n",
        "del dic[3] #제거\n",
        "dic.keys()\n",
        "dic.values()\n",
        "dic.items()\n",
        "dic.get(2)\n",
        "dic.pop(3)\n",
        "dic.clear()"
      ],
      "execution_count": null,
      "outputs": []
    },
    {
      "cell_type": "markdown",
      "metadata": {
        "id": "vqsRtzSqNwLV"
      },
      "source": [
        "#### 제어문"
      ]
    },
    {
      "cell_type": "code",
      "metadata": {
        "id": "SjwkDJNHNwm_"
      },
      "source": [
        "if 10 > 5: \n",
        "  print(10)\n",
        "else:\n",
        "  pass #오류가 발생하지 않도록 넘어가는 기능\n",
        "\n",
        "#논리 연산\n",
        "and, or, not\n",
        "#멤버 연산\n",
        "in, not in\n",
        "#식별 연산\n",
        "is, is not\n",
        "\n",
        "score = 75\n",
        "line = '통과' if score <= 70 else '탈락' # 한 줄로 조건식 표현\n",
        "\n",
        "for _ in range(5): # _ 대신 n도 가능\n",
        "  print('a') # a를 5번 출력\n",
        "\n",
        "[i * 2 for i in range(10) if i % 2 == 0] #리스트 안에 for 문과 if 문 사용\n",
        "\n",
        "#ZeroDivisionError  #NameError  #TypeError  #ValueError\n",
        "\n",
        "try: #예외 발생 가능한 코드에 정의\n",
        "  print(2/20)\n",
        "except: #예외 처리 방법을 정의\n",
        "  print('error')\n",
        "except ZeroDivisionError as e: #에러 분류에 따른 except 문\n",
        "  print(e)\n",
        "\n",
        "raise ZeroDivisionError(\"숫자는 0으로 나눔\") #직접적으로 에러발생, 에러 종류와 상황을 정의\n",
        "\n",
        "assert False, '에러 메세지' #검증을 위한 목적으로 작성, 검증식이 False일 경우 AssertionErro 발생"
      ],
      "execution_count": null,
      "outputs": []
    },
    {
      "cell_type": "markdown",
      "metadata": {
        "id": "-Wn6cD5ZRrPW"
      },
      "source": [
        "#### 입력과 출력"
      ]
    },
    {
      "cell_type": "code",
      "metadata": {
        "id": "tLjrpSgCRriO"
      },
      "source": [
        "name = input(\"이름 : \")\n",
        "\n",
        "print(\"hello\",\"world\", sep = \"---\",end=' ') # hello---word 1 2 3\n",
        "print(1,2,3)\n",
        "\n",
        "###구구단 출력\n",
        "for i in range(2,10):\n",
        "  for j in range(1,10):\n",
        "    print('{0} x {1} = {2}'.format(i,j,i*j), end = '\\t')\n",
        "  print() # 각 단마다 횡으로 출력\n",
        "\n",
        "list = ['one\\n','two\\n']\n",
        "text = [str(text + '\\n') for text in input(\"여러 값 입력: \").split()]\n",
        "f = open('file.txt','w') # 'w' or 'r'\n",
        "f.write('hello')\n",
        "f.write(text)\n",
        "f.writelines(list)\n",
        "\n",
        "f = open('anthem.txt', 'r')\n",
        "lines = f.readlines()\n",
        "print(line)\n",
        "\n",
        "while True:\n",
        "  line = f.readline()\n",
        "  if not line: break\n",
        "  print(line)\n",
        "\n",
        "f.read() #텍스트 파일을 읽고 화면에 출력\n",
        "f.tell() #파일 포인터 위치 변경\n",
        "f.seek() #파일 포인터 위치 이동\n",
        "\n",
        "with open('file.txt','w') as f: #with문 항상 파일을 open()으로 열고 close()로 닫는 일처리를 자동으로 처리\n",
        "  f.write('hello')\n",
        "\n",
        "f.close()\n",
        "\n",
        "import os\n",
        "import shutil\n",
        "\n",
        "os.mkdir('test') #디렉토리 생성\n",
        "shutil.copy() #파일 복사\n",
        "shuyil.copytree('test','test2') #디렉토리 전체 복사\n",
        "\n",
        "import os.path\n",
        "print(os.path.isdir('test')) #디렉토리 존재확인\n",
        "print(os.path.isdir('test/1'))\n",
        "print(os.path.isfile('unnane.jpg')) #파일 존재 확인\n",
        "print(os.path.exists('test/3')) #디렉토리/파일 존재확인\n",
        "\n",
        "for dir_name, dir_list,file_names in os.walk('./'): #,/현재디렉토레이 대해서만 위치값 제공\n",
        "  for file_name in file_names:\n",
        "    print(os.path.join(dir_name, file_name))\n",
        "\n",
        "shutil.rmtree('text') #디렉토리 안에 있는 모든 파일/디렉토리 삭제\n",
        "os.remove('unname_1.jpg') #파일 삭제\n",
        "\n",
        "print(os.path.getsize('KakaoTalk_20200413_153217771.jpg')) #파일크기 바이트 단위로 출력\n",
        "\n",
        "import zipfile #파일 압축\n",
        "comp = zipfile.ZipFile('new.zip','w')\n",
        "comp.write('KakaoTalk_20200413_153217771.jpg')\n",
        "comp.close()\n",
        "\n",
        "decomp = zipfile.ZipFile('new.zip','r') #압축 파일 열기\n",
        "decomp.extractall('new')\n",
        "decomp.close()"
      ],
      "execution_count": null,
      "outputs": []
    },
    {
      "cell_type": "markdown",
      "metadata": {
        "id": "CSsDRyv8SXFY"
      },
      "source": [
        "####함수"
      ]
    },
    {
      "cell_type": "code",
      "metadata": {
        "id": "quVdjlFISdgo"
      },
      "source": [
        "def square(num): #num 매개변수\n",
        "  global a #전역변수 지정\n",
        "\n",
        "def sum(*args): # *args 가변매개변수\n",
        "\n",
        "def print_kwargs(**kwargs): # **kwargs 가변 키워드 매개변수\n",
        "\n",
        "def power(b=2,n=2): # default 설정\n",
        "\n",
        "def count(n): #재귀함수 자기 함수를 다시 부르는 함수\n",
        "  if n>= 1:\n",
        "    print(n, end= ' ')\n",
        "    count(n-1)\n",
        "\n",
        "add2 = lambda n1,n2 : n1 + n2 #람다 함수 : 한줄로 간결하게 표현\n",
        "\n",
        "li = [1,2,3,4,5]\n",
        "square = lambda n :n*n\n",
        "li = list(map(square, li)) # map, 람다를 사용하여 리스트 계산\n",
        "\n",
        "evens = filter(lambda n : n % 2 is 0,li) # 특정 조건에 해당하는 값으로 필터링\n",
        "\n",
        "import functools\n",
        "sum = functools.reduce(lambda x,y : x + y,li) #데이터를 축약하여 하나의 값으로 만들어 가는 과정\n",
        "\n",
        "def gen(): #함수 안에서 yield를 사용하면 제너레이터\n",
        "  yield 1 #함수를 끝내지 않고 값을 계속 반환\n",
        "  yield 2\n",
        "\n",
        "g = gen()\n",
        "print(next(g)) #1\n",
        "print(next(g)) #2\n",
        "\n",
        "##짝수만 생성하는 제너레이터\n",
        "'''\n",
        "def gen_even(n):\n",
        "  for i in range(n):\n",
        "    if i % 2 ==0:\n",
        "      yield i\n",
        "\n",
        "for i in gen_even(10):\n",
        " print(i)\n",
        "'''"
      ],
      "execution_count": null,
      "outputs": []
    },
    {
      "cell_type": "markdown",
      "metadata": {
        "id": "1uU1iAoRSW_h"
      },
      "source": [
        "####객체와 클래스"
      ]
    },
    {
      "cell_type": "code",
      "metadata": {
        "id": "An6dQjvwSdVM"
      },
      "source": [
        "class Book(object):\n",
        "  author = '' #인스턴스 속성\n",
        "  count = 0 #클래스 속성\n",
        "\n",
        "  def __init__(self, author):\n",
        "    self.author = author\n",
        "    Book.count += 1\n",
        "\n",
        "  def __str__(self): #print(b1) 시 나타나게 하는 문구\n",
        "    return('author : ' + self.author )\n",
        "\n",
        "  def print_info(self): #self는 실제적으로 book인스턴스를 의미, print_info : 메소드\n",
        "    print('author: ',self.author)\n",
        "    print('name: ', self.name) \n",
        "\n",
        "b1 = Book()\n",
        "Book.count += 1\n",
        "b1.author = 'Kim'\n",
        "\n",
        "class Line(object):\n",
        "  length = 0\n",
        "\n",
        "  def __init__(self,length):\n",
        "    self.length = length\n",
        "    print(self.length,'길이의 선 생성')\n",
        "\n",
        "  def __del__(self):\n",
        "    return print(self.length,'길이의 선 제거') #del(l1)\n",
        "\n",
        "  def __repr__(self):\n",
        "    return str(self.length)\n",
        "  \n",
        "  def __add__(self,other):\n",
        "    return self.length + other.length\n",
        "\n",
        "  def __lt__(self,other):\n",
        "    return self.length < other.length\n",
        "    \n",
        "  def __le__(self,other):\n",
        "    return self.length <= other.length\n",
        "    \n",
        "  def __gt__(self,other):\n",
        "    return self.length > other.length\n",
        "\n",
        "  def __ge__(self,other):\n",
        "    return self.length >= other.length\n",
        "    \n",
        "  def __eq__(self,other):\n",
        "    return self.length == other.length\n",
        "    \n",
        "  def __ne__(self,other):\n",
        "    return self.length != other.length\n",
        "\n",
        "l1 = Line(30)\n",
        "\n",
        "### __items 속성 ###\n",
        "class Box(object):\n",
        "  def __init__(self,name):\n",
        "    self.name = name\n",
        "    self.__items = []\n",
        "  \n",
        "  def add_item(self,item):\n",
        "    self.__items.append(item) #Box객체 외부에서 보이지 않도록 캡슐화와 정보 은닉이 가능\n",
        "    print('아이템 추가')\n",
        "  \n",
        "  def get_number_of_items(self):\n",
        "    return len(self.__items)\n",
        "\n",
        "### 클래스 상속 ###\n",
        "class SuperClass(object):\n",
        "  def method(self):\n",
        "    pass\n",
        "class SubClass(SuperClass):\n",
        "  pass\n",
        "\n",
        "sub = SubClass()\n",
        "sub.method() #오버라이딩\n",
        "\n"
      ],
      "execution_count": null,
      "outputs": []
    },
    {
      "cell_type": "markdown",
      "metadata": {
        "id": "4kZB5ADTSWwb"
      },
      "source": [
        "####모듈과 패키지"
      ]
    },
    {
      "cell_type": "code",
      "metadata": {
        "id": "avDkV7f3SdHv"
      },
      "source": [
        "#사용자 정의 모듈\n",
        "%%writefile Module.py \n",
        "def func1():\n",
        "  print('Module.py: func1()')"
      ],
      "execution_count": null,
      "outputs": []
    },
    {
      "cell_type": "code",
      "metadata": {
        "id": "W30lT8wPaWX9"
      },
      "source": [
        "%load Module.py\n",
        "%run Module.py\n",
        "\n",
        "import Module\n",
        "Module.func1()\n",
        "\n",
        "from Module import *\n",
        "Module.func1()\n",
        "\n",
        "import sys #파이썬 기본 모듈\n",
        "print(sys.builtin_module_names)\n",
        "\n",
        "import time #시간 모듈\n",
        "print(dir(time))\n",
        "\n",
        "from datetime import date\n",
        "print(date(year = 2010, month = 1, day = 1)) # 2000-01-01\n",
        "today = date.today() #현재 날짜\n",
        "year = str(today.year)\n",
        "month = str(today.month)\n",
        "day = str(today.day)\n",
        "\n",
        "from datetime import time\n",
        "print(time(18,59,15,100000)) #18:59:15.100000\n",
        "now = time(20,40,15,2000) #현재 시간\n",
        "hour = str(now.hour)\n",
        "minute = str(now.minute)\n",
        "sec = str(now.second)\n",
        "msec = str(now.microsecond)\n",
        "\n",
        "from datetime import datetime\n",
        "now = datetime.now()\n",
        "print(now.strftime('%Y년 %m월 %d일 %H시 %M분 %S 초'))\n",
        "print(now.strftime('%y/%m/%d %p %l:%m:%S:%f'))\n",
        "\n",
        "import math\n",
        "print(math.factorial(3))\n",
        "print(math.gcd(12,24))\n",
        "print(math.floor(math.pi))\n",
        "print(math.ceil(math.pi))\n",
        "print(math.pow(2,10))\n",
        "print(math.sqrt(10))\n",
        "print(math.log(10,2))\n",
        "print(math.degrees(math.pi))\n",
        "print(math.radians(180))\n",
        "print(math.sin(math.radians(90)))\n",
        "print(math.cos(math.radians(180)))\n",
        "\n",
        "import itertools #곱집합, 순열, 조합등을 구하는 함수 제공\n",
        "list_1 = ['a','b','c']\n",
        "list_2 = [1,2]\n",
        "list_cp = list(itertools.product(list_1,list_2)) #곱집합\n",
        "list_p = list(itertools.permutations(list_1,2)) #순열\n",
        "list_c = list(itertools.combinations(list_1,2)) #조합\n",
        "list_cr = list(itertools.combinations_with_replacement(list_1,2)) #중복 조합\n",
        "\n",
        "import statistics\n",
        "values = [56,44,67,47,82,64,81,85,94]\n",
        "print(statistics.median(values)) #중간값\n",
        "print(statistics.mean(values)) #평균값\n",
        "print(statistics.harmonic_mean(values)) #조화평균\n",
        "print(statistics.stdev(values)) #표준편차\n",
        "print(statistics.variance(values)) #분산\n",
        "\n",
        "import random\n",
        "print(random.random()) #0과 1사이의 실수 하나\n",
        "print(random.randint(1,10)) #1~9사이의 정수\n",
        "print(random.randrange(0,10,2)) #0~9까지\n",
        "\n",
        "li = [10,20,30,40,50]\n",
        "print(random.choice(li)) #샘플 1개\n",
        "print(random.sample(li,2)) #샘플 n개\n",
        "random.shuffle(li) #순서 섞기"
      ],
      "execution_count": null,
      "outputs": []
    }
  ]
}